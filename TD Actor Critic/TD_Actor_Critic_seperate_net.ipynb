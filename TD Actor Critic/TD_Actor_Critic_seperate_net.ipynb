{
  "nbformat": 4,
  "nbformat_minor": 0,
  "metadata": {
    "colab": {
      "name": "TD_Actor Critic_seperate_net.ipynb",
      "provenance": [],
      "collapsed_sections": []
    },
    "kernelspec": {
      "name": "python3",
      "display_name": "Python 3"
    },
    "language_info": {
      "name": "python"
    },
    "accelerator": "GPU",
    "widgets": {
      "application/vnd.jupyter.widget-state+json": {
        "ffe5f88c06804cdea58ba74f377c202d": {
          "model_module": "@jupyter-widgets/controls",
          "model_name": "VBoxModel",
          "state": {
            "_view_name": "VBoxView",
            "_dom_classes": [],
            "_model_name": "VBoxModel",
            "_view_module": "@jupyter-widgets/controls",
            "_model_module_version": "1.5.0",
            "_view_count": null,
            "_view_module_version": "1.5.0",
            "box_style": "",
            "layout": "IPY_MODEL_4743963d5d384682bcacde36bc0e64cf",
            "_model_module": "@jupyter-widgets/controls",
            "children": [
              "IPY_MODEL_a2934665655845de8baf075998e49338",
              "IPY_MODEL_11adc8ac1a5e4f9895d07eace44d178e"
            ]
          }
        },
        "4743963d5d384682bcacde36bc0e64cf": {
          "model_module": "@jupyter-widgets/base",
          "model_name": "LayoutModel",
          "state": {
            "_view_name": "LayoutView",
            "grid_template_rows": null,
            "right": null,
            "justify_content": null,
            "_view_module": "@jupyter-widgets/base",
            "overflow": null,
            "_model_module_version": "1.2.0",
            "_view_count": null,
            "flex_flow": null,
            "width": null,
            "min_width": null,
            "border": null,
            "align_items": null,
            "bottom": null,
            "_model_module": "@jupyter-widgets/base",
            "top": null,
            "grid_column": null,
            "overflow_y": null,
            "overflow_x": null,
            "grid_auto_flow": null,
            "grid_area": null,
            "grid_template_columns": null,
            "flex": null,
            "_model_name": "LayoutModel",
            "justify_items": null,
            "grid_row": null,
            "max_height": null,
            "align_content": null,
            "visibility": null,
            "align_self": null,
            "height": null,
            "min_height": null,
            "padding": null,
            "grid_auto_rows": null,
            "grid_gap": null,
            "max_width": null,
            "order": null,
            "_view_module_version": "1.2.0",
            "grid_template_areas": null,
            "object_position": null,
            "object_fit": null,
            "grid_auto_columns": null,
            "margin": null,
            "display": null,
            "left": null
          }
        },
        "a2934665655845de8baf075998e49338": {
          "model_module": "@jupyter-widgets/controls",
          "model_name": "LabelModel",
          "state": {
            "_view_name": "LabelView",
            "style": "IPY_MODEL_50ebceff2330408180e237f32e596d5f",
            "_dom_classes": [],
            "description": "",
            "_model_name": "LabelModel",
            "placeholder": "​",
            "_view_module": "@jupyter-widgets/controls",
            "_model_module_version": "1.5.0",
            "value": " 0.32MB of 0.32MB uploaded (0.00MB deduped)\r",
            "_view_count": null,
            "_view_module_version": "1.5.0",
            "description_tooltip": null,
            "_model_module": "@jupyter-widgets/controls",
            "layout": "IPY_MODEL_af26a315e5e04c109ad5ecde825b41c8"
          }
        },
        "11adc8ac1a5e4f9895d07eace44d178e": {
          "model_module": "@jupyter-widgets/controls",
          "model_name": "FloatProgressModel",
          "state": {
            "_view_name": "ProgressView",
            "style": "IPY_MODEL_40e60e3619414b6c9050ee843a4e3aa6",
            "_dom_classes": [],
            "description": "",
            "_model_name": "FloatProgressModel",
            "bar_style": "",
            "max": 1,
            "_view_module": "@jupyter-widgets/controls",
            "_model_module_version": "1.5.0",
            "value": 1,
            "_view_count": null,
            "_view_module_version": "1.5.0",
            "orientation": "horizontal",
            "min": 0,
            "description_tooltip": null,
            "_model_module": "@jupyter-widgets/controls",
            "layout": "IPY_MODEL_4d7d3036312543e78841ec4d62faebd1"
          }
        },
        "50ebceff2330408180e237f32e596d5f": {
          "model_module": "@jupyter-widgets/controls",
          "model_name": "DescriptionStyleModel",
          "state": {
            "_view_name": "StyleView",
            "_model_name": "DescriptionStyleModel",
            "description_width": "",
            "_view_module": "@jupyter-widgets/base",
            "_model_module_version": "1.5.0",
            "_view_count": null,
            "_view_module_version": "1.2.0",
            "_model_module": "@jupyter-widgets/controls"
          }
        },
        "af26a315e5e04c109ad5ecde825b41c8": {
          "model_module": "@jupyter-widgets/base",
          "model_name": "LayoutModel",
          "state": {
            "_view_name": "LayoutView",
            "grid_template_rows": null,
            "right": null,
            "justify_content": null,
            "_view_module": "@jupyter-widgets/base",
            "overflow": null,
            "_model_module_version": "1.2.0",
            "_view_count": null,
            "flex_flow": null,
            "width": null,
            "min_width": null,
            "border": null,
            "align_items": null,
            "bottom": null,
            "_model_module": "@jupyter-widgets/base",
            "top": null,
            "grid_column": null,
            "overflow_y": null,
            "overflow_x": null,
            "grid_auto_flow": null,
            "grid_area": null,
            "grid_template_columns": null,
            "flex": null,
            "_model_name": "LayoutModel",
            "justify_items": null,
            "grid_row": null,
            "max_height": null,
            "align_content": null,
            "visibility": null,
            "align_self": null,
            "height": null,
            "min_height": null,
            "padding": null,
            "grid_auto_rows": null,
            "grid_gap": null,
            "max_width": null,
            "order": null,
            "_view_module_version": "1.2.0",
            "grid_template_areas": null,
            "object_position": null,
            "object_fit": null,
            "grid_auto_columns": null,
            "margin": null,
            "display": null,
            "left": null
          }
        },
        "40e60e3619414b6c9050ee843a4e3aa6": {
          "model_module": "@jupyter-widgets/controls",
          "model_name": "ProgressStyleModel",
          "state": {
            "_view_name": "StyleView",
            "_model_name": "ProgressStyleModel",
            "description_width": "",
            "_view_module": "@jupyter-widgets/base",
            "_model_module_version": "1.5.0",
            "_view_count": null,
            "_view_module_version": "1.2.0",
            "bar_color": null,
            "_model_module": "@jupyter-widgets/controls"
          }
        },
        "4d7d3036312543e78841ec4d62faebd1": {
          "model_module": "@jupyter-widgets/base",
          "model_name": "LayoutModel",
          "state": {
            "_view_name": "LayoutView",
            "grid_template_rows": null,
            "right": null,
            "justify_content": null,
            "_view_module": "@jupyter-widgets/base",
            "overflow": null,
            "_model_module_version": "1.2.0",
            "_view_count": null,
            "flex_flow": null,
            "width": null,
            "min_width": null,
            "border": null,
            "align_items": null,
            "bottom": null,
            "_model_module": "@jupyter-widgets/base",
            "top": null,
            "grid_column": null,
            "overflow_y": null,
            "overflow_x": null,
            "grid_auto_flow": null,
            "grid_area": null,
            "grid_template_columns": null,
            "flex": null,
            "_model_name": "LayoutModel",
            "justify_items": null,
            "grid_row": null,
            "max_height": null,
            "align_content": null,
            "visibility": null,
            "align_self": null,
            "height": null,
            "min_height": null,
            "padding": null,
            "grid_auto_rows": null,
            "grid_gap": null,
            "max_width": null,
            "order": null,
            "_view_module_version": "1.2.0",
            "grid_template_areas": null,
            "object_position": null,
            "object_fit": null,
            "grid_auto_columns": null,
            "margin": null,
            "display": null,
            "left": null
          }
        },
        "62cd485c32114654b232cec9637e027c": {
          "model_module": "@jupyter-widgets/controls",
          "model_name": "VBoxModel",
          "state": {
            "_view_name": "VBoxView",
            "_dom_classes": [],
            "_model_name": "VBoxModel",
            "_view_module": "@jupyter-widgets/controls",
            "_model_module_version": "1.5.0",
            "_view_count": null,
            "_view_module_version": "1.5.0",
            "box_style": "",
            "layout": "IPY_MODEL_ff83e4f6bbfe4d3ca612a09fc8939244",
            "_model_module": "@jupyter-widgets/controls",
            "children": [
              "IPY_MODEL_721cc65a45a8481290ca80e4b75d9854",
              "IPY_MODEL_9128154437e2496daf48102a2beda415"
            ]
          }
        },
        "ff83e4f6bbfe4d3ca612a09fc8939244": {
          "model_module": "@jupyter-widgets/base",
          "model_name": "LayoutModel",
          "state": {
            "_view_name": "LayoutView",
            "grid_template_rows": null,
            "right": null,
            "justify_content": null,
            "_view_module": "@jupyter-widgets/base",
            "overflow": null,
            "_model_module_version": "1.2.0",
            "_view_count": null,
            "flex_flow": null,
            "width": null,
            "min_width": null,
            "border": null,
            "align_items": null,
            "bottom": null,
            "_model_module": "@jupyter-widgets/base",
            "top": null,
            "grid_column": null,
            "overflow_y": null,
            "overflow_x": null,
            "grid_auto_flow": null,
            "grid_area": null,
            "grid_template_columns": null,
            "flex": null,
            "_model_name": "LayoutModel",
            "justify_items": null,
            "grid_row": null,
            "max_height": null,
            "align_content": null,
            "visibility": null,
            "align_self": null,
            "height": null,
            "min_height": null,
            "padding": null,
            "grid_auto_rows": null,
            "grid_gap": null,
            "max_width": null,
            "order": null,
            "_view_module_version": "1.2.0",
            "grid_template_areas": null,
            "object_position": null,
            "object_fit": null,
            "grid_auto_columns": null,
            "margin": null,
            "display": null,
            "left": null
          }
        },
        "721cc65a45a8481290ca80e4b75d9854": {
          "model_module": "@jupyter-widgets/controls",
          "model_name": "LabelModel",
          "state": {
            "_view_name": "LabelView",
            "style": "IPY_MODEL_4c2648a24e584383b490bdff63221e8e",
            "_dom_classes": [],
            "description": "",
            "_model_name": "LabelModel",
            "placeholder": "​",
            "_view_module": "@jupyter-widgets/controls",
            "_model_module_version": "1.5.0",
            "value": " 0.33MB of 0.33MB uploaded (0.00MB deduped)\r",
            "_view_count": null,
            "_view_module_version": "1.5.0",
            "description_tooltip": null,
            "_model_module": "@jupyter-widgets/controls",
            "layout": "IPY_MODEL_438bf2f7f325433da8f253e65d366c3a"
          }
        },
        "9128154437e2496daf48102a2beda415": {
          "model_module": "@jupyter-widgets/controls",
          "model_name": "FloatProgressModel",
          "state": {
            "_view_name": "ProgressView",
            "style": "IPY_MODEL_c71702b8f9c144d3b6ec8d82509baf67",
            "_dom_classes": [],
            "description": "",
            "_model_name": "FloatProgressModel",
            "bar_style": "",
            "max": 1,
            "_view_module": "@jupyter-widgets/controls",
            "_model_module_version": "1.5.0",
            "value": 1,
            "_view_count": null,
            "_view_module_version": "1.5.0",
            "orientation": "horizontal",
            "min": 0,
            "description_tooltip": null,
            "_model_module": "@jupyter-widgets/controls",
            "layout": "IPY_MODEL_698c084256304070bf1fda82635570f8"
          }
        },
        "4c2648a24e584383b490bdff63221e8e": {
          "model_module": "@jupyter-widgets/controls",
          "model_name": "DescriptionStyleModel",
          "state": {
            "_view_name": "StyleView",
            "_model_name": "DescriptionStyleModel",
            "description_width": "",
            "_view_module": "@jupyter-widgets/base",
            "_model_module_version": "1.5.0",
            "_view_count": null,
            "_view_module_version": "1.2.0",
            "_model_module": "@jupyter-widgets/controls"
          }
        },
        "438bf2f7f325433da8f253e65d366c3a": {
          "model_module": "@jupyter-widgets/base",
          "model_name": "LayoutModel",
          "state": {
            "_view_name": "LayoutView",
            "grid_template_rows": null,
            "right": null,
            "justify_content": null,
            "_view_module": "@jupyter-widgets/base",
            "overflow": null,
            "_model_module_version": "1.2.0",
            "_view_count": null,
            "flex_flow": null,
            "width": null,
            "min_width": null,
            "border": null,
            "align_items": null,
            "bottom": null,
            "_model_module": "@jupyter-widgets/base",
            "top": null,
            "grid_column": null,
            "overflow_y": null,
            "overflow_x": null,
            "grid_auto_flow": null,
            "grid_area": null,
            "grid_template_columns": null,
            "flex": null,
            "_model_name": "LayoutModel",
            "justify_items": null,
            "grid_row": null,
            "max_height": null,
            "align_content": null,
            "visibility": null,
            "align_self": null,
            "height": null,
            "min_height": null,
            "padding": null,
            "grid_auto_rows": null,
            "grid_gap": null,
            "max_width": null,
            "order": null,
            "_view_module_version": "1.2.0",
            "grid_template_areas": null,
            "object_position": null,
            "object_fit": null,
            "grid_auto_columns": null,
            "margin": null,
            "display": null,
            "left": null
          }
        },
        "c71702b8f9c144d3b6ec8d82509baf67": {
          "model_module": "@jupyter-widgets/controls",
          "model_name": "ProgressStyleModel",
          "state": {
            "_view_name": "StyleView",
            "_model_name": "ProgressStyleModel",
            "description_width": "",
            "_view_module": "@jupyter-widgets/base",
            "_model_module_version": "1.5.0",
            "_view_count": null,
            "_view_module_version": "1.2.0",
            "bar_color": null,
            "_model_module": "@jupyter-widgets/controls"
          }
        },
        "698c084256304070bf1fda82635570f8": {
          "model_module": "@jupyter-widgets/base",
          "model_name": "LayoutModel",
          "state": {
            "_view_name": "LayoutView",
            "grid_template_rows": null,
            "right": null,
            "justify_content": null,
            "_view_module": "@jupyter-widgets/base",
            "overflow": null,
            "_model_module_version": "1.2.0",
            "_view_count": null,
            "flex_flow": null,
            "width": null,
            "min_width": null,
            "border": null,
            "align_items": null,
            "bottom": null,
            "_model_module": "@jupyter-widgets/base",
            "top": null,
            "grid_column": null,
            "overflow_y": null,
            "overflow_x": null,
            "grid_auto_flow": null,
            "grid_area": null,
            "grid_template_columns": null,
            "flex": null,
            "_model_name": "LayoutModel",
            "justify_items": null,
            "grid_row": null,
            "max_height": null,
            "align_content": null,
            "visibility": null,
            "align_self": null,
            "height": null,
            "min_height": null,
            "padding": null,
            "grid_auto_rows": null,
            "grid_gap": null,
            "max_width": null,
            "order": null,
            "_view_module_version": "1.2.0",
            "grid_template_areas": null,
            "object_position": null,
            "object_fit": null,
            "grid_auto_columns": null,
            "margin": null,
            "display": null,
            "left": null
          }
        },
        "b4462152f9734462b77434657ba7799a": {
          "model_module": "@jupyter-widgets/controls",
          "model_name": "VBoxModel",
          "state": {
            "_view_name": "VBoxView",
            "_dom_classes": [],
            "_model_name": "VBoxModel",
            "_view_module": "@jupyter-widgets/controls",
            "_model_module_version": "1.5.0",
            "_view_count": null,
            "_view_module_version": "1.5.0",
            "box_style": "",
            "layout": "IPY_MODEL_984cebe4aa90463893e5c316e6db0f07",
            "_model_module": "@jupyter-widgets/controls",
            "children": [
              "IPY_MODEL_6e012e9a6d8c432aa86accd942f096be",
              "IPY_MODEL_3b53311158244c6dbed2fbcc5671fdd9"
            ]
          }
        },
        "984cebe4aa90463893e5c316e6db0f07": {
          "model_module": "@jupyter-widgets/base",
          "model_name": "LayoutModel",
          "state": {
            "_view_name": "LayoutView",
            "grid_template_rows": null,
            "right": null,
            "justify_content": null,
            "_view_module": "@jupyter-widgets/base",
            "overflow": null,
            "_model_module_version": "1.2.0",
            "_view_count": null,
            "flex_flow": null,
            "width": null,
            "min_width": null,
            "border": null,
            "align_items": null,
            "bottom": null,
            "_model_module": "@jupyter-widgets/base",
            "top": null,
            "grid_column": null,
            "overflow_y": null,
            "overflow_x": null,
            "grid_auto_flow": null,
            "grid_area": null,
            "grid_template_columns": null,
            "flex": null,
            "_model_name": "LayoutModel",
            "justify_items": null,
            "grid_row": null,
            "max_height": null,
            "align_content": null,
            "visibility": null,
            "align_self": null,
            "height": null,
            "min_height": null,
            "padding": null,
            "grid_auto_rows": null,
            "grid_gap": null,
            "max_width": null,
            "order": null,
            "_view_module_version": "1.2.0",
            "grid_template_areas": null,
            "object_position": null,
            "object_fit": null,
            "grid_auto_columns": null,
            "margin": null,
            "display": null,
            "left": null
          }
        },
        "6e012e9a6d8c432aa86accd942f096be": {
          "model_module": "@jupyter-widgets/controls",
          "model_name": "LabelModel",
          "state": {
            "_view_name": "LabelView",
            "style": "IPY_MODEL_2d0f3bbed81a41cf81e260deac9b07da",
            "_dom_classes": [],
            "description": "",
            "_model_name": "LabelModel",
            "placeholder": "​",
            "_view_module": "@jupyter-widgets/controls",
            "_model_module_version": "1.5.0",
            "value": " 0.35MB of 0.35MB uploaded (0.00MB deduped)\r",
            "_view_count": null,
            "_view_module_version": "1.5.0",
            "description_tooltip": null,
            "_model_module": "@jupyter-widgets/controls",
            "layout": "IPY_MODEL_59ec0532e2974014a2b95b35d1c8567b"
          }
        },
        "3b53311158244c6dbed2fbcc5671fdd9": {
          "model_module": "@jupyter-widgets/controls",
          "model_name": "FloatProgressModel",
          "state": {
            "_view_name": "ProgressView",
            "style": "IPY_MODEL_886f5508a3ec48779611f631f7f8d4e5",
            "_dom_classes": [],
            "description": "",
            "_model_name": "FloatProgressModel",
            "bar_style": "",
            "max": 1,
            "_view_module": "@jupyter-widgets/controls",
            "_model_module_version": "1.5.0",
            "value": 1,
            "_view_count": null,
            "_view_module_version": "1.5.0",
            "orientation": "horizontal",
            "min": 0,
            "description_tooltip": null,
            "_model_module": "@jupyter-widgets/controls",
            "layout": "IPY_MODEL_70aa396ee151407dbd0c3f02fa9d5445"
          }
        },
        "2d0f3bbed81a41cf81e260deac9b07da": {
          "model_module": "@jupyter-widgets/controls",
          "model_name": "DescriptionStyleModel",
          "state": {
            "_view_name": "StyleView",
            "_model_name": "DescriptionStyleModel",
            "description_width": "",
            "_view_module": "@jupyter-widgets/base",
            "_model_module_version": "1.5.0",
            "_view_count": null,
            "_view_module_version": "1.2.0",
            "_model_module": "@jupyter-widgets/controls"
          }
        },
        "59ec0532e2974014a2b95b35d1c8567b": {
          "model_module": "@jupyter-widgets/base",
          "model_name": "LayoutModel",
          "state": {
            "_view_name": "LayoutView",
            "grid_template_rows": null,
            "right": null,
            "justify_content": null,
            "_view_module": "@jupyter-widgets/base",
            "overflow": null,
            "_model_module_version": "1.2.0",
            "_view_count": null,
            "flex_flow": null,
            "width": null,
            "min_width": null,
            "border": null,
            "align_items": null,
            "bottom": null,
            "_model_module": "@jupyter-widgets/base",
            "top": null,
            "grid_column": null,
            "overflow_y": null,
            "overflow_x": null,
            "grid_auto_flow": null,
            "grid_area": null,
            "grid_template_columns": null,
            "flex": null,
            "_model_name": "LayoutModel",
            "justify_items": null,
            "grid_row": null,
            "max_height": null,
            "align_content": null,
            "visibility": null,
            "align_self": null,
            "height": null,
            "min_height": null,
            "padding": null,
            "grid_auto_rows": null,
            "grid_gap": null,
            "max_width": null,
            "order": null,
            "_view_module_version": "1.2.0",
            "grid_template_areas": null,
            "object_position": null,
            "object_fit": null,
            "grid_auto_columns": null,
            "margin": null,
            "display": null,
            "left": null
          }
        },
        "886f5508a3ec48779611f631f7f8d4e5": {
          "model_module": "@jupyter-widgets/controls",
          "model_name": "ProgressStyleModel",
          "state": {
            "_view_name": "StyleView",
            "_model_name": "ProgressStyleModel",
            "description_width": "",
            "_view_module": "@jupyter-widgets/base",
            "_model_module_version": "1.5.0",
            "_view_count": null,
            "_view_module_version": "1.2.0",
            "bar_color": null,
            "_model_module": "@jupyter-widgets/controls"
          }
        },
        "70aa396ee151407dbd0c3f02fa9d5445": {
          "model_module": "@jupyter-widgets/base",
          "model_name": "LayoutModel",
          "state": {
            "_view_name": "LayoutView",
            "grid_template_rows": null,
            "right": null,
            "justify_content": null,
            "_view_module": "@jupyter-widgets/base",
            "overflow": null,
            "_model_module_version": "1.2.0",
            "_view_count": null,
            "flex_flow": null,
            "width": null,
            "min_width": null,
            "border": null,
            "align_items": null,
            "bottom": null,
            "_model_module": "@jupyter-widgets/base",
            "top": null,
            "grid_column": null,
            "overflow_y": null,
            "overflow_x": null,
            "grid_auto_flow": null,
            "grid_area": null,
            "grid_template_columns": null,
            "flex": null,
            "_model_name": "LayoutModel",
            "justify_items": null,
            "grid_row": null,
            "max_height": null,
            "align_content": null,
            "visibility": null,
            "align_self": null,
            "height": null,
            "min_height": null,
            "padding": null,
            "grid_auto_rows": null,
            "grid_gap": null,
            "max_width": null,
            "order": null,
            "_view_module_version": "1.2.0",
            "grid_template_areas": null,
            "object_position": null,
            "object_fit": null,
            "grid_auto_columns": null,
            "margin": null,
            "display": null,
            "left": null
          }
        },
        "7b81457bbb6848269031b0ba10322dc3": {
          "model_module": "@jupyter-widgets/controls",
          "model_name": "VBoxModel",
          "state": {
            "_view_name": "VBoxView",
            "_dom_classes": [],
            "_model_name": "VBoxModel",
            "_view_module": "@jupyter-widgets/controls",
            "_model_module_version": "1.5.0",
            "_view_count": null,
            "_view_module_version": "1.5.0",
            "box_style": "",
            "layout": "IPY_MODEL_a31b45cb4fcf4fd7a959255f514e9ae0",
            "_model_module": "@jupyter-widgets/controls",
            "children": [
              "IPY_MODEL_d4e606bb565841e697b30cbadcb1590c",
              "IPY_MODEL_77e8efa59a484a9e94b46b44e9f3174a"
            ]
          }
        },
        "a31b45cb4fcf4fd7a959255f514e9ae0": {
          "model_module": "@jupyter-widgets/base",
          "model_name": "LayoutModel",
          "state": {
            "_view_name": "LayoutView",
            "grid_template_rows": null,
            "right": null,
            "justify_content": null,
            "_view_module": "@jupyter-widgets/base",
            "overflow": null,
            "_model_module_version": "1.2.0",
            "_view_count": null,
            "flex_flow": null,
            "width": null,
            "min_width": null,
            "border": null,
            "align_items": null,
            "bottom": null,
            "_model_module": "@jupyter-widgets/base",
            "top": null,
            "grid_column": null,
            "overflow_y": null,
            "overflow_x": null,
            "grid_auto_flow": null,
            "grid_area": null,
            "grid_template_columns": null,
            "flex": null,
            "_model_name": "LayoutModel",
            "justify_items": null,
            "grid_row": null,
            "max_height": null,
            "align_content": null,
            "visibility": null,
            "align_self": null,
            "height": null,
            "min_height": null,
            "padding": null,
            "grid_auto_rows": null,
            "grid_gap": null,
            "max_width": null,
            "order": null,
            "_view_module_version": "1.2.0",
            "grid_template_areas": null,
            "object_position": null,
            "object_fit": null,
            "grid_auto_columns": null,
            "margin": null,
            "display": null,
            "left": null
          }
        },
        "d4e606bb565841e697b30cbadcb1590c": {
          "model_module": "@jupyter-widgets/controls",
          "model_name": "LabelModel",
          "state": {
            "_view_name": "LabelView",
            "style": "IPY_MODEL_1d6a0071c89a4a69aaf868cf8e00df5c",
            "_dom_classes": [],
            "description": "",
            "_model_name": "LabelModel",
            "placeholder": "​",
            "_view_module": "@jupyter-widgets/controls",
            "_model_module_version": "1.5.0",
            "value": " 0.36MB of 0.36MB uploaded (0.00MB deduped)\r",
            "_view_count": null,
            "_view_module_version": "1.5.0",
            "description_tooltip": null,
            "_model_module": "@jupyter-widgets/controls",
            "layout": "IPY_MODEL_06596f79c3674cbfa1b298cf39c82b78"
          }
        },
        "77e8efa59a484a9e94b46b44e9f3174a": {
          "model_module": "@jupyter-widgets/controls",
          "model_name": "FloatProgressModel",
          "state": {
            "_view_name": "ProgressView",
            "style": "IPY_MODEL_3fc3d98e85634e3b9b679f75ccde8bd3",
            "_dom_classes": [],
            "description": "",
            "_model_name": "FloatProgressModel",
            "bar_style": "",
            "max": 1,
            "_view_module": "@jupyter-widgets/controls",
            "_model_module_version": "1.5.0",
            "value": 1,
            "_view_count": null,
            "_view_module_version": "1.5.0",
            "orientation": "horizontal",
            "min": 0,
            "description_tooltip": null,
            "_model_module": "@jupyter-widgets/controls",
            "layout": "IPY_MODEL_5f3648cac77845e0b557bcaaaf03ccef"
          }
        },
        "1d6a0071c89a4a69aaf868cf8e00df5c": {
          "model_module": "@jupyter-widgets/controls",
          "model_name": "DescriptionStyleModel",
          "state": {
            "_view_name": "StyleView",
            "_model_name": "DescriptionStyleModel",
            "description_width": "",
            "_view_module": "@jupyter-widgets/base",
            "_model_module_version": "1.5.0",
            "_view_count": null,
            "_view_module_version": "1.2.0",
            "_model_module": "@jupyter-widgets/controls"
          }
        },
        "06596f79c3674cbfa1b298cf39c82b78": {
          "model_module": "@jupyter-widgets/base",
          "model_name": "LayoutModel",
          "state": {
            "_view_name": "LayoutView",
            "grid_template_rows": null,
            "right": null,
            "justify_content": null,
            "_view_module": "@jupyter-widgets/base",
            "overflow": null,
            "_model_module_version": "1.2.0",
            "_view_count": null,
            "flex_flow": null,
            "width": null,
            "min_width": null,
            "border": null,
            "align_items": null,
            "bottom": null,
            "_model_module": "@jupyter-widgets/base",
            "top": null,
            "grid_column": null,
            "overflow_y": null,
            "overflow_x": null,
            "grid_auto_flow": null,
            "grid_area": null,
            "grid_template_columns": null,
            "flex": null,
            "_model_name": "LayoutModel",
            "justify_items": null,
            "grid_row": null,
            "max_height": null,
            "align_content": null,
            "visibility": null,
            "align_self": null,
            "height": null,
            "min_height": null,
            "padding": null,
            "grid_auto_rows": null,
            "grid_gap": null,
            "max_width": null,
            "order": null,
            "_view_module_version": "1.2.0",
            "grid_template_areas": null,
            "object_position": null,
            "object_fit": null,
            "grid_auto_columns": null,
            "margin": null,
            "display": null,
            "left": null
          }
        },
        "3fc3d98e85634e3b9b679f75ccde8bd3": {
          "model_module": "@jupyter-widgets/controls",
          "model_name": "ProgressStyleModel",
          "state": {
            "_view_name": "StyleView",
            "_model_name": "ProgressStyleModel",
            "description_width": "",
            "_view_module": "@jupyter-widgets/base",
            "_model_module_version": "1.5.0",
            "_view_count": null,
            "_view_module_version": "1.2.0",
            "bar_color": null,
            "_model_module": "@jupyter-widgets/controls"
          }
        },
        "5f3648cac77845e0b557bcaaaf03ccef": {
          "model_module": "@jupyter-widgets/base",
          "model_name": "LayoutModel",
          "state": {
            "_view_name": "LayoutView",
            "grid_template_rows": null,
            "right": null,
            "justify_content": null,
            "_view_module": "@jupyter-widgets/base",
            "overflow": null,
            "_model_module_version": "1.2.0",
            "_view_count": null,
            "flex_flow": null,
            "width": null,
            "min_width": null,
            "border": null,
            "align_items": null,
            "bottom": null,
            "_model_module": "@jupyter-widgets/base",
            "top": null,
            "grid_column": null,
            "overflow_y": null,
            "overflow_x": null,
            "grid_auto_flow": null,
            "grid_area": null,
            "grid_template_columns": null,
            "flex": null,
            "_model_name": "LayoutModel",
            "justify_items": null,
            "grid_row": null,
            "max_height": null,
            "align_content": null,
            "visibility": null,
            "align_self": null,
            "height": null,
            "min_height": null,
            "padding": null,
            "grid_auto_rows": null,
            "grid_gap": null,
            "max_width": null,
            "order": null,
            "_view_module_version": "1.2.0",
            "grid_template_areas": null,
            "object_position": null,
            "object_fit": null,
            "grid_auto_columns": null,
            "margin": null,
            "display": null,
            "left": null
          }
        },
        "f555cf0adcd34ded974203dd0c5c2156": {
          "model_module": "@jupyter-widgets/controls",
          "model_name": "VBoxModel",
          "state": {
            "_view_name": "VBoxView",
            "_dom_classes": [],
            "_model_name": "VBoxModel",
            "_view_module": "@jupyter-widgets/controls",
            "_model_module_version": "1.5.0",
            "_view_count": null,
            "_view_module_version": "1.5.0",
            "box_style": "",
            "layout": "IPY_MODEL_1f23002d2d07458ebb3b7ae4f48f8a12",
            "_model_module": "@jupyter-widgets/controls",
            "children": [
              "IPY_MODEL_2e42416df98f40dc9d0d613937ed8b31",
              "IPY_MODEL_732b129840c9454da281b23c66667750"
            ]
          }
        },
        "1f23002d2d07458ebb3b7ae4f48f8a12": {
          "model_module": "@jupyter-widgets/base",
          "model_name": "LayoutModel",
          "state": {
            "_view_name": "LayoutView",
            "grid_template_rows": null,
            "right": null,
            "justify_content": null,
            "_view_module": "@jupyter-widgets/base",
            "overflow": null,
            "_model_module_version": "1.2.0",
            "_view_count": null,
            "flex_flow": null,
            "width": null,
            "min_width": null,
            "border": null,
            "align_items": null,
            "bottom": null,
            "_model_module": "@jupyter-widgets/base",
            "top": null,
            "grid_column": null,
            "overflow_y": null,
            "overflow_x": null,
            "grid_auto_flow": null,
            "grid_area": null,
            "grid_template_columns": null,
            "flex": null,
            "_model_name": "LayoutModel",
            "justify_items": null,
            "grid_row": null,
            "max_height": null,
            "align_content": null,
            "visibility": null,
            "align_self": null,
            "height": null,
            "min_height": null,
            "padding": null,
            "grid_auto_rows": null,
            "grid_gap": null,
            "max_width": null,
            "order": null,
            "_view_module_version": "1.2.0",
            "grid_template_areas": null,
            "object_position": null,
            "object_fit": null,
            "grid_auto_columns": null,
            "margin": null,
            "display": null,
            "left": null
          }
        },
        "2e42416df98f40dc9d0d613937ed8b31": {
          "model_module": "@jupyter-widgets/controls",
          "model_name": "LabelModel",
          "state": {
            "_view_name": "LabelView",
            "style": "IPY_MODEL_ebc8cd7d51e44f55b5aa95653021ca90",
            "_dom_classes": [],
            "description": "",
            "_model_name": "LabelModel",
            "placeholder": "​",
            "_view_module": "@jupyter-widgets/controls",
            "_model_module_version": "1.5.0",
            "value": " 0.37MB of 0.37MB uploaded (0.00MB deduped)\r",
            "_view_count": null,
            "_view_module_version": "1.5.0",
            "description_tooltip": null,
            "_model_module": "@jupyter-widgets/controls",
            "layout": "IPY_MODEL_6aa3a43c73f040d7b2c11bc3df37bc4f"
          }
        },
        "732b129840c9454da281b23c66667750": {
          "model_module": "@jupyter-widgets/controls",
          "model_name": "FloatProgressModel",
          "state": {
            "_view_name": "ProgressView",
            "style": "IPY_MODEL_0a2116bed9ef46ae895b23f0d3b08e2e",
            "_dom_classes": [],
            "description": "",
            "_model_name": "FloatProgressModel",
            "bar_style": "",
            "max": 1,
            "_view_module": "@jupyter-widgets/controls",
            "_model_module_version": "1.5.0",
            "value": 1,
            "_view_count": null,
            "_view_module_version": "1.5.0",
            "orientation": "horizontal",
            "min": 0,
            "description_tooltip": null,
            "_model_module": "@jupyter-widgets/controls",
            "layout": "IPY_MODEL_bc7da29674864c1a97b56ecce9d0df4e"
          }
        },
        "ebc8cd7d51e44f55b5aa95653021ca90": {
          "model_module": "@jupyter-widgets/controls",
          "model_name": "DescriptionStyleModel",
          "state": {
            "_view_name": "StyleView",
            "_model_name": "DescriptionStyleModel",
            "description_width": "",
            "_view_module": "@jupyter-widgets/base",
            "_model_module_version": "1.5.0",
            "_view_count": null,
            "_view_module_version": "1.2.0",
            "_model_module": "@jupyter-widgets/controls"
          }
        },
        "6aa3a43c73f040d7b2c11bc3df37bc4f": {
          "model_module": "@jupyter-widgets/base",
          "model_name": "LayoutModel",
          "state": {
            "_view_name": "LayoutView",
            "grid_template_rows": null,
            "right": null,
            "justify_content": null,
            "_view_module": "@jupyter-widgets/base",
            "overflow": null,
            "_model_module_version": "1.2.0",
            "_view_count": null,
            "flex_flow": null,
            "width": null,
            "min_width": null,
            "border": null,
            "align_items": null,
            "bottom": null,
            "_model_module": "@jupyter-widgets/base",
            "top": null,
            "grid_column": null,
            "overflow_y": null,
            "overflow_x": null,
            "grid_auto_flow": null,
            "grid_area": null,
            "grid_template_columns": null,
            "flex": null,
            "_model_name": "LayoutModel",
            "justify_items": null,
            "grid_row": null,
            "max_height": null,
            "align_content": null,
            "visibility": null,
            "align_self": null,
            "height": null,
            "min_height": null,
            "padding": null,
            "grid_auto_rows": null,
            "grid_gap": null,
            "max_width": null,
            "order": null,
            "_view_module_version": "1.2.0",
            "grid_template_areas": null,
            "object_position": null,
            "object_fit": null,
            "grid_auto_columns": null,
            "margin": null,
            "display": null,
            "left": null
          }
        },
        "0a2116bed9ef46ae895b23f0d3b08e2e": {
          "model_module": "@jupyter-widgets/controls",
          "model_name": "ProgressStyleModel",
          "state": {
            "_view_name": "StyleView",
            "_model_name": "ProgressStyleModel",
            "description_width": "",
            "_view_module": "@jupyter-widgets/base",
            "_model_module_version": "1.5.0",
            "_view_count": null,
            "_view_module_version": "1.2.0",
            "bar_color": null,
            "_model_module": "@jupyter-widgets/controls"
          }
        },
        "bc7da29674864c1a97b56ecce9d0df4e": {
          "model_module": "@jupyter-widgets/base",
          "model_name": "LayoutModel",
          "state": {
            "_view_name": "LayoutView",
            "grid_template_rows": null,
            "right": null,
            "justify_content": null,
            "_view_module": "@jupyter-widgets/base",
            "overflow": null,
            "_model_module_version": "1.2.0",
            "_view_count": null,
            "flex_flow": null,
            "width": null,
            "min_width": null,
            "border": null,
            "align_items": null,
            "bottom": null,
            "_model_module": "@jupyter-widgets/base",
            "top": null,
            "grid_column": null,
            "overflow_y": null,
            "overflow_x": null,
            "grid_auto_flow": null,
            "grid_area": null,
            "grid_template_columns": null,
            "flex": null,
            "_model_name": "LayoutModel",
            "justify_items": null,
            "grid_row": null,
            "max_height": null,
            "align_content": null,
            "visibility": null,
            "align_self": null,
            "height": null,
            "min_height": null,
            "padding": null,
            "grid_auto_rows": null,
            "grid_gap": null,
            "max_width": null,
            "order": null,
            "_view_module_version": "1.2.0",
            "grid_template_areas": null,
            "object_position": null,
            "object_fit": null,
            "grid_auto_columns": null,
            "margin": null,
            "display": null,
            "left": null
          }
        },
        "0703c36593504567a4fbb87c08579bd2": {
          "model_module": "@jupyter-widgets/controls",
          "model_name": "VBoxModel",
          "state": {
            "_view_name": "VBoxView",
            "_dom_classes": [],
            "_model_name": "VBoxModel",
            "_view_module": "@jupyter-widgets/controls",
            "_model_module_version": "1.5.0",
            "_view_count": null,
            "_view_module_version": "1.5.0",
            "box_style": "",
            "layout": "IPY_MODEL_184aac53c0fb4cffafaa63fc9c3a7e99",
            "_model_module": "@jupyter-widgets/controls",
            "children": [
              "IPY_MODEL_7bcf821118d74b0fbd109ab8639a3263",
              "IPY_MODEL_2f6d3f50effc420ba0cc3dc82b7ba09e"
            ]
          }
        },
        "184aac53c0fb4cffafaa63fc9c3a7e99": {
          "model_module": "@jupyter-widgets/base",
          "model_name": "LayoutModel",
          "state": {
            "_view_name": "LayoutView",
            "grid_template_rows": null,
            "right": null,
            "justify_content": null,
            "_view_module": "@jupyter-widgets/base",
            "overflow": null,
            "_model_module_version": "1.2.0",
            "_view_count": null,
            "flex_flow": null,
            "width": null,
            "min_width": null,
            "border": null,
            "align_items": null,
            "bottom": null,
            "_model_module": "@jupyter-widgets/base",
            "top": null,
            "grid_column": null,
            "overflow_y": null,
            "overflow_x": null,
            "grid_auto_flow": null,
            "grid_area": null,
            "grid_template_columns": null,
            "flex": null,
            "_model_name": "LayoutModel",
            "justify_items": null,
            "grid_row": null,
            "max_height": null,
            "align_content": null,
            "visibility": null,
            "align_self": null,
            "height": null,
            "min_height": null,
            "padding": null,
            "grid_auto_rows": null,
            "grid_gap": null,
            "max_width": null,
            "order": null,
            "_view_module_version": "1.2.0",
            "grid_template_areas": null,
            "object_position": null,
            "object_fit": null,
            "grid_auto_columns": null,
            "margin": null,
            "display": null,
            "left": null
          }
        },
        "7bcf821118d74b0fbd109ab8639a3263": {
          "model_module": "@jupyter-widgets/controls",
          "model_name": "LabelModel",
          "state": {
            "_view_name": "LabelView",
            "style": "IPY_MODEL_3910e83dcae442e588ba146f4a8f76d7",
            "_dom_classes": [],
            "description": "",
            "_model_name": "LabelModel",
            "placeholder": "​",
            "_view_module": "@jupyter-widgets/controls",
            "_model_module_version": "1.5.0",
            "value": " 0.39MB of 0.39MB uploaded (0.00MB deduped)\r",
            "_view_count": null,
            "_view_module_version": "1.5.0",
            "description_tooltip": null,
            "_model_module": "@jupyter-widgets/controls",
            "layout": "IPY_MODEL_ca433b3fa2634196bc59ad2f6590b5bf"
          }
        },
        "2f6d3f50effc420ba0cc3dc82b7ba09e": {
          "model_module": "@jupyter-widgets/controls",
          "model_name": "FloatProgressModel",
          "state": {
            "_view_name": "ProgressView",
            "style": "IPY_MODEL_73ecd5e1e71742858713151d526caef1",
            "_dom_classes": [],
            "description": "",
            "_model_name": "FloatProgressModel",
            "bar_style": "",
            "max": 1,
            "_view_module": "@jupyter-widgets/controls",
            "_model_module_version": "1.5.0",
            "value": 1,
            "_view_count": null,
            "_view_module_version": "1.5.0",
            "orientation": "horizontal",
            "min": 0,
            "description_tooltip": null,
            "_model_module": "@jupyter-widgets/controls",
            "layout": "IPY_MODEL_65f84ba9bf3841baabc292526fc1b3d6"
          }
        },
        "3910e83dcae442e588ba146f4a8f76d7": {
          "model_module": "@jupyter-widgets/controls",
          "model_name": "DescriptionStyleModel",
          "state": {
            "_view_name": "StyleView",
            "_model_name": "DescriptionStyleModel",
            "description_width": "",
            "_view_module": "@jupyter-widgets/base",
            "_model_module_version": "1.5.0",
            "_view_count": null,
            "_view_module_version": "1.2.0",
            "_model_module": "@jupyter-widgets/controls"
          }
        },
        "ca433b3fa2634196bc59ad2f6590b5bf": {
          "model_module": "@jupyter-widgets/base",
          "model_name": "LayoutModel",
          "state": {
            "_view_name": "LayoutView",
            "grid_template_rows": null,
            "right": null,
            "justify_content": null,
            "_view_module": "@jupyter-widgets/base",
            "overflow": null,
            "_model_module_version": "1.2.0",
            "_view_count": null,
            "flex_flow": null,
            "width": null,
            "min_width": null,
            "border": null,
            "align_items": null,
            "bottom": null,
            "_model_module": "@jupyter-widgets/base",
            "top": null,
            "grid_column": null,
            "overflow_y": null,
            "overflow_x": null,
            "grid_auto_flow": null,
            "grid_area": null,
            "grid_template_columns": null,
            "flex": null,
            "_model_name": "LayoutModel",
            "justify_items": null,
            "grid_row": null,
            "max_height": null,
            "align_content": null,
            "visibility": null,
            "align_self": null,
            "height": null,
            "min_height": null,
            "padding": null,
            "grid_auto_rows": null,
            "grid_gap": null,
            "max_width": null,
            "order": null,
            "_view_module_version": "1.2.0",
            "grid_template_areas": null,
            "object_position": null,
            "object_fit": null,
            "grid_auto_columns": null,
            "margin": null,
            "display": null,
            "left": null
          }
        },
        "73ecd5e1e71742858713151d526caef1": {
          "model_module": "@jupyter-widgets/controls",
          "model_name": "ProgressStyleModel",
          "state": {
            "_view_name": "StyleView",
            "_model_name": "ProgressStyleModel",
            "description_width": "",
            "_view_module": "@jupyter-widgets/base",
            "_model_module_version": "1.5.0",
            "_view_count": null,
            "_view_module_version": "1.2.0",
            "bar_color": null,
            "_model_module": "@jupyter-widgets/controls"
          }
        },
        "65f84ba9bf3841baabc292526fc1b3d6": {
          "model_module": "@jupyter-widgets/base",
          "model_name": "LayoutModel",
          "state": {
            "_view_name": "LayoutView",
            "grid_template_rows": null,
            "right": null,
            "justify_content": null,
            "_view_module": "@jupyter-widgets/base",
            "overflow": null,
            "_model_module_version": "1.2.0",
            "_view_count": null,
            "flex_flow": null,
            "width": null,
            "min_width": null,
            "border": null,
            "align_items": null,
            "bottom": null,
            "_model_module": "@jupyter-widgets/base",
            "top": null,
            "grid_column": null,
            "overflow_y": null,
            "overflow_x": null,
            "grid_auto_flow": null,
            "grid_area": null,
            "grid_template_columns": null,
            "flex": null,
            "_model_name": "LayoutModel",
            "justify_items": null,
            "grid_row": null,
            "max_height": null,
            "align_content": null,
            "visibility": null,
            "align_self": null,
            "height": null,
            "min_height": null,
            "padding": null,
            "grid_auto_rows": null,
            "grid_gap": null,
            "max_width": null,
            "order": null,
            "_view_module_version": "1.2.0",
            "grid_template_areas": null,
            "object_position": null,
            "object_fit": null,
            "grid_auto_columns": null,
            "margin": null,
            "display": null,
            "left": null
          }
        },
        "d893b8b7ecd0402daf7fac8235497d93": {
          "model_module": "@jupyter-widgets/controls",
          "model_name": "VBoxModel",
          "state": {
            "_view_name": "VBoxView",
            "_dom_classes": [],
            "_model_name": "VBoxModel",
            "_view_module": "@jupyter-widgets/controls",
            "_model_module_version": "1.5.0",
            "_view_count": null,
            "_view_module_version": "1.5.0",
            "box_style": "",
            "layout": "IPY_MODEL_cacc9486a7474de3823b73534911c97c",
            "_model_module": "@jupyter-widgets/controls",
            "children": [
              "IPY_MODEL_7a2f2a2782364fe2a3f403c93603710d",
              "IPY_MODEL_c61b31a2ea494c1e8a4ef815dbb2bda4"
            ]
          }
        },
        "cacc9486a7474de3823b73534911c97c": {
          "model_module": "@jupyter-widgets/base",
          "model_name": "LayoutModel",
          "state": {
            "_view_name": "LayoutView",
            "grid_template_rows": null,
            "right": null,
            "justify_content": null,
            "_view_module": "@jupyter-widgets/base",
            "overflow": null,
            "_model_module_version": "1.2.0",
            "_view_count": null,
            "flex_flow": null,
            "width": null,
            "min_width": null,
            "border": null,
            "align_items": null,
            "bottom": null,
            "_model_module": "@jupyter-widgets/base",
            "top": null,
            "grid_column": null,
            "overflow_y": null,
            "overflow_x": null,
            "grid_auto_flow": null,
            "grid_area": null,
            "grid_template_columns": null,
            "flex": null,
            "_model_name": "LayoutModel",
            "justify_items": null,
            "grid_row": null,
            "max_height": null,
            "align_content": null,
            "visibility": null,
            "align_self": null,
            "height": null,
            "min_height": null,
            "padding": null,
            "grid_auto_rows": null,
            "grid_gap": null,
            "max_width": null,
            "order": null,
            "_view_module_version": "1.2.0",
            "grid_template_areas": null,
            "object_position": null,
            "object_fit": null,
            "grid_auto_columns": null,
            "margin": null,
            "display": null,
            "left": null
          }
        },
        "7a2f2a2782364fe2a3f403c93603710d": {
          "model_module": "@jupyter-widgets/controls",
          "model_name": "LabelModel",
          "state": {
            "_view_name": "LabelView",
            "style": "IPY_MODEL_09b53b7a40754454b00ff20d15a3e538",
            "_dom_classes": [],
            "description": "",
            "_model_name": "LabelModel",
            "placeholder": "​",
            "_view_module": "@jupyter-widgets/controls",
            "_model_module_version": "1.5.0",
            "value": " 0.40MB of 0.40MB uploaded (0.00MB deduped)\r",
            "_view_count": null,
            "_view_module_version": "1.5.0",
            "description_tooltip": null,
            "_model_module": "@jupyter-widgets/controls",
            "layout": "IPY_MODEL_3da16f288cf74484ba1da26532202c23"
          }
        },
        "c61b31a2ea494c1e8a4ef815dbb2bda4": {
          "model_module": "@jupyter-widgets/controls",
          "model_name": "FloatProgressModel",
          "state": {
            "_view_name": "ProgressView",
            "style": "IPY_MODEL_01363d078d994aa59ae7c144a19db1f6",
            "_dom_classes": [],
            "description": "",
            "_model_name": "FloatProgressModel",
            "bar_style": "",
            "max": 1,
            "_view_module": "@jupyter-widgets/controls",
            "_model_module_version": "1.5.0",
            "value": 1,
            "_view_count": null,
            "_view_module_version": "1.5.0",
            "orientation": "horizontal",
            "min": 0,
            "description_tooltip": null,
            "_model_module": "@jupyter-widgets/controls",
            "layout": "IPY_MODEL_795a7386d62a45569ce99883488ca513"
          }
        },
        "09b53b7a40754454b00ff20d15a3e538": {
          "model_module": "@jupyter-widgets/controls",
          "model_name": "DescriptionStyleModel",
          "state": {
            "_view_name": "StyleView",
            "_model_name": "DescriptionStyleModel",
            "description_width": "",
            "_view_module": "@jupyter-widgets/base",
            "_model_module_version": "1.5.0",
            "_view_count": null,
            "_view_module_version": "1.2.0",
            "_model_module": "@jupyter-widgets/controls"
          }
        },
        "3da16f288cf74484ba1da26532202c23": {
          "model_module": "@jupyter-widgets/base",
          "model_name": "LayoutModel",
          "state": {
            "_view_name": "LayoutView",
            "grid_template_rows": null,
            "right": null,
            "justify_content": null,
            "_view_module": "@jupyter-widgets/base",
            "overflow": null,
            "_model_module_version": "1.2.0",
            "_view_count": null,
            "flex_flow": null,
            "width": null,
            "min_width": null,
            "border": null,
            "align_items": null,
            "bottom": null,
            "_model_module": "@jupyter-widgets/base",
            "top": null,
            "grid_column": null,
            "overflow_y": null,
            "overflow_x": null,
            "grid_auto_flow": null,
            "grid_area": null,
            "grid_template_columns": null,
            "flex": null,
            "_model_name": "LayoutModel",
            "justify_items": null,
            "grid_row": null,
            "max_height": null,
            "align_content": null,
            "visibility": null,
            "align_self": null,
            "height": null,
            "min_height": null,
            "padding": null,
            "grid_auto_rows": null,
            "grid_gap": null,
            "max_width": null,
            "order": null,
            "_view_module_version": "1.2.0",
            "grid_template_areas": null,
            "object_position": null,
            "object_fit": null,
            "grid_auto_columns": null,
            "margin": null,
            "display": null,
            "left": null
          }
        },
        "01363d078d994aa59ae7c144a19db1f6": {
          "model_module": "@jupyter-widgets/controls",
          "model_name": "ProgressStyleModel",
          "state": {
            "_view_name": "StyleView",
            "_model_name": "ProgressStyleModel",
            "description_width": "",
            "_view_module": "@jupyter-widgets/base",
            "_model_module_version": "1.5.0",
            "_view_count": null,
            "_view_module_version": "1.2.0",
            "bar_color": null,
            "_model_module": "@jupyter-widgets/controls"
          }
        },
        "795a7386d62a45569ce99883488ca513": {
          "model_module": "@jupyter-widgets/base",
          "model_name": "LayoutModel",
          "state": {
            "_view_name": "LayoutView",
            "grid_template_rows": null,
            "right": null,
            "justify_content": null,
            "_view_module": "@jupyter-widgets/base",
            "overflow": null,
            "_model_module_version": "1.2.0",
            "_view_count": null,
            "flex_flow": null,
            "width": null,
            "min_width": null,
            "border": null,
            "align_items": null,
            "bottom": null,
            "_model_module": "@jupyter-widgets/base",
            "top": null,
            "grid_column": null,
            "overflow_y": null,
            "overflow_x": null,
            "grid_auto_flow": null,
            "grid_area": null,
            "grid_template_columns": null,
            "flex": null,
            "_model_name": "LayoutModel",
            "justify_items": null,
            "grid_row": null,
            "max_height": null,
            "align_content": null,
            "visibility": null,
            "align_self": null,
            "height": null,
            "min_height": null,
            "padding": null,
            "grid_auto_rows": null,
            "grid_gap": null,
            "max_width": null,
            "order": null,
            "_view_module_version": "1.2.0",
            "grid_template_areas": null,
            "object_position": null,
            "object_fit": null,
            "grid_auto_columns": null,
            "margin": null,
            "display": null,
            "left": null
          }
        },
        "ccec43fe7da64f9caaba85f5725ad3c8": {
          "model_module": "@jupyter-widgets/controls",
          "model_name": "VBoxModel",
          "state": {
            "_view_name": "VBoxView",
            "_dom_classes": [],
            "_model_name": "VBoxModel",
            "_view_module": "@jupyter-widgets/controls",
            "_model_module_version": "1.5.0",
            "_view_count": null,
            "_view_module_version": "1.5.0",
            "box_style": "",
            "layout": "IPY_MODEL_b488833c0c09455e99f3525e62e13789",
            "_model_module": "@jupyter-widgets/controls",
            "children": [
              "IPY_MODEL_c606f1f0b4e14c2a867ea0473321c30a",
              "IPY_MODEL_48c98b37e8e74add94996ff4334dcc79"
            ]
          }
        },
        "b488833c0c09455e99f3525e62e13789": {
          "model_module": "@jupyter-widgets/base",
          "model_name": "LayoutModel",
          "state": {
            "_view_name": "LayoutView",
            "grid_template_rows": null,
            "right": null,
            "justify_content": null,
            "_view_module": "@jupyter-widgets/base",
            "overflow": null,
            "_model_module_version": "1.2.0",
            "_view_count": null,
            "flex_flow": null,
            "width": null,
            "min_width": null,
            "border": null,
            "align_items": null,
            "bottom": null,
            "_model_module": "@jupyter-widgets/base",
            "top": null,
            "grid_column": null,
            "overflow_y": null,
            "overflow_x": null,
            "grid_auto_flow": null,
            "grid_area": null,
            "grid_template_columns": null,
            "flex": null,
            "_model_name": "LayoutModel",
            "justify_items": null,
            "grid_row": null,
            "max_height": null,
            "align_content": null,
            "visibility": null,
            "align_self": null,
            "height": null,
            "min_height": null,
            "padding": null,
            "grid_auto_rows": null,
            "grid_gap": null,
            "max_width": null,
            "order": null,
            "_view_module_version": "1.2.0",
            "grid_template_areas": null,
            "object_position": null,
            "object_fit": null,
            "grid_auto_columns": null,
            "margin": null,
            "display": null,
            "left": null
          }
        },
        "c606f1f0b4e14c2a867ea0473321c30a": {
          "model_module": "@jupyter-widgets/controls",
          "model_name": "LabelModel",
          "state": {
            "_view_name": "LabelView",
            "style": "IPY_MODEL_04a0f6e376ea43d78f2605acff407802",
            "_dom_classes": [],
            "description": "",
            "_model_name": "LabelModel",
            "placeholder": "​",
            "_view_module": "@jupyter-widgets/controls",
            "_model_module_version": "1.5.0",
            "value": " 0.41MB of 0.41MB uploaded (0.00MB deduped)\r",
            "_view_count": null,
            "_view_module_version": "1.5.0",
            "description_tooltip": null,
            "_model_module": "@jupyter-widgets/controls",
            "layout": "IPY_MODEL_54a5b8aca61a4ea5966875dcfe39048f"
          }
        },
        "48c98b37e8e74add94996ff4334dcc79": {
          "model_module": "@jupyter-widgets/controls",
          "model_name": "FloatProgressModel",
          "state": {
            "_view_name": "ProgressView",
            "style": "IPY_MODEL_34c559e6dda84566ade6f6e5612da4fd",
            "_dom_classes": [],
            "description": "",
            "_model_name": "FloatProgressModel",
            "bar_style": "",
            "max": 1,
            "_view_module": "@jupyter-widgets/controls",
            "_model_module_version": "1.5.0",
            "value": 1,
            "_view_count": null,
            "_view_module_version": "1.5.0",
            "orientation": "horizontal",
            "min": 0,
            "description_tooltip": null,
            "_model_module": "@jupyter-widgets/controls",
            "layout": "IPY_MODEL_f85b69e66c7a4488a8c23c820a6beabe"
          }
        },
        "04a0f6e376ea43d78f2605acff407802": {
          "model_module": "@jupyter-widgets/controls",
          "model_name": "DescriptionStyleModel",
          "state": {
            "_view_name": "StyleView",
            "_model_name": "DescriptionStyleModel",
            "description_width": "",
            "_view_module": "@jupyter-widgets/base",
            "_model_module_version": "1.5.0",
            "_view_count": null,
            "_view_module_version": "1.2.0",
            "_model_module": "@jupyter-widgets/controls"
          }
        },
        "54a5b8aca61a4ea5966875dcfe39048f": {
          "model_module": "@jupyter-widgets/base",
          "model_name": "LayoutModel",
          "state": {
            "_view_name": "LayoutView",
            "grid_template_rows": null,
            "right": null,
            "justify_content": null,
            "_view_module": "@jupyter-widgets/base",
            "overflow": null,
            "_model_module_version": "1.2.0",
            "_view_count": null,
            "flex_flow": null,
            "width": null,
            "min_width": null,
            "border": null,
            "align_items": null,
            "bottom": null,
            "_model_module": "@jupyter-widgets/base",
            "top": null,
            "grid_column": null,
            "overflow_y": null,
            "overflow_x": null,
            "grid_auto_flow": null,
            "grid_area": null,
            "grid_template_columns": null,
            "flex": null,
            "_model_name": "LayoutModel",
            "justify_items": null,
            "grid_row": null,
            "max_height": null,
            "align_content": null,
            "visibility": null,
            "align_self": null,
            "height": null,
            "min_height": null,
            "padding": null,
            "grid_auto_rows": null,
            "grid_gap": null,
            "max_width": null,
            "order": null,
            "_view_module_version": "1.2.0",
            "grid_template_areas": null,
            "object_position": null,
            "object_fit": null,
            "grid_auto_columns": null,
            "margin": null,
            "display": null,
            "left": null
          }
        },
        "34c559e6dda84566ade6f6e5612da4fd": {
          "model_module": "@jupyter-widgets/controls",
          "model_name": "ProgressStyleModel",
          "state": {
            "_view_name": "StyleView",
            "_model_name": "ProgressStyleModel",
            "description_width": "",
            "_view_module": "@jupyter-widgets/base",
            "_model_module_version": "1.5.0",
            "_view_count": null,
            "_view_module_version": "1.2.0",
            "bar_color": null,
            "_model_module": "@jupyter-widgets/controls"
          }
        },
        "f85b69e66c7a4488a8c23c820a6beabe": {
          "model_module": "@jupyter-widgets/base",
          "model_name": "LayoutModel",
          "state": {
            "_view_name": "LayoutView",
            "grid_template_rows": null,
            "right": null,
            "justify_content": null,
            "_view_module": "@jupyter-widgets/base",
            "overflow": null,
            "_model_module_version": "1.2.0",
            "_view_count": null,
            "flex_flow": null,
            "width": null,
            "min_width": null,
            "border": null,
            "align_items": null,
            "bottom": null,
            "_model_module": "@jupyter-widgets/base",
            "top": null,
            "grid_column": null,
            "overflow_y": null,
            "overflow_x": null,
            "grid_auto_flow": null,
            "grid_area": null,
            "grid_template_columns": null,
            "flex": null,
            "_model_name": "LayoutModel",
            "justify_items": null,
            "grid_row": null,
            "max_height": null,
            "align_content": null,
            "visibility": null,
            "align_self": null,
            "height": null,
            "min_height": null,
            "padding": null,
            "grid_auto_rows": null,
            "grid_gap": null,
            "max_width": null,
            "order": null,
            "_view_module_version": "1.2.0",
            "grid_template_areas": null,
            "object_position": null,
            "object_fit": null,
            "grid_auto_columns": null,
            "margin": null,
            "display": null,
            "left": null
          }
        },
        "b883b079c3544b88b55f5d56934e3da4": {
          "model_module": "@jupyter-widgets/controls",
          "model_name": "VBoxModel",
          "state": {
            "_view_name": "VBoxView",
            "_dom_classes": [],
            "_model_name": "VBoxModel",
            "_view_module": "@jupyter-widgets/controls",
            "_model_module_version": "1.5.0",
            "_view_count": null,
            "_view_module_version": "1.5.0",
            "box_style": "",
            "layout": "IPY_MODEL_e7d2cba4bb5e40179f3b9cf30338d17b",
            "_model_module": "@jupyter-widgets/controls",
            "children": [
              "IPY_MODEL_0367e17def5047aabfca3ecbd9f03ffe",
              "IPY_MODEL_0a2d5896740344cb8ef58aa12aa5d041"
            ]
          }
        },
        "e7d2cba4bb5e40179f3b9cf30338d17b": {
          "model_module": "@jupyter-widgets/base",
          "model_name": "LayoutModel",
          "state": {
            "_view_name": "LayoutView",
            "grid_template_rows": null,
            "right": null,
            "justify_content": null,
            "_view_module": "@jupyter-widgets/base",
            "overflow": null,
            "_model_module_version": "1.2.0",
            "_view_count": null,
            "flex_flow": null,
            "width": null,
            "min_width": null,
            "border": null,
            "align_items": null,
            "bottom": null,
            "_model_module": "@jupyter-widgets/base",
            "top": null,
            "grid_column": null,
            "overflow_y": null,
            "overflow_x": null,
            "grid_auto_flow": null,
            "grid_area": null,
            "grid_template_columns": null,
            "flex": null,
            "_model_name": "LayoutModel",
            "justify_items": null,
            "grid_row": null,
            "max_height": null,
            "align_content": null,
            "visibility": null,
            "align_self": null,
            "height": null,
            "min_height": null,
            "padding": null,
            "grid_auto_rows": null,
            "grid_gap": null,
            "max_width": null,
            "order": null,
            "_view_module_version": "1.2.0",
            "grid_template_areas": null,
            "object_position": null,
            "object_fit": null,
            "grid_auto_columns": null,
            "margin": null,
            "display": null,
            "left": null
          }
        },
        "0367e17def5047aabfca3ecbd9f03ffe": {
          "model_module": "@jupyter-widgets/controls",
          "model_name": "LabelModel",
          "state": {
            "_view_name": "LabelView",
            "style": "IPY_MODEL_106cc3ce4ec241db995bf3eddb9204d4",
            "_dom_classes": [],
            "description": "",
            "_model_name": "LabelModel",
            "placeholder": "​",
            "_view_module": "@jupyter-widgets/controls",
            "_model_module_version": "1.5.0",
            "value": " 0.43MB of 0.43MB uploaded (0.00MB deduped)\r",
            "_view_count": null,
            "_view_module_version": "1.5.0",
            "description_tooltip": null,
            "_model_module": "@jupyter-widgets/controls",
            "layout": "IPY_MODEL_769556bea313475ab3ba7aef793b9ede"
          }
        },
        "0a2d5896740344cb8ef58aa12aa5d041": {
          "model_module": "@jupyter-widgets/controls",
          "model_name": "FloatProgressModel",
          "state": {
            "_view_name": "ProgressView",
            "style": "IPY_MODEL_f27cbb5d16ff4439893defaf3731730c",
            "_dom_classes": [],
            "description": "",
            "_model_name": "FloatProgressModel",
            "bar_style": "",
            "max": 1,
            "_view_module": "@jupyter-widgets/controls",
            "_model_module_version": "1.5.0",
            "value": 1,
            "_view_count": null,
            "_view_module_version": "1.5.0",
            "orientation": "horizontal",
            "min": 0,
            "description_tooltip": null,
            "_model_module": "@jupyter-widgets/controls",
            "layout": "IPY_MODEL_b1d874c380384438b419ab8015f397c7"
          }
        },
        "106cc3ce4ec241db995bf3eddb9204d4": {
          "model_module": "@jupyter-widgets/controls",
          "model_name": "DescriptionStyleModel",
          "state": {
            "_view_name": "StyleView",
            "_model_name": "DescriptionStyleModel",
            "description_width": "",
            "_view_module": "@jupyter-widgets/base",
            "_model_module_version": "1.5.0",
            "_view_count": null,
            "_view_module_version": "1.2.0",
            "_model_module": "@jupyter-widgets/controls"
          }
        },
        "769556bea313475ab3ba7aef793b9ede": {
          "model_module": "@jupyter-widgets/base",
          "model_name": "LayoutModel",
          "state": {
            "_view_name": "LayoutView",
            "grid_template_rows": null,
            "right": null,
            "justify_content": null,
            "_view_module": "@jupyter-widgets/base",
            "overflow": null,
            "_model_module_version": "1.2.0",
            "_view_count": null,
            "flex_flow": null,
            "width": null,
            "min_width": null,
            "border": null,
            "align_items": null,
            "bottom": null,
            "_model_module": "@jupyter-widgets/base",
            "top": null,
            "grid_column": null,
            "overflow_y": null,
            "overflow_x": null,
            "grid_auto_flow": null,
            "grid_area": null,
            "grid_template_columns": null,
            "flex": null,
            "_model_name": "LayoutModel",
            "justify_items": null,
            "grid_row": null,
            "max_height": null,
            "align_content": null,
            "visibility": null,
            "align_self": null,
            "height": null,
            "min_height": null,
            "padding": null,
            "grid_auto_rows": null,
            "grid_gap": null,
            "max_width": null,
            "order": null,
            "_view_module_version": "1.2.0",
            "grid_template_areas": null,
            "object_position": null,
            "object_fit": null,
            "grid_auto_columns": null,
            "margin": null,
            "display": null,
            "left": null
          }
        },
        "f27cbb5d16ff4439893defaf3731730c": {
          "model_module": "@jupyter-widgets/controls",
          "model_name": "ProgressStyleModel",
          "state": {
            "_view_name": "StyleView",
            "_model_name": "ProgressStyleModel",
            "description_width": "",
            "_view_module": "@jupyter-widgets/base",
            "_model_module_version": "1.5.0",
            "_view_count": null,
            "_view_module_version": "1.2.0",
            "bar_color": null,
            "_model_module": "@jupyter-widgets/controls"
          }
        },
        "b1d874c380384438b419ab8015f397c7": {
          "model_module": "@jupyter-widgets/base",
          "model_name": "LayoutModel",
          "state": {
            "_view_name": "LayoutView",
            "grid_template_rows": null,
            "right": null,
            "justify_content": null,
            "_view_module": "@jupyter-widgets/base",
            "overflow": null,
            "_model_module_version": "1.2.0",
            "_view_count": null,
            "flex_flow": null,
            "width": null,
            "min_width": null,
            "border": null,
            "align_items": null,
            "bottom": null,
            "_model_module": "@jupyter-widgets/base",
            "top": null,
            "grid_column": null,
            "overflow_y": null,
            "overflow_x": null,
            "grid_auto_flow": null,
            "grid_area": null,
            "grid_template_columns": null,
            "flex": null,
            "_model_name": "LayoutModel",
            "justify_items": null,
            "grid_row": null,
            "max_height": null,
            "align_content": null,
            "visibility": null,
            "align_self": null,
            "height": null,
            "min_height": null,
            "padding": null,
            "grid_auto_rows": null,
            "grid_gap": null,
            "max_width": null,
            "order": null,
            "_view_module_version": "1.2.0",
            "grid_template_areas": null,
            "object_position": null,
            "object_fit": null,
            "grid_auto_columns": null,
            "margin": null,
            "display": null,
            "left": null
          }
        },
        "167d67cf31294a6caeaa265c0a3d36b1": {
          "model_module": "@jupyter-widgets/controls",
          "model_name": "VBoxModel",
          "state": {
            "_view_name": "VBoxView",
            "_dom_classes": [],
            "_model_name": "VBoxModel",
            "_view_module": "@jupyter-widgets/controls",
            "_model_module_version": "1.5.0",
            "_view_count": null,
            "_view_module_version": "1.5.0",
            "box_style": "",
            "layout": "IPY_MODEL_6d43888a162d4397af487b84384f961b",
            "_model_module": "@jupyter-widgets/controls",
            "children": [
              "IPY_MODEL_cd9759fdbcbe4ca19524fc775bf8b75b",
              "IPY_MODEL_181dbf48125c4ffba8110569510ed816"
            ]
          }
        },
        "6d43888a162d4397af487b84384f961b": {
          "model_module": "@jupyter-widgets/base",
          "model_name": "LayoutModel",
          "state": {
            "_view_name": "LayoutView",
            "grid_template_rows": null,
            "right": null,
            "justify_content": null,
            "_view_module": "@jupyter-widgets/base",
            "overflow": null,
            "_model_module_version": "1.2.0",
            "_view_count": null,
            "flex_flow": null,
            "width": null,
            "min_width": null,
            "border": null,
            "align_items": null,
            "bottom": null,
            "_model_module": "@jupyter-widgets/base",
            "top": null,
            "grid_column": null,
            "overflow_y": null,
            "overflow_x": null,
            "grid_auto_flow": null,
            "grid_area": null,
            "grid_template_columns": null,
            "flex": null,
            "_model_name": "LayoutModel",
            "justify_items": null,
            "grid_row": null,
            "max_height": null,
            "align_content": null,
            "visibility": null,
            "align_self": null,
            "height": null,
            "min_height": null,
            "padding": null,
            "grid_auto_rows": null,
            "grid_gap": null,
            "max_width": null,
            "order": null,
            "_view_module_version": "1.2.0",
            "grid_template_areas": null,
            "object_position": null,
            "object_fit": null,
            "grid_auto_columns": null,
            "margin": null,
            "display": null,
            "left": null
          }
        },
        "cd9759fdbcbe4ca19524fc775bf8b75b": {
          "model_module": "@jupyter-widgets/controls",
          "model_name": "LabelModel",
          "state": {
            "_view_name": "LabelView",
            "style": "IPY_MODEL_9c8c92f0791d44e287c70c393e54ab8f",
            "_dom_classes": [],
            "description": "",
            "_model_name": "LabelModel",
            "placeholder": "​",
            "_view_module": "@jupyter-widgets/controls",
            "_model_module_version": "1.5.0",
            "value": " 0.44MB of 0.44MB uploaded (0.00MB deduped)\r",
            "_view_count": null,
            "_view_module_version": "1.5.0",
            "description_tooltip": null,
            "_model_module": "@jupyter-widgets/controls",
            "layout": "IPY_MODEL_7d8c7a432948495281dee3ffa2dd803a"
          }
        },
        "181dbf48125c4ffba8110569510ed816": {
          "model_module": "@jupyter-widgets/controls",
          "model_name": "FloatProgressModel",
          "state": {
            "_view_name": "ProgressView",
            "style": "IPY_MODEL_e971b0cefe95486e9ece1463e0e7a43e",
            "_dom_classes": [],
            "description": "",
            "_model_name": "FloatProgressModel",
            "bar_style": "",
            "max": 1,
            "_view_module": "@jupyter-widgets/controls",
            "_model_module_version": "1.5.0",
            "value": 1,
            "_view_count": null,
            "_view_module_version": "1.5.0",
            "orientation": "horizontal",
            "min": 0,
            "description_tooltip": null,
            "_model_module": "@jupyter-widgets/controls",
            "layout": "IPY_MODEL_3ad605b79afb46a4aa823bd2d47287c9"
          }
        },
        "9c8c92f0791d44e287c70c393e54ab8f": {
          "model_module": "@jupyter-widgets/controls",
          "model_name": "DescriptionStyleModel",
          "state": {
            "_view_name": "StyleView",
            "_model_name": "DescriptionStyleModel",
            "description_width": "",
            "_view_module": "@jupyter-widgets/base",
            "_model_module_version": "1.5.0",
            "_view_count": null,
            "_view_module_version": "1.2.0",
            "_model_module": "@jupyter-widgets/controls"
          }
        },
        "7d8c7a432948495281dee3ffa2dd803a": {
          "model_module": "@jupyter-widgets/base",
          "model_name": "LayoutModel",
          "state": {
            "_view_name": "LayoutView",
            "grid_template_rows": null,
            "right": null,
            "justify_content": null,
            "_view_module": "@jupyter-widgets/base",
            "overflow": null,
            "_model_module_version": "1.2.0",
            "_view_count": null,
            "flex_flow": null,
            "width": null,
            "min_width": null,
            "border": null,
            "align_items": null,
            "bottom": null,
            "_model_module": "@jupyter-widgets/base",
            "top": null,
            "grid_column": null,
            "overflow_y": null,
            "overflow_x": null,
            "grid_auto_flow": null,
            "grid_area": null,
            "grid_template_columns": null,
            "flex": null,
            "_model_name": "LayoutModel",
            "justify_items": null,
            "grid_row": null,
            "max_height": null,
            "align_content": null,
            "visibility": null,
            "align_self": null,
            "height": null,
            "min_height": null,
            "padding": null,
            "grid_auto_rows": null,
            "grid_gap": null,
            "max_width": null,
            "order": null,
            "_view_module_version": "1.2.0",
            "grid_template_areas": null,
            "object_position": null,
            "object_fit": null,
            "grid_auto_columns": null,
            "margin": null,
            "display": null,
            "left": null
          }
        },
        "e971b0cefe95486e9ece1463e0e7a43e": {
          "model_module": "@jupyter-widgets/controls",
          "model_name": "ProgressStyleModel",
          "state": {
            "_view_name": "StyleView",
            "_model_name": "ProgressStyleModel",
            "description_width": "",
            "_view_module": "@jupyter-widgets/base",
            "_model_module_version": "1.5.0",
            "_view_count": null,
            "_view_module_version": "1.2.0",
            "bar_color": null,
            "_model_module": "@jupyter-widgets/controls"
          }
        },
        "3ad605b79afb46a4aa823bd2d47287c9": {
          "model_module": "@jupyter-widgets/base",
          "model_name": "LayoutModel",
          "state": {
            "_view_name": "LayoutView",
            "grid_template_rows": null,
            "right": null,
            "justify_content": null,
            "_view_module": "@jupyter-widgets/base",
            "overflow": null,
            "_model_module_version": "1.2.0",
            "_view_count": null,
            "flex_flow": null,
            "width": null,
            "min_width": null,
            "border": null,
            "align_items": null,
            "bottom": null,
            "_model_module": "@jupyter-widgets/base",
            "top": null,
            "grid_column": null,
            "overflow_y": null,
            "overflow_x": null,
            "grid_auto_flow": null,
            "grid_area": null,
            "grid_template_columns": null,
            "flex": null,
            "_model_name": "LayoutModel",
            "justify_items": null,
            "grid_row": null,
            "max_height": null,
            "align_content": null,
            "visibility": null,
            "align_self": null,
            "height": null,
            "min_height": null,
            "padding": null,
            "grid_auto_rows": null,
            "grid_gap": null,
            "max_width": null,
            "order": null,
            "_view_module_version": "1.2.0",
            "grid_template_areas": null,
            "object_position": null,
            "object_fit": null,
            "grid_auto_columns": null,
            "margin": null,
            "display": null,
            "left": null
          }
        },
        "a39d28f1ff4942dfb87712511a615e51": {
          "model_module": "@jupyter-widgets/controls",
          "model_name": "VBoxModel",
          "state": {
            "_view_name": "VBoxView",
            "_dom_classes": [],
            "_model_name": "VBoxModel",
            "_view_module": "@jupyter-widgets/controls",
            "_model_module_version": "1.5.0",
            "_view_count": null,
            "_view_module_version": "1.5.0",
            "box_style": "",
            "layout": "IPY_MODEL_c5e7f46f966d4ead9b3ca8fe51fb80d8",
            "_model_module": "@jupyter-widgets/controls",
            "children": [
              "IPY_MODEL_96b8371e77d54d33b48bade285c6e2ba",
              "IPY_MODEL_e369548329674d248519701834166d05"
            ]
          }
        },
        "c5e7f46f966d4ead9b3ca8fe51fb80d8": {
          "model_module": "@jupyter-widgets/base",
          "model_name": "LayoutModel",
          "state": {
            "_view_name": "LayoutView",
            "grid_template_rows": null,
            "right": null,
            "justify_content": null,
            "_view_module": "@jupyter-widgets/base",
            "overflow": null,
            "_model_module_version": "1.2.0",
            "_view_count": null,
            "flex_flow": null,
            "width": null,
            "min_width": null,
            "border": null,
            "align_items": null,
            "bottom": null,
            "_model_module": "@jupyter-widgets/base",
            "top": null,
            "grid_column": null,
            "overflow_y": null,
            "overflow_x": null,
            "grid_auto_flow": null,
            "grid_area": null,
            "grid_template_columns": null,
            "flex": null,
            "_model_name": "LayoutModel",
            "justify_items": null,
            "grid_row": null,
            "max_height": null,
            "align_content": null,
            "visibility": null,
            "align_self": null,
            "height": null,
            "min_height": null,
            "padding": null,
            "grid_auto_rows": null,
            "grid_gap": null,
            "max_width": null,
            "order": null,
            "_view_module_version": "1.2.0",
            "grid_template_areas": null,
            "object_position": null,
            "object_fit": null,
            "grid_auto_columns": null,
            "margin": null,
            "display": null,
            "left": null
          }
        },
        "96b8371e77d54d33b48bade285c6e2ba": {
          "model_module": "@jupyter-widgets/controls",
          "model_name": "LabelModel",
          "state": {
            "_view_name": "LabelView",
            "style": "IPY_MODEL_d28197a2335d485ab4ceaf7e92a49137",
            "_dom_classes": [],
            "description": "",
            "_model_name": "LabelModel",
            "placeholder": "​",
            "_view_module": "@jupyter-widgets/controls",
            "_model_module_version": "1.5.0",
            "value": " 0.45MB of 0.45MB uploaded (0.00MB deduped)\r",
            "_view_count": null,
            "_view_module_version": "1.5.0",
            "description_tooltip": null,
            "_model_module": "@jupyter-widgets/controls",
            "layout": "IPY_MODEL_d715c4cbae9e440f8d9f4f95d4785d9d"
          }
        },
        "e369548329674d248519701834166d05": {
          "model_module": "@jupyter-widgets/controls",
          "model_name": "FloatProgressModel",
          "state": {
            "_view_name": "ProgressView",
            "style": "IPY_MODEL_634c7c7e4736439fbe75671c08e26abd",
            "_dom_classes": [],
            "description": "",
            "_model_name": "FloatProgressModel",
            "bar_style": "",
            "max": 1,
            "_view_module": "@jupyter-widgets/controls",
            "_model_module_version": "1.5.0",
            "value": 1,
            "_view_count": null,
            "_view_module_version": "1.5.0",
            "orientation": "horizontal",
            "min": 0,
            "description_tooltip": null,
            "_model_module": "@jupyter-widgets/controls",
            "layout": "IPY_MODEL_795ba532d2cf4964b3820767cf183071"
          }
        },
        "d28197a2335d485ab4ceaf7e92a49137": {
          "model_module": "@jupyter-widgets/controls",
          "model_name": "DescriptionStyleModel",
          "state": {
            "_view_name": "StyleView",
            "_model_name": "DescriptionStyleModel",
            "description_width": "",
            "_view_module": "@jupyter-widgets/base",
            "_model_module_version": "1.5.0",
            "_view_count": null,
            "_view_module_version": "1.2.0",
            "_model_module": "@jupyter-widgets/controls"
          }
        },
        "d715c4cbae9e440f8d9f4f95d4785d9d": {
          "model_module": "@jupyter-widgets/base",
          "model_name": "LayoutModel",
          "state": {
            "_view_name": "LayoutView",
            "grid_template_rows": null,
            "right": null,
            "justify_content": null,
            "_view_module": "@jupyter-widgets/base",
            "overflow": null,
            "_model_module_version": "1.2.0",
            "_view_count": null,
            "flex_flow": null,
            "width": null,
            "min_width": null,
            "border": null,
            "align_items": null,
            "bottom": null,
            "_model_module": "@jupyter-widgets/base",
            "top": null,
            "grid_column": null,
            "overflow_y": null,
            "overflow_x": null,
            "grid_auto_flow": null,
            "grid_area": null,
            "grid_template_columns": null,
            "flex": null,
            "_model_name": "LayoutModel",
            "justify_items": null,
            "grid_row": null,
            "max_height": null,
            "align_content": null,
            "visibility": null,
            "align_self": null,
            "height": null,
            "min_height": null,
            "padding": null,
            "grid_auto_rows": null,
            "grid_gap": null,
            "max_width": null,
            "order": null,
            "_view_module_version": "1.2.0",
            "grid_template_areas": null,
            "object_position": null,
            "object_fit": null,
            "grid_auto_columns": null,
            "margin": null,
            "display": null,
            "left": null
          }
        },
        "634c7c7e4736439fbe75671c08e26abd": {
          "model_module": "@jupyter-widgets/controls",
          "model_name": "ProgressStyleModel",
          "state": {
            "_view_name": "StyleView",
            "_model_name": "ProgressStyleModel",
            "description_width": "",
            "_view_module": "@jupyter-widgets/base",
            "_model_module_version": "1.5.0",
            "_view_count": null,
            "_view_module_version": "1.2.0",
            "bar_color": null,
            "_model_module": "@jupyter-widgets/controls"
          }
        },
        "795ba532d2cf4964b3820767cf183071": {
          "model_module": "@jupyter-widgets/base",
          "model_name": "LayoutModel",
          "state": {
            "_view_name": "LayoutView",
            "grid_template_rows": null,
            "right": null,
            "justify_content": null,
            "_view_module": "@jupyter-widgets/base",
            "overflow": null,
            "_model_module_version": "1.2.0",
            "_view_count": null,
            "flex_flow": null,
            "width": null,
            "min_width": null,
            "border": null,
            "align_items": null,
            "bottom": null,
            "_model_module": "@jupyter-widgets/base",
            "top": null,
            "grid_column": null,
            "overflow_y": null,
            "overflow_x": null,
            "grid_auto_flow": null,
            "grid_area": null,
            "grid_template_columns": null,
            "flex": null,
            "_model_name": "LayoutModel",
            "justify_items": null,
            "grid_row": null,
            "max_height": null,
            "align_content": null,
            "visibility": null,
            "align_self": null,
            "height": null,
            "min_height": null,
            "padding": null,
            "grid_auto_rows": null,
            "grid_gap": null,
            "max_width": null,
            "order": null,
            "_view_module_version": "1.2.0",
            "grid_template_areas": null,
            "object_position": null,
            "object_fit": null,
            "grid_auto_columns": null,
            "margin": null,
            "display": null,
            "left": null
          }
        },
        "4ef4ca263b074b7f92c38384990d93ca": {
          "model_module": "@jupyter-widgets/controls",
          "model_name": "VBoxModel",
          "state": {
            "_view_name": "VBoxView",
            "_dom_classes": [],
            "_model_name": "VBoxModel",
            "_view_module": "@jupyter-widgets/controls",
            "_model_module_version": "1.5.0",
            "_view_count": null,
            "_view_module_version": "1.5.0",
            "box_style": "",
            "layout": "IPY_MODEL_a1929109b9c44c36b60469d447552824",
            "_model_module": "@jupyter-widgets/controls",
            "children": [
              "IPY_MODEL_54fa83e8d59345bc96ec71e595b5eed3",
              "IPY_MODEL_0c0072c096d54898a459b8f0fcabebc1"
            ]
          }
        },
        "a1929109b9c44c36b60469d447552824": {
          "model_module": "@jupyter-widgets/base",
          "model_name": "LayoutModel",
          "state": {
            "_view_name": "LayoutView",
            "grid_template_rows": null,
            "right": null,
            "justify_content": null,
            "_view_module": "@jupyter-widgets/base",
            "overflow": null,
            "_model_module_version": "1.2.0",
            "_view_count": null,
            "flex_flow": null,
            "width": null,
            "min_width": null,
            "border": null,
            "align_items": null,
            "bottom": null,
            "_model_module": "@jupyter-widgets/base",
            "top": null,
            "grid_column": null,
            "overflow_y": null,
            "overflow_x": null,
            "grid_auto_flow": null,
            "grid_area": null,
            "grid_template_columns": null,
            "flex": null,
            "_model_name": "LayoutModel",
            "justify_items": null,
            "grid_row": null,
            "max_height": null,
            "align_content": null,
            "visibility": null,
            "align_self": null,
            "height": null,
            "min_height": null,
            "padding": null,
            "grid_auto_rows": null,
            "grid_gap": null,
            "max_width": null,
            "order": null,
            "_view_module_version": "1.2.0",
            "grid_template_areas": null,
            "object_position": null,
            "object_fit": null,
            "grid_auto_columns": null,
            "margin": null,
            "display": null,
            "left": null
          }
        },
        "54fa83e8d59345bc96ec71e595b5eed3": {
          "model_module": "@jupyter-widgets/controls",
          "model_name": "LabelModel",
          "state": {
            "_view_name": "LabelView",
            "style": "IPY_MODEL_a751c729d969437c9a2b0a9a008ee9bd",
            "_dom_classes": [],
            "description": "",
            "_model_name": "LabelModel",
            "placeholder": "​",
            "_view_module": "@jupyter-widgets/controls",
            "_model_module_version": "1.5.0",
            "value": " 0.47MB of 0.47MB uploaded (0.00MB deduped)\r",
            "_view_count": null,
            "_view_module_version": "1.5.0",
            "description_tooltip": null,
            "_model_module": "@jupyter-widgets/controls",
            "layout": "IPY_MODEL_6af179ebf0334f26b8bee0e70ee93ccb"
          }
        },
        "0c0072c096d54898a459b8f0fcabebc1": {
          "model_module": "@jupyter-widgets/controls",
          "model_name": "FloatProgressModel",
          "state": {
            "_view_name": "ProgressView",
            "style": "IPY_MODEL_db3f1bd9983d4d25891e1f1ee6cd63b8",
            "_dom_classes": [],
            "description": "",
            "_model_name": "FloatProgressModel",
            "bar_style": "",
            "max": 1,
            "_view_module": "@jupyter-widgets/controls",
            "_model_module_version": "1.5.0",
            "value": 1,
            "_view_count": null,
            "_view_module_version": "1.5.0",
            "orientation": "horizontal",
            "min": 0,
            "description_tooltip": null,
            "_model_module": "@jupyter-widgets/controls",
            "layout": "IPY_MODEL_eb3eeeea99e3413a8ea4c839b4204deb"
          }
        },
        "a751c729d969437c9a2b0a9a008ee9bd": {
          "model_module": "@jupyter-widgets/controls",
          "model_name": "DescriptionStyleModel",
          "state": {
            "_view_name": "StyleView",
            "_model_name": "DescriptionStyleModel",
            "description_width": "",
            "_view_module": "@jupyter-widgets/base",
            "_model_module_version": "1.5.0",
            "_view_count": null,
            "_view_module_version": "1.2.0",
            "_model_module": "@jupyter-widgets/controls"
          }
        },
        "6af179ebf0334f26b8bee0e70ee93ccb": {
          "model_module": "@jupyter-widgets/base",
          "model_name": "LayoutModel",
          "state": {
            "_view_name": "LayoutView",
            "grid_template_rows": null,
            "right": null,
            "justify_content": null,
            "_view_module": "@jupyter-widgets/base",
            "overflow": null,
            "_model_module_version": "1.2.0",
            "_view_count": null,
            "flex_flow": null,
            "width": null,
            "min_width": null,
            "border": null,
            "align_items": null,
            "bottom": null,
            "_model_module": "@jupyter-widgets/base",
            "top": null,
            "grid_column": null,
            "overflow_y": null,
            "overflow_x": null,
            "grid_auto_flow": null,
            "grid_area": null,
            "grid_template_columns": null,
            "flex": null,
            "_model_name": "LayoutModel",
            "justify_items": null,
            "grid_row": null,
            "max_height": null,
            "align_content": null,
            "visibility": null,
            "align_self": null,
            "height": null,
            "min_height": null,
            "padding": null,
            "grid_auto_rows": null,
            "grid_gap": null,
            "max_width": null,
            "order": null,
            "_view_module_version": "1.2.0",
            "grid_template_areas": null,
            "object_position": null,
            "object_fit": null,
            "grid_auto_columns": null,
            "margin": null,
            "display": null,
            "left": null
          }
        },
        "db3f1bd9983d4d25891e1f1ee6cd63b8": {
          "model_module": "@jupyter-widgets/controls",
          "model_name": "ProgressStyleModel",
          "state": {
            "_view_name": "StyleView",
            "_model_name": "ProgressStyleModel",
            "description_width": "",
            "_view_module": "@jupyter-widgets/base",
            "_model_module_version": "1.5.0",
            "_view_count": null,
            "_view_module_version": "1.2.0",
            "bar_color": null,
            "_model_module": "@jupyter-widgets/controls"
          }
        },
        "eb3eeeea99e3413a8ea4c839b4204deb": {
          "model_module": "@jupyter-widgets/base",
          "model_name": "LayoutModel",
          "state": {
            "_view_name": "LayoutView",
            "grid_template_rows": null,
            "right": null,
            "justify_content": null,
            "_view_module": "@jupyter-widgets/base",
            "overflow": null,
            "_model_module_version": "1.2.0",
            "_view_count": null,
            "flex_flow": null,
            "width": null,
            "min_width": null,
            "border": null,
            "align_items": null,
            "bottom": null,
            "_model_module": "@jupyter-widgets/base",
            "top": null,
            "grid_column": null,
            "overflow_y": null,
            "overflow_x": null,
            "grid_auto_flow": null,
            "grid_area": null,
            "grid_template_columns": null,
            "flex": null,
            "_model_name": "LayoutModel",
            "justify_items": null,
            "grid_row": null,
            "max_height": null,
            "align_content": null,
            "visibility": null,
            "align_self": null,
            "height": null,
            "min_height": null,
            "padding": null,
            "grid_auto_rows": null,
            "grid_gap": null,
            "max_width": null,
            "order": null,
            "_view_module_version": "1.2.0",
            "grid_template_areas": null,
            "object_position": null,
            "object_fit": null,
            "grid_auto_columns": null,
            "margin": null,
            "display": null,
            "left": null
          }
        },
        "084162f47292478cb08ba19c34a843cc": {
          "model_module": "@jupyter-widgets/controls",
          "model_name": "VBoxModel",
          "state": {
            "_view_name": "VBoxView",
            "_dom_classes": [],
            "_model_name": "VBoxModel",
            "_view_module": "@jupyter-widgets/controls",
            "_model_module_version": "1.5.0",
            "_view_count": null,
            "_view_module_version": "1.5.0",
            "box_style": "",
            "layout": "IPY_MODEL_b75fdc2fb0304e3fbb9ceda73a1996a4",
            "_model_module": "@jupyter-widgets/controls",
            "children": [
              "IPY_MODEL_2642ff1bf17b40a8859c93a9901d9ad3",
              "IPY_MODEL_5201734e49074fbfa779ff07695360bf"
            ]
          }
        },
        "b75fdc2fb0304e3fbb9ceda73a1996a4": {
          "model_module": "@jupyter-widgets/base",
          "model_name": "LayoutModel",
          "state": {
            "_view_name": "LayoutView",
            "grid_template_rows": null,
            "right": null,
            "justify_content": null,
            "_view_module": "@jupyter-widgets/base",
            "overflow": null,
            "_model_module_version": "1.2.0",
            "_view_count": null,
            "flex_flow": null,
            "width": null,
            "min_width": null,
            "border": null,
            "align_items": null,
            "bottom": null,
            "_model_module": "@jupyter-widgets/base",
            "top": null,
            "grid_column": null,
            "overflow_y": null,
            "overflow_x": null,
            "grid_auto_flow": null,
            "grid_area": null,
            "grid_template_columns": null,
            "flex": null,
            "_model_name": "LayoutModel",
            "justify_items": null,
            "grid_row": null,
            "max_height": null,
            "align_content": null,
            "visibility": null,
            "align_self": null,
            "height": null,
            "min_height": null,
            "padding": null,
            "grid_auto_rows": null,
            "grid_gap": null,
            "max_width": null,
            "order": null,
            "_view_module_version": "1.2.0",
            "grid_template_areas": null,
            "object_position": null,
            "object_fit": null,
            "grid_auto_columns": null,
            "margin": null,
            "display": null,
            "left": null
          }
        },
        "2642ff1bf17b40a8859c93a9901d9ad3": {
          "model_module": "@jupyter-widgets/controls",
          "model_name": "LabelModel",
          "state": {
            "_view_name": "LabelView",
            "style": "IPY_MODEL_8031de17482249e59740f0b89a0e4aa1",
            "_dom_classes": [],
            "description": "",
            "_model_name": "LabelModel",
            "placeholder": "​",
            "_view_module": "@jupyter-widgets/controls",
            "_model_module_version": "1.5.0",
            "value": " 0.48MB of 0.48MB uploaded (0.00MB deduped)\r",
            "_view_count": null,
            "_view_module_version": "1.5.0",
            "description_tooltip": null,
            "_model_module": "@jupyter-widgets/controls",
            "layout": "IPY_MODEL_6ff4f044776a4cecbe27734f5a08f571"
          }
        },
        "5201734e49074fbfa779ff07695360bf": {
          "model_module": "@jupyter-widgets/controls",
          "model_name": "FloatProgressModel",
          "state": {
            "_view_name": "ProgressView",
            "style": "IPY_MODEL_7998ca3c89314529874b060ca7231719",
            "_dom_classes": [],
            "description": "",
            "_model_name": "FloatProgressModel",
            "bar_style": "",
            "max": 1,
            "_view_module": "@jupyter-widgets/controls",
            "_model_module_version": "1.5.0",
            "value": 1,
            "_view_count": null,
            "_view_module_version": "1.5.0",
            "orientation": "horizontal",
            "min": 0,
            "description_tooltip": null,
            "_model_module": "@jupyter-widgets/controls",
            "layout": "IPY_MODEL_3ac675553c7b4e07a152351e76ff8ab0"
          }
        },
        "8031de17482249e59740f0b89a0e4aa1": {
          "model_module": "@jupyter-widgets/controls",
          "model_name": "DescriptionStyleModel",
          "state": {
            "_view_name": "StyleView",
            "_model_name": "DescriptionStyleModel",
            "description_width": "",
            "_view_module": "@jupyter-widgets/base",
            "_model_module_version": "1.5.0",
            "_view_count": null,
            "_view_module_version": "1.2.0",
            "_model_module": "@jupyter-widgets/controls"
          }
        },
        "6ff4f044776a4cecbe27734f5a08f571": {
          "model_module": "@jupyter-widgets/base",
          "model_name": "LayoutModel",
          "state": {
            "_view_name": "LayoutView",
            "grid_template_rows": null,
            "right": null,
            "justify_content": null,
            "_view_module": "@jupyter-widgets/base",
            "overflow": null,
            "_model_module_version": "1.2.0",
            "_view_count": null,
            "flex_flow": null,
            "width": null,
            "min_width": null,
            "border": null,
            "align_items": null,
            "bottom": null,
            "_model_module": "@jupyter-widgets/base",
            "top": null,
            "grid_column": null,
            "overflow_y": null,
            "overflow_x": null,
            "grid_auto_flow": null,
            "grid_area": null,
            "grid_template_columns": null,
            "flex": null,
            "_model_name": "LayoutModel",
            "justify_items": null,
            "grid_row": null,
            "max_height": null,
            "align_content": null,
            "visibility": null,
            "align_self": null,
            "height": null,
            "min_height": null,
            "padding": null,
            "grid_auto_rows": null,
            "grid_gap": null,
            "max_width": null,
            "order": null,
            "_view_module_version": "1.2.0",
            "grid_template_areas": null,
            "object_position": null,
            "object_fit": null,
            "grid_auto_columns": null,
            "margin": null,
            "display": null,
            "left": null
          }
        },
        "7998ca3c89314529874b060ca7231719": {
          "model_module": "@jupyter-widgets/controls",
          "model_name": "ProgressStyleModel",
          "state": {
            "_view_name": "StyleView",
            "_model_name": "ProgressStyleModel",
            "description_width": "",
            "_view_module": "@jupyter-widgets/base",
            "_model_module_version": "1.5.0",
            "_view_count": null,
            "_view_module_version": "1.2.0",
            "bar_color": null,
            "_model_module": "@jupyter-widgets/controls"
          }
        },
        "3ac675553c7b4e07a152351e76ff8ab0": {
          "model_module": "@jupyter-widgets/base",
          "model_name": "LayoutModel",
          "state": {
            "_view_name": "LayoutView",
            "grid_template_rows": null,
            "right": null,
            "justify_content": null,
            "_view_module": "@jupyter-widgets/base",
            "overflow": null,
            "_model_module_version": "1.2.0",
            "_view_count": null,
            "flex_flow": null,
            "width": null,
            "min_width": null,
            "border": null,
            "align_items": null,
            "bottom": null,
            "_model_module": "@jupyter-widgets/base",
            "top": null,
            "grid_column": null,
            "overflow_y": null,
            "overflow_x": null,
            "grid_auto_flow": null,
            "grid_area": null,
            "grid_template_columns": null,
            "flex": null,
            "_model_name": "LayoutModel",
            "justify_items": null,
            "grid_row": null,
            "max_height": null,
            "align_content": null,
            "visibility": null,
            "align_self": null,
            "height": null,
            "min_height": null,
            "padding": null,
            "grid_auto_rows": null,
            "grid_gap": null,
            "max_width": null,
            "order": null,
            "_view_module_version": "1.2.0",
            "grid_template_areas": null,
            "object_position": null,
            "object_fit": null,
            "grid_auto_columns": null,
            "margin": null,
            "display": null,
            "left": null
          }
        },
        "59289a03f2534544ba9a37765b00aa76": {
          "model_module": "@jupyter-widgets/controls",
          "model_name": "VBoxModel",
          "state": {
            "_view_name": "VBoxView",
            "_dom_classes": [],
            "_model_name": "VBoxModel",
            "_view_module": "@jupyter-widgets/controls",
            "_model_module_version": "1.5.0",
            "_view_count": null,
            "_view_module_version": "1.5.0",
            "box_style": "",
            "layout": "IPY_MODEL_09fad9884c45470995f510ce4517cf29",
            "_model_module": "@jupyter-widgets/controls",
            "children": [
              "IPY_MODEL_9b731a058e7a4eb1947b6be726e0920f",
              "IPY_MODEL_1805d05a54fd44a39feb8558974cf573"
            ]
          }
        },
        "09fad9884c45470995f510ce4517cf29": {
          "model_module": "@jupyter-widgets/base",
          "model_name": "LayoutModel",
          "state": {
            "_view_name": "LayoutView",
            "grid_template_rows": null,
            "right": null,
            "justify_content": null,
            "_view_module": "@jupyter-widgets/base",
            "overflow": null,
            "_model_module_version": "1.2.0",
            "_view_count": null,
            "flex_flow": null,
            "width": null,
            "min_width": null,
            "border": null,
            "align_items": null,
            "bottom": null,
            "_model_module": "@jupyter-widgets/base",
            "top": null,
            "grid_column": null,
            "overflow_y": null,
            "overflow_x": null,
            "grid_auto_flow": null,
            "grid_area": null,
            "grid_template_columns": null,
            "flex": null,
            "_model_name": "LayoutModel",
            "justify_items": null,
            "grid_row": null,
            "max_height": null,
            "align_content": null,
            "visibility": null,
            "align_self": null,
            "height": null,
            "min_height": null,
            "padding": null,
            "grid_auto_rows": null,
            "grid_gap": null,
            "max_width": null,
            "order": null,
            "_view_module_version": "1.2.0",
            "grid_template_areas": null,
            "object_position": null,
            "object_fit": null,
            "grid_auto_columns": null,
            "margin": null,
            "display": null,
            "left": null
          }
        },
        "9b731a058e7a4eb1947b6be726e0920f": {
          "model_module": "@jupyter-widgets/controls",
          "model_name": "LabelModel",
          "state": {
            "_view_name": "LabelView",
            "style": "IPY_MODEL_ce67ec3d39734755a520d8d4e06b53f4",
            "_dom_classes": [],
            "description": "",
            "_model_name": "LabelModel",
            "placeholder": "​",
            "_view_module": "@jupyter-widgets/controls",
            "_model_module_version": "1.5.0",
            "value": " 0.49MB of 0.49MB uploaded (0.00MB deduped)\r",
            "_view_count": null,
            "_view_module_version": "1.5.0",
            "description_tooltip": null,
            "_model_module": "@jupyter-widgets/controls",
            "layout": "IPY_MODEL_a98a72e385374e11b86595d285997775"
          }
        },
        "1805d05a54fd44a39feb8558974cf573": {
          "model_module": "@jupyter-widgets/controls",
          "model_name": "FloatProgressModel",
          "state": {
            "_view_name": "ProgressView",
            "style": "IPY_MODEL_be24b24af9e44d5ead5be9616aef9552",
            "_dom_classes": [],
            "description": "",
            "_model_name": "FloatProgressModel",
            "bar_style": "",
            "max": 1,
            "_view_module": "@jupyter-widgets/controls",
            "_model_module_version": "1.5.0",
            "value": 1,
            "_view_count": null,
            "_view_module_version": "1.5.0",
            "orientation": "horizontal",
            "min": 0,
            "description_tooltip": null,
            "_model_module": "@jupyter-widgets/controls",
            "layout": "IPY_MODEL_64cb45dd7ec745b18c64fe9ea90876f0"
          }
        },
        "ce67ec3d39734755a520d8d4e06b53f4": {
          "model_module": "@jupyter-widgets/controls",
          "model_name": "DescriptionStyleModel",
          "state": {
            "_view_name": "StyleView",
            "_model_name": "DescriptionStyleModel",
            "description_width": "",
            "_view_module": "@jupyter-widgets/base",
            "_model_module_version": "1.5.0",
            "_view_count": null,
            "_view_module_version": "1.2.0",
            "_model_module": "@jupyter-widgets/controls"
          }
        },
        "a98a72e385374e11b86595d285997775": {
          "model_module": "@jupyter-widgets/base",
          "model_name": "LayoutModel",
          "state": {
            "_view_name": "LayoutView",
            "grid_template_rows": null,
            "right": null,
            "justify_content": null,
            "_view_module": "@jupyter-widgets/base",
            "overflow": null,
            "_model_module_version": "1.2.0",
            "_view_count": null,
            "flex_flow": null,
            "width": null,
            "min_width": null,
            "border": null,
            "align_items": null,
            "bottom": null,
            "_model_module": "@jupyter-widgets/base",
            "top": null,
            "grid_column": null,
            "overflow_y": null,
            "overflow_x": null,
            "grid_auto_flow": null,
            "grid_area": null,
            "grid_template_columns": null,
            "flex": null,
            "_model_name": "LayoutModel",
            "justify_items": null,
            "grid_row": null,
            "max_height": null,
            "align_content": null,
            "visibility": null,
            "align_self": null,
            "height": null,
            "min_height": null,
            "padding": null,
            "grid_auto_rows": null,
            "grid_gap": null,
            "max_width": null,
            "order": null,
            "_view_module_version": "1.2.0",
            "grid_template_areas": null,
            "object_position": null,
            "object_fit": null,
            "grid_auto_columns": null,
            "margin": null,
            "display": null,
            "left": null
          }
        },
        "be24b24af9e44d5ead5be9616aef9552": {
          "model_module": "@jupyter-widgets/controls",
          "model_name": "ProgressStyleModel",
          "state": {
            "_view_name": "StyleView",
            "_model_name": "ProgressStyleModel",
            "description_width": "",
            "_view_module": "@jupyter-widgets/base",
            "_model_module_version": "1.5.0",
            "_view_count": null,
            "_view_module_version": "1.2.0",
            "bar_color": null,
            "_model_module": "@jupyter-widgets/controls"
          }
        },
        "64cb45dd7ec745b18c64fe9ea90876f0": {
          "model_module": "@jupyter-widgets/base",
          "model_name": "LayoutModel",
          "state": {
            "_view_name": "LayoutView",
            "grid_template_rows": null,
            "right": null,
            "justify_content": null,
            "_view_module": "@jupyter-widgets/base",
            "overflow": null,
            "_model_module_version": "1.2.0",
            "_view_count": null,
            "flex_flow": null,
            "width": null,
            "min_width": null,
            "border": null,
            "align_items": null,
            "bottom": null,
            "_model_module": "@jupyter-widgets/base",
            "top": null,
            "grid_column": null,
            "overflow_y": null,
            "overflow_x": null,
            "grid_auto_flow": null,
            "grid_area": null,
            "grid_template_columns": null,
            "flex": null,
            "_model_name": "LayoutModel",
            "justify_items": null,
            "grid_row": null,
            "max_height": null,
            "align_content": null,
            "visibility": null,
            "align_self": null,
            "height": null,
            "min_height": null,
            "padding": null,
            "grid_auto_rows": null,
            "grid_gap": null,
            "max_width": null,
            "order": null,
            "_view_module_version": "1.2.0",
            "grid_template_areas": null,
            "object_position": null,
            "object_fit": null,
            "grid_auto_columns": null,
            "margin": null,
            "display": null,
            "left": null
          }
        },
        "dbe2fe8660aa4955936ced82bbdbab7f": {
          "model_module": "@jupyter-widgets/controls",
          "model_name": "VBoxModel",
          "state": {
            "_view_name": "VBoxView",
            "_dom_classes": [],
            "_model_name": "VBoxModel",
            "_view_module": "@jupyter-widgets/controls",
            "_model_module_version": "1.5.0",
            "_view_count": null,
            "_view_module_version": "1.5.0",
            "box_style": "",
            "layout": "IPY_MODEL_54a3950315ab46d1ae2c93d9bb2b70d9",
            "_model_module": "@jupyter-widgets/controls",
            "children": [
              "IPY_MODEL_8068fd610dc14df38d4d5c522dd1b03c",
              "IPY_MODEL_f0a259fff9f24fb5a4fea1311d8e60c8"
            ]
          }
        },
        "54a3950315ab46d1ae2c93d9bb2b70d9": {
          "model_module": "@jupyter-widgets/base",
          "model_name": "LayoutModel",
          "state": {
            "_view_name": "LayoutView",
            "grid_template_rows": null,
            "right": null,
            "justify_content": null,
            "_view_module": "@jupyter-widgets/base",
            "overflow": null,
            "_model_module_version": "1.2.0",
            "_view_count": null,
            "flex_flow": null,
            "width": null,
            "min_width": null,
            "border": null,
            "align_items": null,
            "bottom": null,
            "_model_module": "@jupyter-widgets/base",
            "top": null,
            "grid_column": null,
            "overflow_y": null,
            "overflow_x": null,
            "grid_auto_flow": null,
            "grid_area": null,
            "grid_template_columns": null,
            "flex": null,
            "_model_name": "LayoutModel",
            "justify_items": null,
            "grid_row": null,
            "max_height": null,
            "align_content": null,
            "visibility": null,
            "align_self": null,
            "height": null,
            "min_height": null,
            "padding": null,
            "grid_auto_rows": null,
            "grid_gap": null,
            "max_width": null,
            "order": null,
            "_view_module_version": "1.2.0",
            "grid_template_areas": null,
            "object_position": null,
            "object_fit": null,
            "grid_auto_columns": null,
            "margin": null,
            "display": null,
            "left": null
          }
        },
        "8068fd610dc14df38d4d5c522dd1b03c": {
          "model_module": "@jupyter-widgets/controls",
          "model_name": "LabelModel",
          "state": {
            "_view_name": "LabelView",
            "style": "IPY_MODEL_0bb07341c6d142e1a7bc2cbdf180f83f",
            "_dom_classes": [],
            "description": "",
            "_model_name": "LabelModel",
            "placeholder": "​",
            "_view_module": "@jupyter-widgets/controls",
            "_model_module_version": "1.5.0",
            "value": " 0.51MB of 0.51MB uploaded (0.00MB deduped)\r",
            "_view_count": null,
            "_view_module_version": "1.5.0",
            "description_tooltip": null,
            "_model_module": "@jupyter-widgets/controls",
            "layout": "IPY_MODEL_ac8b4e8c732848a180ec58e055833937"
          }
        },
        "f0a259fff9f24fb5a4fea1311d8e60c8": {
          "model_module": "@jupyter-widgets/controls",
          "model_name": "FloatProgressModel",
          "state": {
            "_view_name": "ProgressView",
            "style": "IPY_MODEL_e759e57443914324b23f81f2c3adb10f",
            "_dom_classes": [],
            "description": "",
            "_model_name": "FloatProgressModel",
            "bar_style": "",
            "max": 1,
            "_view_module": "@jupyter-widgets/controls",
            "_model_module_version": "1.5.0",
            "value": 1,
            "_view_count": null,
            "_view_module_version": "1.5.0",
            "orientation": "horizontal",
            "min": 0,
            "description_tooltip": null,
            "_model_module": "@jupyter-widgets/controls",
            "layout": "IPY_MODEL_a28418eeaead43ed96b20caa8272ecfb"
          }
        },
        "0bb07341c6d142e1a7bc2cbdf180f83f": {
          "model_module": "@jupyter-widgets/controls",
          "model_name": "DescriptionStyleModel",
          "state": {
            "_view_name": "StyleView",
            "_model_name": "DescriptionStyleModel",
            "description_width": "",
            "_view_module": "@jupyter-widgets/base",
            "_model_module_version": "1.5.0",
            "_view_count": null,
            "_view_module_version": "1.2.0",
            "_model_module": "@jupyter-widgets/controls"
          }
        },
        "ac8b4e8c732848a180ec58e055833937": {
          "model_module": "@jupyter-widgets/base",
          "model_name": "LayoutModel",
          "state": {
            "_view_name": "LayoutView",
            "grid_template_rows": null,
            "right": null,
            "justify_content": null,
            "_view_module": "@jupyter-widgets/base",
            "overflow": null,
            "_model_module_version": "1.2.0",
            "_view_count": null,
            "flex_flow": null,
            "width": null,
            "min_width": null,
            "border": null,
            "align_items": null,
            "bottom": null,
            "_model_module": "@jupyter-widgets/base",
            "top": null,
            "grid_column": null,
            "overflow_y": null,
            "overflow_x": null,
            "grid_auto_flow": null,
            "grid_area": null,
            "grid_template_columns": null,
            "flex": null,
            "_model_name": "LayoutModel",
            "justify_items": null,
            "grid_row": null,
            "max_height": null,
            "align_content": null,
            "visibility": null,
            "align_self": null,
            "height": null,
            "min_height": null,
            "padding": null,
            "grid_auto_rows": null,
            "grid_gap": null,
            "max_width": null,
            "order": null,
            "_view_module_version": "1.2.0",
            "grid_template_areas": null,
            "object_position": null,
            "object_fit": null,
            "grid_auto_columns": null,
            "margin": null,
            "display": null,
            "left": null
          }
        },
        "e759e57443914324b23f81f2c3adb10f": {
          "model_module": "@jupyter-widgets/controls",
          "model_name": "ProgressStyleModel",
          "state": {
            "_view_name": "StyleView",
            "_model_name": "ProgressStyleModel",
            "description_width": "",
            "_view_module": "@jupyter-widgets/base",
            "_model_module_version": "1.5.0",
            "_view_count": null,
            "_view_module_version": "1.2.0",
            "bar_color": null,
            "_model_module": "@jupyter-widgets/controls"
          }
        },
        "a28418eeaead43ed96b20caa8272ecfb": {
          "model_module": "@jupyter-widgets/base",
          "model_name": "LayoutModel",
          "state": {
            "_view_name": "LayoutView",
            "grid_template_rows": null,
            "right": null,
            "justify_content": null,
            "_view_module": "@jupyter-widgets/base",
            "overflow": null,
            "_model_module_version": "1.2.0",
            "_view_count": null,
            "flex_flow": null,
            "width": null,
            "min_width": null,
            "border": null,
            "align_items": null,
            "bottom": null,
            "_model_module": "@jupyter-widgets/base",
            "top": null,
            "grid_column": null,
            "overflow_y": null,
            "overflow_x": null,
            "grid_auto_flow": null,
            "grid_area": null,
            "grid_template_columns": null,
            "flex": null,
            "_model_name": "LayoutModel",
            "justify_items": null,
            "grid_row": null,
            "max_height": null,
            "align_content": null,
            "visibility": null,
            "align_self": null,
            "height": null,
            "min_height": null,
            "padding": null,
            "grid_auto_rows": null,
            "grid_gap": null,
            "max_width": null,
            "order": null,
            "_view_module_version": "1.2.0",
            "grid_template_areas": null,
            "object_position": null,
            "object_fit": null,
            "grid_auto_columns": null,
            "margin": null,
            "display": null,
            "left": null
          }
        },
        "11e28b67650b4af4bc3ba3d3a79e1902": {
          "model_module": "@jupyter-widgets/controls",
          "model_name": "VBoxModel",
          "state": {
            "_view_name": "VBoxView",
            "_dom_classes": [],
            "_model_name": "VBoxModel",
            "_view_module": "@jupyter-widgets/controls",
            "_model_module_version": "1.5.0",
            "_view_count": null,
            "_view_module_version": "1.5.0",
            "box_style": "",
            "layout": "IPY_MODEL_16537b21cbfa45a3895d7715ffc0702f",
            "_model_module": "@jupyter-widgets/controls",
            "children": [
              "IPY_MODEL_cd8be7d0ca224056a2f698c82e277437",
              "IPY_MODEL_d53536d3f93f4aa486cf41d25732829d"
            ]
          }
        },
        "16537b21cbfa45a3895d7715ffc0702f": {
          "model_module": "@jupyter-widgets/base",
          "model_name": "LayoutModel",
          "state": {
            "_view_name": "LayoutView",
            "grid_template_rows": null,
            "right": null,
            "justify_content": null,
            "_view_module": "@jupyter-widgets/base",
            "overflow": null,
            "_model_module_version": "1.2.0",
            "_view_count": null,
            "flex_flow": null,
            "width": null,
            "min_width": null,
            "border": null,
            "align_items": null,
            "bottom": null,
            "_model_module": "@jupyter-widgets/base",
            "top": null,
            "grid_column": null,
            "overflow_y": null,
            "overflow_x": null,
            "grid_auto_flow": null,
            "grid_area": null,
            "grid_template_columns": null,
            "flex": null,
            "_model_name": "LayoutModel",
            "justify_items": null,
            "grid_row": null,
            "max_height": null,
            "align_content": null,
            "visibility": null,
            "align_self": null,
            "height": null,
            "min_height": null,
            "padding": null,
            "grid_auto_rows": null,
            "grid_gap": null,
            "max_width": null,
            "order": null,
            "_view_module_version": "1.2.0",
            "grid_template_areas": null,
            "object_position": null,
            "object_fit": null,
            "grid_auto_columns": null,
            "margin": null,
            "display": null,
            "left": null
          }
        },
        "cd8be7d0ca224056a2f698c82e277437": {
          "model_module": "@jupyter-widgets/controls",
          "model_name": "LabelModel",
          "state": {
            "_view_name": "LabelView",
            "style": "IPY_MODEL_06687644969a4078b19f8b60c9029f28",
            "_dom_classes": [],
            "description": "",
            "_model_name": "LabelModel",
            "placeholder": "​",
            "_view_module": "@jupyter-widgets/controls",
            "_model_module_version": "1.5.0",
            "value": " 0.52MB of 0.52MB uploaded (0.00MB deduped)\r",
            "_view_count": null,
            "_view_module_version": "1.5.0",
            "description_tooltip": null,
            "_model_module": "@jupyter-widgets/controls",
            "layout": "IPY_MODEL_fa54652b59234bed983fe2e0f71ddebd"
          }
        },
        "d53536d3f93f4aa486cf41d25732829d": {
          "model_module": "@jupyter-widgets/controls",
          "model_name": "FloatProgressModel",
          "state": {
            "_view_name": "ProgressView",
            "style": "IPY_MODEL_cc36589a47484b61b84858602d6b32ac",
            "_dom_classes": [],
            "description": "",
            "_model_name": "FloatProgressModel",
            "bar_style": "",
            "max": 1,
            "_view_module": "@jupyter-widgets/controls",
            "_model_module_version": "1.5.0",
            "value": 1,
            "_view_count": null,
            "_view_module_version": "1.5.0",
            "orientation": "horizontal",
            "min": 0,
            "description_tooltip": null,
            "_model_module": "@jupyter-widgets/controls",
            "layout": "IPY_MODEL_7ed6a05a6da8432ca314e7f22efd0dcb"
          }
        },
        "06687644969a4078b19f8b60c9029f28": {
          "model_module": "@jupyter-widgets/controls",
          "model_name": "DescriptionStyleModel",
          "state": {
            "_view_name": "StyleView",
            "_model_name": "DescriptionStyleModel",
            "description_width": "",
            "_view_module": "@jupyter-widgets/base",
            "_model_module_version": "1.5.0",
            "_view_count": null,
            "_view_module_version": "1.2.0",
            "_model_module": "@jupyter-widgets/controls"
          }
        },
        "fa54652b59234bed983fe2e0f71ddebd": {
          "model_module": "@jupyter-widgets/base",
          "model_name": "LayoutModel",
          "state": {
            "_view_name": "LayoutView",
            "grid_template_rows": null,
            "right": null,
            "justify_content": null,
            "_view_module": "@jupyter-widgets/base",
            "overflow": null,
            "_model_module_version": "1.2.0",
            "_view_count": null,
            "flex_flow": null,
            "width": null,
            "min_width": null,
            "border": null,
            "align_items": null,
            "bottom": null,
            "_model_module": "@jupyter-widgets/base",
            "top": null,
            "grid_column": null,
            "overflow_y": null,
            "overflow_x": null,
            "grid_auto_flow": null,
            "grid_area": null,
            "grid_template_columns": null,
            "flex": null,
            "_model_name": "LayoutModel",
            "justify_items": null,
            "grid_row": null,
            "max_height": null,
            "align_content": null,
            "visibility": null,
            "align_self": null,
            "height": null,
            "min_height": null,
            "padding": null,
            "grid_auto_rows": null,
            "grid_gap": null,
            "max_width": null,
            "order": null,
            "_view_module_version": "1.2.0",
            "grid_template_areas": null,
            "object_position": null,
            "object_fit": null,
            "grid_auto_columns": null,
            "margin": null,
            "display": null,
            "left": null
          }
        },
        "cc36589a47484b61b84858602d6b32ac": {
          "model_module": "@jupyter-widgets/controls",
          "model_name": "ProgressStyleModel",
          "state": {
            "_view_name": "StyleView",
            "_model_name": "ProgressStyleModel",
            "description_width": "",
            "_view_module": "@jupyter-widgets/base",
            "_model_module_version": "1.5.0",
            "_view_count": null,
            "_view_module_version": "1.2.0",
            "bar_color": null,
            "_model_module": "@jupyter-widgets/controls"
          }
        },
        "7ed6a05a6da8432ca314e7f22efd0dcb": {
          "model_module": "@jupyter-widgets/base",
          "model_name": "LayoutModel",
          "state": {
            "_view_name": "LayoutView",
            "grid_template_rows": null,
            "right": null,
            "justify_content": null,
            "_view_module": "@jupyter-widgets/base",
            "overflow": null,
            "_model_module_version": "1.2.0",
            "_view_count": null,
            "flex_flow": null,
            "width": null,
            "min_width": null,
            "border": null,
            "align_items": null,
            "bottom": null,
            "_model_module": "@jupyter-widgets/base",
            "top": null,
            "grid_column": null,
            "overflow_y": null,
            "overflow_x": null,
            "grid_auto_flow": null,
            "grid_area": null,
            "grid_template_columns": null,
            "flex": null,
            "_model_name": "LayoutModel",
            "justify_items": null,
            "grid_row": null,
            "max_height": null,
            "align_content": null,
            "visibility": null,
            "align_self": null,
            "height": null,
            "min_height": null,
            "padding": null,
            "grid_auto_rows": null,
            "grid_gap": null,
            "max_width": null,
            "order": null,
            "_view_module_version": "1.2.0",
            "grid_template_areas": null,
            "object_position": null,
            "object_fit": null,
            "grid_auto_columns": null,
            "margin": null,
            "display": null,
            "left": null
          }
        },
        "07f8b666f2c346178a3b432f5d4cf0bf": {
          "model_module": "@jupyter-widgets/controls",
          "model_name": "VBoxModel",
          "state": {
            "_view_name": "VBoxView",
            "_dom_classes": [],
            "_model_name": "VBoxModel",
            "_view_module": "@jupyter-widgets/controls",
            "_model_module_version": "1.5.0",
            "_view_count": null,
            "_view_module_version": "1.5.0",
            "box_style": "",
            "layout": "IPY_MODEL_d82a95b1972640f8b253368f1b6f4978",
            "_model_module": "@jupyter-widgets/controls",
            "children": [
              "IPY_MODEL_5088f0c04c7d45239f3e25be62f681d0",
              "IPY_MODEL_336947f5be7243579a5ce4f8196c8a08"
            ]
          }
        },
        "d82a95b1972640f8b253368f1b6f4978": {
          "model_module": "@jupyter-widgets/base",
          "model_name": "LayoutModel",
          "state": {
            "_view_name": "LayoutView",
            "grid_template_rows": null,
            "right": null,
            "justify_content": null,
            "_view_module": "@jupyter-widgets/base",
            "overflow": null,
            "_model_module_version": "1.2.0",
            "_view_count": null,
            "flex_flow": null,
            "width": null,
            "min_width": null,
            "border": null,
            "align_items": null,
            "bottom": null,
            "_model_module": "@jupyter-widgets/base",
            "top": null,
            "grid_column": null,
            "overflow_y": null,
            "overflow_x": null,
            "grid_auto_flow": null,
            "grid_area": null,
            "grid_template_columns": null,
            "flex": null,
            "_model_name": "LayoutModel",
            "justify_items": null,
            "grid_row": null,
            "max_height": null,
            "align_content": null,
            "visibility": null,
            "align_self": null,
            "height": null,
            "min_height": null,
            "padding": null,
            "grid_auto_rows": null,
            "grid_gap": null,
            "max_width": null,
            "order": null,
            "_view_module_version": "1.2.0",
            "grid_template_areas": null,
            "object_position": null,
            "object_fit": null,
            "grid_auto_columns": null,
            "margin": null,
            "display": null,
            "left": null
          }
        },
        "5088f0c04c7d45239f3e25be62f681d0": {
          "model_module": "@jupyter-widgets/controls",
          "model_name": "LabelModel",
          "state": {
            "_view_name": "LabelView",
            "style": "IPY_MODEL_391616ae83e543b29b3780f8ed7d74bf",
            "_dom_classes": [],
            "description": "",
            "_model_name": "LabelModel",
            "placeholder": "​",
            "_view_module": "@jupyter-widgets/controls",
            "_model_module_version": "1.5.0",
            "value": " 0.53MB of 0.53MB uploaded (0.00MB deduped)\r",
            "_view_count": null,
            "_view_module_version": "1.5.0",
            "description_tooltip": null,
            "_model_module": "@jupyter-widgets/controls",
            "layout": "IPY_MODEL_409139aa000c4a2babefc1190bd5143b"
          }
        },
        "336947f5be7243579a5ce4f8196c8a08": {
          "model_module": "@jupyter-widgets/controls",
          "model_name": "FloatProgressModel",
          "state": {
            "_view_name": "ProgressView",
            "style": "IPY_MODEL_e357e2f4a9484054907eedafdd38f002",
            "_dom_classes": [],
            "description": "",
            "_model_name": "FloatProgressModel",
            "bar_style": "",
            "max": 1,
            "_view_module": "@jupyter-widgets/controls",
            "_model_module_version": "1.5.0",
            "value": 1,
            "_view_count": null,
            "_view_module_version": "1.5.0",
            "orientation": "horizontal",
            "min": 0,
            "description_tooltip": null,
            "_model_module": "@jupyter-widgets/controls",
            "layout": "IPY_MODEL_2fd21beaa7494d7fb8432d81511abb4e"
          }
        },
        "391616ae83e543b29b3780f8ed7d74bf": {
          "model_module": "@jupyter-widgets/controls",
          "model_name": "DescriptionStyleModel",
          "state": {
            "_view_name": "StyleView",
            "_model_name": "DescriptionStyleModel",
            "description_width": "",
            "_view_module": "@jupyter-widgets/base",
            "_model_module_version": "1.5.0",
            "_view_count": null,
            "_view_module_version": "1.2.0",
            "_model_module": "@jupyter-widgets/controls"
          }
        },
        "409139aa000c4a2babefc1190bd5143b": {
          "model_module": "@jupyter-widgets/base",
          "model_name": "LayoutModel",
          "state": {
            "_view_name": "LayoutView",
            "grid_template_rows": null,
            "right": null,
            "justify_content": null,
            "_view_module": "@jupyter-widgets/base",
            "overflow": null,
            "_model_module_version": "1.2.0",
            "_view_count": null,
            "flex_flow": null,
            "width": null,
            "min_width": null,
            "border": null,
            "align_items": null,
            "bottom": null,
            "_model_module": "@jupyter-widgets/base",
            "top": null,
            "grid_column": null,
            "overflow_y": null,
            "overflow_x": null,
            "grid_auto_flow": null,
            "grid_area": null,
            "grid_template_columns": null,
            "flex": null,
            "_model_name": "LayoutModel",
            "justify_items": null,
            "grid_row": null,
            "max_height": null,
            "align_content": null,
            "visibility": null,
            "align_self": null,
            "height": null,
            "min_height": null,
            "padding": null,
            "grid_auto_rows": null,
            "grid_gap": null,
            "max_width": null,
            "order": null,
            "_view_module_version": "1.2.0",
            "grid_template_areas": null,
            "object_position": null,
            "object_fit": null,
            "grid_auto_columns": null,
            "margin": null,
            "display": null,
            "left": null
          }
        },
        "e357e2f4a9484054907eedafdd38f002": {
          "model_module": "@jupyter-widgets/controls",
          "model_name": "ProgressStyleModel",
          "state": {
            "_view_name": "StyleView",
            "_model_name": "ProgressStyleModel",
            "description_width": "",
            "_view_module": "@jupyter-widgets/base",
            "_model_module_version": "1.5.0",
            "_view_count": null,
            "_view_module_version": "1.2.0",
            "bar_color": null,
            "_model_module": "@jupyter-widgets/controls"
          }
        },
        "2fd21beaa7494d7fb8432d81511abb4e": {
          "model_module": "@jupyter-widgets/base",
          "model_name": "LayoutModel",
          "state": {
            "_view_name": "LayoutView",
            "grid_template_rows": null,
            "right": null,
            "justify_content": null,
            "_view_module": "@jupyter-widgets/base",
            "overflow": null,
            "_model_module_version": "1.2.0",
            "_view_count": null,
            "flex_flow": null,
            "width": null,
            "min_width": null,
            "border": null,
            "align_items": null,
            "bottom": null,
            "_model_module": "@jupyter-widgets/base",
            "top": null,
            "grid_column": null,
            "overflow_y": null,
            "overflow_x": null,
            "grid_auto_flow": null,
            "grid_area": null,
            "grid_template_columns": null,
            "flex": null,
            "_model_name": "LayoutModel",
            "justify_items": null,
            "grid_row": null,
            "max_height": null,
            "align_content": null,
            "visibility": null,
            "align_self": null,
            "height": null,
            "min_height": null,
            "padding": null,
            "grid_auto_rows": null,
            "grid_gap": null,
            "max_width": null,
            "order": null,
            "_view_module_version": "1.2.0",
            "grid_template_areas": null,
            "object_position": null,
            "object_fit": null,
            "grid_auto_columns": null,
            "margin": null,
            "display": null,
            "left": null
          }
        },
        "cbc9c5ac2c314cb09892b6f4a0241558": {
          "model_module": "@jupyter-widgets/controls",
          "model_name": "VBoxModel",
          "state": {
            "_view_name": "VBoxView",
            "_dom_classes": [],
            "_model_name": "VBoxModel",
            "_view_module": "@jupyter-widgets/controls",
            "_model_module_version": "1.5.0",
            "_view_count": null,
            "_view_module_version": "1.5.0",
            "box_style": "",
            "layout": "IPY_MODEL_e035e33113d349ea8f5b289fc95beb74",
            "_model_module": "@jupyter-widgets/controls",
            "children": [
              "IPY_MODEL_4f7d17a48e0f4afcb3f047aa88413143",
              "IPY_MODEL_e929e46aa40c4b8e81419366e24ec32d"
            ]
          }
        },
        "e035e33113d349ea8f5b289fc95beb74": {
          "model_module": "@jupyter-widgets/base",
          "model_name": "LayoutModel",
          "state": {
            "_view_name": "LayoutView",
            "grid_template_rows": null,
            "right": null,
            "justify_content": null,
            "_view_module": "@jupyter-widgets/base",
            "overflow": null,
            "_model_module_version": "1.2.0",
            "_view_count": null,
            "flex_flow": null,
            "width": null,
            "min_width": null,
            "border": null,
            "align_items": null,
            "bottom": null,
            "_model_module": "@jupyter-widgets/base",
            "top": null,
            "grid_column": null,
            "overflow_y": null,
            "overflow_x": null,
            "grid_auto_flow": null,
            "grid_area": null,
            "grid_template_columns": null,
            "flex": null,
            "_model_name": "LayoutModel",
            "justify_items": null,
            "grid_row": null,
            "max_height": null,
            "align_content": null,
            "visibility": null,
            "align_self": null,
            "height": null,
            "min_height": null,
            "padding": null,
            "grid_auto_rows": null,
            "grid_gap": null,
            "max_width": null,
            "order": null,
            "_view_module_version": "1.2.0",
            "grid_template_areas": null,
            "object_position": null,
            "object_fit": null,
            "grid_auto_columns": null,
            "margin": null,
            "display": null,
            "left": null
          }
        },
        "4f7d17a48e0f4afcb3f047aa88413143": {
          "model_module": "@jupyter-widgets/controls",
          "model_name": "LabelModel",
          "state": {
            "_view_name": "LabelView",
            "style": "IPY_MODEL_a1b6b47995c944249d14f4bfb4648ffc",
            "_dom_classes": [],
            "description": "",
            "_model_name": "LabelModel",
            "placeholder": "​",
            "_view_module": "@jupyter-widgets/controls",
            "_model_module_version": "1.5.0",
            "value": " 0.54MB of 0.54MB uploaded (0.00MB deduped)\r",
            "_view_count": null,
            "_view_module_version": "1.5.0",
            "description_tooltip": null,
            "_model_module": "@jupyter-widgets/controls",
            "layout": "IPY_MODEL_25f3e5863ba543a8a27aa11110efe430"
          }
        },
        "e929e46aa40c4b8e81419366e24ec32d": {
          "model_module": "@jupyter-widgets/controls",
          "model_name": "FloatProgressModel",
          "state": {
            "_view_name": "ProgressView",
            "style": "IPY_MODEL_1715cd9d31fe429ebf9db73cc9472e9f",
            "_dom_classes": [],
            "description": "",
            "_model_name": "FloatProgressModel",
            "bar_style": "",
            "max": 1,
            "_view_module": "@jupyter-widgets/controls",
            "_model_module_version": "1.5.0",
            "value": 1,
            "_view_count": null,
            "_view_module_version": "1.5.0",
            "orientation": "horizontal",
            "min": 0,
            "description_tooltip": null,
            "_model_module": "@jupyter-widgets/controls",
            "layout": "IPY_MODEL_ef56bda112584036838b63bd254e0fb5"
          }
        },
        "a1b6b47995c944249d14f4bfb4648ffc": {
          "model_module": "@jupyter-widgets/controls",
          "model_name": "DescriptionStyleModel",
          "state": {
            "_view_name": "StyleView",
            "_model_name": "DescriptionStyleModel",
            "description_width": "",
            "_view_module": "@jupyter-widgets/base",
            "_model_module_version": "1.5.0",
            "_view_count": null,
            "_view_module_version": "1.2.0",
            "_model_module": "@jupyter-widgets/controls"
          }
        },
        "25f3e5863ba543a8a27aa11110efe430": {
          "model_module": "@jupyter-widgets/base",
          "model_name": "LayoutModel",
          "state": {
            "_view_name": "LayoutView",
            "grid_template_rows": null,
            "right": null,
            "justify_content": null,
            "_view_module": "@jupyter-widgets/base",
            "overflow": null,
            "_model_module_version": "1.2.0",
            "_view_count": null,
            "flex_flow": null,
            "width": null,
            "min_width": null,
            "border": null,
            "align_items": null,
            "bottom": null,
            "_model_module": "@jupyter-widgets/base",
            "top": null,
            "grid_column": null,
            "overflow_y": null,
            "overflow_x": null,
            "grid_auto_flow": null,
            "grid_area": null,
            "grid_template_columns": null,
            "flex": null,
            "_model_name": "LayoutModel",
            "justify_items": null,
            "grid_row": null,
            "max_height": null,
            "align_content": null,
            "visibility": null,
            "align_self": null,
            "height": null,
            "min_height": null,
            "padding": null,
            "grid_auto_rows": null,
            "grid_gap": null,
            "max_width": null,
            "order": null,
            "_view_module_version": "1.2.0",
            "grid_template_areas": null,
            "object_position": null,
            "object_fit": null,
            "grid_auto_columns": null,
            "margin": null,
            "display": null,
            "left": null
          }
        },
        "1715cd9d31fe429ebf9db73cc9472e9f": {
          "model_module": "@jupyter-widgets/controls",
          "model_name": "ProgressStyleModel",
          "state": {
            "_view_name": "StyleView",
            "_model_name": "ProgressStyleModel",
            "description_width": "",
            "_view_module": "@jupyter-widgets/base",
            "_model_module_version": "1.5.0",
            "_view_count": null,
            "_view_module_version": "1.2.0",
            "bar_color": null,
            "_model_module": "@jupyter-widgets/controls"
          }
        },
        "ef56bda112584036838b63bd254e0fb5": {
          "model_module": "@jupyter-widgets/base",
          "model_name": "LayoutModel",
          "state": {
            "_view_name": "LayoutView",
            "grid_template_rows": null,
            "right": null,
            "justify_content": null,
            "_view_module": "@jupyter-widgets/base",
            "overflow": null,
            "_model_module_version": "1.2.0",
            "_view_count": null,
            "flex_flow": null,
            "width": null,
            "min_width": null,
            "border": null,
            "align_items": null,
            "bottom": null,
            "_model_module": "@jupyter-widgets/base",
            "top": null,
            "grid_column": null,
            "overflow_y": null,
            "overflow_x": null,
            "grid_auto_flow": null,
            "grid_area": null,
            "grid_template_columns": null,
            "flex": null,
            "_model_name": "LayoutModel",
            "justify_items": null,
            "grid_row": null,
            "max_height": null,
            "align_content": null,
            "visibility": null,
            "align_self": null,
            "height": null,
            "min_height": null,
            "padding": null,
            "grid_auto_rows": null,
            "grid_gap": null,
            "max_width": null,
            "order": null,
            "_view_module_version": "1.2.0",
            "grid_template_areas": null,
            "object_position": null,
            "object_fit": null,
            "grid_auto_columns": null,
            "margin": null,
            "display": null,
            "left": null
          }
        },
        "93ffe57eb1ab4a2dac29dc5fddfbd6bb": {
          "model_module": "@jupyter-widgets/controls",
          "model_name": "VBoxModel",
          "state": {
            "_view_name": "VBoxView",
            "_dom_classes": [],
            "_model_name": "VBoxModel",
            "_view_module": "@jupyter-widgets/controls",
            "_model_module_version": "1.5.0",
            "_view_count": null,
            "_view_module_version": "1.5.0",
            "box_style": "",
            "layout": "IPY_MODEL_08cf775cb4d04166b670c1f791f3a09d",
            "_model_module": "@jupyter-widgets/controls",
            "children": [
              "IPY_MODEL_b4ce80cc05414d92adfd943fce42e360",
              "IPY_MODEL_0d5d92a9a08c42d48748f3813f5638a3"
            ]
          }
        },
        "08cf775cb4d04166b670c1f791f3a09d": {
          "model_module": "@jupyter-widgets/base",
          "model_name": "LayoutModel",
          "state": {
            "_view_name": "LayoutView",
            "grid_template_rows": null,
            "right": null,
            "justify_content": null,
            "_view_module": "@jupyter-widgets/base",
            "overflow": null,
            "_model_module_version": "1.2.0",
            "_view_count": null,
            "flex_flow": null,
            "width": null,
            "min_width": null,
            "border": null,
            "align_items": null,
            "bottom": null,
            "_model_module": "@jupyter-widgets/base",
            "top": null,
            "grid_column": null,
            "overflow_y": null,
            "overflow_x": null,
            "grid_auto_flow": null,
            "grid_area": null,
            "grid_template_columns": null,
            "flex": null,
            "_model_name": "LayoutModel",
            "justify_items": null,
            "grid_row": null,
            "max_height": null,
            "align_content": null,
            "visibility": null,
            "align_self": null,
            "height": null,
            "min_height": null,
            "padding": null,
            "grid_auto_rows": null,
            "grid_gap": null,
            "max_width": null,
            "order": null,
            "_view_module_version": "1.2.0",
            "grid_template_areas": null,
            "object_position": null,
            "object_fit": null,
            "grid_auto_columns": null,
            "margin": null,
            "display": null,
            "left": null
          }
        },
        "b4ce80cc05414d92adfd943fce42e360": {
          "model_module": "@jupyter-widgets/controls",
          "model_name": "LabelModel",
          "state": {
            "_view_name": "LabelView",
            "style": "IPY_MODEL_49b9d5e0d10348309996cbe5a4cbc1e0",
            "_dom_classes": [],
            "description": "",
            "_model_name": "LabelModel",
            "placeholder": "​",
            "_view_module": "@jupyter-widgets/controls",
            "_model_module_version": "1.5.0",
            "value": " 0.56MB of 0.56MB uploaded (0.00MB deduped)\r",
            "_view_count": null,
            "_view_module_version": "1.5.0",
            "description_tooltip": null,
            "_model_module": "@jupyter-widgets/controls",
            "layout": "IPY_MODEL_d65f913f3c544b18950d04e2a2fbc5b0"
          }
        },
        "0d5d92a9a08c42d48748f3813f5638a3": {
          "model_module": "@jupyter-widgets/controls",
          "model_name": "FloatProgressModel",
          "state": {
            "_view_name": "ProgressView",
            "style": "IPY_MODEL_0beda5171e6d4cb0870bc2565bb378b0",
            "_dom_classes": [],
            "description": "",
            "_model_name": "FloatProgressModel",
            "bar_style": "",
            "max": 1,
            "_view_module": "@jupyter-widgets/controls",
            "_model_module_version": "1.5.0",
            "value": 1,
            "_view_count": null,
            "_view_module_version": "1.5.0",
            "orientation": "horizontal",
            "min": 0,
            "description_tooltip": null,
            "_model_module": "@jupyter-widgets/controls",
            "layout": "IPY_MODEL_24adc22fbc944f6d82b3b93cc45e7daa"
          }
        },
        "49b9d5e0d10348309996cbe5a4cbc1e0": {
          "model_module": "@jupyter-widgets/controls",
          "model_name": "DescriptionStyleModel",
          "state": {
            "_view_name": "StyleView",
            "_model_name": "DescriptionStyleModel",
            "description_width": "",
            "_view_module": "@jupyter-widgets/base",
            "_model_module_version": "1.5.0",
            "_view_count": null,
            "_view_module_version": "1.2.0",
            "_model_module": "@jupyter-widgets/controls"
          }
        },
        "d65f913f3c544b18950d04e2a2fbc5b0": {
          "model_module": "@jupyter-widgets/base",
          "model_name": "LayoutModel",
          "state": {
            "_view_name": "LayoutView",
            "grid_template_rows": null,
            "right": null,
            "justify_content": null,
            "_view_module": "@jupyter-widgets/base",
            "overflow": null,
            "_model_module_version": "1.2.0",
            "_view_count": null,
            "flex_flow": null,
            "width": null,
            "min_width": null,
            "border": null,
            "align_items": null,
            "bottom": null,
            "_model_module": "@jupyter-widgets/base",
            "top": null,
            "grid_column": null,
            "overflow_y": null,
            "overflow_x": null,
            "grid_auto_flow": null,
            "grid_area": null,
            "grid_template_columns": null,
            "flex": null,
            "_model_name": "LayoutModel",
            "justify_items": null,
            "grid_row": null,
            "max_height": null,
            "align_content": null,
            "visibility": null,
            "align_self": null,
            "height": null,
            "min_height": null,
            "padding": null,
            "grid_auto_rows": null,
            "grid_gap": null,
            "max_width": null,
            "order": null,
            "_view_module_version": "1.2.0",
            "grid_template_areas": null,
            "object_position": null,
            "object_fit": null,
            "grid_auto_columns": null,
            "margin": null,
            "display": null,
            "left": null
          }
        },
        "0beda5171e6d4cb0870bc2565bb378b0": {
          "model_module": "@jupyter-widgets/controls",
          "model_name": "ProgressStyleModel",
          "state": {
            "_view_name": "StyleView",
            "_model_name": "ProgressStyleModel",
            "description_width": "",
            "_view_module": "@jupyter-widgets/base",
            "_model_module_version": "1.5.0",
            "_view_count": null,
            "_view_module_version": "1.2.0",
            "bar_color": null,
            "_model_module": "@jupyter-widgets/controls"
          }
        },
        "24adc22fbc944f6d82b3b93cc45e7daa": {
          "model_module": "@jupyter-widgets/base",
          "model_name": "LayoutModel",
          "state": {
            "_view_name": "LayoutView",
            "grid_template_rows": null,
            "right": null,
            "justify_content": null,
            "_view_module": "@jupyter-widgets/base",
            "overflow": null,
            "_model_module_version": "1.2.0",
            "_view_count": null,
            "flex_flow": null,
            "width": null,
            "min_width": null,
            "border": null,
            "align_items": null,
            "bottom": null,
            "_model_module": "@jupyter-widgets/base",
            "top": null,
            "grid_column": null,
            "overflow_y": null,
            "overflow_x": null,
            "grid_auto_flow": null,
            "grid_area": null,
            "grid_template_columns": null,
            "flex": null,
            "_model_name": "LayoutModel",
            "justify_items": null,
            "grid_row": null,
            "max_height": null,
            "align_content": null,
            "visibility": null,
            "align_self": null,
            "height": null,
            "min_height": null,
            "padding": null,
            "grid_auto_rows": null,
            "grid_gap": null,
            "max_width": null,
            "order": null,
            "_view_module_version": "1.2.0",
            "grid_template_areas": null,
            "object_position": null,
            "object_fit": null,
            "grid_auto_columns": null,
            "margin": null,
            "display": null,
            "left": null
          }
        },
        "ab1716cc57464721b245df81e261a3d1": {
          "model_module": "@jupyter-widgets/controls",
          "model_name": "VBoxModel",
          "state": {
            "_view_name": "VBoxView",
            "_dom_classes": [],
            "_model_name": "VBoxModel",
            "_view_module": "@jupyter-widgets/controls",
            "_model_module_version": "1.5.0",
            "_view_count": null,
            "_view_module_version": "1.5.0",
            "box_style": "",
            "layout": "IPY_MODEL_7287108f26ce429a8e7ac52733281751",
            "_model_module": "@jupyter-widgets/controls",
            "children": [
              "IPY_MODEL_25a1d9d5b5b545c58e84a0f7c722d843",
              "IPY_MODEL_6199e560ff9c46de99810052d3576096"
            ]
          }
        },
        "7287108f26ce429a8e7ac52733281751": {
          "model_module": "@jupyter-widgets/base",
          "model_name": "LayoutModel",
          "state": {
            "_view_name": "LayoutView",
            "grid_template_rows": null,
            "right": null,
            "justify_content": null,
            "_view_module": "@jupyter-widgets/base",
            "overflow": null,
            "_model_module_version": "1.2.0",
            "_view_count": null,
            "flex_flow": null,
            "width": null,
            "min_width": null,
            "border": null,
            "align_items": null,
            "bottom": null,
            "_model_module": "@jupyter-widgets/base",
            "top": null,
            "grid_column": null,
            "overflow_y": null,
            "overflow_x": null,
            "grid_auto_flow": null,
            "grid_area": null,
            "grid_template_columns": null,
            "flex": null,
            "_model_name": "LayoutModel",
            "justify_items": null,
            "grid_row": null,
            "max_height": null,
            "align_content": null,
            "visibility": null,
            "align_self": null,
            "height": null,
            "min_height": null,
            "padding": null,
            "grid_auto_rows": null,
            "grid_gap": null,
            "max_width": null,
            "order": null,
            "_view_module_version": "1.2.0",
            "grid_template_areas": null,
            "object_position": null,
            "object_fit": null,
            "grid_auto_columns": null,
            "margin": null,
            "display": null,
            "left": null
          }
        },
        "25a1d9d5b5b545c58e84a0f7c722d843": {
          "model_module": "@jupyter-widgets/controls",
          "model_name": "LabelModel",
          "state": {
            "_view_name": "LabelView",
            "style": "IPY_MODEL_8bec94aae5b24e0e9743a51911668605",
            "_dom_classes": [],
            "description": "",
            "_model_name": "LabelModel",
            "placeholder": "​",
            "_view_module": "@jupyter-widgets/controls",
            "_model_module_version": "1.5.0",
            "value": " 0.57MB of 0.57MB uploaded (0.00MB deduped)\r",
            "_view_count": null,
            "_view_module_version": "1.5.0",
            "description_tooltip": null,
            "_model_module": "@jupyter-widgets/controls",
            "layout": "IPY_MODEL_374d5897c7c74e949a05925ab98bbbef"
          }
        },
        "6199e560ff9c46de99810052d3576096": {
          "model_module": "@jupyter-widgets/controls",
          "model_name": "FloatProgressModel",
          "state": {
            "_view_name": "ProgressView",
            "style": "IPY_MODEL_8ed6dadd3f5649f99f93b89c34aff9a4",
            "_dom_classes": [],
            "description": "",
            "_model_name": "FloatProgressModel",
            "bar_style": "",
            "max": 1,
            "_view_module": "@jupyter-widgets/controls",
            "_model_module_version": "1.5.0",
            "value": 1,
            "_view_count": null,
            "_view_module_version": "1.5.0",
            "orientation": "horizontal",
            "min": 0,
            "description_tooltip": null,
            "_model_module": "@jupyter-widgets/controls",
            "layout": "IPY_MODEL_fbae20a217b842f0ba4e00a02ab06abf"
          }
        },
        "8bec94aae5b24e0e9743a51911668605": {
          "model_module": "@jupyter-widgets/controls",
          "model_name": "DescriptionStyleModel",
          "state": {
            "_view_name": "StyleView",
            "_model_name": "DescriptionStyleModel",
            "description_width": "",
            "_view_module": "@jupyter-widgets/base",
            "_model_module_version": "1.5.0",
            "_view_count": null,
            "_view_module_version": "1.2.0",
            "_model_module": "@jupyter-widgets/controls"
          }
        },
        "374d5897c7c74e949a05925ab98bbbef": {
          "model_module": "@jupyter-widgets/base",
          "model_name": "LayoutModel",
          "state": {
            "_view_name": "LayoutView",
            "grid_template_rows": null,
            "right": null,
            "justify_content": null,
            "_view_module": "@jupyter-widgets/base",
            "overflow": null,
            "_model_module_version": "1.2.0",
            "_view_count": null,
            "flex_flow": null,
            "width": null,
            "min_width": null,
            "border": null,
            "align_items": null,
            "bottom": null,
            "_model_module": "@jupyter-widgets/base",
            "top": null,
            "grid_column": null,
            "overflow_y": null,
            "overflow_x": null,
            "grid_auto_flow": null,
            "grid_area": null,
            "grid_template_columns": null,
            "flex": null,
            "_model_name": "LayoutModel",
            "justify_items": null,
            "grid_row": null,
            "max_height": null,
            "align_content": null,
            "visibility": null,
            "align_self": null,
            "height": null,
            "min_height": null,
            "padding": null,
            "grid_auto_rows": null,
            "grid_gap": null,
            "max_width": null,
            "order": null,
            "_view_module_version": "1.2.0",
            "grid_template_areas": null,
            "object_position": null,
            "object_fit": null,
            "grid_auto_columns": null,
            "margin": null,
            "display": null,
            "left": null
          }
        },
        "8ed6dadd3f5649f99f93b89c34aff9a4": {
          "model_module": "@jupyter-widgets/controls",
          "model_name": "ProgressStyleModel",
          "state": {
            "_view_name": "StyleView",
            "_model_name": "ProgressStyleModel",
            "description_width": "",
            "_view_module": "@jupyter-widgets/base",
            "_model_module_version": "1.5.0",
            "_view_count": null,
            "_view_module_version": "1.2.0",
            "bar_color": null,
            "_model_module": "@jupyter-widgets/controls"
          }
        },
        "fbae20a217b842f0ba4e00a02ab06abf": {
          "model_module": "@jupyter-widgets/base",
          "model_name": "LayoutModel",
          "state": {
            "_view_name": "LayoutView",
            "grid_template_rows": null,
            "right": null,
            "justify_content": null,
            "_view_module": "@jupyter-widgets/base",
            "overflow": null,
            "_model_module_version": "1.2.0",
            "_view_count": null,
            "flex_flow": null,
            "width": null,
            "min_width": null,
            "border": null,
            "align_items": null,
            "bottom": null,
            "_model_module": "@jupyter-widgets/base",
            "top": null,
            "grid_column": null,
            "overflow_y": null,
            "overflow_x": null,
            "grid_auto_flow": null,
            "grid_area": null,
            "grid_template_columns": null,
            "flex": null,
            "_model_name": "LayoutModel",
            "justify_items": null,
            "grid_row": null,
            "max_height": null,
            "align_content": null,
            "visibility": null,
            "align_self": null,
            "height": null,
            "min_height": null,
            "padding": null,
            "grid_auto_rows": null,
            "grid_gap": null,
            "max_width": null,
            "order": null,
            "_view_module_version": "1.2.0",
            "grid_template_areas": null,
            "object_position": null,
            "object_fit": null,
            "grid_auto_columns": null,
            "margin": null,
            "display": null,
            "left": null
          }
        },
        "f3c2e35b80ee44eda24e4fca0293d362": {
          "model_module": "@jupyter-widgets/controls",
          "model_name": "VBoxModel",
          "state": {
            "_view_name": "VBoxView",
            "_dom_classes": [],
            "_model_name": "VBoxModel",
            "_view_module": "@jupyter-widgets/controls",
            "_model_module_version": "1.5.0",
            "_view_count": null,
            "_view_module_version": "1.5.0",
            "box_style": "",
            "layout": "IPY_MODEL_294cfe6b51fb48d8bb33fe0bb5181766",
            "_model_module": "@jupyter-widgets/controls",
            "children": [
              "IPY_MODEL_cb847b2f1bf945e18f1948dfe9c0d37a",
              "IPY_MODEL_262846248520436fb396b21b6d23ee12"
            ]
          }
        },
        "294cfe6b51fb48d8bb33fe0bb5181766": {
          "model_module": "@jupyter-widgets/base",
          "model_name": "LayoutModel",
          "state": {
            "_view_name": "LayoutView",
            "grid_template_rows": null,
            "right": null,
            "justify_content": null,
            "_view_module": "@jupyter-widgets/base",
            "overflow": null,
            "_model_module_version": "1.2.0",
            "_view_count": null,
            "flex_flow": null,
            "width": null,
            "min_width": null,
            "border": null,
            "align_items": null,
            "bottom": null,
            "_model_module": "@jupyter-widgets/base",
            "top": null,
            "grid_column": null,
            "overflow_y": null,
            "overflow_x": null,
            "grid_auto_flow": null,
            "grid_area": null,
            "grid_template_columns": null,
            "flex": null,
            "_model_name": "LayoutModel",
            "justify_items": null,
            "grid_row": null,
            "max_height": null,
            "align_content": null,
            "visibility": null,
            "align_self": null,
            "height": null,
            "min_height": null,
            "padding": null,
            "grid_auto_rows": null,
            "grid_gap": null,
            "max_width": null,
            "order": null,
            "_view_module_version": "1.2.0",
            "grid_template_areas": null,
            "object_position": null,
            "object_fit": null,
            "grid_auto_columns": null,
            "margin": null,
            "display": null,
            "left": null
          }
        },
        "cb847b2f1bf945e18f1948dfe9c0d37a": {
          "model_module": "@jupyter-widgets/controls",
          "model_name": "LabelModel",
          "state": {
            "_view_name": "LabelView",
            "style": "IPY_MODEL_ff2f74fad7744ead906852bddac6b7ac",
            "_dom_classes": [],
            "description": "",
            "_model_name": "LabelModel",
            "placeholder": "​",
            "_view_module": "@jupyter-widgets/controls",
            "_model_module_version": "1.5.0",
            "value": " 0.58MB of 0.58MB uploaded (0.00MB deduped)\r",
            "_view_count": null,
            "_view_module_version": "1.5.0",
            "description_tooltip": null,
            "_model_module": "@jupyter-widgets/controls",
            "layout": "IPY_MODEL_e9e6f210eca4487e805ab0af100e9d03"
          }
        },
        "262846248520436fb396b21b6d23ee12": {
          "model_module": "@jupyter-widgets/controls",
          "model_name": "FloatProgressModel",
          "state": {
            "_view_name": "ProgressView",
            "style": "IPY_MODEL_6835ccfca81c48c8873d1e52b9fee21a",
            "_dom_classes": [],
            "description": "",
            "_model_name": "FloatProgressModel",
            "bar_style": "",
            "max": 1,
            "_view_module": "@jupyter-widgets/controls",
            "_model_module_version": "1.5.0",
            "value": 1,
            "_view_count": null,
            "_view_module_version": "1.5.0",
            "orientation": "horizontal",
            "min": 0,
            "description_tooltip": null,
            "_model_module": "@jupyter-widgets/controls",
            "layout": "IPY_MODEL_f14d310848484b4f93ab8fee486147b8"
          }
        },
        "ff2f74fad7744ead906852bddac6b7ac": {
          "model_module": "@jupyter-widgets/controls",
          "model_name": "DescriptionStyleModel",
          "state": {
            "_view_name": "StyleView",
            "_model_name": "DescriptionStyleModel",
            "description_width": "",
            "_view_module": "@jupyter-widgets/base",
            "_model_module_version": "1.5.0",
            "_view_count": null,
            "_view_module_version": "1.2.0",
            "_model_module": "@jupyter-widgets/controls"
          }
        },
        "e9e6f210eca4487e805ab0af100e9d03": {
          "model_module": "@jupyter-widgets/base",
          "model_name": "LayoutModel",
          "state": {
            "_view_name": "LayoutView",
            "grid_template_rows": null,
            "right": null,
            "justify_content": null,
            "_view_module": "@jupyter-widgets/base",
            "overflow": null,
            "_model_module_version": "1.2.0",
            "_view_count": null,
            "flex_flow": null,
            "width": null,
            "min_width": null,
            "border": null,
            "align_items": null,
            "bottom": null,
            "_model_module": "@jupyter-widgets/base",
            "top": null,
            "grid_column": null,
            "overflow_y": null,
            "overflow_x": null,
            "grid_auto_flow": null,
            "grid_area": null,
            "grid_template_columns": null,
            "flex": null,
            "_model_name": "LayoutModel",
            "justify_items": null,
            "grid_row": null,
            "max_height": null,
            "align_content": null,
            "visibility": null,
            "align_self": null,
            "height": null,
            "min_height": null,
            "padding": null,
            "grid_auto_rows": null,
            "grid_gap": null,
            "max_width": null,
            "order": null,
            "_view_module_version": "1.2.0",
            "grid_template_areas": null,
            "object_position": null,
            "object_fit": null,
            "grid_auto_columns": null,
            "margin": null,
            "display": null,
            "left": null
          }
        },
        "6835ccfca81c48c8873d1e52b9fee21a": {
          "model_module": "@jupyter-widgets/controls",
          "model_name": "ProgressStyleModel",
          "state": {
            "_view_name": "StyleView",
            "_model_name": "ProgressStyleModel",
            "description_width": "",
            "_view_module": "@jupyter-widgets/base",
            "_model_module_version": "1.5.0",
            "_view_count": null,
            "_view_module_version": "1.2.0",
            "bar_color": null,
            "_model_module": "@jupyter-widgets/controls"
          }
        },
        "f14d310848484b4f93ab8fee486147b8": {
          "model_module": "@jupyter-widgets/base",
          "model_name": "LayoutModel",
          "state": {
            "_view_name": "LayoutView",
            "grid_template_rows": null,
            "right": null,
            "justify_content": null,
            "_view_module": "@jupyter-widgets/base",
            "overflow": null,
            "_model_module_version": "1.2.0",
            "_view_count": null,
            "flex_flow": null,
            "width": null,
            "min_width": null,
            "border": null,
            "align_items": null,
            "bottom": null,
            "_model_module": "@jupyter-widgets/base",
            "top": null,
            "grid_column": null,
            "overflow_y": null,
            "overflow_x": null,
            "grid_auto_flow": null,
            "grid_area": null,
            "grid_template_columns": null,
            "flex": null,
            "_model_name": "LayoutModel",
            "justify_items": null,
            "grid_row": null,
            "max_height": null,
            "align_content": null,
            "visibility": null,
            "align_self": null,
            "height": null,
            "min_height": null,
            "padding": null,
            "grid_auto_rows": null,
            "grid_gap": null,
            "max_width": null,
            "order": null,
            "_view_module_version": "1.2.0",
            "grid_template_areas": null,
            "object_position": null,
            "object_fit": null,
            "grid_auto_columns": null,
            "margin": null,
            "display": null,
            "left": null
          }
        },
        "28615bd515354907bd36a8bd5222e480": {
          "model_module": "@jupyter-widgets/controls",
          "model_name": "VBoxModel",
          "state": {
            "_view_name": "VBoxView",
            "_dom_classes": [],
            "_model_name": "VBoxModel",
            "_view_module": "@jupyter-widgets/controls",
            "_model_module_version": "1.5.0",
            "_view_count": null,
            "_view_module_version": "1.5.0",
            "box_style": "",
            "layout": "IPY_MODEL_43d4d69927d54f54abc073790e1e2114",
            "_model_module": "@jupyter-widgets/controls",
            "children": [
              "IPY_MODEL_ae3167f9e4474a10b33c018c9b35ef8a",
              "IPY_MODEL_fca4ae11b95d4ec8aa71d38943a4c1e6"
            ]
          }
        },
        "43d4d69927d54f54abc073790e1e2114": {
          "model_module": "@jupyter-widgets/base",
          "model_name": "LayoutModel",
          "state": {
            "_view_name": "LayoutView",
            "grid_template_rows": null,
            "right": null,
            "justify_content": null,
            "_view_module": "@jupyter-widgets/base",
            "overflow": null,
            "_model_module_version": "1.2.0",
            "_view_count": null,
            "flex_flow": null,
            "width": null,
            "min_width": null,
            "border": null,
            "align_items": null,
            "bottom": null,
            "_model_module": "@jupyter-widgets/base",
            "top": null,
            "grid_column": null,
            "overflow_y": null,
            "overflow_x": null,
            "grid_auto_flow": null,
            "grid_area": null,
            "grid_template_columns": null,
            "flex": null,
            "_model_name": "LayoutModel",
            "justify_items": null,
            "grid_row": null,
            "max_height": null,
            "align_content": null,
            "visibility": null,
            "align_self": null,
            "height": null,
            "min_height": null,
            "padding": null,
            "grid_auto_rows": null,
            "grid_gap": null,
            "max_width": null,
            "order": null,
            "_view_module_version": "1.2.0",
            "grid_template_areas": null,
            "object_position": null,
            "object_fit": null,
            "grid_auto_columns": null,
            "margin": null,
            "display": null,
            "left": null
          }
        },
        "ae3167f9e4474a10b33c018c9b35ef8a": {
          "model_module": "@jupyter-widgets/controls",
          "model_name": "LabelModel",
          "state": {
            "_view_name": "LabelView",
            "style": "IPY_MODEL_af4b0bb5352349b0a7498837fd03e78c",
            "_dom_classes": [],
            "description": "",
            "_model_name": "LabelModel",
            "placeholder": "​",
            "_view_module": "@jupyter-widgets/controls",
            "_model_module_version": "1.5.0",
            "value": " 0.60MB of 0.60MB uploaded (0.00MB deduped)\r",
            "_view_count": null,
            "_view_module_version": "1.5.0",
            "description_tooltip": null,
            "_model_module": "@jupyter-widgets/controls",
            "layout": "IPY_MODEL_df67dc688e8445ca9b0e019df5b63be2"
          }
        },
        "fca4ae11b95d4ec8aa71d38943a4c1e6": {
          "model_module": "@jupyter-widgets/controls",
          "model_name": "FloatProgressModel",
          "state": {
            "_view_name": "ProgressView",
            "style": "IPY_MODEL_fc932918a2c54bb18d1a5b9380cb9be5",
            "_dom_classes": [],
            "description": "",
            "_model_name": "FloatProgressModel",
            "bar_style": "",
            "max": 1,
            "_view_module": "@jupyter-widgets/controls",
            "_model_module_version": "1.5.0",
            "value": 1,
            "_view_count": null,
            "_view_module_version": "1.5.0",
            "orientation": "horizontal",
            "min": 0,
            "description_tooltip": null,
            "_model_module": "@jupyter-widgets/controls",
            "layout": "IPY_MODEL_e6a24b23c34e404f90ed264dd6cf449a"
          }
        },
        "af4b0bb5352349b0a7498837fd03e78c": {
          "model_module": "@jupyter-widgets/controls",
          "model_name": "DescriptionStyleModel",
          "state": {
            "_view_name": "StyleView",
            "_model_name": "DescriptionStyleModel",
            "description_width": "",
            "_view_module": "@jupyter-widgets/base",
            "_model_module_version": "1.5.0",
            "_view_count": null,
            "_view_module_version": "1.2.0",
            "_model_module": "@jupyter-widgets/controls"
          }
        },
        "df67dc688e8445ca9b0e019df5b63be2": {
          "model_module": "@jupyter-widgets/base",
          "model_name": "LayoutModel",
          "state": {
            "_view_name": "LayoutView",
            "grid_template_rows": null,
            "right": null,
            "justify_content": null,
            "_view_module": "@jupyter-widgets/base",
            "overflow": null,
            "_model_module_version": "1.2.0",
            "_view_count": null,
            "flex_flow": null,
            "width": null,
            "min_width": null,
            "border": null,
            "align_items": null,
            "bottom": null,
            "_model_module": "@jupyter-widgets/base",
            "top": null,
            "grid_column": null,
            "overflow_y": null,
            "overflow_x": null,
            "grid_auto_flow": null,
            "grid_area": null,
            "grid_template_columns": null,
            "flex": null,
            "_model_name": "LayoutModel",
            "justify_items": null,
            "grid_row": null,
            "max_height": null,
            "align_content": null,
            "visibility": null,
            "align_self": null,
            "height": null,
            "min_height": null,
            "padding": null,
            "grid_auto_rows": null,
            "grid_gap": null,
            "max_width": null,
            "order": null,
            "_view_module_version": "1.2.0",
            "grid_template_areas": null,
            "object_position": null,
            "object_fit": null,
            "grid_auto_columns": null,
            "margin": null,
            "display": null,
            "left": null
          }
        },
        "fc932918a2c54bb18d1a5b9380cb9be5": {
          "model_module": "@jupyter-widgets/controls",
          "model_name": "ProgressStyleModel",
          "state": {
            "_view_name": "StyleView",
            "_model_name": "ProgressStyleModel",
            "description_width": "",
            "_view_module": "@jupyter-widgets/base",
            "_model_module_version": "1.5.0",
            "_view_count": null,
            "_view_module_version": "1.2.0",
            "bar_color": null,
            "_model_module": "@jupyter-widgets/controls"
          }
        },
        "e6a24b23c34e404f90ed264dd6cf449a": {
          "model_module": "@jupyter-widgets/base",
          "model_name": "LayoutModel",
          "state": {
            "_view_name": "LayoutView",
            "grid_template_rows": null,
            "right": null,
            "justify_content": null,
            "_view_module": "@jupyter-widgets/base",
            "overflow": null,
            "_model_module_version": "1.2.0",
            "_view_count": null,
            "flex_flow": null,
            "width": null,
            "min_width": null,
            "border": null,
            "align_items": null,
            "bottom": null,
            "_model_module": "@jupyter-widgets/base",
            "top": null,
            "grid_column": null,
            "overflow_y": null,
            "overflow_x": null,
            "grid_auto_flow": null,
            "grid_area": null,
            "grid_template_columns": null,
            "flex": null,
            "_model_name": "LayoutModel",
            "justify_items": null,
            "grid_row": null,
            "max_height": null,
            "align_content": null,
            "visibility": null,
            "align_self": null,
            "height": null,
            "min_height": null,
            "padding": null,
            "grid_auto_rows": null,
            "grid_gap": null,
            "max_width": null,
            "order": null,
            "_view_module_version": "1.2.0",
            "grid_template_areas": null,
            "object_position": null,
            "object_fit": null,
            "grid_auto_columns": null,
            "margin": null,
            "display": null,
            "left": null
          }
        },
        "f69e9ff365a943ccae826dd25a64ad04": {
          "model_module": "@jupyter-widgets/controls",
          "model_name": "VBoxModel",
          "state": {
            "_view_name": "VBoxView",
            "_dom_classes": [],
            "_model_name": "VBoxModel",
            "_view_module": "@jupyter-widgets/controls",
            "_model_module_version": "1.5.0",
            "_view_count": null,
            "_view_module_version": "1.5.0",
            "box_style": "",
            "layout": "IPY_MODEL_7b6da5b025ec497fb96482ca53136dec",
            "_model_module": "@jupyter-widgets/controls",
            "children": [
              "IPY_MODEL_1426aa3b35444f36bde1775e19821216",
              "IPY_MODEL_9f13fba2549e45808730a7c888e18f64"
            ]
          }
        },
        "7b6da5b025ec497fb96482ca53136dec": {
          "model_module": "@jupyter-widgets/base",
          "model_name": "LayoutModel",
          "state": {
            "_view_name": "LayoutView",
            "grid_template_rows": null,
            "right": null,
            "justify_content": null,
            "_view_module": "@jupyter-widgets/base",
            "overflow": null,
            "_model_module_version": "1.2.0",
            "_view_count": null,
            "flex_flow": null,
            "width": null,
            "min_width": null,
            "border": null,
            "align_items": null,
            "bottom": null,
            "_model_module": "@jupyter-widgets/base",
            "top": null,
            "grid_column": null,
            "overflow_y": null,
            "overflow_x": null,
            "grid_auto_flow": null,
            "grid_area": null,
            "grid_template_columns": null,
            "flex": null,
            "_model_name": "LayoutModel",
            "justify_items": null,
            "grid_row": null,
            "max_height": null,
            "align_content": null,
            "visibility": null,
            "align_self": null,
            "height": null,
            "min_height": null,
            "padding": null,
            "grid_auto_rows": null,
            "grid_gap": null,
            "max_width": null,
            "order": null,
            "_view_module_version": "1.2.0",
            "grid_template_areas": null,
            "object_position": null,
            "object_fit": null,
            "grid_auto_columns": null,
            "margin": null,
            "display": null,
            "left": null
          }
        },
        "1426aa3b35444f36bde1775e19821216": {
          "model_module": "@jupyter-widgets/controls",
          "model_name": "LabelModel",
          "state": {
            "_view_name": "LabelView",
            "style": "IPY_MODEL_2b7beccc4459495b9c5460c266fb74a2",
            "_dom_classes": [],
            "description": "",
            "_model_name": "LabelModel",
            "placeholder": "​",
            "_view_module": "@jupyter-widgets/controls",
            "_model_module_version": "1.5.0",
            "value": " 0.61MB of 0.61MB uploaded (0.00MB deduped)\r",
            "_view_count": null,
            "_view_module_version": "1.5.0",
            "description_tooltip": null,
            "_model_module": "@jupyter-widgets/controls",
            "layout": "IPY_MODEL_0fefe5e87bc7409eb90bea551e34c801"
          }
        },
        "9f13fba2549e45808730a7c888e18f64": {
          "model_module": "@jupyter-widgets/controls",
          "model_name": "FloatProgressModel",
          "state": {
            "_view_name": "ProgressView",
            "style": "IPY_MODEL_6f4e4e24c4344c7586899fcad695f7e1",
            "_dom_classes": [],
            "description": "",
            "_model_name": "FloatProgressModel",
            "bar_style": "",
            "max": 1,
            "_view_module": "@jupyter-widgets/controls",
            "_model_module_version": "1.5.0",
            "value": 1,
            "_view_count": null,
            "_view_module_version": "1.5.0",
            "orientation": "horizontal",
            "min": 0,
            "description_tooltip": null,
            "_model_module": "@jupyter-widgets/controls",
            "layout": "IPY_MODEL_b1cef3e4dcab4dea9698ab5be9c178d0"
          }
        },
        "2b7beccc4459495b9c5460c266fb74a2": {
          "model_module": "@jupyter-widgets/controls",
          "model_name": "DescriptionStyleModel",
          "state": {
            "_view_name": "StyleView",
            "_model_name": "DescriptionStyleModel",
            "description_width": "",
            "_view_module": "@jupyter-widgets/base",
            "_model_module_version": "1.5.0",
            "_view_count": null,
            "_view_module_version": "1.2.0",
            "_model_module": "@jupyter-widgets/controls"
          }
        },
        "0fefe5e87bc7409eb90bea551e34c801": {
          "model_module": "@jupyter-widgets/base",
          "model_name": "LayoutModel",
          "state": {
            "_view_name": "LayoutView",
            "grid_template_rows": null,
            "right": null,
            "justify_content": null,
            "_view_module": "@jupyter-widgets/base",
            "overflow": null,
            "_model_module_version": "1.2.0",
            "_view_count": null,
            "flex_flow": null,
            "width": null,
            "min_width": null,
            "border": null,
            "align_items": null,
            "bottom": null,
            "_model_module": "@jupyter-widgets/base",
            "top": null,
            "grid_column": null,
            "overflow_y": null,
            "overflow_x": null,
            "grid_auto_flow": null,
            "grid_area": null,
            "grid_template_columns": null,
            "flex": null,
            "_model_name": "LayoutModel",
            "justify_items": null,
            "grid_row": null,
            "max_height": null,
            "align_content": null,
            "visibility": null,
            "align_self": null,
            "height": null,
            "min_height": null,
            "padding": null,
            "grid_auto_rows": null,
            "grid_gap": null,
            "max_width": null,
            "order": null,
            "_view_module_version": "1.2.0",
            "grid_template_areas": null,
            "object_position": null,
            "object_fit": null,
            "grid_auto_columns": null,
            "margin": null,
            "display": null,
            "left": null
          }
        },
        "6f4e4e24c4344c7586899fcad695f7e1": {
          "model_module": "@jupyter-widgets/controls",
          "model_name": "ProgressStyleModel",
          "state": {
            "_view_name": "StyleView",
            "_model_name": "ProgressStyleModel",
            "description_width": "",
            "_view_module": "@jupyter-widgets/base",
            "_model_module_version": "1.5.0",
            "_view_count": null,
            "_view_module_version": "1.2.0",
            "bar_color": null,
            "_model_module": "@jupyter-widgets/controls"
          }
        },
        "b1cef3e4dcab4dea9698ab5be9c178d0": {
          "model_module": "@jupyter-widgets/base",
          "model_name": "LayoutModel",
          "state": {
            "_view_name": "LayoutView",
            "grid_template_rows": null,
            "right": null,
            "justify_content": null,
            "_view_module": "@jupyter-widgets/base",
            "overflow": null,
            "_model_module_version": "1.2.0",
            "_view_count": null,
            "flex_flow": null,
            "width": null,
            "min_width": null,
            "border": null,
            "align_items": null,
            "bottom": null,
            "_model_module": "@jupyter-widgets/base",
            "top": null,
            "grid_column": null,
            "overflow_y": null,
            "overflow_x": null,
            "grid_auto_flow": null,
            "grid_area": null,
            "grid_template_columns": null,
            "flex": null,
            "_model_name": "LayoutModel",
            "justify_items": null,
            "grid_row": null,
            "max_height": null,
            "align_content": null,
            "visibility": null,
            "align_self": null,
            "height": null,
            "min_height": null,
            "padding": null,
            "grid_auto_rows": null,
            "grid_gap": null,
            "max_width": null,
            "order": null,
            "_view_module_version": "1.2.0",
            "grid_template_areas": null,
            "object_position": null,
            "object_fit": null,
            "grid_auto_columns": null,
            "margin": null,
            "display": null,
            "left": null
          }
        },
        "99c95909085a47a78281f280a3e6f174": {
          "model_module": "@jupyter-widgets/controls",
          "model_name": "VBoxModel",
          "state": {
            "_view_name": "VBoxView",
            "_dom_classes": [],
            "_model_name": "VBoxModel",
            "_view_module": "@jupyter-widgets/controls",
            "_model_module_version": "1.5.0",
            "_view_count": null,
            "_view_module_version": "1.5.0",
            "box_style": "",
            "layout": "IPY_MODEL_7745d72db60b435499f7d8daedfc74e3",
            "_model_module": "@jupyter-widgets/controls",
            "children": [
              "IPY_MODEL_a547106dd23a41daa4ff94ac069762c6",
              "IPY_MODEL_870c2cdcc39e4911b1e70070251b1f7b"
            ]
          }
        },
        "7745d72db60b435499f7d8daedfc74e3": {
          "model_module": "@jupyter-widgets/base",
          "model_name": "LayoutModel",
          "state": {
            "_view_name": "LayoutView",
            "grid_template_rows": null,
            "right": null,
            "justify_content": null,
            "_view_module": "@jupyter-widgets/base",
            "overflow": null,
            "_model_module_version": "1.2.0",
            "_view_count": null,
            "flex_flow": null,
            "width": null,
            "min_width": null,
            "border": null,
            "align_items": null,
            "bottom": null,
            "_model_module": "@jupyter-widgets/base",
            "top": null,
            "grid_column": null,
            "overflow_y": null,
            "overflow_x": null,
            "grid_auto_flow": null,
            "grid_area": null,
            "grid_template_columns": null,
            "flex": null,
            "_model_name": "LayoutModel",
            "justify_items": null,
            "grid_row": null,
            "max_height": null,
            "align_content": null,
            "visibility": null,
            "align_self": null,
            "height": null,
            "min_height": null,
            "padding": null,
            "grid_auto_rows": null,
            "grid_gap": null,
            "max_width": null,
            "order": null,
            "_view_module_version": "1.2.0",
            "grid_template_areas": null,
            "object_position": null,
            "object_fit": null,
            "grid_auto_columns": null,
            "margin": null,
            "display": null,
            "left": null
          }
        },
        "a547106dd23a41daa4ff94ac069762c6": {
          "model_module": "@jupyter-widgets/controls",
          "model_name": "LabelModel",
          "state": {
            "_view_name": "LabelView",
            "style": "IPY_MODEL_b5be5621b8be4c12b613b5d40683f589",
            "_dom_classes": [],
            "description": "",
            "_model_name": "LabelModel",
            "placeholder": "​",
            "_view_module": "@jupyter-widgets/controls",
            "_model_module_version": "1.5.0",
            "value": " 0.62MB of 0.62MB uploaded (0.00MB deduped)\r",
            "_view_count": null,
            "_view_module_version": "1.5.0",
            "description_tooltip": null,
            "_model_module": "@jupyter-widgets/controls",
            "layout": "IPY_MODEL_6b540daaca714951a5d12f97ed21e26c"
          }
        },
        "870c2cdcc39e4911b1e70070251b1f7b": {
          "model_module": "@jupyter-widgets/controls",
          "model_name": "FloatProgressModel",
          "state": {
            "_view_name": "ProgressView",
            "style": "IPY_MODEL_b851ff3e6530490f87684be40cd22e75",
            "_dom_classes": [],
            "description": "",
            "_model_name": "FloatProgressModel",
            "bar_style": "",
            "max": 1,
            "_view_module": "@jupyter-widgets/controls",
            "_model_module_version": "1.5.0",
            "value": 1,
            "_view_count": null,
            "_view_module_version": "1.5.0",
            "orientation": "horizontal",
            "min": 0,
            "description_tooltip": null,
            "_model_module": "@jupyter-widgets/controls",
            "layout": "IPY_MODEL_81d2d6915ea945049e9e8bc6cf477251"
          }
        },
        "b5be5621b8be4c12b613b5d40683f589": {
          "model_module": "@jupyter-widgets/controls",
          "model_name": "DescriptionStyleModel",
          "state": {
            "_view_name": "StyleView",
            "_model_name": "DescriptionStyleModel",
            "description_width": "",
            "_view_module": "@jupyter-widgets/base",
            "_model_module_version": "1.5.0",
            "_view_count": null,
            "_view_module_version": "1.2.0",
            "_model_module": "@jupyter-widgets/controls"
          }
        },
        "6b540daaca714951a5d12f97ed21e26c": {
          "model_module": "@jupyter-widgets/base",
          "model_name": "LayoutModel",
          "state": {
            "_view_name": "LayoutView",
            "grid_template_rows": null,
            "right": null,
            "justify_content": null,
            "_view_module": "@jupyter-widgets/base",
            "overflow": null,
            "_model_module_version": "1.2.0",
            "_view_count": null,
            "flex_flow": null,
            "width": null,
            "min_width": null,
            "border": null,
            "align_items": null,
            "bottom": null,
            "_model_module": "@jupyter-widgets/base",
            "top": null,
            "grid_column": null,
            "overflow_y": null,
            "overflow_x": null,
            "grid_auto_flow": null,
            "grid_area": null,
            "grid_template_columns": null,
            "flex": null,
            "_model_name": "LayoutModel",
            "justify_items": null,
            "grid_row": null,
            "max_height": null,
            "align_content": null,
            "visibility": null,
            "align_self": null,
            "height": null,
            "min_height": null,
            "padding": null,
            "grid_auto_rows": null,
            "grid_gap": null,
            "max_width": null,
            "order": null,
            "_view_module_version": "1.2.0",
            "grid_template_areas": null,
            "object_position": null,
            "object_fit": null,
            "grid_auto_columns": null,
            "margin": null,
            "display": null,
            "left": null
          }
        },
        "b851ff3e6530490f87684be40cd22e75": {
          "model_module": "@jupyter-widgets/controls",
          "model_name": "ProgressStyleModel",
          "state": {
            "_view_name": "StyleView",
            "_model_name": "ProgressStyleModel",
            "description_width": "",
            "_view_module": "@jupyter-widgets/base",
            "_model_module_version": "1.5.0",
            "_view_count": null,
            "_view_module_version": "1.2.0",
            "bar_color": null,
            "_model_module": "@jupyter-widgets/controls"
          }
        },
        "81d2d6915ea945049e9e8bc6cf477251": {
          "model_module": "@jupyter-widgets/base",
          "model_name": "LayoutModel",
          "state": {
            "_view_name": "LayoutView",
            "grid_template_rows": null,
            "right": null,
            "justify_content": null,
            "_view_module": "@jupyter-widgets/base",
            "overflow": null,
            "_model_module_version": "1.2.0",
            "_view_count": null,
            "flex_flow": null,
            "width": null,
            "min_width": null,
            "border": null,
            "align_items": null,
            "bottom": null,
            "_model_module": "@jupyter-widgets/base",
            "top": null,
            "grid_column": null,
            "overflow_y": null,
            "overflow_x": null,
            "grid_auto_flow": null,
            "grid_area": null,
            "grid_template_columns": null,
            "flex": null,
            "_model_name": "LayoutModel",
            "justify_items": null,
            "grid_row": null,
            "max_height": null,
            "align_content": null,
            "visibility": null,
            "align_self": null,
            "height": null,
            "min_height": null,
            "padding": null,
            "grid_auto_rows": null,
            "grid_gap": null,
            "max_width": null,
            "order": null,
            "_view_module_version": "1.2.0",
            "grid_template_areas": null,
            "object_position": null,
            "object_fit": null,
            "grid_auto_columns": null,
            "margin": null,
            "display": null,
            "left": null
          }
        },
        "764f427db6d74247a6eb428de60ff744": {
          "model_module": "@jupyter-widgets/controls",
          "model_name": "VBoxModel",
          "state": {
            "_view_name": "VBoxView",
            "_dom_classes": [],
            "_model_name": "VBoxModel",
            "_view_module": "@jupyter-widgets/controls",
            "_model_module_version": "1.5.0",
            "_view_count": null,
            "_view_module_version": "1.5.0",
            "box_style": "",
            "layout": "IPY_MODEL_d87b9a2f1f4346edbf285d2aa96e1604",
            "_model_module": "@jupyter-widgets/controls",
            "children": [
              "IPY_MODEL_ec724636552248c2b818af54f0a309b5",
              "IPY_MODEL_44f41ae4c70f41058a77a210b932785d"
            ]
          }
        },
        "d87b9a2f1f4346edbf285d2aa96e1604": {
          "model_module": "@jupyter-widgets/base",
          "model_name": "LayoutModel",
          "state": {
            "_view_name": "LayoutView",
            "grid_template_rows": null,
            "right": null,
            "justify_content": null,
            "_view_module": "@jupyter-widgets/base",
            "overflow": null,
            "_model_module_version": "1.2.0",
            "_view_count": null,
            "flex_flow": null,
            "width": null,
            "min_width": null,
            "border": null,
            "align_items": null,
            "bottom": null,
            "_model_module": "@jupyter-widgets/base",
            "top": null,
            "grid_column": null,
            "overflow_y": null,
            "overflow_x": null,
            "grid_auto_flow": null,
            "grid_area": null,
            "grid_template_columns": null,
            "flex": null,
            "_model_name": "LayoutModel",
            "justify_items": null,
            "grid_row": null,
            "max_height": null,
            "align_content": null,
            "visibility": null,
            "align_self": null,
            "height": null,
            "min_height": null,
            "padding": null,
            "grid_auto_rows": null,
            "grid_gap": null,
            "max_width": null,
            "order": null,
            "_view_module_version": "1.2.0",
            "grid_template_areas": null,
            "object_position": null,
            "object_fit": null,
            "grid_auto_columns": null,
            "margin": null,
            "display": null,
            "left": null
          }
        },
        "ec724636552248c2b818af54f0a309b5": {
          "model_module": "@jupyter-widgets/controls",
          "model_name": "LabelModel",
          "state": {
            "_view_name": "LabelView",
            "style": "IPY_MODEL_eb23aaf452754b8aa4faa78ba6b4a51c",
            "_dom_classes": [],
            "description": "",
            "_model_name": "LabelModel",
            "placeholder": "​",
            "_view_module": "@jupyter-widgets/controls",
            "_model_module_version": "1.5.0",
            "value": " 0.64MB of 0.64MB uploaded (0.00MB deduped)\r",
            "_view_count": null,
            "_view_module_version": "1.5.0",
            "description_tooltip": null,
            "_model_module": "@jupyter-widgets/controls",
            "layout": "IPY_MODEL_1f4bd64ceb394e6a9f2c9d4641b999aa"
          }
        },
        "44f41ae4c70f41058a77a210b932785d": {
          "model_module": "@jupyter-widgets/controls",
          "model_name": "FloatProgressModel",
          "state": {
            "_view_name": "ProgressView",
            "style": "IPY_MODEL_1282ca1b0f454e50a6a77d727e6986d8",
            "_dom_classes": [],
            "description": "",
            "_model_name": "FloatProgressModel",
            "bar_style": "",
            "max": 1,
            "_view_module": "@jupyter-widgets/controls",
            "_model_module_version": "1.5.0",
            "value": 1,
            "_view_count": null,
            "_view_module_version": "1.5.0",
            "orientation": "horizontal",
            "min": 0,
            "description_tooltip": null,
            "_model_module": "@jupyter-widgets/controls",
            "layout": "IPY_MODEL_180c528670aa45c3af80181aef9637a9"
          }
        },
        "eb23aaf452754b8aa4faa78ba6b4a51c": {
          "model_module": "@jupyter-widgets/controls",
          "model_name": "DescriptionStyleModel",
          "state": {
            "_view_name": "StyleView",
            "_model_name": "DescriptionStyleModel",
            "description_width": "",
            "_view_module": "@jupyter-widgets/base",
            "_model_module_version": "1.5.0",
            "_view_count": null,
            "_view_module_version": "1.2.0",
            "_model_module": "@jupyter-widgets/controls"
          }
        },
        "1f4bd64ceb394e6a9f2c9d4641b999aa": {
          "model_module": "@jupyter-widgets/base",
          "model_name": "LayoutModel",
          "state": {
            "_view_name": "LayoutView",
            "grid_template_rows": null,
            "right": null,
            "justify_content": null,
            "_view_module": "@jupyter-widgets/base",
            "overflow": null,
            "_model_module_version": "1.2.0",
            "_view_count": null,
            "flex_flow": null,
            "width": null,
            "min_width": null,
            "border": null,
            "align_items": null,
            "bottom": null,
            "_model_module": "@jupyter-widgets/base",
            "top": null,
            "grid_column": null,
            "overflow_y": null,
            "overflow_x": null,
            "grid_auto_flow": null,
            "grid_area": null,
            "grid_template_columns": null,
            "flex": null,
            "_model_name": "LayoutModel",
            "justify_items": null,
            "grid_row": null,
            "max_height": null,
            "align_content": null,
            "visibility": null,
            "align_self": null,
            "height": null,
            "min_height": null,
            "padding": null,
            "grid_auto_rows": null,
            "grid_gap": null,
            "max_width": null,
            "order": null,
            "_view_module_version": "1.2.0",
            "grid_template_areas": null,
            "object_position": null,
            "object_fit": null,
            "grid_auto_columns": null,
            "margin": null,
            "display": null,
            "left": null
          }
        },
        "1282ca1b0f454e50a6a77d727e6986d8": {
          "model_module": "@jupyter-widgets/controls",
          "model_name": "ProgressStyleModel",
          "state": {
            "_view_name": "StyleView",
            "_model_name": "ProgressStyleModel",
            "description_width": "",
            "_view_module": "@jupyter-widgets/base",
            "_model_module_version": "1.5.0",
            "_view_count": null,
            "_view_module_version": "1.2.0",
            "bar_color": null,
            "_model_module": "@jupyter-widgets/controls"
          }
        },
        "180c528670aa45c3af80181aef9637a9": {
          "model_module": "@jupyter-widgets/base",
          "model_name": "LayoutModel",
          "state": {
            "_view_name": "LayoutView",
            "grid_template_rows": null,
            "right": null,
            "justify_content": null,
            "_view_module": "@jupyter-widgets/base",
            "overflow": null,
            "_model_module_version": "1.2.0",
            "_view_count": null,
            "flex_flow": null,
            "width": null,
            "min_width": null,
            "border": null,
            "align_items": null,
            "bottom": null,
            "_model_module": "@jupyter-widgets/base",
            "top": null,
            "grid_column": null,
            "overflow_y": null,
            "overflow_x": null,
            "grid_auto_flow": null,
            "grid_area": null,
            "grid_template_columns": null,
            "flex": null,
            "_model_name": "LayoutModel",
            "justify_items": null,
            "grid_row": null,
            "max_height": null,
            "align_content": null,
            "visibility": null,
            "align_self": null,
            "height": null,
            "min_height": null,
            "padding": null,
            "grid_auto_rows": null,
            "grid_gap": null,
            "max_width": null,
            "order": null,
            "_view_module_version": "1.2.0",
            "grid_template_areas": null,
            "object_position": null,
            "object_fit": null,
            "grid_auto_columns": null,
            "margin": null,
            "display": null,
            "left": null
          }
        },
        "cfe12e828d9a49f1b6f5164173da5c3f": {
          "model_module": "@jupyter-widgets/controls",
          "model_name": "VBoxModel",
          "state": {
            "_view_name": "VBoxView",
            "_dom_classes": [],
            "_model_name": "VBoxModel",
            "_view_module": "@jupyter-widgets/controls",
            "_model_module_version": "1.5.0",
            "_view_count": null,
            "_view_module_version": "1.5.0",
            "box_style": "",
            "layout": "IPY_MODEL_1c4590ac09e64c7085cfbe22e1343b0f",
            "_model_module": "@jupyter-widgets/controls",
            "children": [
              "IPY_MODEL_159b23c7c8574c158be669fdf8a87f44",
              "IPY_MODEL_fb5fc2c0a31c43c3a2f5ed9a756cd8a7"
            ]
          }
        },
        "1c4590ac09e64c7085cfbe22e1343b0f": {
          "model_module": "@jupyter-widgets/base",
          "model_name": "LayoutModel",
          "state": {
            "_view_name": "LayoutView",
            "grid_template_rows": null,
            "right": null,
            "justify_content": null,
            "_view_module": "@jupyter-widgets/base",
            "overflow": null,
            "_model_module_version": "1.2.0",
            "_view_count": null,
            "flex_flow": null,
            "width": null,
            "min_width": null,
            "border": null,
            "align_items": null,
            "bottom": null,
            "_model_module": "@jupyter-widgets/base",
            "top": null,
            "grid_column": null,
            "overflow_y": null,
            "overflow_x": null,
            "grid_auto_flow": null,
            "grid_area": null,
            "grid_template_columns": null,
            "flex": null,
            "_model_name": "LayoutModel",
            "justify_items": null,
            "grid_row": null,
            "max_height": null,
            "align_content": null,
            "visibility": null,
            "align_self": null,
            "height": null,
            "min_height": null,
            "padding": null,
            "grid_auto_rows": null,
            "grid_gap": null,
            "max_width": null,
            "order": null,
            "_view_module_version": "1.2.0",
            "grid_template_areas": null,
            "object_position": null,
            "object_fit": null,
            "grid_auto_columns": null,
            "margin": null,
            "display": null,
            "left": null
          }
        },
        "159b23c7c8574c158be669fdf8a87f44": {
          "model_module": "@jupyter-widgets/controls",
          "model_name": "LabelModel",
          "state": {
            "_view_name": "LabelView",
            "style": "IPY_MODEL_6aacdb507f3d4def8d1846c85f5a9605",
            "_dom_classes": [],
            "description": "",
            "_model_name": "LabelModel",
            "placeholder": "​",
            "_view_module": "@jupyter-widgets/controls",
            "_model_module_version": "1.5.0",
            "value": " 0.65MB of 0.65MB uploaded (0.00MB deduped)\r",
            "_view_count": null,
            "_view_module_version": "1.5.0",
            "description_tooltip": null,
            "_model_module": "@jupyter-widgets/controls",
            "layout": "IPY_MODEL_93f69bd50a4c4c6482e82773c66988b8"
          }
        },
        "fb5fc2c0a31c43c3a2f5ed9a756cd8a7": {
          "model_module": "@jupyter-widgets/controls",
          "model_name": "FloatProgressModel",
          "state": {
            "_view_name": "ProgressView",
            "style": "IPY_MODEL_3205c01002f04ce5b0550e881a87e036",
            "_dom_classes": [],
            "description": "",
            "_model_name": "FloatProgressModel",
            "bar_style": "",
            "max": 1,
            "_view_module": "@jupyter-widgets/controls",
            "_model_module_version": "1.5.0",
            "value": 1,
            "_view_count": null,
            "_view_module_version": "1.5.0",
            "orientation": "horizontal",
            "min": 0,
            "description_tooltip": null,
            "_model_module": "@jupyter-widgets/controls",
            "layout": "IPY_MODEL_f09821115e7043089afa3b8e8b8ff418"
          }
        },
        "6aacdb507f3d4def8d1846c85f5a9605": {
          "model_module": "@jupyter-widgets/controls",
          "model_name": "DescriptionStyleModel",
          "state": {
            "_view_name": "StyleView",
            "_model_name": "DescriptionStyleModel",
            "description_width": "",
            "_view_module": "@jupyter-widgets/base",
            "_model_module_version": "1.5.0",
            "_view_count": null,
            "_view_module_version": "1.2.0",
            "_model_module": "@jupyter-widgets/controls"
          }
        },
        "93f69bd50a4c4c6482e82773c66988b8": {
          "model_module": "@jupyter-widgets/base",
          "model_name": "LayoutModel",
          "state": {
            "_view_name": "LayoutView",
            "grid_template_rows": null,
            "right": null,
            "justify_content": null,
            "_view_module": "@jupyter-widgets/base",
            "overflow": null,
            "_model_module_version": "1.2.0",
            "_view_count": null,
            "flex_flow": null,
            "width": null,
            "min_width": null,
            "border": null,
            "align_items": null,
            "bottom": null,
            "_model_module": "@jupyter-widgets/base",
            "top": null,
            "grid_column": null,
            "overflow_y": null,
            "overflow_x": null,
            "grid_auto_flow": null,
            "grid_area": null,
            "grid_template_columns": null,
            "flex": null,
            "_model_name": "LayoutModel",
            "justify_items": null,
            "grid_row": null,
            "max_height": null,
            "align_content": null,
            "visibility": null,
            "align_self": null,
            "height": null,
            "min_height": null,
            "padding": null,
            "grid_auto_rows": null,
            "grid_gap": null,
            "max_width": null,
            "order": null,
            "_view_module_version": "1.2.0",
            "grid_template_areas": null,
            "object_position": null,
            "object_fit": null,
            "grid_auto_columns": null,
            "margin": null,
            "display": null,
            "left": null
          }
        },
        "3205c01002f04ce5b0550e881a87e036": {
          "model_module": "@jupyter-widgets/controls",
          "model_name": "ProgressStyleModel",
          "state": {
            "_view_name": "StyleView",
            "_model_name": "ProgressStyleModel",
            "description_width": "",
            "_view_module": "@jupyter-widgets/base",
            "_model_module_version": "1.5.0",
            "_view_count": null,
            "_view_module_version": "1.2.0",
            "bar_color": null,
            "_model_module": "@jupyter-widgets/controls"
          }
        },
        "f09821115e7043089afa3b8e8b8ff418": {
          "model_module": "@jupyter-widgets/base",
          "model_name": "LayoutModel",
          "state": {
            "_view_name": "LayoutView",
            "grid_template_rows": null,
            "right": null,
            "justify_content": null,
            "_view_module": "@jupyter-widgets/base",
            "overflow": null,
            "_model_module_version": "1.2.0",
            "_view_count": null,
            "flex_flow": null,
            "width": null,
            "min_width": null,
            "border": null,
            "align_items": null,
            "bottom": null,
            "_model_module": "@jupyter-widgets/base",
            "top": null,
            "grid_column": null,
            "overflow_y": null,
            "overflow_x": null,
            "grid_auto_flow": null,
            "grid_area": null,
            "grid_template_columns": null,
            "flex": null,
            "_model_name": "LayoutModel",
            "justify_items": null,
            "grid_row": null,
            "max_height": null,
            "align_content": null,
            "visibility": null,
            "align_self": null,
            "height": null,
            "min_height": null,
            "padding": null,
            "grid_auto_rows": null,
            "grid_gap": null,
            "max_width": null,
            "order": null,
            "_view_module_version": "1.2.0",
            "grid_template_areas": null,
            "object_position": null,
            "object_fit": null,
            "grid_auto_columns": null,
            "margin": null,
            "display": null,
            "left": null
          }
        },
        "716dce3e643a435cb91055c1917c8dfd": {
          "model_module": "@jupyter-widgets/controls",
          "model_name": "VBoxModel",
          "state": {
            "_view_name": "VBoxView",
            "_dom_classes": [],
            "_model_name": "VBoxModel",
            "_view_module": "@jupyter-widgets/controls",
            "_model_module_version": "1.5.0",
            "_view_count": null,
            "_view_module_version": "1.5.0",
            "box_style": "",
            "layout": "IPY_MODEL_49e3840826e94aa9b86703c86a2a4e27",
            "_model_module": "@jupyter-widgets/controls",
            "children": [
              "IPY_MODEL_00aca7a454514e3bbe579dad61b3e038",
              "IPY_MODEL_664e72af350c44a59fc58394288a2fc3"
            ]
          }
        },
        "49e3840826e94aa9b86703c86a2a4e27": {
          "model_module": "@jupyter-widgets/base",
          "model_name": "LayoutModel",
          "state": {
            "_view_name": "LayoutView",
            "grid_template_rows": null,
            "right": null,
            "justify_content": null,
            "_view_module": "@jupyter-widgets/base",
            "overflow": null,
            "_model_module_version": "1.2.0",
            "_view_count": null,
            "flex_flow": null,
            "width": null,
            "min_width": null,
            "border": null,
            "align_items": null,
            "bottom": null,
            "_model_module": "@jupyter-widgets/base",
            "top": null,
            "grid_column": null,
            "overflow_y": null,
            "overflow_x": null,
            "grid_auto_flow": null,
            "grid_area": null,
            "grid_template_columns": null,
            "flex": null,
            "_model_name": "LayoutModel",
            "justify_items": null,
            "grid_row": null,
            "max_height": null,
            "align_content": null,
            "visibility": null,
            "align_self": null,
            "height": null,
            "min_height": null,
            "padding": null,
            "grid_auto_rows": null,
            "grid_gap": null,
            "max_width": null,
            "order": null,
            "_view_module_version": "1.2.0",
            "grid_template_areas": null,
            "object_position": null,
            "object_fit": null,
            "grid_auto_columns": null,
            "margin": null,
            "display": null,
            "left": null
          }
        },
        "00aca7a454514e3bbe579dad61b3e038": {
          "model_module": "@jupyter-widgets/controls",
          "model_name": "LabelModel",
          "state": {
            "_view_name": "LabelView",
            "style": "IPY_MODEL_d9501b1eebca4898950d3b3b7667638b",
            "_dom_classes": [],
            "description": "",
            "_model_name": "LabelModel",
            "placeholder": "​",
            "_view_module": "@jupyter-widgets/controls",
            "_model_module_version": "1.5.0",
            "value": " 0.66MB of 0.66MB uploaded (0.00MB deduped)\r",
            "_view_count": null,
            "_view_module_version": "1.5.0",
            "description_tooltip": null,
            "_model_module": "@jupyter-widgets/controls",
            "layout": "IPY_MODEL_582482f8b4fc4e77a75e80dcd6a9e2c9"
          }
        },
        "664e72af350c44a59fc58394288a2fc3": {
          "model_module": "@jupyter-widgets/controls",
          "model_name": "FloatProgressModel",
          "state": {
            "_view_name": "ProgressView",
            "style": "IPY_MODEL_20a9d6dee0ef41c8ab301bcb273a429b",
            "_dom_classes": [],
            "description": "",
            "_model_name": "FloatProgressModel",
            "bar_style": "",
            "max": 1,
            "_view_module": "@jupyter-widgets/controls",
            "_model_module_version": "1.5.0",
            "value": 1,
            "_view_count": null,
            "_view_module_version": "1.5.0",
            "orientation": "horizontal",
            "min": 0,
            "description_tooltip": null,
            "_model_module": "@jupyter-widgets/controls",
            "layout": "IPY_MODEL_012c4d71a3a345639aff5dc8076f93d9"
          }
        },
        "d9501b1eebca4898950d3b3b7667638b": {
          "model_module": "@jupyter-widgets/controls",
          "model_name": "DescriptionStyleModel",
          "state": {
            "_view_name": "StyleView",
            "_model_name": "DescriptionStyleModel",
            "description_width": "",
            "_view_module": "@jupyter-widgets/base",
            "_model_module_version": "1.5.0",
            "_view_count": null,
            "_view_module_version": "1.2.0",
            "_model_module": "@jupyter-widgets/controls"
          }
        },
        "582482f8b4fc4e77a75e80dcd6a9e2c9": {
          "model_module": "@jupyter-widgets/base",
          "model_name": "LayoutModel",
          "state": {
            "_view_name": "LayoutView",
            "grid_template_rows": null,
            "right": null,
            "justify_content": null,
            "_view_module": "@jupyter-widgets/base",
            "overflow": null,
            "_model_module_version": "1.2.0",
            "_view_count": null,
            "flex_flow": null,
            "width": null,
            "min_width": null,
            "border": null,
            "align_items": null,
            "bottom": null,
            "_model_module": "@jupyter-widgets/base",
            "top": null,
            "grid_column": null,
            "overflow_y": null,
            "overflow_x": null,
            "grid_auto_flow": null,
            "grid_area": null,
            "grid_template_columns": null,
            "flex": null,
            "_model_name": "LayoutModel",
            "justify_items": null,
            "grid_row": null,
            "max_height": null,
            "align_content": null,
            "visibility": null,
            "align_self": null,
            "height": null,
            "min_height": null,
            "padding": null,
            "grid_auto_rows": null,
            "grid_gap": null,
            "max_width": null,
            "order": null,
            "_view_module_version": "1.2.0",
            "grid_template_areas": null,
            "object_position": null,
            "object_fit": null,
            "grid_auto_columns": null,
            "margin": null,
            "display": null,
            "left": null
          }
        },
        "20a9d6dee0ef41c8ab301bcb273a429b": {
          "model_module": "@jupyter-widgets/controls",
          "model_name": "ProgressStyleModel",
          "state": {
            "_view_name": "StyleView",
            "_model_name": "ProgressStyleModel",
            "description_width": "",
            "_view_module": "@jupyter-widgets/base",
            "_model_module_version": "1.5.0",
            "_view_count": null,
            "_view_module_version": "1.2.0",
            "bar_color": null,
            "_model_module": "@jupyter-widgets/controls"
          }
        },
        "012c4d71a3a345639aff5dc8076f93d9": {
          "model_module": "@jupyter-widgets/base",
          "model_name": "LayoutModel",
          "state": {
            "_view_name": "LayoutView",
            "grid_template_rows": null,
            "right": null,
            "justify_content": null,
            "_view_module": "@jupyter-widgets/base",
            "overflow": null,
            "_model_module_version": "1.2.0",
            "_view_count": null,
            "flex_flow": null,
            "width": null,
            "min_width": null,
            "border": null,
            "align_items": null,
            "bottom": null,
            "_model_module": "@jupyter-widgets/base",
            "top": null,
            "grid_column": null,
            "overflow_y": null,
            "overflow_x": null,
            "grid_auto_flow": null,
            "grid_area": null,
            "grid_template_columns": null,
            "flex": null,
            "_model_name": "LayoutModel",
            "justify_items": null,
            "grid_row": null,
            "max_height": null,
            "align_content": null,
            "visibility": null,
            "align_self": null,
            "height": null,
            "min_height": null,
            "padding": null,
            "grid_auto_rows": null,
            "grid_gap": null,
            "max_width": null,
            "order": null,
            "_view_module_version": "1.2.0",
            "grid_template_areas": null,
            "object_position": null,
            "object_fit": null,
            "grid_auto_columns": null,
            "margin": null,
            "display": null,
            "left": null
          }
        },
        "85bd6b55673a44669913db9e652cc6ba": {
          "model_module": "@jupyter-widgets/controls",
          "model_name": "VBoxModel",
          "state": {
            "_view_name": "VBoxView",
            "_dom_classes": [],
            "_model_name": "VBoxModel",
            "_view_module": "@jupyter-widgets/controls",
            "_model_module_version": "1.5.0",
            "_view_count": null,
            "_view_module_version": "1.5.0",
            "box_style": "",
            "layout": "IPY_MODEL_33616968cb284e4f9a5da7f15b088d23",
            "_model_module": "@jupyter-widgets/controls",
            "children": [
              "IPY_MODEL_49b4d7e265fe473eace824c33593be80",
              "IPY_MODEL_7bcea19fecb949c2a19eb7953f2882c4"
            ]
          }
        },
        "33616968cb284e4f9a5da7f15b088d23": {
          "model_module": "@jupyter-widgets/base",
          "model_name": "LayoutModel",
          "state": {
            "_view_name": "LayoutView",
            "grid_template_rows": null,
            "right": null,
            "justify_content": null,
            "_view_module": "@jupyter-widgets/base",
            "overflow": null,
            "_model_module_version": "1.2.0",
            "_view_count": null,
            "flex_flow": null,
            "width": null,
            "min_width": null,
            "border": null,
            "align_items": null,
            "bottom": null,
            "_model_module": "@jupyter-widgets/base",
            "top": null,
            "grid_column": null,
            "overflow_y": null,
            "overflow_x": null,
            "grid_auto_flow": null,
            "grid_area": null,
            "grid_template_columns": null,
            "flex": null,
            "_model_name": "LayoutModel",
            "justify_items": null,
            "grid_row": null,
            "max_height": null,
            "align_content": null,
            "visibility": null,
            "align_self": null,
            "height": null,
            "min_height": null,
            "padding": null,
            "grid_auto_rows": null,
            "grid_gap": null,
            "max_width": null,
            "order": null,
            "_view_module_version": "1.2.0",
            "grid_template_areas": null,
            "object_position": null,
            "object_fit": null,
            "grid_auto_columns": null,
            "margin": null,
            "display": null,
            "left": null
          }
        },
        "49b4d7e265fe473eace824c33593be80": {
          "model_module": "@jupyter-widgets/controls",
          "model_name": "LabelModel",
          "state": {
            "_view_name": "LabelView",
            "style": "IPY_MODEL_5730fb8d46634d93ae6f567878214bdf",
            "_dom_classes": [],
            "description": "",
            "_model_name": "LabelModel",
            "placeholder": "​",
            "_view_module": "@jupyter-widgets/controls",
            "_model_module_version": "1.5.0",
            "value": " 0.68MB of 0.68MB uploaded (0.00MB deduped)\r",
            "_view_count": null,
            "_view_module_version": "1.5.0",
            "description_tooltip": null,
            "_model_module": "@jupyter-widgets/controls",
            "layout": "IPY_MODEL_562f6eb0cadc40f3abfe885e866c437f"
          }
        },
        "7bcea19fecb949c2a19eb7953f2882c4": {
          "model_module": "@jupyter-widgets/controls",
          "model_name": "FloatProgressModel",
          "state": {
            "_view_name": "ProgressView",
            "style": "IPY_MODEL_51823365faaf40a5816ab83148eea600",
            "_dom_classes": [],
            "description": "",
            "_model_name": "FloatProgressModel",
            "bar_style": "",
            "max": 1,
            "_view_module": "@jupyter-widgets/controls",
            "_model_module_version": "1.5.0",
            "value": 1,
            "_view_count": null,
            "_view_module_version": "1.5.0",
            "orientation": "horizontal",
            "min": 0,
            "description_tooltip": null,
            "_model_module": "@jupyter-widgets/controls",
            "layout": "IPY_MODEL_ae6c50d8b6b34a7fa56ae034f1e91ed3"
          }
        },
        "5730fb8d46634d93ae6f567878214bdf": {
          "model_module": "@jupyter-widgets/controls",
          "model_name": "DescriptionStyleModel",
          "state": {
            "_view_name": "StyleView",
            "_model_name": "DescriptionStyleModel",
            "description_width": "",
            "_view_module": "@jupyter-widgets/base",
            "_model_module_version": "1.5.0",
            "_view_count": null,
            "_view_module_version": "1.2.0",
            "_model_module": "@jupyter-widgets/controls"
          }
        },
        "562f6eb0cadc40f3abfe885e866c437f": {
          "model_module": "@jupyter-widgets/base",
          "model_name": "LayoutModel",
          "state": {
            "_view_name": "LayoutView",
            "grid_template_rows": null,
            "right": null,
            "justify_content": null,
            "_view_module": "@jupyter-widgets/base",
            "overflow": null,
            "_model_module_version": "1.2.0",
            "_view_count": null,
            "flex_flow": null,
            "width": null,
            "min_width": null,
            "border": null,
            "align_items": null,
            "bottom": null,
            "_model_module": "@jupyter-widgets/base",
            "top": null,
            "grid_column": null,
            "overflow_y": null,
            "overflow_x": null,
            "grid_auto_flow": null,
            "grid_area": null,
            "grid_template_columns": null,
            "flex": null,
            "_model_name": "LayoutModel",
            "justify_items": null,
            "grid_row": null,
            "max_height": null,
            "align_content": null,
            "visibility": null,
            "align_self": null,
            "height": null,
            "min_height": null,
            "padding": null,
            "grid_auto_rows": null,
            "grid_gap": null,
            "max_width": null,
            "order": null,
            "_view_module_version": "1.2.0",
            "grid_template_areas": null,
            "object_position": null,
            "object_fit": null,
            "grid_auto_columns": null,
            "margin": null,
            "display": null,
            "left": null
          }
        },
        "51823365faaf40a5816ab83148eea600": {
          "model_module": "@jupyter-widgets/controls",
          "model_name": "ProgressStyleModel",
          "state": {
            "_view_name": "StyleView",
            "_model_name": "ProgressStyleModel",
            "description_width": "",
            "_view_module": "@jupyter-widgets/base",
            "_model_module_version": "1.5.0",
            "_view_count": null,
            "_view_module_version": "1.2.0",
            "bar_color": null,
            "_model_module": "@jupyter-widgets/controls"
          }
        },
        "ae6c50d8b6b34a7fa56ae034f1e91ed3": {
          "model_module": "@jupyter-widgets/base",
          "model_name": "LayoutModel",
          "state": {
            "_view_name": "LayoutView",
            "grid_template_rows": null,
            "right": null,
            "justify_content": null,
            "_view_module": "@jupyter-widgets/base",
            "overflow": null,
            "_model_module_version": "1.2.0",
            "_view_count": null,
            "flex_flow": null,
            "width": null,
            "min_width": null,
            "border": null,
            "align_items": null,
            "bottom": null,
            "_model_module": "@jupyter-widgets/base",
            "top": null,
            "grid_column": null,
            "overflow_y": null,
            "overflow_x": null,
            "grid_auto_flow": null,
            "grid_area": null,
            "grid_template_columns": null,
            "flex": null,
            "_model_name": "LayoutModel",
            "justify_items": null,
            "grid_row": null,
            "max_height": null,
            "align_content": null,
            "visibility": null,
            "align_self": null,
            "height": null,
            "min_height": null,
            "padding": null,
            "grid_auto_rows": null,
            "grid_gap": null,
            "max_width": null,
            "order": null,
            "_view_module_version": "1.2.0",
            "grid_template_areas": null,
            "object_position": null,
            "object_fit": null,
            "grid_auto_columns": null,
            "margin": null,
            "display": null,
            "left": null
          }
        },
        "bcf881bb93bd4d998a010dafd899840b": {
          "model_module": "@jupyter-widgets/controls",
          "model_name": "VBoxModel",
          "state": {
            "_view_name": "VBoxView",
            "_dom_classes": [],
            "_model_name": "VBoxModel",
            "_view_module": "@jupyter-widgets/controls",
            "_model_module_version": "1.5.0",
            "_view_count": null,
            "_view_module_version": "1.5.0",
            "box_style": "",
            "layout": "IPY_MODEL_1506c06610fe4d98b117fc7e64b37533",
            "_model_module": "@jupyter-widgets/controls",
            "children": [
              "IPY_MODEL_48b52049a2324e588f404da8065b821e",
              "IPY_MODEL_ac40f1d3f4374808a2e90a67f246edbf"
            ]
          }
        },
        "1506c06610fe4d98b117fc7e64b37533": {
          "model_module": "@jupyter-widgets/base",
          "model_name": "LayoutModel",
          "state": {
            "_view_name": "LayoutView",
            "grid_template_rows": null,
            "right": null,
            "justify_content": null,
            "_view_module": "@jupyter-widgets/base",
            "overflow": null,
            "_model_module_version": "1.2.0",
            "_view_count": null,
            "flex_flow": null,
            "width": null,
            "min_width": null,
            "border": null,
            "align_items": null,
            "bottom": null,
            "_model_module": "@jupyter-widgets/base",
            "top": null,
            "grid_column": null,
            "overflow_y": null,
            "overflow_x": null,
            "grid_auto_flow": null,
            "grid_area": null,
            "grid_template_columns": null,
            "flex": null,
            "_model_name": "LayoutModel",
            "justify_items": null,
            "grid_row": null,
            "max_height": null,
            "align_content": null,
            "visibility": null,
            "align_self": null,
            "height": null,
            "min_height": null,
            "padding": null,
            "grid_auto_rows": null,
            "grid_gap": null,
            "max_width": null,
            "order": null,
            "_view_module_version": "1.2.0",
            "grid_template_areas": null,
            "object_position": null,
            "object_fit": null,
            "grid_auto_columns": null,
            "margin": null,
            "display": null,
            "left": null
          }
        },
        "48b52049a2324e588f404da8065b821e": {
          "model_module": "@jupyter-widgets/controls",
          "model_name": "LabelModel",
          "state": {
            "_view_name": "LabelView",
            "style": "IPY_MODEL_b21e1d9015834c14a644eb4b8b7ef054",
            "_dom_classes": [],
            "description": "",
            "_model_name": "LabelModel",
            "placeholder": "​",
            "_view_module": "@jupyter-widgets/controls",
            "_model_module_version": "1.5.0",
            "value": " 0.69MB of 0.69MB uploaded (0.00MB deduped)\r",
            "_view_count": null,
            "_view_module_version": "1.5.0",
            "description_tooltip": null,
            "_model_module": "@jupyter-widgets/controls",
            "layout": "IPY_MODEL_de3627733e9e4d68921dd17143781e15"
          }
        },
        "ac40f1d3f4374808a2e90a67f246edbf": {
          "model_module": "@jupyter-widgets/controls",
          "model_name": "FloatProgressModel",
          "state": {
            "_view_name": "ProgressView",
            "style": "IPY_MODEL_227ebb34a0fe4065b1d11666c9954692",
            "_dom_classes": [],
            "description": "",
            "_model_name": "FloatProgressModel",
            "bar_style": "",
            "max": 1,
            "_view_module": "@jupyter-widgets/controls",
            "_model_module_version": "1.5.0",
            "value": 1,
            "_view_count": null,
            "_view_module_version": "1.5.0",
            "orientation": "horizontal",
            "min": 0,
            "description_tooltip": null,
            "_model_module": "@jupyter-widgets/controls",
            "layout": "IPY_MODEL_e4bc9ab816e04f1eb0e64764fa484f7b"
          }
        },
        "b21e1d9015834c14a644eb4b8b7ef054": {
          "model_module": "@jupyter-widgets/controls",
          "model_name": "DescriptionStyleModel",
          "state": {
            "_view_name": "StyleView",
            "_model_name": "DescriptionStyleModel",
            "description_width": "",
            "_view_module": "@jupyter-widgets/base",
            "_model_module_version": "1.5.0",
            "_view_count": null,
            "_view_module_version": "1.2.0",
            "_model_module": "@jupyter-widgets/controls"
          }
        },
        "de3627733e9e4d68921dd17143781e15": {
          "model_module": "@jupyter-widgets/base",
          "model_name": "LayoutModel",
          "state": {
            "_view_name": "LayoutView",
            "grid_template_rows": null,
            "right": null,
            "justify_content": null,
            "_view_module": "@jupyter-widgets/base",
            "overflow": null,
            "_model_module_version": "1.2.0",
            "_view_count": null,
            "flex_flow": null,
            "width": null,
            "min_width": null,
            "border": null,
            "align_items": null,
            "bottom": null,
            "_model_module": "@jupyter-widgets/base",
            "top": null,
            "grid_column": null,
            "overflow_y": null,
            "overflow_x": null,
            "grid_auto_flow": null,
            "grid_area": null,
            "grid_template_columns": null,
            "flex": null,
            "_model_name": "LayoutModel",
            "justify_items": null,
            "grid_row": null,
            "max_height": null,
            "align_content": null,
            "visibility": null,
            "align_self": null,
            "height": null,
            "min_height": null,
            "padding": null,
            "grid_auto_rows": null,
            "grid_gap": null,
            "max_width": null,
            "order": null,
            "_view_module_version": "1.2.0",
            "grid_template_areas": null,
            "object_position": null,
            "object_fit": null,
            "grid_auto_columns": null,
            "margin": null,
            "display": null,
            "left": null
          }
        },
        "227ebb34a0fe4065b1d11666c9954692": {
          "model_module": "@jupyter-widgets/controls",
          "model_name": "ProgressStyleModel",
          "state": {
            "_view_name": "StyleView",
            "_model_name": "ProgressStyleModel",
            "description_width": "",
            "_view_module": "@jupyter-widgets/base",
            "_model_module_version": "1.5.0",
            "_view_count": null,
            "_view_module_version": "1.2.0",
            "bar_color": null,
            "_model_module": "@jupyter-widgets/controls"
          }
        },
        "e4bc9ab816e04f1eb0e64764fa484f7b": {
          "model_module": "@jupyter-widgets/base",
          "model_name": "LayoutModel",
          "state": {
            "_view_name": "LayoutView",
            "grid_template_rows": null,
            "right": null,
            "justify_content": null,
            "_view_module": "@jupyter-widgets/base",
            "overflow": null,
            "_model_module_version": "1.2.0",
            "_view_count": null,
            "flex_flow": null,
            "width": null,
            "min_width": null,
            "border": null,
            "align_items": null,
            "bottom": null,
            "_model_module": "@jupyter-widgets/base",
            "top": null,
            "grid_column": null,
            "overflow_y": null,
            "overflow_x": null,
            "grid_auto_flow": null,
            "grid_area": null,
            "grid_template_columns": null,
            "flex": null,
            "_model_name": "LayoutModel",
            "justify_items": null,
            "grid_row": null,
            "max_height": null,
            "align_content": null,
            "visibility": null,
            "align_self": null,
            "height": null,
            "min_height": null,
            "padding": null,
            "grid_auto_rows": null,
            "grid_gap": null,
            "max_width": null,
            "order": null,
            "_view_module_version": "1.2.0",
            "grid_template_areas": null,
            "object_position": null,
            "object_fit": null,
            "grid_auto_columns": null,
            "margin": null,
            "display": null,
            "left": null
          }
        },
        "93281d8a48fd479388e041d8446c025a": {
          "model_module": "@jupyter-widgets/controls",
          "model_name": "VBoxModel",
          "state": {
            "_view_name": "VBoxView",
            "_dom_classes": [],
            "_model_name": "VBoxModel",
            "_view_module": "@jupyter-widgets/controls",
            "_model_module_version": "1.5.0",
            "_view_count": null,
            "_view_module_version": "1.5.0",
            "box_style": "",
            "layout": "IPY_MODEL_706a53ea56a140c88c593bf25298d659",
            "_model_module": "@jupyter-widgets/controls",
            "children": [
              "IPY_MODEL_81493a87f7da4558b64668cb0df0e776",
              "IPY_MODEL_77b3a3c815544267bfa0c700330c39c9"
            ]
          }
        },
        "706a53ea56a140c88c593bf25298d659": {
          "model_module": "@jupyter-widgets/base",
          "model_name": "LayoutModel",
          "state": {
            "_view_name": "LayoutView",
            "grid_template_rows": null,
            "right": null,
            "justify_content": null,
            "_view_module": "@jupyter-widgets/base",
            "overflow": null,
            "_model_module_version": "1.2.0",
            "_view_count": null,
            "flex_flow": null,
            "width": null,
            "min_width": null,
            "border": null,
            "align_items": null,
            "bottom": null,
            "_model_module": "@jupyter-widgets/base",
            "top": null,
            "grid_column": null,
            "overflow_y": null,
            "overflow_x": null,
            "grid_auto_flow": null,
            "grid_area": null,
            "grid_template_columns": null,
            "flex": null,
            "_model_name": "LayoutModel",
            "justify_items": null,
            "grid_row": null,
            "max_height": null,
            "align_content": null,
            "visibility": null,
            "align_self": null,
            "height": null,
            "min_height": null,
            "padding": null,
            "grid_auto_rows": null,
            "grid_gap": null,
            "max_width": null,
            "order": null,
            "_view_module_version": "1.2.0",
            "grid_template_areas": null,
            "object_position": null,
            "object_fit": null,
            "grid_auto_columns": null,
            "margin": null,
            "display": null,
            "left": null
          }
        },
        "81493a87f7da4558b64668cb0df0e776": {
          "model_module": "@jupyter-widgets/controls",
          "model_name": "LabelModel",
          "state": {
            "_view_name": "LabelView",
            "style": "IPY_MODEL_c9274cfcf8cb4271a8aca5a08d16064a",
            "_dom_classes": [],
            "description": "",
            "_model_name": "LabelModel",
            "placeholder": "​",
            "_view_module": "@jupyter-widgets/controls",
            "_model_module_version": "1.5.0",
            "value": " 0.70MB of 0.70MB uploaded (0.00MB deduped)\r",
            "_view_count": null,
            "_view_module_version": "1.5.0",
            "description_tooltip": null,
            "_model_module": "@jupyter-widgets/controls",
            "layout": "IPY_MODEL_56ee506d9f36471b84bfc0c66f6053da"
          }
        },
        "77b3a3c815544267bfa0c700330c39c9": {
          "model_module": "@jupyter-widgets/controls",
          "model_name": "FloatProgressModel",
          "state": {
            "_view_name": "ProgressView",
            "style": "IPY_MODEL_add0c99ced924887ae18fe6e484d1832",
            "_dom_classes": [],
            "description": "",
            "_model_name": "FloatProgressModel",
            "bar_style": "",
            "max": 1,
            "_view_module": "@jupyter-widgets/controls",
            "_model_module_version": "1.5.0",
            "value": 1,
            "_view_count": null,
            "_view_module_version": "1.5.0",
            "orientation": "horizontal",
            "min": 0,
            "description_tooltip": null,
            "_model_module": "@jupyter-widgets/controls",
            "layout": "IPY_MODEL_96b3acec9c844baeaff141af5adb9100"
          }
        },
        "c9274cfcf8cb4271a8aca5a08d16064a": {
          "model_module": "@jupyter-widgets/controls",
          "model_name": "DescriptionStyleModel",
          "state": {
            "_view_name": "StyleView",
            "_model_name": "DescriptionStyleModel",
            "description_width": "",
            "_view_module": "@jupyter-widgets/base",
            "_model_module_version": "1.5.0",
            "_view_count": null,
            "_view_module_version": "1.2.0",
            "_model_module": "@jupyter-widgets/controls"
          }
        },
        "56ee506d9f36471b84bfc0c66f6053da": {
          "model_module": "@jupyter-widgets/base",
          "model_name": "LayoutModel",
          "state": {
            "_view_name": "LayoutView",
            "grid_template_rows": null,
            "right": null,
            "justify_content": null,
            "_view_module": "@jupyter-widgets/base",
            "overflow": null,
            "_model_module_version": "1.2.0",
            "_view_count": null,
            "flex_flow": null,
            "width": null,
            "min_width": null,
            "border": null,
            "align_items": null,
            "bottom": null,
            "_model_module": "@jupyter-widgets/base",
            "top": null,
            "grid_column": null,
            "overflow_y": null,
            "overflow_x": null,
            "grid_auto_flow": null,
            "grid_area": null,
            "grid_template_columns": null,
            "flex": null,
            "_model_name": "LayoutModel",
            "justify_items": null,
            "grid_row": null,
            "max_height": null,
            "align_content": null,
            "visibility": null,
            "align_self": null,
            "height": null,
            "min_height": null,
            "padding": null,
            "grid_auto_rows": null,
            "grid_gap": null,
            "max_width": null,
            "order": null,
            "_view_module_version": "1.2.0",
            "grid_template_areas": null,
            "object_position": null,
            "object_fit": null,
            "grid_auto_columns": null,
            "margin": null,
            "display": null,
            "left": null
          }
        },
        "add0c99ced924887ae18fe6e484d1832": {
          "model_module": "@jupyter-widgets/controls",
          "model_name": "ProgressStyleModel",
          "state": {
            "_view_name": "StyleView",
            "_model_name": "ProgressStyleModel",
            "description_width": "",
            "_view_module": "@jupyter-widgets/base",
            "_model_module_version": "1.5.0",
            "_view_count": null,
            "_view_module_version": "1.2.0",
            "bar_color": null,
            "_model_module": "@jupyter-widgets/controls"
          }
        },
        "96b3acec9c844baeaff141af5adb9100": {
          "model_module": "@jupyter-widgets/base",
          "model_name": "LayoutModel",
          "state": {
            "_view_name": "LayoutView",
            "grid_template_rows": null,
            "right": null,
            "justify_content": null,
            "_view_module": "@jupyter-widgets/base",
            "overflow": null,
            "_model_module_version": "1.2.0",
            "_view_count": null,
            "flex_flow": null,
            "width": null,
            "min_width": null,
            "border": null,
            "align_items": null,
            "bottom": null,
            "_model_module": "@jupyter-widgets/base",
            "top": null,
            "grid_column": null,
            "overflow_y": null,
            "overflow_x": null,
            "grid_auto_flow": null,
            "grid_area": null,
            "grid_template_columns": null,
            "flex": null,
            "_model_name": "LayoutModel",
            "justify_items": null,
            "grid_row": null,
            "max_height": null,
            "align_content": null,
            "visibility": null,
            "align_self": null,
            "height": null,
            "min_height": null,
            "padding": null,
            "grid_auto_rows": null,
            "grid_gap": null,
            "max_width": null,
            "order": null,
            "_view_module_version": "1.2.0",
            "grid_template_areas": null,
            "object_position": null,
            "object_fit": null,
            "grid_auto_columns": null,
            "margin": null,
            "display": null,
            "left": null
          }
        },
        "35681e9bb618430d969998756ad3d7ef": {
          "model_module": "@jupyter-widgets/controls",
          "model_name": "VBoxModel",
          "state": {
            "_view_name": "VBoxView",
            "_dom_classes": [],
            "_model_name": "VBoxModel",
            "_view_module": "@jupyter-widgets/controls",
            "_model_module_version": "1.5.0",
            "_view_count": null,
            "_view_module_version": "1.5.0",
            "box_style": "",
            "layout": "IPY_MODEL_e121ee85315a42c097f0815fa25b253a",
            "_model_module": "@jupyter-widgets/controls",
            "children": [
              "IPY_MODEL_94c74edbd9ae4a85aa2448691396f767",
              "IPY_MODEL_06a8500200184c24958773e6a1478393"
            ]
          }
        },
        "e121ee85315a42c097f0815fa25b253a": {
          "model_module": "@jupyter-widgets/base",
          "model_name": "LayoutModel",
          "state": {
            "_view_name": "LayoutView",
            "grid_template_rows": null,
            "right": null,
            "justify_content": null,
            "_view_module": "@jupyter-widgets/base",
            "overflow": null,
            "_model_module_version": "1.2.0",
            "_view_count": null,
            "flex_flow": null,
            "width": null,
            "min_width": null,
            "border": null,
            "align_items": null,
            "bottom": null,
            "_model_module": "@jupyter-widgets/base",
            "top": null,
            "grid_column": null,
            "overflow_y": null,
            "overflow_x": null,
            "grid_auto_flow": null,
            "grid_area": null,
            "grid_template_columns": null,
            "flex": null,
            "_model_name": "LayoutModel",
            "justify_items": null,
            "grid_row": null,
            "max_height": null,
            "align_content": null,
            "visibility": null,
            "align_self": null,
            "height": null,
            "min_height": null,
            "padding": null,
            "grid_auto_rows": null,
            "grid_gap": null,
            "max_width": null,
            "order": null,
            "_view_module_version": "1.2.0",
            "grid_template_areas": null,
            "object_position": null,
            "object_fit": null,
            "grid_auto_columns": null,
            "margin": null,
            "display": null,
            "left": null
          }
        },
        "94c74edbd9ae4a85aa2448691396f767": {
          "model_module": "@jupyter-widgets/controls",
          "model_name": "LabelModel",
          "state": {
            "_view_name": "LabelView",
            "style": "IPY_MODEL_1819a09f23f6470bb03714a937cb37fc",
            "_dom_classes": [],
            "description": "",
            "_model_name": "LabelModel",
            "placeholder": "​",
            "_view_module": "@jupyter-widgets/controls",
            "_model_module_version": "1.5.0",
            "value": " 0.72MB of 0.72MB uploaded (0.00MB deduped)\r",
            "_view_count": null,
            "_view_module_version": "1.5.0",
            "description_tooltip": null,
            "_model_module": "@jupyter-widgets/controls",
            "layout": "IPY_MODEL_cec39b7f47d3421db44abc4e11e8a709"
          }
        },
        "06a8500200184c24958773e6a1478393": {
          "model_module": "@jupyter-widgets/controls",
          "model_name": "FloatProgressModel",
          "state": {
            "_view_name": "ProgressView",
            "style": "IPY_MODEL_ddd0069b008f41c3a67b7857e883ab34",
            "_dom_classes": [],
            "description": "",
            "_model_name": "FloatProgressModel",
            "bar_style": "",
            "max": 1,
            "_view_module": "@jupyter-widgets/controls",
            "_model_module_version": "1.5.0",
            "value": 1,
            "_view_count": null,
            "_view_module_version": "1.5.0",
            "orientation": "horizontal",
            "min": 0,
            "description_tooltip": null,
            "_model_module": "@jupyter-widgets/controls",
            "layout": "IPY_MODEL_bf4ad4439a714448aa27ede9f94d7e26"
          }
        },
        "1819a09f23f6470bb03714a937cb37fc": {
          "model_module": "@jupyter-widgets/controls",
          "model_name": "DescriptionStyleModel",
          "state": {
            "_view_name": "StyleView",
            "_model_name": "DescriptionStyleModel",
            "description_width": "",
            "_view_module": "@jupyter-widgets/base",
            "_model_module_version": "1.5.0",
            "_view_count": null,
            "_view_module_version": "1.2.0",
            "_model_module": "@jupyter-widgets/controls"
          }
        },
        "cec39b7f47d3421db44abc4e11e8a709": {
          "model_module": "@jupyter-widgets/base",
          "model_name": "LayoutModel",
          "state": {
            "_view_name": "LayoutView",
            "grid_template_rows": null,
            "right": null,
            "justify_content": null,
            "_view_module": "@jupyter-widgets/base",
            "overflow": null,
            "_model_module_version": "1.2.0",
            "_view_count": null,
            "flex_flow": null,
            "width": null,
            "min_width": null,
            "border": null,
            "align_items": null,
            "bottom": null,
            "_model_module": "@jupyter-widgets/base",
            "top": null,
            "grid_column": null,
            "overflow_y": null,
            "overflow_x": null,
            "grid_auto_flow": null,
            "grid_area": null,
            "grid_template_columns": null,
            "flex": null,
            "_model_name": "LayoutModel",
            "justify_items": null,
            "grid_row": null,
            "max_height": null,
            "align_content": null,
            "visibility": null,
            "align_self": null,
            "height": null,
            "min_height": null,
            "padding": null,
            "grid_auto_rows": null,
            "grid_gap": null,
            "max_width": null,
            "order": null,
            "_view_module_version": "1.2.0",
            "grid_template_areas": null,
            "object_position": null,
            "object_fit": null,
            "grid_auto_columns": null,
            "margin": null,
            "display": null,
            "left": null
          }
        },
        "ddd0069b008f41c3a67b7857e883ab34": {
          "model_module": "@jupyter-widgets/controls",
          "model_name": "ProgressStyleModel",
          "state": {
            "_view_name": "StyleView",
            "_model_name": "ProgressStyleModel",
            "description_width": "",
            "_view_module": "@jupyter-widgets/base",
            "_model_module_version": "1.5.0",
            "_view_count": null,
            "_view_module_version": "1.2.0",
            "bar_color": null,
            "_model_module": "@jupyter-widgets/controls"
          }
        },
        "bf4ad4439a714448aa27ede9f94d7e26": {
          "model_module": "@jupyter-widgets/base",
          "model_name": "LayoutModel",
          "state": {
            "_view_name": "LayoutView",
            "grid_template_rows": null,
            "right": null,
            "justify_content": null,
            "_view_module": "@jupyter-widgets/base",
            "overflow": null,
            "_model_module_version": "1.2.0",
            "_view_count": null,
            "flex_flow": null,
            "width": null,
            "min_width": null,
            "border": null,
            "align_items": null,
            "bottom": null,
            "_model_module": "@jupyter-widgets/base",
            "top": null,
            "grid_column": null,
            "overflow_y": null,
            "overflow_x": null,
            "grid_auto_flow": null,
            "grid_area": null,
            "grid_template_columns": null,
            "flex": null,
            "_model_name": "LayoutModel",
            "justify_items": null,
            "grid_row": null,
            "max_height": null,
            "align_content": null,
            "visibility": null,
            "align_self": null,
            "height": null,
            "min_height": null,
            "padding": null,
            "grid_auto_rows": null,
            "grid_gap": null,
            "max_width": null,
            "order": null,
            "_view_module_version": "1.2.0",
            "grid_template_areas": null,
            "object_position": null,
            "object_fit": null,
            "grid_auto_columns": null,
            "margin": null,
            "display": null,
            "left": null
          }
        },
        "84a9583dacbc4484b93f93a93df7ca66": {
          "model_module": "@jupyter-widgets/controls",
          "model_name": "VBoxModel",
          "state": {
            "_view_name": "VBoxView",
            "_dom_classes": [],
            "_model_name": "VBoxModel",
            "_view_module": "@jupyter-widgets/controls",
            "_model_module_version": "1.5.0",
            "_view_count": null,
            "_view_module_version": "1.5.0",
            "box_style": "",
            "layout": "IPY_MODEL_64df0401fcd842edb14d8cbdc98226ef",
            "_model_module": "@jupyter-widgets/controls",
            "children": [
              "IPY_MODEL_4a4456a321b9411b98bf9651f28d9b41",
              "IPY_MODEL_70c7452f616a4b558c12e8a208e166d8"
            ]
          }
        },
        "64df0401fcd842edb14d8cbdc98226ef": {
          "model_module": "@jupyter-widgets/base",
          "model_name": "LayoutModel",
          "state": {
            "_view_name": "LayoutView",
            "grid_template_rows": null,
            "right": null,
            "justify_content": null,
            "_view_module": "@jupyter-widgets/base",
            "overflow": null,
            "_model_module_version": "1.2.0",
            "_view_count": null,
            "flex_flow": null,
            "width": null,
            "min_width": null,
            "border": null,
            "align_items": null,
            "bottom": null,
            "_model_module": "@jupyter-widgets/base",
            "top": null,
            "grid_column": null,
            "overflow_y": null,
            "overflow_x": null,
            "grid_auto_flow": null,
            "grid_area": null,
            "grid_template_columns": null,
            "flex": null,
            "_model_name": "LayoutModel",
            "justify_items": null,
            "grid_row": null,
            "max_height": null,
            "align_content": null,
            "visibility": null,
            "align_self": null,
            "height": null,
            "min_height": null,
            "padding": null,
            "grid_auto_rows": null,
            "grid_gap": null,
            "max_width": null,
            "order": null,
            "_view_module_version": "1.2.0",
            "grid_template_areas": null,
            "object_position": null,
            "object_fit": null,
            "grid_auto_columns": null,
            "margin": null,
            "display": null,
            "left": null
          }
        },
        "4a4456a321b9411b98bf9651f28d9b41": {
          "model_module": "@jupyter-widgets/controls",
          "model_name": "LabelModel",
          "state": {
            "_view_name": "LabelView",
            "style": "IPY_MODEL_dd652a3e24de49ee8936f2ca6aa42529",
            "_dom_classes": [],
            "description": "",
            "_model_name": "LabelModel",
            "placeholder": "​",
            "_view_module": "@jupyter-widgets/controls",
            "_model_module_version": "1.5.0",
            "value": " 0.73MB of 0.73MB uploaded (0.00MB deduped)\r",
            "_view_count": null,
            "_view_module_version": "1.5.0",
            "description_tooltip": null,
            "_model_module": "@jupyter-widgets/controls",
            "layout": "IPY_MODEL_e0283d4d19dd4115907ae52b5b99ce2b"
          }
        },
        "70c7452f616a4b558c12e8a208e166d8": {
          "model_module": "@jupyter-widgets/controls",
          "model_name": "FloatProgressModel",
          "state": {
            "_view_name": "ProgressView",
            "style": "IPY_MODEL_06781c6a08284dce8b247a05bab18711",
            "_dom_classes": [],
            "description": "",
            "_model_name": "FloatProgressModel",
            "bar_style": "",
            "max": 1,
            "_view_module": "@jupyter-widgets/controls",
            "_model_module_version": "1.5.0",
            "value": 1,
            "_view_count": null,
            "_view_module_version": "1.5.0",
            "orientation": "horizontal",
            "min": 0,
            "description_tooltip": null,
            "_model_module": "@jupyter-widgets/controls",
            "layout": "IPY_MODEL_a9dd216fe67d4514b24532bfe9b5a3bd"
          }
        },
        "dd652a3e24de49ee8936f2ca6aa42529": {
          "model_module": "@jupyter-widgets/controls",
          "model_name": "DescriptionStyleModel",
          "state": {
            "_view_name": "StyleView",
            "_model_name": "DescriptionStyleModel",
            "description_width": "",
            "_view_module": "@jupyter-widgets/base",
            "_model_module_version": "1.5.0",
            "_view_count": null,
            "_view_module_version": "1.2.0",
            "_model_module": "@jupyter-widgets/controls"
          }
        },
        "e0283d4d19dd4115907ae52b5b99ce2b": {
          "model_module": "@jupyter-widgets/base",
          "model_name": "LayoutModel",
          "state": {
            "_view_name": "LayoutView",
            "grid_template_rows": null,
            "right": null,
            "justify_content": null,
            "_view_module": "@jupyter-widgets/base",
            "overflow": null,
            "_model_module_version": "1.2.0",
            "_view_count": null,
            "flex_flow": null,
            "width": null,
            "min_width": null,
            "border": null,
            "align_items": null,
            "bottom": null,
            "_model_module": "@jupyter-widgets/base",
            "top": null,
            "grid_column": null,
            "overflow_y": null,
            "overflow_x": null,
            "grid_auto_flow": null,
            "grid_area": null,
            "grid_template_columns": null,
            "flex": null,
            "_model_name": "LayoutModel",
            "justify_items": null,
            "grid_row": null,
            "max_height": null,
            "align_content": null,
            "visibility": null,
            "align_self": null,
            "height": null,
            "min_height": null,
            "padding": null,
            "grid_auto_rows": null,
            "grid_gap": null,
            "max_width": null,
            "order": null,
            "_view_module_version": "1.2.0",
            "grid_template_areas": null,
            "object_position": null,
            "object_fit": null,
            "grid_auto_columns": null,
            "margin": null,
            "display": null,
            "left": null
          }
        },
        "06781c6a08284dce8b247a05bab18711": {
          "model_module": "@jupyter-widgets/controls",
          "model_name": "ProgressStyleModel",
          "state": {
            "_view_name": "StyleView",
            "_model_name": "ProgressStyleModel",
            "description_width": "",
            "_view_module": "@jupyter-widgets/base",
            "_model_module_version": "1.5.0",
            "_view_count": null,
            "_view_module_version": "1.2.0",
            "bar_color": null,
            "_model_module": "@jupyter-widgets/controls"
          }
        },
        "a9dd216fe67d4514b24532bfe9b5a3bd": {
          "model_module": "@jupyter-widgets/base",
          "model_name": "LayoutModel",
          "state": {
            "_view_name": "LayoutView",
            "grid_template_rows": null,
            "right": null,
            "justify_content": null,
            "_view_module": "@jupyter-widgets/base",
            "overflow": null,
            "_model_module_version": "1.2.0",
            "_view_count": null,
            "flex_flow": null,
            "width": null,
            "min_width": null,
            "border": null,
            "align_items": null,
            "bottom": null,
            "_model_module": "@jupyter-widgets/base",
            "top": null,
            "grid_column": null,
            "overflow_y": null,
            "overflow_x": null,
            "grid_auto_flow": null,
            "grid_area": null,
            "grid_template_columns": null,
            "flex": null,
            "_model_name": "LayoutModel",
            "justify_items": null,
            "grid_row": null,
            "max_height": null,
            "align_content": null,
            "visibility": null,
            "align_self": null,
            "height": null,
            "min_height": null,
            "padding": null,
            "grid_auto_rows": null,
            "grid_gap": null,
            "max_width": null,
            "order": null,
            "_view_module_version": "1.2.0",
            "grid_template_areas": null,
            "object_position": null,
            "object_fit": null,
            "grid_auto_columns": null,
            "margin": null,
            "display": null,
            "left": null
          }
        },
        "c230e294f8ed411f8c03cc3ba6dc6114": {
          "model_module": "@jupyter-widgets/controls",
          "model_name": "VBoxModel",
          "state": {
            "_view_name": "VBoxView",
            "_dom_classes": [],
            "_model_name": "VBoxModel",
            "_view_module": "@jupyter-widgets/controls",
            "_model_module_version": "1.5.0",
            "_view_count": null,
            "_view_module_version": "1.5.0",
            "box_style": "",
            "layout": "IPY_MODEL_f966853d645e4203b65c779f40039015",
            "_model_module": "@jupyter-widgets/controls",
            "children": [
              "IPY_MODEL_3b5ebb993b61451ebb2e176c3e296450",
              "IPY_MODEL_c8f7442ca62643a4996e8f8e30b3429e"
            ]
          }
        },
        "f966853d645e4203b65c779f40039015": {
          "model_module": "@jupyter-widgets/base",
          "model_name": "LayoutModel",
          "state": {
            "_view_name": "LayoutView",
            "grid_template_rows": null,
            "right": null,
            "justify_content": null,
            "_view_module": "@jupyter-widgets/base",
            "overflow": null,
            "_model_module_version": "1.2.0",
            "_view_count": null,
            "flex_flow": null,
            "width": null,
            "min_width": null,
            "border": null,
            "align_items": null,
            "bottom": null,
            "_model_module": "@jupyter-widgets/base",
            "top": null,
            "grid_column": null,
            "overflow_y": null,
            "overflow_x": null,
            "grid_auto_flow": null,
            "grid_area": null,
            "grid_template_columns": null,
            "flex": null,
            "_model_name": "LayoutModel",
            "justify_items": null,
            "grid_row": null,
            "max_height": null,
            "align_content": null,
            "visibility": null,
            "align_self": null,
            "height": null,
            "min_height": null,
            "padding": null,
            "grid_auto_rows": null,
            "grid_gap": null,
            "max_width": null,
            "order": null,
            "_view_module_version": "1.2.0",
            "grid_template_areas": null,
            "object_position": null,
            "object_fit": null,
            "grid_auto_columns": null,
            "margin": null,
            "display": null,
            "left": null
          }
        },
        "3b5ebb993b61451ebb2e176c3e296450": {
          "model_module": "@jupyter-widgets/controls",
          "model_name": "LabelModel",
          "state": {
            "_view_name": "LabelView",
            "style": "IPY_MODEL_87f877c44ea84678a6ca54821d6179f4",
            "_dom_classes": [],
            "description": "",
            "_model_name": "LabelModel",
            "placeholder": "​",
            "_view_module": "@jupyter-widgets/controls",
            "_model_module_version": "1.5.0",
            "value": " 0.74MB of 0.74MB uploaded (0.00MB deduped)\r",
            "_view_count": null,
            "_view_module_version": "1.5.0",
            "description_tooltip": null,
            "_model_module": "@jupyter-widgets/controls",
            "layout": "IPY_MODEL_3b5b6956d7a344fe943627ca510eb8e7"
          }
        },
        "c8f7442ca62643a4996e8f8e30b3429e": {
          "model_module": "@jupyter-widgets/controls",
          "model_name": "FloatProgressModel",
          "state": {
            "_view_name": "ProgressView",
            "style": "IPY_MODEL_eb14e7e499004c5f8213b01fa5f9ebd2",
            "_dom_classes": [],
            "description": "",
            "_model_name": "FloatProgressModel",
            "bar_style": "",
            "max": 1,
            "_view_module": "@jupyter-widgets/controls",
            "_model_module_version": "1.5.0",
            "value": 1,
            "_view_count": null,
            "_view_module_version": "1.5.0",
            "orientation": "horizontal",
            "min": 0,
            "description_tooltip": null,
            "_model_module": "@jupyter-widgets/controls",
            "layout": "IPY_MODEL_3bd53a8709ab4500b84513b6c4143275"
          }
        },
        "87f877c44ea84678a6ca54821d6179f4": {
          "model_module": "@jupyter-widgets/controls",
          "model_name": "DescriptionStyleModel",
          "state": {
            "_view_name": "StyleView",
            "_model_name": "DescriptionStyleModel",
            "description_width": "",
            "_view_module": "@jupyter-widgets/base",
            "_model_module_version": "1.5.0",
            "_view_count": null,
            "_view_module_version": "1.2.0",
            "_model_module": "@jupyter-widgets/controls"
          }
        },
        "3b5b6956d7a344fe943627ca510eb8e7": {
          "model_module": "@jupyter-widgets/base",
          "model_name": "LayoutModel",
          "state": {
            "_view_name": "LayoutView",
            "grid_template_rows": null,
            "right": null,
            "justify_content": null,
            "_view_module": "@jupyter-widgets/base",
            "overflow": null,
            "_model_module_version": "1.2.0",
            "_view_count": null,
            "flex_flow": null,
            "width": null,
            "min_width": null,
            "border": null,
            "align_items": null,
            "bottom": null,
            "_model_module": "@jupyter-widgets/base",
            "top": null,
            "grid_column": null,
            "overflow_y": null,
            "overflow_x": null,
            "grid_auto_flow": null,
            "grid_area": null,
            "grid_template_columns": null,
            "flex": null,
            "_model_name": "LayoutModel",
            "justify_items": null,
            "grid_row": null,
            "max_height": null,
            "align_content": null,
            "visibility": null,
            "align_self": null,
            "height": null,
            "min_height": null,
            "padding": null,
            "grid_auto_rows": null,
            "grid_gap": null,
            "max_width": null,
            "order": null,
            "_view_module_version": "1.2.0",
            "grid_template_areas": null,
            "object_position": null,
            "object_fit": null,
            "grid_auto_columns": null,
            "margin": null,
            "display": null,
            "left": null
          }
        },
        "eb14e7e499004c5f8213b01fa5f9ebd2": {
          "model_module": "@jupyter-widgets/controls",
          "model_name": "ProgressStyleModel",
          "state": {
            "_view_name": "StyleView",
            "_model_name": "ProgressStyleModel",
            "description_width": "",
            "_view_module": "@jupyter-widgets/base",
            "_model_module_version": "1.5.0",
            "_view_count": null,
            "_view_module_version": "1.2.0",
            "bar_color": null,
            "_model_module": "@jupyter-widgets/controls"
          }
        },
        "3bd53a8709ab4500b84513b6c4143275": {
          "model_module": "@jupyter-widgets/base",
          "model_name": "LayoutModel",
          "state": {
            "_view_name": "LayoutView",
            "grid_template_rows": null,
            "right": null,
            "justify_content": null,
            "_view_module": "@jupyter-widgets/base",
            "overflow": null,
            "_model_module_version": "1.2.0",
            "_view_count": null,
            "flex_flow": null,
            "width": null,
            "min_width": null,
            "border": null,
            "align_items": null,
            "bottom": null,
            "_model_module": "@jupyter-widgets/base",
            "top": null,
            "grid_column": null,
            "overflow_y": null,
            "overflow_x": null,
            "grid_auto_flow": null,
            "grid_area": null,
            "grid_template_columns": null,
            "flex": null,
            "_model_name": "LayoutModel",
            "justify_items": null,
            "grid_row": null,
            "max_height": null,
            "align_content": null,
            "visibility": null,
            "align_self": null,
            "height": null,
            "min_height": null,
            "padding": null,
            "grid_auto_rows": null,
            "grid_gap": null,
            "max_width": null,
            "order": null,
            "_view_module_version": "1.2.0",
            "grid_template_areas": null,
            "object_position": null,
            "object_fit": null,
            "grid_auto_columns": null,
            "margin": null,
            "display": null,
            "left": null
          }
        },
        "17256217a4ac42029278b9b555d5071b": {
          "model_module": "@jupyter-widgets/controls",
          "model_name": "VBoxModel",
          "state": {
            "_view_name": "VBoxView",
            "_dom_classes": [],
            "_model_name": "VBoxModel",
            "_view_module": "@jupyter-widgets/controls",
            "_model_module_version": "1.5.0",
            "_view_count": null,
            "_view_module_version": "1.5.0",
            "box_style": "",
            "layout": "IPY_MODEL_e2b44c3506244c0cbca4f773265ad875",
            "_model_module": "@jupyter-widgets/controls",
            "children": [
              "IPY_MODEL_a1217f7880a649f8b99d2631ee453ba6",
              "IPY_MODEL_9a1a79550e514ab092adda74858ce617"
            ]
          }
        },
        "e2b44c3506244c0cbca4f773265ad875": {
          "model_module": "@jupyter-widgets/base",
          "model_name": "LayoutModel",
          "state": {
            "_view_name": "LayoutView",
            "grid_template_rows": null,
            "right": null,
            "justify_content": null,
            "_view_module": "@jupyter-widgets/base",
            "overflow": null,
            "_model_module_version": "1.2.0",
            "_view_count": null,
            "flex_flow": null,
            "width": null,
            "min_width": null,
            "border": null,
            "align_items": null,
            "bottom": null,
            "_model_module": "@jupyter-widgets/base",
            "top": null,
            "grid_column": null,
            "overflow_y": null,
            "overflow_x": null,
            "grid_auto_flow": null,
            "grid_area": null,
            "grid_template_columns": null,
            "flex": null,
            "_model_name": "LayoutModel",
            "justify_items": null,
            "grid_row": null,
            "max_height": null,
            "align_content": null,
            "visibility": null,
            "align_self": null,
            "height": null,
            "min_height": null,
            "padding": null,
            "grid_auto_rows": null,
            "grid_gap": null,
            "max_width": null,
            "order": null,
            "_view_module_version": "1.2.0",
            "grid_template_areas": null,
            "object_position": null,
            "object_fit": null,
            "grid_auto_columns": null,
            "margin": null,
            "display": null,
            "left": null
          }
        },
        "a1217f7880a649f8b99d2631ee453ba6": {
          "model_module": "@jupyter-widgets/controls",
          "model_name": "LabelModel",
          "state": {
            "_view_name": "LabelView",
            "style": "IPY_MODEL_29c59206f5e54750871c7acd9b5066bd",
            "_dom_classes": [],
            "description": "",
            "_model_name": "LabelModel",
            "placeholder": "​",
            "_view_module": "@jupyter-widgets/controls",
            "_model_module_version": "1.5.0",
            "value": " 0.76MB of 0.76MB uploaded (0.00MB deduped)\r",
            "_view_count": null,
            "_view_module_version": "1.5.0",
            "description_tooltip": null,
            "_model_module": "@jupyter-widgets/controls",
            "layout": "IPY_MODEL_5fb203e167ec485fbd9992f0c2cfc920"
          }
        },
        "9a1a79550e514ab092adda74858ce617": {
          "model_module": "@jupyter-widgets/controls",
          "model_name": "FloatProgressModel",
          "state": {
            "_view_name": "ProgressView",
            "style": "IPY_MODEL_7bebabe96df9455ab2155b5e8006edae",
            "_dom_classes": [],
            "description": "",
            "_model_name": "FloatProgressModel",
            "bar_style": "",
            "max": 1,
            "_view_module": "@jupyter-widgets/controls",
            "_model_module_version": "1.5.0",
            "value": 1,
            "_view_count": null,
            "_view_module_version": "1.5.0",
            "orientation": "horizontal",
            "min": 0,
            "description_tooltip": null,
            "_model_module": "@jupyter-widgets/controls",
            "layout": "IPY_MODEL_4563e407af47484ba97d49678e787612"
          }
        },
        "29c59206f5e54750871c7acd9b5066bd": {
          "model_module": "@jupyter-widgets/controls",
          "model_name": "DescriptionStyleModel",
          "state": {
            "_view_name": "StyleView",
            "_model_name": "DescriptionStyleModel",
            "description_width": "",
            "_view_module": "@jupyter-widgets/base",
            "_model_module_version": "1.5.0",
            "_view_count": null,
            "_view_module_version": "1.2.0",
            "_model_module": "@jupyter-widgets/controls"
          }
        },
        "5fb203e167ec485fbd9992f0c2cfc920": {
          "model_module": "@jupyter-widgets/base",
          "model_name": "LayoutModel",
          "state": {
            "_view_name": "LayoutView",
            "grid_template_rows": null,
            "right": null,
            "justify_content": null,
            "_view_module": "@jupyter-widgets/base",
            "overflow": null,
            "_model_module_version": "1.2.0",
            "_view_count": null,
            "flex_flow": null,
            "width": null,
            "min_width": null,
            "border": null,
            "align_items": null,
            "bottom": null,
            "_model_module": "@jupyter-widgets/base",
            "top": null,
            "grid_column": null,
            "overflow_y": null,
            "overflow_x": null,
            "grid_auto_flow": null,
            "grid_area": null,
            "grid_template_columns": null,
            "flex": null,
            "_model_name": "LayoutModel",
            "justify_items": null,
            "grid_row": null,
            "max_height": null,
            "align_content": null,
            "visibility": null,
            "align_self": null,
            "height": null,
            "min_height": null,
            "padding": null,
            "grid_auto_rows": null,
            "grid_gap": null,
            "max_width": null,
            "order": null,
            "_view_module_version": "1.2.0",
            "grid_template_areas": null,
            "object_position": null,
            "object_fit": null,
            "grid_auto_columns": null,
            "margin": null,
            "display": null,
            "left": null
          }
        },
        "7bebabe96df9455ab2155b5e8006edae": {
          "model_module": "@jupyter-widgets/controls",
          "model_name": "ProgressStyleModel",
          "state": {
            "_view_name": "StyleView",
            "_model_name": "ProgressStyleModel",
            "description_width": "",
            "_view_module": "@jupyter-widgets/base",
            "_model_module_version": "1.5.0",
            "_view_count": null,
            "_view_module_version": "1.2.0",
            "bar_color": null,
            "_model_module": "@jupyter-widgets/controls"
          }
        },
        "4563e407af47484ba97d49678e787612": {
          "model_module": "@jupyter-widgets/base",
          "model_name": "LayoutModel",
          "state": {
            "_view_name": "LayoutView",
            "grid_template_rows": null,
            "right": null,
            "justify_content": null,
            "_view_module": "@jupyter-widgets/base",
            "overflow": null,
            "_model_module_version": "1.2.0",
            "_view_count": null,
            "flex_flow": null,
            "width": null,
            "min_width": null,
            "border": null,
            "align_items": null,
            "bottom": null,
            "_model_module": "@jupyter-widgets/base",
            "top": null,
            "grid_column": null,
            "overflow_y": null,
            "overflow_x": null,
            "grid_auto_flow": null,
            "grid_area": null,
            "grid_template_columns": null,
            "flex": null,
            "_model_name": "LayoutModel",
            "justify_items": null,
            "grid_row": null,
            "max_height": null,
            "align_content": null,
            "visibility": null,
            "align_self": null,
            "height": null,
            "min_height": null,
            "padding": null,
            "grid_auto_rows": null,
            "grid_gap": null,
            "max_width": null,
            "order": null,
            "_view_module_version": "1.2.0",
            "grid_template_areas": null,
            "object_position": null,
            "object_fit": null,
            "grid_auto_columns": null,
            "margin": null,
            "display": null,
            "left": null
          }
        },
        "1cd5a39a0d7941a1b373041dfc746b46": {
          "model_module": "@jupyter-widgets/controls",
          "model_name": "VBoxModel",
          "state": {
            "_view_name": "VBoxView",
            "_dom_classes": [],
            "_model_name": "VBoxModel",
            "_view_module": "@jupyter-widgets/controls",
            "_model_module_version": "1.5.0",
            "_view_count": null,
            "_view_module_version": "1.5.0",
            "box_style": "",
            "layout": "IPY_MODEL_a5f63bbd0ac947b886b4f881e9957131",
            "_model_module": "@jupyter-widgets/controls",
            "children": [
              "IPY_MODEL_2a711006d2da400dba48915c5210abcf",
              "IPY_MODEL_9b0269da67f54768b2230acd54fcae52"
            ]
          }
        },
        "a5f63bbd0ac947b886b4f881e9957131": {
          "model_module": "@jupyter-widgets/base",
          "model_name": "LayoutModel",
          "state": {
            "_view_name": "LayoutView",
            "grid_template_rows": null,
            "right": null,
            "justify_content": null,
            "_view_module": "@jupyter-widgets/base",
            "overflow": null,
            "_model_module_version": "1.2.0",
            "_view_count": null,
            "flex_flow": null,
            "width": null,
            "min_width": null,
            "border": null,
            "align_items": null,
            "bottom": null,
            "_model_module": "@jupyter-widgets/base",
            "top": null,
            "grid_column": null,
            "overflow_y": null,
            "overflow_x": null,
            "grid_auto_flow": null,
            "grid_area": null,
            "grid_template_columns": null,
            "flex": null,
            "_model_name": "LayoutModel",
            "justify_items": null,
            "grid_row": null,
            "max_height": null,
            "align_content": null,
            "visibility": null,
            "align_self": null,
            "height": null,
            "min_height": null,
            "padding": null,
            "grid_auto_rows": null,
            "grid_gap": null,
            "max_width": null,
            "order": null,
            "_view_module_version": "1.2.0",
            "grid_template_areas": null,
            "object_position": null,
            "object_fit": null,
            "grid_auto_columns": null,
            "margin": null,
            "display": null,
            "left": null
          }
        },
        "2a711006d2da400dba48915c5210abcf": {
          "model_module": "@jupyter-widgets/controls",
          "model_name": "LabelModel",
          "state": {
            "_view_name": "LabelView",
            "style": "IPY_MODEL_01131016661345aba89b096e94edef2d",
            "_dom_classes": [],
            "description": "",
            "_model_name": "LabelModel",
            "placeholder": "​",
            "_view_module": "@jupyter-widgets/controls",
            "_model_module_version": "1.5.0",
            "value": " 0.77MB of 0.77MB uploaded (0.00MB deduped)\r",
            "_view_count": null,
            "_view_module_version": "1.5.0",
            "description_tooltip": null,
            "_model_module": "@jupyter-widgets/controls",
            "layout": "IPY_MODEL_eb3d4f97bcd84348af107a00733e1377"
          }
        },
        "9b0269da67f54768b2230acd54fcae52": {
          "model_module": "@jupyter-widgets/controls",
          "model_name": "FloatProgressModel",
          "state": {
            "_view_name": "ProgressView",
            "style": "IPY_MODEL_06734df227a94dbb8eb4188a3aba3641",
            "_dom_classes": [],
            "description": "",
            "_model_name": "FloatProgressModel",
            "bar_style": "",
            "max": 1,
            "_view_module": "@jupyter-widgets/controls",
            "_model_module_version": "1.5.0",
            "value": 1,
            "_view_count": null,
            "_view_module_version": "1.5.0",
            "orientation": "horizontal",
            "min": 0,
            "description_tooltip": null,
            "_model_module": "@jupyter-widgets/controls",
            "layout": "IPY_MODEL_4bf3faeaf6ec413e845e36224b00fc2d"
          }
        },
        "01131016661345aba89b096e94edef2d": {
          "model_module": "@jupyter-widgets/controls",
          "model_name": "DescriptionStyleModel",
          "state": {
            "_view_name": "StyleView",
            "_model_name": "DescriptionStyleModel",
            "description_width": "",
            "_view_module": "@jupyter-widgets/base",
            "_model_module_version": "1.5.0",
            "_view_count": null,
            "_view_module_version": "1.2.0",
            "_model_module": "@jupyter-widgets/controls"
          }
        },
        "eb3d4f97bcd84348af107a00733e1377": {
          "model_module": "@jupyter-widgets/base",
          "model_name": "LayoutModel",
          "state": {
            "_view_name": "LayoutView",
            "grid_template_rows": null,
            "right": null,
            "justify_content": null,
            "_view_module": "@jupyter-widgets/base",
            "overflow": null,
            "_model_module_version": "1.2.0",
            "_view_count": null,
            "flex_flow": null,
            "width": null,
            "min_width": null,
            "border": null,
            "align_items": null,
            "bottom": null,
            "_model_module": "@jupyter-widgets/base",
            "top": null,
            "grid_column": null,
            "overflow_y": null,
            "overflow_x": null,
            "grid_auto_flow": null,
            "grid_area": null,
            "grid_template_columns": null,
            "flex": null,
            "_model_name": "LayoutModel",
            "justify_items": null,
            "grid_row": null,
            "max_height": null,
            "align_content": null,
            "visibility": null,
            "align_self": null,
            "height": null,
            "min_height": null,
            "padding": null,
            "grid_auto_rows": null,
            "grid_gap": null,
            "max_width": null,
            "order": null,
            "_view_module_version": "1.2.0",
            "grid_template_areas": null,
            "object_position": null,
            "object_fit": null,
            "grid_auto_columns": null,
            "margin": null,
            "display": null,
            "left": null
          }
        },
        "06734df227a94dbb8eb4188a3aba3641": {
          "model_module": "@jupyter-widgets/controls",
          "model_name": "ProgressStyleModel",
          "state": {
            "_view_name": "StyleView",
            "_model_name": "ProgressStyleModel",
            "description_width": "",
            "_view_module": "@jupyter-widgets/base",
            "_model_module_version": "1.5.0",
            "_view_count": null,
            "_view_module_version": "1.2.0",
            "bar_color": null,
            "_model_module": "@jupyter-widgets/controls"
          }
        },
        "4bf3faeaf6ec413e845e36224b00fc2d": {
          "model_module": "@jupyter-widgets/base",
          "model_name": "LayoutModel",
          "state": {
            "_view_name": "LayoutView",
            "grid_template_rows": null,
            "right": null,
            "justify_content": null,
            "_view_module": "@jupyter-widgets/base",
            "overflow": null,
            "_model_module_version": "1.2.0",
            "_view_count": null,
            "flex_flow": null,
            "width": null,
            "min_width": null,
            "border": null,
            "align_items": null,
            "bottom": null,
            "_model_module": "@jupyter-widgets/base",
            "top": null,
            "grid_column": null,
            "overflow_y": null,
            "overflow_x": null,
            "grid_auto_flow": null,
            "grid_area": null,
            "grid_template_columns": null,
            "flex": null,
            "_model_name": "LayoutModel",
            "justify_items": null,
            "grid_row": null,
            "max_height": null,
            "align_content": null,
            "visibility": null,
            "align_self": null,
            "height": null,
            "min_height": null,
            "padding": null,
            "grid_auto_rows": null,
            "grid_gap": null,
            "max_width": null,
            "order": null,
            "_view_module_version": "1.2.0",
            "grid_template_areas": null,
            "object_position": null,
            "object_fit": null,
            "grid_auto_columns": null,
            "margin": null,
            "display": null,
            "left": null
          }
        },
        "5bc8562f12ab49b4b66984316e8c9e39": {
          "model_module": "@jupyter-widgets/controls",
          "model_name": "VBoxModel",
          "state": {
            "_view_name": "VBoxView",
            "_dom_classes": [],
            "_model_name": "VBoxModel",
            "_view_module": "@jupyter-widgets/controls",
            "_model_module_version": "1.5.0",
            "_view_count": null,
            "_view_module_version": "1.5.0",
            "box_style": "",
            "layout": "IPY_MODEL_418d93e8ec63428eba5862d1af6dbf37",
            "_model_module": "@jupyter-widgets/controls",
            "children": [
              "IPY_MODEL_1644aa03a6994a8ab9f57c0b420e459f",
              "IPY_MODEL_c083aabdb2a049a599017e1164650bb6"
            ]
          }
        },
        "418d93e8ec63428eba5862d1af6dbf37": {
          "model_module": "@jupyter-widgets/base",
          "model_name": "LayoutModel",
          "state": {
            "_view_name": "LayoutView",
            "grid_template_rows": null,
            "right": null,
            "justify_content": null,
            "_view_module": "@jupyter-widgets/base",
            "overflow": null,
            "_model_module_version": "1.2.0",
            "_view_count": null,
            "flex_flow": null,
            "width": null,
            "min_width": null,
            "border": null,
            "align_items": null,
            "bottom": null,
            "_model_module": "@jupyter-widgets/base",
            "top": null,
            "grid_column": null,
            "overflow_y": null,
            "overflow_x": null,
            "grid_auto_flow": null,
            "grid_area": null,
            "grid_template_columns": null,
            "flex": null,
            "_model_name": "LayoutModel",
            "justify_items": null,
            "grid_row": null,
            "max_height": null,
            "align_content": null,
            "visibility": null,
            "align_self": null,
            "height": null,
            "min_height": null,
            "padding": null,
            "grid_auto_rows": null,
            "grid_gap": null,
            "max_width": null,
            "order": null,
            "_view_module_version": "1.2.0",
            "grid_template_areas": null,
            "object_position": null,
            "object_fit": null,
            "grid_auto_columns": null,
            "margin": null,
            "display": null,
            "left": null
          }
        },
        "1644aa03a6994a8ab9f57c0b420e459f": {
          "model_module": "@jupyter-widgets/controls",
          "model_name": "LabelModel",
          "state": {
            "_view_name": "LabelView",
            "style": "IPY_MODEL_6349b219344b4c50ab6d192a2c0d83c5",
            "_dom_classes": [],
            "description": "",
            "_model_name": "LabelModel",
            "placeholder": "​",
            "_view_module": "@jupyter-widgets/controls",
            "_model_module_version": "1.5.0",
            "value": " 0.78MB of 0.78MB uploaded (0.00MB deduped)\r",
            "_view_count": null,
            "_view_module_version": "1.5.0",
            "description_tooltip": null,
            "_model_module": "@jupyter-widgets/controls",
            "layout": "IPY_MODEL_6fe35e90340a4073824aaeb0b56957da"
          }
        },
        "c083aabdb2a049a599017e1164650bb6": {
          "model_module": "@jupyter-widgets/controls",
          "model_name": "FloatProgressModel",
          "state": {
            "_view_name": "ProgressView",
            "style": "IPY_MODEL_860e75b1b5fe40309ad65a2e039ac0ae",
            "_dom_classes": [],
            "description": "",
            "_model_name": "FloatProgressModel",
            "bar_style": "",
            "max": 1,
            "_view_module": "@jupyter-widgets/controls",
            "_model_module_version": "1.5.0",
            "value": 1,
            "_view_count": null,
            "_view_module_version": "1.5.0",
            "orientation": "horizontal",
            "min": 0,
            "description_tooltip": null,
            "_model_module": "@jupyter-widgets/controls",
            "layout": "IPY_MODEL_5daa99c34ee849a3b033094f9755fc63"
          }
        },
        "6349b219344b4c50ab6d192a2c0d83c5": {
          "model_module": "@jupyter-widgets/controls",
          "model_name": "DescriptionStyleModel",
          "state": {
            "_view_name": "StyleView",
            "_model_name": "DescriptionStyleModel",
            "description_width": "",
            "_view_module": "@jupyter-widgets/base",
            "_model_module_version": "1.5.0",
            "_view_count": null,
            "_view_module_version": "1.2.0",
            "_model_module": "@jupyter-widgets/controls"
          }
        },
        "6fe35e90340a4073824aaeb0b56957da": {
          "model_module": "@jupyter-widgets/base",
          "model_name": "LayoutModel",
          "state": {
            "_view_name": "LayoutView",
            "grid_template_rows": null,
            "right": null,
            "justify_content": null,
            "_view_module": "@jupyter-widgets/base",
            "overflow": null,
            "_model_module_version": "1.2.0",
            "_view_count": null,
            "flex_flow": null,
            "width": null,
            "min_width": null,
            "border": null,
            "align_items": null,
            "bottom": null,
            "_model_module": "@jupyter-widgets/base",
            "top": null,
            "grid_column": null,
            "overflow_y": null,
            "overflow_x": null,
            "grid_auto_flow": null,
            "grid_area": null,
            "grid_template_columns": null,
            "flex": null,
            "_model_name": "LayoutModel",
            "justify_items": null,
            "grid_row": null,
            "max_height": null,
            "align_content": null,
            "visibility": null,
            "align_self": null,
            "height": null,
            "min_height": null,
            "padding": null,
            "grid_auto_rows": null,
            "grid_gap": null,
            "max_width": null,
            "order": null,
            "_view_module_version": "1.2.0",
            "grid_template_areas": null,
            "object_position": null,
            "object_fit": null,
            "grid_auto_columns": null,
            "margin": null,
            "display": null,
            "left": null
          }
        },
        "860e75b1b5fe40309ad65a2e039ac0ae": {
          "model_module": "@jupyter-widgets/controls",
          "model_name": "ProgressStyleModel",
          "state": {
            "_view_name": "StyleView",
            "_model_name": "ProgressStyleModel",
            "description_width": "",
            "_view_module": "@jupyter-widgets/base",
            "_model_module_version": "1.5.0",
            "_view_count": null,
            "_view_module_version": "1.2.0",
            "bar_color": null,
            "_model_module": "@jupyter-widgets/controls"
          }
        },
        "5daa99c34ee849a3b033094f9755fc63": {
          "model_module": "@jupyter-widgets/base",
          "model_name": "LayoutModel",
          "state": {
            "_view_name": "LayoutView",
            "grid_template_rows": null,
            "right": null,
            "justify_content": null,
            "_view_module": "@jupyter-widgets/base",
            "overflow": null,
            "_model_module_version": "1.2.0",
            "_view_count": null,
            "flex_flow": null,
            "width": null,
            "min_width": null,
            "border": null,
            "align_items": null,
            "bottom": null,
            "_model_module": "@jupyter-widgets/base",
            "top": null,
            "grid_column": null,
            "overflow_y": null,
            "overflow_x": null,
            "grid_auto_flow": null,
            "grid_area": null,
            "grid_template_columns": null,
            "flex": null,
            "_model_name": "LayoutModel",
            "justify_items": null,
            "grid_row": null,
            "max_height": null,
            "align_content": null,
            "visibility": null,
            "align_self": null,
            "height": null,
            "min_height": null,
            "padding": null,
            "grid_auto_rows": null,
            "grid_gap": null,
            "max_width": null,
            "order": null,
            "_view_module_version": "1.2.0",
            "grid_template_areas": null,
            "object_position": null,
            "object_fit": null,
            "grid_auto_columns": null,
            "margin": null,
            "display": null,
            "left": null
          }
        },
        "931b2030352f47f68c37a28def9e9dcc": {
          "model_module": "@jupyter-widgets/controls",
          "model_name": "VBoxModel",
          "state": {
            "_view_name": "VBoxView",
            "_dom_classes": [],
            "_model_name": "VBoxModel",
            "_view_module": "@jupyter-widgets/controls",
            "_model_module_version": "1.5.0",
            "_view_count": null,
            "_view_module_version": "1.5.0",
            "box_style": "",
            "layout": "IPY_MODEL_cd6c60ce1e5b46c38b2e29c74183b5cb",
            "_model_module": "@jupyter-widgets/controls",
            "children": [
              "IPY_MODEL_ff6dda9d52eb40a6aa1ae3004e3876f1",
              "IPY_MODEL_b31e781760324606b3e042e5aa426ea5"
            ]
          }
        },
        "cd6c60ce1e5b46c38b2e29c74183b5cb": {
          "model_module": "@jupyter-widgets/base",
          "model_name": "LayoutModel",
          "state": {
            "_view_name": "LayoutView",
            "grid_template_rows": null,
            "right": null,
            "justify_content": null,
            "_view_module": "@jupyter-widgets/base",
            "overflow": null,
            "_model_module_version": "1.2.0",
            "_view_count": null,
            "flex_flow": null,
            "width": null,
            "min_width": null,
            "border": null,
            "align_items": null,
            "bottom": null,
            "_model_module": "@jupyter-widgets/base",
            "top": null,
            "grid_column": null,
            "overflow_y": null,
            "overflow_x": null,
            "grid_auto_flow": null,
            "grid_area": null,
            "grid_template_columns": null,
            "flex": null,
            "_model_name": "LayoutModel",
            "justify_items": null,
            "grid_row": null,
            "max_height": null,
            "align_content": null,
            "visibility": null,
            "align_self": null,
            "height": null,
            "min_height": null,
            "padding": null,
            "grid_auto_rows": null,
            "grid_gap": null,
            "max_width": null,
            "order": null,
            "_view_module_version": "1.2.0",
            "grid_template_areas": null,
            "object_position": null,
            "object_fit": null,
            "grid_auto_columns": null,
            "margin": null,
            "display": null,
            "left": null
          }
        },
        "ff6dda9d52eb40a6aa1ae3004e3876f1": {
          "model_module": "@jupyter-widgets/controls",
          "model_name": "LabelModel",
          "state": {
            "_view_name": "LabelView",
            "style": "IPY_MODEL_9cfcb259c0854501b22e7757304a6f31",
            "_dom_classes": [],
            "description": "",
            "_model_name": "LabelModel",
            "placeholder": "​",
            "_view_module": "@jupyter-widgets/controls",
            "_model_module_version": "1.5.0",
            "value": " 0.80MB of 0.80MB uploaded (0.00MB deduped)\r",
            "_view_count": null,
            "_view_module_version": "1.5.0",
            "description_tooltip": null,
            "_model_module": "@jupyter-widgets/controls",
            "layout": "IPY_MODEL_5814e80b1881433683ca75c095c35ff3"
          }
        },
        "b31e781760324606b3e042e5aa426ea5": {
          "model_module": "@jupyter-widgets/controls",
          "model_name": "FloatProgressModel",
          "state": {
            "_view_name": "ProgressView",
            "style": "IPY_MODEL_d90cf05eafb944c4af8f15fe1cfc5c94",
            "_dom_classes": [],
            "description": "",
            "_model_name": "FloatProgressModel",
            "bar_style": "",
            "max": 1,
            "_view_module": "@jupyter-widgets/controls",
            "_model_module_version": "1.5.0",
            "value": 1,
            "_view_count": null,
            "_view_module_version": "1.5.0",
            "orientation": "horizontal",
            "min": 0,
            "description_tooltip": null,
            "_model_module": "@jupyter-widgets/controls",
            "layout": "IPY_MODEL_e3e3369c835b445e9b9b2931b0d7eec1"
          }
        },
        "9cfcb259c0854501b22e7757304a6f31": {
          "model_module": "@jupyter-widgets/controls",
          "model_name": "DescriptionStyleModel",
          "state": {
            "_view_name": "StyleView",
            "_model_name": "DescriptionStyleModel",
            "description_width": "",
            "_view_module": "@jupyter-widgets/base",
            "_model_module_version": "1.5.0",
            "_view_count": null,
            "_view_module_version": "1.2.0",
            "_model_module": "@jupyter-widgets/controls"
          }
        },
        "5814e80b1881433683ca75c095c35ff3": {
          "model_module": "@jupyter-widgets/base",
          "model_name": "LayoutModel",
          "state": {
            "_view_name": "LayoutView",
            "grid_template_rows": null,
            "right": null,
            "justify_content": null,
            "_view_module": "@jupyter-widgets/base",
            "overflow": null,
            "_model_module_version": "1.2.0",
            "_view_count": null,
            "flex_flow": null,
            "width": null,
            "min_width": null,
            "border": null,
            "align_items": null,
            "bottom": null,
            "_model_module": "@jupyter-widgets/base",
            "top": null,
            "grid_column": null,
            "overflow_y": null,
            "overflow_x": null,
            "grid_auto_flow": null,
            "grid_area": null,
            "grid_template_columns": null,
            "flex": null,
            "_model_name": "LayoutModel",
            "justify_items": null,
            "grid_row": null,
            "max_height": null,
            "align_content": null,
            "visibility": null,
            "align_self": null,
            "height": null,
            "min_height": null,
            "padding": null,
            "grid_auto_rows": null,
            "grid_gap": null,
            "max_width": null,
            "order": null,
            "_view_module_version": "1.2.0",
            "grid_template_areas": null,
            "object_position": null,
            "object_fit": null,
            "grid_auto_columns": null,
            "margin": null,
            "display": null,
            "left": null
          }
        },
        "d90cf05eafb944c4af8f15fe1cfc5c94": {
          "model_module": "@jupyter-widgets/controls",
          "model_name": "ProgressStyleModel",
          "state": {
            "_view_name": "StyleView",
            "_model_name": "ProgressStyleModel",
            "description_width": "",
            "_view_module": "@jupyter-widgets/base",
            "_model_module_version": "1.5.0",
            "_view_count": null,
            "_view_module_version": "1.2.0",
            "bar_color": null,
            "_model_module": "@jupyter-widgets/controls"
          }
        },
        "e3e3369c835b445e9b9b2931b0d7eec1": {
          "model_module": "@jupyter-widgets/base",
          "model_name": "LayoutModel",
          "state": {
            "_view_name": "LayoutView",
            "grid_template_rows": null,
            "right": null,
            "justify_content": null,
            "_view_module": "@jupyter-widgets/base",
            "overflow": null,
            "_model_module_version": "1.2.0",
            "_view_count": null,
            "flex_flow": null,
            "width": null,
            "min_width": null,
            "border": null,
            "align_items": null,
            "bottom": null,
            "_model_module": "@jupyter-widgets/base",
            "top": null,
            "grid_column": null,
            "overflow_y": null,
            "overflow_x": null,
            "grid_auto_flow": null,
            "grid_area": null,
            "grid_template_columns": null,
            "flex": null,
            "_model_name": "LayoutModel",
            "justify_items": null,
            "grid_row": null,
            "max_height": null,
            "align_content": null,
            "visibility": null,
            "align_self": null,
            "height": null,
            "min_height": null,
            "padding": null,
            "grid_auto_rows": null,
            "grid_gap": null,
            "max_width": null,
            "order": null,
            "_view_module_version": "1.2.0",
            "grid_template_areas": null,
            "object_position": null,
            "object_fit": null,
            "grid_auto_columns": null,
            "margin": null,
            "display": null,
            "left": null
          }
        },
        "77ae27069ef1423e9f3ab9361203d7c2": {
          "model_module": "@jupyter-widgets/controls",
          "model_name": "VBoxModel",
          "state": {
            "_view_name": "VBoxView",
            "_dom_classes": [],
            "_model_name": "VBoxModel",
            "_view_module": "@jupyter-widgets/controls",
            "_model_module_version": "1.5.0",
            "_view_count": null,
            "_view_module_version": "1.5.0",
            "box_style": "",
            "layout": "IPY_MODEL_c75f47e50a714697ac9d3a79dfd86c51",
            "_model_module": "@jupyter-widgets/controls",
            "children": [
              "IPY_MODEL_9e0f36d564b2447087473a7a5b6ef7c0",
              "IPY_MODEL_8861caa97ee34ceb852d59ce63b2d121"
            ]
          }
        },
        "c75f47e50a714697ac9d3a79dfd86c51": {
          "model_module": "@jupyter-widgets/base",
          "model_name": "LayoutModel",
          "state": {
            "_view_name": "LayoutView",
            "grid_template_rows": null,
            "right": null,
            "justify_content": null,
            "_view_module": "@jupyter-widgets/base",
            "overflow": null,
            "_model_module_version": "1.2.0",
            "_view_count": null,
            "flex_flow": null,
            "width": null,
            "min_width": null,
            "border": null,
            "align_items": null,
            "bottom": null,
            "_model_module": "@jupyter-widgets/base",
            "top": null,
            "grid_column": null,
            "overflow_y": null,
            "overflow_x": null,
            "grid_auto_flow": null,
            "grid_area": null,
            "grid_template_columns": null,
            "flex": null,
            "_model_name": "LayoutModel",
            "justify_items": null,
            "grid_row": null,
            "max_height": null,
            "align_content": null,
            "visibility": null,
            "align_self": null,
            "height": null,
            "min_height": null,
            "padding": null,
            "grid_auto_rows": null,
            "grid_gap": null,
            "max_width": null,
            "order": null,
            "_view_module_version": "1.2.0",
            "grid_template_areas": null,
            "object_position": null,
            "object_fit": null,
            "grid_auto_columns": null,
            "margin": null,
            "display": null,
            "left": null
          }
        },
        "9e0f36d564b2447087473a7a5b6ef7c0": {
          "model_module": "@jupyter-widgets/controls",
          "model_name": "LabelModel",
          "state": {
            "_view_name": "LabelView",
            "style": "IPY_MODEL_5c3e8fdb7acb49e59dc0b530fc5d8b94",
            "_dom_classes": [],
            "description": "",
            "_model_name": "LabelModel",
            "placeholder": "​",
            "_view_module": "@jupyter-widgets/controls",
            "_model_module_version": "1.5.0",
            "value": " 0.81MB of 0.81MB uploaded (0.00MB deduped)\r",
            "_view_count": null,
            "_view_module_version": "1.5.0",
            "description_tooltip": null,
            "_model_module": "@jupyter-widgets/controls",
            "layout": "IPY_MODEL_8c0a074d1f7042b583e18d525ceff58b"
          }
        },
        "8861caa97ee34ceb852d59ce63b2d121": {
          "model_module": "@jupyter-widgets/controls",
          "model_name": "FloatProgressModel",
          "state": {
            "_view_name": "ProgressView",
            "style": "IPY_MODEL_291a8093ab0746c3ae7494cd905ceb16",
            "_dom_classes": [],
            "description": "",
            "_model_name": "FloatProgressModel",
            "bar_style": "",
            "max": 1,
            "_view_module": "@jupyter-widgets/controls",
            "_model_module_version": "1.5.0",
            "value": 1,
            "_view_count": null,
            "_view_module_version": "1.5.0",
            "orientation": "horizontal",
            "min": 0,
            "description_tooltip": null,
            "_model_module": "@jupyter-widgets/controls",
            "layout": "IPY_MODEL_f4ff2b5f604546b9a1db73481f3f7618"
          }
        },
        "5c3e8fdb7acb49e59dc0b530fc5d8b94": {
          "model_module": "@jupyter-widgets/controls",
          "model_name": "DescriptionStyleModel",
          "state": {
            "_view_name": "StyleView",
            "_model_name": "DescriptionStyleModel",
            "description_width": "",
            "_view_module": "@jupyter-widgets/base",
            "_model_module_version": "1.5.0",
            "_view_count": null,
            "_view_module_version": "1.2.0",
            "_model_module": "@jupyter-widgets/controls"
          }
        },
        "8c0a074d1f7042b583e18d525ceff58b": {
          "model_module": "@jupyter-widgets/base",
          "model_name": "LayoutModel",
          "state": {
            "_view_name": "LayoutView",
            "grid_template_rows": null,
            "right": null,
            "justify_content": null,
            "_view_module": "@jupyter-widgets/base",
            "overflow": null,
            "_model_module_version": "1.2.0",
            "_view_count": null,
            "flex_flow": null,
            "width": null,
            "min_width": null,
            "border": null,
            "align_items": null,
            "bottom": null,
            "_model_module": "@jupyter-widgets/base",
            "top": null,
            "grid_column": null,
            "overflow_y": null,
            "overflow_x": null,
            "grid_auto_flow": null,
            "grid_area": null,
            "grid_template_columns": null,
            "flex": null,
            "_model_name": "LayoutModel",
            "justify_items": null,
            "grid_row": null,
            "max_height": null,
            "align_content": null,
            "visibility": null,
            "align_self": null,
            "height": null,
            "min_height": null,
            "padding": null,
            "grid_auto_rows": null,
            "grid_gap": null,
            "max_width": null,
            "order": null,
            "_view_module_version": "1.2.0",
            "grid_template_areas": null,
            "object_position": null,
            "object_fit": null,
            "grid_auto_columns": null,
            "margin": null,
            "display": null,
            "left": null
          }
        },
        "291a8093ab0746c3ae7494cd905ceb16": {
          "model_module": "@jupyter-widgets/controls",
          "model_name": "ProgressStyleModel",
          "state": {
            "_view_name": "StyleView",
            "_model_name": "ProgressStyleModel",
            "description_width": "",
            "_view_module": "@jupyter-widgets/base",
            "_model_module_version": "1.5.0",
            "_view_count": null,
            "_view_module_version": "1.2.0",
            "bar_color": null,
            "_model_module": "@jupyter-widgets/controls"
          }
        },
        "f4ff2b5f604546b9a1db73481f3f7618": {
          "model_module": "@jupyter-widgets/base",
          "model_name": "LayoutModel",
          "state": {
            "_view_name": "LayoutView",
            "grid_template_rows": null,
            "right": null,
            "justify_content": null,
            "_view_module": "@jupyter-widgets/base",
            "overflow": null,
            "_model_module_version": "1.2.0",
            "_view_count": null,
            "flex_flow": null,
            "width": null,
            "min_width": null,
            "border": null,
            "align_items": null,
            "bottom": null,
            "_model_module": "@jupyter-widgets/base",
            "top": null,
            "grid_column": null,
            "overflow_y": null,
            "overflow_x": null,
            "grid_auto_flow": null,
            "grid_area": null,
            "grid_template_columns": null,
            "flex": null,
            "_model_name": "LayoutModel",
            "justify_items": null,
            "grid_row": null,
            "max_height": null,
            "align_content": null,
            "visibility": null,
            "align_self": null,
            "height": null,
            "min_height": null,
            "padding": null,
            "grid_auto_rows": null,
            "grid_gap": null,
            "max_width": null,
            "order": null,
            "_view_module_version": "1.2.0",
            "grid_template_areas": null,
            "object_position": null,
            "object_fit": null,
            "grid_auto_columns": null,
            "margin": null,
            "display": null,
            "left": null
          }
        },
        "430c55c0cf8a407ca31ae0fb87573ef3": {
          "model_module": "@jupyter-widgets/controls",
          "model_name": "VBoxModel",
          "state": {
            "_view_name": "VBoxView",
            "_dom_classes": [],
            "_model_name": "VBoxModel",
            "_view_module": "@jupyter-widgets/controls",
            "_model_module_version": "1.5.0",
            "_view_count": null,
            "_view_module_version": "1.5.0",
            "box_style": "",
            "layout": "IPY_MODEL_df9f6cbbd1264862ad6368b007c1cead",
            "_model_module": "@jupyter-widgets/controls",
            "children": [
              "IPY_MODEL_9f342cfefb614277816c59c689dbb00e",
              "IPY_MODEL_f2e807d1c9f74098bde2000baae4f0c4"
            ]
          }
        },
        "df9f6cbbd1264862ad6368b007c1cead": {
          "model_module": "@jupyter-widgets/base",
          "model_name": "LayoutModel",
          "state": {
            "_view_name": "LayoutView",
            "grid_template_rows": null,
            "right": null,
            "justify_content": null,
            "_view_module": "@jupyter-widgets/base",
            "overflow": null,
            "_model_module_version": "1.2.0",
            "_view_count": null,
            "flex_flow": null,
            "width": null,
            "min_width": null,
            "border": null,
            "align_items": null,
            "bottom": null,
            "_model_module": "@jupyter-widgets/base",
            "top": null,
            "grid_column": null,
            "overflow_y": null,
            "overflow_x": null,
            "grid_auto_flow": null,
            "grid_area": null,
            "grid_template_columns": null,
            "flex": null,
            "_model_name": "LayoutModel",
            "justify_items": null,
            "grid_row": null,
            "max_height": null,
            "align_content": null,
            "visibility": null,
            "align_self": null,
            "height": null,
            "min_height": null,
            "padding": null,
            "grid_auto_rows": null,
            "grid_gap": null,
            "max_width": null,
            "order": null,
            "_view_module_version": "1.2.0",
            "grid_template_areas": null,
            "object_position": null,
            "object_fit": null,
            "grid_auto_columns": null,
            "margin": null,
            "display": null,
            "left": null
          }
        },
        "9f342cfefb614277816c59c689dbb00e": {
          "model_module": "@jupyter-widgets/controls",
          "model_name": "LabelModel",
          "state": {
            "_view_name": "LabelView",
            "style": "IPY_MODEL_39a8606237804b278d92628aa9fd5a7f",
            "_dom_classes": [],
            "description": "",
            "_model_name": "LabelModel",
            "placeholder": "​",
            "_view_module": "@jupyter-widgets/controls",
            "_model_module_version": "1.5.0",
            "value": " 0.82MB of 0.82MB uploaded (0.00MB deduped)\r",
            "_view_count": null,
            "_view_module_version": "1.5.0",
            "description_tooltip": null,
            "_model_module": "@jupyter-widgets/controls",
            "layout": "IPY_MODEL_d4ceab581368494c8f4cd369c771e735"
          }
        },
        "f2e807d1c9f74098bde2000baae4f0c4": {
          "model_module": "@jupyter-widgets/controls",
          "model_name": "FloatProgressModel",
          "state": {
            "_view_name": "ProgressView",
            "style": "IPY_MODEL_76269796c4ee466c8d614472424d6b37",
            "_dom_classes": [],
            "description": "",
            "_model_name": "FloatProgressModel",
            "bar_style": "",
            "max": 1,
            "_view_module": "@jupyter-widgets/controls",
            "_model_module_version": "1.5.0",
            "value": 1,
            "_view_count": null,
            "_view_module_version": "1.5.0",
            "orientation": "horizontal",
            "min": 0,
            "description_tooltip": null,
            "_model_module": "@jupyter-widgets/controls",
            "layout": "IPY_MODEL_eef8ffa2dccc469fbf84e6187e53cd33"
          }
        },
        "39a8606237804b278d92628aa9fd5a7f": {
          "model_module": "@jupyter-widgets/controls",
          "model_name": "DescriptionStyleModel",
          "state": {
            "_view_name": "StyleView",
            "_model_name": "DescriptionStyleModel",
            "description_width": "",
            "_view_module": "@jupyter-widgets/base",
            "_model_module_version": "1.5.0",
            "_view_count": null,
            "_view_module_version": "1.2.0",
            "_model_module": "@jupyter-widgets/controls"
          }
        },
        "d4ceab581368494c8f4cd369c771e735": {
          "model_module": "@jupyter-widgets/base",
          "model_name": "LayoutModel",
          "state": {
            "_view_name": "LayoutView",
            "grid_template_rows": null,
            "right": null,
            "justify_content": null,
            "_view_module": "@jupyter-widgets/base",
            "overflow": null,
            "_model_module_version": "1.2.0",
            "_view_count": null,
            "flex_flow": null,
            "width": null,
            "min_width": null,
            "border": null,
            "align_items": null,
            "bottom": null,
            "_model_module": "@jupyter-widgets/base",
            "top": null,
            "grid_column": null,
            "overflow_y": null,
            "overflow_x": null,
            "grid_auto_flow": null,
            "grid_area": null,
            "grid_template_columns": null,
            "flex": null,
            "_model_name": "LayoutModel",
            "justify_items": null,
            "grid_row": null,
            "max_height": null,
            "align_content": null,
            "visibility": null,
            "align_self": null,
            "height": null,
            "min_height": null,
            "padding": null,
            "grid_auto_rows": null,
            "grid_gap": null,
            "max_width": null,
            "order": null,
            "_view_module_version": "1.2.0",
            "grid_template_areas": null,
            "object_position": null,
            "object_fit": null,
            "grid_auto_columns": null,
            "margin": null,
            "display": null,
            "left": null
          }
        },
        "76269796c4ee466c8d614472424d6b37": {
          "model_module": "@jupyter-widgets/controls",
          "model_name": "ProgressStyleModel",
          "state": {
            "_view_name": "StyleView",
            "_model_name": "ProgressStyleModel",
            "description_width": "",
            "_view_module": "@jupyter-widgets/base",
            "_model_module_version": "1.5.0",
            "_view_count": null,
            "_view_module_version": "1.2.0",
            "bar_color": null,
            "_model_module": "@jupyter-widgets/controls"
          }
        },
        "eef8ffa2dccc469fbf84e6187e53cd33": {
          "model_module": "@jupyter-widgets/base",
          "model_name": "LayoutModel",
          "state": {
            "_view_name": "LayoutView",
            "grid_template_rows": null,
            "right": null,
            "justify_content": null,
            "_view_module": "@jupyter-widgets/base",
            "overflow": null,
            "_model_module_version": "1.2.0",
            "_view_count": null,
            "flex_flow": null,
            "width": null,
            "min_width": null,
            "border": null,
            "align_items": null,
            "bottom": null,
            "_model_module": "@jupyter-widgets/base",
            "top": null,
            "grid_column": null,
            "overflow_y": null,
            "overflow_x": null,
            "grid_auto_flow": null,
            "grid_area": null,
            "grid_template_columns": null,
            "flex": null,
            "_model_name": "LayoutModel",
            "justify_items": null,
            "grid_row": null,
            "max_height": null,
            "align_content": null,
            "visibility": null,
            "align_self": null,
            "height": null,
            "min_height": null,
            "padding": null,
            "grid_auto_rows": null,
            "grid_gap": null,
            "max_width": null,
            "order": null,
            "_view_module_version": "1.2.0",
            "grid_template_areas": null,
            "object_position": null,
            "object_fit": null,
            "grid_auto_columns": null,
            "margin": null,
            "display": null,
            "left": null
          }
        },
        "76b6b91ea35643f9b205430778d80d59": {
          "model_module": "@jupyter-widgets/controls",
          "model_name": "VBoxModel",
          "state": {
            "_view_name": "VBoxView",
            "_dom_classes": [],
            "_model_name": "VBoxModel",
            "_view_module": "@jupyter-widgets/controls",
            "_model_module_version": "1.5.0",
            "_view_count": null,
            "_view_module_version": "1.5.0",
            "box_style": "",
            "layout": "IPY_MODEL_814de1e9dbfd4c3ea4ce3fb1105128b9",
            "_model_module": "@jupyter-widgets/controls",
            "children": [
              "IPY_MODEL_587d4b96fb824f66a23d64f1e3cc568e",
              "IPY_MODEL_ef709d30707b4070b70e89db0e5a9fcd"
            ]
          }
        },
        "814de1e9dbfd4c3ea4ce3fb1105128b9": {
          "model_module": "@jupyter-widgets/base",
          "model_name": "LayoutModel",
          "state": {
            "_view_name": "LayoutView",
            "grid_template_rows": null,
            "right": null,
            "justify_content": null,
            "_view_module": "@jupyter-widgets/base",
            "overflow": null,
            "_model_module_version": "1.2.0",
            "_view_count": null,
            "flex_flow": null,
            "width": null,
            "min_width": null,
            "border": null,
            "align_items": null,
            "bottom": null,
            "_model_module": "@jupyter-widgets/base",
            "top": null,
            "grid_column": null,
            "overflow_y": null,
            "overflow_x": null,
            "grid_auto_flow": null,
            "grid_area": null,
            "grid_template_columns": null,
            "flex": null,
            "_model_name": "LayoutModel",
            "justify_items": null,
            "grid_row": null,
            "max_height": null,
            "align_content": null,
            "visibility": null,
            "align_self": null,
            "height": null,
            "min_height": null,
            "padding": null,
            "grid_auto_rows": null,
            "grid_gap": null,
            "max_width": null,
            "order": null,
            "_view_module_version": "1.2.0",
            "grid_template_areas": null,
            "object_position": null,
            "object_fit": null,
            "grid_auto_columns": null,
            "margin": null,
            "display": null,
            "left": null
          }
        },
        "587d4b96fb824f66a23d64f1e3cc568e": {
          "model_module": "@jupyter-widgets/controls",
          "model_name": "LabelModel",
          "state": {
            "_view_name": "LabelView",
            "style": "IPY_MODEL_0346f4f8e8a2424dbdc5b8d9b950f780",
            "_dom_classes": [],
            "description": "",
            "_model_name": "LabelModel",
            "placeholder": "​",
            "_view_module": "@jupyter-widgets/controls",
            "_model_module_version": "1.5.0",
            "value": " 0.84MB of 0.84MB uploaded (0.00MB deduped)\r",
            "_view_count": null,
            "_view_module_version": "1.5.0",
            "description_tooltip": null,
            "_model_module": "@jupyter-widgets/controls",
            "layout": "IPY_MODEL_347a704fab1c47dc9ddffd5c1e7d6f2b"
          }
        },
        "ef709d30707b4070b70e89db0e5a9fcd": {
          "model_module": "@jupyter-widgets/controls",
          "model_name": "FloatProgressModel",
          "state": {
            "_view_name": "ProgressView",
            "style": "IPY_MODEL_d10d5cc1f3f54e198b10bf5b3781ed71",
            "_dom_classes": [],
            "description": "",
            "_model_name": "FloatProgressModel",
            "bar_style": "",
            "max": 1,
            "_view_module": "@jupyter-widgets/controls",
            "_model_module_version": "1.5.0",
            "value": 1,
            "_view_count": null,
            "_view_module_version": "1.5.0",
            "orientation": "horizontal",
            "min": 0,
            "description_tooltip": null,
            "_model_module": "@jupyter-widgets/controls",
            "layout": "IPY_MODEL_7a62d4aadc534e14b4116f486d08272b"
          }
        },
        "0346f4f8e8a2424dbdc5b8d9b950f780": {
          "model_module": "@jupyter-widgets/controls",
          "model_name": "DescriptionStyleModel",
          "state": {
            "_view_name": "StyleView",
            "_model_name": "DescriptionStyleModel",
            "description_width": "",
            "_view_module": "@jupyter-widgets/base",
            "_model_module_version": "1.5.0",
            "_view_count": null,
            "_view_module_version": "1.2.0",
            "_model_module": "@jupyter-widgets/controls"
          }
        },
        "347a704fab1c47dc9ddffd5c1e7d6f2b": {
          "model_module": "@jupyter-widgets/base",
          "model_name": "LayoutModel",
          "state": {
            "_view_name": "LayoutView",
            "grid_template_rows": null,
            "right": null,
            "justify_content": null,
            "_view_module": "@jupyter-widgets/base",
            "overflow": null,
            "_model_module_version": "1.2.0",
            "_view_count": null,
            "flex_flow": null,
            "width": null,
            "min_width": null,
            "border": null,
            "align_items": null,
            "bottom": null,
            "_model_module": "@jupyter-widgets/base",
            "top": null,
            "grid_column": null,
            "overflow_y": null,
            "overflow_x": null,
            "grid_auto_flow": null,
            "grid_area": null,
            "grid_template_columns": null,
            "flex": null,
            "_model_name": "LayoutModel",
            "justify_items": null,
            "grid_row": null,
            "max_height": null,
            "align_content": null,
            "visibility": null,
            "align_self": null,
            "height": null,
            "min_height": null,
            "padding": null,
            "grid_auto_rows": null,
            "grid_gap": null,
            "max_width": null,
            "order": null,
            "_view_module_version": "1.2.0",
            "grid_template_areas": null,
            "object_position": null,
            "object_fit": null,
            "grid_auto_columns": null,
            "margin": null,
            "display": null,
            "left": null
          }
        },
        "d10d5cc1f3f54e198b10bf5b3781ed71": {
          "model_module": "@jupyter-widgets/controls",
          "model_name": "ProgressStyleModel",
          "state": {
            "_view_name": "StyleView",
            "_model_name": "ProgressStyleModel",
            "description_width": "",
            "_view_module": "@jupyter-widgets/base",
            "_model_module_version": "1.5.0",
            "_view_count": null,
            "_view_module_version": "1.2.0",
            "bar_color": null,
            "_model_module": "@jupyter-widgets/controls"
          }
        },
        "7a62d4aadc534e14b4116f486d08272b": {
          "model_module": "@jupyter-widgets/base",
          "model_name": "LayoutModel",
          "state": {
            "_view_name": "LayoutView",
            "grid_template_rows": null,
            "right": null,
            "justify_content": null,
            "_view_module": "@jupyter-widgets/base",
            "overflow": null,
            "_model_module_version": "1.2.0",
            "_view_count": null,
            "flex_flow": null,
            "width": null,
            "min_width": null,
            "border": null,
            "align_items": null,
            "bottom": null,
            "_model_module": "@jupyter-widgets/base",
            "top": null,
            "grid_column": null,
            "overflow_y": null,
            "overflow_x": null,
            "grid_auto_flow": null,
            "grid_area": null,
            "grid_template_columns": null,
            "flex": null,
            "_model_name": "LayoutModel",
            "justify_items": null,
            "grid_row": null,
            "max_height": null,
            "align_content": null,
            "visibility": null,
            "align_self": null,
            "height": null,
            "min_height": null,
            "padding": null,
            "grid_auto_rows": null,
            "grid_gap": null,
            "max_width": null,
            "order": null,
            "_view_module_version": "1.2.0",
            "grid_template_areas": null,
            "object_position": null,
            "object_fit": null,
            "grid_auto_columns": null,
            "margin": null,
            "display": null,
            "left": null
          }
        },
        "494e1c1ce6634714acdcaa10495dedcf": {
          "model_module": "@jupyter-widgets/controls",
          "model_name": "VBoxModel",
          "state": {
            "_view_name": "VBoxView",
            "_dom_classes": [],
            "_model_name": "VBoxModel",
            "_view_module": "@jupyter-widgets/controls",
            "_model_module_version": "1.5.0",
            "_view_count": null,
            "_view_module_version": "1.5.0",
            "box_style": "",
            "layout": "IPY_MODEL_a80b984d26fb420c8398bfa443a637cd",
            "_model_module": "@jupyter-widgets/controls",
            "children": [
              "IPY_MODEL_6168dfc022d54b16a468d6763bde2ffa",
              "IPY_MODEL_a4f62f3c7b754fc6b41c5862494317f1"
            ]
          }
        },
        "a80b984d26fb420c8398bfa443a637cd": {
          "model_module": "@jupyter-widgets/base",
          "model_name": "LayoutModel",
          "state": {
            "_view_name": "LayoutView",
            "grid_template_rows": null,
            "right": null,
            "justify_content": null,
            "_view_module": "@jupyter-widgets/base",
            "overflow": null,
            "_model_module_version": "1.2.0",
            "_view_count": null,
            "flex_flow": null,
            "width": null,
            "min_width": null,
            "border": null,
            "align_items": null,
            "bottom": null,
            "_model_module": "@jupyter-widgets/base",
            "top": null,
            "grid_column": null,
            "overflow_y": null,
            "overflow_x": null,
            "grid_auto_flow": null,
            "grid_area": null,
            "grid_template_columns": null,
            "flex": null,
            "_model_name": "LayoutModel",
            "justify_items": null,
            "grid_row": null,
            "max_height": null,
            "align_content": null,
            "visibility": null,
            "align_self": null,
            "height": null,
            "min_height": null,
            "padding": null,
            "grid_auto_rows": null,
            "grid_gap": null,
            "max_width": null,
            "order": null,
            "_view_module_version": "1.2.0",
            "grid_template_areas": null,
            "object_position": null,
            "object_fit": null,
            "grid_auto_columns": null,
            "margin": null,
            "display": null,
            "left": null
          }
        },
        "6168dfc022d54b16a468d6763bde2ffa": {
          "model_module": "@jupyter-widgets/controls",
          "model_name": "LabelModel",
          "state": {
            "_view_name": "LabelView",
            "style": "IPY_MODEL_b4b81881336f49729bc2f556b3d08639",
            "_dom_classes": [],
            "description": "",
            "_model_name": "LabelModel",
            "placeholder": "​",
            "_view_module": "@jupyter-widgets/controls",
            "_model_module_version": "1.5.0",
            "value": " 0.85MB of 0.85MB uploaded (0.00MB deduped)\r",
            "_view_count": null,
            "_view_module_version": "1.5.0",
            "description_tooltip": null,
            "_model_module": "@jupyter-widgets/controls",
            "layout": "IPY_MODEL_4090004032954c7aa1b8ecb22ce13950"
          }
        },
        "a4f62f3c7b754fc6b41c5862494317f1": {
          "model_module": "@jupyter-widgets/controls",
          "model_name": "FloatProgressModel",
          "state": {
            "_view_name": "ProgressView",
            "style": "IPY_MODEL_024f22f937004b6894e1b542329b4bf1",
            "_dom_classes": [],
            "description": "",
            "_model_name": "FloatProgressModel",
            "bar_style": "",
            "max": 1,
            "_view_module": "@jupyter-widgets/controls",
            "_model_module_version": "1.5.0",
            "value": 1,
            "_view_count": null,
            "_view_module_version": "1.5.0",
            "orientation": "horizontal",
            "min": 0,
            "description_tooltip": null,
            "_model_module": "@jupyter-widgets/controls",
            "layout": "IPY_MODEL_3731a8830bb44c6585e14151dcb5d946"
          }
        },
        "b4b81881336f49729bc2f556b3d08639": {
          "model_module": "@jupyter-widgets/controls",
          "model_name": "DescriptionStyleModel",
          "state": {
            "_view_name": "StyleView",
            "_model_name": "DescriptionStyleModel",
            "description_width": "",
            "_view_module": "@jupyter-widgets/base",
            "_model_module_version": "1.5.0",
            "_view_count": null,
            "_view_module_version": "1.2.0",
            "_model_module": "@jupyter-widgets/controls"
          }
        },
        "4090004032954c7aa1b8ecb22ce13950": {
          "model_module": "@jupyter-widgets/base",
          "model_name": "LayoutModel",
          "state": {
            "_view_name": "LayoutView",
            "grid_template_rows": null,
            "right": null,
            "justify_content": null,
            "_view_module": "@jupyter-widgets/base",
            "overflow": null,
            "_model_module_version": "1.2.0",
            "_view_count": null,
            "flex_flow": null,
            "width": null,
            "min_width": null,
            "border": null,
            "align_items": null,
            "bottom": null,
            "_model_module": "@jupyter-widgets/base",
            "top": null,
            "grid_column": null,
            "overflow_y": null,
            "overflow_x": null,
            "grid_auto_flow": null,
            "grid_area": null,
            "grid_template_columns": null,
            "flex": null,
            "_model_name": "LayoutModel",
            "justify_items": null,
            "grid_row": null,
            "max_height": null,
            "align_content": null,
            "visibility": null,
            "align_self": null,
            "height": null,
            "min_height": null,
            "padding": null,
            "grid_auto_rows": null,
            "grid_gap": null,
            "max_width": null,
            "order": null,
            "_view_module_version": "1.2.0",
            "grid_template_areas": null,
            "object_position": null,
            "object_fit": null,
            "grid_auto_columns": null,
            "margin": null,
            "display": null,
            "left": null
          }
        },
        "024f22f937004b6894e1b542329b4bf1": {
          "model_module": "@jupyter-widgets/controls",
          "model_name": "ProgressStyleModel",
          "state": {
            "_view_name": "StyleView",
            "_model_name": "ProgressStyleModel",
            "description_width": "",
            "_view_module": "@jupyter-widgets/base",
            "_model_module_version": "1.5.0",
            "_view_count": null,
            "_view_module_version": "1.2.0",
            "bar_color": null,
            "_model_module": "@jupyter-widgets/controls"
          }
        },
        "3731a8830bb44c6585e14151dcb5d946": {
          "model_module": "@jupyter-widgets/base",
          "model_name": "LayoutModel",
          "state": {
            "_view_name": "LayoutView",
            "grid_template_rows": null,
            "right": null,
            "justify_content": null,
            "_view_module": "@jupyter-widgets/base",
            "overflow": null,
            "_model_module_version": "1.2.0",
            "_view_count": null,
            "flex_flow": null,
            "width": null,
            "min_width": null,
            "border": null,
            "align_items": null,
            "bottom": null,
            "_model_module": "@jupyter-widgets/base",
            "top": null,
            "grid_column": null,
            "overflow_y": null,
            "overflow_x": null,
            "grid_auto_flow": null,
            "grid_area": null,
            "grid_template_columns": null,
            "flex": null,
            "_model_name": "LayoutModel",
            "justify_items": null,
            "grid_row": null,
            "max_height": null,
            "align_content": null,
            "visibility": null,
            "align_self": null,
            "height": null,
            "min_height": null,
            "padding": null,
            "grid_auto_rows": null,
            "grid_gap": null,
            "max_width": null,
            "order": null,
            "_view_module_version": "1.2.0",
            "grid_template_areas": null,
            "object_position": null,
            "object_fit": null,
            "grid_auto_columns": null,
            "margin": null,
            "display": null,
            "left": null
          }
        },
        "736696e0f97e4069a8b5ed1778003c60": {
          "model_module": "@jupyter-widgets/controls",
          "model_name": "VBoxModel",
          "state": {
            "_view_name": "VBoxView",
            "_dom_classes": [],
            "_model_name": "VBoxModel",
            "_view_module": "@jupyter-widgets/controls",
            "_model_module_version": "1.5.0",
            "_view_count": null,
            "_view_module_version": "1.5.0",
            "box_style": "",
            "layout": "IPY_MODEL_1a4a6fbab8bc427ea617e9a7da5c40a1",
            "_model_module": "@jupyter-widgets/controls",
            "children": [
              "IPY_MODEL_791b6dc0978c4732b808a7c895349049",
              "IPY_MODEL_46579fcb31b94b5aa74334248e4307ce"
            ]
          }
        },
        "1a4a6fbab8bc427ea617e9a7da5c40a1": {
          "model_module": "@jupyter-widgets/base",
          "model_name": "LayoutModel",
          "state": {
            "_view_name": "LayoutView",
            "grid_template_rows": null,
            "right": null,
            "justify_content": null,
            "_view_module": "@jupyter-widgets/base",
            "overflow": null,
            "_model_module_version": "1.2.0",
            "_view_count": null,
            "flex_flow": null,
            "width": null,
            "min_width": null,
            "border": null,
            "align_items": null,
            "bottom": null,
            "_model_module": "@jupyter-widgets/base",
            "top": null,
            "grid_column": null,
            "overflow_y": null,
            "overflow_x": null,
            "grid_auto_flow": null,
            "grid_area": null,
            "grid_template_columns": null,
            "flex": null,
            "_model_name": "LayoutModel",
            "justify_items": null,
            "grid_row": null,
            "max_height": null,
            "align_content": null,
            "visibility": null,
            "align_self": null,
            "height": null,
            "min_height": null,
            "padding": null,
            "grid_auto_rows": null,
            "grid_gap": null,
            "max_width": null,
            "order": null,
            "_view_module_version": "1.2.0",
            "grid_template_areas": null,
            "object_position": null,
            "object_fit": null,
            "grid_auto_columns": null,
            "margin": null,
            "display": null,
            "left": null
          }
        },
        "791b6dc0978c4732b808a7c895349049": {
          "model_module": "@jupyter-widgets/controls",
          "model_name": "LabelModel",
          "state": {
            "_view_name": "LabelView",
            "style": "IPY_MODEL_8003aef76bb24526b5248a9e7f253ec1",
            "_dom_classes": [],
            "description": "",
            "_model_name": "LabelModel",
            "placeholder": "​",
            "_view_module": "@jupyter-widgets/controls",
            "_model_module_version": "1.5.0",
            "value": " 0.86MB of 0.86MB uploaded (0.00MB deduped)\r",
            "_view_count": null,
            "_view_module_version": "1.5.0",
            "description_tooltip": null,
            "_model_module": "@jupyter-widgets/controls",
            "layout": "IPY_MODEL_8f8d515530064eb48dcc3f75b25ded68"
          }
        },
        "46579fcb31b94b5aa74334248e4307ce": {
          "model_module": "@jupyter-widgets/controls",
          "model_name": "FloatProgressModel",
          "state": {
            "_view_name": "ProgressView",
            "style": "IPY_MODEL_427c22d185a440c08b66b7e990ff6e7b",
            "_dom_classes": [],
            "description": "",
            "_model_name": "FloatProgressModel",
            "bar_style": "",
            "max": 1,
            "_view_module": "@jupyter-widgets/controls",
            "_model_module_version": "1.5.0",
            "value": 1,
            "_view_count": null,
            "_view_module_version": "1.5.0",
            "orientation": "horizontal",
            "min": 0,
            "description_tooltip": null,
            "_model_module": "@jupyter-widgets/controls",
            "layout": "IPY_MODEL_aa19b75ce93c4a92bb572beb6ded6b67"
          }
        },
        "8003aef76bb24526b5248a9e7f253ec1": {
          "model_module": "@jupyter-widgets/controls",
          "model_name": "DescriptionStyleModel",
          "state": {
            "_view_name": "StyleView",
            "_model_name": "DescriptionStyleModel",
            "description_width": "",
            "_view_module": "@jupyter-widgets/base",
            "_model_module_version": "1.5.0",
            "_view_count": null,
            "_view_module_version": "1.2.0",
            "_model_module": "@jupyter-widgets/controls"
          }
        },
        "8f8d515530064eb48dcc3f75b25ded68": {
          "model_module": "@jupyter-widgets/base",
          "model_name": "LayoutModel",
          "state": {
            "_view_name": "LayoutView",
            "grid_template_rows": null,
            "right": null,
            "justify_content": null,
            "_view_module": "@jupyter-widgets/base",
            "overflow": null,
            "_model_module_version": "1.2.0",
            "_view_count": null,
            "flex_flow": null,
            "width": null,
            "min_width": null,
            "border": null,
            "align_items": null,
            "bottom": null,
            "_model_module": "@jupyter-widgets/base",
            "top": null,
            "grid_column": null,
            "overflow_y": null,
            "overflow_x": null,
            "grid_auto_flow": null,
            "grid_area": null,
            "grid_template_columns": null,
            "flex": null,
            "_model_name": "LayoutModel",
            "justify_items": null,
            "grid_row": null,
            "max_height": null,
            "align_content": null,
            "visibility": null,
            "align_self": null,
            "height": null,
            "min_height": null,
            "padding": null,
            "grid_auto_rows": null,
            "grid_gap": null,
            "max_width": null,
            "order": null,
            "_view_module_version": "1.2.0",
            "grid_template_areas": null,
            "object_position": null,
            "object_fit": null,
            "grid_auto_columns": null,
            "margin": null,
            "display": null,
            "left": null
          }
        },
        "427c22d185a440c08b66b7e990ff6e7b": {
          "model_module": "@jupyter-widgets/controls",
          "model_name": "ProgressStyleModel",
          "state": {
            "_view_name": "StyleView",
            "_model_name": "ProgressStyleModel",
            "description_width": "",
            "_view_module": "@jupyter-widgets/base",
            "_model_module_version": "1.5.0",
            "_view_count": null,
            "_view_module_version": "1.2.0",
            "bar_color": null,
            "_model_module": "@jupyter-widgets/controls"
          }
        },
        "aa19b75ce93c4a92bb572beb6ded6b67": {
          "model_module": "@jupyter-widgets/base",
          "model_name": "LayoutModel",
          "state": {
            "_view_name": "LayoutView",
            "grid_template_rows": null,
            "right": null,
            "justify_content": null,
            "_view_module": "@jupyter-widgets/base",
            "overflow": null,
            "_model_module_version": "1.2.0",
            "_view_count": null,
            "flex_flow": null,
            "width": null,
            "min_width": null,
            "border": null,
            "align_items": null,
            "bottom": null,
            "_model_module": "@jupyter-widgets/base",
            "top": null,
            "grid_column": null,
            "overflow_y": null,
            "overflow_x": null,
            "grid_auto_flow": null,
            "grid_area": null,
            "grid_template_columns": null,
            "flex": null,
            "_model_name": "LayoutModel",
            "justify_items": null,
            "grid_row": null,
            "max_height": null,
            "align_content": null,
            "visibility": null,
            "align_self": null,
            "height": null,
            "min_height": null,
            "padding": null,
            "grid_auto_rows": null,
            "grid_gap": null,
            "max_width": null,
            "order": null,
            "_view_module_version": "1.2.0",
            "grid_template_areas": null,
            "object_position": null,
            "object_fit": null,
            "grid_auto_columns": null,
            "margin": null,
            "display": null,
            "left": null
          }
        },
        "02f64ca9fc2c4dfda0b2411f54f63742": {
          "model_module": "@jupyter-widgets/controls",
          "model_name": "VBoxModel",
          "state": {
            "_view_name": "VBoxView",
            "_dom_classes": [],
            "_model_name": "VBoxModel",
            "_view_module": "@jupyter-widgets/controls",
            "_model_module_version": "1.5.0",
            "_view_count": null,
            "_view_module_version": "1.5.0",
            "box_style": "",
            "layout": "IPY_MODEL_5fb844a53ebb401698f66aaccd54a8d3",
            "_model_module": "@jupyter-widgets/controls",
            "children": [
              "IPY_MODEL_2bbd57e9879c4d0a807e67ea177d75b0",
              "IPY_MODEL_b04e07d31755416695ef57b8c0caeba9"
            ]
          }
        },
        "5fb844a53ebb401698f66aaccd54a8d3": {
          "model_module": "@jupyter-widgets/base",
          "model_name": "LayoutModel",
          "state": {
            "_view_name": "LayoutView",
            "grid_template_rows": null,
            "right": null,
            "justify_content": null,
            "_view_module": "@jupyter-widgets/base",
            "overflow": null,
            "_model_module_version": "1.2.0",
            "_view_count": null,
            "flex_flow": null,
            "width": null,
            "min_width": null,
            "border": null,
            "align_items": null,
            "bottom": null,
            "_model_module": "@jupyter-widgets/base",
            "top": null,
            "grid_column": null,
            "overflow_y": null,
            "overflow_x": null,
            "grid_auto_flow": null,
            "grid_area": null,
            "grid_template_columns": null,
            "flex": null,
            "_model_name": "LayoutModel",
            "justify_items": null,
            "grid_row": null,
            "max_height": null,
            "align_content": null,
            "visibility": null,
            "align_self": null,
            "height": null,
            "min_height": null,
            "padding": null,
            "grid_auto_rows": null,
            "grid_gap": null,
            "max_width": null,
            "order": null,
            "_view_module_version": "1.2.0",
            "grid_template_areas": null,
            "object_position": null,
            "object_fit": null,
            "grid_auto_columns": null,
            "margin": null,
            "display": null,
            "left": null
          }
        },
        "2bbd57e9879c4d0a807e67ea177d75b0": {
          "model_module": "@jupyter-widgets/controls",
          "model_name": "LabelModel",
          "state": {
            "_view_name": "LabelView",
            "style": "IPY_MODEL_34d8204835f94c43baeb4226022dd686",
            "_dom_classes": [],
            "description": "",
            "_model_name": "LabelModel",
            "placeholder": "​",
            "_view_module": "@jupyter-widgets/controls",
            "_model_module_version": "1.5.0",
            "value": " 0.88MB of 0.88MB uploaded (0.00MB deduped)\r",
            "_view_count": null,
            "_view_module_version": "1.5.0",
            "description_tooltip": null,
            "_model_module": "@jupyter-widgets/controls",
            "layout": "IPY_MODEL_9a1bbdbcfeee4cb69eb1589082cbff4b"
          }
        },
        "b04e07d31755416695ef57b8c0caeba9": {
          "model_module": "@jupyter-widgets/controls",
          "model_name": "FloatProgressModel",
          "state": {
            "_view_name": "ProgressView",
            "style": "IPY_MODEL_1fa5a991bdcc4d45a3b46487c2dee334",
            "_dom_classes": [],
            "description": "",
            "_model_name": "FloatProgressModel",
            "bar_style": "",
            "max": 1,
            "_view_module": "@jupyter-widgets/controls",
            "_model_module_version": "1.5.0",
            "value": 1,
            "_view_count": null,
            "_view_module_version": "1.5.0",
            "orientation": "horizontal",
            "min": 0,
            "description_tooltip": null,
            "_model_module": "@jupyter-widgets/controls",
            "layout": "IPY_MODEL_316f1a61fa0347ee83b3582edb0d054f"
          }
        },
        "34d8204835f94c43baeb4226022dd686": {
          "model_module": "@jupyter-widgets/controls",
          "model_name": "DescriptionStyleModel",
          "state": {
            "_view_name": "StyleView",
            "_model_name": "DescriptionStyleModel",
            "description_width": "",
            "_view_module": "@jupyter-widgets/base",
            "_model_module_version": "1.5.0",
            "_view_count": null,
            "_view_module_version": "1.2.0",
            "_model_module": "@jupyter-widgets/controls"
          }
        },
        "9a1bbdbcfeee4cb69eb1589082cbff4b": {
          "model_module": "@jupyter-widgets/base",
          "model_name": "LayoutModel",
          "state": {
            "_view_name": "LayoutView",
            "grid_template_rows": null,
            "right": null,
            "justify_content": null,
            "_view_module": "@jupyter-widgets/base",
            "overflow": null,
            "_model_module_version": "1.2.0",
            "_view_count": null,
            "flex_flow": null,
            "width": null,
            "min_width": null,
            "border": null,
            "align_items": null,
            "bottom": null,
            "_model_module": "@jupyter-widgets/base",
            "top": null,
            "grid_column": null,
            "overflow_y": null,
            "overflow_x": null,
            "grid_auto_flow": null,
            "grid_area": null,
            "grid_template_columns": null,
            "flex": null,
            "_model_name": "LayoutModel",
            "justify_items": null,
            "grid_row": null,
            "max_height": null,
            "align_content": null,
            "visibility": null,
            "align_self": null,
            "height": null,
            "min_height": null,
            "padding": null,
            "grid_auto_rows": null,
            "grid_gap": null,
            "max_width": null,
            "order": null,
            "_view_module_version": "1.2.0",
            "grid_template_areas": null,
            "object_position": null,
            "object_fit": null,
            "grid_auto_columns": null,
            "margin": null,
            "display": null,
            "left": null
          }
        },
        "1fa5a991bdcc4d45a3b46487c2dee334": {
          "model_module": "@jupyter-widgets/controls",
          "model_name": "ProgressStyleModel",
          "state": {
            "_view_name": "StyleView",
            "_model_name": "ProgressStyleModel",
            "description_width": "",
            "_view_module": "@jupyter-widgets/base",
            "_model_module_version": "1.5.0",
            "_view_count": null,
            "_view_module_version": "1.2.0",
            "bar_color": null,
            "_model_module": "@jupyter-widgets/controls"
          }
        },
        "316f1a61fa0347ee83b3582edb0d054f": {
          "model_module": "@jupyter-widgets/base",
          "model_name": "LayoutModel",
          "state": {
            "_view_name": "LayoutView",
            "grid_template_rows": null,
            "right": null,
            "justify_content": null,
            "_view_module": "@jupyter-widgets/base",
            "overflow": null,
            "_model_module_version": "1.2.0",
            "_view_count": null,
            "flex_flow": null,
            "width": null,
            "min_width": null,
            "border": null,
            "align_items": null,
            "bottom": null,
            "_model_module": "@jupyter-widgets/base",
            "top": null,
            "grid_column": null,
            "overflow_y": null,
            "overflow_x": null,
            "grid_auto_flow": null,
            "grid_area": null,
            "grid_template_columns": null,
            "flex": null,
            "_model_name": "LayoutModel",
            "justify_items": null,
            "grid_row": null,
            "max_height": null,
            "align_content": null,
            "visibility": null,
            "align_self": null,
            "height": null,
            "min_height": null,
            "padding": null,
            "grid_auto_rows": null,
            "grid_gap": null,
            "max_width": null,
            "order": null,
            "_view_module_version": "1.2.0",
            "grid_template_areas": null,
            "object_position": null,
            "object_fit": null,
            "grid_auto_columns": null,
            "margin": null,
            "display": null,
            "left": null
          }
        },
        "9c05277984ba43408e43f840012ae94a": {
          "model_module": "@jupyter-widgets/controls",
          "model_name": "VBoxModel",
          "state": {
            "_view_name": "VBoxView",
            "_dom_classes": [],
            "_model_name": "VBoxModel",
            "_view_module": "@jupyter-widgets/controls",
            "_model_module_version": "1.5.0",
            "_view_count": null,
            "_view_module_version": "1.5.0",
            "box_style": "",
            "layout": "IPY_MODEL_e2d9c976c86247f2916617a650523e61",
            "_model_module": "@jupyter-widgets/controls",
            "children": [
              "IPY_MODEL_3de33cf78485471e86f113a55e0eb83a",
              "IPY_MODEL_f7a1c4e96bb142869a985873b4821175"
            ]
          }
        },
        "e2d9c976c86247f2916617a650523e61": {
          "model_module": "@jupyter-widgets/base",
          "model_name": "LayoutModel",
          "state": {
            "_view_name": "LayoutView",
            "grid_template_rows": null,
            "right": null,
            "justify_content": null,
            "_view_module": "@jupyter-widgets/base",
            "overflow": null,
            "_model_module_version": "1.2.0",
            "_view_count": null,
            "flex_flow": null,
            "width": null,
            "min_width": null,
            "border": null,
            "align_items": null,
            "bottom": null,
            "_model_module": "@jupyter-widgets/base",
            "top": null,
            "grid_column": null,
            "overflow_y": null,
            "overflow_x": null,
            "grid_auto_flow": null,
            "grid_area": null,
            "grid_template_columns": null,
            "flex": null,
            "_model_name": "LayoutModel",
            "justify_items": null,
            "grid_row": null,
            "max_height": null,
            "align_content": null,
            "visibility": null,
            "align_self": null,
            "height": null,
            "min_height": null,
            "padding": null,
            "grid_auto_rows": null,
            "grid_gap": null,
            "max_width": null,
            "order": null,
            "_view_module_version": "1.2.0",
            "grid_template_areas": null,
            "object_position": null,
            "object_fit": null,
            "grid_auto_columns": null,
            "margin": null,
            "display": null,
            "left": null
          }
        },
        "3de33cf78485471e86f113a55e0eb83a": {
          "model_module": "@jupyter-widgets/controls",
          "model_name": "LabelModel",
          "state": {
            "_view_name": "LabelView",
            "style": "IPY_MODEL_2ac377d0ac71420098113bad5a784a42",
            "_dom_classes": [],
            "description": "",
            "_model_name": "LabelModel",
            "placeholder": "​",
            "_view_module": "@jupyter-widgets/controls",
            "_model_module_version": "1.5.0",
            "value": " 0.89MB of 0.89MB uploaded (0.00MB deduped)\r",
            "_view_count": null,
            "_view_module_version": "1.5.0",
            "description_tooltip": null,
            "_model_module": "@jupyter-widgets/controls",
            "layout": "IPY_MODEL_381058a5f9bb4c14ad01478776ff07c8"
          }
        },
        "f7a1c4e96bb142869a985873b4821175": {
          "model_module": "@jupyter-widgets/controls",
          "model_name": "FloatProgressModel",
          "state": {
            "_view_name": "ProgressView",
            "style": "IPY_MODEL_512ee933efc345938429bcf249e8c134",
            "_dom_classes": [],
            "description": "",
            "_model_name": "FloatProgressModel",
            "bar_style": "",
            "max": 1,
            "_view_module": "@jupyter-widgets/controls",
            "_model_module_version": "1.5.0",
            "value": 1,
            "_view_count": null,
            "_view_module_version": "1.5.0",
            "orientation": "horizontal",
            "min": 0,
            "description_tooltip": null,
            "_model_module": "@jupyter-widgets/controls",
            "layout": "IPY_MODEL_2d1781191db74d418dd96058ad6db446"
          }
        },
        "2ac377d0ac71420098113bad5a784a42": {
          "model_module": "@jupyter-widgets/controls",
          "model_name": "DescriptionStyleModel",
          "state": {
            "_view_name": "StyleView",
            "_model_name": "DescriptionStyleModel",
            "description_width": "",
            "_view_module": "@jupyter-widgets/base",
            "_model_module_version": "1.5.0",
            "_view_count": null,
            "_view_module_version": "1.2.0",
            "_model_module": "@jupyter-widgets/controls"
          }
        },
        "381058a5f9bb4c14ad01478776ff07c8": {
          "model_module": "@jupyter-widgets/base",
          "model_name": "LayoutModel",
          "state": {
            "_view_name": "LayoutView",
            "grid_template_rows": null,
            "right": null,
            "justify_content": null,
            "_view_module": "@jupyter-widgets/base",
            "overflow": null,
            "_model_module_version": "1.2.0",
            "_view_count": null,
            "flex_flow": null,
            "width": null,
            "min_width": null,
            "border": null,
            "align_items": null,
            "bottom": null,
            "_model_module": "@jupyter-widgets/base",
            "top": null,
            "grid_column": null,
            "overflow_y": null,
            "overflow_x": null,
            "grid_auto_flow": null,
            "grid_area": null,
            "grid_template_columns": null,
            "flex": null,
            "_model_name": "LayoutModel",
            "justify_items": null,
            "grid_row": null,
            "max_height": null,
            "align_content": null,
            "visibility": null,
            "align_self": null,
            "height": null,
            "min_height": null,
            "padding": null,
            "grid_auto_rows": null,
            "grid_gap": null,
            "max_width": null,
            "order": null,
            "_view_module_version": "1.2.0",
            "grid_template_areas": null,
            "object_position": null,
            "object_fit": null,
            "grid_auto_columns": null,
            "margin": null,
            "display": null,
            "left": null
          }
        },
        "512ee933efc345938429bcf249e8c134": {
          "model_module": "@jupyter-widgets/controls",
          "model_name": "ProgressStyleModel",
          "state": {
            "_view_name": "StyleView",
            "_model_name": "ProgressStyleModel",
            "description_width": "",
            "_view_module": "@jupyter-widgets/base",
            "_model_module_version": "1.5.0",
            "_view_count": null,
            "_view_module_version": "1.2.0",
            "bar_color": null,
            "_model_module": "@jupyter-widgets/controls"
          }
        },
        "2d1781191db74d418dd96058ad6db446": {
          "model_module": "@jupyter-widgets/base",
          "model_name": "LayoutModel",
          "state": {
            "_view_name": "LayoutView",
            "grid_template_rows": null,
            "right": null,
            "justify_content": null,
            "_view_module": "@jupyter-widgets/base",
            "overflow": null,
            "_model_module_version": "1.2.0",
            "_view_count": null,
            "flex_flow": null,
            "width": null,
            "min_width": null,
            "border": null,
            "align_items": null,
            "bottom": null,
            "_model_module": "@jupyter-widgets/base",
            "top": null,
            "grid_column": null,
            "overflow_y": null,
            "overflow_x": null,
            "grid_auto_flow": null,
            "grid_area": null,
            "grid_template_columns": null,
            "flex": null,
            "_model_name": "LayoutModel",
            "justify_items": null,
            "grid_row": null,
            "max_height": null,
            "align_content": null,
            "visibility": null,
            "align_self": null,
            "height": null,
            "min_height": null,
            "padding": null,
            "grid_auto_rows": null,
            "grid_gap": null,
            "max_width": null,
            "order": null,
            "_view_module_version": "1.2.0",
            "grid_template_areas": null,
            "object_position": null,
            "object_fit": null,
            "grid_auto_columns": null,
            "margin": null,
            "display": null,
            "left": null
          }
        },
        "5d4b38c89b5248d8af6afabf00406c6e": {
          "model_module": "@jupyter-widgets/controls",
          "model_name": "VBoxModel",
          "state": {
            "_view_name": "VBoxView",
            "_dom_classes": [],
            "_model_name": "VBoxModel",
            "_view_module": "@jupyter-widgets/controls",
            "_model_module_version": "1.5.0",
            "_view_count": null,
            "_view_module_version": "1.5.0",
            "box_style": "",
            "layout": "IPY_MODEL_06b5e7706ff8494f8cb9ae59e2bf5fdf",
            "_model_module": "@jupyter-widgets/controls",
            "children": [
              "IPY_MODEL_5101dcf7727f4d21be7f2c5125dd3abd",
              "IPY_MODEL_28e686a99dbe47bf85f12ea48ea8e8b5"
            ]
          }
        },
        "06b5e7706ff8494f8cb9ae59e2bf5fdf": {
          "model_module": "@jupyter-widgets/base",
          "model_name": "LayoutModel",
          "state": {
            "_view_name": "LayoutView",
            "grid_template_rows": null,
            "right": null,
            "justify_content": null,
            "_view_module": "@jupyter-widgets/base",
            "overflow": null,
            "_model_module_version": "1.2.0",
            "_view_count": null,
            "flex_flow": null,
            "width": null,
            "min_width": null,
            "border": null,
            "align_items": null,
            "bottom": null,
            "_model_module": "@jupyter-widgets/base",
            "top": null,
            "grid_column": null,
            "overflow_y": null,
            "overflow_x": null,
            "grid_auto_flow": null,
            "grid_area": null,
            "grid_template_columns": null,
            "flex": null,
            "_model_name": "LayoutModel",
            "justify_items": null,
            "grid_row": null,
            "max_height": null,
            "align_content": null,
            "visibility": null,
            "align_self": null,
            "height": null,
            "min_height": null,
            "padding": null,
            "grid_auto_rows": null,
            "grid_gap": null,
            "max_width": null,
            "order": null,
            "_view_module_version": "1.2.0",
            "grid_template_areas": null,
            "object_position": null,
            "object_fit": null,
            "grid_auto_columns": null,
            "margin": null,
            "display": null,
            "left": null
          }
        },
        "5101dcf7727f4d21be7f2c5125dd3abd": {
          "model_module": "@jupyter-widgets/controls",
          "model_name": "LabelModel",
          "state": {
            "_view_name": "LabelView",
            "style": "IPY_MODEL_ceac3b5955024bce9c22d8a25391ef14",
            "_dom_classes": [],
            "description": "",
            "_model_name": "LabelModel",
            "placeholder": "​",
            "_view_module": "@jupyter-widgets/controls",
            "_model_module_version": "1.5.0",
            "value": " 0.90MB of 0.90MB uploaded (0.00MB deduped)\r",
            "_view_count": null,
            "_view_module_version": "1.5.0",
            "description_tooltip": null,
            "_model_module": "@jupyter-widgets/controls",
            "layout": "IPY_MODEL_ee83363316eb4ac78be0e45fddd0feb0"
          }
        },
        "28e686a99dbe47bf85f12ea48ea8e8b5": {
          "model_module": "@jupyter-widgets/controls",
          "model_name": "FloatProgressModel",
          "state": {
            "_view_name": "ProgressView",
            "style": "IPY_MODEL_ac74d70c6c30425ca930f66442cba84e",
            "_dom_classes": [],
            "description": "",
            "_model_name": "FloatProgressModel",
            "bar_style": "",
            "max": 1,
            "_view_module": "@jupyter-widgets/controls",
            "_model_module_version": "1.5.0",
            "value": 1,
            "_view_count": null,
            "_view_module_version": "1.5.0",
            "orientation": "horizontal",
            "min": 0,
            "description_tooltip": null,
            "_model_module": "@jupyter-widgets/controls",
            "layout": "IPY_MODEL_650dd01d2cc54572824c6217686f031a"
          }
        },
        "ceac3b5955024bce9c22d8a25391ef14": {
          "model_module": "@jupyter-widgets/controls",
          "model_name": "DescriptionStyleModel",
          "state": {
            "_view_name": "StyleView",
            "_model_name": "DescriptionStyleModel",
            "description_width": "",
            "_view_module": "@jupyter-widgets/base",
            "_model_module_version": "1.5.0",
            "_view_count": null,
            "_view_module_version": "1.2.0",
            "_model_module": "@jupyter-widgets/controls"
          }
        },
        "ee83363316eb4ac78be0e45fddd0feb0": {
          "model_module": "@jupyter-widgets/base",
          "model_name": "LayoutModel",
          "state": {
            "_view_name": "LayoutView",
            "grid_template_rows": null,
            "right": null,
            "justify_content": null,
            "_view_module": "@jupyter-widgets/base",
            "overflow": null,
            "_model_module_version": "1.2.0",
            "_view_count": null,
            "flex_flow": null,
            "width": null,
            "min_width": null,
            "border": null,
            "align_items": null,
            "bottom": null,
            "_model_module": "@jupyter-widgets/base",
            "top": null,
            "grid_column": null,
            "overflow_y": null,
            "overflow_x": null,
            "grid_auto_flow": null,
            "grid_area": null,
            "grid_template_columns": null,
            "flex": null,
            "_model_name": "LayoutModel",
            "justify_items": null,
            "grid_row": null,
            "max_height": null,
            "align_content": null,
            "visibility": null,
            "align_self": null,
            "height": null,
            "min_height": null,
            "padding": null,
            "grid_auto_rows": null,
            "grid_gap": null,
            "max_width": null,
            "order": null,
            "_view_module_version": "1.2.0",
            "grid_template_areas": null,
            "object_position": null,
            "object_fit": null,
            "grid_auto_columns": null,
            "margin": null,
            "display": null,
            "left": null
          }
        },
        "ac74d70c6c30425ca930f66442cba84e": {
          "model_module": "@jupyter-widgets/controls",
          "model_name": "ProgressStyleModel",
          "state": {
            "_view_name": "StyleView",
            "_model_name": "ProgressStyleModel",
            "description_width": "",
            "_view_module": "@jupyter-widgets/base",
            "_model_module_version": "1.5.0",
            "_view_count": null,
            "_view_module_version": "1.2.0",
            "bar_color": null,
            "_model_module": "@jupyter-widgets/controls"
          }
        },
        "650dd01d2cc54572824c6217686f031a": {
          "model_module": "@jupyter-widgets/base",
          "model_name": "LayoutModel",
          "state": {
            "_view_name": "LayoutView",
            "grid_template_rows": null,
            "right": null,
            "justify_content": null,
            "_view_module": "@jupyter-widgets/base",
            "overflow": null,
            "_model_module_version": "1.2.0",
            "_view_count": null,
            "flex_flow": null,
            "width": null,
            "min_width": null,
            "border": null,
            "align_items": null,
            "bottom": null,
            "_model_module": "@jupyter-widgets/base",
            "top": null,
            "grid_column": null,
            "overflow_y": null,
            "overflow_x": null,
            "grid_auto_flow": null,
            "grid_area": null,
            "grid_template_columns": null,
            "flex": null,
            "_model_name": "LayoutModel",
            "justify_items": null,
            "grid_row": null,
            "max_height": null,
            "align_content": null,
            "visibility": null,
            "align_self": null,
            "height": null,
            "min_height": null,
            "padding": null,
            "grid_auto_rows": null,
            "grid_gap": null,
            "max_width": null,
            "order": null,
            "_view_module_version": "1.2.0",
            "grid_template_areas": null,
            "object_position": null,
            "object_fit": null,
            "grid_auto_columns": null,
            "margin": null,
            "display": null,
            "left": null
          }
        },
        "c4ef86052a2e4b2ba5be121f222a5e40": {
          "model_module": "@jupyter-widgets/controls",
          "model_name": "VBoxModel",
          "state": {
            "_view_name": "VBoxView",
            "_dom_classes": [],
            "_model_name": "VBoxModel",
            "_view_module": "@jupyter-widgets/controls",
            "_model_module_version": "1.5.0",
            "_view_count": null,
            "_view_module_version": "1.5.0",
            "box_style": "",
            "layout": "IPY_MODEL_16966680c2474b088ff5035f6e889702",
            "_model_module": "@jupyter-widgets/controls",
            "children": [
              "IPY_MODEL_01e8cb0a4cf54ab98bea9a88fc4330c8",
              "IPY_MODEL_6b2154ae10c945ba819b05c2a7d0e989"
            ]
          }
        },
        "16966680c2474b088ff5035f6e889702": {
          "model_module": "@jupyter-widgets/base",
          "model_name": "LayoutModel",
          "state": {
            "_view_name": "LayoutView",
            "grid_template_rows": null,
            "right": null,
            "justify_content": null,
            "_view_module": "@jupyter-widgets/base",
            "overflow": null,
            "_model_module_version": "1.2.0",
            "_view_count": null,
            "flex_flow": null,
            "width": null,
            "min_width": null,
            "border": null,
            "align_items": null,
            "bottom": null,
            "_model_module": "@jupyter-widgets/base",
            "top": null,
            "grid_column": null,
            "overflow_y": null,
            "overflow_x": null,
            "grid_auto_flow": null,
            "grid_area": null,
            "grid_template_columns": null,
            "flex": null,
            "_model_name": "LayoutModel",
            "justify_items": null,
            "grid_row": null,
            "max_height": null,
            "align_content": null,
            "visibility": null,
            "align_self": null,
            "height": null,
            "min_height": null,
            "padding": null,
            "grid_auto_rows": null,
            "grid_gap": null,
            "max_width": null,
            "order": null,
            "_view_module_version": "1.2.0",
            "grid_template_areas": null,
            "object_position": null,
            "object_fit": null,
            "grid_auto_columns": null,
            "margin": null,
            "display": null,
            "left": null
          }
        },
        "01e8cb0a4cf54ab98bea9a88fc4330c8": {
          "model_module": "@jupyter-widgets/controls",
          "model_name": "LabelModel",
          "state": {
            "_view_name": "LabelView",
            "style": "IPY_MODEL_675f14b529274dbb99208b138f74d2b3",
            "_dom_classes": [],
            "description": "",
            "_model_name": "LabelModel",
            "placeholder": "​",
            "_view_module": "@jupyter-widgets/controls",
            "_model_module_version": "1.5.0",
            "value": " 0.92MB of 0.92MB uploaded (0.00MB deduped)\r",
            "_view_count": null,
            "_view_module_version": "1.5.0",
            "description_tooltip": null,
            "_model_module": "@jupyter-widgets/controls",
            "layout": "IPY_MODEL_a124f5bd6859471fbee5366b5c5108d8"
          }
        },
        "6b2154ae10c945ba819b05c2a7d0e989": {
          "model_module": "@jupyter-widgets/controls",
          "model_name": "FloatProgressModel",
          "state": {
            "_view_name": "ProgressView",
            "style": "IPY_MODEL_f354dd36144644a1bf4d1687633464d9",
            "_dom_classes": [],
            "description": "",
            "_model_name": "FloatProgressModel",
            "bar_style": "",
            "max": 1,
            "_view_module": "@jupyter-widgets/controls",
            "_model_module_version": "1.5.0",
            "value": 1,
            "_view_count": null,
            "_view_module_version": "1.5.0",
            "orientation": "horizontal",
            "min": 0,
            "description_tooltip": null,
            "_model_module": "@jupyter-widgets/controls",
            "layout": "IPY_MODEL_45fa669daa2949f0b662ba7feade31fb"
          }
        },
        "675f14b529274dbb99208b138f74d2b3": {
          "model_module": "@jupyter-widgets/controls",
          "model_name": "DescriptionStyleModel",
          "state": {
            "_view_name": "StyleView",
            "_model_name": "DescriptionStyleModel",
            "description_width": "",
            "_view_module": "@jupyter-widgets/base",
            "_model_module_version": "1.5.0",
            "_view_count": null,
            "_view_module_version": "1.2.0",
            "_model_module": "@jupyter-widgets/controls"
          }
        },
        "a124f5bd6859471fbee5366b5c5108d8": {
          "model_module": "@jupyter-widgets/base",
          "model_name": "LayoutModel",
          "state": {
            "_view_name": "LayoutView",
            "grid_template_rows": null,
            "right": null,
            "justify_content": null,
            "_view_module": "@jupyter-widgets/base",
            "overflow": null,
            "_model_module_version": "1.2.0",
            "_view_count": null,
            "flex_flow": null,
            "width": null,
            "min_width": null,
            "border": null,
            "align_items": null,
            "bottom": null,
            "_model_module": "@jupyter-widgets/base",
            "top": null,
            "grid_column": null,
            "overflow_y": null,
            "overflow_x": null,
            "grid_auto_flow": null,
            "grid_area": null,
            "grid_template_columns": null,
            "flex": null,
            "_model_name": "LayoutModel",
            "justify_items": null,
            "grid_row": null,
            "max_height": null,
            "align_content": null,
            "visibility": null,
            "align_self": null,
            "height": null,
            "min_height": null,
            "padding": null,
            "grid_auto_rows": null,
            "grid_gap": null,
            "max_width": null,
            "order": null,
            "_view_module_version": "1.2.0",
            "grid_template_areas": null,
            "object_position": null,
            "object_fit": null,
            "grid_auto_columns": null,
            "margin": null,
            "display": null,
            "left": null
          }
        },
        "f354dd36144644a1bf4d1687633464d9": {
          "model_module": "@jupyter-widgets/controls",
          "model_name": "ProgressStyleModel",
          "state": {
            "_view_name": "StyleView",
            "_model_name": "ProgressStyleModel",
            "description_width": "",
            "_view_module": "@jupyter-widgets/base",
            "_model_module_version": "1.5.0",
            "_view_count": null,
            "_view_module_version": "1.2.0",
            "bar_color": null,
            "_model_module": "@jupyter-widgets/controls"
          }
        },
        "45fa669daa2949f0b662ba7feade31fb": {
          "model_module": "@jupyter-widgets/base",
          "model_name": "LayoutModel",
          "state": {
            "_view_name": "LayoutView",
            "grid_template_rows": null,
            "right": null,
            "justify_content": null,
            "_view_module": "@jupyter-widgets/base",
            "overflow": null,
            "_model_module_version": "1.2.0",
            "_view_count": null,
            "flex_flow": null,
            "width": null,
            "min_width": null,
            "border": null,
            "align_items": null,
            "bottom": null,
            "_model_module": "@jupyter-widgets/base",
            "top": null,
            "grid_column": null,
            "overflow_y": null,
            "overflow_x": null,
            "grid_auto_flow": null,
            "grid_area": null,
            "grid_template_columns": null,
            "flex": null,
            "_model_name": "LayoutModel",
            "justify_items": null,
            "grid_row": null,
            "max_height": null,
            "align_content": null,
            "visibility": null,
            "align_self": null,
            "height": null,
            "min_height": null,
            "padding": null,
            "grid_auto_rows": null,
            "grid_gap": null,
            "max_width": null,
            "order": null,
            "_view_module_version": "1.2.0",
            "grid_template_areas": null,
            "object_position": null,
            "object_fit": null,
            "grid_auto_columns": null,
            "margin": null,
            "display": null,
            "left": null
          }
        },
        "13c0ff3ed4204b62b11c9149998d3a37": {
          "model_module": "@jupyter-widgets/controls",
          "model_name": "VBoxModel",
          "state": {
            "_view_name": "VBoxView",
            "_dom_classes": [],
            "_model_name": "VBoxModel",
            "_view_module": "@jupyter-widgets/controls",
            "_model_module_version": "1.5.0",
            "_view_count": null,
            "_view_module_version": "1.5.0",
            "box_style": "",
            "layout": "IPY_MODEL_769d80c6c5a249738c45d396d557c544",
            "_model_module": "@jupyter-widgets/controls",
            "children": [
              "IPY_MODEL_e3ac3f9dcf73491d9ac7b64235812fc2",
              "IPY_MODEL_e7bf9ae562914c7c8b58005933971d74"
            ]
          }
        },
        "769d80c6c5a249738c45d396d557c544": {
          "model_module": "@jupyter-widgets/base",
          "model_name": "LayoutModel",
          "state": {
            "_view_name": "LayoutView",
            "grid_template_rows": null,
            "right": null,
            "justify_content": null,
            "_view_module": "@jupyter-widgets/base",
            "overflow": null,
            "_model_module_version": "1.2.0",
            "_view_count": null,
            "flex_flow": null,
            "width": null,
            "min_width": null,
            "border": null,
            "align_items": null,
            "bottom": null,
            "_model_module": "@jupyter-widgets/base",
            "top": null,
            "grid_column": null,
            "overflow_y": null,
            "overflow_x": null,
            "grid_auto_flow": null,
            "grid_area": null,
            "grid_template_columns": null,
            "flex": null,
            "_model_name": "LayoutModel",
            "justify_items": null,
            "grid_row": null,
            "max_height": null,
            "align_content": null,
            "visibility": null,
            "align_self": null,
            "height": null,
            "min_height": null,
            "padding": null,
            "grid_auto_rows": null,
            "grid_gap": null,
            "max_width": null,
            "order": null,
            "_view_module_version": "1.2.0",
            "grid_template_areas": null,
            "object_position": null,
            "object_fit": null,
            "grid_auto_columns": null,
            "margin": null,
            "display": null,
            "left": null
          }
        },
        "e3ac3f9dcf73491d9ac7b64235812fc2": {
          "model_module": "@jupyter-widgets/controls",
          "model_name": "LabelModel",
          "state": {
            "_view_name": "LabelView",
            "style": "IPY_MODEL_9d1f6468fce4461da53b78c55dc7ec15",
            "_dom_classes": [],
            "description": "",
            "_model_name": "LabelModel",
            "placeholder": "​",
            "_view_module": "@jupyter-widgets/controls",
            "_model_module_version": "1.5.0",
            "value": " 0.93MB of 0.93MB uploaded (0.00MB deduped)\r",
            "_view_count": null,
            "_view_module_version": "1.5.0",
            "description_tooltip": null,
            "_model_module": "@jupyter-widgets/controls",
            "layout": "IPY_MODEL_62f03fe1fa6648b5ac5c0106491b0eb5"
          }
        },
        "e7bf9ae562914c7c8b58005933971d74": {
          "model_module": "@jupyter-widgets/controls",
          "model_name": "FloatProgressModel",
          "state": {
            "_view_name": "ProgressView",
            "style": "IPY_MODEL_6de3a34dae304f3fa54ed4f05bd43c56",
            "_dom_classes": [],
            "description": "",
            "_model_name": "FloatProgressModel",
            "bar_style": "",
            "max": 1,
            "_view_module": "@jupyter-widgets/controls",
            "_model_module_version": "1.5.0",
            "value": 1,
            "_view_count": null,
            "_view_module_version": "1.5.0",
            "orientation": "horizontal",
            "min": 0,
            "description_tooltip": null,
            "_model_module": "@jupyter-widgets/controls",
            "layout": "IPY_MODEL_041fb8d7c10f487d92c20ac2ac917760"
          }
        },
        "9d1f6468fce4461da53b78c55dc7ec15": {
          "model_module": "@jupyter-widgets/controls",
          "model_name": "DescriptionStyleModel",
          "state": {
            "_view_name": "StyleView",
            "_model_name": "DescriptionStyleModel",
            "description_width": "",
            "_view_module": "@jupyter-widgets/base",
            "_model_module_version": "1.5.0",
            "_view_count": null,
            "_view_module_version": "1.2.0",
            "_model_module": "@jupyter-widgets/controls"
          }
        },
        "62f03fe1fa6648b5ac5c0106491b0eb5": {
          "model_module": "@jupyter-widgets/base",
          "model_name": "LayoutModel",
          "state": {
            "_view_name": "LayoutView",
            "grid_template_rows": null,
            "right": null,
            "justify_content": null,
            "_view_module": "@jupyter-widgets/base",
            "overflow": null,
            "_model_module_version": "1.2.0",
            "_view_count": null,
            "flex_flow": null,
            "width": null,
            "min_width": null,
            "border": null,
            "align_items": null,
            "bottom": null,
            "_model_module": "@jupyter-widgets/base",
            "top": null,
            "grid_column": null,
            "overflow_y": null,
            "overflow_x": null,
            "grid_auto_flow": null,
            "grid_area": null,
            "grid_template_columns": null,
            "flex": null,
            "_model_name": "LayoutModel",
            "justify_items": null,
            "grid_row": null,
            "max_height": null,
            "align_content": null,
            "visibility": null,
            "align_self": null,
            "height": null,
            "min_height": null,
            "padding": null,
            "grid_auto_rows": null,
            "grid_gap": null,
            "max_width": null,
            "order": null,
            "_view_module_version": "1.2.0",
            "grid_template_areas": null,
            "object_position": null,
            "object_fit": null,
            "grid_auto_columns": null,
            "margin": null,
            "display": null,
            "left": null
          }
        },
        "6de3a34dae304f3fa54ed4f05bd43c56": {
          "model_module": "@jupyter-widgets/controls",
          "model_name": "ProgressStyleModel",
          "state": {
            "_view_name": "StyleView",
            "_model_name": "ProgressStyleModel",
            "description_width": "",
            "_view_module": "@jupyter-widgets/base",
            "_model_module_version": "1.5.0",
            "_view_count": null,
            "_view_module_version": "1.2.0",
            "bar_color": null,
            "_model_module": "@jupyter-widgets/controls"
          }
        },
        "041fb8d7c10f487d92c20ac2ac917760": {
          "model_module": "@jupyter-widgets/base",
          "model_name": "LayoutModel",
          "state": {
            "_view_name": "LayoutView",
            "grid_template_rows": null,
            "right": null,
            "justify_content": null,
            "_view_module": "@jupyter-widgets/base",
            "overflow": null,
            "_model_module_version": "1.2.0",
            "_view_count": null,
            "flex_flow": null,
            "width": null,
            "min_width": null,
            "border": null,
            "align_items": null,
            "bottom": null,
            "_model_module": "@jupyter-widgets/base",
            "top": null,
            "grid_column": null,
            "overflow_y": null,
            "overflow_x": null,
            "grid_auto_flow": null,
            "grid_area": null,
            "grid_template_columns": null,
            "flex": null,
            "_model_name": "LayoutModel",
            "justify_items": null,
            "grid_row": null,
            "max_height": null,
            "align_content": null,
            "visibility": null,
            "align_self": null,
            "height": null,
            "min_height": null,
            "padding": null,
            "grid_auto_rows": null,
            "grid_gap": null,
            "max_width": null,
            "order": null,
            "_view_module_version": "1.2.0",
            "grid_template_areas": null,
            "object_position": null,
            "object_fit": null,
            "grid_auto_columns": null,
            "margin": null,
            "display": null,
            "left": null
          }
        },
        "f61e43f74d80420b977993371396aa47": {
          "model_module": "@jupyter-widgets/controls",
          "model_name": "VBoxModel",
          "state": {
            "_view_name": "VBoxView",
            "_dom_classes": [],
            "_model_name": "VBoxModel",
            "_view_module": "@jupyter-widgets/controls",
            "_model_module_version": "1.5.0",
            "_view_count": null,
            "_view_module_version": "1.5.0",
            "box_style": "",
            "layout": "IPY_MODEL_726738dc94bb4ce0bbc84f2dd3968545",
            "_model_module": "@jupyter-widgets/controls",
            "children": [
              "IPY_MODEL_f230a3b223c94198b986a9927958b2ce",
              "IPY_MODEL_493bac68ea3b4936a4dce4cbc8f09d10"
            ]
          }
        },
        "726738dc94bb4ce0bbc84f2dd3968545": {
          "model_module": "@jupyter-widgets/base",
          "model_name": "LayoutModel",
          "state": {
            "_view_name": "LayoutView",
            "grid_template_rows": null,
            "right": null,
            "justify_content": null,
            "_view_module": "@jupyter-widgets/base",
            "overflow": null,
            "_model_module_version": "1.2.0",
            "_view_count": null,
            "flex_flow": null,
            "width": null,
            "min_width": null,
            "border": null,
            "align_items": null,
            "bottom": null,
            "_model_module": "@jupyter-widgets/base",
            "top": null,
            "grid_column": null,
            "overflow_y": null,
            "overflow_x": null,
            "grid_auto_flow": null,
            "grid_area": null,
            "grid_template_columns": null,
            "flex": null,
            "_model_name": "LayoutModel",
            "justify_items": null,
            "grid_row": null,
            "max_height": null,
            "align_content": null,
            "visibility": null,
            "align_self": null,
            "height": null,
            "min_height": null,
            "padding": null,
            "grid_auto_rows": null,
            "grid_gap": null,
            "max_width": null,
            "order": null,
            "_view_module_version": "1.2.0",
            "grid_template_areas": null,
            "object_position": null,
            "object_fit": null,
            "grid_auto_columns": null,
            "margin": null,
            "display": null,
            "left": null
          }
        },
        "f230a3b223c94198b986a9927958b2ce": {
          "model_module": "@jupyter-widgets/controls",
          "model_name": "LabelModel",
          "state": {
            "_view_name": "LabelView",
            "style": "IPY_MODEL_5b4d72b8275445d781f9905b9ed2f890",
            "_dom_classes": [],
            "description": "",
            "_model_name": "LabelModel",
            "placeholder": "​",
            "_view_module": "@jupyter-widgets/controls",
            "_model_module_version": "1.5.0",
            "value": " 0.94MB of 0.94MB uploaded (0.00MB deduped)\r",
            "_view_count": null,
            "_view_module_version": "1.5.0",
            "description_tooltip": null,
            "_model_module": "@jupyter-widgets/controls",
            "layout": "IPY_MODEL_b07afa0c5a8144cdb51c6f518fdd0871"
          }
        },
        "493bac68ea3b4936a4dce4cbc8f09d10": {
          "model_module": "@jupyter-widgets/controls",
          "model_name": "FloatProgressModel",
          "state": {
            "_view_name": "ProgressView",
            "style": "IPY_MODEL_6cd11ad4d3314bcba3cc528ebdbcc59c",
            "_dom_classes": [],
            "description": "",
            "_model_name": "FloatProgressModel",
            "bar_style": "",
            "max": 1,
            "_view_module": "@jupyter-widgets/controls",
            "_model_module_version": "1.5.0",
            "value": 1,
            "_view_count": null,
            "_view_module_version": "1.5.0",
            "orientation": "horizontal",
            "min": 0,
            "description_tooltip": null,
            "_model_module": "@jupyter-widgets/controls",
            "layout": "IPY_MODEL_17c659cb43f44874b115df9d223efb75"
          }
        },
        "5b4d72b8275445d781f9905b9ed2f890": {
          "model_module": "@jupyter-widgets/controls",
          "model_name": "DescriptionStyleModel",
          "state": {
            "_view_name": "StyleView",
            "_model_name": "DescriptionStyleModel",
            "description_width": "",
            "_view_module": "@jupyter-widgets/base",
            "_model_module_version": "1.5.0",
            "_view_count": null,
            "_view_module_version": "1.2.0",
            "_model_module": "@jupyter-widgets/controls"
          }
        },
        "b07afa0c5a8144cdb51c6f518fdd0871": {
          "model_module": "@jupyter-widgets/base",
          "model_name": "LayoutModel",
          "state": {
            "_view_name": "LayoutView",
            "grid_template_rows": null,
            "right": null,
            "justify_content": null,
            "_view_module": "@jupyter-widgets/base",
            "overflow": null,
            "_model_module_version": "1.2.0",
            "_view_count": null,
            "flex_flow": null,
            "width": null,
            "min_width": null,
            "border": null,
            "align_items": null,
            "bottom": null,
            "_model_module": "@jupyter-widgets/base",
            "top": null,
            "grid_column": null,
            "overflow_y": null,
            "overflow_x": null,
            "grid_auto_flow": null,
            "grid_area": null,
            "grid_template_columns": null,
            "flex": null,
            "_model_name": "LayoutModel",
            "justify_items": null,
            "grid_row": null,
            "max_height": null,
            "align_content": null,
            "visibility": null,
            "align_self": null,
            "height": null,
            "min_height": null,
            "padding": null,
            "grid_auto_rows": null,
            "grid_gap": null,
            "max_width": null,
            "order": null,
            "_view_module_version": "1.2.0",
            "grid_template_areas": null,
            "object_position": null,
            "object_fit": null,
            "grid_auto_columns": null,
            "margin": null,
            "display": null,
            "left": null
          }
        },
        "6cd11ad4d3314bcba3cc528ebdbcc59c": {
          "model_module": "@jupyter-widgets/controls",
          "model_name": "ProgressStyleModel",
          "state": {
            "_view_name": "StyleView",
            "_model_name": "ProgressStyleModel",
            "description_width": "",
            "_view_module": "@jupyter-widgets/base",
            "_model_module_version": "1.5.0",
            "_view_count": null,
            "_view_module_version": "1.2.0",
            "bar_color": null,
            "_model_module": "@jupyter-widgets/controls"
          }
        },
        "17c659cb43f44874b115df9d223efb75": {
          "model_module": "@jupyter-widgets/base",
          "model_name": "LayoutModel",
          "state": {
            "_view_name": "LayoutView",
            "grid_template_rows": null,
            "right": null,
            "justify_content": null,
            "_view_module": "@jupyter-widgets/base",
            "overflow": null,
            "_model_module_version": "1.2.0",
            "_view_count": null,
            "flex_flow": null,
            "width": null,
            "min_width": null,
            "border": null,
            "align_items": null,
            "bottom": null,
            "_model_module": "@jupyter-widgets/base",
            "top": null,
            "grid_column": null,
            "overflow_y": null,
            "overflow_x": null,
            "grid_auto_flow": null,
            "grid_area": null,
            "grid_template_columns": null,
            "flex": null,
            "_model_name": "LayoutModel",
            "justify_items": null,
            "grid_row": null,
            "max_height": null,
            "align_content": null,
            "visibility": null,
            "align_self": null,
            "height": null,
            "min_height": null,
            "padding": null,
            "grid_auto_rows": null,
            "grid_gap": null,
            "max_width": null,
            "order": null,
            "_view_module_version": "1.2.0",
            "grid_template_areas": null,
            "object_position": null,
            "object_fit": null,
            "grid_auto_columns": null,
            "margin": null,
            "display": null,
            "left": null
          }
        },
        "98dfaada22744d1889f7e24bba6c5d42": {
          "model_module": "@jupyter-widgets/controls",
          "model_name": "VBoxModel",
          "state": {
            "_view_name": "VBoxView",
            "_dom_classes": [],
            "_model_name": "VBoxModel",
            "_view_module": "@jupyter-widgets/controls",
            "_model_module_version": "1.5.0",
            "_view_count": null,
            "_view_module_version": "1.5.0",
            "box_style": "",
            "layout": "IPY_MODEL_06693d83641740ad8cf2f73dce794e1b",
            "_model_module": "@jupyter-widgets/controls",
            "children": [
              "IPY_MODEL_ba35d052edcf4a6885bba628fd703182",
              "IPY_MODEL_9841ed00c58e4e19a49e9fee8e6c79f9"
            ]
          }
        },
        "06693d83641740ad8cf2f73dce794e1b": {
          "model_module": "@jupyter-widgets/base",
          "model_name": "LayoutModel",
          "state": {
            "_view_name": "LayoutView",
            "grid_template_rows": null,
            "right": null,
            "justify_content": null,
            "_view_module": "@jupyter-widgets/base",
            "overflow": null,
            "_model_module_version": "1.2.0",
            "_view_count": null,
            "flex_flow": null,
            "width": null,
            "min_width": null,
            "border": null,
            "align_items": null,
            "bottom": null,
            "_model_module": "@jupyter-widgets/base",
            "top": null,
            "grid_column": null,
            "overflow_y": null,
            "overflow_x": null,
            "grid_auto_flow": null,
            "grid_area": null,
            "grid_template_columns": null,
            "flex": null,
            "_model_name": "LayoutModel",
            "justify_items": null,
            "grid_row": null,
            "max_height": null,
            "align_content": null,
            "visibility": null,
            "align_self": null,
            "height": null,
            "min_height": null,
            "padding": null,
            "grid_auto_rows": null,
            "grid_gap": null,
            "max_width": null,
            "order": null,
            "_view_module_version": "1.2.0",
            "grid_template_areas": null,
            "object_position": null,
            "object_fit": null,
            "grid_auto_columns": null,
            "margin": null,
            "display": null,
            "left": null
          }
        },
        "ba35d052edcf4a6885bba628fd703182": {
          "model_module": "@jupyter-widgets/controls",
          "model_name": "LabelModel",
          "state": {
            "_view_name": "LabelView",
            "style": "IPY_MODEL_c7d780f261fd4b27821c16dda919ff4e",
            "_dom_classes": [],
            "description": "",
            "_model_name": "LabelModel",
            "placeholder": "​",
            "_view_module": "@jupyter-widgets/controls",
            "_model_module_version": "1.5.0",
            "value": " 0.96MB of 0.96MB uploaded (0.00MB deduped)\r",
            "_view_count": null,
            "_view_module_version": "1.5.0",
            "description_tooltip": null,
            "_model_module": "@jupyter-widgets/controls",
            "layout": "IPY_MODEL_0b0c6d8978fb4ee7b5f65f60d7f78e9e"
          }
        },
        "9841ed00c58e4e19a49e9fee8e6c79f9": {
          "model_module": "@jupyter-widgets/controls",
          "model_name": "FloatProgressModel",
          "state": {
            "_view_name": "ProgressView",
            "style": "IPY_MODEL_c6a37a7b6e2f4057be031b659bb45a17",
            "_dom_classes": [],
            "description": "",
            "_model_name": "FloatProgressModel",
            "bar_style": "",
            "max": 1,
            "_view_module": "@jupyter-widgets/controls",
            "_model_module_version": "1.5.0",
            "value": 1,
            "_view_count": null,
            "_view_module_version": "1.5.0",
            "orientation": "horizontal",
            "min": 0,
            "description_tooltip": null,
            "_model_module": "@jupyter-widgets/controls",
            "layout": "IPY_MODEL_0b268c481e944d3cae0bd0dd5035c5b7"
          }
        },
        "c7d780f261fd4b27821c16dda919ff4e": {
          "model_module": "@jupyter-widgets/controls",
          "model_name": "DescriptionStyleModel",
          "state": {
            "_view_name": "StyleView",
            "_model_name": "DescriptionStyleModel",
            "description_width": "",
            "_view_module": "@jupyter-widgets/base",
            "_model_module_version": "1.5.0",
            "_view_count": null,
            "_view_module_version": "1.2.0",
            "_model_module": "@jupyter-widgets/controls"
          }
        },
        "0b0c6d8978fb4ee7b5f65f60d7f78e9e": {
          "model_module": "@jupyter-widgets/base",
          "model_name": "LayoutModel",
          "state": {
            "_view_name": "LayoutView",
            "grid_template_rows": null,
            "right": null,
            "justify_content": null,
            "_view_module": "@jupyter-widgets/base",
            "overflow": null,
            "_model_module_version": "1.2.0",
            "_view_count": null,
            "flex_flow": null,
            "width": null,
            "min_width": null,
            "border": null,
            "align_items": null,
            "bottom": null,
            "_model_module": "@jupyter-widgets/base",
            "top": null,
            "grid_column": null,
            "overflow_y": null,
            "overflow_x": null,
            "grid_auto_flow": null,
            "grid_area": null,
            "grid_template_columns": null,
            "flex": null,
            "_model_name": "LayoutModel",
            "justify_items": null,
            "grid_row": null,
            "max_height": null,
            "align_content": null,
            "visibility": null,
            "align_self": null,
            "height": null,
            "min_height": null,
            "padding": null,
            "grid_auto_rows": null,
            "grid_gap": null,
            "max_width": null,
            "order": null,
            "_view_module_version": "1.2.0",
            "grid_template_areas": null,
            "object_position": null,
            "object_fit": null,
            "grid_auto_columns": null,
            "margin": null,
            "display": null,
            "left": null
          }
        },
        "c6a37a7b6e2f4057be031b659bb45a17": {
          "model_module": "@jupyter-widgets/controls",
          "model_name": "ProgressStyleModel",
          "state": {
            "_view_name": "StyleView",
            "_model_name": "ProgressStyleModel",
            "description_width": "",
            "_view_module": "@jupyter-widgets/base",
            "_model_module_version": "1.5.0",
            "_view_count": null,
            "_view_module_version": "1.2.0",
            "bar_color": null,
            "_model_module": "@jupyter-widgets/controls"
          }
        },
        "0b268c481e944d3cae0bd0dd5035c5b7": {
          "model_module": "@jupyter-widgets/base",
          "model_name": "LayoutModel",
          "state": {
            "_view_name": "LayoutView",
            "grid_template_rows": null,
            "right": null,
            "justify_content": null,
            "_view_module": "@jupyter-widgets/base",
            "overflow": null,
            "_model_module_version": "1.2.0",
            "_view_count": null,
            "flex_flow": null,
            "width": null,
            "min_width": null,
            "border": null,
            "align_items": null,
            "bottom": null,
            "_model_module": "@jupyter-widgets/base",
            "top": null,
            "grid_column": null,
            "overflow_y": null,
            "overflow_x": null,
            "grid_auto_flow": null,
            "grid_area": null,
            "grid_template_columns": null,
            "flex": null,
            "_model_name": "LayoutModel",
            "justify_items": null,
            "grid_row": null,
            "max_height": null,
            "align_content": null,
            "visibility": null,
            "align_self": null,
            "height": null,
            "min_height": null,
            "padding": null,
            "grid_auto_rows": null,
            "grid_gap": null,
            "max_width": null,
            "order": null,
            "_view_module_version": "1.2.0",
            "grid_template_areas": null,
            "object_position": null,
            "object_fit": null,
            "grid_auto_columns": null,
            "margin": null,
            "display": null,
            "left": null
          }
        },
        "95421f5e05124de3810aa5476ecca783": {
          "model_module": "@jupyter-widgets/controls",
          "model_name": "VBoxModel",
          "state": {
            "_view_name": "VBoxView",
            "_dom_classes": [],
            "_model_name": "VBoxModel",
            "_view_module": "@jupyter-widgets/controls",
            "_model_module_version": "1.5.0",
            "_view_count": null,
            "_view_module_version": "1.5.0",
            "box_style": "",
            "layout": "IPY_MODEL_482c6767a4094d5d80777049e81ab40f",
            "_model_module": "@jupyter-widgets/controls",
            "children": [
              "IPY_MODEL_2d642eebe3254540aa404f1829cf7a5c",
              "IPY_MODEL_e3b787d994a24125869caa02c25e17bd"
            ]
          }
        },
        "482c6767a4094d5d80777049e81ab40f": {
          "model_module": "@jupyter-widgets/base",
          "model_name": "LayoutModel",
          "state": {
            "_view_name": "LayoutView",
            "grid_template_rows": null,
            "right": null,
            "justify_content": null,
            "_view_module": "@jupyter-widgets/base",
            "overflow": null,
            "_model_module_version": "1.2.0",
            "_view_count": null,
            "flex_flow": null,
            "width": null,
            "min_width": null,
            "border": null,
            "align_items": null,
            "bottom": null,
            "_model_module": "@jupyter-widgets/base",
            "top": null,
            "grid_column": null,
            "overflow_y": null,
            "overflow_x": null,
            "grid_auto_flow": null,
            "grid_area": null,
            "grid_template_columns": null,
            "flex": null,
            "_model_name": "LayoutModel",
            "justify_items": null,
            "grid_row": null,
            "max_height": null,
            "align_content": null,
            "visibility": null,
            "align_self": null,
            "height": null,
            "min_height": null,
            "padding": null,
            "grid_auto_rows": null,
            "grid_gap": null,
            "max_width": null,
            "order": null,
            "_view_module_version": "1.2.0",
            "grid_template_areas": null,
            "object_position": null,
            "object_fit": null,
            "grid_auto_columns": null,
            "margin": null,
            "display": null,
            "left": null
          }
        },
        "2d642eebe3254540aa404f1829cf7a5c": {
          "model_module": "@jupyter-widgets/controls",
          "model_name": "LabelModel",
          "state": {
            "_view_name": "LabelView",
            "style": "IPY_MODEL_1a73b45c74604057a290618fb42a942c",
            "_dom_classes": [],
            "description": "",
            "_model_name": "LabelModel",
            "placeholder": "​",
            "_view_module": "@jupyter-widgets/controls",
            "_model_module_version": "1.5.0",
            "value": " 0.97MB of 0.97MB uploaded (0.00MB deduped)\r",
            "_view_count": null,
            "_view_module_version": "1.5.0",
            "description_tooltip": null,
            "_model_module": "@jupyter-widgets/controls",
            "layout": "IPY_MODEL_0c602452e2144249a841d47134b2bf4c"
          }
        },
        "e3b787d994a24125869caa02c25e17bd": {
          "model_module": "@jupyter-widgets/controls",
          "model_name": "FloatProgressModel",
          "state": {
            "_view_name": "ProgressView",
            "style": "IPY_MODEL_d679e083b2ed4f6f9bcb788a3ec6f4ac",
            "_dom_classes": [],
            "description": "",
            "_model_name": "FloatProgressModel",
            "bar_style": "",
            "max": 1,
            "_view_module": "@jupyter-widgets/controls",
            "_model_module_version": "1.5.0",
            "value": 1,
            "_view_count": null,
            "_view_module_version": "1.5.0",
            "orientation": "horizontal",
            "min": 0,
            "description_tooltip": null,
            "_model_module": "@jupyter-widgets/controls",
            "layout": "IPY_MODEL_163052db5a0a43a8873b6199fd15b40e"
          }
        },
        "1a73b45c74604057a290618fb42a942c": {
          "model_module": "@jupyter-widgets/controls",
          "model_name": "DescriptionStyleModel",
          "state": {
            "_view_name": "StyleView",
            "_model_name": "DescriptionStyleModel",
            "description_width": "",
            "_view_module": "@jupyter-widgets/base",
            "_model_module_version": "1.5.0",
            "_view_count": null,
            "_view_module_version": "1.2.0",
            "_model_module": "@jupyter-widgets/controls"
          }
        },
        "0c602452e2144249a841d47134b2bf4c": {
          "model_module": "@jupyter-widgets/base",
          "model_name": "LayoutModel",
          "state": {
            "_view_name": "LayoutView",
            "grid_template_rows": null,
            "right": null,
            "justify_content": null,
            "_view_module": "@jupyter-widgets/base",
            "overflow": null,
            "_model_module_version": "1.2.0",
            "_view_count": null,
            "flex_flow": null,
            "width": null,
            "min_width": null,
            "border": null,
            "align_items": null,
            "bottom": null,
            "_model_module": "@jupyter-widgets/base",
            "top": null,
            "grid_column": null,
            "overflow_y": null,
            "overflow_x": null,
            "grid_auto_flow": null,
            "grid_area": null,
            "grid_template_columns": null,
            "flex": null,
            "_model_name": "LayoutModel",
            "justify_items": null,
            "grid_row": null,
            "max_height": null,
            "align_content": null,
            "visibility": null,
            "align_self": null,
            "height": null,
            "min_height": null,
            "padding": null,
            "grid_auto_rows": null,
            "grid_gap": null,
            "max_width": null,
            "order": null,
            "_view_module_version": "1.2.0",
            "grid_template_areas": null,
            "object_position": null,
            "object_fit": null,
            "grid_auto_columns": null,
            "margin": null,
            "display": null,
            "left": null
          }
        },
        "d679e083b2ed4f6f9bcb788a3ec6f4ac": {
          "model_module": "@jupyter-widgets/controls",
          "model_name": "ProgressStyleModel",
          "state": {
            "_view_name": "StyleView",
            "_model_name": "ProgressStyleModel",
            "description_width": "",
            "_view_module": "@jupyter-widgets/base",
            "_model_module_version": "1.5.0",
            "_view_count": null,
            "_view_module_version": "1.2.0",
            "bar_color": null,
            "_model_module": "@jupyter-widgets/controls"
          }
        },
        "163052db5a0a43a8873b6199fd15b40e": {
          "model_module": "@jupyter-widgets/base",
          "model_name": "LayoutModel",
          "state": {
            "_view_name": "LayoutView",
            "grid_template_rows": null,
            "right": null,
            "justify_content": null,
            "_view_module": "@jupyter-widgets/base",
            "overflow": null,
            "_model_module_version": "1.2.0",
            "_view_count": null,
            "flex_flow": null,
            "width": null,
            "min_width": null,
            "border": null,
            "align_items": null,
            "bottom": null,
            "_model_module": "@jupyter-widgets/base",
            "top": null,
            "grid_column": null,
            "overflow_y": null,
            "overflow_x": null,
            "grid_auto_flow": null,
            "grid_area": null,
            "grid_template_columns": null,
            "flex": null,
            "_model_name": "LayoutModel",
            "justify_items": null,
            "grid_row": null,
            "max_height": null,
            "align_content": null,
            "visibility": null,
            "align_self": null,
            "height": null,
            "min_height": null,
            "padding": null,
            "grid_auto_rows": null,
            "grid_gap": null,
            "max_width": null,
            "order": null,
            "_view_module_version": "1.2.0",
            "grid_template_areas": null,
            "object_position": null,
            "object_fit": null,
            "grid_auto_columns": null,
            "margin": null,
            "display": null,
            "left": null
          }
        }
      }
    }
  },
  "cells": [
    {
      "cell_type": "markdown",
      "metadata": {
        "id": "W9wmDRf-dGq_"
      },
      "source": [
        "# Enable GPU"
      ]
    },
    {
      "cell_type": "code",
      "metadata": {
        "id": "RYM9-SGzc3I6"
      },
      "source": [
        "import torch\n",
        "device = torch.device('cuda:0' if torch.cuda.is_available else 'cpu')"
      ],
      "execution_count": 2,
      "outputs": []
    },
    {
      "cell_type": "markdown",
      "metadata": {
        "id": "fR3DiSPudIpo"
      },
      "source": [
        "# Actor and Critic Network\n",
        "\n"
      ]
    },
    {
      "cell_type": "code",
      "metadata": {
        "id": "n9Qa1P9rdEuG"
      },
      "source": [
        "import torch.nn as nn\n",
        "import torch.nn.functional as F\n",
        "from torch.distributions import Categorical\n",
        "\n",
        "class Actor_Net(nn.Module):\n",
        "  def __init__(self, input_dims, output_dims, num_neurons = 128):\n",
        "    super(Actor_Net, self).__init__()\n",
        "    self.fc1 = nn.Linear(input_dims, num_neurons)\n",
        "    self.actor = nn.Linear(num_neurons, output_dims)\n",
        "    self.log_probs = []\n",
        "    self.entropies = []\n",
        "\n",
        "  def forward(self, state):\n",
        "    x = F.relu(self.fc1(state))\n",
        "    x = F.softmax(self.actor(x), dim = 1)\n",
        "\n",
        "    return x\n",
        "\n",
        "  def get_action(self, state):\n",
        "    with torch.no_grad():\n",
        "      probs = self.forward(state)\n",
        "      dist = Categorical(probs = probs)\n",
        "      action = dist.sample()\n",
        "    return action\n",
        "  \n",
        "  def eval_action(self, state):\n",
        "    probs = self.forward(state)\n",
        "    dist = Categorical(probs = probs)\n",
        "    action = dist.sample().to(device)\n",
        "    log_prob = dist.log_prob(action)\n",
        "    entropy = dist.entropy()\n",
        "    self.log_probs.append(log_prob)\n",
        "    self.entropies.append(entropy)\n",
        "\n",
        "    return action\n",
        "\n",
        "class Critic_Net(nn.Module):\n",
        "  def __init__ (self, input_dims, output_dims, num_neurons = 128):\n",
        "    super(Critic_Net, self).__init__()\n",
        "\n",
        "    self.values = []\n",
        "    self.next_values = []\n",
        "    \n",
        "    self.fc1 = nn.Linear(input_dims, num_neurons)\n",
        "    self.critic = nn.Linear(num_neurons, 1)\n",
        "\n",
        "  def forward (self, state):\n",
        "    x = F.relu(self.fc1(state))\n",
        "    x = self.critic(x)\n",
        "\n",
        "    return x"
      ],
      "execution_count": 3,
      "outputs": []
    },
    {
      "cell_type": "code",
      "metadata": {
        "id": "5fLZmWRUgsGC"
      },
      "source": [
        "import torch.optim as optim\n",
        "import numpy as np\n",
        "import gym\n",
        "\n",
        "class Actor_Critic_Agent(nn.Module):\n",
        "  def __init__(self, input_dims, output_dims, optimizer = 'RMSprop', num_neurons = 128 , gamma = 0.99, actor_lr=0.001, critic_lr = 0.01):\n",
        "    super(Actor_Critic_Agent, self).__init__()\n",
        "    self.actor_net = Actor_Net(input_dims= input_dims, output_dims= output_dims, num_neurons= num_neurons).to(device)\n",
        "    self.critic_net = Critic_Net(input_dims=input_dims, output_dims= output_dims, num_neurons= num_neurons).to(device)\n",
        "    self.gamma = gamma\n",
        "    if optimizer == 'RMSprop':\n",
        "      self.actor_optimizer = optim.RMSprop(params = self.actor_net.parameters(), lr =actor_lr)\n",
        "      self.critic_optimizer = optim.RMSprop(params = self.critic_net.parameters(), lr = critic_lr)\n",
        "    else:\n",
        "      self.actor_optimizer = optim.Adam(params = self.actor_net.parameters(), lr = actor_lr)\n",
        "      self.critic_optimizer = optim.Adam(params = self.critic_net.parameters(), lr = critic_lr)\n",
        "\n",
        "  def learn_mean(self, rewards, dones):\n",
        "    value_criteration = nn.MSELoss()\n",
        "    value_losses = []\n",
        "    actor_losses = []\n",
        "    self.critic_net.next_values = torch.cat(self.critic_net.next_values, dim = 0).squeeze(0)\n",
        "    self.critic_net.values = torch.cat(self.critic_net.values, dim = 0).squeeze(0)\n",
        "    self.actor_net.log_probs = torch.cat(self.actor_net.log_probs, dim = 0)\n",
        "    self.actor_net.entropies = torch.cat(self.actor_net.entropies, dim = 0)\n",
        "\n",
        "    for reward, entropy, log_prob, v, v_next, done in zip(rewards ,self.actor_net.entropies, self.actor_net.log_probs, self.critic_net.values, self.critic_net.next_values, dones):\n",
        "      td_target = reward + self.gamma * v_next * done\n",
        "      td_error = td_target - v\n",
        "      value_loss = value_criteration(v, td_target.detach())- 0.001 * entropy.detach()\n",
        "      actor_loss = - log_prob * td_error.detach() \n",
        "      value_losses.append(value_loss)\n",
        "      actor_losses.append(actor_loss)\n",
        "\n",
        "    self.critic_optimizer.zero_grad()\n",
        "    value_losses = torch.stack(value_losses).sum()\n",
        "    value_losses.backward()\n",
        "    self.critic_optimizer.step()  \n",
        "\n",
        "    self.actor_optimizer.zero_grad()\n",
        "    actor_losses = torch.stack(actor_losses).sum()\n",
        "    actor_losses.backward()\n",
        "    self.actor_optimizer.step()\n",
        "\n",
        "      \n",
        "    # clear out memory \n",
        "    self.actor_net.log_probs = []\n",
        "    self.actor_net.entropies = []\n",
        "    self.critic_net.values = []\n",
        "    self.critic_net.next_values = []\n",
        "\n"
      ],
      "execution_count": 4,
      "outputs": []
    },
    {
      "cell_type": "markdown",
      "metadata": {
        "id": "CJiCxUdtHQdj"
      },
      "source": [
        "# Without Wandb"
      ]
    },
    {
      "cell_type": "code",
      "metadata": {
        "id": "PSwLz14Qfgze"
      },
      "source": [
        "import gym\n",
        "import time\n",
        "import pdb\n",
        "\n",
        "env = gym.make('CartPole-v1')\n",
        "env.seed(543)\n",
        "torch.manual_seed(543)\n",
        "state_dims = env.observation_space.shape[0]\n",
        "action_dims = env.action_space.n\n",
        "agent = Actor_Critic_Agent(input_dims= state_dims, output_dims = action_dims)\n",
        "\n",
        "def train():\n",
        "\n",
        "  num_ep = 2000\n",
        "  print_every = 100\n",
        "  running_score = 10\n",
        "  start = time.time()\n",
        "\n",
        "  rewards = []\n",
        "  dones = []\n",
        "\n",
        "  for ep in range(1, num_ep + 1):\n",
        "    state = env.reset()\n",
        "    score = 0\n",
        "    done = False\n",
        "    rewards = []\n",
        "    dones = []\n",
        "\n",
        "    while not done:\n",
        "      state = torch.tensor([state]).float().to(device)\n",
        "      action = agent.actor_net.eval_action(state)\n",
        "      v = agent.critic_net(state)\n",
        "\n",
        "      next_state, reward, done, _ = env.step(action.item())\n",
        "      v_next = agent.critic_net(torch.tensor([next_state]).float().to(device))\n",
        "  \n",
        "      agent.critic_net.values.append(v.squeeze(0))\n",
        "      agent.critic_net.next_values.append(v_next.squeeze(0))\n",
        "      rewards.append(reward)\n",
        "      dones.append(1 - done)\n",
        "      \n",
        "      # update episode\n",
        "      score += reward\n",
        "      state = next_state\n",
        "\n",
        "      if done:\n",
        "        break\n",
        "\n",
        "    # update agent\n",
        "    #pdb.set_trace()\n",
        "    agent.learn_mean(rewards,dones)\n",
        "   \n",
        "    # calculating score and running score\n",
        "    running_score = 0.05 * score + (1 - 0.05) * running_score\n",
        "\n",
        "    if ep % print_every == 0:\n",
        "      print('episode: {}, running score: {}, time elapsed: {}'.format(ep, running_score, time.time() - start))\n",
        "\n",
        "\n",
        "\n"
      ],
      "execution_count": 5,
      "outputs": []
    },
    {
      "cell_type": "code",
      "metadata": {
        "colab": {
          "base_uri": "https://localhost:8080/"
        },
        "id": "HOz4J4JUaybI",
        "outputId": "ae19c50d-96c1-4bcb-9230-ce57356bc439"
      },
      "source": [
        "train() #RMS"
      ],
      "execution_count": null,
      "outputs": [
        {
          "output_type": "stream",
          "text": [
            "episode: 100, running score: 43.32507441570408, time elapsed: 4.842878341674805\n",
            "episode: 200, running score: 129.30332722904944, time elapsed: 19.552313089370728\n"
          ],
          "name": "stdout"
        }
      ]
    },
    {
      "cell_type": "markdown",
      "metadata": {
        "id": "uo6kcNfxHqKq"
      },
      "source": [
        "# Wtih wandb"
      ]
    },
    {
      "cell_type": "code",
      "metadata": {
        "id": "0eNZACUZFoKQ"
      },
      "source": [
        "!pip install wandb\n",
        "!wandb login\n"
      ],
      "execution_count": null,
      "outputs": []
    },
    {
      "cell_type": "code",
      "metadata": {
        "colab": {
          "base_uri": "https://localhost:8080/"
        },
        "id": "hDnpRAxMHvLh",
        "outputId": "b59aa7cf-6dff-4877-f4e7-95ea88bf1790"
      },
      "source": [
        "import wandb\n",
        "sweep_config = dict()\n",
        "sweep_config['method'] = 'grid'\n",
        "sweep_config['metric'] = {'name': 'running_score', 'goal': 'maximize'}\n",
        "sweep_config['parameters'] = {'learning': {'value': 'learn_mean'}, 'actor_learning_rate': {'values' : [0.01, 0.001, 0.0001,0.0003,0.00001]}, 'critic_learning_rate' : {'values': [0.01, 0.001, 0.0001, 0.0003, 0.00001]}\n",
        "                              , 'num_neurons': {'value': 128 }, 'optimizer': {'values' : ['RMSprop', 'Adam']}}\n",
        "\n",
        "sweep_id = wandb.sweep(sweep_config, project = 'Advantage_Actor_Critic')"
      ],
      "execution_count": null,
      "outputs": [
        {
          "output_type": "stream",
          "text": [
            "Create sweep with ID: t9gia22t\n",
            "Sweep URL: https://wandb.ai/ko120/Advantage_Actor_Critic/sweeps/t9gia22t\n"
          ],
          "name": "stdout"
        }
      ]
    },
    {
      "cell_type": "code",
      "metadata": {
        "id": "i6P-jyU6IdXJ"
      },
      "source": [
        "import gym \n",
        "import torch\n",
        "import time\n",
        "import wandb\n",
        "\n",
        "\n",
        "\n",
        "def train():\n",
        "  wandb.init(config = {'env':'CartPole-v1','algorithm:': 'Actor_Critic','architecture': 'seperate','num_laeyrs':'2'}, project = 'Advantage_Actor_Critic',group = 'Cart_128_neurons_2_layer')\n",
        "  config = wandb.config\n",
        "\n",
        "  env = gym.make('CartPole-v1')\n",
        "  env.seed(543)\n",
        "  torch.manual_seed(543)\n",
        "\n",
        "  state_dim = env.observation_space.shape[0]\n",
        "  action_dim = env.action_space.n\n",
        "\n",
        "  device = torch.device('cuda:0' if torch.cuda.is_available else 'cpu')\n",
        "  agent = Actor_Critic_Agent(input_dims= state_dim, output_dims= action_dim, optimizer = config.optimizer, num_neurons= config.num_neurons, actor_lr = config.actor_learning_rate, critic_lr = config.critic_learning_rate)\n",
        "\n",
        "\n",
        "  num_ep = 3000\n",
        "  print_interval = 100\n",
        "  save_interval = 1000\n",
        "  running_score = 10\n",
        "  start = time.time()\n",
        "\n",
        "  \n",
        "  wandb.watch(agent)\n",
        "  for ep in range(1,num_ep+1):\n",
        "    state = env.reset()\n",
        "    score = 0\n",
        "    done = False\n",
        "    rewards = []\n",
        "    dones = []\n",
        "\n",
        "    while not done:\n",
        "      state = torch.tensor([state]).float().to(device)\n",
        "      action = agent.actor_net.eval_action(state)\n",
        "      v = agent.critic_net(state)\n",
        "\n",
        "      next_state, reward, done, _ = env.step(action.item())\n",
        "      v_next = agent.critic_net(torch.tensor([next_state]).float().to(device))\n",
        "  \n",
        "      agent.critic_net.values.append(v.squeeze(0))\n",
        "      agent.critic_net.next_values.append(v_next.squeeze(0))\n",
        "      rewards.append(reward)\n",
        "      dones.append(1 - done)\n",
        "      \n",
        "      # update episode\n",
        "      score += reward\n",
        "      state = next_state\n",
        "\n",
        "      if done:\n",
        "        break\n",
        "\n",
        "    # update agent\n",
        "    agent.learn_mean(rewards,dones)\n",
        "   \n",
        "    # calculating score and running score\n",
        "    running_score = 0.05 * score + (1 - 0.05) * running_score\n",
        "\n",
        "    wandb.log({'episode': ep, 'running_score': running_score})   \n",
        "\n",
        "    if ep % print_interval == 0:\n",
        "      print('episode {} average reward {}, ended at {:.01f}'.format(ep, running_score, time.time() - start))    \n",
        "    \n",
        "    if ep % save_interval == 0:\n",
        "      save_name_actor = 'actor_' + str(ep) + '.pt'\n",
        "      torch.save(agent.actor_net.state_dict(),save_name_actor)\n",
        "      save_name_critic = 'critic_' + str(ep) + '.pt'\n",
        "      torch.save(agent.critic_net.state_dict(),save_name_critic)\n",
        "      wandb.save(save_name_actor)\n",
        "      wandb.save(save_name_critic)\n",
        "\n",
        "    if ep == num_ep:\n",
        "      dummy_input = torch.rand(1,4).to(device)\n",
        "      torch.onnx.export(agent.actor_net,dummy_input,'final_model_actor.onnx')\n",
        "      wandb.save('final_model_actor.onnx')\n",
        "      torch.onnx.export(agent.critic_net, dummy_input, 'final_model_critic.onnx')\n",
        "      wandb.save('final_model_critic.onnx')\n",
        "    "
      ],
      "execution_count": null,
      "outputs": []
    },
    {
      "cell_type": "code",
      "metadata": {
        "colab": {
          "base_uri": "https://localhost:8080/",
          "height": 1000,
          "referenced_widgets": [
            "ffe5f88c06804cdea58ba74f377c202d",
            "4743963d5d384682bcacde36bc0e64cf",
            "a2934665655845de8baf075998e49338",
            "11adc8ac1a5e4f9895d07eace44d178e",
            "50ebceff2330408180e237f32e596d5f",
            "af26a315e5e04c109ad5ecde825b41c8",
            "40e60e3619414b6c9050ee843a4e3aa6",
            "4d7d3036312543e78841ec4d62faebd1",
            "62cd485c32114654b232cec9637e027c",
            "ff83e4f6bbfe4d3ca612a09fc8939244",
            "721cc65a45a8481290ca80e4b75d9854",
            "9128154437e2496daf48102a2beda415",
            "4c2648a24e584383b490bdff63221e8e",
            "438bf2f7f325433da8f253e65d366c3a",
            "c71702b8f9c144d3b6ec8d82509baf67",
            "698c084256304070bf1fda82635570f8",
            "b4462152f9734462b77434657ba7799a",
            "984cebe4aa90463893e5c316e6db0f07",
            "6e012e9a6d8c432aa86accd942f096be",
            "3b53311158244c6dbed2fbcc5671fdd9",
            "2d0f3bbed81a41cf81e260deac9b07da",
            "59ec0532e2974014a2b95b35d1c8567b",
            "886f5508a3ec48779611f631f7f8d4e5",
            "70aa396ee151407dbd0c3f02fa9d5445",
            "7b81457bbb6848269031b0ba10322dc3",
            "a31b45cb4fcf4fd7a959255f514e9ae0",
            "d4e606bb565841e697b30cbadcb1590c",
            "77e8efa59a484a9e94b46b44e9f3174a",
            "1d6a0071c89a4a69aaf868cf8e00df5c",
            "06596f79c3674cbfa1b298cf39c82b78",
            "3fc3d98e85634e3b9b679f75ccde8bd3",
            "5f3648cac77845e0b557bcaaaf03ccef",
            "f555cf0adcd34ded974203dd0c5c2156",
            "1f23002d2d07458ebb3b7ae4f48f8a12",
            "2e42416df98f40dc9d0d613937ed8b31",
            "732b129840c9454da281b23c66667750",
            "ebc8cd7d51e44f55b5aa95653021ca90",
            "6aa3a43c73f040d7b2c11bc3df37bc4f",
            "0a2116bed9ef46ae895b23f0d3b08e2e",
            "bc7da29674864c1a97b56ecce9d0df4e",
            "0703c36593504567a4fbb87c08579bd2",
            "184aac53c0fb4cffafaa63fc9c3a7e99",
            "7bcf821118d74b0fbd109ab8639a3263",
            "2f6d3f50effc420ba0cc3dc82b7ba09e",
            "3910e83dcae442e588ba146f4a8f76d7",
            "ca433b3fa2634196bc59ad2f6590b5bf",
            "73ecd5e1e71742858713151d526caef1",
            "65f84ba9bf3841baabc292526fc1b3d6",
            "d893b8b7ecd0402daf7fac8235497d93",
            "cacc9486a7474de3823b73534911c97c",
            "7a2f2a2782364fe2a3f403c93603710d",
            "c61b31a2ea494c1e8a4ef815dbb2bda4",
            "09b53b7a40754454b00ff20d15a3e538",
            "3da16f288cf74484ba1da26532202c23",
            "01363d078d994aa59ae7c144a19db1f6",
            "795a7386d62a45569ce99883488ca513",
            "ccec43fe7da64f9caaba85f5725ad3c8",
            "b488833c0c09455e99f3525e62e13789",
            "c606f1f0b4e14c2a867ea0473321c30a",
            "48c98b37e8e74add94996ff4334dcc79",
            "04a0f6e376ea43d78f2605acff407802",
            "54a5b8aca61a4ea5966875dcfe39048f",
            "34c559e6dda84566ade6f6e5612da4fd",
            "f85b69e66c7a4488a8c23c820a6beabe",
            "b883b079c3544b88b55f5d56934e3da4",
            "e7d2cba4bb5e40179f3b9cf30338d17b",
            "0367e17def5047aabfca3ecbd9f03ffe",
            "0a2d5896740344cb8ef58aa12aa5d041",
            "106cc3ce4ec241db995bf3eddb9204d4",
            "769556bea313475ab3ba7aef793b9ede",
            "f27cbb5d16ff4439893defaf3731730c",
            "b1d874c380384438b419ab8015f397c7",
            "167d67cf31294a6caeaa265c0a3d36b1",
            "6d43888a162d4397af487b84384f961b",
            "cd9759fdbcbe4ca19524fc775bf8b75b",
            "181dbf48125c4ffba8110569510ed816",
            "9c8c92f0791d44e287c70c393e54ab8f",
            "7d8c7a432948495281dee3ffa2dd803a",
            "e971b0cefe95486e9ece1463e0e7a43e",
            "3ad605b79afb46a4aa823bd2d47287c9",
            "a39d28f1ff4942dfb87712511a615e51",
            "c5e7f46f966d4ead9b3ca8fe51fb80d8",
            "96b8371e77d54d33b48bade285c6e2ba",
            "e369548329674d248519701834166d05",
            "d28197a2335d485ab4ceaf7e92a49137",
            "d715c4cbae9e440f8d9f4f95d4785d9d",
            "634c7c7e4736439fbe75671c08e26abd",
            "795ba532d2cf4964b3820767cf183071",
            "4ef4ca263b074b7f92c38384990d93ca",
            "a1929109b9c44c36b60469d447552824",
            "54fa83e8d59345bc96ec71e595b5eed3",
            "0c0072c096d54898a459b8f0fcabebc1",
            "a751c729d969437c9a2b0a9a008ee9bd",
            "6af179ebf0334f26b8bee0e70ee93ccb",
            "db3f1bd9983d4d25891e1f1ee6cd63b8",
            "eb3eeeea99e3413a8ea4c839b4204deb",
            "084162f47292478cb08ba19c34a843cc",
            "b75fdc2fb0304e3fbb9ceda73a1996a4",
            "2642ff1bf17b40a8859c93a9901d9ad3",
            "5201734e49074fbfa779ff07695360bf",
            "8031de17482249e59740f0b89a0e4aa1",
            "6ff4f044776a4cecbe27734f5a08f571",
            "7998ca3c89314529874b060ca7231719",
            "3ac675553c7b4e07a152351e76ff8ab0",
            "59289a03f2534544ba9a37765b00aa76",
            "09fad9884c45470995f510ce4517cf29",
            "9b731a058e7a4eb1947b6be726e0920f",
            "1805d05a54fd44a39feb8558974cf573",
            "ce67ec3d39734755a520d8d4e06b53f4",
            "a98a72e385374e11b86595d285997775",
            "be24b24af9e44d5ead5be9616aef9552",
            "64cb45dd7ec745b18c64fe9ea90876f0",
            "dbe2fe8660aa4955936ced82bbdbab7f",
            "54a3950315ab46d1ae2c93d9bb2b70d9",
            "8068fd610dc14df38d4d5c522dd1b03c",
            "f0a259fff9f24fb5a4fea1311d8e60c8",
            "0bb07341c6d142e1a7bc2cbdf180f83f",
            "ac8b4e8c732848a180ec58e055833937",
            "e759e57443914324b23f81f2c3adb10f",
            "a28418eeaead43ed96b20caa8272ecfb",
            "11e28b67650b4af4bc3ba3d3a79e1902",
            "16537b21cbfa45a3895d7715ffc0702f",
            "cd8be7d0ca224056a2f698c82e277437",
            "d53536d3f93f4aa486cf41d25732829d",
            "06687644969a4078b19f8b60c9029f28",
            "fa54652b59234bed983fe2e0f71ddebd",
            "cc36589a47484b61b84858602d6b32ac",
            "7ed6a05a6da8432ca314e7f22efd0dcb",
            "07f8b666f2c346178a3b432f5d4cf0bf",
            "d82a95b1972640f8b253368f1b6f4978",
            "5088f0c04c7d45239f3e25be62f681d0",
            "336947f5be7243579a5ce4f8196c8a08",
            "391616ae83e543b29b3780f8ed7d74bf",
            "409139aa000c4a2babefc1190bd5143b",
            "e357e2f4a9484054907eedafdd38f002",
            "2fd21beaa7494d7fb8432d81511abb4e",
            "cbc9c5ac2c314cb09892b6f4a0241558",
            "e035e33113d349ea8f5b289fc95beb74",
            "4f7d17a48e0f4afcb3f047aa88413143",
            "e929e46aa40c4b8e81419366e24ec32d",
            "a1b6b47995c944249d14f4bfb4648ffc",
            "25f3e5863ba543a8a27aa11110efe430",
            "1715cd9d31fe429ebf9db73cc9472e9f",
            "ef56bda112584036838b63bd254e0fb5",
            "93ffe57eb1ab4a2dac29dc5fddfbd6bb",
            "08cf775cb4d04166b670c1f791f3a09d",
            "b4ce80cc05414d92adfd943fce42e360",
            "0d5d92a9a08c42d48748f3813f5638a3",
            "49b9d5e0d10348309996cbe5a4cbc1e0",
            "d65f913f3c544b18950d04e2a2fbc5b0",
            "0beda5171e6d4cb0870bc2565bb378b0",
            "24adc22fbc944f6d82b3b93cc45e7daa",
            "ab1716cc57464721b245df81e261a3d1",
            "7287108f26ce429a8e7ac52733281751",
            "25a1d9d5b5b545c58e84a0f7c722d843",
            "6199e560ff9c46de99810052d3576096",
            "8bec94aae5b24e0e9743a51911668605",
            "374d5897c7c74e949a05925ab98bbbef",
            "8ed6dadd3f5649f99f93b89c34aff9a4",
            "fbae20a217b842f0ba4e00a02ab06abf",
            "f3c2e35b80ee44eda24e4fca0293d362",
            "294cfe6b51fb48d8bb33fe0bb5181766",
            "cb847b2f1bf945e18f1948dfe9c0d37a",
            "262846248520436fb396b21b6d23ee12",
            "ff2f74fad7744ead906852bddac6b7ac",
            "e9e6f210eca4487e805ab0af100e9d03",
            "6835ccfca81c48c8873d1e52b9fee21a",
            "f14d310848484b4f93ab8fee486147b8",
            "28615bd515354907bd36a8bd5222e480",
            "43d4d69927d54f54abc073790e1e2114",
            "ae3167f9e4474a10b33c018c9b35ef8a",
            "fca4ae11b95d4ec8aa71d38943a4c1e6",
            "af4b0bb5352349b0a7498837fd03e78c",
            "df67dc688e8445ca9b0e019df5b63be2",
            "fc932918a2c54bb18d1a5b9380cb9be5",
            "e6a24b23c34e404f90ed264dd6cf449a",
            "f69e9ff365a943ccae826dd25a64ad04",
            "7b6da5b025ec497fb96482ca53136dec",
            "1426aa3b35444f36bde1775e19821216",
            "9f13fba2549e45808730a7c888e18f64",
            "2b7beccc4459495b9c5460c266fb74a2",
            "0fefe5e87bc7409eb90bea551e34c801",
            "6f4e4e24c4344c7586899fcad695f7e1",
            "b1cef3e4dcab4dea9698ab5be9c178d0",
            "99c95909085a47a78281f280a3e6f174",
            "7745d72db60b435499f7d8daedfc74e3",
            "a547106dd23a41daa4ff94ac069762c6",
            "870c2cdcc39e4911b1e70070251b1f7b",
            "b5be5621b8be4c12b613b5d40683f589",
            "6b540daaca714951a5d12f97ed21e26c",
            "b851ff3e6530490f87684be40cd22e75",
            "81d2d6915ea945049e9e8bc6cf477251",
            "764f427db6d74247a6eb428de60ff744",
            "d87b9a2f1f4346edbf285d2aa96e1604",
            "ec724636552248c2b818af54f0a309b5",
            "44f41ae4c70f41058a77a210b932785d",
            "eb23aaf452754b8aa4faa78ba6b4a51c",
            "1f4bd64ceb394e6a9f2c9d4641b999aa",
            "1282ca1b0f454e50a6a77d727e6986d8",
            "180c528670aa45c3af80181aef9637a9",
            "cfe12e828d9a49f1b6f5164173da5c3f",
            "1c4590ac09e64c7085cfbe22e1343b0f",
            "159b23c7c8574c158be669fdf8a87f44",
            "fb5fc2c0a31c43c3a2f5ed9a756cd8a7",
            "6aacdb507f3d4def8d1846c85f5a9605",
            "93f69bd50a4c4c6482e82773c66988b8",
            "3205c01002f04ce5b0550e881a87e036",
            "f09821115e7043089afa3b8e8b8ff418",
            "716dce3e643a435cb91055c1917c8dfd",
            "49e3840826e94aa9b86703c86a2a4e27",
            "00aca7a454514e3bbe579dad61b3e038",
            "664e72af350c44a59fc58394288a2fc3",
            "d9501b1eebca4898950d3b3b7667638b",
            "582482f8b4fc4e77a75e80dcd6a9e2c9",
            "20a9d6dee0ef41c8ab301bcb273a429b",
            "012c4d71a3a345639aff5dc8076f93d9",
            "85bd6b55673a44669913db9e652cc6ba",
            "33616968cb284e4f9a5da7f15b088d23",
            "49b4d7e265fe473eace824c33593be80",
            "7bcea19fecb949c2a19eb7953f2882c4",
            "5730fb8d46634d93ae6f567878214bdf",
            "562f6eb0cadc40f3abfe885e866c437f",
            "51823365faaf40a5816ab83148eea600",
            "ae6c50d8b6b34a7fa56ae034f1e91ed3",
            "bcf881bb93bd4d998a010dafd899840b",
            "1506c06610fe4d98b117fc7e64b37533",
            "48b52049a2324e588f404da8065b821e",
            "ac40f1d3f4374808a2e90a67f246edbf",
            "b21e1d9015834c14a644eb4b8b7ef054",
            "de3627733e9e4d68921dd17143781e15",
            "227ebb34a0fe4065b1d11666c9954692",
            "e4bc9ab816e04f1eb0e64764fa484f7b",
            "93281d8a48fd479388e041d8446c025a",
            "706a53ea56a140c88c593bf25298d659",
            "81493a87f7da4558b64668cb0df0e776",
            "77b3a3c815544267bfa0c700330c39c9",
            "c9274cfcf8cb4271a8aca5a08d16064a",
            "56ee506d9f36471b84bfc0c66f6053da",
            "add0c99ced924887ae18fe6e484d1832",
            "96b3acec9c844baeaff141af5adb9100",
            "35681e9bb618430d969998756ad3d7ef",
            "e121ee85315a42c097f0815fa25b253a",
            "94c74edbd9ae4a85aa2448691396f767",
            "06a8500200184c24958773e6a1478393",
            "1819a09f23f6470bb03714a937cb37fc",
            "cec39b7f47d3421db44abc4e11e8a709",
            "ddd0069b008f41c3a67b7857e883ab34",
            "bf4ad4439a714448aa27ede9f94d7e26",
            "84a9583dacbc4484b93f93a93df7ca66",
            "64df0401fcd842edb14d8cbdc98226ef",
            "4a4456a321b9411b98bf9651f28d9b41",
            "70c7452f616a4b558c12e8a208e166d8",
            "dd652a3e24de49ee8936f2ca6aa42529",
            "e0283d4d19dd4115907ae52b5b99ce2b",
            "06781c6a08284dce8b247a05bab18711",
            "a9dd216fe67d4514b24532bfe9b5a3bd",
            "c230e294f8ed411f8c03cc3ba6dc6114",
            "f966853d645e4203b65c779f40039015",
            "3b5ebb993b61451ebb2e176c3e296450",
            "c8f7442ca62643a4996e8f8e30b3429e",
            "87f877c44ea84678a6ca54821d6179f4",
            "3b5b6956d7a344fe943627ca510eb8e7",
            "eb14e7e499004c5f8213b01fa5f9ebd2",
            "3bd53a8709ab4500b84513b6c4143275",
            "17256217a4ac42029278b9b555d5071b",
            "e2b44c3506244c0cbca4f773265ad875",
            "a1217f7880a649f8b99d2631ee453ba6",
            "9a1a79550e514ab092adda74858ce617",
            "29c59206f5e54750871c7acd9b5066bd",
            "5fb203e167ec485fbd9992f0c2cfc920",
            "7bebabe96df9455ab2155b5e8006edae",
            "4563e407af47484ba97d49678e787612",
            "1cd5a39a0d7941a1b373041dfc746b46",
            "a5f63bbd0ac947b886b4f881e9957131",
            "2a711006d2da400dba48915c5210abcf",
            "9b0269da67f54768b2230acd54fcae52",
            "01131016661345aba89b096e94edef2d",
            "eb3d4f97bcd84348af107a00733e1377",
            "06734df227a94dbb8eb4188a3aba3641",
            "4bf3faeaf6ec413e845e36224b00fc2d",
            "5bc8562f12ab49b4b66984316e8c9e39",
            "418d93e8ec63428eba5862d1af6dbf37",
            "1644aa03a6994a8ab9f57c0b420e459f",
            "c083aabdb2a049a599017e1164650bb6",
            "6349b219344b4c50ab6d192a2c0d83c5",
            "6fe35e90340a4073824aaeb0b56957da",
            "860e75b1b5fe40309ad65a2e039ac0ae",
            "5daa99c34ee849a3b033094f9755fc63",
            "931b2030352f47f68c37a28def9e9dcc",
            "cd6c60ce1e5b46c38b2e29c74183b5cb",
            "ff6dda9d52eb40a6aa1ae3004e3876f1",
            "b31e781760324606b3e042e5aa426ea5",
            "9cfcb259c0854501b22e7757304a6f31",
            "5814e80b1881433683ca75c095c35ff3",
            "d90cf05eafb944c4af8f15fe1cfc5c94",
            "e3e3369c835b445e9b9b2931b0d7eec1",
            "77ae27069ef1423e9f3ab9361203d7c2",
            "c75f47e50a714697ac9d3a79dfd86c51",
            "9e0f36d564b2447087473a7a5b6ef7c0",
            "8861caa97ee34ceb852d59ce63b2d121",
            "5c3e8fdb7acb49e59dc0b530fc5d8b94",
            "8c0a074d1f7042b583e18d525ceff58b",
            "291a8093ab0746c3ae7494cd905ceb16",
            "f4ff2b5f604546b9a1db73481f3f7618",
            "430c55c0cf8a407ca31ae0fb87573ef3",
            "df9f6cbbd1264862ad6368b007c1cead",
            "9f342cfefb614277816c59c689dbb00e",
            "f2e807d1c9f74098bde2000baae4f0c4",
            "39a8606237804b278d92628aa9fd5a7f",
            "d4ceab581368494c8f4cd369c771e735",
            "76269796c4ee466c8d614472424d6b37",
            "eef8ffa2dccc469fbf84e6187e53cd33",
            "76b6b91ea35643f9b205430778d80d59",
            "814de1e9dbfd4c3ea4ce3fb1105128b9",
            "587d4b96fb824f66a23d64f1e3cc568e",
            "ef709d30707b4070b70e89db0e5a9fcd",
            "0346f4f8e8a2424dbdc5b8d9b950f780",
            "347a704fab1c47dc9ddffd5c1e7d6f2b",
            "d10d5cc1f3f54e198b10bf5b3781ed71",
            "7a62d4aadc534e14b4116f486d08272b",
            "494e1c1ce6634714acdcaa10495dedcf",
            "a80b984d26fb420c8398bfa443a637cd",
            "6168dfc022d54b16a468d6763bde2ffa",
            "a4f62f3c7b754fc6b41c5862494317f1",
            "b4b81881336f49729bc2f556b3d08639",
            "4090004032954c7aa1b8ecb22ce13950",
            "024f22f937004b6894e1b542329b4bf1",
            "3731a8830bb44c6585e14151dcb5d946",
            "736696e0f97e4069a8b5ed1778003c60",
            "1a4a6fbab8bc427ea617e9a7da5c40a1",
            "791b6dc0978c4732b808a7c895349049",
            "46579fcb31b94b5aa74334248e4307ce",
            "8003aef76bb24526b5248a9e7f253ec1",
            "8f8d515530064eb48dcc3f75b25ded68",
            "427c22d185a440c08b66b7e990ff6e7b",
            "aa19b75ce93c4a92bb572beb6ded6b67",
            "02f64ca9fc2c4dfda0b2411f54f63742",
            "5fb844a53ebb401698f66aaccd54a8d3",
            "2bbd57e9879c4d0a807e67ea177d75b0",
            "b04e07d31755416695ef57b8c0caeba9",
            "34d8204835f94c43baeb4226022dd686",
            "9a1bbdbcfeee4cb69eb1589082cbff4b",
            "1fa5a991bdcc4d45a3b46487c2dee334",
            "316f1a61fa0347ee83b3582edb0d054f",
            "9c05277984ba43408e43f840012ae94a",
            "e2d9c976c86247f2916617a650523e61",
            "3de33cf78485471e86f113a55e0eb83a",
            "f7a1c4e96bb142869a985873b4821175",
            "2ac377d0ac71420098113bad5a784a42",
            "381058a5f9bb4c14ad01478776ff07c8",
            "512ee933efc345938429bcf249e8c134",
            "2d1781191db74d418dd96058ad6db446",
            "5d4b38c89b5248d8af6afabf00406c6e",
            "06b5e7706ff8494f8cb9ae59e2bf5fdf",
            "5101dcf7727f4d21be7f2c5125dd3abd",
            "28e686a99dbe47bf85f12ea48ea8e8b5",
            "ceac3b5955024bce9c22d8a25391ef14",
            "ee83363316eb4ac78be0e45fddd0feb0",
            "ac74d70c6c30425ca930f66442cba84e",
            "650dd01d2cc54572824c6217686f031a",
            "c4ef86052a2e4b2ba5be121f222a5e40",
            "16966680c2474b088ff5035f6e889702",
            "01e8cb0a4cf54ab98bea9a88fc4330c8",
            "6b2154ae10c945ba819b05c2a7d0e989",
            "675f14b529274dbb99208b138f74d2b3",
            "a124f5bd6859471fbee5366b5c5108d8",
            "f354dd36144644a1bf4d1687633464d9",
            "45fa669daa2949f0b662ba7feade31fb",
            "13c0ff3ed4204b62b11c9149998d3a37",
            "769d80c6c5a249738c45d396d557c544",
            "e3ac3f9dcf73491d9ac7b64235812fc2",
            "e7bf9ae562914c7c8b58005933971d74",
            "9d1f6468fce4461da53b78c55dc7ec15",
            "62f03fe1fa6648b5ac5c0106491b0eb5",
            "6de3a34dae304f3fa54ed4f05bd43c56",
            "041fb8d7c10f487d92c20ac2ac917760",
            "f61e43f74d80420b977993371396aa47",
            "726738dc94bb4ce0bbc84f2dd3968545",
            "f230a3b223c94198b986a9927958b2ce",
            "493bac68ea3b4936a4dce4cbc8f09d10",
            "5b4d72b8275445d781f9905b9ed2f890",
            "b07afa0c5a8144cdb51c6f518fdd0871",
            "6cd11ad4d3314bcba3cc528ebdbcc59c",
            "17c659cb43f44874b115df9d223efb75",
            "98dfaada22744d1889f7e24bba6c5d42",
            "06693d83641740ad8cf2f73dce794e1b",
            "ba35d052edcf4a6885bba628fd703182",
            "9841ed00c58e4e19a49e9fee8e6c79f9",
            "c7d780f261fd4b27821c16dda919ff4e",
            "0b0c6d8978fb4ee7b5f65f60d7f78e9e",
            "c6a37a7b6e2f4057be031b659bb45a17",
            "0b268c481e944d3cae0bd0dd5035c5b7",
            "95421f5e05124de3810aa5476ecca783",
            "482c6767a4094d5d80777049e81ab40f",
            "2d642eebe3254540aa404f1829cf7a5c",
            "e3b787d994a24125869caa02c25e17bd",
            "1a73b45c74604057a290618fb42a942c",
            "0c602452e2144249a841d47134b2bf4c",
            "d679e083b2ed4f6f9bcb788a3ec6f4ac",
            "163052db5a0a43a8873b6199fd15b40e"
          ]
        },
        "id": "ydCYY7YXLTMC",
        "outputId": "eb9afbf8-a74a-4a24-b527-d9f68af60c82"
      },
      "source": [
        "wandb.agent(sweep_id, train)"
      ],
      "execution_count": null,
      "outputs": [
        {
          "output_type": "stream",
          "text": [
            "\u001b[34m\u001b[1mwandb\u001b[0m: Agent Starting Run: wivnmds7 with config:\n",
            "\u001b[34m\u001b[1mwandb\u001b[0m: \tactor_learning_rate: 0.01\n",
            "\u001b[34m\u001b[1mwandb\u001b[0m: \tcritic_learning_rate: 0.01\n",
            "\u001b[34m\u001b[1mwandb\u001b[0m: \tlearning: learn_mean\n",
            "\u001b[34m\u001b[1mwandb\u001b[0m: \tnum_neurons: 128\n",
            "\u001b[34m\u001b[1mwandb\u001b[0m: \toptimizer: RMSprop\n",
            "\u001b[34m\u001b[1mwandb\u001b[0m: \u001b[33mWARNING\u001b[0m Ignored wandb.init() arg project when running a sweep\n"
          ],
          "name": "stderr"
        },
        {
          "output_type": "display_data",
          "data": {
            "text/html": [
              "\n",
              "                Tracking run with wandb version 0.11.0<br/>\n",
              "                Syncing run <strong style=\"color:#cdcd00\">distinctive-sweep-1</strong> to <a href=\"https://wandb.ai\" target=\"_blank\">Weights & Biases</a> <a href=\"https://docs.wandb.com/integrations/jupyter.html\" target=\"_blank\">(Documentation)</a>.<br/>\n",
              "                Project page: <a href=\"https://wandb.ai/ko120/Advantage_Actor_Critic\" target=\"_blank\">https://wandb.ai/ko120/Advantage_Actor_Critic</a><br/>\n",
              "                Sweep page: <a href=\"https://wandb.ai/ko120/Advantage_Actor_Critic/sweeps/t9gia22t\" target=\"_blank\">https://wandb.ai/ko120/Advantage_Actor_Critic/sweeps/t9gia22t</a><br/>\n",
              "Run page: <a href=\"https://wandb.ai/ko120/Advantage_Actor_Critic/runs/wivnmds7\" target=\"_blank\">https://wandb.ai/ko120/Advantage_Actor_Critic/runs/wivnmds7</a><br/>\n",
              "                Run data is saved locally in <code>/content/wandb/run-20210729_022847-wivnmds7</code><br/><br/>\n",
              "            "
            ],
            "text/plain": [
              "<IPython.core.display.HTML object>"
            ]
          },
          "metadata": {
            "tags": []
          }
        },
        {
          "output_type": "stream",
          "text": [
            "episode 100 average reward 9.320976246076176, ended at 2.0\n",
            "episode 200 average reward 9.500732875399857, ended at 4.2\n",
            "episode 300 average reward 9.300742705361715, ended at 6.4\n",
            "episode 400 average reward 9.277204480629702, ended at 8.6\n",
            "episode 500 average reward 9.273707051135274, ended at 10.8\n",
            "episode 600 average reward 9.327889863203684, ended at 13.0\n",
            "episode 700 average reward 9.333155867973675, ended at 15.4\n",
            "episode 800 average reward 9.523549421141825, ended at 17.6\n",
            "episode 900 average reward 9.673708625666013, ended at 19.7\n",
            "episode 1000 average reward 9.748745763117851, ended at 21.9\n",
            "episode 1100 average reward 9.323193182969527, ended at 24.2\n",
            "episode 1200 average reward 56.42889769119886, ended at 31.3\n",
            "episode 1300 average reward 43.74196023208914, ended at 41.4\n",
            "episode 1400 average reward 67.21059343899846, ended at 56.4\n",
            "episode 1500 average reward 75.91453703193939, ended at 70.0\n",
            "episode 1600 average reward 312.7339309544486, ended at 112.1\n",
            "episode 1700 average reward 491.66948098256364, ended at 201.5\n",
            "episode 1800 average reward 499.95067891873634, ended at 302.2\n",
            "episode 1900 average reward 499.9997079930969, ended at 401.8\n",
            "episode 2000 average reward 499.9999982711642, ended at 502.5\n",
            "episode 2100 average reward 499.999999989764, ended at 602.4\n",
            "episode 2200 average reward 499.99999999993895, ended at 702.8\n",
            "episode 2300 average reward 499.99999999999903, ended at 801.4\n",
            "episode 2400 average reward 499.99999999999903, ended at 900.3\n",
            "episode 2500 average reward 499.99999999999903, ended at 999.9\n",
            "episode 2600 average reward 499.99999999999903, ended at 1099.0\n",
            "episode 2700 average reward 499.99999999999903, ended at 1197.7\n",
            "episode 2800 average reward 499.99999999999903, ended at 1296.7\n",
            "episode 2900 average reward 499.99999999999903, ended at 1396.4\n",
            "episode 3000 average reward 497.6112962499991, ended at 1495.4\n"
          ],
          "name": "stdout"
        },
        {
          "output_type": "display_data",
          "data": {
            "text/html": [
              "<br/>Waiting for W&B process to finish, PID 1587<br/>Program ended successfully."
            ],
            "text/plain": [
              "<IPython.core.display.HTML object>"
            ]
          },
          "metadata": {
            "tags": []
          }
        },
        {
          "output_type": "display_data",
          "data": {
            "application/vnd.jupyter.widget-view+json": {
              "model_id": "ffe5f88c06804cdea58ba74f377c202d",
              "version_minor": 0,
              "version_major": 2
            },
            "text/plain": [
              "VBox(children=(Label(value=' 0.18MB of 0.18MB uploaded (0.00MB deduped)\\r'), FloatProgress(value=1.0, max=1.0)…"
            ]
          },
          "metadata": {
            "tags": []
          }
        },
        {
          "output_type": "display_data",
          "data": {
            "text/html": [
              "Find user logs for this run at: <code>/content/wandb/run-20210729_022847-wivnmds7/logs/debug.log</code>"
            ],
            "text/plain": [
              "<IPython.core.display.HTML object>"
            ]
          },
          "metadata": {
            "tags": []
          }
        },
        {
          "output_type": "display_data",
          "data": {
            "text/html": [
              "Find internal logs for this run at: <code>/content/wandb/run-20210729_022847-wivnmds7/logs/debug-internal.log</code>"
            ],
            "text/plain": [
              "<IPython.core.display.HTML object>"
            ]
          },
          "metadata": {
            "tags": []
          }
        },
        {
          "output_type": "display_data",
          "data": {
            "text/html": [
              "<h3>Run summary:</h3><br/><style>\n",
              "    table.wandb td:nth-child(1) { padding: 0 10px; text-align: right }\n",
              "    </style><table class=\"wandb\">\n",
              "<tr><td>episode</td><td>3000</td></tr><tr><td>running_score</td><td>497.6113</td></tr><tr><td>_runtime</td><td>1497</td></tr><tr><td>_timestamp</td><td>1627527224</td></tr><tr><td>_step</td><td>2999</td></tr></table>"
            ],
            "text/plain": [
              "<IPython.core.display.HTML object>"
            ]
          },
          "metadata": {
            "tags": []
          }
        },
        {
          "output_type": "display_data",
          "data": {
            "text/html": [
              "<h3>Run history:</h3><br/><style>\n",
              "    table.wandb td:nth-child(1) { padding: 0 10px; text-align: right }\n",
              "    </style><table class=\"wandb\">\n",
              "<tr><td>episode</td><td>▁▁▁▂▂▂▂▂▂▃▃▃▃▃▄▄▄▄▄▄▅▅▅▅▅▅▆▆▆▆▆▇▇▇▇▇▇███</td></tr><tr><td>running_score</td><td>▁▁▁▁▁▁▁▁▁▁▁▁▁▁▁▁▂▂▂▂▂▅▇█████████████████</td></tr><tr><td>_runtime</td><td>▁▁▁▁▁▁▁▁▁▁▁▁▁▁▁▁▁▁▁▁▁▂▂▂▃▃▃▄▄▄▅▅▅▆▆▆▇▇██</td></tr><tr><td>_timestamp</td><td>▁▁▁▁▁▁▁▁▁▁▁▁▁▁▁▁▁▁▁▁▁▂▂▂▃▃▃▄▄▄▅▅▅▆▆▆▇▇██</td></tr><tr><td>_step</td><td>▁▁▁▂▂▂▂▂▂▃▃▃▃▃▄▄▄▄▄▄▅▅▅▅▅▅▆▆▆▆▆▇▇▇▇▇▇███</td></tr></table><br/>"
            ],
            "text/plain": [
              "<IPython.core.display.HTML object>"
            ]
          },
          "metadata": {
            "tags": []
          }
        },
        {
          "output_type": "display_data",
          "data": {
            "text/html": [
              "Synced 5 W&B file(s), 0 media file(s), 2 artifact file(s) and 9 other file(s)"
            ],
            "text/plain": [
              "<IPython.core.display.HTML object>"
            ]
          },
          "metadata": {
            "tags": []
          }
        },
        {
          "output_type": "display_data",
          "data": {
            "text/html": [
              "\n",
              "                    <br/>Synced <strong style=\"color:#cdcd00\">distinctive-sweep-1</strong>: <a href=\"https://wandb.ai/ko120/Advantage_Actor_Critic/runs/wivnmds7\" target=\"_blank\">https://wandb.ai/ko120/Advantage_Actor_Critic/runs/wivnmds7</a><br/>\n",
              "                "
            ],
            "text/plain": [
              "<IPython.core.display.HTML object>"
            ]
          },
          "metadata": {
            "tags": []
          }
        },
        {
          "output_type": "stream",
          "text": [
            "\u001b[34m\u001b[1mwandb\u001b[0m: Agent Starting Run: 23g5a6tq with config:\n",
            "\u001b[34m\u001b[1mwandb\u001b[0m: \tactor_learning_rate: 0.01\n",
            "\u001b[34m\u001b[1mwandb\u001b[0m: \tcritic_learning_rate: 0.01\n",
            "\u001b[34m\u001b[1mwandb\u001b[0m: \tlearning: learn_mean\n",
            "\u001b[34m\u001b[1mwandb\u001b[0m: \tnum_neurons: 128\n",
            "\u001b[34m\u001b[1mwandb\u001b[0m: \toptimizer: Adam\n",
            "\u001b[34m\u001b[1mwandb\u001b[0m: \u001b[33mWARNING\u001b[0m Ignored wandb.init() arg project when running a sweep\n"
          ],
          "name": "stderr"
        },
        {
          "output_type": "display_data",
          "data": {
            "text/html": [
              "\n",
              "                Tracking run with wandb version 0.11.0<br/>\n",
              "                Syncing run <strong style=\"color:#cdcd00\">fine-sweep-2</strong> to <a href=\"https://wandb.ai\" target=\"_blank\">Weights & Biases</a> <a href=\"https://docs.wandb.com/integrations/jupyter.html\" target=\"_blank\">(Documentation)</a>.<br/>\n",
              "                Project page: <a href=\"https://wandb.ai/ko120/Advantage_Actor_Critic\" target=\"_blank\">https://wandb.ai/ko120/Advantage_Actor_Critic</a><br/>\n",
              "                Sweep page: <a href=\"https://wandb.ai/ko120/Advantage_Actor_Critic/sweeps/t9gia22t\" target=\"_blank\">https://wandb.ai/ko120/Advantage_Actor_Critic/sweeps/t9gia22t</a><br/>\n",
              "Run page: <a href=\"https://wandb.ai/ko120/Advantage_Actor_Critic/runs/23g5a6tq\" target=\"_blank\">https://wandb.ai/ko120/Advantage_Actor_Critic/runs/23g5a6tq</a><br/>\n",
              "                Run data is saved locally in <code>/content/wandb/run-20210729_025350-23g5a6tq</code><br/><br/>\n",
              "            "
            ],
            "text/plain": [
              "<IPython.core.display.HTML object>"
            ]
          },
          "metadata": {
            "tags": []
          }
        },
        {
          "output_type": "stream",
          "text": [
            "episode 100 average reward 9.393700613898634, ended at 2.1\n",
            "episode 200 average reward 10.894709220097706, ended at 4.3\n",
            "episode 300 average reward 51.989124686948216, ended at 12.4\n",
            "episode 400 average reward 203.69745507042563, ended at 35.4\n",
            "episode 500 average reward 47.54950302248991, ended at 56.8\n",
            "episode 600 average reward 92.8884477211901, ended at 69.0\n",
            "episode 700 average reward 85.14868442109272, ended at 83.9\n",
            "episode 800 average reward 90.31060358700215, ended at 101.6\n",
            "episode 900 average reward 130.65703923534898, ended at 123.5\n",
            "episode 1000 average reward 185.8257517386689, ended at 158.8\n",
            "episode 1100 average reward 422.64762493258826, ended at 221.2\n",
            "episode 1200 average reward 27.15940252918527, ended at 232.1\n",
            "episode 1300 average reward 25.83159086560288, ended at 237.2\n",
            "episode 1400 average reward 29.841646116682767, ended at 243.2\n",
            "episode 1500 average reward 30.07053742243523, ended at 249.7\n",
            "episode 1600 average reward 36.46616493916145, ended at 256.9\n",
            "episode 1700 average reward 39.12381815725073, ended at 265.0\n",
            "episode 1800 average reward 51.21215101465169, ended at 274.3\n",
            "episode 1900 average reward 66.9545612340068, ended at 286.2\n",
            "episode 2000 average reward 178.89721993585226, ended at 309.9\n",
            "episode 2100 average reward 69.47866500975265, ended at 338.8\n",
            "episode 2200 average reward 50.490512450265854, ended at 348.2\n",
            "episode 2300 average reward 61.75383315807288, ended at 359.5\n",
            "episode 2400 average reward 88.39276354461626, ended at 375.0\n",
            "episode 2500 average reward 99.398257522605, ended at 399.7\n",
            "episode 2600 average reward 184.1226828333833, ended at 425.0\n",
            "episode 2700 average reward 45.15572401110173, ended at 436.7\n",
            "episode 2800 average reward 80.9364814477666, ended at 449.8\n",
            "episode 2900 average reward 48.418687642016415, ended at 466.3\n",
            "episode 3000 average reward 75.62835138017972, ended at 479.2\n"
          ],
          "name": "stdout"
        },
        {
          "output_type": "display_data",
          "data": {
            "text/html": [
              "<br/>Waiting for W&B process to finish, PID 1930<br/>Program ended successfully."
            ],
            "text/plain": [
              "<IPython.core.display.HTML object>"
            ]
          },
          "metadata": {
            "tags": []
          }
        },
        {
          "output_type": "display_data",
          "data": {
            "application/vnd.jupyter.widget-view+json": {
              "model_id": "62cd485c32114654b232cec9637e027c",
              "version_minor": 0,
              "version_major": 2
            },
            "text/plain": [
              "VBox(children=(Label(value=' 0.19MB of 0.19MB uploaded (0.00MB deduped)\\r'), FloatProgress(value=1.0, max=1.0)…"
            ]
          },
          "metadata": {
            "tags": []
          }
        },
        {
          "output_type": "display_data",
          "data": {
            "text/html": [
              "Find user logs for this run at: <code>/content/wandb/run-20210729_025350-23g5a6tq/logs/debug.log</code>"
            ],
            "text/plain": [
              "<IPython.core.display.HTML object>"
            ]
          },
          "metadata": {
            "tags": []
          }
        },
        {
          "output_type": "display_data",
          "data": {
            "text/html": [
              "Find internal logs for this run at: <code>/content/wandb/run-20210729_025350-23g5a6tq/logs/debug-internal.log</code>"
            ],
            "text/plain": [
              "<IPython.core.display.HTML object>"
            ]
          },
          "metadata": {
            "tags": []
          }
        },
        {
          "output_type": "display_data",
          "data": {
            "text/html": [
              "<h3>Run summary:</h3><br/><style>\n",
              "    table.wandb td:nth-child(1) { padding: 0 10px; text-align: right }\n",
              "    </style><table class=\"wandb\">\n",
              "<tr><td>episode</td><td>3000</td></tr><tr><td>running_score</td><td>75.62835</td></tr><tr><td>_runtime</td><td>481</td></tr><tr><td>_timestamp</td><td>1627527711</td></tr><tr><td>_step</td><td>2999</td></tr></table>"
            ],
            "text/plain": [
              "<IPython.core.display.HTML object>"
            ]
          },
          "metadata": {
            "tags": []
          }
        },
        {
          "output_type": "display_data",
          "data": {
            "text/html": [
              "<h3>Run history:</h3><br/><style>\n",
              "    table.wandb td:nth-child(1) { padding: 0 10px; text-align: right }\n",
              "    </style><table class=\"wandb\">\n",
              "<tr><td>episode</td><td>▁▁▁▂▂▂▂▂▂▃▃▃▃▃▄▄▄▄▄▄▅▅▅▅▅▅▆▆▆▆▆▇▇▇▇▇▇███</td></tr><tr><td>running_score</td><td>▁▁▁▂▂▄▂▂▃▂▂▃▄▄█▂▁▁▁▁▁▂▂▂▂▂▃▄▂▂▂▂▃▃▄▂▂▃▂▂</td></tr><tr><td>_runtime</td><td>▁▁▁▁▁▁▂▂▂▂▂▃▃▃▄▄▄▄▅▅▅▅▅▅▅▅▅▆▆▆▆▆▇▇▇▇▇███</td></tr><tr><td>_timestamp</td><td>▁▁▁▁▁▁▂▂▂▂▂▃▃▃▄▄▄▄▅▅▅▅▅▅▅▅▅▆▆▆▆▆▇▇▇▇▇███</td></tr><tr><td>_step</td><td>▁▁▁▂▂▂▂▂▂▃▃▃▃▃▄▄▄▄▄▄▅▅▅▅▅▅▆▆▆▆▆▇▇▇▇▇▇███</td></tr></table><br/>"
            ],
            "text/plain": [
              "<IPython.core.display.HTML object>"
            ]
          },
          "metadata": {
            "tags": []
          }
        },
        {
          "output_type": "display_data",
          "data": {
            "text/html": [
              "Synced 5 W&B file(s), 0 media file(s), 2 artifact file(s) and 9 other file(s)"
            ],
            "text/plain": [
              "<IPython.core.display.HTML object>"
            ]
          },
          "metadata": {
            "tags": []
          }
        },
        {
          "output_type": "display_data",
          "data": {
            "text/html": [
              "\n",
              "                    <br/>Synced <strong style=\"color:#cdcd00\">fine-sweep-2</strong>: <a href=\"https://wandb.ai/ko120/Advantage_Actor_Critic/runs/23g5a6tq\" target=\"_blank\">https://wandb.ai/ko120/Advantage_Actor_Critic/runs/23g5a6tq</a><br/>\n",
              "                "
            ],
            "text/plain": [
              "<IPython.core.display.HTML object>"
            ]
          },
          "metadata": {
            "tags": []
          }
        },
        {
          "output_type": "stream",
          "text": [
            "\u001b[34m\u001b[1mwandb\u001b[0m: Agent Starting Run: uw0vj72l with config:\n",
            "\u001b[34m\u001b[1mwandb\u001b[0m: \tactor_learning_rate: 0.01\n",
            "\u001b[34m\u001b[1mwandb\u001b[0m: \tcritic_learning_rate: 0.001\n",
            "\u001b[34m\u001b[1mwandb\u001b[0m: \tlearning: learn_mean\n",
            "\u001b[34m\u001b[1mwandb\u001b[0m: \tnum_neurons: 128\n",
            "\u001b[34m\u001b[1mwandb\u001b[0m: \toptimizer: RMSprop\n",
            "\u001b[34m\u001b[1mwandb\u001b[0m: \u001b[33mWARNING\u001b[0m Ignored wandb.init() arg project when running a sweep\n"
          ],
          "name": "stderr"
        },
        {
          "output_type": "display_data",
          "data": {
            "text/html": [
              "\n",
              "                Tracking run with wandb version 0.11.0<br/>\n",
              "                Syncing run <strong style=\"color:#cdcd00\">misty-sweep-3</strong> to <a href=\"https://wandb.ai\" target=\"_blank\">Weights & Biases</a> <a href=\"https://docs.wandb.com/integrations/jupyter.html\" target=\"_blank\">(Documentation)</a>.<br/>\n",
              "                Project page: <a href=\"https://wandb.ai/ko120/Advantage_Actor_Critic\" target=\"_blank\">https://wandb.ai/ko120/Advantage_Actor_Critic</a><br/>\n",
              "                Sweep page: <a href=\"https://wandb.ai/ko120/Advantage_Actor_Critic/sweeps/t9gia22t\" target=\"_blank\">https://wandb.ai/ko120/Advantage_Actor_Critic/sweeps/t9gia22t</a><br/>\n",
              "Run page: <a href=\"https://wandb.ai/ko120/Advantage_Actor_Critic/runs/uw0vj72l\" target=\"_blank\">https://wandb.ai/ko120/Advantage_Actor_Critic/runs/uw0vj72l</a><br/>\n",
              "                Run data is saved locally in <code>/content/wandb/run-20210729_030157-uw0vj72l</code><br/><br/>\n",
              "            "
            ],
            "text/plain": [
              "<IPython.core.display.HTML object>"
            ]
          },
          "metadata": {
            "tags": []
          }
        },
        {
          "output_type": "stream",
          "text": [
            "episode 100 average reward 9.323047870238417, ended at 2.0\n",
            "episode 200 average reward 9.500745140511238, ended at 4.1\n",
            "episode 300 average reward 9.300742777977668, ended at 6.3\n",
            "episode 400 average reward 9.277204481059627, ended at 8.5\n",
            "episode 500 average reward 9.273707051137817, ended at 10.6\n",
            "episode 600 average reward 9.327889863203705, ended at 12.7\n",
            "episode 700 average reward 9.333155867973675, ended at 14.8\n",
            "episode 800 average reward 9.523549421141825, ended at 17.0\n",
            "episode 900 average reward 9.673708625666013, ended at 19.1\n",
            "episode 1000 average reward 9.17122064557445, ended at 21.3\n",
            "episode 1100 average reward 9.39649773679353, ended at 23.5\n",
            "episode 1200 average reward 9.193564571194404, ended at 25.8\n",
            "episode 1300 average reward 9.48526540298333, ended at 27.9\n",
            "episode 1400 average reward 9.437208248169437, ended at 30.2\n",
            "episode 1500 average reward 9.555995245145606, ended at 32.5\n",
            "episode 1600 average reward 9.372828596848617, ended at 34.7\n",
            "episode 1700 average reward 9.426870873172193, ended at 36.9\n",
            "episode 1800 average reward 9.504937934970561, ended at 39.1\n",
            "episode 1900 average reward 9.297689564538206, ended at 41.3\n",
            "episode 2000 average reward 9.31162741969441, ended at 43.5\n",
            "episode 2100 average reward 9.604299928629606, ended at 45.8\n",
            "episode 2200 average reward 9.291430241561052, ended at 47.9\n",
            "episode 2300 average reward 9.438612971600907, ended at 50.2\n",
            "episode 2400 average reward 9.217391668387823, ended at 52.5\n",
            "episode 2500 average reward 9.307382644882923, ended at 54.8\n",
            "episode 2600 average reward 9.395026766903836, ended at 57.1\n",
            "episode 2700 average reward 9.46968064792383, ended at 59.4\n",
            "episode 2800 average reward 9.397343429054061, ended at 61.7\n",
            "episode 2900 average reward 9.54686090289204, ended at 64.1\n",
            "episode 3000 average reward 9.224514820683032, ended at 66.4\n"
          ],
          "name": "stdout"
        },
        {
          "output_type": "display_data",
          "data": {
            "text/html": [
              "<br/>Waiting for W&B process to finish, PID 2073<br/>Program ended successfully."
            ],
            "text/plain": [
              "<IPython.core.display.HTML object>"
            ]
          },
          "metadata": {
            "tags": []
          }
        },
        {
          "output_type": "display_data",
          "data": {
            "application/vnd.jupyter.widget-view+json": {
              "model_id": "b4462152f9734462b77434657ba7799a",
              "version_minor": 0,
              "version_major": 2
            },
            "text/plain": [
              "VBox(children=(Label(value=' 0.21MB of 0.21MB uploaded (0.00MB deduped)\\r'), FloatProgress(value=1.0, max=1.0)…"
            ]
          },
          "metadata": {
            "tags": []
          }
        },
        {
          "output_type": "display_data",
          "data": {
            "text/html": [
              "Find user logs for this run at: <code>/content/wandb/run-20210729_030157-uw0vj72l/logs/debug.log</code>"
            ],
            "text/plain": [
              "<IPython.core.display.HTML object>"
            ]
          },
          "metadata": {
            "tags": []
          }
        },
        {
          "output_type": "display_data",
          "data": {
            "text/html": [
              "Find internal logs for this run at: <code>/content/wandb/run-20210729_030157-uw0vj72l/logs/debug-internal.log</code>"
            ],
            "text/plain": [
              "<IPython.core.display.HTML object>"
            ]
          },
          "metadata": {
            "tags": []
          }
        },
        {
          "output_type": "display_data",
          "data": {
            "text/html": [
              "<h3>Run summary:</h3><br/><style>\n",
              "    table.wandb td:nth-child(1) { padding: 0 10px; text-align: right }\n",
              "    </style><table class=\"wandb\">\n",
              "<tr><td>episode</td><td>3000</td></tr><tr><td>running_score</td><td>9.22451</td></tr><tr><td>_runtime</td><td>68</td></tr><tr><td>_timestamp</td><td>1627527785</td></tr><tr><td>_step</td><td>2999</td></tr></table>"
            ],
            "text/plain": [
              "<IPython.core.display.HTML object>"
            ]
          },
          "metadata": {
            "tags": []
          }
        },
        {
          "output_type": "display_data",
          "data": {
            "text/html": [
              "<h3>Run history:</h3><br/><style>\n",
              "    table.wandb td:nth-child(1) { padding: 0 10px; text-align: right }\n",
              "    </style><table class=\"wandb\">\n",
              "<tr><td>episode</td><td>▁▁▁▂▂▂▂▂▂▃▃▃▃▃▄▄▄▄▄▄▅▅▅▅▅▅▆▆▆▆▆▇▇▇▇▇▇███</td></tr><tr><td>running_score</td><td>▇▃▅▂▂▄▁▃▄▄▇▃▄▁▅▅▂▅▄▂▄▄▅▄▆▃▆▄▄▅▄▄▃▁▄▄█▄█▃</td></tr><tr><td>_runtime</td><td>▁▁▁▁▂▂▂▂▂▃▃▃▃▃▃▄▄▄▄▄▄▅▅▅▅▅▆▆▆▆▆▆▇▇▇▇▇███</td></tr><tr><td>_timestamp</td><td>▁▁▁▁▂▂▂▂▂▃▃▃▃▃▃▄▄▄▄▄▄▅▅▅▅▅▆▆▆▆▆▆▇▇▇▇▇███</td></tr><tr><td>_step</td><td>▁▁▁▂▂▂▂▂▂▃▃▃▃▃▄▄▄▄▄▄▅▅▅▅▅▅▆▆▆▆▆▇▇▇▇▇▇███</td></tr></table><br/>"
            ],
            "text/plain": [
              "<IPython.core.display.HTML object>"
            ]
          },
          "metadata": {
            "tags": []
          }
        },
        {
          "output_type": "display_data",
          "data": {
            "text/html": [
              "Synced 5 W&B file(s), 0 media file(s), 2 artifact file(s) and 9 other file(s)"
            ],
            "text/plain": [
              "<IPython.core.display.HTML object>"
            ]
          },
          "metadata": {
            "tags": []
          }
        },
        {
          "output_type": "display_data",
          "data": {
            "text/html": [
              "\n",
              "                    <br/>Synced <strong style=\"color:#cdcd00\">misty-sweep-3</strong>: <a href=\"https://wandb.ai/ko120/Advantage_Actor_Critic/runs/uw0vj72l\" target=\"_blank\">https://wandb.ai/ko120/Advantage_Actor_Critic/runs/uw0vj72l</a><br/>\n",
              "                "
            ],
            "text/plain": [
              "<IPython.core.display.HTML object>"
            ]
          },
          "metadata": {
            "tags": []
          }
        },
        {
          "output_type": "stream",
          "text": [
            "\u001b[34m\u001b[1mwandb\u001b[0m: Agent Starting Run: ygowlc1q with config:\n",
            "\u001b[34m\u001b[1mwandb\u001b[0m: \tactor_learning_rate: 0.01\n",
            "\u001b[34m\u001b[1mwandb\u001b[0m: \tcritic_learning_rate: 0.001\n",
            "\u001b[34m\u001b[1mwandb\u001b[0m: \tlearning: learn_mean\n",
            "\u001b[34m\u001b[1mwandb\u001b[0m: \tnum_neurons: 128\n",
            "\u001b[34m\u001b[1mwandb\u001b[0m: \toptimizer: Adam\n",
            "\u001b[34m\u001b[1mwandb\u001b[0m: \u001b[33mWARNING\u001b[0m Ignored wandb.init() arg project when running a sweep\n"
          ],
          "name": "stderr"
        },
        {
          "output_type": "display_data",
          "data": {
            "text/html": [
              "\n",
              "                Tracking run with wandb version 0.11.0<br/>\n",
              "                Syncing run <strong style=\"color:#cdcd00\">pleasant-sweep-4</strong> to <a href=\"https://wandb.ai\" target=\"_blank\">Weights & Biases</a> <a href=\"https://docs.wandb.com/integrations/jupyter.html\" target=\"_blank\">(Documentation)</a>.<br/>\n",
              "                Project page: <a href=\"https://wandb.ai/ko120/Advantage_Actor_Critic\" target=\"_blank\">https://wandb.ai/ko120/Advantage_Actor_Critic</a><br/>\n",
              "                Sweep page: <a href=\"https://wandb.ai/ko120/Advantage_Actor_Critic/sweeps/t9gia22t\" target=\"_blank\">https://wandb.ai/ko120/Advantage_Actor_Critic/sweeps/t9gia22t</a><br/>\n",
              "Run page: <a href=\"https://wandb.ai/ko120/Advantage_Actor_Critic/runs/ygowlc1q\" target=\"_blank\">https://wandb.ai/ko120/Advantage_Actor_Critic/runs/ygowlc1q</a><br/>\n",
              "                Run data is saved locally in <code>/content/wandb/run-20210729_030311-ygowlc1q</code><br/><br/>\n",
              "            "
            ],
            "text/plain": [
              "<IPython.core.display.HTML object>"
            ]
          },
          "metadata": {
            "tags": []
          }
        },
        {
          "output_type": "stream",
          "text": [
            "episode 100 average reward 9.482441320427503, ended at 2.3\n",
            "episode 200 average reward 9.521694115910226, ended at 4.4\n",
            "episode 300 average reward 9.300866806998652, ended at 6.5\n",
            "episode 400 average reward 9.281812195275764, ended at 8.6\n",
            "episode 500 average reward 9.273734331244475, ended at 10.6\n",
            "episode 600 average reward 9.32789002471637, ended at 12.7\n",
            "episode 700 average reward 9.827598664513028, ended at 14.9\n",
            "episode 800 average reward 9.26144886325921, ended at 17.0\n",
            "episode 900 average reward 9.110503240776072, ended at 19.1\n",
            "episode 1000 average reward 9.545656955308921, ended at 21.2\n",
            "episode 1100 average reward 9.321990789748574, ended at 23.4\n",
            "episode 1200 average reward 9.56841024704241, ended at 25.6\n",
            "episode 1300 average reward 9.348897438109866, ended at 27.7\n",
            "episode 1400 average reward 9.250522490296776, ended at 29.9\n",
            "episode 1500 average reward 9.16773866121093, ended at 32.1\n",
            "episode 1600 average reward 9.47137972380003, ended at 34.2\n",
            "episode 1700 average reward 9.900633984295913, ended at 36.7\n",
            "episode 1800 average reward 9.751529543377076, ended at 38.9\n",
            "episode 1900 average reward 53.81312885558565, ended at 47.4\n",
            "episode 2000 average reward 70.27681110878103, ended at 60.4\n",
            "episode 2100 average reward 62.559465430642966, ended at 74.4\n",
            "episode 2200 average reward 59.78042016089283, ended at 85.5\n",
            "episode 2300 average reward 48.91914672763425, ended at 95.7\n",
            "episode 2400 average reward 53.64639148493839, ended at 106.1\n",
            "episode 2500 average reward 49.54241628456646, ended at 116.9\n",
            "episode 2600 average reward 351.7380552439218, ended at 151.5\n",
            "episode 2700 average reward 48.74315631364213, ended at 166.5\n",
            "episode 2800 average reward 37.958321220468164, ended at 175.5\n",
            "episode 2900 average reward 33.6067248572091, ended at 182.4\n",
            "episode 3000 average reward 40.1652680868164, ended at 190.4\n"
          ],
          "name": "stdout"
        },
        {
          "output_type": "display_data",
          "data": {
            "text/html": [
              "<br/>Waiting for W&B process to finish, PID 2136<br/>Program ended successfully."
            ],
            "text/plain": [
              "<IPython.core.display.HTML object>"
            ]
          },
          "metadata": {
            "tags": []
          }
        },
        {
          "output_type": "display_data",
          "data": {
            "application/vnd.jupyter.widget-view+json": {
              "model_id": "7b81457bbb6848269031b0ba10322dc3",
              "version_minor": 0,
              "version_major": 2
            },
            "text/plain": [
              "VBox(children=(Label(value=' 0.22MB of 0.22MB uploaded (0.00MB deduped)\\r'), FloatProgress(value=1.0, max=1.0)…"
            ]
          },
          "metadata": {
            "tags": []
          }
        },
        {
          "output_type": "display_data",
          "data": {
            "text/html": [
              "Find user logs for this run at: <code>/content/wandb/run-20210729_030311-ygowlc1q/logs/debug.log</code>"
            ],
            "text/plain": [
              "<IPython.core.display.HTML object>"
            ]
          },
          "metadata": {
            "tags": []
          }
        },
        {
          "output_type": "display_data",
          "data": {
            "text/html": [
              "Find internal logs for this run at: <code>/content/wandb/run-20210729_030311-ygowlc1q/logs/debug-internal.log</code>"
            ],
            "text/plain": [
              "<IPython.core.display.HTML object>"
            ]
          },
          "metadata": {
            "tags": []
          }
        },
        {
          "output_type": "display_data",
          "data": {
            "text/html": [
              "<h3>Run summary:</h3><br/><style>\n",
              "    table.wandb td:nth-child(1) { padding: 0 10px; text-align: right }\n",
              "    </style><table class=\"wandb\">\n",
              "<tr><td>episode</td><td>3000</td></tr><tr><td>running_score</td><td>40.16527</td></tr><tr><td>_runtime</td><td>193</td></tr><tr><td>_timestamp</td><td>1627527984</td></tr><tr><td>_step</td><td>2999</td></tr></table>"
            ],
            "text/plain": [
              "<IPython.core.display.HTML object>"
            ]
          },
          "metadata": {
            "tags": []
          }
        },
        {
          "output_type": "display_data",
          "data": {
            "text/html": [
              "<h3>Run history:</h3><br/><style>\n",
              "    table.wandb td:nth-child(1) { padding: 0 10px; text-align: right }\n",
              "    </style><table class=\"wandb\">\n",
              "<tr><td>episode</td><td>▁▁▁▂▂▂▂▂▂▃▃▃▃▃▄▄▄▄▄▄▅▅▅▅▅▅▆▆▆▆▆▇▇▇▇▇▇███</td></tr><tr><td>running_score</td><td>▁▁▁▁▁▁▁▁▁▁▁▁▁▁▁▁▁▁▁▁▁▁▁▁▁▂▂▃▂▂▂▂▂▂█▂▂▂▂▂</td></tr><tr><td>_runtime</td><td>▁▁▁▁▁▁▁▁▁▂▂▂▂▂▂▂▂▂▂▂▂▂▂▂▂▃▃▃▄▄▄▅▅▅▆▇▇███</td></tr><tr><td>_timestamp</td><td>▁▁▁▁▁▁▁▁▁▂▂▂▂▂▂▂▂▂▂▂▂▂▂▂▂▃▃▃▄▄▄▅▅▅▆▇▇███</td></tr><tr><td>_step</td><td>▁▁▁▂▂▂▂▂▂▃▃▃▃▃▄▄▄▄▄▄▅▅▅▅▅▅▆▆▆▆▆▇▇▇▇▇▇███</td></tr></table><br/>"
            ],
            "text/plain": [
              "<IPython.core.display.HTML object>"
            ]
          },
          "metadata": {
            "tags": []
          }
        },
        {
          "output_type": "display_data",
          "data": {
            "text/html": [
              "Synced 5 W&B file(s), 0 media file(s), 2 artifact file(s) and 9 other file(s)"
            ],
            "text/plain": [
              "<IPython.core.display.HTML object>"
            ]
          },
          "metadata": {
            "tags": []
          }
        },
        {
          "output_type": "display_data",
          "data": {
            "text/html": [
              "\n",
              "                    <br/>Synced <strong style=\"color:#cdcd00\">pleasant-sweep-4</strong>: <a href=\"https://wandb.ai/ko120/Advantage_Actor_Critic/runs/ygowlc1q\" target=\"_blank\">https://wandb.ai/ko120/Advantage_Actor_Critic/runs/ygowlc1q</a><br/>\n",
              "                "
            ],
            "text/plain": [
              "<IPython.core.display.HTML object>"
            ]
          },
          "metadata": {
            "tags": []
          }
        },
        {
          "output_type": "stream",
          "text": [
            "\u001b[34m\u001b[1mwandb\u001b[0m: Agent Starting Run: 9msbp2mq with config:\n",
            "\u001b[34m\u001b[1mwandb\u001b[0m: \tactor_learning_rate: 0.01\n",
            "\u001b[34m\u001b[1mwandb\u001b[0m: \tcritic_learning_rate: 0.0001\n",
            "\u001b[34m\u001b[1mwandb\u001b[0m: \tlearning: learn_mean\n",
            "\u001b[34m\u001b[1mwandb\u001b[0m: \tnum_neurons: 128\n",
            "\u001b[34m\u001b[1mwandb\u001b[0m: \toptimizer: RMSprop\n",
            "\u001b[34m\u001b[1mwandb\u001b[0m: \u001b[33mWARNING\u001b[0m Ignored wandb.init() arg project when running a sweep\n"
          ],
          "name": "stderr"
        },
        {
          "output_type": "display_data",
          "data": {
            "text/html": [
              "\n",
              "                Tracking run with wandb version 0.11.0<br/>\n",
              "                Syncing run <strong style=\"color:#cdcd00\">polished-sweep-5</strong> to <a href=\"https://wandb.ai\" target=\"_blank\">Weights & Biases</a> <a href=\"https://docs.wandb.com/integrations/jupyter.html\" target=\"_blank\">(Documentation)</a>.<br/>\n",
              "                Project page: <a href=\"https://wandb.ai/ko120/Advantage_Actor_Critic\" target=\"_blank\">https://wandb.ai/ko120/Advantage_Actor_Critic</a><br/>\n",
              "                Sweep page: <a href=\"https://wandb.ai/ko120/Advantage_Actor_Critic/sweeps/t9gia22t\" target=\"_blank\">https://wandb.ai/ko120/Advantage_Actor_Critic/sweeps/t9gia22t</a><br/>\n",
              "Run page: <a href=\"https://wandb.ai/ko120/Advantage_Actor_Critic/runs/9msbp2mq\" target=\"_blank\">https://wandb.ai/ko120/Advantage_Actor_Critic/runs/9msbp2mq</a><br/>\n",
              "                Run data is saved locally in <code>/content/wandb/run-20210729_030629-9msbp2mq</code><br/><br/>\n",
              "            "
            ],
            "text/plain": [
              "<IPython.core.display.HTML object>"
            ]
          },
          "metadata": {
            "tags": []
          }
        },
        {
          "output_type": "stream",
          "text": [
            "episode 100 average reward 9.322985811087863, ended at 2.0\n",
            "episode 200 average reward 9.279185567218038, ended at 4.0\n",
            "episode 300 average reward 9.457789522408772, ended at 6.1\n",
            "episode 400 average reward 9.267436658340829, ended at 8.2\n",
            "episode 500 average reward 9.35007257483729, ended at 10.4\n",
            "episode 600 average reward 9.419099381342358, ended at 12.7\n",
            "episode 700 average reward 9.46243508339491, ended at 14.9\n",
            "episode 800 average reward 9.259286901606998, ended at 17.1\n",
            "episode 900 average reward 9.110490440818939, ended at 19.3\n",
            "episode 1000 average reward 9.545656879526401, ended at 21.5\n",
            "episode 1100 average reward 9.321990789299901, ended at 23.9\n",
            "episode 1200 average reward 9.446234309539754, ended at 26.2\n",
            "episode 1300 average reward 9.348174091901857, ended at 28.5\n",
            "episode 1400 average reward 9.250518207704413, ended at 30.8\n",
            "episode 1500 average reward 9.167738635855713, ended at 33.1\n",
            "episode 1600 average reward 9.43553113140906, ended at 35.3\n",
            "episode 1700 average reward 9.336789191668052, ended at 37.5\n",
            "episode 1800 average reward 9.243030675178025, ended at 39.7\n",
            "episode 1900 average reward 9.329301801537603, ended at 41.9\n",
            "episode 2000 average reward 9.379995705473192, ended at 44.0\n",
            "episode 2100 average reward 9.604065091103212, ended at 46.3\n",
            "episode 2200 average reward 9.291428851198617, ended at 48.5\n",
            "episode 2300 average reward 9.438612963369225, ended at 50.7\n",
            "episode 2400 average reward 9.217391668339086, ended at 52.8\n",
            "episode 2500 average reward 9.307382644882633, ended at 55.0\n",
            "episode 2600 average reward 9.395026766903836, ended at 57.2\n",
            "episode 2700 average reward 9.46968064792383, ended at 59.4\n",
            "episode 2800 average reward 9.397343429054061, ended at 61.6\n",
            "episode 2900 average reward 9.376287640502797, ended at 63.8\n",
            "episode 3000 average reward 9.508171334226079, ended at 66.1\n"
          ],
          "name": "stdout"
        },
        {
          "output_type": "display_data",
          "data": {
            "text/html": [
              "<br/>Waiting for W&B process to finish, PID 2224<br/>Program ended successfully."
            ],
            "text/plain": [
              "<IPython.core.display.HTML object>"
            ]
          },
          "metadata": {
            "tags": []
          }
        },
        {
          "output_type": "display_data",
          "data": {
            "application/vnd.jupyter.widget-view+json": {
              "model_id": "f555cf0adcd34ded974203dd0c5c2156",
              "version_minor": 0,
              "version_major": 2
            },
            "text/plain": [
              "VBox(children=(Label(value=' 0.23MB of 0.23MB uploaded (0.00MB deduped)\\r'), FloatProgress(value=1.0, max=1.0)…"
            ]
          },
          "metadata": {
            "tags": []
          }
        },
        {
          "output_type": "display_data",
          "data": {
            "text/html": [
              "Find user logs for this run at: <code>/content/wandb/run-20210729_030629-9msbp2mq/logs/debug.log</code>"
            ],
            "text/plain": [
              "<IPython.core.display.HTML object>"
            ]
          },
          "metadata": {
            "tags": []
          }
        },
        {
          "output_type": "display_data",
          "data": {
            "text/html": [
              "Find internal logs for this run at: <code>/content/wandb/run-20210729_030629-9msbp2mq/logs/debug-internal.log</code>"
            ],
            "text/plain": [
              "<IPython.core.display.HTML object>"
            ]
          },
          "metadata": {
            "tags": []
          }
        },
        {
          "output_type": "display_data",
          "data": {
            "text/html": [
              "<h3>Run summary:</h3><br/><style>\n",
              "    table.wandb td:nth-child(1) { padding: 0 10px; text-align: right }\n",
              "    </style><table class=\"wandb\">\n",
              "<tr><td>episode</td><td>3000</td></tr><tr><td>running_score</td><td>9.50817</td></tr><tr><td>_runtime</td><td>68</td></tr><tr><td>_timestamp</td><td>1627528057</td></tr><tr><td>_step</td><td>2999</td></tr></table>"
            ],
            "text/plain": [
              "<IPython.core.display.HTML object>"
            ]
          },
          "metadata": {
            "tags": []
          }
        },
        {
          "output_type": "display_data",
          "data": {
            "text/html": [
              "<h3>Run history:</h3><br/><style>\n",
              "    table.wandb td:nth-child(1) { padding: 0 10px; text-align: right }\n",
              "    </style><table class=\"wandb\">\n",
              "<tr><td>episode</td><td>▁▁▁▂▂▂▂▂▂▃▃▃▃▃▄▄▄▄▄▄▅▅▅▅▅▅▆▆▆▆▆▇▇▇▇▇▇███</td></tr><tr><td>running_score</td><td>█▂▂▃▄▂▄▄▃▂▁▃▂▄▂▂▃▂▂▃▃▃▂▂▂▃▂▃▃▃▃▃▂▁▃▃▅▃▂▃</td></tr><tr><td>_runtime</td><td>▁▁▁▁▂▂▂▂▂▃▃▃▃▃▃▄▄▄▄▄▅▅▅▅▅▅▆▆▆▆▆▆▇▇▇▇▇███</td></tr><tr><td>_timestamp</td><td>▁▁▁▁▂▂▂▂▂▃▃▃▃▃▃▄▄▄▄▄▅▅▅▅▅▅▆▆▆▆▆▆▇▇▇▇▇███</td></tr><tr><td>_step</td><td>▁▁▁▂▂▂▂▂▂▃▃▃▃▃▄▄▄▄▄▄▅▅▅▅▅▅▆▆▆▆▆▇▇▇▇▇▇███</td></tr></table><br/>"
            ],
            "text/plain": [
              "<IPython.core.display.HTML object>"
            ]
          },
          "metadata": {
            "tags": []
          }
        },
        {
          "output_type": "display_data",
          "data": {
            "text/html": [
              "Synced 5 W&B file(s), 0 media file(s), 2 artifact file(s) and 9 other file(s)"
            ],
            "text/plain": [
              "<IPython.core.display.HTML object>"
            ]
          },
          "metadata": {
            "tags": []
          }
        },
        {
          "output_type": "display_data",
          "data": {
            "text/html": [
              "\n",
              "                    <br/>Synced <strong style=\"color:#cdcd00\">polished-sweep-5</strong>: <a href=\"https://wandb.ai/ko120/Advantage_Actor_Critic/runs/9msbp2mq\" target=\"_blank\">https://wandb.ai/ko120/Advantage_Actor_Critic/runs/9msbp2mq</a><br/>\n",
              "                "
            ],
            "text/plain": [
              "<IPython.core.display.HTML object>"
            ]
          },
          "metadata": {
            "tags": []
          }
        },
        {
          "output_type": "stream",
          "text": [
            "\u001b[34m\u001b[1mwandb\u001b[0m: Agent Starting Run: i6rwob6k with config:\n",
            "\u001b[34m\u001b[1mwandb\u001b[0m: \tactor_learning_rate: 0.01\n",
            "\u001b[34m\u001b[1mwandb\u001b[0m: \tcritic_learning_rate: 0.0001\n",
            "\u001b[34m\u001b[1mwandb\u001b[0m: \tlearning: learn_mean\n",
            "\u001b[34m\u001b[1mwandb\u001b[0m: \tnum_neurons: 128\n",
            "\u001b[34m\u001b[1mwandb\u001b[0m: \toptimizer: Adam\n",
            "\u001b[34m\u001b[1mwandb\u001b[0m: \u001b[33mWARNING\u001b[0m Ignored wandb.init() arg project when running a sweep\n"
          ],
          "name": "stderr"
        },
        {
          "output_type": "display_data",
          "data": {
            "text/html": [
              "\n",
              "                Tracking run with wandb version 0.11.0<br/>\n",
              "                Syncing run <strong style=\"color:#cdcd00\">swift-sweep-6</strong> to <a href=\"https://wandb.ai\" target=\"_blank\">Weights & Biases</a> <a href=\"https://docs.wandb.com/integrations/jupyter.html\" target=\"_blank\">(Documentation)</a>.<br/>\n",
              "                Project page: <a href=\"https://wandb.ai/ko120/Advantage_Actor_Critic\" target=\"_blank\">https://wandb.ai/ko120/Advantage_Actor_Critic</a><br/>\n",
              "                Sweep page: <a href=\"https://wandb.ai/ko120/Advantage_Actor_Critic/sweeps/t9gia22t\" target=\"_blank\">https://wandb.ai/ko120/Advantage_Actor_Critic/sweeps/t9gia22t</a><br/>\n",
              "Run page: <a href=\"https://wandb.ai/ko120/Advantage_Actor_Critic/runs/i6rwob6k\" target=\"_blank\">https://wandb.ai/ko120/Advantage_Actor_Critic/runs/i6rwob6k</a><br/>\n",
              "                Run data is saved locally in <code>/content/wandb/run-20210729_030743-i6rwob6k</code><br/><br/>\n",
              "            "
            ],
            "text/plain": [
              "<IPython.core.display.HTML object>"
            ]
          },
          "metadata": {
            "tags": []
          }
        },
        {
          "output_type": "stream",
          "text": [
            "episode 100 average reward 9.6155461231107, ended at 2.4\n",
            "episode 200 average reward 10.348622036051804, ended at 4.8\n",
            "episode 300 average reward 9.309286169768178, ended at 7.0\n",
            "episode 400 average reward 9.277255062460366, ended at 9.3\n",
            "episode 500 average reward 9.27933860292073, ended at 11.5\n",
            "episode 600 average reward 9.327923204970592, ended at 13.7\n",
            "episode 700 average reward 9.334986023755194, ended at 16.0\n",
            "episode 800 average reward 9.523560256632605, ended at 18.3\n",
            "episode 900 average reward 9.673708689817854, ended at 20.6\n",
            "episode 1000 average reward 9.171220645954264, ended at 22.8\n",
            "episode 1100 average reward 9.396497736795776, ended at 25.2\n",
            "episode 1200 average reward 9.193564571194418, ended at 27.4\n",
            "episode 1300 average reward 9.48526540298333, ended at 29.6\n",
            "episode 1400 average reward 9.437208248169437, ended at 31.8\n",
            "episode 1500 average reward 9.555995245145606, ended at 34.0\n",
            "episode 1600 average reward 9.372828596848617, ended at 36.2\n",
            "episode 1700 average reward 9.426870873172193, ended at 38.4\n",
            "episode 1800 average reward 9.504937934970561, ended at 40.6\n",
            "episode 1900 average reward 9.297689564538206, ended at 42.8\n",
            "episode 2000 average reward 9.31162741969441, ended at 45.1\n",
            "episode 2100 average reward 9.091337826320018, ended at 47.3\n",
            "episode 2200 average reward 9.441037111571731, ended at 49.4\n",
            "episode 2300 average reward 9.265297265098313, ended at 51.6\n",
            "episode 2400 average reward 9.380244602654518, ended at 53.8\n",
            "episode 2500 average reward 9.508417775594229, ended at 55.9\n",
            "episode 2600 average reward 9.503556620775255, ended at 58.2\n",
            "episode 2700 average reward 9.244433719568844, ended at 60.3\n",
            "episode 2800 average reward 9.26738269019302, ended at 62.5\n",
            "episode 2900 average reward 9.40734350822574, ended at 64.7\n",
            "episode 3000 average reward 9.223688803871166, ended at 66.8\n"
          ],
          "name": "stdout"
        },
        {
          "output_type": "display_data",
          "data": {
            "text/html": [
              "<br/>Waiting for W&B process to finish, PID 2287<br/>Program ended successfully."
            ],
            "text/plain": [
              "<IPython.core.display.HTML object>"
            ]
          },
          "metadata": {
            "tags": []
          }
        },
        {
          "output_type": "display_data",
          "data": {
            "application/vnd.jupyter.widget-view+json": {
              "model_id": "0703c36593504567a4fbb87c08579bd2",
              "version_minor": 0,
              "version_major": 2
            },
            "text/plain": [
              "VBox(children=(Label(value=' 0.25MB of 0.25MB uploaded (0.00MB deduped)\\r'), FloatProgress(value=1.0, max=1.0)…"
            ]
          },
          "metadata": {
            "tags": []
          }
        },
        {
          "output_type": "display_data",
          "data": {
            "text/html": [
              "Find user logs for this run at: <code>/content/wandb/run-20210729_030743-i6rwob6k/logs/debug.log</code>"
            ],
            "text/plain": [
              "<IPython.core.display.HTML object>"
            ]
          },
          "metadata": {
            "tags": []
          }
        },
        {
          "output_type": "display_data",
          "data": {
            "text/html": [
              "Find internal logs for this run at: <code>/content/wandb/run-20210729_030743-i6rwob6k/logs/debug-internal.log</code>"
            ],
            "text/plain": [
              "<IPython.core.display.HTML object>"
            ]
          },
          "metadata": {
            "tags": []
          }
        },
        {
          "output_type": "display_data",
          "data": {
            "text/html": [
              "<h3>Run summary:</h3><br/><style>\n",
              "    table.wandb td:nth-child(1) { padding: 0 10px; text-align: right }\n",
              "    </style><table class=\"wandb\">\n",
              "<tr><td>episode</td><td>3000</td></tr><tr><td>running_score</td><td>9.22369</td></tr><tr><td>_runtime</td><td>69</td></tr><tr><td>_timestamp</td><td>1627528132</td></tr><tr><td>_step</td><td>2999</td></tr></table>"
            ],
            "text/plain": [
              "<IPython.core.display.HTML object>"
            ]
          },
          "metadata": {
            "tags": []
          }
        },
        {
          "output_type": "display_data",
          "data": {
            "text/html": [
              "<h3>Run history:</h3><br/><style>\n",
              "    table.wandb td:nth-child(1) { padding: 0 10px; text-align: right }\n",
              "    </style><table class=\"wandb\">\n",
              "<tr><td>episode</td><td>▁▁▁▂▂▂▂▂▂▃▃▃▃▃▄▄▄▄▄▄▅▅▅▅▅▅▆▆▆▆▆▇▇▇▇▇▇███</td></tr><tr><td>running_score</td><td>█▂▃▁▁▁▁▁▁▁▂▁▁▁▂▂▁▁▁▁▁▁▂▁▂▁▂▁▁▁▁▁▁▂▂▁▁▁▁▁</td></tr><tr><td>_runtime</td><td>▁▁▁▂▂▂▂▂▂▃▃▃▃▃▄▄▄▄▄▄▅▅▅▅▅▆▆▆▆▆▆▇▇▇▇▇▇███</td></tr><tr><td>_timestamp</td><td>▁▁▁▂▂▂▂▂▂▃▃▃▃▃▄▄▄▄▄▄▅▅▅▅▅▆▆▆▆▆▆▇▇▇▇▇▇███</td></tr><tr><td>_step</td><td>▁▁▁▂▂▂▂▂▂▃▃▃▃▃▄▄▄▄▄▄▅▅▅▅▅▅▆▆▆▆▆▇▇▇▇▇▇███</td></tr></table><br/>"
            ],
            "text/plain": [
              "<IPython.core.display.HTML object>"
            ]
          },
          "metadata": {
            "tags": []
          }
        },
        {
          "output_type": "display_data",
          "data": {
            "text/html": [
              "Synced 5 W&B file(s), 0 media file(s), 2 artifact file(s) and 9 other file(s)"
            ],
            "text/plain": [
              "<IPython.core.display.HTML object>"
            ]
          },
          "metadata": {
            "tags": []
          }
        },
        {
          "output_type": "display_data",
          "data": {
            "text/html": [
              "\n",
              "                    <br/>Synced <strong style=\"color:#cdcd00\">swift-sweep-6</strong>: <a href=\"https://wandb.ai/ko120/Advantage_Actor_Critic/runs/i6rwob6k\" target=\"_blank\">https://wandb.ai/ko120/Advantage_Actor_Critic/runs/i6rwob6k</a><br/>\n",
              "                "
            ],
            "text/plain": [
              "<IPython.core.display.HTML object>"
            ]
          },
          "metadata": {
            "tags": []
          }
        },
        {
          "output_type": "stream",
          "text": [
            "\u001b[34m\u001b[1mwandb\u001b[0m: Agent Starting Run: udmv9phl with config:\n",
            "\u001b[34m\u001b[1mwandb\u001b[0m: \tactor_learning_rate: 0.01\n",
            "\u001b[34m\u001b[1mwandb\u001b[0m: \tcritic_learning_rate: 0.0003\n",
            "\u001b[34m\u001b[1mwandb\u001b[0m: \tlearning: learn_mean\n",
            "\u001b[34m\u001b[1mwandb\u001b[0m: \tnum_neurons: 128\n",
            "\u001b[34m\u001b[1mwandb\u001b[0m: \toptimizer: RMSprop\n",
            "\u001b[34m\u001b[1mwandb\u001b[0m: \u001b[33mWARNING\u001b[0m Ignored wandb.init() arg project when running a sweep\n"
          ],
          "name": "stderr"
        },
        {
          "output_type": "display_data",
          "data": {
            "text/html": [
              "\n",
              "                Tracking run with wandb version 0.11.0<br/>\n",
              "                Syncing run <strong style=\"color:#cdcd00\">fiery-sweep-7</strong> to <a href=\"https://wandb.ai\" target=\"_blank\">Weights & Biases</a> <a href=\"https://docs.wandb.com/integrations/jupyter.html\" target=\"_blank\">(Documentation)</a>.<br/>\n",
              "                Project page: <a href=\"https://wandb.ai/ko120/Advantage_Actor_Critic\" target=\"_blank\">https://wandb.ai/ko120/Advantage_Actor_Critic</a><br/>\n",
              "                Sweep page: <a href=\"https://wandb.ai/ko120/Advantage_Actor_Critic/sweeps/t9gia22t\" target=\"_blank\">https://wandb.ai/ko120/Advantage_Actor_Critic/sweeps/t9gia22t</a><br/>\n",
              "Run page: <a href=\"https://wandb.ai/ko120/Advantage_Actor_Critic/runs/udmv9phl\" target=\"_blank\">https://wandb.ai/ko120/Advantage_Actor_Critic/runs/udmv9phl</a><br/>\n",
              "                Run data is saved locally in <code>/content/wandb/run-20210729_030857-udmv9phl</code><br/><br/>\n",
              "            "
            ],
            "text/plain": [
              "<IPython.core.display.HTML object>"
            ]
          },
          "metadata": {
            "tags": []
          }
        },
        {
          "output_type": "stream",
          "text": [
            "episode 100 average reward 9.319351382733059, ended at 2.0\n",
            "episode 200 average reward 9.279164049478767, ended at 4.2\n",
            "episode 300 average reward 9.457789395012366, ended at 6.4\n",
            "episode 400 average reward 9.267436657586574, ended at 8.6\n",
            "episode 500 average reward 9.350072574832824, ended at 10.8\n",
            "episode 600 average reward 9.419099381342326, ended at 13.0\n",
            "episode 700 average reward 9.46243508339491, ended at 15.2\n",
            "episode 800 average reward 9.259286901606998, ended at 17.4\n",
            "episode 900 average reward 9.110490440818939, ended at 19.5\n",
            "episode 1000 average reward 9.545656879526401, ended at 21.6\n",
            "episode 1100 average reward 9.321990789299901, ended at 23.8\n",
            "episode 1200 average reward 9.446234309539754, ended at 26.0\n",
            "episode 1300 average reward 9.348174091901857, ended at 28.2\n",
            "episode 1400 average reward 9.250518207704413, ended at 30.4\n",
            "episode 1500 average reward 9.167738635855713, ended at 32.6\n",
            "episode 1600 average reward 9.43553113140906, ended at 34.7\n",
            "episode 1700 average reward 9.336789191668052, ended at 36.9\n",
            "episode 1800 average reward 9.243030675178025, ended at 39.0\n",
            "episode 1900 average reward 9.329301801537603, ended at 41.2\n",
            "episode 2000 average reward 9.379995705473192, ended at 43.3\n",
            "episode 2100 average reward 9.604065091103212, ended at 45.6\n",
            "episode 2200 average reward 9.740405144739414, ended at 48.1\n",
            "episode 2300 average reward 9.267069682286316, ended at 50.2\n",
            "episode 2400 average reward 9.380255096302273, ended at 52.4\n",
            "episode 2500 average reward 9.508417837722178, ended at 54.5\n",
            "episode 2600 average reward 9.503556621143085, ended at 56.6\n",
            "episode 2700 average reward 9.244433719571022, ended at 58.8\n",
            "episode 2800 average reward 9.267382690193035, ended at 61.1\n",
            "episode 2900 average reward 9.40734350822574, ended at 63.3\n",
            "episode 3000 average reward 9.223688803871166, ended at 65.7\n"
          ],
          "name": "stdout"
        },
        {
          "output_type": "display_data",
          "data": {
            "text/html": [
              "<br/>Waiting for W&B process to finish, PID 2348<br/>Program ended successfully."
            ],
            "text/plain": [
              "<IPython.core.display.HTML object>"
            ]
          },
          "metadata": {
            "tags": []
          }
        },
        {
          "output_type": "display_data",
          "data": {
            "application/vnd.jupyter.widget-view+json": {
              "model_id": "d893b8b7ecd0402daf7fac8235497d93",
              "version_minor": 0,
              "version_major": 2
            },
            "text/plain": [
              "VBox(children=(Label(value=' 0.26MB of 0.26MB uploaded (0.00MB deduped)\\r'), FloatProgress(value=1.0, max=1.0)…"
            ]
          },
          "metadata": {
            "tags": []
          }
        },
        {
          "output_type": "display_data",
          "data": {
            "text/html": [
              "Find user logs for this run at: <code>/content/wandb/run-20210729_030857-udmv9phl/logs/debug.log</code>"
            ],
            "text/plain": [
              "<IPython.core.display.HTML object>"
            ]
          },
          "metadata": {
            "tags": []
          }
        },
        {
          "output_type": "display_data",
          "data": {
            "text/html": [
              "Find internal logs for this run at: <code>/content/wandb/run-20210729_030857-udmv9phl/logs/debug-internal.log</code>"
            ],
            "text/plain": [
              "<IPython.core.display.HTML object>"
            ]
          },
          "metadata": {
            "tags": []
          }
        },
        {
          "output_type": "display_data",
          "data": {
            "text/html": [
              "<h3>Run summary:</h3><br/><style>\n",
              "    table.wandb td:nth-child(1) { padding: 0 10px; text-align: right }\n",
              "    </style><table class=\"wandb\">\n",
              "<tr><td>episode</td><td>3000</td></tr><tr><td>running_score</td><td>9.22369</td></tr><tr><td>_runtime</td><td>68</td></tr><tr><td>_timestamp</td><td>1627528205</td></tr><tr><td>_step</td><td>2999</td></tr></table>"
            ],
            "text/plain": [
              "<IPython.core.display.HTML object>"
            ]
          },
          "metadata": {
            "tags": []
          }
        },
        {
          "output_type": "display_data",
          "data": {
            "text/html": [
              "<h3>Run history:</h3><br/><style>\n",
              "    table.wandb td:nth-child(1) { padding: 0 10px; text-align: right }\n",
              "    </style><table class=\"wandb\">\n",
              "<tr><td>episode</td><td>▁▁▁▂▂▂▂▂▂▃▃▃▃▃▄▄▄▄▄▄▅▅▅▅▅▅▆▆▆▆▆▇▇▇▇▇▇███</td></tr><tr><td>running_score</td><td>▂▁▁▁▂▁▂▂▁▁▁▂▁▂▁▁▂▁▁▁▁▂▁▁▁▁▁▁█▂▁▁▁▂▂▁▁▁▁▁</td></tr><tr><td>_runtime</td><td>▁▁▁▂▂▂▂▂▂▃▃▃▃▃▄▄▄▄▄▄▅▅▅▅▅▅▆▆▆▆▆▇▇▇▇▇▇███</td></tr><tr><td>_timestamp</td><td>▁▁▁▂▂▂▂▂▂▃▃▃▃▃▄▄▄▄▄▄▅▅▅▅▅▅▆▆▆▆▆▇▇▇▇▇▇███</td></tr><tr><td>_step</td><td>▁▁▁▂▂▂▂▂▂▃▃▃▃▃▄▄▄▄▄▄▅▅▅▅▅▅▆▆▆▆▆▇▇▇▇▇▇███</td></tr></table><br/>"
            ],
            "text/plain": [
              "<IPython.core.display.HTML object>"
            ]
          },
          "metadata": {
            "tags": []
          }
        },
        {
          "output_type": "display_data",
          "data": {
            "text/html": [
              "Synced 5 W&B file(s), 0 media file(s), 2 artifact file(s) and 9 other file(s)"
            ],
            "text/plain": [
              "<IPython.core.display.HTML object>"
            ]
          },
          "metadata": {
            "tags": []
          }
        },
        {
          "output_type": "display_data",
          "data": {
            "text/html": [
              "\n",
              "                    <br/>Synced <strong style=\"color:#cdcd00\">fiery-sweep-7</strong>: <a href=\"https://wandb.ai/ko120/Advantage_Actor_Critic/runs/udmv9phl\" target=\"_blank\">https://wandb.ai/ko120/Advantage_Actor_Critic/runs/udmv9phl</a><br/>\n",
              "                "
            ],
            "text/plain": [
              "<IPython.core.display.HTML object>"
            ]
          },
          "metadata": {
            "tags": []
          }
        },
        {
          "output_type": "stream",
          "text": [
            "\u001b[34m\u001b[1mwandb\u001b[0m: Agent Starting Run: ynx1szp6 with config:\n",
            "\u001b[34m\u001b[1mwandb\u001b[0m: \tactor_learning_rate: 0.01\n",
            "\u001b[34m\u001b[1mwandb\u001b[0m: \tcritic_learning_rate: 0.0003\n",
            "\u001b[34m\u001b[1mwandb\u001b[0m: \tlearning: learn_mean\n",
            "\u001b[34m\u001b[1mwandb\u001b[0m: \tnum_neurons: 128\n",
            "\u001b[34m\u001b[1mwandb\u001b[0m: \toptimizer: Adam\n",
            "\u001b[34m\u001b[1mwandb\u001b[0m: \u001b[33mWARNING\u001b[0m Ignored wandb.init() arg project when running a sweep\n"
          ],
          "name": "stderr"
        },
        {
          "output_type": "display_data",
          "data": {
            "text/html": [
              "\n",
              "                Tracking run with wandb version 0.11.0<br/>\n",
              "                Syncing run <strong style=\"color:#cdcd00\">rose-sweep-8</strong> to <a href=\"https://wandb.ai\" target=\"_blank\">Weights & Biases</a> <a href=\"https://docs.wandb.com/integrations/jupyter.html\" target=\"_blank\">(Documentation)</a>.<br/>\n",
              "                Project page: <a href=\"https://wandb.ai/ko120/Advantage_Actor_Critic\" target=\"_blank\">https://wandb.ai/ko120/Advantage_Actor_Critic</a><br/>\n",
              "                Sweep page: <a href=\"https://wandb.ai/ko120/Advantage_Actor_Critic/sweeps/t9gia22t\" target=\"_blank\">https://wandb.ai/ko120/Advantage_Actor_Critic/sweeps/t9gia22t</a><br/>\n",
              "Run page: <a href=\"https://wandb.ai/ko120/Advantage_Actor_Critic/runs/ynx1szp6\" target=\"_blank\">https://wandb.ai/ko120/Advantage_Actor_Critic/runs/ynx1szp6</a><br/>\n",
              "                Run data is saved locally in <code>/content/wandb/run-20210729_031010-ynx1szp6</code><br/><br/>\n",
              "            "
            ],
            "text/plain": [
              "<IPython.core.display.HTML object>"
            ]
          },
          "metadata": {
            "tags": []
          }
        },
        {
          "output_type": "stream",
          "text": [
            "episode 100 average reward 9.6155461231107, ended at 2.5\n",
            "episode 200 average reward 9.50813304769929, ended at 4.6\n",
            "episode 300 average reward 9.300786518298054, ended at 6.7\n",
            "episode 400 average reward 9.277204740025473, ended at 8.8\n",
            "episode 500 average reward 9.273707052671034, ended at 10.9\n",
            "episode 600 average reward 9.32788986321278, ended at 13.0\n",
            "episode 700 average reward 9.333155867973732, ended at 15.1\n",
            "episode 800 average reward 9.523549421141825, ended at 17.1\n",
            "episode 900 average reward 9.673708625666013, ended at 19.3\n",
            "episode 1000 average reward 9.17122064557445, ended at 21.4\n",
            "episode 1100 average reward 9.39649773679353, ended at 23.6\n",
            "episode 1200 average reward 9.193564571194404, ended at 25.9\n",
            "episode 1300 average reward 9.48526540298333, ended at 28.1\n",
            "episode 1400 average reward 9.437208248169437, ended at 30.3\n",
            "episode 1500 average reward 9.555995245145606, ended at 32.6\n",
            "episode 1600 average reward 9.372828596848617, ended at 34.8\n",
            "episode 1700 average reward 9.426870873172193, ended at 37.0\n",
            "episode 1800 average reward 9.504937934970561, ended at 39.1\n",
            "episode 1900 average reward 9.297689564538206, ended at 41.3\n",
            "episode 2000 average reward 9.31162741969441, ended at 43.5\n",
            "episode 2100 average reward 9.091337826320018, ended at 45.7\n",
            "episode 2200 average reward 9.441037111571731, ended at 48.0\n",
            "episode 2300 average reward 9.265297265098313, ended at 50.1\n",
            "episode 2400 average reward 9.380244602654518, ended at 52.4\n",
            "episode 2500 average reward 9.508417775594229, ended at 54.7\n",
            "episode 2600 average reward 9.503556620775255, ended at 57.1\n",
            "episode 2700 average reward 9.244433719568844, ended at 59.3\n",
            "episode 2800 average reward 9.26738269019302, ended at 61.7\n",
            "episode 2900 average reward 9.40734350822574, ended at 64.0\n",
            "episode 3000 average reward 9.223688803871166, ended at 66.3\n"
          ],
          "name": "stdout"
        },
        {
          "output_type": "display_data",
          "data": {
            "text/html": [
              "<br/>Waiting for W&B process to finish, PID 2409<br/>Program ended successfully."
            ],
            "text/plain": [
              "<IPython.core.display.HTML object>"
            ]
          },
          "metadata": {
            "tags": []
          }
        },
        {
          "output_type": "display_data",
          "data": {
            "application/vnd.jupyter.widget-view+json": {
              "model_id": "ccec43fe7da64f9caaba85f5725ad3c8",
              "version_minor": 0,
              "version_major": 2
            },
            "text/plain": [
              "VBox(children=(Label(value=' 0.27MB of 0.27MB uploaded (0.00MB deduped)\\r'), FloatProgress(value=1.0, max=1.0)…"
            ]
          },
          "metadata": {
            "tags": []
          }
        },
        {
          "output_type": "display_data",
          "data": {
            "text/html": [
              "Find user logs for this run at: <code>/content/wandb/run-20210729_031010-ynx1szp6/logs/debug.log</code>"
            ],
            "text/plain": [
              "<IPython.core.display.HTML object>"
            ]
          },
          "metadata": {
            "tags": []
          }
        },
        {
          "output_type": "display_data",
          "data": {
            "text/html": [
              "Find internal logs for this run at: <code>/content/wandb/run-20210729_031010-ynx1szp6/logs/debug-internal.log</code>"
            ],
            "text/plain": [
              "<IPython.core.display.HTML object>"
            ]
          },
          "metadata": {
            "tags": []
          }
        },
        {
          "output_type": "display_data",
          "data": {
            "text/html": [
              "<h3>Run summary:</h3><br/><style>\n",
              "    table.wandb td:nth-child(1) { padding: 0 10px; text-align: right }\n",
              "    </style><table class=\"wandb\">\n",
              "<tr><td>episode</td><td>3000</td></tr><tr><td>running_score</td><td>9.22369</td></tr><tr><td>_runtime</td><td>68</td></tr><tr><td>_timestamp</td><td>1627528278</td></tr><tr><td>_step</td><td>2999</td></tr></table>"
            ],
            "text/plain": [
              "<IPython.core.display.HTML object>"
            ]
          },
          "metadata": {
            "tags": []
          }
        },
        {
          "output_type": "display_data",
          "data": {
            "text/html": [
              "<h3>Run history:</h3><br/><style>\n",
              "    table.wandb td:nth-child(1) { padding: 0 10px; text-align: right }\n",
              "    </style><table class=\"wandb\">\n",
              "<tr><td>episode</td><td>▁▁▁▂▂▂▂▂▂▃▃▃▃▃▄▄▄▄▄▄▅▅▅▅▅▅▆▆▆▆▆▇▇▇▇▇▇███</td></tr><tr><td>running_score</td><td>█▂▂▁▁▁▁▁▁▁▂▁▁▁▂▂▁▁▁▁▁▁▂▁▂▁▂▁▁▁▁▁▁▂▂▁▁▁▁▁</td></tr><tr><td>_runtime</td><td>▁▁▁▂▂▂▂▂▂▃▃▃▃▃▃▄▄▄▄▄▅▅▅▅▅▅▆▆▆▆▆▆▇▇▇▇▇███</td></tr><tr><td>_timestamp</td><td>▁▁▁▂▂▂▂▂▂▃▃▃▃▃▃▄▄▄▄▄▅▅▅▅▅▅▆▆▆▆▆▆▇▇▇▇▇███</td></tr><tr><td>_step</td><td>▁▁▁▂▂▂▂▂▂▃▃▃▃▃▄▄▄▄▄▄▅▅▅▅▅▅▆▆▆▆▆▇▇▇▇▇▇███</td></tr></table><br/>"
            ],
            "text/plain": [
              "<IPython.core.display.HTML object>"
            ]
          },
          "metadata": {
            "tags": []
          }
        },
        {
          "output_type": "display_data",
          "data": {
            "text/html": [
              "Synced 5 W&B file(s), 0 media file(s), 2 artifact file(s) and 9 other file(s)"
            ],
            "text/plain": [
              "<IPython.core.display.HTML object>"
            ]
          },
          "metadata": {
            "tags": []
          }
        },
        {
          "output_type": "display_data",
          "data": {
            "text/html": [
              "\n",
              "                    <br/>Synced <strong style=\"color:#cdcd00\">rose-sweep-8</strong>: <a href=\"https://wandb.ai/ko120/Advantage_Actor_Critic/runs/ynx1szp6\" target=\"_blank\">https://wandb.ai/ko120/Advantage_Actor_Critic/runs/ynx1szp6</a><br/>\n",
              "                "
            ],
            "text/plain": [
              "<IPython.core.display.HTML object>"
            ]
          },
          "metadata": {
            "tags": []
          }
        },
        {
          "output_type": "stream",
          "text": [
            "\u001b[34m\u001b[1mwandb\u001b[0m: Agent Starting Run: xzkcn85g with config:\n",
            "\u001b[34m\u001b[1mwandb\u001b[0m: \tactor_learning_rate: 0.01\n",
            "\u001b[34m\u001b[1mwandb\u001b[0m: \tcritic_learning_rate: 1e-05\n",
            "\u001b[34m\u001b[1mwandb\u001b[0m: \tlearning: learn_mean\n",
            "\u001b[34m\u001b[1mwandb\u001b[0m: \tnum_neurons: 128\n",
            "\u001b[34m\u001b[1mwandb\u001b[0m: \toptimizer: RMSprop\n",
            "\u001b[34m\u001b[1mwandb\u001b[0m: \u001b[33mWARNING\u001b[0m Ignored wandb.init() arg project when running a sweep\n"
          ],
          "name": "stderr"
        },
        {
          "output_type": "display_data",
          "data": {
            "text/html": [
              "\n",
              "                Tracking run with wandb version 0.11.0<br/>\n",
              "                Syncing run <strong style=\"color:#cdcd00\">whole-sweep-9</strong> to <a href=\"https://wandb.ai\" target=\"_blank\">Weights & Biases</a> <a href=\"https://docs.wandb.com/integrations/jupyter.html\" target=\"_blank\">(Documentation)</a>.<br/>\n",
              "                Project page: <a href=\"https://wandb.ai/ko120/Advantage_Actor_Critic\" target=\"_blank\">https://wandb.ai/ko120/Advantage_Actor_Critic</a><br/>\n",
              "                Sweep page: <a href=\"https://wandb.ai/ko120/Advantage_Actor_Critic/sweeps/t9gia22t\" target=\"_blank\">https://wandb.ai/ko120/Advantage_Actor_Critic/sweeps/t9gia22t</a><br/>\n",
              "Run page: <a href=\"https://wandb.ai/ko120/Advantage_Actor_Critic/runs/xzkcn85g\" target=\"_blank\">https://wandb.ai/ko120/Advantage_Actor_Critic/runs/xzkcn85g</a><br/>\n",
              "                Run data is saved locally in <code>/content/wandb/run-20210729_031124-xzkcn85g</code><br/><br/>\n",
              "            "
            ],
            "text/plain": [
              "<IPython.core.display.HTML object>"
            ]
          },
          "metadata": {
            "tags": []
          }
        },
        {
          "output_type": "stream",
          "text": [
            "episode 100 average reward 9.330509379812371, ended at 2.1\n",
            "episode 200 average reward 9.279230110726518, ended at 4.1\n",
            "episode 300 average reward 9.457789786129913, ended at 6.2\n",
            "episode 400 average reward 9.267436659902199, ended at 8.3\n",
            "episode 500 average reward 9.350072574846532, ended at 10.3\n",
            "episode 600 average reward 9.419099381342413, ended at 12.5\n",
            "episode 700 average reward 9.46243508339491, ended at 14.5\n",
            "episode 800 average reward 9.259286901606998, ended at 16.6\n",
            "episode 900 average reward 9.110490440818939, ended at 18.7\n",
            "episode 1000 average reward 9.545656879526401, ended at 20.8\n",
            "episode 1100 average reward 9.321990789299901, ended at 23.0\n",
            "episode 1200 average reward 9.446234309539754, ended at 25.1\n",
            "episode 1300 average reward 9.348174091901857, ended at 27.3\n",
            "episode 1400 average reward 9.250518207704413, ended at 29.4\n",
            "episode 1500 average reward 9.167738635855713, ended at 31.6\n",
            "episode 1600 average reward 9.43553113140906, ended at 33.8\n",
            "episode 1700 average reward 9.336789191668052, ended at 35.9\n",
            "episode 1800 average reward 9.243030675178025, ended at 38.1\n",
            "episode 1900 average reward 9.329301801537603, ended at 40.3\n",
            "episode 2000 average reward 9.379995705473192, ended at 42.4\n",
            "episode 2100 average reward 9.604065091103212, ended at 44.7\n",
            "episode 2200 average reward 9.291428851198617, ended at 46.9\n",
            "episode 2300 average reward 9.438612963369225, ended at 49.3\n",
            "episode 2400 average reward 9.217391668339086, ended at 51.6\n",
            "episode 2500 average reward 9.307382644882633, ended at 53.9\n",
            "episode 2600 average reward 9.395026766903836, ended at 56.2\n",
            "episode 2700 average reward 9.46968064792383, ended at 58.5\n",
            "episode 2800 average reward 9.397343429054061, ended at 60.8\n",
            "episode 2900 average reward 9.376287640502797, ended at 63.1\n",
            "episode 3000 average reward 9.508171334226079, ended at 65.4\n"
          ],
          "name": "stdout"
        },
        {
          "output_type": "display_data",
          "data": {
            "text/html": [
              "<br/>Waiting for W&B process to finish, PID 2472<br/>Program ended successfully."
            ],
            "text/plain": [
              "<IPython.core.display.HTML object>"
            ]
          },
          "metadata": {
            "tags": []
          }
        },
        {
          "output_type": "display_data",
          "data": {
            "application/vnd.jupyter.widget-view+json": {
              "model_id": "b883b079c3544b88b55f5d56934e3da4",
              "version_minor": 0,
              "version_major": 2
            },
            "text/plain": [
              "VBox(children=(Label(value=' 0.29MB of 0.29MB uploaded (0.00MB deduped)\\r'), FloatProgress(value=1.0, max=1.0)…"
            ]
          },
          "metadata": {
            "tags": []
          }
        },
        {
          "output_type": "display_data",
          "data": {
            "text/html": [
              "Find user logs for this run at: <code>/content/wandb/run-20210729_031124-xzkcn85g/logs/debug.log</code>"
            ],
            "text/plain": [
              "<IPython.core.display.HTML object>"
            ]
          },
          "metadata": {
            "tags": []
          }
        },
        {
          "output_type": "display_data",
          "data": {
            "text/html": [
              "Find internal logs for this run at: <code>/content/wandb/run-20210729_031124-xzkcn85g/logs/debug-internal.log</code>"
            ],
            "text/plain": [
              "<IPython.core.display.HTML object>"
            ]
          },
          "metadata": {
            "tags": []
          }
        },
        {
          "output_type": "display_data",
          "data": {
            "text/html": [
              "<h3>Run summary:</h3><br/><style>\n",
              "    table.wandb td:nth-child(1) { padding: 0 10px; text-align: right }\n",
              "    </style><table class=\"wandb\">\n",
              "<tr><td>episode</td><td>3000</td></tr><tr><td>running_score</td><td>9.50817</td></tr><tr><td>_runtime</td><td>68</td></tr><tr><td>_timestamp</td><td>1627528352</td></tr><tr><td>_step</td><td>2999</td></tr></table>"
            ],
            "text/plain": [
              "<IPython.core.display.HTML object>"
            ]
          },
          "metadata": {
            "tags": []
          }
        },
        {
          "output_type": "display_data",
          "data": {
            "text/html": [
              "<h3>Run history:</h3><br/><style>\n",
              "    table.wandb td:nth-child(1) { padding: 0 10px; text-align: right }\n",
              "    </style><table class=\"wandb\">\n",
              "<tr><td>episode</td><td>▁▁▁▂▂▂▂▂▂▃▃▃▃▃▄▄▄▄▄▄▅▅▅▅▅▅▆▆▆▆▆▇▇▇▇▇▇███</td></tr><tr><td>running_score</td><td>█▂▂▂▃▁▃▃▃▂▁▃▂▃▂▁▃▂▁▂▂▃▂▂▁▂▂▂▂▃▂▃▂▁▂▃▄▂▂▂</td></tr><tr><td>_runtime</td><td>▁▁▁▂▂▂▂▂▂▃▃▃▃▃▃▄▄▄▄▄▅▅▅▅▅▅▆▆▆▆▆▆▇▇▇▇▇███</td></tr><tr><td>_timestamp</td><td>▁▁▁▂▂▂▂▂▂▃▃▃▃▃▃▄▄▄▄▄▅▅▅▅▅▅▆▆▆▆▆▆▇▇▇▇▇███</td></tr><tr><td>_step</td><td>▁▁▁▂▂▂▂▂▂▃▃▃▃▃▄▄▄▄▄▄▅▅▅▅▅▅▆▆▆▆▆▇▇▇▇▇▇███</td></tr></table><br/>"
            ],
            "text/plain": [
              "<IPython.core.display.HTML object>"
            ]
          },
          "metadata": {
            "tags": []
          }
        },
        {
          "output_type": "display_data",
          "data": {
            "text/html": [
              "Synced 5 W&B file(s), 0 media file(s), 2 artifact file(s) and 9 other file(s)"
            ],
            "text/plain": [
              "<IPython.core.display.HTML object>"
            ]
          },
          "metadata": {
            "tags": []
          }
        },
        {
          "output_type": "display_data",
          "data": {
            "text/html": [
              "\n",
              "                    <br/>Synced <strong style=\"color:#cdcd00\">whole-sweep-9</strong>: <a href=\"https://wandb.ai/ko120/Advantage_Actor_Critic/runs/xzkcn85g\" target=\"_blank\">https://wandb.ai/ko120/Advantage_Actor_Critic/runs/xzkcn85g</a><br/>\n",
              "                "
            ],
            "text/plain": [
              "<IPython.core.display.HTML object>"
            ]
          },
          "metadata": {
            "tags": []
          }
        },
        {
          "output_type": "stream",
          "text": [
            "\u001b[34m\u001b[1mwandb\u001b[0m: Agent Starting Run: qjm9pm3k with config:\n",
            "\u001b[34m\u001b[1mwandb\u001b[0m: \tactor_learning_rate: 0.01\n",
            "\u001b[34m\u001b[1mwandb\u001b[0m: \tcritic_learning_rate: 1e-05\n",
            "\u001b[34m\u001b[1mwandb\u001b[0m: \tlearning: learn_mean\n",
            "\u001b[34m\u001b[1mwandb\u001b[0m: \tnum_neurons: 128\n",
            "\u001b[34m\u001b[1mwandb\u001b[0m: \toptimizer: Adam\n",
            "\u001b[34m\u001b[1mwandb\u001b[0m: \u001b[33mWARNING\u001b[0m Ignored wandb.init() arg project when running a sweep\n"
          ],
          "name": "stderr"
        },
        {
          "output_type": "display_data",
          "data": {
            "text/html": [
              "\n",
              "                Tracking run with wandb version 0.11.0<br/>\n",
              "                Syncing run <strong style=\"color:#cdcd00\">rich-sweep-10</strong> to <a href=\"https://wandb.ai\" target=\"_blank\">Weights & Biases</a> <a href=\"https://docs.wandb.com/integrations/jupyter.html\" target=\"_blank\">(Documentation)</a>.<br/>\n",
              "                Project page: <a href=\"https://wandb.ai/ko120/Advantage_Actor_Critic\" target=\"_blank\">https://wandb.ai/ko120/Advantage_Actor_Critic</a><br/>\n",
              "                Sweep page: <a href=\"https://wandb.ai/ko120/Advantage_Actor_Critic/sweeps/t9gia22t\" target=\"_blank\">https://wandb.ai/ko120/Advantage_Actor_Critic/sweeps/t9gia22t</a><br/>\n",
              "Run page: <a href=\"https://wandb.ai/ko120/Advantage_Actor_Critic/runs/qjm9pm3k\" target=\"_blank\">https://wandb.ai/ko120/Advantage_Actor_Critic/runs/qjm9pm3k</a><br/>\n",
              "                Run data is saved locally in <code>/content/wandb/run-20210729_031237-qjm9pm3k</code><br/><br/>\n",
              "            "
            ],
            "text/plain": [
              "<IPython.core.display.HTML object>"
            ]
          },
          "metadata": {
            "tags": []
          }
        },
        {
          "output_type": "stream",
          "text": [
            "episode 100 average reward 9.6155461231107, ended at 2.3\n",
            "episode 200 average reward 11.440452241039267, ended at 4.8\n",
            "episode 300 average reward 9.3553382658701, ended at 7.1\n",
            "episode 400 average reward 9.277527715240993, ended at 9.3\n",
            "episode 500 average reward 9.273708964855233, ended at 11.6\n",
            "episode 600 average reward 9.32788987453392, ended at 13.8\n",
            "episode 700 average reward 9.333155868040755, ended at 16.1\n",
            "episode 800 average reward 9.523549421142219, ended at 18.4\n",
            "episode 900 average reward 9.673708625666015, ended at 20.6\n",
            "episode 1000 average reward 9.17122064557445, ended at 22.8\n",
            "episode 1100 average reward 9.39649773679353, ended at 25.2\n",
            "episode 1200 average reward 9.193564571194404, ended at 27.6\n",
            "episode 1300 average reward 9.48526540298333, ended at 29.9\n",
            "episode 1400 average reward 9.437208248169437, ended at 32.3\n",
            "episode 1500 average reward 9.555995245145606, ended at 34.5\n",
            "episode 1600 average reward 9.372828596848617, ended at 36.7\n",
            "episode 1700 average reward 9.617475652913049, ended at 38.9\n",
            "episode 1800 average reward 9.506066416138554, ended at 41.1\n",
            "episode 1900 average reward 9.297696245743937, ended at 43.3\n",
            "episode 2000 average reward 9.311627459250685, ended at 45.5\n",
            "episode 2100 average reward 9.091337826554211, ended at 47.8\n",
            "episode 2200 average reward 9.441037111573117, ended at 50.0\n",
            "episode 2300 average reward 9.265297265098322, ended at 52.2\n",
            "episode 2400 average reward 9.380244602654518, ended at 54.4\n",
            "episode 2500 average reward 9.508417775594229, ended at 56.5\n",
            "episode 2600 average reward 9.503556620775255, ended at 58.7\n",
            "episode 2700 average reward 9.244433719568844, ended at 60.9\n",
            "episode 2800 average reward 9.26738269019302, ended at 63.0\n",
            "episode 2900 average reward 9.40734350822574, ended at 65.2\n",
            "episode 3000 average reward 9.223688803871166, ended at 67.4\n"
          ],
          "name": "stdout"
        },
        {
          "output_type": "display_data",
          "data": {
            "text/html": [
              "<br/>Waiting for W&B process to finish, PID 2533<br/>Program ended successfully."
            ],
            "text/plain": [
              "<IPython.core.display.HTML object>"
            ]
          },
          "metadata": {
            "tags": []
          }
        },
        {
          "output_type": "display_data",
          "data": {
            "application/vnd.jupyter.widget-view+json": {
              "model_id": "167d67cf31294a6caeaa265c0a3d36b1",
              "version_minor": 0,
              "version_major": 2
            },
            "text/plain": [
              "VBox(children=(Label(value=' 0.30MB of 0.30MB uploaded (0.00MB deduped)\\r'), FloatProgress(value=1.0, max=1.0)…"
            ]
          },
          "metadata": {
            "tags": []
          }
        },
        {
          "output_type": "display_data",
          "data": {
            "text/html": [
              "Find user logs for this run at: <code>/content/wandb/run-20210729_031237-qjm9pm3k/logs/debug.log</code>"
            ],
            "text/plain": [
              "<IPython.core.display.HTML object>"
            ]
          },
          "metadata": {
            "tags": []
          }
        },
        {
          "output_type": "display_data",
          "data": {
            "text/html": [
              "Find internal logs for this run at: <code>/content/wandb/run-20210729_031237-qjm9pm3k/logs/debug-internal.log</code>"
            ],
            "text/plain": [
              "<IPython.core.display.HTML object>"
            ]
          },
          "metadata": {
            "tags": []
          }
        },
        {
          "output_type": "display_data",
          "data": {
            "text/html": [
              "<h3>Run summary:</h3><br/><style>\n",
              "    table.wandb td:nth-child(1) { padding: 0 10px; text-align: right }\n",
              "    </style><table class=\"wandb\">\n",
              "<tr><td>episode</td><td>3000</td></tr><tr><td>running_score</td><td>9.22369</td></tr><tr><td>_runtime</td><td>70</td></tr><tr><td>_timestamp</td><td>1627528427</td></tr><tr><td>_step</td><td>2999</td></tr></table>"
            ],
            "text/plain": [
              "<IPython.core.display.HTML object>"
            ]
          },
          "metadata": {
            "tags": []
          }
        },
        {
          "output_type": "display_data",
          "data": {
            "text/html": [
              "<h3>Run history:</h3><br/><style>\n",
              "    table.wandb td:nth-child(1) { padding: 0 10px; text-align: right }\n",
              "    </style><table class=\"wandb\">\n",
              "<tr><td>episode</td><td>▁▁▁▂▂▂▂▂▂▃▃▃▃▃▄▄▄▄▄▄▅▅▅▅▅▅▆▆▆▆▆▇▇▇▇▇▇███</td></tr><tr><td>running_score</td><td>█▂▃▁▁▁▁▁▁▁▂▁▁▁▂▂▁▁▁▁▁▁▂▁▂▁▂▁▁▁▁▁▁▂▂▁▁▁▁▁</td></tr><tr><td>_runtime</td><td>▁▁▁▂▂▂▂▂▂▃▃▃▃▃▄▄▄▄▄▄▅▅▅▅▅▅▆▆▆▆▆▇▇▇▇▇▇███</td></tr><tr><td>_timestamp</td><td>▁▁▁▂▂▂▂▂▂▃▃▃▃▃▄▄▄▄▄▄▅▅▅▅▅▅▆▆▆▆▆▇▇▇▇▇▇███</td></tr><tr><td>_step</td><td>▁▁▁▂▂▂▂▂▂▃▃▃▃▃▄▄▄▄▄▄▅▅▅▅▅▅▆▆▆▆▆▇▇▇▇▇▇███</td></tr></table><br/>"
            ],
            "text/plain": [
              "<IPython.core.display.HTML object>"
            ]
          },
          "metadata": {
            "tags": []
          }
        },
        {
          "output_type": "display_data",
          "data": {
            "text/html": [
              "Synced 5 W&B file(s), 0 media file(s), 2 artifact file(s) and 9 other file(s)"
            ],
            "text/plain": [
              "<IPython.core.display.HTML object>"
            ]
          },
          "metadata": {
            "tags": []
          }
        },
        {
          "output_type": "display_data",
          "data": {
            "text/html": [
              "\n",
              "                    <br/>Synced <strong style=\"color:#cdcd00\">rich-sweep-10</strong>: <a href=\"https://wandb.ai/ko120/Advantage_Actor_Critic/runs/qjm9pm3k\" target=\"_blank\">https://wandb.ai/ko120/Advantage_Actor_Critic/runs/qjm9pm3k</a><br/>\n",
              "                "
            ],
            "text/plain": [
              "<IPython.core.display.HTML object>"
            ]
          },
          "metadata": {
            "tags": []
          }
        },
        {
          "output_type": "stream",
          "text": [
            "\u001b[34m\u001b[1mwandb\u001b[0m: Agent Starting Run: lppgqebl with config:\n",
            "\u001b[34m\u001b[1mwandb\u001b[0m: \tactor_learning_rate: 0.001\n",
            "\u001b[34m\u001b[1mwandb\u001b[0m: \tcritic_learning_rate: 0.01\n",
            "\u001b[34m\u001b[1mwandb\u001b[0m: \tlearning: learn_mean\n",
            "\u001b[34m\u001b[1mwandb\u001b[0m: \tnum_neurons: 128\n",
            "\u001b[34m\u001b[1mwandb\u001b[0m: \toptimizer: RMSprop\n",
            "\u001b[34m\u001b[1mwandb\u001b[0m: \u001b[33mWARNING\u001b[0m Ignored wandb.init() arg project when running a sweep\n"
          ],
          "name": "stderr"
        },
        {
          "output_type": "display_data",
          "data": {
            "text/html": [
              "\n",
              "                Tracking run with wandb version 0.11.0<br/>\n",
              "                Syncing run <strong style=\"color:#cdcd00\">summer-sweep-11</strong> to <a href=\"https://wandb.ai\" target=\"_blank\">Weights & Biases</a> <a href=\"https://docs.wandb.com/integrations/jupyter.html\" target=\"_blank\">(Documentation)</a>.<br/>\n",
              "                Project page: <a href=\"https://wandb.ai/ko120/Advantage_Actor_Critic\" target=\"_blank\">https://wandb.ai/ko120/Advantage_Actor_Critic</a><br/>\n",
              "                Sweep page: <a href=\"https://wandb.ai/ko120/Advantage_Actor_Critic/sweeps/t9gia22t\" target=\"_blank\">https://wandb.ai/ko120/Advantage_Actor_Critic/sweeps/t9gia22t</a><br/>\n",
              "Run page: <a href=\"https://wandb.ai/ko120/Advantage_Actor_Critic/runs/lppgqebl\" target=\"_blank\">https://wandb.ai/ko120/Advantage_Actor_Critic/runs/lppgqebl</a><br/>\n",
              "                Run data is saved locally in <code>/content/wandb/run-20210729_031352-lppgqebl</code><br/><br/>\n",
              "            "
            ],
            "text/plain": [
              "<IPython.core.display.HTML object>"
            ]
          },
          "metadata": {
            "tags": []
          }
        },
        {
          "output_type": "stream",
          "text": [
            "episode 100 average reward 38.49117845323453, ended at 5.4\n",
            "episode 200 average reward 90.98396247552904, ended at 19.8\n",
            "episode 300 average reward 234.6990089442594, ended at 56.8\n",
            "episode 400 average reward 429.7758558350067, ended at 132.5\n",
            "episode 500 average reward 464.1382824032045, ended at 222.4\n",
            "episode 600 average reward 480.24216683987, ended at 318.6\n",
            "episode 700 average reward 499.7075886278137, ended at 416.7\n",
            "episode 800 average reward 499.9982687699262, ended at 516.2\n",
            "episode 900 average reward 499.99998975020134, ended at 616.0\n",
            "episode 1000 average reward 499.99999993931544, ended at 714.5\n",
            "episode 1100 average reward 499.9999999996403, ended at 816.7\n",
            "episode 1200 average reward 499.9999999999974, ended at 917.1\n",
            "episode 1300 average reward 499.99999999999903, ended at 1015.6\n",
            "episode 1400 average reward 499.99999999999903, ended at 1115.5\n",
            "episode 1500 average reward 499.99999999999903, ended at 1214.1\n",
            "episode 1600 average reward 499.99999999999903, ended at 1314.4\n",
            "episode 1700 average reward 499.99999999999903, ended at 1414.5\n",
            "episode 1800 average reward 499.99999999999903, ended at 1513.0\n",
            "episode 1900 average reward 499.99999999999903, ended at 1612.8\n",
            "episode 2000 average reward 499.99999999999903, ended at 1712.5\n",
            "episode 2100 average reward 499.99999999999903, ended at 1812.4\n",
            "episode 2200 average reward 499.99999999999903, ended at 1914.3\n",
            "episode 2300 average reward 499.99999999999903, ended at 2015.0\n",
            "episode 2400 average reward 499.99999999999903, ended at 2113.9\n",
            "episode 2500 average reward 498.3345822887974, ended at 2213.2\n",
            "episode 2600 average reward 499.99013984577635, ended at 2312.7\n",
            "episode 2700 average reward 499.9999416226683, ended at 2411.3\n",
            "episode 2800 average reward 499.99999965437485, ended at 2511.6\n",
            "episode 2900 average reward 492.4927141777295, ended at 2609.9\n",
            "episode 3000 average reward 499.95555289492347, ended at 2708.3\n"
          ],
          "name": "stdout"
        },
        {
          "output_type": "display_data",
          "data": {
            "text/html": [
              "<br/>Waiting for W&B process to finish, PID 2594<br/>Program ended successfully."
            ],
            "text/plain": [
              "<IPython.core.display.HTML object>"
            ]
          },
          "metadata": {
            "tags": []
          }
        },
        {
          "output_type": "display_data",
          "data": {
            "application/vnd.jupyter.widget-view+json": {
              "model_id": "a39d28f1ff4942dfb87712511a615e51",
              "version_minor": 0,
              "version_major": 2
            },
            "text/plain": [
              "VBox(children=(Label(value=' 0.31MB of 0.31MB uploaded (0.00MB deduped)\\r'), FloatProgress(value=1.0, max=1.0)…"
            ]
          },
          "metadata": {
            "tags": []
          }
        },
        {
          "output_type": "display_data",
          "data": {
            "text/html": [
              "Find user logs for this run at: <code>/content/wandb/run-20210729_031352-lppgqebl/logs/debug.log</code>"
            ],
            "text/plain": [
              "<IPython.core.display.HTML object>"
            ]
          },
          "metadata": {
            "tags": []
          }
        },
        {
          "output_type": "display_data",
          "data": {
            "text/html": [
              "Find internal logs for this run at: <code>/content/wandb/run-20210729_031352-lppgqebl/logs/debug-internal.log</code>"
            ],
            "text/plain": [
              "<IPython.core.display.HTML object>"
            ]
          },
          "metadata": {
            "tags": []
          }
        },
        {
          "output_type": "display_data",
          "data": {
            "text/html": [
              "<h3>Run summary:</h3><br/><style>\n",
              "    table.wandb td:nth-child(1) { padding: 0 10px; text-align: right }\n",
              "    </style><table class=\"wandb\">\n",
              "<tr><td>episode</td><td>3000</td></tr><tr><td>running_score</td><td>499.95555</td></tr><tr><td>_runtime</td><td>2711</td></tr><tr><td>_timestamp</td><td>1627531143</td></tr><tr><td>_step</td><td>2999</td></tr></table>"
            ],
            "text/plain": [
              "<IPython.core.display.HTML object>"
            ]
          },
          "metadata": {
            "tags": []
          }
        },
        {
          "output_type": "display_data",
          "data": {
            "text/html": [
              "<h3>Run history:</h3><br/><style>\n",
              "    table.wandb td:nth-child(1) { padding: 0 10px; text-align: right }\n",
              "    </style><table class=\"wandb\">\n",
              "<tr><td>episode</td><td>▁▁▁▂▂▂▂▂▂▃▃▃▃▃▄▄▄▄▄▄▅▅▅▅▅▅▆▆▆▆▆▇▇▇▇▇▇███</td></tr><tr><td>running_score</td><td>▁▁▂▃▅▆██████████████████████████████████</td></tr><tr><td>_runtime</td><td>▁▁▁▁▁▁▂▂▂▂▂▂▃▃▃▃▃▄▄▄▄▄▅▅▅▅▅▆▆▆▆▆▇▇▇▇▇███</td></tr><tr><td>_timestamp</td><td>▁▁▁▁▁▁▂▂▂▂▂▂▃▃▃▃▃▄▄▄▄▄▅▅▅▅▅▆▆▆▆▆▇▇▇▇▇███</td></tr><tr><td>_step</td><td>▁▁▁▂▂▂▂▂▂▃▃▃▃▃▄▄▄▄▄▄▅▅▅▅▅▅▆▆▆▆▆▇▇▇▇▇▇███</td></tr></table><br/>"
            ],
            "text/plain": [
              "<IPython.core.display.HTML object>"
            ]
          },
          "metadata": {
            "tags": []
          }
        },
        {
          "output_type": "display_data",
          "data": {
            "text/html": [
              "Synced 5 W&B file(s), 0 media file(s), 2 artifact file(s) and 9 other file(s)"
            ],
            "text/plain": [
              "<IPython.core.display.HTML object>"
            ]
          },
          "metadata": {
            "tags": []
          }
        },
        {
          "output_type": "display_data",
          "data": {
            "text/html": [
              "\n",
              "                    <br/>Synced <strong style=\"color:#cdcd00\">summer-sweep-11</strong>: <a href=\"https://wandb.ai/ko120/Advantage_Actor_Critic/runs/lppgqebl\" target=\"_blank\">https://wandb.ai/ko120/Advantage_Actor_Critic/runs/lppgqebl</a><br/>\n",
              "                "
            ],
            "text/plain": [
              "<IPython.core.display.HTML object>"
            ]
          },
          "metadata": {
            "tags": []
          }
        },
        {
          "output_type": "stream",
          "text": [
            "\u001b[34m\u001b[1mwandb\u001b[0m: Agent Starting Run: jg7e6uyz with config:\n",
            "\u001b[34m\u001b[1mwandb\u001b[0m: \tactor_learning_rate: 0.001\n",
            "\u001b[34m\u001b[1mwandb\u001b[0m: \tcritic_learning_rate: 0.01\n",
            "\u001b[34m\u001b[1mwandb\u001b[0m: \tlearning: learn_mean\n",
            "\u001b[34m\u001b[1mwandb\u001b[0m: \tnum_neurons: 128\n",
            "\u001b[34m\u001b[1mwandb\u001b[0m: \toptimizer: Adam\n",
            "\u001b[34m\u001b[1mwandb\u001b[0m: \u001b[33mWARNING\u001b[0m Ignored wandb.init() arg project when running a sweep\n"
          ],
          "name": "stderr"
        },
        {
          "output_type": "display_data",
          "data": {
            "text/html": [
              "\n",
              "                Tracking run with wandb version 0.11.0<br/>\n",
              "                Syncing run <strong style=\"color:#cdcd00\">rural-sweep-12</strong> to <a href=\"https://wandb.ai\" target=\"_blank\">Weights & Biases</a> <a href=\"https://docs.wandb.com/integrations/jupyter.html\" target=\"_blank\">(Documentation)</a>.<br/>\n",
              "                Project page: <a href=\"https://wandb.ai/ko120/Advantage_Actor_Critic\" target=\"_blank\">https://wandb.ai/ko120/Advantage_Actor_Critic</a><br/>\n",
              "                Sweep page: <a href=\"https://wandb.ai/ko120/Advantage_Actor_Critic/sweeps/t9gia22t\" target=\"_blank\">https://wandb.ai/ko120/Advantage_Actor_Critic/sweeps/t9gia22t</a><br/>\n",
              "Run page: <a href=\"https://wandb.ai/ko120/Advantage_Actor_Critic/runs/jg7e6uyz\" target=\"_blank\">https://wandb.ai/ko120/Advantage_Actor_Critic/runs/jg7e6uyz</a><br/>\n",
              "                Run data is saved locally in <code>/content/wandb/run-20210729_035908-jg7e6uyz</code><br/><br/>\n",
              "            "
            ],
            "text/plain": [
              "<IPython.core.display.HTML object>"
            ]
          },
          "metadata": {
            "tags": []
          }
        },
        {
          "output_type": "stream",
          "text": [
            "episode 100 average reward 22.127096391631376, ended at 4.1\n",
            "episode 200 average reward 46.88088931368053, ended at 12.7\n",
            "episode 300 average reward 130.29734753758626, ended at 31.7\n",
            "episode 400 average reward 102.96884628686925, ended at 68.8\n",
            "episode 500 average reward 71.41966375582756, ended at 93.0\n",
            "episode 600 average reward 149.96102165371136, ended at 116.4\n",
            "episode 700 average reward 176.29007432864043, ended at 149.0\n",
            "episode 800 average reward 291.07787461774853, ended at 192.8\n",
            "episode 900 average reward 129.28146845242324, ended at 232.8\n",
            "episode 1000 average reward 175.18641910894772, ended at 275.2\n",
            "episode 1100 average reward 181.50422997864825, ended at 309.6\n",
            "episode 1200 average reward 360.91919283614226, ended at 369.2\n",
            "episode 1300 average reward 495.65447287099516, ended at 463.1\n",
            "episode 1400 average reward 499.9742721796545, ended at 562.5\n",
            "episode 1500 average reward 499.99984767768746, ended at 662.5\n",
            "episode 1600 average reward 499.4254025550004, ended at 761.4\n",
            "episode 1700 average reward 499.9965980790365, ended at 861.9\n",
            "episode 1800 average reward 499.99997985882715, ended at 961.7\n",
            "episode 1900 average reward 499.9999998807532, ended at 1060.7\n",
            "episode 2000 average reward 499.9999999992935, ended at 1161.4\n",
            "episode 2100 average reward 499.9999999999954, ended at 1261.9\n",
            "episode 2200 average reward 499.99999999999903, ended at 1361.5\n",
            "episode 2300 average reward 499.99999999999903, ended at 1460.9\n",
            "episode 2400 average reward 499.99999999999903, ended at 1561.4\n",
            "episode 2500 average reward 499.99999999999903, ended at 1660.8\n",
            "episode 2600 average reward 499.99999999999903, ended at 1761.3\n",
            "episode 2700 average reward 499.99999999999903, ended at 1861.1\n",
            "episode 2800 average reward 499.99999999999903, ended at 1959.2\n",
            "episode 2900 average reward 499.99999999999903, ended at 2059.0\n",
            "episode 3000 average reward 499.99999999999903, ended at 2160.2\n"
          ],
          "name": "stdout"
        },
        {
          "output_type": "display_data",
          "data": {
            "text/html": [
              "<br/>Waiting for W&B process to finish, PID 3177<br/>Program ended successfully."
            ],
            "text/plain": [
              "<IPython.core.display.HTML object>"
            ]
          },
          "metadata": {
            "tags": []
          }
        },
        {
          "output_type": "display_data",
          "data": {
            "application/vnd.jupyter.widget-view+json": {
              "model_id": "4ef4ca263b074b7f92c38384990d93ca",
              "version_minor": 0,
              "version_major": 2
            },
            "text/plain": [
              "VBox(children=(Label(value=' 0.33MB of 0.33MB uploaded (0.00MB deduped)\\r'), FloatProgress(value=1.0, max=1.0)…"
            ]
          },
          "metadata": {
            "tags": []
          }
        },
        {
          "output_type": "display_data",
          "data": {
            "text/html": [
              "Find user logs for this run at: <code>/content/wandb/run-20210729_035908-jg7e6uyz/logs/debug.log</code>"
            ],
            "text/plain": [
              "<IPython.core.display.HTML object>"
            ]
          },
          "metadata": {
            "tags": []
          }
        },
        {
          "output_type": "display_data",
          "data": {
            "text/html": [
              "Find internal logs for this run at: <code>/content/wandb/run-20210729_035908-jg7e6uyz/logs/debug-internal.log</code>"
            ],
            "text/plain": [
              "<IPython.core.display.HTML object>"
            ]
          },
          "metadata": {
            "tags": []
          }
        },
        {
          "output_type": "display_data",
          "data": {
            "text/html": [
              "<h3>Run summary:</h3><br/><style>\n",
              "    table.wandb td:nth-child(1) { padding: 0 10px; text-align: right }\n",
              "    </style><table class=\"wandb\">\n",
              "<tr><td>episode</td><td>3000</td></tr><tr><td>running_score</td><td>500.0</td></tr><tr><td>_runtime</td><td>2163</td></tr><tr><td>_timestamp</td><td>1627533311</td></tr><tr><td>_step</td><td>2999</td></tr></table>"
            ],
            "text/plain": [
              "<IPython.core.display.HTML object>"
            ]
          },
          "metadata": {
            "tags": []
          }
        },
        {
          "output_type": "display_data",
          "data": {
            "text/html": [
              "<h3>Run history:</h3><br/><style>\n",
              "    table.wandb td:nth-child(1) { padding: 0 10px; text-align: right }\n",
              "    </style><table class=\"wandb\">\n",
              "<tr><td>episode</td><td>▁▁▁▂▂▂▂▂▂▃▃▃▃▃▄▄▄▄▄▄▅▅▅▅▅▅▆▆▆▆▆▇▇▇▇▇▇███</td></tr><tr><td>running_score</td><td>▁▁▁▂▃▃▂▂▃▃▄▅▄▃▃▄▆███████████████████████</td></tr><tr><td>_runtime</td><td>▁▁▁▁▁▁▁▁▁▁▂▂▂▂▂▂▂▃▃▃▃▃▄▄▄▄▅▅▅▅▆▆▆▆▇▇▇▇██</td></tr><tr><td>_timestamp</td><td>▁▁▁▁▁▁▁▁▁▁▂▂▂▂▂▂▂▃▃▃▃▃▄▄▄▄▅▅▅▅▆▆▆▆▇▇▇▇██</td></tr><tr><td>_step</td><td>▁▁▁▂▂▂▂▂▂▃▃▃▃▃▄▄▄▄▄▄▅▅▅▅▅▅▆▆▆▆▆▇▇▇▇▇▇███</td></tr></table><br/>"
            ],
            "text/plain": [
              "<IPython.core.display.HTML object>"
            ]
          },
          "metadata": {
            "tags": []
          }
        },
        {
          "output_type": "display_data",
          "data": {
            "text/html": [
              "Synced 5 W&B file(s), 0 media file(s), 2 artifact file(s) and 9 other file(s)"
            ],
            "text/plain": [
              "<IPython.core.display.HTML object>"
            ]
          },
          "metadata": {
            "tags": []
          }
        },
        {
          "output_type": "display_data",
          "data": {
            "text/html": [
              "\n",
              "                    <br/>Synced <strong style=\"color:#cdcd00\">rural-sweep-12</strong>: <a href=\"https://wandb.ai/ko120/Advantage_Actor_Critic/runs/jg7e6uyz\" target=\"_blank\">https://wandb.ai/ko120/Advantage_Actor_Critic/runs/jg7e6uyz</a><br/>\n",
              "                "
            ],
            "text/plain": [
              "<IPython.core.display.HTML object>"
            ]
          },
          "metadata": {
            "tags": []
          }
        },
        {
          "output_type": "stream",
          "text": [
            "\u001b[34m\u001b[1mwandb\u001b[0m: Agent Starting Run: 0egf1a2p with config:\n",
            "\u001b[34m\u001b[1mwandb\u001b[0m: \tactor_learning_rate: 0.001\n",
            "\u001b[34m\u001b[1mwandb\u001b[0m: \tcritic_learning_rate: 0.001\n",
            "\u001b[34m\u001b[1mwandb\u001b[0m: \tlearning: learn_mean\n",
            "\u001b[34m\u001b[1mwandb\u001b[0m: \tnum_neurons: 128\n",
            "\u001b[34m\u001b[1mwandb\u001b[0m: \toptimizer: RMSprop\n",
            "\u001b[34m\u001b[1mwandb\u001b[0m: \u001b[33mWARNING\u001b[0m Ignored wandb.init() arg project when running a sweep\n"
          ],
          "name": "stderr"
        },
        {
          "output_type": "display_data",
          "data": {
            "text/html": [
              "\n",
              "                Tracking run with wandb version 0.11.0<br/>\n",
              "                Syncing run <strong style=\"color:#cdcd00\">crimson-sweep-13</strong> to <a href=\"https://wandb.ai\" target=\"_blank\">Weights & Biases</a> <a href=\"https://docs.wandb.com/integrations/jupyter.html\" target=\"_blank\">(Documentation)</a>.<br/>\n",
              "                Project page: <a href=\"https://wandb.ai/ko120/Advantage_Actor_Critic\" target=\"_blank\">https://wandb.ai/ko120/Advantage_Actor_Critic</a><br/>\n",
              "                Sweep page: <a href=\"https://wandb.ai/ko120/Advantage_Actor_Critic/sweeps/t9gia22t\" target=\"_blank\">https://wandb.ai/ko120/Advantage_Actor_Critic/sweeps/t9gia22t</a><br/>\n",
              "Run page: <a href=\"https://wandb.ai/ko120/Advantage_Actor_Critic/runs/0egf1a2p\" target=\"_blank\">https://wandb.ai/ko120/Advantage_Actor_Critic/runs/0egf1a2p</a><br/>\n",
              "                Run data is saved locally in <code>/content/wandb/run-20210729_043516-0egf1a2p</code><br/><br/>\n",
              "            "
            ],
            "text/plain": [
              "<IPython.core.display.HTML object>"
            ]
          },
          "metadata": {
            "tags": []
          }
        },
        {
          "output_type": "stream",
          "text": [
            "episode 100 average reward 10.100727452244117, ended at 2.2\n",
            "episode 200 average reward 10.098491133079564, ended at 4.4\n",
            "episode 300 average reward 31.047342971086774, ended at 9.6\n",
            "episode 400 average reward 43.20151360756624, ended at 17.1\n",
            "episode 500 average reward 47.69530800571525, ended at 25.9\n",
            "episode 600 average reward 63.43312705248867, ended at 36.9\n",
            "episode 700 average reward 68.18393646097374, ended at 50.9\n",
            "episode 800 average reward 99.38069628757123, ended at 68.0\n",
            "episode 900 average reward 149.86604246327923, ended at 93.1\n",
            "episode 1000 average reward 78.12386610641325, ended at 106.7\n",
            "episode 1100 average reward 91.59125622462376, ended at 127.4\n",
            "episode 1200 average reward 118.18070118601455, ended at 150.1\n",
            "episode 1300 average reward 140.4383836232385, ended at 173.6\n",
            "episode 1400 average reward 149.4655417432933, ended at 205.0\n",
            "episode 1500 average reward 171.55494731018914, ended at 234.8\n",
            "episode 1600 average reward 360.55169819776137, ended at 291.2\n",
            "episode 1700 average reward 150.279024436468, ended at 337.7\n",
            "episode 1800 average reward 95.63457998077315, ended at 354.7\n",
            "episode 1900 average reward 129.95908830891355, ended at 378.5\n",
            "episode 2000 average reward 133.87511697008094, ended at 406.4\n",
            "episode 2100 average reward 166.44723650242472, ended at 437.6\n",
            "episode 2200 average reward 130.4423865659488, ended at 463.7\n",
            "episode 2300 average reward 121.5801405090251, ended at 491.3\n",
            "episode 2400 average reward 98.95980285272407, ended at 513.3\n",
            "episode 2500 average reward 101.72684051761145, ended at 533.2\n",
            "episode 2600 average reward 95.53533591993988, ended at 553.5\n",
            "episode 2700 average reward 89.93989485014976, ended at 569.8\n",
            "episode 2800 average reward 80.06990203685267, ended at 586.4\n",
            "episode 2900 average reward 96.80182398189544, ended at 605.9\n",
            "episode 3000 average reward 105.46283282060362, ended at 626.2\n"
          ],
          "name": "stdout"
        },
        {
          "output_type": "display_data",
          "data": {
            "text/html": [
              "<br/>Waiting for W&B process to finish, PID 3654<br/>Program ended successfully."
            ],
            "text/plain": [
              "<IPython.core.display.HTML object>"
            ]
          },
          "metadata": {
            "tags": []
          }
        },
        {
          "output_type": "display_data",
          "data": {
            "application/vnd.jupyter.widget-view+json": {
              "model_id": "084162f47292478cb08ba19c34a843cc",
              "version_minor": 0,
              "version_major": 2
            },
            "text/plain": [
              "VBox(children=(Label(value=' 0.34MB of 0.34MB uploaded (0.00MB deduped)\\r'), FloatProgress(value=1.0, max=1.0)…"
            ]
          },
          "metadata": {
            "tags": []
          }
        },
        {
          "output_type": "display_data",
          "data": {
            "text/html": [
              "Find user logs for this run at: <code>/content/wandb/run-20210729_043516-0egf1a2p/logs/debug.log</code>"
            ],
            "text/plain": [
              "<IPython.core.display.HTML object>"
            ]
          },
          "metadata": {
            "tags": []
          }
        },
        {
          "output_type": "display_data",
          "data": {
            "text/html": [
              "Find internal logs for this run at: <code>/content/wandb/run-20210729_043516-0egf1a2p/logs/debug-internal.log</code>"
            ],
            "text/plain": [
              "<IPython.core.display.HTML object>"
            ]
          },
          "metadata": {
            "tags": []
          }
        },
        {
          "output_type": "display_data",
          "data": {
            "text/html": [
              "<h3>Run summary:</h3><br/><style>\n",
              "    table.wandb td:nth-child(1) { padding: 0 10px; text-align: right }\n",
              "    </style><table class=\"wandb\">\n",
              "<tr><td>episode</td><td>3000</td></tr><tr><td>running_score</td><td>105.46283</td></tr><tr><td>_runtime</td><td>629</td></tr><tr><td>_timestamp</td><td>1627533945</td></tr><tr><td>_step</td><td>2999</td></tr></table>"
            ],
            "text/plain": [
              "<IPython.core.display.HTML object>"
            ]
          },
          "metadata": {
            "tags": []
          }
        },
        {
          "output_type": "display_data",
          "data": {
            "text/html": [
              "<h3>Run history:</h3><br/><style>\n",
              "    table.wandb td:nth-child(1) { padding: 0 10px; text-align: right }\n",
              "    </style><table class=\"wandb\">\n",
              "<tr><td>episode</td><td>▁▁▁▂▂▂▂▂▂▃▃▃▃▃▄▄▄▄▄▄▅▅▅▅▅▅▆▆▆▆▆▇▇▇▇▇▇███</td></tr><tr><td>running_score</td><td>▁▁▁▁▁▂▂▂▂▂▃▃▃▂▃▃▃▄▄▄▅█▆▂▃▃▄▄▄▃▃▃▃▃▃▂▃▂▃▃</td></tr><tr><td>_runtime</td><td>▁▁▁▁▁▁▁▁▁▂▂▂▂▂▂▃▃▃▃▃▄▄▅▅▅▅▆▆▆▆▆▇▇▇▇▇▇███</td></tr><tr><td>_timestamp</td><td>▁▁▁▁▁▁▁▁▁▂▂▂▂▂▂▃▃▃▃▃▄▄▅▅▅▅▆▆▆▆▆▇▇▇▇▇▇███</td></tr><tr><td>_step</td><td>▁▁▁▂▂▂▂▂▂▃▃▃▃▃▄▄▄▄▄▄▅▅▅▅▅▅▆▆▆▆▆▇▇▇▇▇▇███</td></tr></table><br/>"
            ],
            "text/plain": [
              "<IPython.core.display.HTML object>"
            ]
          },
          "metadata": {
            "tags": []
          }
        },
        {
          "output_type": "display_data",
          "data": {
            "text/html": [
              "Synced 5 W&B file(s), 0 media file(s), 2 artifact file(s) and 9 other file(s)"
            ],
            "text/plain": [
              "<IPython.core.display.HTML object>"
            ]
          },
          "metadata": {
            "tags": []
          }
        },
        {
          "output_type": "display_data",
          "data": {
            "text/html": [
              "\n",
              "                    <br/>Synced <strong style=\"color:#cdcd00\">crimson-sweep-13</strong>: <a href=\"https://wandb.ai/ko120/Advantage_Actor_Critic/runs/0egf1a2p\" target=\"_blank\">https://wandb.ai/ko120/Advantage_Actor_Critic/runs/0egf1a2p</a><br/>\n",
              "                "
            ],
            "text/plain": [
              "<IPython.core.display.HTML object>"
            ]
          },
          "metadata": {
            "tags": []
          }
        },
        {
          "output_type": "stream",
          "text": [
            "\u001b[34m\u001b[1mwandb\u001b[0m: Agent Starting Run: vvjm2uaj with config:\n",
            "\u001b[34m\u001b[1mwandb\u001b[0m: \tactor_learning_rate: 0.001\n",
            "\u001b[34m\u001b[1mwandb\u001b[0m: \tcritic_learning_rate: 0.001\n",
            "\u001b[34m\u001b[1mwandb\u001b[0m: \tlearning: learn_mean\n",
            "\u001b[34m\u001b[1mwandb\u001b[0m: \tnum_neurons: 128\n",
            "\u001b[34m\u001b[1mwandb\u001b[0m: \toptimizer: Adam\n",
            "\u001b[34m\u001b[1mwandb\u001b[0m: \u001b[33mWARNING\u001b[0m Ignored wandb.init() arg project when running a sweep\n"
          ],
          "name": "stderr"
        },
        {
          "output_type": "display_data",
          "data": {
            "text/html": [
              "\n",
              "                Tracking run with wandb version 0.11.0<br/>\n",
              "                Syncing run <strong style=\"color:#cdcd00\">ruby-sweep-14</strong> to <a href=\"https://wandb.ai\" target=\"_blank\">Weights & Biases</a> <a href=\"https://docs.wandb.com/integrations/jupyter.html\" target=\"_blank\">(Documentation)</a>.<br/>\n",
              "                Project page: <a href=\"https://wandb.ai/ko120/Advantage_Actor_Critic\" target=\"_blank\">https://wandb.ai/ko120/Advantage_Actor_Critic</a><br/>\n",
              "                Sweep page: <a href=\"https://wandb.ai/ko120/Advantage_Actor_Critic/sweeps/t9gia22t\" target=\"_blank\">https://wandb.ai/ko120/Advantage_Actor_Critic/sweeps/t9gia22t</a><br/>\n",
              "Run page: <a href=\"https://wandb.ai/ko120/Advantage_Actor_Critic/runs/vvjm2uaj\" target=\"_blank\">https://wandb.ai/ko120/Advantage_Actor_Critic/runs/vvjm2uaj</a><br/>\n",
              "                Run data is saved locally in <code>/content/wandb/run-20210729_044550-vvjm2uaj</code><br/><br/>\n",
              "            "
            ],
            "text/plain": [
              "<IPython.core.display.HTML object>"
            ]
          },
          "metadata": {
            "tags": []
          }
        },
        {
          "output_type": "stream",
          "text": [
            "episode 100 average reward 15.688438248989923, ended at 4.0\n",
            "episode 200 average reward 10.624975964757729, ended at 6.8\n",
            "episode 300 average reward 9.791802208233651, ended at 9.2\n",
            "episode 400 average reward 10.385584423567064, ended at 11.6\n",
            "episode 500 average reward 12.469043999351891, ended at 14.5\n",
            "episode 600 average reward 15.505706509341886, ended at 17.3\n",
            "episode 700 average reward 35.368848239246304, ended at 22.0\n",
            "episode 800 average reward 56.37180779915586, ended at 33.0\n",
            "episode 900 average reward 68.91299393537524, ended at 45.0\n",
            "episode 1000 average reward 73.752645260424, ended at 59.5\n",
            "episode 1100 average reward 89.64149811099615, ended at 77.1\n",
            "episode 1200 average reward 145.28636851649955, ended at 102.3\n",
            "episode 1300 average reward 187.99701766475866, ended at 136.0\n",
            "episode 1400 average reward 99.10936266159108, ended at 159.1\n",
            "episode 1500 average reward 84.80766299215598, ended at 176.7\n",
            "episode 1600 average reward 92.8804446927266, ended at 194.8\n",
            "episode 1700 average reward 90.2138882020347, ended at 214.7\n",
            "episode 1800 average reward 99.46158360312144, ended at 234.1\n",
            "episode 1900 average reward 105.1241853070266, ended at 253.8\n",
            "episode 2000 average reward 124.36140326088167, ended at 278.3\n",
            "episode 2100 average reward 81.83104724772808, ended at 306.4\n",
            "episode 2200 average reward 47.257292143808584, ended at 314.8\n",
            "episode 2300 average reward 93.65614343137537, ended at 329.3\n",
            "episode 2400 average reward 70.52216157370644, ended at 345.7\n",
            "episode 2500 average reward 58.15811111580306, ended at 357.2\n",
            "episode 2600 average reward 55.08512575160701, ended at 368.8\n",
            "episode 2700 average reward 49.95872145576601, ended at 379.3\n",
            "episode 2800 average reward 51.320660301886996, ended at 389.6\n",
            "episode 2900 average reward 47.08279598843967, ended at 399.1\n",
            "episode 3000 average reward 45.38114746058794, ended at 408.1\n"
          ],
          "name": "stdout"
        },
        {
          "output_type": "display_data",
          "data": {
            "text/html": [
              "<br/>Waiting for W&B process to finish, PID 3825<br/>Program ended successfully."
            ],
            "text/plain": [
              "<IPython.core.display.HTML object>"
            ]
          },
          "metadata": {
            "tags": []
          }
        },
        {
          "output_type": "display_data",
          "data": {
            "application/vnd.jupyter.widget-view+json": {
              "model_id": "59289a03f2534544ba9a37765b00aa76",
              "version_minor": 0,
              "version_major": 2
            },
            "text/plain": [
              "VBox(children=(Label(value=' 0.35MB of 0.35MB uploaded (0.00MB deduped)\\r'), FloatProgress(value=1.0, max=1.0)…"
            ]
          },
          "metadata": {
            "tags": []
          }
        },
        {
          "output_type": "display_data",
          "data": {
            "text/html": [
              "Find user logs for this run at: <code>/content/wandb/run-20210729_044550-vvjm2uaj/logs/debug.log</code>"
            ],
            "text/plain": [
              "<IPython.core.display.HTML object>"
            ]
          },
          "metadata": {
            "tags": []
          }
        },
        {
          "output_type": "display_data",
          "data": {
            "text/html": [
              "Find internal logs for this run at: <code>/content/wandb/run-20210729_044550-vvjm2uaj/logs/debug-internal.log</code>"
            ],
            "text/plain": [
              "<IPython.core.display.HTML object>"
            ]
          },
          "metadata": {
            "tags": []
          }
        },
        {
          "output_type": "display_data",
          "data": {
            "text/html": [
              "<h3>Run summary:</h3><br/><style>\n",
              "    table.wandb td:nth-child(1) { padding: 0 10px; text-align: right }\n",
              "    </style><table class=\"wandb\">\n",
              "<tr><td>episode</td><td>3000</td></tr><tr><td>running_score</td><td>45.38115</td></tr><tr><td>_runtime</td><td>410</td></tr><tr><td>_timestamp</td><td>1627534360</td></tr><tr><td>_step</td><td>2999</td></tr></table>"
            ],
            "text/plain": [
              "<IPython.core.display.HTML object>"
            ]
          },
          "metadata": {
            "tags": []
          }
        },
        {
          "output_type": "display_data",
          "data": {
            "text/html": [
              "<h3>Run history:</h3><br/><style>\n",
              "    table.wandb td:nth-child(1) { padding: 0 10px; text-align: right }\n",
              "    </style><table class=\"wandb\">\n",
              "<tr><td>episode</td><td>▁▁▁▂▂▂▂▂▂▃▃▃▃▃▄▄▄▄▄▄▅▅▅▅▅▅▆▆▆▆▆▇▇▇▇▇▇███</td></tr><tr><td>running_score</td><td>▁▁▁▁▁▁▁▁▁▂▃▃▃▄▅▆▆█▅▄▄▅▅▅▅▅▆▇▂▃▄▄▃▃▃▃▃▃▃▃</td></tr><tr><td>_runtime</td><td>▁▁▁▁▁▁▁▁▁▁▁▂▂▂▂▃▃▃▄▄▄▄▅▅▅▅▆▆▆▆▇▇▇▇▇▇████</td></tr><tr><td>_timestamp</td><td>▁▁▁▁▁▁▁▁▁▁▁▂▂▂▂▃▃▃▄▄▄▄▅▅▅▅▆▆▆▆▇▇▇▇▇▇████</td></tr><tr><td>_step</td><td>▁▁▁▂▂▂▂▂▂▃▃▃▃▃▄▄▄▄▄▄▅▅▅▅▅▅▆▆▆▆▆▇▇▇▇▇▇███</td></tr></table><br/>"
            ],
            "text/plain": [
              "<IPython.core.display.HTML object>"
            ]
          },
          "metadata": {
            "tags": []
          }
        },
        {
          "output_type": "display_data",
          "data": {
            "text/html": [
              "Synced 5 W&B file(s), 0 media file(s), 2 artifact file(s) and 9 other file(s)"
            ],
            "text/plain": [
              "<IPython.core.display.HTML object>"
            ]
          },
          "metadata": {
            "tags": []
          }
        },
        {
          "output_type": "display_data",
          "data": {
            "text/html": [
              "\n",
              "                    <br/>Synced <strong style=\"color:#cdcd00\">ruby-sweep-14</strong>: <a href=\"https://wandb.ai/ko120/Advantage_Actor_Critic/runs/vvjm2uaj\" target=\"_blank\">https://wandb.ai/ko120/Advantage_Actor_Critic/runs/vvjm2uaj</a><br/>\n",
              "                "
            ],
            "text/plain": [
              "<IPython.core.display.HTML object>"
            ]
          },
          "metadata": {
            "tags": []
          }
        },
        {
          "output_type": "stream",
          "text": [
            "\u001b[34m\u001b[1mwandb\u001b[0m: Agent Starting Run: fw88t04x with config:\n",
            "\u001b[34m\u001b[1mwandb\u001b[0m: \tactor_learning_rate: 0.001\n",
            "\u001b[34m\u001b[1mwandb\u001b[0m: \tcritic_learning_rate: 0.0001\n",
            "\u001b[34m\u001b[1mwandb\u001b[0m: \tlearning: learn_mean\n",
            "\u001b[34m\u001b[1mwandb\u001b[0m: \tnum_neurons: 128\n",
            "\u001b[34m\u001b[1mwandb\u001b[0m: \toptimizer: RMSprop\n",
            "\u001b[34m\u001b[1mwandb\u001b[0m: \u001b[33mWARNING\u001b[0m Ignored wandb.init() arg project when running a sweep\n"
          ],
          "name": "stderr"
        },
        {
          "output_type": "display_data",
          "data": {
            "text/html": [
              "\n",
              "                Tracking run with wandb version 0.11.0<br/>\n",
              "                Syncing run <strong style=\"color:#cdcd00\">electric-sweep-15</strong> to <a href=\"https://wandb.ai\" target=\"_blank\">Weights & Biases</a> <a href=\"https://docs.wandb.com/integrations/jupyter.html\" target=\"_blank\">(Documentation)</a>.<br/>\n",
              "                Project page: <a href=\"https://wandb.ai/ko120/Advantage_Actor_Critic\" target=\"_blank\">https://wandb.ai/ko120/Advantage_Actor_Critic</a><br/>\n",
              "                Sweep page: <a href=\"https://wandb.ai/ko120/Advantage_Actor_Critic/sweeps/t9gia22t\" target=\"_blank\">https://wandb.ai/ko120/Advantage_Actor_Critic/sweeps/t9gia22t</a><br/>\n",
              "Run page: <a href=\"https://wandb.ai/ko120/Advantage_Actor_Critic/runs/fw88t04x\" target=\"_blank\">https://wandb.ai/ko120/Advantage_Actor_Critic/runs/fw88t04x</a><br/>\n",
              "                Run data is saved locally in <code>/content/wandb/run-20210729_045246-fw88t04x</code><br/><br/>\n",
              "            "
            ],
            "text/plain": [
              "<IPython.core.display.HTML object>"
            ]
          },
          "metadata": {
            "tags": []
          }
        },
        {
          "output_type": "stream",
          "text": [
            "episode 100 average reward 14.218639415528147, ended at 2.7\n",
            "episode 200 average reward 10.912389425921376, ended at 5.2\n",
            "episode 300 average reward 9.640467358403493, ended at 7.4\n",
            "episode 400 average reward 9.649130390266096, ended at 9.7\n",
            "episode 500 average reward 9.297028545202501, ended at 11.9\n",
            "episode 600 average reward 9.336111302742296, ended at 14.1\n",
            "episode 700 average reward 9.333204543246694, ended at 16.4\n",
            "episode 800 average reward 9.666049709325199, ended at 18.7\n",
            "episode 900 average reward 9.738178410631058, ended at 20.9\n",
            "episode 1000 average reward 9.171602340820163, ended at 23.2\n",
            "episode 1100 average reward 9.396499996631384, ended at 25.5\n",
            "episode 1200 average reward 9.193564584573839, ended at 27.8\n",
            "episode 1300 average reward 9.485265403062542, ended at 30.1\n",
            "episode 1400 average reward 9.437208248169908, ended at 32.3\n",
            "episode 1500 average reward 9.55599524514561, ended at 34.5\n",
            "episode 1600 average reward 9.372828596848617, ended at 36.7\n",
            "episode 1700 average reward 9.426870873172193, ended at 38.9\n",
            "episode 1800 average reward 9.504937934970561, ended at 41.1\n",
            "episode 1900 average reward 9.297689564538206, ended at 43.3\n",
            "episode 2000 average reward 9.31162741969441, ended at 45.5\n",
            "episode 2100 average reward 9.091337826320018, ended at 47.7\n",
            "episode 2200 average reward 9.441037111571731, ended at 49.8\n",
            "episode 2300 average reward 9.265297265098313, ended at 52.0\n",
            "episode 2400 average reward 9.380244602654518, ended at 54.2\n",
            "episode 2500 average reward 9.508417775594229, ended at 56.4\n",
            "episode 2600 average reward 9.503556620775255, ended at 58.5\n",
            "episode 2700 average reward 9.244433719568844, ended at 60.7\n",
            "episode 2800 average reward 9.26738269019302, ended at 62.9\n",
            "episode 2900 average reward 9.40734350822574, ended at 65.0\n",
            "episode 3000 average reward 9.223688803871166, ended at 67.2\n"
          ],
          "name": "stdout"
        },
        {
          "output_type": "display_data",
          "data": {
            "text/html": [
              "<br/>Waiting for W&B process to finish, PID 3954<br/>Program ended successfully."
            ],
            "text/plain": [
              "<IPython.core.display.HTML object>"
            ]
          },
          "metadata": {
            "tags": []
          }
        },
        {
          "output_type": "display_data",
          "data": {
            "application/vnd.jupyter.widget-view+json": {
              "model_id": "dbe2fe8660aa4955936ced82bbdbab7f",
              "version_minor": 0,
              "version_major": 2
            },
            "text/plain": [
              "VBox(children=(Label(value=' 0.37MB of 0.37MB uploaded (0.00MB deduped)\\r'), FloatProgress(value=1.0, max=1.0)…"
            ]
          },
          "metadata": {
            "tags": []
          }
        },
        {
          "output_type": "display_data",
          "data": {
            "text/html": [
              "Find user logs for this run at: <code>/content/wandb/run-20210729_045246-fw88t04x/logs/debug.log</code>"
            ],
            "text/plain": [
              "<IPython.core.display.HTML object>"
            ]
          },
          "metadata": {
            "tags": []
          }
        },
        {
          "output_type": "display_data",
          "data": {
            "text/html": [
              "Find internal logs for this run at: <code>/content/wandb/run-20210729_045246-fw88t04x/logs/debug-internal.log</code>"
            ],
            "text/plain": [
              "<IPython.core.display.HTML object>"
            ]
          },
          "metadata": {
            "tags": []
          }
        },
        {
          "output_type": "display_data",
          "data": {
            "text/html": [
              "<h3>Run summary:</h3><br/><style>\n",
              "    table.wandb td:nth-child(1) { padding: 0 10px; text-align: right }\n",
              "    </style><table class=\"wandb\">\n",
              "<tr><td>episode</td><td>3000</td></tr><tr><td>running_score</td><td>9.22369</td></tr><tr><td>_runtime</td><td>69</td></tr><tr><td>_timestamp</td><td>1627534435</td></tr><tr><td>_step</td><td>2999</td></tr></table>"
            ],
            "text/plain": [
              "<IPython.core.display.HTML object>"
            ]
          },
          "metadata": {
            "tags": []
          }
        },
        {
          "output_type": "display_data",
          "data": {
            "text/html": [
              "<h3>Run history:</h3><br/><style>\n",
              "    table.wandb td:nth-child(1) { padding: 0 10px; text-align: right }\n",
              "    </style><table class=\"wandb\">\n",
              "<tr><td>episode</td><td>▁▁▁▂▂▂▂▂▂▃▃▃▃▃▄▄▄▄▄▄▅▅▅▅▅▅▆▆▆▆▆▇▇▇▇▇▇███</td></tr><tr><td>running_score</td><td>█▆▆▂▂▂▁▁▁▁▂▁▁▁▁▂▁▁▁▁▁▁▂▁▂▁▂▁▁▁▁▁▁▂▂▁▁▁▁▁</td></tr><tr><td>_runtime</td><td>▁▁▁▂▂▂▂▂▂▃▃▃▃▃▄▄▄▄▄▄▅▅▅▅▅▅▆▆▆▆▆▇▇▇▇▇▇███</td></tr><tr><td>_timestamp</td><td>▁▁▁▂▂▂▂▂▂▃▃▃▃▃▄▄▄▄▄▄▅▅▅▅▅▅▆▆▆▆▆▇▇▇▇▇▇███</td></tr><tr><td>_step</td><td>▁▁▁▂▂▂▂▂▂▃▃▃▃▃▄▄▄▄▄▄▅▅▅▅▅▅▆▆▆▆▆▇▇▇▇▇▇███</td></tr></table><br/>"
            ],
            "text/plain": [
              "<IPython.core.display.HTML object>"
            ]
          },
          "metadata": {
            "tags": []
          }
        },
        {
          "output_type": "display_data",
          "data": {
            "text/html": [
              "Synced 5 W&B file(s), 0 media file(s), 2 artifact file(s) and 9 other file(s)"
            ],
            "text/plain": [
              "<IPython.core.display.HTML object>"
            ]
          },
          "metadata": {
            "tags": []
          }
        },
        {
          "output_type": "display_data",
          "data": {
            "text/html": [
              "\n",
              "                    <br/>Synced <strong style=\"color:#cdcd00\">electric-sweep-15</strong>: <a href=\"https://wandb.ai/ko120/Advantage_Actor_Critic/runs/fw88t04x\" target=\"_blank\">https://wandb.ai/ko120/Advantage_Actor_Critic/runs/fw88t04x</a><br/>\n",
              "                "
            ],
            "text/plain": [
              "<IPython.core.display.HTML object>"
            ]
          },
          "metadata": {
            "tags": []
          }
        },
        {
          "output_type": "stream",
          "text": [
            "\u001b[34m\u001b[1mwandb\u001b[0m: Agent Starting Run: m9443xdd with config:\n",
            "\u001b[34m\u001b[1mwandb\u001b[0m: \tactor_learning_rate: 0.001\n",
            "\u001b[34m\u001b[1mwandb\u001b[0m: \tcritic_learning_rate: 0.0001\n",
            "\u001b[34m\u001b[1mwandb\u001b[0m: \tlearning: learn_mean\n",
            "\u001b[34m\u001b[1mwandb\u001b[0m: \tnum_neurons: 128\n",
            "\u001b[34m\u001b[1mwandb\u001b[0m: \toptimizer: Adam\n",
            "\u001b[34m\u001b[1mwandb\u001b[0m: \u001b[33mWARNING\u001b[0m Ignored wandb.init() arg project when running a sweep\n"
          ],
          "name": "stderr"
        },
        {
          "output_type": "display_data",
          "data": {
            "text/html": [
              "\n",
              "                Tracking run with wandb version 0.11.0<br/>\n",
              "                Syncing run <strong style=\"color:#cdcd00\">distinctive-sweep-16</strong> to <a href=\"https://wandb.ai\" target=\"_blank\">Weights & Biases</a> <a href=\"https://docs.wandb.com/integrations/jupyter.html\" target=\"_blank\">(Documentation)</a>.<br/>\n",
              "                Project page: <a href=\"https://wandb.ai/ko120/Advantage_Actor_Critic\" target=\"_blank\">https://wandb.ai/ko120/Advantage_Actor_Critic</a><br/>\n",
              "                Sweep page: <a href=\"https://wandb.ai/ko120/Advantage_Actor_Critic/sweeps/t9gia22t\" target=\"_blank\">https://wandb.ai/ko120/Advantage_Actor_Critic/sweeps/t9gia22t</a><br/>\n",
              "Run page: <a href=\"https://wandb.ai/ko120/Advantage_Actor_Critic/runs/m9443xdd\" target=\"_blank\">https://wandb.ai/ko120/Advantage_Actor_Critic/runs/m9443xdd</a><br/>\n",
              "                Run data is saved locally in <code>/content/wandb/run-20210729_045401-m9443xdd</code><br/><br/>\n",
              "            "
            ],
            "text/plain": [
              "<IPython.core.display.HTML object>"
            ]
          },
          "metadata": {
            "tags": []
          }
        },
        {
          "output_type": "stream",
          "text": [
            "episode 100 average reward 17.56341872623613, ended at 3.9\n",
            "episode 200 average reward 13.903675330140285, ended at 6.9\n",
            "episode 300 average reward 11.474363893334926, ended at 9.6\n",
            "episode 400 average reward 10.746946192719347, ended at 12.2\n",
            "episode 500 average reward 9.8630783206856, ended at 14.6\n",
            "episode 600 average reward 9.795798773275042, ended at 17.0\n",
            "episode 700 average reward 9.830811503731807, ended at 19.4\n",
            "episode 800 average reward 9.717636859583344, ended at 21.7\n",
            "episode 900 average reward 9.772868072472656, ended at 23.9\n",
            "episode 1000 average reward 9.209353221027804, ended at 26.1\n",
            "episode 1100 average reward 9.466370609192104, ended at 28.4\n",
            "episode 1200 average reward 9.250027824377073, ended at 30.7\n",
            "episode 1300 average reward 9.485599695323675, ended at 32.9\n",
            "episode 1400 average reward 9.445309698438765, ended at 35.2\n",
            "episode 1500 average reward 9.621255453364217, ended at 37.4\n",
            "episode 1600 average reward 9.387057064449957, ended at 39.6\n",
            "episode 1700 average reward 9.42695511323039, ended at 41.8\n",
            "episode 1800 average reward 9.58231652746629, ended at 44.0\n",
            "episode 1900 average reward 9.29908708140352, ended at 46.2\n",
            "episode 2000 average reward 9.3126765742296, ended at 48.4\n",
            "episode 2100 average reward 9.128098632401347, ended at 50.6\n",
            "episode 2200 average reward 9.441254754998297, ended at 52.8\n",
            "episode 2300 average reward 9.267037014124158, ended at 54.9\n",
            "episode 2400 average reward 9.381408233078663, ended at 57.0\n",
            "episode 2500 average reward 9.525907126374534, ended at 59.2\n",
            "episode 2600 average reward 9.503660166987594, ended at 61.4\n",
            "episode 2700 average reward 9.24443433261722, ended at 63.6\n",
            "episode 2800 average reward 9.267382693822594, ended at 65.9\n",
            "episode 2900 average reward 9.417287533945936, ended at 68.3\n",
            "episode 3000 average reward 9.223747677766008, ended at 70.6\n"
          ],
          "name": "stdout"
        },
        {
          "output_type": "display_data",
          "data": {
            "text/html": [
              "<br/>Waiting for W&B process to finish, PID 4017<br/>Program ended successfully."
            ],
            "text/plain": [
              "<IPython.core.display.HTML object>"
            ]
          },
          "metadata": {
            "tags": []
          }
        },
        {
          "output_type": "display_data",
          "data": {
            "application/vnd.jupyter.widget-view+json": {
              "model_id": "11e28b67650b4af4bc3ba3d3a79e1902",
              "version_minor": 0,
              "version_major": 2
            },
            "text/plain": [
              "VBox(children=(Label(value=' 0.38MB of 0.38MB uploaded (0.00MB deduped)\\r'), FloatProgress(value=1.0, max=1.0)…"
            ]
          },
          "metadata": {
            "tags": []
          }
        },
        {
          "output_type": "display_data",
          "data": {
            "text/html": [
              "Find user logs for this run at: <code>/content/wandb/run-20210729_045401-m9443xdd/logs/debug.log</code>"
            ],
            "text/plain": [
              "<IPython.core.display.HTML object>"
            ]
          },
          "metadata": {
            "tags": []
          }
        },
        {
          "output_type": "display_data",
          "data": {
            "text/html": [
              "Find internal logs for this run at: <code>/content/wandb/run-20210729_045401-m9443xdd/logs/debug-internal.log</code>"
            ],
            "text/plain": [
              "<IPython.core.display.HTML object>"
            ]
          },
          "metadata": {
            "tags": []
          }
        },
        {
          "output_type": "display_data",
          "data": {
            "text/html": [
              "<h3>Run summary:</h3><br/><style>\n",
              "    table.wandb td:nth-child(1) { padding: 0 10px; text-align: right }\n",
              "    </style><table class=\"wandb\">\n",
              "<tr><td>episode</td><td>3000</td></tr><tr><td>running_score</td><td>9.22375</td></tr><tr><td>_runtime</td><td>73</td></tr><tr><td>_timestamp</td><td>1627534514</td></tr><tr><td>_step</td><td>2999</td></tr></table>"
            ],
            "text/plain": [
              "<IPython.core.display.HTML object>"
            ]
          },
          "metadata": {
            "tags": []
          }
        },
        {
          "output_type": "display_data",
          "data": {
            "text/html": [
              "<h3>Run history:</h3><br/><style>\n",
              "    table.wandb td:nth-child(1) { padding: 0 10px; text-align: right }\n",
              "    </style><table class=\"wandb\">\n",
              "<tr><td>episode</td><td>▁▁▁▂▂▂▂▂▂▃▃▃▃▃▄▄▄▄▄▄▅▅▅▅▅▅▆▆▆▆▆▇▇▇▇▇▇███</td></tr><tr><td>running_score</td><td>█▇▄▃▂▂▂▁▂▂▂▁▁▁▁▁▁▁▁▁▁▁▁▁▁▁▁▁▁▁▁▁▁▁▁▁▁▁▁▁</td></tr><tr><td>_runtime</td><td>▁▁▁▂▂▂▂▂▃▃▃▃▃▃▄▄▄▄▄▅▅▅▅▅▅▅▆▆▆▆▆▇▇▇▇▇▇███</td></tr><tr><td>_timestamp</td><td>▁▁▁▂▂▂▂▂▃▃▃▃▃▃▄▄▄▄▄▅▅▅▅▅▅▅▆▆▆▆▆▇▇▇▇▇▇███</td></tr><tr><td>_step</td><td>▁▁▁▂▂▂▂▂▂▃▃▃▃▃▄▄▄▄▄▄▅▅▅▅▅▅▆▆▆▆▆▇▇▇▇▇▇███</td></tr></table><br/>"
            ],
            "text/plain": [
              "<IPython.core.display.HTML object>"
            ]
          },
          "metadata": {
            "tags": []
          }
        },
        {
          "output_type": "display_data",
          "data": {
            "text/html": [
              "Synced 5 W&B file(s), 0 media file(s), 2 artifact file(s) and 9 other file(s)"
            ],
            "text/plain": [
              "<IPython.core.display.HTML object>"
            ]
          },
          "metadata": {
            "tags": []
          }
        },
        {
          "output_type": "display_data",
          "data": {
            "text/html": [
              "\n",
              "                    <br/>Synced <strong style=\"color:#cdcd00\">distinctive-sweep-16</strong>: <a href=\"https://wandb.ai/ko120/Advantage_Actor_Critic/runs/m9443xdd\" target=\"_blank\">https://wandb.ai/ko120/Advantage_Actor_Critic/runs/m9443xdd</a><br/>\n",
              "                "
            ],
            "text/plain": [
              "<IPython.core.display.HTML object>"
            ]
          },
          "metadata": {
            "tags": []
          }
        },
        {
          "output_type": "stream",
          "text": [
            "\u001b[34m\u001b[1mwandb\u001b[0m: Agent Starting Run: 9f4col0q with config:\n",
            "\u001b[34m\u001b[1mwandb\u001b[0m: \tactor_learning_rate: 0.001\n",
            "\u001b[34m\u001b[1mwandb\u001b[0m: \tcritic_learning_rate: 0.0003\n",
            "\u001b[34m\u001b[1mwandb\u001b[0m: \tlearning: learn_mean\n",
            "\u001b[34m\u001b[1mwandb\u001b[0m: \tnum_neurons: 128\n",
            "\u001b[34m\u001b[1mwandb\u001b[0m: \toptimizer: RMSprop\n",
            "\u001b[34m\u001b[1mwandb\u001b[0m: \u001b[33mWARNING\u001b[0m Ignored wandb.init() arg project when running a sweep\n"
          ],
          "name": "stderr"
        },
        {
          "output_type": "display_data",
          "data": {
            "text/html": [
              "\n",
              "                Tracking run with wandb version 0.11.0<br/>\n",
              "                Syncing run <strong style=\"color:#cdcd00\">lunar-sweep-17</strong> to <a href=\"https://wandb.ai\" target=\"_blank\">Weights & Biases</a> <a href=\"https://docs.wandb.com/integrations/jupyter.html\" target=\"_blank\">(Documentation)</a>.<br/>\n",
              "                Project page: <a href=\"https://wandb.ai/ko120/Advantage_Actor_Critic\" target=\"_blank\">https://wandb.ai/ko120/Advantage_Actor_Critic</a><br/>\n",
              "                Sweep page: <a href=\"https://wandb.ai/ko120/Advantage_Actor_Critic/sweeps/t9gia22t\" target=\"_blank\">https://wandb.ai/ko120/Advantage_Actor_Critic/sweeps/t9gia22t</a><br/>\n",
              "Run page: <a href=\"https://wandb.ai/ko120/Advantage_Actor_Critic/runs/9f4col0q\" target=\"_blank\">https://wandb.ai/ko120/Advantage_Actor_Critic/runs/9f4col0q</a><br/>\n",
              "                Run data is saved locally in <code>/content/wandb/run-20210729_045520-9f4col0q</code><br/><br/>\n",
              "            "
            ],
            "text/plain": [
              "<IPython.core.display.HTML object>"
            ]
          },
          "metadata": {
            "tags": []
          }
        },
        {
          "output_type": "stream",
          "text": [
            "episode 100 average reward 11.131495161854097, ended at 2.6\n",
            "episode 200 average reward 9.885001154235361, ended at 5.0\n",
            "episode 300 average reward 9.340458468379818, ended at 7.2\n",
            "episode 400 average reward 9.27743961896516, ended at 9.4\n",
            "episode 500 average reward 9.304444130051161, ended at 11.4\n",
            "episode 600 average reward 9.348462525552133, ended at 13.5\n",
            "episode 700 average reward 9.337118382196055, ended at 15.6\n",
            "episode 800 average reward 9.525499153302654, ended at 17.8\n",
            "episode 900 average reward 9.707471699239294, ended at 20.0\n",
            "episode 1000 average reward 9.833441118209244, ended at 22.3\n",
            "episode 1100 average reward 12.503637313731057, ended at 25.7\n",
            "episode 1200 average reward 20.85652761509138, ended at 29.2\n",
            "episode 1300 average reward 38.2479278246824, ended at 36.7\n",
            "episode 1400 average reward 35.33824074300959, ended at 44.2\n",
            "episode 1500 average reward 52.69601570181552, ended at 53.5\n",
            "episode 1600 average reward 42.16523061549264, ended at 61.9\n",
            "episode 1700 average reward 48.07925469239714, ended at 71.3\n",
            "episode 1800 average reward 49.97784093795955, ended at 81.2\n",
            "episode 1900 average reward 37.33863828853495, ended at 90.4\n",
            "episode 2000 average reward 54.415050225041995, ended at 101.7\n",
            "episode 2100 average reward 60.64935417822878, ended at 112.4\n",
            "episode 2200 average reward 57.43041007993121, ended at 123.1\n",
            "episode 2300 average reward 64.18011543810724, ended at 134.9\n",
            "episode 2400 average reward 63.37973442841671, ended at 147.0\n",
            "episode 2500 average reward 59.85800316565277, ended at 158.8\n",
            "episode 2600 average reward 66.73286300409244, ended at 171.5\n",
            "episode 2700 average reward 70.61293828769207, ended at 185.2\n",
            "episode 2800 average reward 84.60951769174521, ended at 200.2\n",
            "episode 2900 average reward 105.46076743356483, ended at 219.0\n",
            "episode 3000 average reward 237.34554868118698, ended at 253.8\n"
          ],
          "name": "stdout"
        },
        {
          "output_type": "display_data",
          "data": {
            "text/html": [
              "<br/>Waiting for W&B process to finish, PID 4078<br/>Program ended successfully."
            ],
            "text/plain": [
              "<IPython.core.display.HTML object>"
            ]
          },
          "metadata": {
            "tags": []
          }
        },
        {
          "output_type": "display_data",
          "data": {
            "application/vnd.jupyter.widget-view+json": {
              "model_id": "07f8b666f2c346178a3b432f5d4cf0bf",
              "version_minor": 0,
              "version_major": 2
            },
            "text/plain": [
              "VBox(children=(Label(value=' 0.39MB of 0.39MB uploaded (0.00MB deduped)\\r'), FloatProgress(value=1.0, max=1.0)…"
            ]
          },
          "metadata": {
            "tags": []
          }
        },
        {
          "output_type": "display_data",
          "data": {
            "text/html": [
              "Find user logs for this run at: <code>/content/wandb/run-20210729_045520-9f4col0q/logs/debug.log</code>"
            ],
            "text/plain": [
              "<IPython.core.display.HTML object>"
            ]
          },
          "metadata": {
            "tags": []
          }
        },
        {
          "output_type": "display_data",
          "data": {
            "text/html": [
              "Find internal logs for this run at: <code>/content/wandb/run-20210729_045520-9f4col0q/logs/debug-internal.log</code>"
            ],
            "text/plain": [
              "<IPython.core.display.HTML object>"
            ]
          },
          "metadata": {
            "tags": []
          }
        },
        {
          "output_type": "display_data",
          "data": {
            "text/html": [
              "<h3>Run summary:</h3><br/><style>\n",
              "    table.wandb td:nth-child(1) { padding: 0 10px; text-align: right }\n",
              "    </style><table class=\"wandb\">\n",
              "<tr><td>episode</td><td>3000</td></tr><tr><td>running_score</td><td>237.34555</td></tr><tr><td>_runtime</td><td>256</td></tr><tr><td>_timestamp</td><td>1627534776</td></tr><tr><td>_step</td><td>2999</td></tr></table>"
            ],
            "text/plain": [
              "<IPython.core.display.HTML object>"
            ]
          },
          "metadata": {
            "tags": []
          }
        },
        {
          "output_type": "display_data",
          "data": {
            "text/html": [
              "<h3>Run history:</h3><br/><style>\n",
              "    table.wandb td:nth-child(1) { padding: 0 10px; text-align: right }\n",
              "    </style><table class=\"wandb\">\n",
              "<tr><td>episode</td><td>▁▁▁▂▂▂▂▂▂▃▃▃▃▃▄▄▄▄▄▄▅▅▅▅▅▅▆▆▆▆▆▇▇▇▇▇▇███</td></tr><tr><td>running_score</td><td>▁▁▁▁▁▁▁▁▁▁▁▁▁▁▁▁▂▂▂▂▂▂▂▃▃▂▃▃▃▃▃▃▃▃▃▃▃▄▅█</td></tr><tr><td>_runtime</td><td>▁▁▁▁▁▁▁▁▁▁▁▁▂▂▂▂▂▂▂▂▃▃▃▃▃▄▄▄▄▅▅▅▅▆▆▆▆▇▇█</td></tr><tr><td>_timestamp</td><td>▁▁▁▁▁▁▁▁▁▁▁▁▂▂▂▂▂▂▂▂▃▃▃▃▃▄▄▄▄▅▅▅▅▆▆▆▆▇▇█</td></tr><tr><td>_step</td><td>▁▁▁▂▂▂▂▂▂▃▃▃▃▃▄▄▄▄▄▄▅▅▅▅▅▅▆▆▆▆▆▇▇▇▇▇▇███</td></tr></table><br/>"
            ],
            "text/plain": [
              "<IPython.core.display.HTML object>"
            ]
          },
          "metadata": {
            "tags": []
          }
        },
        {
          "output_type": "display_data",
          "data": {
            "text/html": [
              "Synced 5 W&B file(s), 0 media file(s), 2 artifact file(s) and 9 other file(s)"
            ],
            "text/plain": [
              "<IPython.core.display.HTML object>"
            ]
          },
          "metadata": {
            "tags": []
          }
        },
        {
          "output_type": "display_data",
          "data": {
            "text/html": [
              "\n",
              "                    <br/>Synced <strong style=\"color:#cdcd00\">lunar-sweep-17</strong>: <a href=\"https://wandb.ai/ko120/Advantage_Actor_Critic/runs/9f4col0q\" target=\"_blank\">https://wandb.ai/ko120/Advantage_Actor_Critic/runs/9f4col0q</a><br/>\n",
              "                "
            ],
            "text/plain": [
              "<IPython.core.display.HTML object>"
            ]
          },
          "metadata": {
            "tags": []
          }
        },
        {
          "output_type": "stream",
          "text": [
            "\u001b[34m\u001b[1mwandb\u001b[0m: Agent Starting Run: ckav9s9c with config:\n",
            "\u001b[34m\u001b[1mwandb\u001b[0m: \tactor_learning_rate: 0.001\n",
            "\u001b[34m\u001b[1mwandb\u001b[0m: \tcritic_learning_rate: 0.0003\n",
            "\u001b[34m\u001b[1mwandb\u001b[0m: \tlearning: learn_mean\n",
            "\u001b[34m\u001b[1mwandb\u001b[0m: \tnum_neurons: 128\n",
            "\u001b[34m\u001b[1mwandb\u001b[0m: \toptimizer: Adam\n",
            "\u001b[34m\u001b[1mwandb\u001b[0m: \u001b[33mWARNING\u001b[0m Ignored wandb.init() arg project when running a sweep\n"
          ],
          "name": "stderr"
        },
        {
          "output_type": "display_data",
          "data": {
            "text/html": [
              "\n",
              "                Tracking run with wandb version 0.11.0<br/>\n",
              "                Syncing run <strong style=\"color:#cdcd00\">fearless-sweep-18</strong> to <a href=\"https://wandb.ai\" target=\"_blank\">Weights & Biases</a> <a href=\"https://docs.wandb.com/integrations/jupyter.html\" target=\"_blank\">(Documentation)</a>.<br/>\n",
              "                Project page: <a href=\"https://wandb.ai/ko120/Advantage_Actor_Critic\" target=\"_blank\">https://wandb.ai/ko120/Advantage_Actor_Critic</a><br/>\n",
              "                Sweep page: <a href=\"https://wandb.ai/ko120/Advantage_Actor_Critic/sweeps/t9gia22t\" target=\"_blank\">https://wandb.ai/ko120/Advantage_Actor_Critic/sweeps/t9gia22t</a><br/>\n",
              "Run page: <a href=\"https://wandb.ai/ko120/Advantage_Actor_Critic/runs/ckav9s9c\" target=\"_blank\">https://wandb.ai/ko120/Advantage_Actor_Critic/runs/ckav9s9c</a><br/>\n",
              "                Run data is saved locally in <code>/content/wandb/run-20210729_045941-ckav9s9c</code><br/><br/>\n",
              "            "
            ],
            "text/plain": [
              "<IPython.core.display.HTML object>"
            ]
          },
          "metadata": {
            "tags": []
          }
        },
        {
          "output_type": "stream",
          "text": [
            "episode 100 average reward 17.200056626317927, ended at 3.7\n",
            "episode 200 average reward 10.731601296456487, ended at 6.4\n",
            "episode 300 average reward 9.800728946674008, ended at 8.6\n",
            "episode 400 average reward 9.395073585267308, ended at 10.8\n",
            "episode 500 average reward 9.439322168158235, ended at 12.9\n",
            "episode 600 average reward 9.348367525895979, ended at 15.0\n",
            "episode 700 average reward 9.334928644012512, ended at 17.2\n",
            "episode 800 average reward 9.587694568869471, ended at 19.3\n",
            "episode 900 average reward 9.711726481187247, ended at 21.5\n",
            "episode 1000 average reward 9.179351548515234, ended at 23.8\n",
            "episode 1100 average reward 9.434582194085655, ended at 26.2\n",
            "episode 1200 average reward 9.272839636373673, ended at 28.5\n",
            "episode 1300 average reward 9.68713425294333, ended at 30.9\n",
            "episode 1400 average reward 9.68589103762107, ended at 33.3\n",
            "episode 1500 average reward 9.70221024666102, ended at 35.6\n",
            "episode 1600 average reward 10.68355814790492, ended at 38.3\n",
            "episode 1700 average reward 9.73669547059064, ended at 40.7\n",
            "episode 1800 average reward 26.020984001899738, ended at 44.6\n",
            "episode 1900 average reward 20.770755470875066, ended at 48.7\n",
            "episode 2000 average reward 20.83679999919749, ended at 54.3\n",
            "episode 2100 average reward 29.389204710372795, ended at 60.7\n",
            "episode 2200 average reward 41.40184930847971, ended at 68.1\n",
            "episode 2300 average reward 43.792084560187234, ended at 75.5\n",
            "episode 2400 average reward 42.59970158076109, ended at 83.8\n",
            "episode 2500 average reward 69.06138131070567, ended at 97.2\n",
            "episode 2600 average reward 79.08491336695977, ended at 111.3\n",
            "episode 2700 average reward 66.56843822798177, ended at 125.4\n",
            "episode 2800 average reward 68.31011249364116, ended at 138.0\n",
            "episode 2900 average reward 82.57198360380183, ended at 153.4\n",
            "episode 3000 average reward 87.51169282548457, ended at 170.4\n"
          ],
          "name": "stdout"
        },
        {
          "output_type": "display_data",
          "data": {
            "text/html": [
              "<br/>Waiting for W&B process to finish, PID 4177<br/>Program ended successfully."
            ],
            "text/plain": [
              "<IPython.core.display.HTML object>"
            ]
          },
          "metadata": {
            "tags": []
          }
        },
        {
          "output_type": "display_data",
          "data": {
            "application/vnd.jupyter.widget-view+json": {
              "model_id": "cbc9c5ac2c314cb09892b6f4a0241558",
              "version_minor": 0,
              "version_major": 2
            },
            "text/plain": [
              "VBox(children=(Label(value=' 0.41MB of 0.41MB uploaded (0.00MB deduped)\\r'), FloatProgress(value=1.0, max=1.0)…"
            ]
          },
          "metadata": {
            "tags": []
          }
        },
        {
          "output_type": "display_data",
          "data": {
            "text/html": [
              "Find user logs for this run at: <code>/content/wandb/run-20210729_045941-ckav9s9c/logs/debug.log</code>"
            ],
            "text/plain": [
              "<IPython.core.display.HTML object>"
            ]
          },
          "metadata": {
            "tags": []
          }
        },
        {
          "output_type": "display_data",
          "data": {
            "text/html": [
              "Find internal logs for this run at: <code>/content/wandb/run-20210729_045941-ckav9s9c/logs/debug-internal.log</code>"
            ],
            "text/plain": [
              "<IPython.core.display.HTML object>"
            ]
          },
          "metadata": {
            "tags": []
          }
        },
        {
          "output_type": "display_data",
          "data": {
            "text/html": [
              "<h3>Run summary:</h3><br/><style>\n",
              "    table.wandb td:nth-child(1) { padding: 0 10px; text-align: right }\n",
              "    </style><table class=\"wandb\">\n",
              "<tr><td>episode</td><td>3000</td></tr><tr><td>running_score</td><td>87.51169</td></tr><tr><td>_runtime</td><td>173</td></tr><tr><td>_timestamp</td><td>1627534954</td></tr><tr><td>_step</td><td>2999</td></tr></table>"
            ],
            "text/plain": [
              "<IPython.core.display.HTML object>"
            ]
          },
          "metadata": {
            "tags": []
          }
        },
        {
          "output_type": "display_data",
          "data": {
            "text/html": [
              "<h3>Run history:</h3><br/><style>\n",
              "    table.wandb td:nth-child(1) { padding: 0 10px; text-align: right }\n",
              "    </style><table class=\"wandb\">\n",
              "<tr><td>episode</td><td>▁▁▁▂▂▂▂▂▂▃▃▃▃▃▄▄▄▄▄▄▅▅▅▅▅▅▆▆▆▆▆▇▇▇▇▇▇███</td></tr><tr><td>running_score</td><td>▂▂▁▁▁▁▁▁▁▁▁▁▁▁▁▁▁▁▁▁▁▁▁▁▂▂▂▄▃▄▄▄▆▇▇▇▆███</td></tr><tr><td>_runtime</td><td>▁▁▁▁▁▁▁▂▂▂▂▂▂▂▂▂▂▂▂▂▂▃▃▃▃▃▃▃▄▄▄▄▅▅▆▆▆▇▇█</td></tr><tr><td>_timestamp</td><td>▁▁▁▁▁▁▁▂▂▂▂▂▂▂▂▂▂▂▂▂▂▃▃▃▃▃▃▃▄▄▄▄▅▅▆▆▆▇▇█</td></tr><tr><td>_step</td><td>▁▁▁▂▂▂▂▂▂▃▃▃▃▃▄▄▄▄▄▄▅▅▅▅▅▅▆▆▆▆▆▇▇▇▇▇▇███</td></tr></table><br/>"
            ],
            "text/plain": [
              "<IPython.core.display.HTML object>"
            ]
          },
          "metadata": {
            "tags": []
          }
        },
        {
          "output_type": "display_data",
          "data": {
            "text/html": [
              "Synced 5 W&B file(s), 0 media file(s), 2 artifact file(s) and 9 other file(s)"
            ],
            "text/plain": [
              "<IPython.core.display.HTML object>"
            ]
          },
          "metadata": {
            "tags": []
          }
        },
        {
          "output_type": "display_data",
          "data": {
            "text/html": [
              "\n",
              "                    <br/>Synced <strong style=\"color:#cdcd00\">fearless-sweep-18</strong>: <a href=\"https://wandb.ai/ko120/Advantage_Actor_Critic/runs/ckav9s9c\" target=\"_blank\">https://wandb.ai/ko120/Advantage_Actor_Critic/runs/ckav9s9c</a><br/>\n",
              "                "
            ],
            "text/plain": [
              "<IPython.core.display.HTML object>"
            ]
          },
          "metadata": {
            "tags": []
          }
        },
        {
          "output_type": "stream",
          "text": [
            "\u001b[34m\u001b[1mwandb\u001b[0m: Agent Starting Run: se6adsw0 with config:\n",
            "\u001b[34m\u001b[1mwandb\u001b[0m: \tactor_learning_rate: 0.001\n",
            "\u001b[34m\u001b[1mwandb\u001b[0m: \tcritic_learning_rate: 1e-05\n",
            "\u001b[34m\u001b[1mwandb\u001b[0m: \tlearning: learn_mean\n",
            "\u001b[34m\u001b[1mwandb\u001b[0m: \tnum_neurons: 128\n",
            "\u001b[34m\u001b[1mwandb\u001b[0m: \toptimizer: RMSprop\n",
            "\u001b[34m\u001b[1mwandb\u001b[0m: \u001b[33mWARNING\u001b[0m Ignored wandb.init() arg project when running a sweep\n"
          ],
          "name": "stderr"
        },
        {
          "output_type": "display_data",
          "data": {
            "text/html": [
              "\n",
              "                Tracking run with wandb version 0.11.0<br/>\n",
              "                Syncing run <strong style=\"color:#cdcd00\">golden-sweep-19</strong> to <a href=\"https://wandb.ai\" target=\"_blank\">Weights & Biases</a> <a href=\"https://docs.wandb.com/integrations/jupyter.html\" target=\"_blank\">(Documentation)</a>.<br/>\n",
              "                Project page: <a href=\"https://wandb.ai/ko120/Advantage_Actor_Critic\" target=\"_blank\">https://wandb.ai/ko120/Advantage_Actor_Critic</a><br/>\n",
              "                Sweep page: <a href=\"https://wandb.ai/ko120/Advantage_Actor_Critic/sweeps/t9gia22t\" target=\"_blank\">https://wandb.ai/ko120/Advantage_Actor_Critic/sweeps/t9gia22t</a><br/>\n",
              "Run page: <a href=\"https://wandb.ai/ko120/Advantage_Actor_Critic/runs/se6adsw0\" target=\"_blank\">https://wandb.ai/ko120/Advantage_Actor_Critic/runs/se6adsw0</a><br/>\n",
              "                Run data is saved locally in <code>/content/wandb/run-20210729_050239-se6adsw0</code><br/><br/>\n",
              "            "
            ],
            "text/plain": [
              "<IPython.core.display.HTML object>"
            ]
          },
          "metadata": {
            "tags": []
          }
        },
        {
          "output_type": "stream",
          "text": [
            "episode 100 average reward 13.718617446074026, ended at 2.7\n",
            "episode 200 average reward 11.100607457005788, ended at 5.2\n",
            "episode 300 average reward 9.744366803209541, ended at 7.4\n",
            "episode 400 average reward 9.452645770362027, ended at 9.7\n",
            "episode 500 average reward 9.380098377254884, ended at 11.9\n",
            "episode 600 average reward 9.418677780143854, ended at 14.1\n",
            "episode 700 average reward 9.406897859749009, ended at 16.4\n",
            "episode 800 average reward 9.672543823699337, ended at 18.6\n",
            "episode 900 average reward 9.77005018764094, ended at 20.9\n",
            "episode 1000 average reward 9.240839942043745, ended at 23.1\n",
            "episode 1100 average reward 9.466743649481948, ended at 25.5\n",
            "episode 1200 average reward 9.199485931016069, ended at 27.8\n",
            "episode 1300 average reward 9.485300460567178, ended at 30.1\n",
            "episode 1400 average reward 9.443007566793886, ended at 32.4\n",
            "episode 1500 average reward 9.556029580180981, ended at 34.6\n",
            "episode 1600 average reward 9.372828800130202, ended at 36.8\n",
            "episode 1700 average reward 9.426870874375732, ended at 38.9\n",
            "episode 1800 average reward 9.50493793497769, ended at 41.2\n",
            "episode 1900 average reward 9.297689564538251, ended at 43.3\n",
            "episode 2000 average reward 9.31162741969441, ended at 45.5\n",
            "episode 2100 average reward 9.091337826320018, ended at 47.9\n",
            "episode 2200 average reward 9.441037111571731, ended at 50.1\n",
            "episode 2300 average reward 9.265297265098313, ended at 52.2\n",
            "episode 2400 average reward 9.380244602654518, ended at 54.4\n",
            "episode 2500 average reward 9.508417775594229, ended at 56.6\n",
            "episode 2600 average reward 9.503556620775255, ended at 58.8\n",
            "episode 2700 average reward 9.244433719568844, ended at 60.9\n",
            "episode 2800 average reward 9.26738269019302, ended at 63.1\n",
            "episode 2900 average reward 9.40734350822574, ended at 65.2\n",
            "episode 3000 average reward 9.223688803871166, ended at 67.4\n"
          ],
          "name": "stdout"
        },
        {
          "output_type": "display_data",
          "data": {
            "text/html": [
              "<br/>Waiting for W&B process to finish, PID 4260<br/>Program ended successfully."
            ],
            "text/plain": [
              "<IPython.core.display.HTML object>"
            ]
          },
          "metadata": {
            "tags": []
          }
        },
        {
          "output_type": "display_data",
          "data": {
            "application/vnd.jupyter.widget-view+json": {
              "model_id": "93ffe57eb1ab4a2dac29dc5fddfbd6bb",
              "version_minor": 0,
              "version_major": 2
            },
            "text/plain": [
              "VBox(children=(Label(value=' 0.42MB of 0.42MB uploaded (0.00MB deduped)\\r'), FloatProgress(value=1.0, max=1.0)…"
            ]
          },
          "metadata": {
            "tags": []
          }
        },
        {
          "output_type": "display_data",
          "data": {
            "text/html": [
              "Find user logs for this run at: <code>/content/wandb/run-20210729_050239-se6adsw0/logs/debug.log</code>"
            ],
            "text/plain": [
              "<IPython.core.display.HTML object>"
            ]
          },
          "metadata": {
            "tags": []
          }
        },
        {
          "output_type": "display_data",
          "data": {
            "text/html": [
              "Find internal logs for this run at: <code>/content/wandb/run-20210729_050239-se6adsw0/logs/debug-internal.log</code>"
            ],
            "text/plain": [
              "<IPython.core.display.HTML object>"
            ]
          },
          "metadata": {
            "tags": []
          }
        },
        {
          "output_type": "display_data",
          "data": {
            "text/html": [
              "<h3>Run summary:</h3><br/><style>\n",
              "    table.wandb td:nth-child(1) { padding: 0 10px; text-align: right }\n",
              "    </style><table class=\"wandb\">\n",
              "<tr><td>episode</td><td>3000</td></tr><tr><td>running_score</td><td>9.22369</td></tr><tr><td>_runtime</td><td>70</td></tr><tr><td>_timestamp</td><td>1627535029</td></tr><tr><td>_step</td><td>2999</td></tr></table>"
            ],
            "text/plain": [
              "<IPython.core.display.HTML object>"
            ]
          },
          "metadata": {
            "tags": []
          }
        },
        {
          "output_type": "display_data",
          "data": {
            "text/html": [
              "<h3>Run history:</h3><br/><style>\n",
              "    table.wandb td:nth-child(1) { padding: 0 10px; text-align: right }\n",
              "    </style><table class=\"wandb\">\n",
              "<tr><td>episode</td><td>▁▁▁▂▂▂▂▂▂▃▃▃▃▃▄▄▄▄▄▄▅▅▅▅▅▅▆▆▆▆▆▇▇▇▇▇▇███</td></tr><tr><td>running_score</td><td>█▇▅▂▂▂▁▂▁▂▂▁▁▁▁▂▁▁▁▁▁▁▂▁▂▁▂▁▁▁▁▁▁▂▂▁▁▁▁▁</td></tr><tr><td>_runtime</td><td>▁▁▁▂▂▂▂▂▂▃▃▃▃▃▄▄▄▄▄▄▅▅▅▅▅▅▆▆▆▆▆▇▇▇▇▇▇███</td></tr><tr><td>_timestamp</td><td>▁▁▁▂▂▂▂▂▂▃▃▃▃▃▄▄▄▄▄▄▅▅▅▅▅▅▆▆▆▆▆▇▇▇▇▇▇███</td></tr><tr><td>_step</td><td>▁▁▁▂▂▂▂▂▂▃▃▃▃▃▄▄▄▄▄▄▅▅▅▅▅▅▆▆▆▆▆▇▇▇▇▇▇███</td></tr></table><br/>"
            ],
            "text/plain": [
              "<IPython.core.display.HTML object>"
            ]
          },
          "metadata": {
            "tags": []
          }
        },
        {
          "output_type": "display_data",
          "data": {
            "text/html": [
              "Synced 5 W&B file(s), 0 media file(s), 2 artifact file(s) and 9 other file(s)"
            ],
            "text/plain": [
              "<IPython.core.display.HTML object>"
            ]
          },
          "metadata": {
            "tags": []
          }
        },
        {
          "output_type": "display_data",
          "data": {
            "text/html": [
              "\n",
              "                    <br/>Synced <strong style=\"color:#cdcd00\">golden-sweep-19</strong>: <a href=\"https://wandb.ai/ko120/Advantage_Actor_Critic/runs/se6adsw0\" target=\"_blank\">https://wandb.ai/ko120/Advantage_Actor_Critic/runs/se6adsw0</a><br/>\n",
              "                "
            ],
            "text/plain": [
              "<IPython.core.display.HTML object>"
            ]
          },
          "metadata": {
            "tags": []
          }
        },
        {
          "output_type": "stream",
          "text": [
            "\u001b[34m\u001b[1mwandb\u001b[0m: Agent Starting Run: abjj9c32 with config:\n",
            "\u001b[34m\u001b[1mwandb\u001b[0m: \tactor_learning_rate: 0.001\n",
            "\u001b[34m\u001b[1mwandb\u001b[0m: \tcritic_learning_rate: 1e-05\n",
            "\u001b[34m\u001b[1mwandb\u001b[0m: \tlearning: learn_mean\n",
            "\u001b[34m\u001b[1mwandb\u001b[0m: \tnum_neurons: 128\n",
            "\u001b[34m\u001b[1mwandb\u001b[0m: \toptimizer: Adam\n",
            "\u001b[34m\u001b[1mwandb\u001b[0m: \u001b[33mWARNING\u001b[0m Ignored wandb.init() arg project when running a sweep\n"
          ],
          "name": "stderr"
        },
        {
          "output_type": "display_data",
          "data": {
            "text/html": [
              "\n",
              "                Tracking run with wandb version 0.11.0<br/>\n",
              "                Syncing run <strong style=\"color:#cdcd00\">wise-sweep-20</strong> to <a href=\"https://wandb.ai\" target=\"_blank\">Weights & Biases</a> <a href=\"https://docs.wandb.com/integrations/jupyter.html\" target=\"_blank\">(Documentation)</a>.<br/>\n",
              "                Project page: <a href=\"https://wandb.ai/ko120/Advantage_Actor_Critic\" target=\"_blank\">https://wandb.ai/ko120/Advantage_Actor_Critic</a><br/>\n",
              "                Sweep page: <a href=\"https://wandb.ai/ko120/Advantage_Actor_Critic/sweeps/t9gia22t\" target=\"_blank\">https://wandb.ai/ko120/Advantage_Actor_Critic/sweeps/t9gia22t</a><br/>\n",
              "Run page: <a href=\"https://wandb.ai/ko120/Advantage_Actor_Critic/runs/abjj9c32\" target=\"_blank\">https://wandb.ai/ko120/Advantage_Actor_Critic/runs/abjj9c32</a><br/>\n",
              "                Run data is saved locally in <code>/content/wandb/run-20210729_050355-abjj9c32</code><br/><br/>\n",
              "            "
            ],
            "text/plain": [
              "<IPython.core.display.HTML object>"
            ]
          },
          "metadata": {
            "tags": []
          }
        },
        {
          "output_type": "stream",
          "text": [
            "episode 100 average reward 17.53297415418677, ended at 3.9\n",
            "episode 200 average reward 12.591964375892367, ended at 7.0\n",
            "episode 300 average reward 11.966616323200302, ended at 9.7\n",
            "episode 400 average reward 10.166780157774648, ended at 12.3\n",
            "episode 500 average reward 10.247645188041885, ended at 14.7\n",
            "episode 600 average reward 9.72928069416185, ended at 17.0\n",
            "episode 700 average reward 10.218308782674505, ended at 19.5\n",
            "episode 800 average reward 10.129692770129399, ended at 21.9\n",
            "episode 900 average reward 9.921238990639196, ended at 24.2\n",
            "episode 1000 average reward 9.514541365000733, ended at 26.4\n",
            "episode 1100 average reward 9.498301728412528, ended at 28.6\n",
            "episode 1200 average reward 9.425134368164274, ended at 31.0\n",
            "episode 1300 average reward 9.83488286276887, ended at 33.2\n",
            "episode 1400 average reward 10.00406811375428, ended at 35.4\n",
            "episode 1500 average reward 10.277219331582621, ended at 37.7\n",
            "episode 1600 average reward 9.508052350450098, ended at 39.9\n",
            "episode 1700 average reward 9.724067150828246, ended at 42.2\n",
            "episode 1800 average reward 9.876308863663999, ended at 44.4\n",
            "episode 1900 average reward 9.367796955317964, ended at 46.7\n",
            "episode 2000 average reward 9.456653484170399, ended at 48.8\n",
            "episode 2100 average reward 9.44216253510285, ended at 51.1\n",
            "episode 2200 average reward 9.615370959291136, ended at 53.4\n",
            "episode 2300 average reward 9.38365262092057, ended at 55.5\n",
            "episode 2400 average reward 9.38094532899705, ended at 57.7\n",
            "episode 2500 average reward 9.603925030832865, ended at 59.9\n",
            "episode 2600 average reward 9.737500122192852, ended at 62.1\n",
            "episode 2700 average reward 9.26960858910543, ended at 64.3\n",
            "episode 2800 average reward 9.333519565546773, ended at 66.5\n",
            "episode 2900 average reward 9.407735073528812, ended at 68.9\n",
            "episode 3000 average reward 9.247770653435152, ended at 71.2\n"
          ],
          "name": "stdout"
        },
        {
          "output_type": "display_data",
          "data": {
            "text/html": [
              "<br/>Waiting for W&B process to finish, PID 4321<br/>Program ended successfully."
            ],
            "text/plain": [
              "<IPython.core.display.HTML object>"
            ]
          },
          "metadata": {
            "tags": []
          }
        },
        {
          "output_type": "display_data",
          "data": {
            "application/vnd.jupyter.widget-view+json": {
              "model_id": "ab1716cc57464721b245df81e261a3d1",
              "version_minor": 0,
              "version_major": 2
            },
            "text/plain": [
              "VBox(children=(Label(value=' 0.43MB of 0.43MB uploaded (0.00MB deduped)\\r'), FloatProgress(value=1.0, max=1.0)…"
            ]
          },
          "metadata": {
            "tags": []
          }
        },
        {
          "output_type": "display_data",
          "data": {
            "text/html": [
              "Find user logs for this run at: <code>/content/wandb/run-20210729_050355-abjj9c32/logs/debug.log</code>"
            ],
            "text/plain": [
              "<IPython.core.display.HTML object>"
            ]
          },
          "metadata": {
            "tags": []
          }
        },
        {
          "output_type": "display_data",
          "data": {
            "text/html": [
              "Find internal logs for this run at: <code>/content/wandb/run-20210729_050355-abjj9c32/logs/debug-internal.log</code>"
            ],
            "text/plain": [
              "<IPython.core.display.HTML object>"
            ]
          },
          "metadata": {
            "tags": []
          }
        },
        {
          "output_type": "display_data",
          "data": {
            "text/html": [
              "<h3>Run summary:</h3><br/><style>\n",
              "    table.wandb td:nth-child(1) { padding: 0 10px; text-align: right }\n",
              "    </style><table class=\"wandb\">\n",
              "<tr><td>episode</td><td>3000</td></tr><tr><td>running_score</td><td>9.24777</td></tr><tr><td>_runtime</td><td>73</td></tr><tr><td>_timestamp</td><td>1627535108</td></tr><tr><td>_step</td><td>2999</td></tr></table>"
            ],
            "text/plain": [
              "<IPython.core.display.HTML object>"
            ]
          },
          "metadata": {
            "tags": []
          }
        },
        {
          "output_type": "display_data",
          "data": {
            "text/html": [
              "<h3>Run history:</h3><br/><style>\n",
              "    table.wandb td:nth-child(1) { padding: 0 10px; text-align: right }\n",
              "    </style><table class=\"wandb\">\n",
              "<tr><td>episode</td><td>▁▁▁▂▂▂▂▂▂▃▃▃▃▃▄▄▄▄▄▄▅▅▅▅▅▅▆▆▆▆▆▇▇▇▇▇▇███</td></tr><tr><td>running_score</td><td>█▇▄▃▃▂▂▂▂▂▂▂▁▁▁▂▁▁▂▂▁▁▁▁▂▁▁▁▁▁▁▁▁▁▁▁▁▁▁▁</td></tr><tr><td>_runtime</td><td>▁▁▂▂▂▂▂▃▃▃▃▃▃▄▄▄▄▄▄▅▅▅▅▅▅▆▆▆▆▆▆▇▇▇▇▇▇███</td></tr><tr><td>_timestamp</td><td>▁▁▂▂▂▂▂▃▃▃▃▃▃▄▄▄▄▄▄▅▅▅▅▅▅▆▆▆▆▆▆▇▇▇▇▇▇███</td></tr><tr><td>_step</td><td>▁▁▁▂▂▂▂▂▂▃▃▃▃▃▄▄▄▄▄▄▅▅▅▅▅▅▆▆▆▆▆▇▇▇▇▇▇███</td></tr></table><br/>"
            ],
            "text/plain": [
              "<IPython.core.display.HTML object>"
            ]
          },
          "metadata": {
            "tags": []
          }
        },
        {
          "output_type": "display_data",
          "data": {
            "text/html": [
              "Synced 5 W&B file(s), 0 media file(s), 2 artifact file(s) and 9 other file(s)"
            ],
            "text/plain": [
              "<IPython.core.display.HTML object>"
            ]
          },
          "metadata": {
            "tags": []
          }
        },
        {
          "output_type": "display_data",
          "data": {
            "text/html": [
              "\n",
              "                    <br/>Synced <strong style=\"color:#cdcd00\">wise-sweep-20</strong>: <a href=\"https://wandb.ai/ko120/Advantage_Actor_Critic/runs/abjj9c32\" target=\"_blank\">https://wandb.ai/ko120/Advantage_Actor_Critic/runs/abjj9c32</a><br/>\n",
              "                "
            ],
            "text/plain": [
              "<IPython.core.display.HTML object>"
            ]
          },
          "metadata": {
            "tags": []
          }
        },
        {
          "output_type": "stream",
          "text": [
            "\u001b[34m\u001b[1mwandb\u001b[0m: Agent Starting Run: 8fzb135m with config:\n",
            "\u001b[34m\u001b[1mwandb\u001b[0m: \tactor_learning_rate: 0.0001\n",
            "\u001b[34m\u001b[1mwandb\u001b[0m: \tcritic_learning_rate: 0.01\n",
            "\u001b[34m\u001b[1mwandb\u001b[0m: \tlearning: learn_mean\n",
            "\u001b[34m\u001b[1mwandb\u001b[0m: \tnum_neurons: 128\n",
            "\u001b[34m\u001b[1mwandb\u001b[0m: \toptimizer: RMSprop\n",
            "\u001b[34m\u001b[1mwandb\u001b[0m: \u001b[33mWARNING\u001b[0m Ignored wandb.init() arg project when running a sweep\n"
          ],
          "name": "stderr"
        },
        {
          "output_type": "display_data",
          "data": {
            "text/html": [
              "\n",
              "                Tracking run with wandb version 0.11.0<br/>\n",
              "                Syncing run <strong style=\"color:#cdcd00\">fluent-sweep-21</strong> to <a href=\"https://wandb.ai\" target=\"_blank\">Weights & Biases</a> <a href=\"https://docs.wandb.com/integrations/jupyter.html\" target=\"_blank\">(Documentation)</a>.<br/>\n",
              "                Project page: <a href=\"https://wandb.ai/ko120/Advantage_Actor_Critic\" target=\"_blank\">https://wandb.ai/ko120/Advantage_Actor_Critic</a><br/>\n",
              "                Sweep page: <a href=\"https://wandb.ai/ko120/Advantage_Actor_Critic/sweeps/t9gia22t\" target=\"_blank\">https://wandb.ai/ko120/Advantage_Actor_Critic/sweeps/t9gia22t</a><br/>\n",
              "Run page: <a href=\"https://wandb.ai/ko120/Advantage_Actor_Critic/runs/8fzb135m\" target=\"_blank\">https://wandb.ai/ko120/Advantage_Actor_Critic/runs/8fzb135m</a><br/>\n",
              "                Run data is saved locally in <code>/content/wandb/run-20210729_050514-8fzb135m</code><br/><br/>\n",
              "            "
            ],
            "text/plain": [
              "<IPython.core.display.HTML object>"
            ]
          },
          "metadata": {
            "tags": []
          }
        },
        {
          "output_type": "stream",
          "text": [
            "episode 100 average reward 26.545242394900374, ended at 5.0\n",
            "episode 200 average reward 28.29136948790017, ended at 10.5\n",
            "episode 300 average reward 30.226030380891107, ended at 17.1\n",
            "episode 400 average reward 34.770768270386654, ended at 24.7\n",
            "episode 500 average reward 40.489256408070304, ended at 32.7\n",
            "episode 600 average reward 43.16239833216411, ended at 41.2\n",
            "episode 700 average reward 60.90007147548488, ended at 51.6\n",
            "episode 800 average reward 54.94657811561271, ended at 62.4\n",
            "episode 900 average reward 52.62810600488378, ended at 73.7\n",
            "episode 1000 average reward 72.83678860840894, ended at 87.4\n",
            "episode 1100 average reward 68.47585528201705, ended at 101.8\n",
            "episode 1200 average reward 82.33935705507763, ended at 117.7\n",
            "episode 1300 average reward 112.53696791844897, ended at 137.1\n",
            "episode 1400 average reward 128.78364279354003, ended at 161.0\n",
            "episode 1500 average reward 138.02747162074502, ended at 187.6\n",
            "episode 1600 average reward 124.23148812428101, ended at 213.1\n",
            "episode 1700 average reward 160.85397015067556, ended at 246.2\n",
            "episode 1800 average reward 197.37892288724458, ended at 283.6\n",
            "episode 1900 average reward 214.64797421989223, ended at 323.8\n",
            "episode 2000 average reward 224.42149663070668, ended at 371.2\n",
            "episode 2100 average reward 283.45634967644, ended at 422.5\n",
            "episode 2200 average reward 281.8128571883545, ended at 480.1\n",
            "episode 2300 average reward 314.5101144052723, ended at 542.9\n",
            "episode 2400 average reward 365.51092782274543, ended at 611.4\n",
            "episode 2500 average reward 333.6357512883611, ended at 680.1\n",
            "episode 2600 average reward 351.7970972205437, ended at 749.6\n",
            "episode 2700 average reward 421.63992772857233, ended at 826.9\n",
            "episode 2800 average reward 365.93905515282404, ended at 902.3\n",
            "episode 2900 average reward 367.53329295911874, ended at 980.3\n",
            "episode 3000 average reward 411.1105965977173, ended at 1062.2\n"
          ],
          "name": "stdout"
        },
        {
          "output_type": "display_data",
          "data": {
            "text/html": [
              "<br/>Waiting for W&B process to finish, PID 4384<br/>Program ended successfully."
            ],
            "text/plain": [
              "<IPython.core.display.HTML object>"
            ]
          },
          "metadata": {
            "tags": []
          }
        },
        {
          "output_type": "display_data",
          "data": {
            "application/vnd.jupyter.widget-view+json": {
              "model_id": "f3c2e35b80ee44eda24e4fca0293d362",
              "version_minor": 0,
              "version_major": 2
            },
            "text/plain": [
              "VBox(children=(Label(value=' 0.45MB of 0.45MB uploaded (0.00MB deduped)\\r'), FloatProgress(value=1.0, max=1.0)…"
            ]
          },
          "metadata": {
            "tags": []
          }
        },
        {
          "output_type": "display_data",
          "data": {
            "text/html": [
              "Find user logs for this run at: <code>/content/wandb/run-20210729_050514-8fzb135m/logs/debug.log</code>"
            ],
            "text/plain": [
              "<IPython.core.display.HTML object>"
            ]
          },
          "metadata": {
            "tags": []
          }
        },
        {
          "output_type": "display_data",
          "data": {
            "text/html": [
              "Find internal logs for this run at: <code>/content/wandb/run-20210729_050514-8fzb135m/logs/debug-internal.log</code>"
            ],
            "text/plain": [
              "<IPython.core.display.HTML object>"
            ]
          },
          "metadata": {
            "tags": []
          }
        },
        {
          "output_type": "display_data",
          "data": {
            "text/html": [
              "<h3>Run summary:</h3><br/><style>\n",
              "    table.wandb td:nth-child(1) { padding: 0 10px; text-align: right }\n",
              "    </style><table class=\"wandb\">\n",
              "<tr><td>episode</td><td>3000</td></tr><tr><td>running_score</td><td>411.1106</td></tr><tr><td>_runtime</td><td>1064</td></tr><tr><td>_timestamp</td><td>1627536178</td></tr><tr><td>_step</td><td>2999</td></tr></table>"
            ],
            "text/plain": [
              "<IPython.core.display.HTML object>"
            ]
          },
          "metadata": {
            "tags": []
          }
        },
        {
          "output_type": "display_data",
          "data": {
            "text/html": [
              "<h3>Run history:</h3><br/><style>\n",
              "    table.wandb td:nth-child(1) { padding: 0 10px; text-align: right }\n",
              "    </style><table class=\"wandb\">\n",
              "<tr><td>episode</td><td>▁▁▁▂▂▂▂▂▂▃▃▃▃▃▄▄▄▄▄▄▅▅▅▅▅▅▆▆▆▆▆▇▇▇▇▇▇███</td></tr><tr><td>running_score</td><td>▁▁▁▁▁▁▁▁▁▂▁▂▂▂▂▂▂▃▃▃▃▃▄▄▄▄▅▅▆▆▆▇▇▇▇█▇█▇█</td></tr><tr><td>_runtime</td><td>▁▁▁▁▁▁▁▁▁▁▁▁▂▂▂▂▂▂▂▂▂▂▃▃▃▃▃▄▄▄▅▅▅▆▆▆▇▇▇█</td></tr><tr><td>_timestamp</td><td>▁▁▁▁▁▁▁▁▁▁▁▁▂▂▂▂▂▂▂▂▂▂▃▃▃▃▃▄▄▄▅▅▅▆▆▆▇▇▇█</td></tr><tr><td>_step</td><td>▁▁▁▂▂▂▂▂▂▃▃▃▃▃▄▄▄▄▄▄▅▅▅▅▅▅▆▆▆▆▆▇▇▇▇▇▇███</td></tr></table><br/>"
            ],
            "text/plain": [
              "<IPython.core.display.HTML object>"
            ]
          },
          "metadata": {
            "tags": []
          }
        },
        {
          "output_type": "display_data",
          "data": {
            "text/html": [
              "Synced 5 W&B file(s), 0 media file(s), 2 artifact file(s) and 9 other file(s)"
            ],
            "text/plain": [
              "<IPython.core.display.HTML object>"
            ]
          },
          "metadata": {
            "tags": []
          }
        },
        {
          "output_type": "display_data",
          "data": {
            "text/html": [
              "\n",
              "                    <br/>Synced <strong style=\"color:#cdcd00\">fluent-sweep-21</strong>: <a href=\"https://wandb.ai/ko120/Advantage_Actor_Critic/runs/8fzb135m\" target=\"_blank\">https://wandb.ai/ko120/Advantage_Actor_Critic/runs/8fzb135m</a><br/>\n",
              "                "
            ],
            "text/plain": [
              "<IPython.core.display.HTML object>"
            ]
          },
          "metadata": {
            "tags": []
          }
        },
        {
          "output_type": "stream",
          "text": [
            "\u001b[34m\u001b[1mwandb\u001b[0m: Agent Starting Run: 6x94wawx with config:\n",
            "\u001b[34m\u001b[1mwandb\u001b[0m: \tactor_learning_rate: 0.0001\n",
            "\u001b[34m\u001b[1mwandb\u001b[0m: \tcritic_learning_rate: 0.01\n",
            "\u001b[34m\u001b[1mwandb\u001b[0m: \tlearning: learn_mean\n",
            "\u001b[34m\u001b[1mwandb\u001b[0m: \tnum_neurons: 128\n",
            "\u001b[34m\u001b[1mwandb\u001b[0m: \toptimizer: Adam\n",
            "\u001b[34m\u001b[1mwandb\u001b[0m: \u001b[33mWARNING\u001b[0m Ignored wandb.init() arg project when running a sweep\n"
          ],
          "name": "stderr"
        },
        {
          "output_type": "display_data",
          "data": {
            "text/html": [
              "\n",
              "                Tracking run with wandb version 0.11.0<br/>\n",
              "                Syncing run <strong style=\"color:#cdcd00\">honest-sweep-22</strong> to <a href=\"https://wandb.ai\" target=\"_blank\">Weights & Biases</a> <a href=\"https://docs.wandb.com/integrations/jupyter.html\" target=\"_blank\">(Documentation)</a>.<br/>\n",
              "                Project page: <a href=\"https://wandb.ai/ko120/Advantage_Actor_Critic\" target=\"_blank\">https://wandb.ai/ko120/Advantage_Actor_Critic</a><br/>\n",
              "                Sweep page: <a href=\"https://wandb.ai/ko120/Advantage_Actor_Critic/sweeps/t9gia22t\" target=\"_blank\">https://wandb.ai/ko120/Advantage_Actor_Critic/sweeps/t9gia22t</a><br/>\n",
              "Run page: <a href=\"https://wandb.ai/ko120/Advantage_Actor_Critic/runs/6x94wawx\" target=\"_blank\">https://wandb.ai/ko120/Advantage_Actor_Critic/runs/6x94wawx</a><br/>\n",
              "                Run data is saved locally in <code>/content/wandb/run-20210729_052304-6x94wawx</code><br/><br/>\n",
              "            "
            ],
            "text/plain": [
              "<IPython.core.display.HTML object>"
            ]
          },
          "metadata": {
            "tags": []
          }
        },
        {
          "output_type": "stream",
          "text": [
            "episode 100 average reward 21.407100014355482, ended at 4.2\n",
            "episode 200 average reward 23.116248479496186, ended at 9.0\n",
            "episode 300 average reward 22.949174579293377, ended at 13.8\n",
            "episode 400 average reward 34.02454750534225, ended at 20.2\n",
            "episode 500 average reward 39.62572745776359, ended at 28.3\n",
            "episode 600 average reward 41.26190045596035, ended at 36.5\n",
            "episode 700 average reward 46.98562532564131, ended at 45.5\n",
            "episode 800 average reward 53.114490462921964, ended at 55.5\n",
            "episode 900 average reward 60.73085594009105, ended at 66.4\n",
            "episode 1000 average reward 80.34328977811363, ended at 80.4\n",
            "episode 1100 average reward 77.99339184810411, ended at 94.6\n",
            "episode 1200 average reward 87.95928137077595, ended at 111.0\n",
            "episode 1300 average reward 141.4817756345705, ended at 136.1\n",
            "episode 1400 average reward 155.98280613597143, ended at 163.9\n",
            "episode 1500 average reward 197.92752278442322, ended at 198.0\n",
            "episode 1600 average reward 216.48905039282454, ended at 237.9\n",
            "episode 1700 average reward 254.84191360355817, ended at 285.9\n",
            "episode 1800 average reward 344.86018087602713, ended at 346.2\n",
            "episode 1900 average reward 353.7852528263097, ended at 410.1\n",
            "episode 2000 average reward 340.5962445628683, ended at 476.7\n",
            "episode 2100 average reward 349.15873470402215, ended at 547.6\n",
            "episode 2200 average reward 389.5830684671218, ended at 626.2\n",
            "episode 2300 average reward 396.5636837300358, ended at 707.7\n",
            "episode 2400 average reward 412.2149988177011, ended at 790.8\n",
            "episode 2500 average reward 417.20178749066355, ended at 875.4\n",
            "episode 2600 average reward 422.198686403719, ended at 960.9\n",
            "episode 2700 average reward 465.0379321431423, ended at 1052.3\n",
            "episode 2800 average reward 469.9009138755805, ended at 1142.9\n",
            "episode 2900 average reward 474.2286765804643, ended at 1237.1\n",
            "episode 3000 average reward 489.21290050924495, ended at 1331.3\n"
          ],
          "name": "stdout"
        },
        {
          "output_type": "display_data",
          "data": {
            "text/html": [
              "<br/>Waiting for W&B process to finish, PID 4643<br/>Program ended successfully."
            ],
            "text/plain": [
              "<IPython.core.display.HTML object>"
            ]
          },
          "metadata": {
            "tags": []
          }
        },
        {
          "output_type": "display_data",
          "data": {
            "application/vnd.jupyter.widget-view+json": {
              "model_id": "28615bd515354907bd36a8bd5222e480",
              "version_minor": 0,
              "version_major": 2
            },
            "text/plain": [
              "VBox(children=(Label(value=' 0.46MB of 0.46MB uploaded (0.00MB deduped)\\r'), FloatProgress(value=1.0, max=1.0)…"
            ]
          },
          "metadata": {
            "tags": []
          }
        },
        {
          "output_type": "display_data",
          "data": {
            "text/html": [
              "Find user logs for this run at: <code>/content/wandb/run-20210729_052304-6x94wawx/logs/debug.log</code>"
            ],
            "text/plain": [
              "<IPython.core.display.HTML object>"
            ]
          },
          "metadata": {
            "tags": []
          }
        },
        {
          "output_type": "display_data",
          "data": {
            "text/html": [
              "Find internal logs for this run at: <code>/content/wandb/run-20210729_052304-6x94wawx/logs/debug-internal.log</code>"
            ],
            "text/plain": [
              "<IPython.core.display.HTML object>"
            ]
          },
          "metadata": {
            "tags": []
          }
        },
        {
          "output_type": "display_data",
          "data": {
            "text/html": [
              "<h3>Run summary:</h3><br/><style>\n",
              "    table.wandb td:nth-child(1) { padding: 0 10px; text-align: right }\n",
              "    </style><table class=\"wandb\">\n",
              "<tr><td>episode</td><td>3000</td></tr><tr><td>running_score</td><td>489.2129</td></tr><tr><td>_runtime</td><td>1334</td></tr><tr><td>_timestamp</td><td>1627537518</td></tr><tr><td>_step</td><td>2999</td></tr></table>"
            ],
            "text/plain": [
              "<IPython.core.display.HTML object>"
            ]
          },
          "metadata": {
            "tags": []
          }
        },
        {
          "output_type": "display_data",
          "data": {
            "text/html": [
              "<h3>Run history:</h3><br/><style>\n",
              "    table.wandb td:nth-child(1) { padding: 0 10px; text-align: right }\n",
              "    </style><table class=\"wandb\">\n",
              "<tr><td>episode</td><td>▁▁▁▂▂▂▂▂▂▃▃▃▃▃▄▄▄▄▄▄▅▅▅▅▅▅▆▆▆▆▆▇▇▇▇▇▇███</td></tr><tr><td>running_score</td><td>▁▁▁▁▁▁▁▁▁▁▁▁▂▂▂▂▂▃▃▃▃▄▄▅▆▆▆▆▇▇▇▇▇▇▇█▇███</td></tr><tr><td>_runtime</td><td>▁▁▁▁▁▁▁▁▁▁▁▁▁▁▁▂▂▂▂▂▂▂▂▃▃▃▃▄▄▄▅▅▅▆▆▆▇▇██</td></tr><tr><td>_timestamp</td><td>▁▁▁▁▁▁▁▁▁▁▁▁▁▁▁▂▂▂▂▂▂▂▂▃▃▃▃▄▄▄▅▅▅▆▆▆▇▇██</td></tr><tr><td>_step</td><td>▁▁▁▂▂▂▂▂▂▃▃▃▃▃▄▄▄▄▄▄▅▅▅▅▅▅▆▆▆▆▆▇▇▇▇▇▇███</td></tr></table><br/>"
            ],
            "text/plain": [
              "<IPython.core.display.HTML object>"
            ]
          },
          "metadata": {
            "tags": []
          }
        },
        {
          "output_type": "display_data",
          "data": {
            "text/html": [
              "Synced 5 W&B file(s), 0 media file(s), 2 artifact file(s) and 9 other file(s)"
            ],
            "text/plain": [
              "<IPython.core.display.HTML object>"
            ]
          },
          "metadata": {
            "tags": []
          }
        },
        {
          "output_type": "display_data",
          "data": {
            "text/html": [
              "\n",
              "                    <br/>Synced <strong style=\"color:#cdcd00\">honest-sweep-22</strong>: <a href=\"https://wandb.ai/ko120/Advantage_Actor_Critic/runs/6x94wawx\" target=\"_blank\">https://wandb.ai/ko120/Advantage_Actor_Critic/runs/6x94wawx</a><br/>\n",
              "                "
            ],
            "text/plain": [
              "<IPython.core.display.HTML object>"
            ]
          },
          "metadata": {
            "tags": []
          }
        },
        {
          "output_type": "stream",
          "text": [
            "\u001b[34m\u001b[1mwandb\u001b[0m: Agent Starting Run: 46e8nm2o with config:\n",
            "\u001b[34m\u001b[1mwandb\u001b[0m: \tactor_learning_rate: 0.0001\n",
            "\u001b[34m\u001b[1mwandb\u001b[0m: \tcritic_learning_rate: 0.001\n",
            "\u001b[34m\u001b[1mwandb\u001b[0m: \tlearning: learn_mean\n",
            "\u001b[34m\u001b[1mwandb\u001b[0m: \tnum_neurons: 128\n",
            "\u001b[34m\u001b[1mwandb\u001b[0m: \toptimizer: RMSprop\n",
            "\u001b[34m\u001b[1mwandb\u001b[0m: \u001b[33mWARNING\u001b[0m Ignored wandb.init() arg project when running a sweep\n"
          ],
          "name": "stderr"
        },
        {
          "output_type": "display_data",
          "data": {
            "text/html": [
              "\n",
              "                Tracking run with wandb version 0.11.0<br/>\n",
              "                Syncing run <strong style=\"color:#cdcd00\">olive-sweep-23</strong> to <a href=\"https://wandb.ai\" target=\"_blank\">Weights & Biases</a> <a href=\"https://docs.wandb.com/integrations/jupyter.html\" target=\"_blank\">(Documentation)</a>.<br/>\n",
              "                Project page: <a href=\"https://wandb.ai/ko120/Advantage_Actor_Critic\" target=\"_blank\">https://wandb.ai/ko120/Advantage_Actor_Critic</a><br/>\n",
              "                Sweep page: <a href=\"https://wandb.ai/ko120/Advantage_Actor_Critic/sweeps/t9gia22t\" target=\"_blank\">https://wandb.ai/ko120/Advantage_Actor_Critic/sweeps/t9gia22t</a><br/>\n",
              "Run page: <a href=\"https://wandb.ai/ko120/Advantage_Actor_Critic/runs/46e8nm2o\" target=\"_blank\">https://wandb.ai/ko120/Advantage_Actor_Critic/runs/46e8nm2o</a><br/>\n",
              "                Run data is saved locally in <code>/content/wandb/run-20210729_054523-46e8nm2o</code><br/><br/>\n",
              "            "
            ],
            "text/plain": [
              "<IPython.core.display.HTML object>"
            ]
          },
          "metadata": {
            "tags": []
          }
        },
        {
          "output_type": "stream",
          "text": [
            "episode 100 average reward 20.31701436279174, ended at 4.3\n",
            "episode 200 average reward 18.530987097251934, ended at 7.7\n",
            "episode 300 average reward 17.01360296130387, ended at 11.3\n",
            "episode 400 average reward 20.860178159522736, ended at 15.4\n",
            "episode 500 average reward 19.91298711142951, ended at 19.7\n",
            "episode 600 average reward 24.64686382859735, ended at 24.4\n",
            "episode 700 average reward 30.321341118731766, ended at 30.5\n",
            "episode 800 average reward 34.33271526363201, ended at 37.6\n",
            "episode 900 average reward 33.63333238141048, ended at 44.6\n",
            "episode 1000 average reward 41.924397911936374, ended at 52.2\n",
            "episode 1100 average reward 44.017657464687424, ended at 60.6\n",
            "episode 1200 average reward 49.55290712376267, ended at 69.2\n",
            "episode 1300 average reward 50.541708414632396, ended at 78.4\n",
            "episode 1400 average reward 51.73784471800152, ended at 88.5\n",
            "episode 1500 average reward 51.38907462467695, ended at 99.6\n",
            "episode 1600 average reward 54.976407857031965, ended at 110.8\n",
            "episode 1700 average reward 61.43255248391098, ended at 123.3\n",
            "episode 1800 average reward 60.910160186416114, ended at 135.2\n",
            "episode 1900 average reward 62.453582601245145, ended at 147.8\n",
            "episode 2000 average reward 80.87118051123956, ended at 163.9\n",
            "episode 2100 average reward 77.90567773609209, ended at 179.3\n",
            "episode 2200 average reward 100.36849568258064, ended at 197.6\n",
            "episode 2300 average reward 110.77963299100436, ended at 218.7\n",
            "episode 2400 average reward 113.58502424165735, ended at 243.5\n",
            "episode 2500 average reward 128.2930128561193, ended at 269.6\n",
            "episode 2600 average reward 129.43438735031077, ended at 295.7\n",
            "episode 2700 average reward 183.86748811586406, ended at 327.2\n",
            "episode 2800 average reward 218.39901922774754, ended at 365.8\n",
            "episode 2900 average reward 231.4686580845758, ended at 410.5\n",
            "episode 3000 average reward 208.68999130833038, ended at 452.6\n"
          ],
          "name": "stdout"
        },
        {
          "output_type": "display_data",
          "data": {
            "text/html": [
              "<br/>Waiting for W&B process to finish, PID 4954<br/>Program ended successfully."
            ],
            "text/plain": [
              "<IPython.core.display.HTML object>"
            ]
          },
          "metadata": {
            "tags": []
          }
        },
        {
          "output_type": "display_data",
          "data": {
            "application/vnd.jupyter.widget-view+json": {
              "model_id": "f69e9ff365a943ccae826dd25a64ad04",
              "version_minor": 0,
              "version_major": 2
            },
            "text/plain": [
              "VBox(children=(Label(value=' 0.47MB of 0.47MB uploaded (0.00MB deduped)\\r'), FloatProgress(value=1.0, max=1.0)…"
            ]
          },
          "metadata": {
            "tags": []
          }
        },
        {
          "output_type": "display_data",
          "data": {
            "text/html": [
              "Find user logs for this run at: <code>/content/wandb/run-20210729_054523-46e8nm2o/logs/debug.log</code>"
            ],
            "text/plain": [
              "<IPython.core.display.HTML object>"
            ]
          },
          "metadata": {
            "tags": []
          }
        },
        {
          "output_type": "display_data",
          "data": {
            "text/html": [
              "Find internal logs for this run at: <code>/content/wandb/run-20210729_054523-46e8nm2o/logs/debug-internal.log</code>"
            ],
            "text/plain": [
              "<IPython.core.display.HTML object>"
            ]
          },
          "metadata": {
            "tags": []
          }
        },
        {
          "output_type": "display_data",
          "data": {
            "text/html": [
              "<h3>Run summary:</h3><br/><style>\n",
              "    table.wandb td:nth-child(1) { padding: 0 10px; text-align: right }\n",
              "    </style><table class=\"wandb\">\n",
              "<tr><td>episode</td><td>3000</td></tr><tr><td>running_score</td><td>208.68999</td></tr><tr><td>_runtime</td><td>455</td></tr><tr><td>_timestamp</td><td>1627537978</td></tr><tr><td>_step</td><td>2999</td></tr></table>"
            ],
            "text/plain": [
              "<IPython.core.display.HTML object>"
            ]
          },
          "metadata": {
            "tags": []
          }
        },
        {
          "output_type": "display_data",
          "data": {
            "text/html": [
              "<h3>Run history:</h3><br/><style>\n",
              "    table.wandb td:nth-child(1) { padding: 0 10px; text-align: right }\n",
              "    </style><table class=\"wandb\">\n",
              "<tr><td>episode</td><td>▁▁▁▂▂▂▂▂▂▃▃▃▃▃▄▄▄▄▄▄▅▅▅▅▅▅▆▆▆▆▆▇▇▇▇▇▇███</td></tr><tr><td>running_score</td><td>▁▁▁▁▁▁▁▁▁▁▂▂▂▂▂▂▂▂▂▂▂▂▃▃▃▃▃▃▄▄▄▄▅▅▅▅▇███</td></tr><tr><td>_runtime</td><td>▁▁▁▁▁▁▁▁▁▁▂▂▂▂▂▂▂▂▂▂▃▃▃▃▃▃▄▄▄▄▄▅▅▅▆▆▆▇▇█</td></tr><tr><td>_timestamp</td><td>▁▁▁▁▁▁▁▁▁▁▂▂▂▂▂▂▂▂▂▂▃▃▃▃▃▃▄▄▄▄▄▅▅▅▆▆▆▇▇█</td></tr><tr><td>_step</td><td>▁▁▁▂▂▂▂▂▂▃▃▃▃▃▄▄▄▄▄▄▅▅▅▅▅▅▆▆▆▆▆▇▇▇▇▇▇███</td></tr></table><br/>"
            ],
            "text/plain": [
              "<IPython.core.display.HTML object>"
            ]
          },
          "metadata": {
            "tags": []
          }
        },
        {
          "output_type": "display_data",
          "data": {
            "text/html": [
              "Synced 5 W&B file(s), 0 media file(s), 2 artifact file(s) and 9 other file(s)"
            ],
            "text/plain": [
              "<IPython.core.display.HTML object>"
            ]
          },
          "metadata": {
            "tags": []
          }
        },
        {
          "output_type": "display_data",
          "data": {
            "text/html": [
              "\n",
              "                    <br/>Synced <strong style=\"color:#cdcd00\">olive-sweep-23</strong>: <a href=\"https://wandb.ai/ko120/Advantage_Actor_Critic/runs/46e8nm2o\" target=\"_blank\">https://wandb.ai/ko120/Advantage_Actor_Critic/runs/46e8nm2o</a><br/>\n",
              "                "
            ],
            "text/plain": [
              "<IPython.core.display.HTML object>"
            ]
          },
          "metadata": {
            "tags": []
          }
        },
        {
          "output_type": "stream",
          "text": [
            "\u001b[34m\u001b[1mwandb\u001b[0m: Agent Starting Run: cuec9ama with config:\n",
            "\u001b[34m\u001b[1mwandb\u001b[0m: \tactor_learning_rate: 0.0001\n",
            "\u001b[34m\u001b[1mwandb\u001b[0m: \tcritic_learning_rate: 0.001\n",
            "\u001b[34m\u001b[1mwandb\u001b[0m: \tlearning: learn_mean\n",
            "\u001b[34m\u001b[1mwandb\u001b[0m: \tnum_neurons: 128\n",
            "\u001b[34m\u001b[1mwandb\u001b[0m: \toptimizer: Adam\n",
            "\u001b[34m\u001b[1mwandb\u001b[0m: \u001b[33mWARNING\u001b[0m Ignored wandb.init() arg project when running a sweep\n"
          ],
          "name": "stderr"
        },
        {
          "output_type": "display_data",
          "data": {
            "text/html": [
              "\n",
              "                Tracking run with wandb version 0.11.0<br/>\n",
              "                Syncing run <strong style=\"color:#cdcd00\">peachy-sweep-24</strong> to <a href=\"https://wandb.ai\" target=\"_blank\">Weights & Biases</a> <a href=\"https://docs.wandb.com/integrations/jupyter.html\" target=\"_blank\">(Documentation)</a>.<br/>\n",
              "                Project page: <a href=\"https://wandb.ai/ko120/Advantage_Actor_Critic\" target=\"_blank\">https://wandb.ai/ko120/Advantage_Actor_Critic</a><br/>\n",
              "                Sweep page: <a href=\"https://wandb.ai/ko120/Advantage_Actor_Critic/sweeps/t9gia22t\" target=\"_blank\">https://wandb.ai/ko120/Advantage_Actor_Critic/sweeps/t9gia22t</a><br/>\n",
              "Run page: <a href=\"https://wandb.ai/ko120/Advantage_Actor_Critic/runs/cuec9ama\" target=\"_blank\">https://wandb.ai/ko120/Advantage_Actor_Critic/runs/cuec9ama</a><br/>\n",
              "                Run data is saved locally in <code>/content/wandb/run-20210729_055304-cuec9ama</code><br/><br/>\n",
              "            "
            ],
            "text/plain": [
              "<IPython.core.display.HTML object>"
            ]
          },
          "metadata": {
            "tags": []
          }
        },
        {
          "output_type": "stream",
          "text": [
            "episode 100 average reward 19.22855130201222, ended at 4.3\n",
            "episode 200 average reward 18.909204037755686, ended at 8.3\n",
            "episode 300 average reward 18.739272817640227, ended at 12.4\n",
            "episode 400 average reward 15.665947120528209, ended at 15.9\n",
            "episode 500 average reward 17.692760212470326, ended at 19.6\n",
            "episode 600 average reward 20.545006392400303, ended at 23.7\n",
            "episode 700 average reward 26.944732765512875, ended at 29.1\n",
            "episode 800 average reward 31.13497062365848, ended at 34.6\n",
            "episode 900 average reward 34.238402117711, ended at 40.9\n",
            "episode 1000 average reward 44.98055882877101, ended at 49.3\n",
            "episode 1100 average reward 49.483214918232356, ended at 58.6\n",
            "episode 1200 average reward 51.68389336135749, ended at 69.4\n",
            "episode 1300 average reward 49.824151307129206, ended at 80.2\n",
            "episode 1400 average reward 62.43269773309989, ended at 92.0\n",
            "episode 1500 average reward 67.14904041104664, ended at 104.3\n",
            "episode 1600 average reward 70.852924798151, ended at 117.3\n",
            "episode 1700 average reward 92.7130530077999, ended at 135.9\n",
            "episode 1800 average reward 121.06656963741239, ended at 157.8\n",
            "episode 1900 average reward 104.81881830036937, ended at 180.4\n",
            "episode 2000 average reward 140.03424624208074, ended at 206.5\n",
            "episode 2100 average reward 195.77486926291272, ended at 243.7\n",
            "episode 2200 average reward 181.49568358085872, ended at 279.1\n",
            "episode 2300 average reward 195.5639530883886, ended at 315.3\n",
            "episode 2400 average reward 206.89885577155215, ended at 353.4\n",
            "episode 2500 average reward 232.45870433783136, ended at 398.3\n",
            "episode 2600 average reward 283.0090831204397, ended at 449.3\n",
            "episode 2700 average reward 303.3763415427655, ended at 505.2\n",
            "episode 2800 average reward 296.8551965005285, ended at 560.9\n",
            "episode 2900 average reward 307.8116373798523, ended at 623.3\n",
            "episode 3000 average reward 352.63259430628983, ended at 692.6\n"
          ],
          "name": "stdout"
        },
        {
          "output_type": "display_data",
          "data": {
            "text/html": [
              "<br/>Waiting for W&B process to finish, PID 5093<br/>Program ended successfully."
            ],
            "text/plain": [
              "<IPython.core.display.HTML object>"
            ]
          },
          "metadata": {
            "tags": []
          }
        },
        {
          "output_type": "display_data",
          "data": {
            "application/vnd.jupyter.widget-view+json": {
              "model_id": "99c95909085a47a78281f280a3e6f174",
              "version_minor": 0,
              "version_major": 2
            },
            "text/plain": [
              "VBox(children=(Label(value=' 0.49MB of 0.49MB uploaded (0.00MB deduped)\\r'), FloatProgress(value=1.0, max=1.0)…"
            ]
          },
          "metadata": {
            "tags": []
          }
        },
        {
          "output_type": "display_data",
          "data": {
            "text/html": [
              "Find user logs for this run at: <code>/content/wandb/run-20210729_055304-cuec9ama/logs/debug.log</code>"
            ],
            "text/plain": [
              "<IPython.core.display.HTML object>"
            ]
          },
          "metadata": {
            "tags": []
          }
        },
        {
          "output_type": "display_data",
          "data": {
            "text/html": [
              "Find internal logs for this run at: <code>/content/wandb/run-20210729_055304-cuec9ama/logs/debug-internal.log</code>"
            ],
            "text/plain": [
              "<IPython.core.display.HTML object>"
            ]
          },
          "metadata": {
            "tags": []
          }
        },
        {
          "output_type": "display_data",
          "data": {
            "text/html": [
              "<h3>Run summary:</h3><br/><style>\n",
              "    table.wandb td:nth-child(1) { padding: 0 10px; text-align: right }\n",
              "    </style><table class=\"wandb\">\n",
              "<tr><td>episode</td><td>3000</td></tr><tr><td>running_score</td><td>352.63259</td></tr><tr><td>_runtime</td><td>695</td></tr><tr><td>_timestamp</td><td>1627538679</td></tr><tr><td>_step</td><td>2999</td></tr></table>"
            ],
            "text/plain": [
              "<IPython.core.display.HTML object>"
            ]
          },
          "metadata": {
            "tags": []
          }
        },
        {
          "output_type": "display_data",
          "data": {
            "text/html": [
              "<h3>Run history:</h3><br/><style>\n",
              "    table.wandb td:nth-child(1) { padding: 0 10px; text-align: right }\n",
              "    </style><table class=\"wandb\">\n",
              "<tr><td>episode</td><td>▁▁▁▂▂▂▂▂▂▃▃▃▃▃▄▄▄▄▄▄▅▅▅▅▅▅▆▆▆▆▆▇▇▇▇▇▇███</td></tr><tr><td>running_score</td><td>▁▁▁▁▁▁▁▁▁▁▁▁▁▁▂▂▂▂▂▂▂▂▂▃▃▃▃▄▄▄▄▄▅▅▆▆▆▆▇█</td></tr><tr><td>_runtime</td><td>▁▁▁▁▁▁▁▁▁▁▁▁▁▁▂▂▂▂▂▂▂▂▂▃▃▃▃▃▄▄▄▅▅▅▆▆▆▇▇█</td></tr><tr><td>_timestamp</td><td>▁▁▁▁▁▁▁▁▁▁▁▁▁▁▂▂▂▂▂▂▂▂▂▃▃▃▃▃▄▄▄▅▅▅▆▆▆▇▇█</td></tr><tr><td>_step</td><td>▁▁▁▂▂▂▂▂▂▃▃▃▃▃▄▄▄▄▄▄▅▅▅▅▅▅▆▆▆▆▆▇▇▇▇▇▇███</td></tr></table><br/>"
            ],
            "text/plain": [
              "<IPython.core.display.HTML object>"
            ]
          },
          "metadata": {
            "tags": []
          }
        },
        {
          "output_type": "display_data",
          "data": {
            "text/html": [
              "Synced 5 W&B file(s), 0 media file(s), 2 artifact file(s) and 9 other file(s)"
            ],
            "text/plain": [
              "<IPython.core.display.HTML object>"
            ]
          },
          "metadata": {
            "tags": []
          }
        },
        {
          "output_type": "display_data",
          "data": {
            "text/html": [
              "\n",
              "                    <br/>Synced <strong style=\"color:#cdcd00\">peachy-sweep-24</strong>: <a href=\"https://wandb.ai/ko120/Advantage_Actor_Critic/runs/cuec9ama\" target=\"_blank\">https://wandb.ai/ko120/Advantage_Actor_Critic/runs/cuec9ama</a><br/>\n",
              "                "
            ],
            "text/plain": [
              "<IPython.core.display.HTML object>"
            ]
          },
          "metadata": {
            "tags": []
          }
        },
        {
          "output_type": "stream",
          "text": [
            "\u001b[34m\u001b[1mwandb\u001b[0m: Agent Starting Run: ityv2lhv with config:\n",
            "\u001b[34m\u001b[1mwandb\u001b[0m: \tactor_learning_rate: 0.0001\n",
            "\u001b[34m\u001b[1mwandb\u001b[0m: \tcritic_learning_rate: 0.0001\n",
            "\u001b[34m\u001b[1mwandb\u001b[0m: \tlearning: learn_mean\n",
            "\u001b[34m\u001b[1mwandb\u001b[0m: \tnum_neurons: 128\n",
            "\u001b[34m\u001b[1mwandb\u001b[0m: \toptimizer: RMSprop\n",
            "\u001b[34m\u001b[1mwandb\u001b[0m: \u001b[33mWARNING\u001b[0m Ignored wandb.init() arg project when running a sweep\n"
          ],
          "name": "stderr"
        },
        {
          "output_type": "display_data",
          "data": {
            "text/html": [
              "\n",
              "                Tracking run with wandb version 0.11.0<br/>\n",
              "                Syncing run <strong style=\"color:#cdcd00\">comic-sweep-25</strong> to <a href=\"https://wandb.ai\" target=\"_blank\">Weights & Biases</a> <a href=\"https://docs.wandb.com/integrations/jupyter.html\" target=\"_blank\">(Documentation)</a>.<br/>\n",
              "                Project page: <a href=\"https://wandb.ai/ko120/Advantage_Actor_Critic\" target=\"_blank\">https://wandb.ai/ko120/Advantage_Actor_Critic</a><br/>\n",
              "                Sweep page: <a href=\"https://wandb.ai/ko120/Advantage_Actor_Critic/sweeps/t9gia22t\" target=\"_blank\">https://wandb.ai/ko120/Advantage_Actor_Critic/sweeps/t9gia22t</a><br/>\n",
              "Run page: <a href=\"https://wandb.ai/ko120/Advantage_Actor_Critic/runs/ityv2lhv\" target=\"_blank\">https://wandb.ai/ko120/Advantage_Actor_Critic/runs/ityv2lhv</a><br/>\n",
              "                Run data is saved locally in <code>/content/wandb/run-20210729_060444-ityv2lhv</code><br/><br/>\n",
              "            "
            ],
            "text/plain": [
              "<IPython.core.display.HTML object>"
            ]
          },
          "metadata": {
            "tags": []
          }
        },
        {
          "output_type": "stream",
          "text": [
            "episode 100 average reward 24.498639256739676, ended at 4.5\n",
            "episode 200 average reward 24.833727208453066, ended at 9.5\n",
            "episode 300 average reward 19.681741614311168, ended at 13.3\n",
            "episode 400 average reward 18.851759074474167, ended at 17.4\n",
            "episode 500 average reward 16.754874748661155, ended at 21.1\n",
            "episode 600 average reward 18.47905400839913, ended at 25.3\n",
            "episode 700 average reward 17.229704931285408, ended at 29.1\n",
            "episode 800 average reward 15.023611636044272, ended at 32.4\n",
            "episode 900 average reward 15.710393510383325, ended at 35.6\n",
            "episode 1000 average reward 14.010921135061706, ended at 38.8\n",
            "episode 1100 average reward 13.886136876475295, ended at 41.8\n",
            "episode 1200 average reward 12.7966117433662, ended at 44.7\n",
            "episode 1300 average reward 12.824546447642534, ended at 47.6\n",
            "episode 1400 average reward 12.268897653661917, ended at 50.2\n",
            "episode 1500 average reward 11.748762260467661, ended at 52.9\n",
            "episode 1600 average reward 12.63487703120646, ended at 55.6\n",
            "episode 1700 average reward 11.366829474629961, ended at 58.3\n",
            "episode 1800 average reward 12.688957898046331, ended at 60.9\n",
            "episode 1900 average reward 11.456760362834709, ended at 63.4\n",
            "episode 2000 average reward 11.642144927721235, ended at 65.9\n",
            "episode 2100 average reward 11.662664898464778, ended at 68.5\n",
            "episode 2200 average reward 11.968815530954624, ended at 71.0\n",
            "episode 2300 average reward 10.80032294892501, ended at 73.5\n",
            "episode 2400 average reward 10.593664783546563, ended at 76.0\n",
            "episode 2500 average reward 11.090023403450111, ended at 78.5\n",
            "episode 2600 average reward 11.913179614962626, ended at 81.1\n",
            "episode 2700 average reward 11.716762119812772, ended at 83.8\n",
            "episode 2800 average reward 12.335913202120816, ended at 86.7\n",
            "episode 2900 average reward 11.341271110996981, ended at 89.4\n",
            "episode 3000 average reward 12.432034209679827, ended at 92.2\n"
          ],
          "name": "stdout"
        },
        {
          "output_type": "display_data",
          "data": {
            "text/html": [
              "<br/>Waiting for W&B process to finish, PID 5278<br/>Program ended successfully."
            ],
            "text/plain": [
              "<IPython.core.display.HTML object>"
            ]
          },
          "metadata": {
            "tags": []
          }
        },
        {
          "output_type": "display_data",
          "data": {
            "application/vnd.jupyter.widget-view+json": {
              "model_id": "764f427db6d74247a6eb428de60ff744",
              "version_minor": 0,
              "version_major": 2
            },
            "text/plain": [
              "VBox(children=(Label(value=' 0.50MB of 0.50MB uploaded (0.00MB deduped)\\r'), FloatProgress(value=1.0, max=1.0)…"
            ]
          },
          "metadata": {
            "tags": []
          }
        },
        {
          "output_type": "display_data",
          "data": {
            "text/html": [
              "Find user logs for this run at: <code>/content/wandb/run-20210729_060444-ityv2lhv/logs/debug.log</code>"
            ],
            "text/plain": [
              "<IPython.core.display.HTML object>"
            ]
          },
          "metadata": {
            "tags": []
          }
        },
        {
          "output_type": "display_data",
          "data": {
            "text/html": [
              "Find internal logs for this run at: <code>/content/wandb/run-20210729_060444-ityv2lhv/logs/debug-internal.log</code>"
            ],
            "text/plain": [
              "<IPython.core.display.HTML object>"
            ]
          },
          "metadata": {
            "tags": []
          }
        },
        {
          "output_type": "display_data",
          "data": {
            "text/html": [
              "<h3>Run summary:</h3><br/><style>\n",
              "    table.wandb td:nth-child(1) { padding: 0 10px; text-align: right }\n",
              "    </style><table class=\"wandb\">\n",
              "<tr><td>episode</td><td>3000</td></tr><tr><td>running_score</td><td>12.43203</td></tr><tr><td>_runtime</td><td>94</td></tr><tr><td>_timestamp</td><td>1627538779</td></tr><tr><td>_step</td><td>2999</td></tr></table>"
            ],
            "text/plain": [
              "<IPython.core.display.HTML object>"
            ]
          },
          "metadata": {
            "tags": []
          }
        },
        {
          "output_type": "display_data",
          "data": {
            "text/html": [
              "<h3>Run history:</h3><br/><style>\n",
              "    table.wandb td:nth-child(1) { padding: 0 10px; text-align: right }\n",
              "    </style><table class=\"wandb\">\n",
              "<tr><td>episode</td><td>▁▁▁▂▂▂▂▂▂▃▃▃▃▃▄▄▄▄▄▄▅▅▅▅▅▅▆▆▆▆▆▇▇▇▇▇▇███</td></tr><tr><td>running_score</td><td>▆██▆▆▅▄▆▅▄▃▃▃▃▃▂▂▂▂▁▁▂▃▁▂▁▁▁▁▂▁▁▁▁▂▁▁▂▁▁</td></tr><tr><td>_runtime</td><td>▁▁▁▂▂▂▂▃▃▃▃▃▄▄▄▄▄▅▅▅▅▅▅▆▆▆▆▆▆▆▇▇▇▇▇▇▇███</td></tr><tr><td>_timestamp</td><td>▁▁▁▂▂▂▂▃▃▃▃▃▄▄▄▄▄▅▅▅▅▅▅▆▆▆▆▆▆▆▇▇▇▇▇▇▇███</td></tr><tr><td>_step</td><td>▁▁▁▂▂▂▂▂▂▃▃▃▃▃▄▄▄▄▄▄▅▅▅▅▅▅▆▆▆▆▆▇▇▇▇▇▇███</td></tr></table><br/>"
            ],
            "text/plain": [
              "<IPython.core.display.HTML object>"
            ]
          },
          "metadata": {
            "tags": []
          }
        },
        {
          "output_type": "display_data",
          "data": {
            "text/html": [
              "Synced 5 W&B file(s), 0 media file(s), 2 artifact file(s) and 9 other file(s)"
            ],
            "text/plain": [
              "<IPython.core.display.HTML object>"
            ]
          },
          "metadata": {
            "tags": []
          }
        },
        {
          "output_type": "display_data",
          "data": {
            "text/html": [
              "\n",
              "                    <br/>Synced <strong style=\"color:#cdcd00\">comic-sweep-25</strong>: <a href=\"https://wandb.ai/ko120/Advantage_Actor_Critic/runs/ityv2lhv\" target=\"_blank\">https://wandb.ai/ko120/Advantage_Actor_Critic/runs/ityv2lhv</a><br/>\n",
              "                "
            ],
            "text/plain": [
              "<IPython.core.display.HTML object>"
            ]
          },
          "metadata": {
            "tags": []
          }
        },
        {
          "output_type": "stream",
          "text": [
            "\u001b[34m\u001b[1mwandb\u001b[0m: Agent Starting Run: 0sudew35 with config:\n",
            "\u001b[34m\u001b[1mwandb\u001b[0m: \tactor_learning_rate: 0.0001\n",
            "\u001b[34m\u001b[1mwandb\u001b[0m: \tcritic_learning_rate: 0.0001\n",
            "\u001b[34m\u001b[1mwandb\u001b[0m: \tlearning: learn_mean\n",
            "\u001b[34m\u001b[1mwandb\u001b[0m: \tnum_neurons: 128\n",
            "\u001b[34m\u001b[1mwandb\u001b[0m: \toptimizer: Adam\n",
            "\u001b[34m\u001b[1mwandb\u001b[0m: \u001b[33mWARNING\u001b[0m Ignored wandb.init() arg project when running a sweep\n"
          ],
          "name": "stderr"
        },
        {
          "output_type": "display_data",
          "data": {
            "text/html": [
              "\n",
              "                Tracking run with wandb version 0.11.0<br/>\n",
              "                Syncing run <strong style=\"color:#cdcd00\">zany-sweep-26</strong> to <a href=\"https://wandb.ai\" target=\"_blank\">Weights & Biases</a> <a href=\"https://docs.wandb.com/integrations/jupyter.html\" target=\"_blank\">(Documentation)</a>.<br/>\n",
              "                Project page: <a href=\"https://wandb.ai/ko120/Advantage_Actor_Critic\" target=\"_blank\">https://wandb.ai/ko120/Advantage_Actor_Critic</a><br/>\n",
              "                Sweep page: <a href=\"https://wandb.ai/ko120/Advantage_Actor_Critic/sweeps/t9gia22t\" target=\"_blank\">https://wandb.ai/ko120/Advantage_Actor_Critic/sweeps/t9gia22t</a><br/>\n",
              "Run page: <a href=\"https://wandb.ai/ko120/Advantage_Actor_Critic/runs/0sudew35\" target=\"_blank\">https://wandb.ai/ko120/Advantage_Actor_Critic/runs/0sudew35</a><br/>\n",
              "                Run data is saved locally in <code>/content/wandb/run-20210729_060625-0sudew35</code><br/><br/>\n",
              "            "
            ],
            "text/plain": [
              "<IPython.core.display.HTML object>"
            ]
          },
          "metadata": {
            "tags": []
          }
        },
        {
          "output_type": "stream",
          "text": [
            "episode 100 average reward 21.656913914353566, ended at 4.3\n",
            "episode 200 average reward 23.33872504179144, ended at 8.7\n",
            "episode 300 average reward 21.861351037693296, ended at 13.1\n",
            "episode 400 average reward 17.887514920373103, ended at 17.0\n",
            "episode 500 average reward 18.759890499892915, ended at 20.9\n",
            "episode 600 average reward 19.989279102375388, ended at 25.1\n",
            "episode 700 average reward 17.315564794758203, ended at 28.9\n",
            "episode 800 average reward 16.26121400203889, ended at 32.6\n",
            "episode 900 average reward 15.166587118194375, ended at 36.2\n",
            "episode 1000 average reward 12.614790289114257, ended at 39.3\n",
            "episode 1100 average reward 14.628381778390505, ended at 42.3\n",
            "episode 1200 average reward 12.47218887840548, ended at 45.2\n",
            "episode 1300 average reward 12.630248764814818, ended at 48.1\n",
            "episode 1400 average reward 12.11466202913179, ended at 50.9\n",
            "episode 1500 average reward 11.570788919911907, ended at 53.5\n",
            "episode 1600 average reward 11.216784082224484, ended at 56.0\n",
            "episode 1700 average reward 11.165417869809485, ended at 58.5\n",
            "episode 1800 average reward 11.229351652452628, ended at 61.1\n",
            "episode 1900 average reward 10.771540532082572, ended at 63.6\n",
            "episode 2000 average reward 10.543410992565052, ended at 66.0\n",
            "episode 2100 average reward 9.857460373682443, ended at 68.5\n",
            "episode 2200 average reward 10.769013849250928, ended at 70.9\n",
            "episode 2300 average reward 10.654071002633906, ended at 73.3\n",
            "episode 2400 average reward 10.100865914348773, ended at 75.6\n",
            "episode 2500 average reward 10.552323010067743, ended at 78.1\n",
            "episode 2600 average reward 10.128316088555483, ended at 80.6\n",
            "episode 2700 average reward 10.565290854882326, ended at 83.1\n",
            "episode 2800 average reward 10.2233909133189, ended at 85.6\n",
            "episode 2900 average reward 11.351531708977916, ended at 88.3\n",
            "episode 3000 average reward 10.595492767792686, ended at 90.8\n"
          ],
          "name": "stdout"
        },
        {
          "output_type": "display_data",
          "data": {
            "text/html": [
              "<br/>Waiting for W&B process to finish, PID 5345<br/>Program ended successfully."
            ],
            "text/plain": [
              "<IPython.core.display.HTML object>"
            ]
          },
          "metadata": {
            "tags": []
          }
        },
        {
          "output_type": "display_data",
          "data": {
            "application/vnd.jupyter.widget-view+json": {
              "model_id": "cfe12e828d9a49f1b6f5164173da5c3f",
              "version_minor": 0,
              "version_major": 2
            },
            "text/plain": [
              "VBox(children=(Label(value=' 0.51MB of 0.51MB uploaded (0.00MB deduped)\\r'), FloatProgress(value=1.0, max=1.0)…"
            ]
          },
          "metadata": {
            "tags": []
          }
        },
        {
          "output_type": "display_data",
          "data": {
            "text/html": [
              "Find user logs for this run at: <code>/content/wandb/run-20210729_060625-0sudew35/logs/debug.log</code>"
            ],
            "text/plain": [
              "<IPython.core.display.HTML object>"
            ]
          },
          "metadata": {
            "tags": []
          }
        },
        {
          "output_type": "display_data",
          "data": {
            "text/html": [
              "Find internal logs for this run at: <code>/content/wandb/run-20210729_060625-0sudew35/logs/debug-internal.log</code>"
            ],
            "text/plain": [
              "<IPython.core.display.HTML object>"
            ]
          },
          "metadata": {
            "tags": []
          }
        },
        {
          "output_type": "display_data",
          "data": {
            "text/html": [
              "<h3>Run summary:</h3><br/><style>\n",
              "    table.wandb td:nth-child(1) { padding: 0 10px; text-align: right }\n",
              "    </style><table class=\"wandb\">\n",
              "<tr><td>episode</td><td>3000</td></tr><tr><td>running_score</td><td>10.59549</td></tr><tr><td>_runtime</td><td>93</td></tr><tr><td>_timestamp</td><td>1627538878</td></tr><tr><td>_step</td><td>2999</td></tr></table>"
            ],
            "text/plain": [
              "<IPython.core.display.HTML object>"
            ]
          },
          "metadata": {
            "tags": []
          }
        },
        {
          "output_type": "display_data",
          "data": {
            "text/html": [
              "<h3>Run history:</h3><br/><style>\n",
              "    table.wandb td:nth-child(1) { padding: 0 10px; text-align: right }\n",
              "    </style><table class=\"wandb\">\n",
              "<tr><td>episode</td><td>▁▁▁▂▂▂▂▂▂▃▃▃▃▃▄▄▄▄▄▄▅▅▅▅▅▅▆▆▆▆▆▇▇▇▇▇▇███</td></tr><tr><td>running_score</td><td>▇█▇▇▇▆▇▇▆▆▆▅▅▃▃▄▃▂▂▂▃▂▂▂▂▂▂▂▂▂▁▁▁▂▁▂▁▁▁▁</td></tr><tr><td>_runtime</td><td>▁▁▁▂▂▂▂▃▃▃▃▄▄▄▄▄▄▅▅▅▅▅▅▆▆▆▆▆▆▆▇▇▇▇▇▇▇███</td></tr><tr><td>_timestamp</td><td>▁▁▁▂▂▂▂▃▃▃▃▄▄▄▄▄▄▅▅▅▅▅▅▆▆▆▆▆▆▆▇▇▇▇▇▇▇███</td></tr><tr><td>_step</td><td>▁▁▁▂▂▂▂▂▂▃▃▃▃▃▄▄▄▄▄▄▅▅▅▅▅▅▆▆▆▆▆▇▇▇▇▇▇███</td></tr></table><br/>"
            ],
            "text/plain": [
              "<IPython.core.display.HTML object>"
            ]
          },
          "metadata": {
            "tags": []
          }
        },
        {
          "output_type": "display_data",
          "data": {
            "text/html": [
              "Synced 5 W&B file(s), 0 media file(s), 2 artifact file(s) and 9 other file(s)"
            ],
            "text/plain": [
              "<IPython.core.display.HTML object>"
            ]
          },
          "metadata": {
            "tags": []
          }
        },
        {
          "output_type": "display_data",
          "data": {
            "text/html": [
              "\n",
              "                    <br/>Synced <strong style=\"color:#cdcd00\">zany-sweep-26</strong>: <a href=\"https://wandb.ai/ko120/Advantage_Actor_Critic/runs/0sudew35\" target=\"_blank\">https://wandb.ai/ko120/Advantage_Actor_Critic/runs/0sudew35</a><br/>\n",
              "                "
            ],
            "text/plain": [
              "<IPython.core.display.HTML object>"
            ]
          },
          "metadata": {
            "tags": []
          }
        },
        {
          "output_type": "stream",
          "text": [
            "\u001b[34m\u001b[1mwandb\u001b[0m: Agent Starting Run: zhkdggqy with config:\n",
            "\u001b[34m\u001b[1mwandb\u001b[0m: \tactor_learning_rate: 0.0001\n",
            "\u001b[34m\u001b[1mwandb\u001b[0m: \tcritic_learning_rate: 0.0003\n",
            "\u001b[34m\u001b[1mwandb\u001b[0m: \tlearning: learn_mean\n",
            "\u001b[34m\u001b[1mwandb\u001b[0m: \tnum_neurons: 128\n",
            "\u001b[34m\u001b[1mwandb\u001b[0m: \toptimizer: RMSprop\n",
            "\u001b[34m\u001b[1mwandb\u001b[0m: \u001b[33mWARNING\u001b[0m Ignored wandb.init() arg project when running a sweep\n"
          ],
          "name": "stderr"
        },
        {
          "output_type": "display_data",
          "data": {
            "text/html": [
              "\n",
              "                Tracking run with wandb version 0.11.0<br/>\n",
              "                Syncing run <strong style=\"color:#cdcd00\">fiery-sweep-27</strong> to <a href=\"https://wandb.ai\" target=\"_blank\">Weights & Biases</a> <a href=\"https://docs.wandb.com/integrations/jupyter.html\" target=\"_blank\">(Documentation)</a>.<br/>\n",
              "                Project page: <a href=\"https://wandb.ai/ko120/Advantage_Actor_Critic\" target=\"_blank\">https://wandb.ai/ko120/Advantage_Actor_Critic</a><br/>\n",
              "                Sweep page: <a href=\"https://wandb.ai/ko120/Advantage_Actor_Critic/sweeps/t9gia22t\" target=\"_blank\">https://wandb.ai/ko120/Advantage_Actor_Critic/sweeps/t9gia22t</a><br/>\n",
              "Run page: <a href=\"https://wandb.ai/ko120/Advantage_Actor_Critic/runs/zhkdggqy\" target=\"_blank\">https://wandb.ai/ko120/Advantage_Actor_Critic/runs/zhkdggqy</a><br/>\n",
              "                Run data is saved locally in <code>/content/wandb/run-20210729_060804-zhkdggqy</code><br/><br/>\n",
              "            "
            ],
            "text/plain": [
              "<IPython.core.display.HTML object>"
            ]
          },
          "metadata": {
            "tags": []
          }
        },
        {
          "output_type": "stream",
          "text": [
            "episode 100 average reward 20.517006783397946, ended at 4.1\n",
            "episode 200 average reward 18.164346968872106, ended at 7.8\n",
            "episode 300 average reward 17.361260559934795, ended at 11.5\n",
            "episode 400 average reward 16.226652935997492, ended at 14.8\n",
            "episode 500 average reward 17.350287269952357, ended at 18.3\n",
            "episode 600 average reward 15.213713524415684, ended at 21.6\n",
            "episode 700 average reward 14.34676895422499, ended at 24.5\n",
            "episode 800 average reward 14.796248356448734, ended at 27.6\n",
            "episode 900 average reward 14.059698364874244, ended at 30.6\n",
            "episode 1000 average reward 15.285587327537748, ended at 33.6\n",
            "episode 1100 average reward 15.251454487691154, ended at 36.9\n",
            "episode 1200 average reward 15.856791106447279, ended at 40.3\n",
            "episode 1300 average reward 17.841435658562148, ended at 43.9\n",
            "episode 1400 average reward 17.84899287527099, ended at 47.7\n",
            "episode 1500 average reward 17.863438538331017, ended at 51.8\n",
            "episode 1600 average reward 24.54548030022953, ended at 56.5\n",
            "episode 1700 average reward 25.993661521925965, ended at 61.2\n",
            "episode 1800 average reward 25.308576887889643, ended at 66.3\n",
            "episode 1900 average reward 32.759177920094565, ended at 72.4\n",
            "episode 2000 average reward 29.255105888002312, ended at 78.7\n",
            "episode 2100 average reward 34.97602184857538, ended at 85.1\n",
            "episode 2200 average reward 33.56975064230612, ended at 91.4\n",
            "episode 2300 average reward 35.73565294932116, ended at 98.5\n",
            "episode 2400 average reward 37.246018888879156, ended at 106.3\n",
            "episode 2500 average reward 45.001610634224846, ended at 115.1\n",
            "episode 2600 average reward 45.90722187624428, ended at 124.6\n",
            "episode 2700 average reward 48.984453905341226, ended at 134.3\n",
            "episode 2800 average reward 49.77404976539313, ended at 144.0\n",
            "episode 2900 average reward 51.10798672308649, ended at 153.6\n",
            "episode 3000 average reward 51.19263438168676, ended at 164.0\n"
          ],
          "name": "stdout"
        },
        {
          "output_type": "display_data",
          "data": {
            "text/html": [
              "<br/>Waiting for W&B process to finish, PID 5410<br/>Program ended successfully."
            ],
            "text/plain": [
              "<IPython.core.display.HTML object>"
            ]
          },
          "metadata": {
            "tags": []
          }
        },
        {
          "output_type": "display_data",
          "data": {
            "application/vnd.jupyter.widget-view+json": {
              "model_id": "716dce3e643a435cb91055c1917c8dfd",
              "version_minor": 0,
              "version_major": 2
            },
            "text/plain": [
              "VBox(children=(Label(value=' 0.52MB of 0.52MB uploaded (0.00MB deduped)\\r'), FloatProgress(value=1.0, max=1.0)…"
            ]
          },
          "metadata": {
            "tags": []
          }
        },
        {
          "output_type": "display_data",
          "data": {
            "text/html": [
              "Find user logs for this run at: <code>/content/wandb/run-20210729_060804-zhkdggqy/logs/debug.log</code>"
            ],
            "text/plain": [
              "<IPython.core.display.HTML object>"
            ]
          },
          "metadata": {
            "tags": []
          }
        },
        {
          "output_type": "display_data",
          "data": {
            "text/html": [
              "Find internal logs for this run at: <code>/content/wandb/run-20210729_060804-zhkdggqy/logs/debug-internal.log</code>"
            ],
            "text/plain": [
              "<IPython.core.display.HTML object>"
            ]
          },
          "metadata": {
            "tags": []
          }
        },
        {
          "output_type": "display_data",
          "data": {
            "text/html": [
              "<h3>Run summary:</h3><br/><style>\n",
              "    table.wandb td:nth-child(1) { padding: 0 10px; text-align: right }\n",
              "    </style><table class=\"wandb\">\n",
              "<tr><td>episode</td><td>3000</td></tr><tr><td>running_score</td><td>51.19263</td></tr><tr><td>_runtime</td><td>167</td></tr><tr><td>_timestamp</td><td>1627539051</td></tr><tr><td>_step</td><td>2999</td></tr></table>"
            ],
            "text/plain": [
              "<IPython.core.display.HTML object>"
            ]
          },
          "metadata": {
            "tags": []
          }
        },
        {
          "output_type": "display_data",
          "data": {
            "text/html": [
              "<h3>Run history:</h3><br/><style>\n",
              "    table.wandb td:nth-child(1) { padding: 0 10px; text-align: right }\n",
              "    </style><table class=\"wandb\">\n",
              "<tr><td>episode</td><td>▁▁▁▂▂▂▂▂▂▃▃▃▃▃▄▄▄▄▄▄▅▅▅▅▅▅▆▆▆▆▆▇▇▇▇▇▇███</td></tr><tr><td>running_score</td><td>▂▂▂▂▂▂▂▂▁▁▁▁▁▁▁▁▂▁▂▂▂▃▂▃▃▅▅▄▄▆▅▇█▇▇▇▇███</td></tr><tr><td>_runtime</td><td>▁▁▁▁▁▂▂▂▂▂▂▂▂▂▃▃▃▃▃▃▃▃▄▄▄▄▄▅▅▅▅▆▆▆▆▇▇▇██</td></tr><tr><td>_timestamp</td><td>▁▁▁▁▁▂▂▂▂▂▂▂▂▂▃▃▃▃▃▃▃▃▄▄▄▄▄▅▅▅▅▆▆▆▆▇▇▇██</td></tr><tr><td>_step</td><td>▁▁▁▂▂▂▂▂▂▃▃▃▃▃▄▄▄▄▄▄▅▅▅▅▅▅▆▆▆▆▆▇▇▇▇▇▇███</td></tr></table><br/>"
            ],
            "text/plain": [
              "<IPython.core.display.HTML object>"
            ]
          },
          "metadata": {
            "tags": []
          }
        },
        {
          "output_type": "display_data",
          "data": {
            "text/html": [
              "Synced 5 W&B file(s), 0 media file(s), 2 artifact file(s) and 9 other file(s)"
            ],
            "text/plain": [
              "<IPython.core.display.HTML object>"
            ]
          },
          "metadata": {
            "tags": []
          }
        },
        {
          "output_type": "display_data",
          "data": {
            "text/html": [
              "\n",
              "                    <br/>Synced <strong style=\"color:#cdcd00\">fiery-sweep-27</strong>: <a href=\"https://wandb.ai/ko120/Advantage_Actor_Critic/runs/zhkdggqy\" target=\"_blank\">https://wandb.ai/ko120/Advantage_Actor_Critic/runs/zhkdggqy</a><br/>\n",
              "                "
            ],
            "text/plain": [
              "<IPython.core.display.HTML object>"
            ]
          },
          "metadata": {
            "tags": []
          }
        },
        {
          "output_type": "stream",
          "text": [
            "\u001b[34m\u001b[1mwandb\u001b[0m: Agent Starting Run: n2r6ps81 with config:\n",
            "\u001b[34m\u001b[1mwandb\u001b[0m: \tactor_learning_rate: 0.0001\n",
            "\u001b[34m\u001b[1mwandb\u001b[0m: \tcritic_learning_rate: 0.0003\n",
            "\u001b[34m\u001b[1mwandb\u001b[0m: \tlearning: learn_mean\n",
            "\u001b[34m\u001b[1mwandb\u001b[0m: \tnum_neurons: 128\n",
            "\u001b[34m\u001b[1mwandb\u001b[0m: \toptimizer: Adam\n",
            "\u001b[34m\u001b[1mwandb\u001b[0m: \u001b[33mWARNING\u001b[0m Ignored wandb.init() arg project when running a sweep\n"
          ],
          "name": "stderr"
        },
        {
          "output_type": "display_data",
          "data": {
            "text/html": [
              "\n",
              "                Tracking run with wandb version 0.11.0<br/>\n",
              "                Syncing run <strong style=\"color:#cdcd00\">prime-sweep-28</strong> to <a href=\"https://wandb.ai\" target=\"_blank\">Weights & Biases</a> <a href=\"https://docs.wandb.com/integrations/jupyter.html\" target=\"_blank\">(Documentation)</a>.<br/>\n",
              "                Project page: <a href=\"https://wandb.ai/ko120/Advantage_Actor_Critic\" target=\"_blank\">https://wandb.ai/ko120/Advantage_Actor_Critic</a><br/>\n",
              "                Sweep page: <a href=\"https://wandb.ai/ko120/Advantage_Actor_Critic/sweeps/t9gia22t\" target=\"_blank\">https://wandb.ai/ko120/Advantage_Actor_Critic/sweeps/t9gia22t</a><br/>\n",
              "Run page: <a href=\"https://wandb.ai/ko120/Advantage_Actor_Critic/runs/n2r6ps81\" target=\"_blank\">https://wandb.ai/ko120/Advantage_Actor_Critic/runs/n2r6ps81</a><br/>\n",
              "                Run data is saved locally in <code>/content/wandb/run-20210729_061057-n2r6ps81</code><br/><br/>\n",
              "            "
            ],
            "text/plain": [
              "<IPython.core.display.HTML object>"
            ]
          },
          "metadata": {
            "tags": []
          }
        },
        {
          "output_type": "stream",
          "text": [
            "episode 100 average reward 20.319270305983324, ended at 3.9\n",
            "episode 200 average reward 16.905148131659477, ended at 7.9\n",
            "episode 300 average reward 19.2921635162932, ended at 12.4\n",
            "episode 400 average reward 17.339865085846835, ended at 16.1\n",
            "episode 500 average reward 14.958410882651654, ended at 19.8\n",
            "episode 600 average reward 14.318916813012677, ended at 23.2\n",
            "episode 700 average reward 13.438937880564687, ended at 26.5\n",
            "episode 800 average reward 14.186601139667982, ended at 29.7\n",
            "episode 900 average reward 12.43772416807405, ended at 32.6\n",
            "episode 1000 average reward 12.687361907584474, ended at 35.4\n",
            "episode 1100 average reward 14.209598051558254, ended at 38.6\n",
            "episode 1200 average reward 13.435360810609806, ended at 41.5\n",
            "episode 1300 average reward 13.590310363103923, ended at 44.5\n",
            "episode 1400 average reward 15.078528463514955, ended at 47.7\n",
            "episode 1500 average reward 17.05270446037111, ended at 51.2\n",
            "episode 1600 average reward 21.249106841882018, ended at 55.2\n",
            "episode 1700 average reward 24.958405188415025, ended at 59.9\n",
            "episode 1800 average reward 29.880310494269562, ended at 65.7\n",
            "episode 1900 average reward 37.748544895468285, ended at 73.2\n",
            "episode 2000 average reward 38.2743572893757, ended at 81.1\n",
            "episode 2100 average reward 48.73996553401946, ended at 90.8\n",
            "episode 2200 average reward 45.03321213782264, ended at 100.2\n",
            "episode 2300 average reward 52.22956933161635, ended at 110.6\n",
            "episode 2400 average reward 57.43295212430562, ended at 121.7\n",
            "episode 2500 average reward 49.38461383088399, ended at 132.5\n",
            "episode 2600 average reward 58.790293911573336, ended at 143.7\n",
            "episode 2700 average reward 70.36811258087143, ended at 156.6\n",
            "episode 2800 average reward 62.65360085333722, ended at 169.0\n",
            "episode 2900 average reward 68.01659136386378, ended at 182.9\n",
            "episode 3000 average reward 78.48315862763879, ended at 198.1\n"
          ],
          "name": "stdout"
        },
        {
          "output_type": "display_data",
          "data": {
            "text/html": [
              "<br/>Waiting for W&B process to finish, PID 5493<br/>Program ended successfully."
            ],
            "text/plain": [
              "<IPython.core.display.HTML object>"
            ]
          },
          "metadata": {
            "tags": []
          }
        },
        {
          "output_type": "display_data",
          "data": {
            "application/vnd.jupyter.widget-view+json": {
              "model_id": "85bd6b55673a44669913db9e652cc6ba",
              "version_minor": 0,
              "version_major": 2
            },
            "text/plain": [
              "VBox(children=(Label(value=' 0.54MB of 0.54MB uploaded (0.00MB deduped)\\r'), FloatProgress(value=1.0, max=1.0)…"
            ]
          },
          "metadata": {
            "tags": []
          }
        },
        {
          "output_type": "display_data",
          "data": {
            "text/html": [
              "Find user logs for this run at: <code>/content/wandb/run-20210729_061057-n2r6ps81/logs/debug.log</code>"
            ],
            "text/plain": [
              "<IPython.core.display.HTML object>"
            ]
          },
          "metadata": {
            "tags": []
          }
        },
        {
          "output_type": "display_data",
          "data": {
            "text/html": [
              "Find internal logs for this run at: <code>/content/wandb/run-20210729_061057-n2r6ps81/logs/debug-internal.log</code>"
            ],
            "text/plain": [
              "<IPython.core.display.HTML object>"
            ]
          },
          "metadata": {
            "tags": []
          }
        },
        {
          "output_type": "display_data",
          "data": {
            "text/html": [
              "<h3>Run summary:</h3><br/><style>\n",
              "    table.wandb td:nth-child(1) { padding: 0 10px; text-align: right }\n",
              "    </style><table class=\"wandb\">\n",
              "<tr><td>episode</td><td>3000</td></tr><tr><td>running_score</td><td>78.48316</td></tr><tr><td>_runtime</td><td>201</td></tr><tr><td>_timestamp</td><td>1627539258</td></tr><tr><td>_step</td><td>2999</td></tr></table>"
            ],
            "text/plain": [
              "<IPython.core.display.HTML object>"
            ]
          },
          "metadata": {
            "tags": []
          }
        },
        {
          "output_type": "display_data",
          "data": {
            "text/html": [
              "<h3>Run history:</h3><br/><style>\n",
              "    table.wandb td:nth-child(1) { padding: 0 10px; text-align: right }\n",
              "    </style><table class=\"wandb\">\n",
              "<tr><td>episode</td><td>▁▁▁▂▂▂▂▂▂▃▃▃▃▃▄▄▄▄▄▄▅▅▅▅▅▅▆▆▆▆▆▇▇▇▇▇▇███</td></tr><tr><td>running_score</td><td>▂▂▂▂▂▁▁▁▁▁▁▁▁▁▁▁▁▁▁▁▂▂▂▃▄▅▄▅▆▅▆▆▆▅▆█████</td></tr><tr><td>_runtime</td><td>▁▁▁▁▁▂▂▂▂▂▂▂▂▂▂▂▂▃▃▃▃▃▃▃▃▄▄▄▄▅▅▅▅▆▆▆▇▇▇█</td></tr><tr><td>_timestamp</td><td>▁▁▁▁▁▂▂▂▂▂▂▂▂▂▂▂▂▃▃▃▃▃▃▃▃▄▄▄▄▅▅▅▅▆▆▆▇▇▇█</td></tr><tr><td>_step</td><td>▁▁▁▂▂▂▂▂▂▃▃▃▃▃▄▄▄▄▄▄▅▅▅▅▅▅▆▆▆▆▆▇▇▇▇▇▇███</td></tr></table><br/>"
            ],
            "text/plain": [
              "<IPython.core.display.HTML object>"
            ]
          },
          "metadata": {
            "tags": []
          }
        },
        {
          "output_type": "display_data",
          "data": {
            "text/html": [
              "Synced 5 W&B file(s), 0 media file(s), 2 artifact file(s) and 9 other file(s)"
            ],
            "text/plain": [
              "<IPython.core.display.HTML object>"
            ]
          },
          "metadata": {
            "tags": []
          }
        },
        {
          "output_type": "display_data",
          "data": {
            "text/html": [
              "\n",
              "                    <br/>Synced <strong style=\"color:#cdcd00\">prime-sweep-28</strong>: <a href=\"https://wandb.ai/ko120/Advantage_Actor_Critic/runs/n2r6ps81\" target=\"_blank\">https://wandb.ai/ko120/Advantage_Actor_Critic/runs/n2r6ps81</a><br/>\n",
              "                "
            ],
            "text/plain": [
              "<IPython.core.display.HTML object>"
            ]
          },
          "metadata": {
            "tags": []
          }
        },
        {
          "output_type": "stream",
          "text": [
            "\u001b[34m\u001b[1mwandb\u001b[0m: Agent Starting Run: cnahpu9o with config:\n",
            "\u001b[34m\u001b[1mwandb\u001b[0m: \tactor_learning_rate: 0.0001\n",
            "\u001b[34m\u001b[1mwandb\u001b[0m: \tcritic_learning_rate: 1e-05\n",
            "\u001b[34m\u001b[1mwandb\u001b[0m: \tlearning: learn_mean\n",
            "\u001b[34m\u001b[1mwandb\u001b[0m: \tnum_neurons: 128\n",
            "\u001b[34m\u001b[1mwandb\u001b[0m: \toptimizer: RMSprop\n",
            "\u001b[34m\u001b[1mwandb\u001b[0m: \u001b[33mWARNING\u001b[0m Ignored wandb.init() arg project when running a sweep\n"
          ],
          "name": "stderr"
        },
        {
          "output_type": "display_data",
          "data": {
            "text/html": [
              "\n",
              "                Tracking run with wandb version 0.11.0<br/>\n",
              "                Syncing run <strong style=\"color:#cdcd00\">wild-sweep-29</strong> to <a href=\"https://wandb.ai\" target=\"_blank\">Weights & Biases</a> <a href=\"https://docs.wandb.com/integrations/jupyter.html\" target=\"_blank\">(Documentation)</a>.<br/>\n",
              "                Project page: <a href=\"https://wandb.ai/ko120/Advantage_Actor_Critic\" target=\"_blank\">https://wandb.ai/ko120/Advantage_Actor_Critic</a><br/>\n",
              "                Sweep page: <a href=\"https://wandb.ai/ko120/Advantage_Actor_Critic/sweeps/t9gia22t\" target=\"_blank\">https://wandb.ai/ko120/Advantage_Actor_Critic/sweeps/t9gia22t</a><br/>\n",
              "Run page: <a href=\"https://wandb.ai/ko120/Advantage_Actor_Critic/runs/cnahpu9o\" target=\"_blank\">https://wandb.ai/ko120/Advantage_Actor_Critic/runs/cnahpu9o</a><br/>\n",
              "                Run data is saved locally in <code>/content/wandb/run-20210729_061424-cnahpu9o</code><br/><br/>\n",
              "            "
            ],
            "text/plain": [
              "<IPython.core.display.HTML object>"
            ]
          },
          "metadata": {
            "tags": []
          }
        },
        {
          "output_type": "stream",
          "text": [
            "episode 100 average reward 21.486966001691464, ended at 3.9\n",
            "episode 200 average reward 18.04597449704868, ended at 7.7\n",
            "episode 300 average reward 20.591665280503037, ended at 11.8\n",
            "episode 400 average reward 20.677941901660038, ended at 16.0\n",
            "episode 500 average reward 20.495105601211637, ended at 20.0\n",
            "episode 600 average reward 19.268213854067984, ended at 24.1\n",
            "episode 700 average reward 20.140091790769304, ended at 28.0\n",
            "episode 800 average reward 19.931083770114867, ended at 32.0\n",
            "episode 900 average reward 17.561463015675272, ended at 35.9\n",
            "episode 1000 average reward 15.463835081026126, ended at 39.5\n",
            "episode 1100 average reward 17.533493907843187, ended at 43.4\n",
            "episode 1200 average reward 13.252711759035256, ended at 46.8\n",
            "episode 1300 average reward 14.211859632215935, ended at 50.1\n",
            "episode 1400 average reward 15.405686530920498, ended at 53.4\n",
            "episode 1500 average reward 12.976161633277473, ended at 56.4\n",
            "episode 1600 average reward 12.64114994406764, ended at 59.2\n",
            "episode 1700 average reward 13.247687534386843, ended at 62.2\n",
            "episode 1800 average reward 13.653954837865573, ended at 65.0\n",
            "episode 1900 average reward 13.303658062390179, ended at 67.9\n",
            "episode 2000 average reward 11.549635527923119, ended at 70.5\n",
            "episode 2100 average reward 11.517622553280725, ended at 73.1\n",
            "episode 2200 average reward 11.319865859748834, ended at 75.7\n",
            "episode 2300 average reward 10.662656183636114, ended at 78.1\n",
            "episode 2400 average reward 10.949081530936336, ended at 80.6\n",
            "episode 2500 average reward 10.488494428646888, ended at 83.1\n",
            "episode 2600 average reward 10.51950730407929, ended at 85.5\n",
            "episode 2700 average reward 10.70830292762693, ended at 87.9\n",
            "episode 2800 average reward 9.871216173259599, ended at 90.1\n",
            "episode 2900 average reward 10.918842480581894, ended at 92.5\n",
            "episode 3000 average reward 10.684677144216833, ended at 94.9\n"
          ],
          "name": "stdout"
        },
        {
          "output_type": "display_data",
          "data": {
            "text/html": [
              "<br/>Waiting for W&B process to finish, PID 5580<br/>Program ended successfully."
            ],
            "text/plain": [
              "<IPython.core.display.HTML object>"
            ]
          },
          "metadata": {
            "tags": []
          }
        },
        {
          "output_type": "display_data",
          "data": {
            "application/vnd.jupyter.widget-view+json": {
              "model_id": "bcf881bb93bd4d998a010dafd899840b",
              "version_minor": 0,
              "version_major": 2
            },
            "text/plain": [
              "VBox(children=(Label(value=' 0.55MB of 0.55MB uploaded (0.00MB deduped)\\r'), FloatProgress(value=1.0, max=1.0)…"
            ]
          },
          "metadata": {
            "tags": []
          }
        },
        {
          "output_type": "display_data",
          "data": {
            "text/html": [
              "Find user logs for this run at: <code>/content/wandb/run-20210729_061424-cnahpu9o/logs/debug.log</code>"
            ],
            "text/plain": [
              "<IPython.core.display.HTML object>"
            ]
          },
          "metadata": {
            "tags": []
          }
        },
        {
          "output_type": "display_data",
          "data": {
            "text/html": [
              "Find internal logs for this run at: <code>/content/wandb/run-20210729_061424-cnahpu9o/logs/debug-internal.log</code>"
            ],
            "text/plain": [
              "<IPython.core.display.HTML object>"
            ]
          },
          "metadata": {
            "tags": []
          }
        },
        {
          "output_type": "display_data",
          "data": {
            "text/html": [
              "<h3>Run summary:</h3><br/><style>\n",
              "    table.wandb td:nth-child(1) { padding: 0 10px; text-align: right }\n",
              "    </style><table class=\"wandb\">\n",
              "<tr><td>episode</td><td>3000</td></tr><tr><td>running_score</td><td>10.68468</td></tr><tr><td>_runtime</td><td>97</td></tr><tr><td>_timestamp</td><td>1627539361</td></tr><tr><td>_step</td><td>2999</td></tr></table>"
            ],
            "text/plain": [
              "<IPython.core.display.HTML object>"
            ]
          },
          "metadata": {
            "tags": []
          }
        },
        {
          "output_type": "display_data",
          "data": {
            "text/html": [
              "<h3>Run history:</h3><br/><style>\n",
              "    table.wandb td:nth-child(1) { padding: 0 10px; text-align: right }\n",
              "    </style><table class=\"wandb\">\n",
              "<tr><td>episode</td><td>▁▁▁▂▂▂▂▂▂▃▃▃▃▃▄▄▄▄▄▄▅▅▅▅▅▅▆▆▆▆▆▇▇▇▇▇▇███</td></tr><tr><td>running_score</td><td>▆▇▆▇▅█▆▇▆▆▆▅▅▄▅▄▃▄▄▄▃▃▃▂▃▃▂▂▂▂▁▂▂▁▂▂▁▁▂▁</td></tr><tr><td>_runtime</td><td>▁▁▁▂▂▂▂▃▃▃▃▃▄▄▄▄▄▅▅▅▅▅▆▆▆▆▆▆▆▇▇▇▇▇▇▇████</td></tr><tr><td>_timestamp</td><td>▁▁▁▂▂▂▂▃▃▃▃▃▄▄▄▄▄▅▅▅▅▅▆▆▆▆▆▆▆▇▇▇▇▇▇▇████</td></tr><tr><td>_step</td><td>▁▁▁▂▂▂▂▂▂▃▃▃▃▃▄▄▄▄▄▄▅▅▅▅▅▅▆▆▆▆▆▇▇▇▇▇▇███</td></tr></table><br/>"
            ],
            "text/plain": [
              "<IPython.core.display.HTML object>"
            ]
          },
          "metadata": {
            "tags": []
          }
        },
        {
          "output_type": "display_data",
          "data": {
            "text/html": [
              "Synced 5 W&B file(s), 0 media file(s), 2 artifact file(s) and 9 other file(s)"
            ],
            "text/plain": [
              "<IPython.core.display.HTML object>"
            ]
          },
          "metadata": {
            "tags": []
          }
        },
        {
          "output_type": "display_data",
          "data": {
            "text/html": [
              "\n",
              "                    <br/>Synced <strong style=\"color:#cdcd00\">wild-sweep-29</strong>: <a href=\"https://wandb.ai/ko120/Advantage_Actor_Critic/runs/cnahpu9o\" target=\"_blank\">https://wandb.ai/ko120/Advantage_Actor_Critic/runs/cnahpu9o</a><br/>\n",
              "                "
            ],
            "text/plain": [
              "<IPython.core.display.HTML object>"
            ]
          },
          "metadata": {
            "tags": []
          }
        },
        {
          "output_type": "stream",
          "text": [
            "\u001b[34m\u001b[1mwandb\u001b[0m: Agent Starting Run: 75kgikfu with config:\n",
            "\u001b[34m\u001b[1mwandb\u001b[0m: \tactor_learning_rate: 0.0001\n",
            "\u001b[34m\u001b[1mwandb\u001b[0m: \tcritic_learning_rate: 1e-05\n",
            "\u001b[34m\u001b[1mwandb\u001b[0m: \tlearning: learn_mean\n",
            "\u001b[34m\u001b[1mwandb\u001b[0m: \tnum_neurons: 128\n",
            "\u001b[34m\u001b[1mwandb\u001b[0m: \toptimizer: Adam\n",
            "\u001b[34m\u001b[1mwandb\u001b[0m: \u001b[33mWARNING\u001b[0m Ignored wandb.init() arg project when running a sweep\n"
          ],
          "name": "stderr"
        },
        {
          "output_type": "display_data",
          "data": {
            "text/html": [
              "\n",
              "                Tracking run with wandb version 0.11.0<br/>\n",
              "                Syncing run <strong style=\"color:#cdcd00\">tough-sweep-30</strong> to <a href=\"https://wandb.ai\" target=\"_blank\">Weights & Biases</a> <a href=\"https://docs.wandb.com/integrations/jupyter.html\" target=\"_blank\">(Documentation)</a>.<br/>\n",
              "                Project page: <a href=\"https://wandb.ai/ko120/Advantage_Actor_Critic\" target=\"_blank\">https://wandb.ai/ko120/Advantage_Actor_Critic</a><br/>\n",
              "                Sweep page: <a href=\"https://wandb.ai/ko120/Advantage_Actor_Critic/sweeps/t9gia22t\" target=\"_blank\">https://wandb.ai/ko120/Advantage_Actor_Critic/sweeps/t9gia22t</a><br/>\n",
              "Run page: <a href=\"https://wandb.ai/ko120/Advantage_Actor_Critic/runs/75kgikfu\" target=\"_blank\">https://wandb.ai/ko120/Advantage_Actor_Critic/runs/75kgikfu</a><br/>\n",
              "                Run data is saved locally in <code>/content/wandb/run-20210729_061607-75kgikfu</code><br/><br/>\n",
              "            "
            ],
            "text/plain": [
              "<IPython.core.display.HTML object>"
            ]
          },
          "metadata": {
            "tags": []
          }
        },
        {
          "output_type": "stream",
          "text": [
            "episode 100 average reward 23.051224014743116, ended at 4.4\n",
            "episode 200 average reward 21.263334020315085, ended at 9.1\n",
            "episode 300 average reward 22.712687521202962, ended at 13.8\n",
            "episode 400 average reward 20.291792448596556, ended at 18.5\n",
            "episode 500 average reward 21.132372118708727, ended at 23.0\n",
            "episode 600 average reward 22.79822227616106, ended at 27.1\n",
            "episode 700 average reward 19.956620482705674, ended at 31.3\n",
            "episode 800 average reward 20.328737374604014, ended at 35.4\n",
            "episode 900 average reward 18.7321414651388, ended at 39.1\n",
            "episode 1000 average reward 14.813651897844721, ended at 42.3\n",
            "episode 1100 average reward 16.43058723680688, ended at 45.9\n",
            "episode 1200 average reward 13.660691646992193, ended at 49.0\n",
            "episode 1300 average reward 13.61767339694182, ended at 52.1\n",
            "episode 1400 average reward 14.940149532529682, ended at 55.3\n",
            "episode 1500 average reward 12.60859407793336, ended at 58.4\n",
            "episode 1600 average reward 13.045953031433971, ended at 61.5\n",
            "episode 1700 average reward 12.482797440431492, ended at 64.5\n",
            "episode 1800 average reward 13.26031999689985, ended at 67.6\n",
            "episode 1900 average reward 13.110414665449001, ended at 70.6\n",
            "episode 2000 average reward 11.614103800984251, ended at 73.4\n",
            "episode 2100 average reward 11.080968916130523, ended at 76.2\n",
            "episode 2200 average reward 11.03106955832569, ended at 78.9\n",
            "episode 2300 average reward 10.900289561231656, ended at 81.5\n",
            "episode 2400 average reward 11.295221384852315, ended at 84.1\n",
            "episode 2500 average reward 11.260131002306988, ended at 86.6\n",
            "episode 2600 average reward 11.112310745218226, ended at 89.0\n",
            "episode 2700 average reward 10.276767393105468, ended at 91.4\n",
            "episode 2800 average reward 10.547666600776786, ended at 94.0\n",
            "episode 2900 average reward 11.793019547776225, ended at 96.7\n",
            "episode 3000 average reward 10.25861680283315, ended at 99.2\n"
          ],
          "name": "stdout"
        },
        {
          "output_type": "display_data",
          "data": {
            "text/html": [
              "<br/>Waiting for W&B process to finish, PID 5647<br/>Program ended successfully."
            ],
            "text/plain": [
              "<IPython.core.display.HTML object>"
            ]
          },
          "metadata": {
            "tags": []
          }
        },
        {
          "output_type": "display_data",
          "data": {
            "application/vnd.jupyter.widget-view+json": {
              "model_id": "93281d8a48fd479388e041d8446c025a",
              "version_minor": 0,
              "version_major": 2
            },
            "text/plain": [
              "VBox(children=(Label(value=' 0.56MB of 0.56MB uploaded (0.00MB deduped)\\r'), FloatProgress(value=1.0, max=1.0)…"
            ]
          },
          "metadata": {
            "tags": []
          }
        },
        {
          "output_type": "display_data",
          "data": {
            "text/html": [
              "Find user logs for this run at: <code>/content/wandb/run-20210729_061607-75kgikfu/logs/debug.log</code>"
            ],
            "text/plain": [
              "<IPython.core.display.HTML object>"
            ]
          },
          "metadata": {
            "tags": []
          }
        },
        {
          "output_type": "display_data",
          "data": {
            "text/html": [
              "Find internal logs for this run at: <code>/content/wandb/run-20210729_061607-75kgikfu/logs/debug-internal.log</code>"
            ],
            "text/plain": [
              "<IPython.core.display.HTML object>"
            ]
          },
          "metadata": {
            "tags": []
          }
        },
        {
          "output_type": "display_data",
          "data": {
            "text/html": [
              "<h3>Run summary:</h3><br/><style>\n",
              "    table.wandb td:nth-child(1) { padding: 0 10px; text-align: right }\n",
              "    </style><table class=\"wandb\">\n",
              "<tr><td>episode</td><td>3000</td></tr><tr><td>running_score</td><td>10.25862</td></tr><tr><td>_runtime</td><td>102</td></tr><tr><td>_timestamp</td><td>1627539469</td></tr><tr><td>_step</td><td>2999</td></tr></table>"
            ],
            "text/plain": [
              "<IPython.core.display.HTML object>"
            ]
          },
          "metadata": {
            "tags": []
          }
        },
        {
          "output_type": "display_data",
          "data": {
            "text/html": [
              "<h3>Run history:</h3><br/><style>\n",
              "    table.wandb td:nth-child(1) { padding: 0 10px; text-align: right }\n",
              "    </style><table class=\"wandb\">\n",
              "<tr><td>episode</td><td>▁▁▁▂▂▂▂▂▂▃▃▃▃▃▄▄▄▄▄▄▅▅▅▅▅▅▆▆▆▆▆▇▇▇▇▇▇███</td></tr><tr><td>running_score</td><td>▆▇▅▇█▅▇▅▇▅▅▄▄▃▄▃▃▄▃▃▂▂▂▂▂▂▂▂▂▁▂▂▂▂▁▁▁▂▂▁</td></tr><tr><td>_runtime</td><td>▁▁▁▂▂▂▃▃▃▃▃▄▄▄▄▄▄▅▅▅▅▅▅▆▆▆▆▆▆▇▇▇▇▇▇▇████</td></tr><tr><td>_timestamp</td><td>▁▁▁▂▂▂▃▃▃▃▃▄▄▄▄▄▄▅▅▅▅▅▅▆▆▆▆▆▆▇▇▇▇▇▇▇████</td></tr><tr><td>_step</td><td>▁▁▁▂▂▂▂▂▂▃▃▃▃▃▄▄▄▄▄▄▅▅▅▅▅▅▆▆▆▆▆▇▇▇▇▇▇███</td></tr></table><br/>"
            ],
            "text/plain": [
              "<IPython.core.display.HTML object>"
            ]
          },
          "metadata": {
            "tags": []
          }
        },
        {
          "output_type": "display_data",
          "data": {
            "text/html": [
              "Synced 5 W&B file(s), 0 media file(s), 2 artifact file(s) and 9 other file(s)"
            ],
            "text/plain": [
              "<IPython.core.display.HTML object>"
            ]
          },
          "metadata": {
            "tags": []
          }
        },
        {
          "output_type": "display_data",
          "data": {
            "text/html": [
              "\n",
              "                    <br/>Synced <strong style=\"color:#cdcd00\">tough-sweep-30</strong>: <a href=\"https://wandb.ai/ko120/Advantage_Actor_Critic/runs/75kgikfu\" target=\"_blank\">https://wandb.ai/ko120/Advantage_Actor_Critic/runs/75kgikfu</a><br/>\n",
              "                "
            ],
            "text/plain": [
              "<IPython.core.display.HTML object>"
            ]
          },
          "metadata": {
            "tags": []
          }
        },
        {
          "output_type": "stream",
          "text": [
            "\u001b[34m\u001b[1mwandb\u001b[0m: Agent Starting Run: 60cjgz86 with config:\n",
            "\u001b[34m\u001b[1mwandb\u001b[0m: \tactor_learning_rate: 0.0003\n",
            "\u001b[34m\u001b[1mwandb\u001b[0m: \tcritic_learning_rate: 0.01\n",
            "\u001b[34m\u001b[1mwandb\u001b[0m: \tlearning: learn_mean\n",
            "\u001b[34m\u001b[1mwandb\u001b[0m: \tnum_neurons: 128\n",
            "\u001b[34m\u001b[1mwandb\u001b[0m: \toptimizer: RMSprop\n",
            "\u001b[34m\u001b[1mwandb\u001b[0m: \u001b[33mWARNING\u001b[0m Ignored wandb.init() arg project when running a sweep\n"
          ],
          "name": "stderr"
        },
        {
          "output_type": "display_data",
          "data": {
            "text/html": [
              "\n",
              "                Tracking run with wandb version 0.11.0<br/>\n",
              "                Syncing run <strong style=\"color:#cdcd00\">bumbling-sweep-31</strong> to <a href=\"https://wandb.ai\" target=\"_blank\">Weights & Biases</a> <a href=\"https://docs.wandb.com/integrations/jupyter.html\" target=\"_blank\">(Documentation)</a>.<br/>\n",
              "                Project page: <a href=\"https://wandb.ai/ko120/Advantage_Actor_Critic\" target=\"_blank\">https://wandb.ai/ko120/Advantage_Actor_Critic</a><br/>\n",
              "                Sweep page: <a href=\"https://wandb.ai/ko120/Advantage_Actor_Critic/sweeps/t9gia22t\" target=\"_blank\">https://wandb.ai/ko120/Advantage_Actor_Critic/sweeps/t9gia22t</a><br/>\n",
              "Run page: <a href=\"https://wandb.ai/ko120/Advantage_Actor_Critic/runs/60cjgz86\" target=\"_blank\">https://wandb.ai/ko120/Advantage_Actor_Critic/runs/60cjgz86</a><br/>\n",
              "                Run data is saved locally in <code>/content/wandb/run-20210729_061755-60cjgz86</code><br/><br/>\n",
              "            "
            ],
            "text/plain": [
              "<IPython.core.display.HTML object>"
            ]
          },
          "metadata": {
            "tags": []
          }
        },
        {
          "output_type": "stream",
          "text": [
            "episode 100 average reward 32.09077247945594, ended at 5.8\n",
            "episode 200 average reward 43.399165117159946, ended at 14.4\n",
            "episode 300 average reward 56.97014651221504, ended at 24.3\n",
            "episode 400 average reward 70.85001776467622, ended at 36.5\n",
            "episode 500 average reward 128.69720908538724, ended at 60.5\n",
            "episode 600 average reward 165.8324159488941, ended at 92.4\n",
            "episode 700 average reward 211.80881247618575, ended at 128.2\n",
            "episode 800 average reward 257.70859812747057, ended at 182.7\n",
            "episode 900 average reward 368.0986261417445, ended at 249.2\n",
            "episode 1000 average reward 451.31409107980386, ended at 335.7\n",
            "episode 1100 average reward 475.4835078598013, ended at 427.3\n",
            "episode 1200 average reward 478.2158590025827, ended at 522.1\n",
            "episode 1300 average reward 477.87572541913295, ended at 614.6\n",
            "episode 1400 average reward 498.8260491038842, ended at 712.3\n",
            "episode 1500 average reward 499.70678631019854, ended at 810.8\n",
            "episode 1600 average reward 490.3202567046688, ended at 908.5\n",
            "episode 1700 average reward 499.07547619843564, ended at 1007.8\n",
            "episode 1800 average reward 492.7237212043196, ended at 1105.5\n",
            "episode 1900 average reward 499.95692057877443, ended at 1203.7\n",
            "episode 2000 average reward 497.5709378813574, ended at 1302.9\n",
            "episode 2100 average reward 499.9856186667481, ended at 1402.7\n",
            "episode 2200 average reward 499.2857563037491, ended at 1500.4\n",
            "episode 2300 average reward 495.3836508377175, ended at 1599.6\n",
            "episode 2400 average reward 490.2038029191616, ended at 1698.7\n",
            "episode 2500 average reward 499.94200132893434, ended at 1796.3\n",
            "episode 2600 average reward 499.99965661717283, ended at 1895.3\n",
            "episode 2700 average reward 499.9999979669915, ended at 1994.6\n",
            "episode 2800 average reward 499.9999999879632, ended at 2092.4\n",
            "episode 2900 average reward 499.99999999992826, ended at 2191.6\n",
            "episode 3000 average reward 499.99999999999903, ended at 2290.7\n"
          ],
          "name": "stdout"
        },
        {
          "output_type": "display_data",
          "data": {
            "text/html": [
              "<br/>Waiting for W&B process to finish, PID 5716<br/>Program ended successfully."
            ],
            "text/plain": [
              "<IPython.core.display.HTML object>"
            ]
          },
          "metadata": {
            "tags": []
          }
        },
        {
          "output_type": "display_data",
          "data": {
            "application/vnd.jupyter.widget-view+json": {
              "model_id": "35681e9bb618430d969998756ad3d7ef",
              "version_minor": 0,
              "version_major": 2
            },
            "text/plain": [
              "VBox(children=(Label(value=' 0.58MB of 0.58MB uploaded (0.00MB deduped)\\r'), FloatProgress(value=1.0, max=1.0)…"
            ]
          },
          "metadata": {
            "tags": []
          }
        },
        {
          "output_type": "display_data",
          "data": {
            "text/html": [
              "Find user logs for this run at: <code>/content/wandb/run-20210729_061755-60cjgz86/logs/debug.log</code>"
            ],
            "text/plain": [
              "<IPython.core.display.HTML object>"
            ]
          },
          "metadata": {
            "tags": []
          }
        },
        {
          "output_type": "display_data",
          "data": {
            "text/html": [
              "Find internal logs for this run at: <code>/content/wandb/run-20210729_061755-60cjgz86/logs/debug-internal.log</code>"
            ],
            "text/plain": [
              "<IPython.core.display.HTML object>"
            ]
          },
          "metadata": {
            "tags": []
          }
        },
        {
          "output_type": "display_data",
          "data": {
            "text/html": [
              "<h3>Run summary:</h3><br/><style>\n",
              "    table.wandb td:nth-child(1) { padding: 0 10px; text-align: right }\n",
              "    </style><table class=\"wandb\">\n",
              "<tr><td>episode</td><td>3000</td></tr><tr><td>running_score</td><td>500.0</td></tr><tr><td>_runtime</td><td>2293</td></tr><tr><td>_timestamp</td><td>1627541768</td></tr><tr><td>_step</td><td>2999</td></tr></table>"
            ],
            "text/plain": [
              "<IPython.core.display.HTML object>"
            ]
          },
          "metadata": {
            "tags": []
          }
        },
        {
          "output_type": "display_data",
          "data": {
            "text/html": [
              "<h3>Run history:</h3><br/><style>\n",
              "    table.wandb td:nth-child(1) { padding: 0 10px; text-align: right }\n",
              "    </style><table class=\"wandb\">\n",
              "<tr><td>episode</td><td>▁▁▁▂▂▂▂▂▂▃▃▃▃▃▄▄▄▄▄▄▅▅▅▅▅▅▆▆▆▆▆▇▇▇▇▇▇███</td></tr><tr><td>running_score</td><td>▁▁▁▂▁▂▃▃▃▄▅▅▆▇██████████████████████████</td></tr><tr><td>_runtime</td><td>▁▁▁▁▁▁▁▁▁▁▂▂▂▂▂▂▃▃▃▃▄▄▄▄▄▅▅▅▅▆▆▆▆▇▇▇▇███</td></tr><tr><td>_timestamp</td><td>▁▁▁▁▁▁▁▁▁▁▂▂▂▂▂▂▃▃▃▃▄▄▄▄▄▅▅▅▅▆▆▆▆▇▇▇▇███</td></tr><tr><td>_step</td><td>▁▁▁▂▂▂▂▂▂▃▃▃▃▃▄▄▄▄▄▄▅▅▅▅▅▅▆▆▆▆▆▇▇▇▇▇▇███</td></tr></table><br/>"
            ],
            "text/plain": [
              "<IPython.core.display.HTML object>"
            ]
          },
          "metadata": {
            "tags": []
          }
        },
        {
          "output_type": "display_data",
          "data": {
            "text/html": [
              "Synced 5 W&B file(s), 0 media file(s), 2 artifact file(s) and 9 other file(s)"
            ],
            "text/plain": [
              "<IPython.core.display.HTML object>"
            ]
          },
          "metadata": {
            "tags": []
          }
        },
        {
          "output_type": "display_data",
          "data": {
            "text/html": [
              "\n",
              "                    <br/>Synced <strong style=\"color:#cdcd00\">bumbling-sweep-31</strong>: <a href=\"https://wandb.ai/ko120/Advantage_Actor_Critic/runs/60cjgz86\" target=\"_blank\">https://wandb.ai/ko120/Advantage_Actor_Critic/runs/60cjgz86</a><br/>\n",
              "                "
            ],
            "text/plain": [
              "<IPython.core.display.HTML object>"
            ]
          },
          "metadata": {
            "tags": []
          }
        },
        {
          "output_type": "stream",
          "text": [
            "\u001b[34m\u001b[1mwandb\u001b[0m: Agent Starting Run: fzdbynv3 with config:\n",
            "\u001b[34m\u001b[1mwandb\u001b[0m: \tactor_learning_rate: 0.0003\n",
            "\u001b[34m\u001b[1mwandb\u001b[0m: \tcritic_learning_rate: 0.01\n",
            "\u001b[34m\u001b[1mwandb\u001b[0m: \tlearning: learn_mean\n",
            "\u001b[34m\u001b[1mwandb\u001b[0m: \tnum_neurons: 128\n",
            "\u001b[34m\u001b[1mwandb\u001b[0m: \toptimizer: Adam\n",
            "\u001b[34m\u001b[1mwandb\u001b[0m: \u001b[33mWARNING\u001b[0m Ignored wandb.init() arg project when running a sweep\n"
          ],
          "name": "stderr"
        },
        {
          "output_type": "display_data",
          "data": {
            "text/html": [
              "\n",
              "                Tracking run with wandb version 0.11.0<br/>\n",
              "                Syncing run <strong style=\"color:#cdcd00\">mild-sweep-32</strong> to <a href=\"https://wandb.ai\" target=\"_blank\">Weights & Biases</a> <a href=\"https://docs.wandb.com/integrations/jupyter.html\" target=\"_blank\">(Documentation)</a>.<br/>\n",
              "                Project page: <a href=\"https://wandb.ai/ko120/Advantage_Actor_Critic\" target=\"_blank\">https://wandb.ai/ko120/Advantage_Actor_Critic</a><br/>\n",
              "                Sweep page: <a href=\"https://wandb.ai/ko120/Advantage_Actor_Critic/sweeps/t9gia22t\" target=\"_blank\">https://wandb.ai/ko120/Advantage_Actor_Critic/sweeps/t9gia22t</a><br/>\n",
              "Run page: <a href=\"https://wandb.ai/ko120/Advantage_Actor_Critic/runs/fzdbynv3\" target=\"_blank\">https://wandb.ai/ko120/Advantage_Actor_Critic/runs/fzdbynv3</a><br/>\n",
              "                Run data is saved locally in <code>/content/wandb/run-20210729_065613-fzdbynv3</code><br/><br/>\n",
              "            "
            ],
            "text/plain": [
              "<IPython.core.display.HTML object>"
            ]
          },
          "metadata": {
            "tags": []
          }
        },
        {
          "output_type": "stream",
          "text": [
            "episode 100 average reward 18.424518663072565, ended at 3.8\n",
            "episode 200 average reward 27.873311664343788, ended at 8.4\n",
            "episode 300 average reward 42.33054965889336, ended at 15.6\n",
            "episode 400 average reward 61.745907479619135, ended at 26.7\n",
            "episode 500 average reward 81.72378800769087, ended at 41.1\n",
            "episode 600 average reward 119.6130814481791, ended at 64.0\n",
            "episode 700 average reward 158.1029350724095, ended at 93.3\n",
            "episode 800 average reward 188.3729707631223, ended at 126.2\n",
            "episode 900 average reward 235.04725398927928, ended at 171.1\n",
            "episode 1000 average reward 384.5134904742514, ended at 239.0\n",
            "episode 1100 average reward 443.4318152989121, ended at 323.6\n",
            "episode 1200 average reward 490.5463718327637, ended at 418.7\n",
            "episode 1300 average reward 495.7117807231135, ended at 515.4\n",
            "episode 1400 average reward 498.39244870921726, ended at 614.0\n",
            "episode 1500 average reward 499.459613464542, ended at 712.4\n",
            "episode 1600 average reward 499.9968006257261, ended at 810.1\n",
            "episode 1700 average reward 499.4978138509417, ended at 908.9\n",
            "episode 1800 average reward 499.9970267922301, ended at 1007.7\n",
            "episode 1900 average reward 497.5294162846765, ended at 1104.8\n",
            "episode 2000 average reward 499.51726647056506, ended at 1202.8\n",
            "episode 2100 average reward 499.9797396761895, ended at 1301.6\n",
            "episode 2200 average reward 499.99988004816043, ended at 1399.7\n",
            "episode 2300 average reward 499.9999992898212, ended at 1498.3\n",
            "episode 2400 average reward 499.9999999957949, ended at 1596.4\n",
            "episode 2500 average reward 499.9999999999747, ended at 1695.1\n",
            "episode 2600 average reward 499.99999999999903, ended at 1789.9\n",
            "episode 2700 average reward 499.99999999999903, ended at 1888.4\n",
            "episode 2800 average reward 499.99999999999903, ended at 1986.9\n",
            "episode 2900 average reward 499.99999999999903, ended at 2084.5\n",
            "episode 3000 average reward 499.99999999999903, ended at 2182.4\n"
          ],
          "name": "stdout"
        },
        {
          "output_type": "display_data",
          "data": {
            "text/html": [
              "<br/>Waiting for W&B process to finish, PID 6217<br/>Program ended successfully."
            ],
            "text/plain": [
              "<IPython.core.display.HTML object>"
            ]
          },
          "metadata": {
            "tags": []
          }
        },
        {
          "output_type": "display_data",
          "data": {
            "application/vnd.jupyter.widget-view+json": {
              "model_id": "84a9583dacbc4484b93f93a93df7ca66",
              "version_minor": 0,
              "version_major": 2
            },
            "text/plain": [
              "VBox(children=(Label(value=' 0.59MB of 0.59MB uploaded (0.00MB deduped)\\r'), FloatProgress(value=1.0, max=1.0)…"
            ]
          },
          "metadata": {
            "tags": []
          }
        },
        {
          "output_type": "display_data",
          "data": {
            "text/html": [
              "Find user logs for this run at: <code>/content/wandb/run-20210729_065613-fzdbynv3/logs/debug.log</code>"
            ],
            "text/plain": [
              "<IPython.core.display.HTML object>"
            ]
          },
          "metadata": {
            "tags": []
          }
        },
        {
          "output_type": "display_data",
          "data": {
            "text/html": [
              "Find internal logs for this run at: <code>/content/wandb/run-20210729_065613-fzdbynv3/logs/debug-internal.log</code>"
            ],
            "text/plain": [
              "<IPython.core.display.HTML object>"
            ]
          },
          "metadata": {
            "tags": []
          }
        },
        {
          "output_type": "display_data",
          "data": {
            "text/html": [
              "<h3>Run summary:</h3><br/><style>\n",
              "    table.wandb td:nth-child(1) { padding: 0 10px; text-align: right }\n",
              "    </style><table class=\"wandb\">\n",
              "<tr><td>episode</td><td>3000</td></tr><tr><td>running_score</td><td>500.0</td></tr><tr><td>_runtime</td><td>2185</td></tr><tr><td>_timestamp</td><td>1627543958</td></tr><tr><td>_step</td><td>2999</td></tr></table>"
            ],
            "text/plain": [
              "<IPython.core.display.HTML object>"
            ]
          },
          "metadata": {
            "tags": []
          }
        },
        {
          "output_type": "display_data",
          "data": {
            "text/html": [
              "<h3>Run history:</h3><br/><style>\n",
              "    table.wandb td:nth-child(1) { padding: 0 10px; text-align: right }\n",
              "    </style><table class=\"wandb\">\n",
              "<tr><td>episode</td><td>▁▁▁▂▂▂▂▂▂▃▃▃▃▃▄▄▄▄▄▄▅▅▅▅▅▅▆▆▆▆▆▇▇▇▇▇▇███</td></tr><tr><td>running_score</td><td>▁▁▁▁▁▂▂▂▃▃▃▄▅▆▇█████████████████████████</td></tr><tr><td>_runtime</td><td>▁▁▁▁▁▁▁▁▁▁▁▁▂▂▂▂▂▃▃▃▃▄▄▄▄▅▅▅▅▆▆▆▆▆▇▇▇▇██</td></tr><tr><td>_timestamp</td><td>▁▁▁▁▁▁▁▁▁▁▁▁▂▂▂▂▂▃▃▃▃▄▄▄▄▅▅▅▅▆▆▆▆▆▇▇▇▇██</td></tr><tr><td>_step</td><td>▁▁▁▂▂▂▂▂▂▃▃▃▃▃▄▄▄▄▄▄▅▅▅▅▅▅▆▆▆▆▆▇▇▇▇▇▇███</td></tr></table><br/>"
            ],
            "text/plain": [
              "<IPython.core.display.HTML object>"
            ]
          },
          "metadata": {
            "tags": []
          }
        },
        {
          "output_type": "display_data",
          "data": {
            "text/html": [
              "Synced 5 W&B file(s), 0 media file(s), 2 artifact file(s) and 9 other file(s)"
            ],
            "text/plain": [
              "<IPython.core.display.HTML object>"
            ]
          },
          "metadata": {
            "tags": []
          }
        },
        {
          "output_type": "display_data",
          "data": {
            "text/html": [
              "\n",
              "                    <br/>Synced <strong style=\"color:#cdcd00\">mild-sweep-32</strong>: <a href=\"https://wandb.ai/ko120/Advantage_Actor_Critic/runs/fzdbynv3\" target=\"_blank\">https://wandb.ai/ko120/Advantage_Actor_Critic/runs/fzdbynv3</a><br/>\n",
              "                "
            ],
            "text/plain": [
              "<IPython.core.display.HTML object>"
            ]
          },
          "metadata": {
            "tags": []
          }
        },
        {
          "output_type": "stream",
          "text": [
            "\u001b[34m\u001b[1mwandb\u001b[0m: Agent Starting Run: ursroc9m with config:\n",
            "\u001b[34m\u001b[1mwandb\u001b[0m: \tactor_learning_rate: 0.0003\n",
            "\u001b[34m\u001b[1mwandb\u001b[0m: \tcritic_learning_rate: 0.001\n",
            "\u001b[34m\u001b[1mwandb\u001b[0m: \tlearning: learn_mean\n",
            "\u001b[34m\u001b[1mwandb\u001b[0m: \tnum_neurons: 128\n",
            "\u001b[34m\u001b[1mwandb\u001b[0m: \toptimizer: RMSprop\n",
            "\u001b[34m\u001b[1mwandb\u001b[0m: \u001b[33mWARNING\u001b[0m Ignored wandb.init() arg project when running a sweep\n"
          ],
          "name": "stderr"
        },
        {
          "output_type": "display_data",
          "data": {
            "text/html": [
              "\n",
              "                Tracking run with wandb version 0.11.0<br/>\n",
              "                Syncing run <strong style=\"color:#cdcd00\">eager-sweep-33</strong> to <a href=\"https://wandb.ai\" target=\"_blank\">Weights & Biases</a> <a href=\"https://docs.wandb.com/integrations/jupyter.html\" target=\"_blank\">(Documentation)</a>.<br/>\n",
              "                Project page: <a href=\"https://wandb.ai/ko120/Advantage_Actor_Critic\" target=\"_blank\">https://wandb.ai/ko120/Advantage_Actor_Critic</a><br/>\n",
              "                Sweep page: <a href=\"https://wandb.ai/ko120/Advantage_Actor_Critic/sweeps/t9gia22t\" target=\"_blank\">https://wandb.ai/ko120/Advantage_Actor_Critic/sweeps/t9gia22t</a><br/>\n",
              "Run page: <a href=\"https://wandb.ai/ko120/Advantage_Actor_Critic/runs/ursroc9m\" target=\"_blank\">https://wandb.ai/ko120/Advantage_Actor_Critic/runs/ursroc9m</a><br/>\n",
              "                Run data is saved locally in <code>/content/wandb/run-20210729_073243-ursroc9m</code><br/><br/>\n",
              "            "
            ],
            "text/plain": [
              "<IPython.core.display.HTML object>"
            ]
          },
          "metadata": {
            "tags": []
          }
        },
        {
          "output_type": "stream",
          "text": [
            "episode 100 average reward 13.263413515864448, ended at 3.4\n",
            "episode 200 average reward 11.030207710733118, ended at 6.0\n",
            "episode 300 average reward 22.008712408515315, ended at 9.4\n",
            "episode 400 average reward 24.378023762167032, ended at 14.3\n",
            "episode 500 average reward 35.889893036715115, ended at 21.0\n",
            "episode 600 average reward 44.58462768660734, ended at 29.2\n",
            "episode 700 average reward 51.10625589046285, ended at 38.6\n",
            "episode 800 average reward 49.26684788611758, ended at 48.6\n",
            "episode 900 average reward 48.896838565502506, ended at 59.0\n",
            "episode 1000 average reward 60.292190069293916, ended at 70.1\n",
            "episode 1100 average reward 61.4336021895396, ended at 82.5\n",
            "episode 1200 average reward 75.95676363769158, ended at 97.3\n",
            "episode 1300 average reward 98.905859969814, ended at 114.6\n",
            "episode 1400 average reward 122.86709968702966, ended at 137.8\n",
            "episode 1500 average reward 120.69127302159089, ended at 159.3\n",
            "episode 1600 average reward 108.2142001968934, ended at 179.2\n",
            "episode 1700 average reward 149.10194167953946, ended at 207.2\n",
            "episode 1800 average reward 152.40132975596455, ended at 236.8\n",
            "episode 1900 average reward 157.23676076117917, ended at 266.7\n",
            "episode 2000 average reward 324.12625252009116, ended at 310.2\n",
            "episode 2100 average reward 104.86838831066584, ended at 342.8\n",
            "episode 2200 average reward 112.9515801483613, ended at 363.9\n",
            "episode 2300 average reward 161.2753690444128, ended at 392.2\n",
            "episode 2400 average reward 253.42865330290385, ended at 436.1\n",
            "episode 2500 average reward 285.8813146950322, ended at 487.8\n",
            "episode 2600 average reward 149.64305092747549, ended at 523.5\n",
            "episode 2700 average reward 169.19406422441156, ended at 554.2\n",
            "episode 2800 average reward 260.4239413200608, ended at 599.6\n",
            "episode 2900 average reward 252.9931785952555, ended at 651.7\n",
            "episode 3000 average reward 243.70863503907847, ended at 700.1\n"
          ],
          "name": "stdout"
        },
        {
          "output_type": "display_data",
          "data": {
            "text/html": [
              "<br/>Waiting for W&B process to finish, PID 6696<br/>Program ended successfully."
            ],
            "text/plain": [
              "<IPython.core.display.HTML object>"
            ]
          },
          "metadata": {
            "tags": []
          }
        },
        {
          "output_type": "display_data",
          "data": {
            "application/vnd.jupyter.widget-view+json": {
              "model_id": "c230e294f8ed411f8c03cc3ba6dc6114",
              "version_minor": 0,
              "version_major": 2
            },
            "text/plain": [
              "VBox(children=(Label(value=' 0.60MB of 0.60MB uploaded (0.00MB deduped)\\r'), FloatProgress(value=1.0, max=1.0)…"
            ]
          },
          "metadata": {
            "tags": []
          }
        },
        {
          "output_type": "display_data",
          "data": {
            "text/html": [
              "Find user logs for this run at: <code>/content/wandb/run-20210729_073243-ursroc9m/logs/debug.log</code>"
            ],
            "text/plain": [
              "<IPython.core.display.HTML object>"
            ]
          },
          "metadata": {
            "tags": []
          }
        },
        {
          "output_type": "display_data",
          "data": {
            "text/html": [
              "Find internal logs for this run at: <code>/content/wandb/run-20210729_073243-ursroc9m/logs/debug-internal.log</code>"
            ],
            "text/plain": [
              "<IPython.core.display.HTML object>"
            ]
          },
          "metadata": {
            "tags": []
          }
        },
        {
          "output_type": "display_data",
          "data": {
            "text/html": [
              "<h3>Run summary:</h3><br/><style>\n",
              "    table.wandb td:nth-child(1) { padding: 0 10px; text-align: right }\n",
              "    </style><table class=\"wandb\">\n",
              "<tr><td>episode</td><td>3000</td></tr><tr><td>running_score</td><td>243.70864</td></tr><tr><td>_runtime</td><td>703</td></tr><tr><td>_timestamp</td><td>1627544666</td></tr><tr><td>_step</td><td>2999</td></tr></table>"
            ],
            "text/plain": [
              "<IPython.core.display.HTML object>"
            ]
          },
          "metadata": {
            "tags": []
          }
        },
        {
          "output_type": "display_data",
          "data": {
            "text/html": [
              "<h3>Run history:</h3><br/><style>\n",
              "    table.wandb td:nth-child(1) { padding: 0 10px; text-align: right }\n",
              "    </style><table class=\"wandb\">\n",
              "<tr><td>episode</td><td>▁▁▁▂▂▂▂▂▂▃▃▃▃▃▄▄▄▄▄▄▅▅▅▅▅▅▆▆▆▆▆▇▇▇▇▇▇███</td></tr><tr><td>running_score</td><td>▁▁▁▁▁▁▂▂▂▂▂▂▂▂▂▂▃▃▄▄▄▃▄▅▅▅▇▆▄▄▄▆▇█▅▅▅██▇</td></tr><tr><td>_runtime</td><td>▁▁▁▁▁▁▁▁▁▁▁▂▂▂▂▂▂▂▂▂▃▃▃▃▃▄▄▄▅▅▅▅▆▆▆▆▇▇██</td></tr><tr><td>_timestamp</td><td>▁▁▁▁▁▁▁▁▁▁▁▂▂▂▂▂▂▂▂▂▃▃▃▃▃▄▄▄▅▅▅▅▆▆▆▆▇▇██</td></tr><tr><td>_step</td><td>▁▁▁▂▂▂▂▂▂▃▃▃▃▃▄▄▄▄▄▄▅▅▅▅▅▅▆▆▆▆▆▇▇▇▇▇▇███</td></tr></table><br/>"
            ],
            "text/plain": [
              "<IPython.core.display.HTML object>"
            ]
          },
          "metadata": {
            "tags": []
          }
        },
        {
          "output_type": "display_data",
          "data": {
            "text/html": [
              "Synced 5 W&B file(s), 0 media file(s), 2 artifact file(s) and 9 other file(s)"
            ],
            "text/plain": [
              "<IPython.core.display.HTML object>"
            ]
          },
          "metadata": {
            "tags": []
          }
        },
        {
          "output_type": "display_data",
          "data": {
            "text/html": [
              "\n",
              "                    <br/>Synced <strong style=\"color:#cdcd00\">eager-sweep-33</strong>: <a href=\"https://wandb.ai/ko120/Advantage_Actor_Critic/runs/ursroc9m\" target=\"_blank\">https://wandb.ai/ko120/Advantage_Actor_Critic/runs/ursroc9m</a><br/>\n",
              "                "
            ],
            "text/plain": [
              "<IPython.core.display.HTML object>"
            ]
          },
          "metadata": {
            "tags": []
          }
        },
        {
          "output_type": "stream",
          "text": [
            "\u001b[34m\u001b[1mwandb\u001b[0m: Agent Starting Run: ihqoe51b with config:\n",
            "\u001b[34m\u001b[1mwandb\u001b[0m: \tactor_learning_rate: 0.0003\n",
            "\u001b[34m\u001b[1mwandb\u001b[0m: \tcritic_learning_rate: 0.001\n",
            "\u001b[34m\u001b[1mwandb\u001b[0m: \tlearning: learn_mean\n",
            "\u001b[34m\u001b[1mwandb\u001b[0m: \tnum_neurons: 128\n",
            "\u001b[34m\u001b[1mwandb\u001b[0m: \toptimizer: Adam\n",
            "\u001b[34m\u001b[1mwandb\u001b[0m: \u001b[33mWARNING\u001b[0m Ignored wandb.init() arg project when running a sweep\n"
          ],
          "name": "stderr"
        },
        {
          "output_type": "display_data",
          "data": {
            "text/html": [
              "\n",
              "                Tracking run with wandb version 0.11.0<br/>\n",
              "                Syncing run <strong style=\"color:#cdcd00\">valiant-sweep-34</strong> to <a href=\"https://wandb.ai\" target=\"_blank\">Weights & Biases</a> <a href=\"https://docs.wandb.com/integrations/jupyter.html\" target=\"_blank\">(Documentation)</a>.<br/>\n",
              "                Project page: <a href=\"https://wandb.ai/ko120/Advantage_Actor_Critic\" target=\"_blank\">https://wandb.ai/ko120/Advantage_Actor_Critic</a><br/>\n",
              "                Sweep page: <a href=\"https://wandb.ai/ko120/Advantage_Actor_Critic/sweeps/t9gia22t\" target=\"_blank\">https://wandb.ai/ko120/Advantage_Actor_Critic/sweeps/t9gia22t</a><br/>\n",
              "Run page: <a href=\"https://wandb.ai/ko120/Advantage_Actor_Critic/runs/ihqoe51b\" target=\"_blank\">https://wandb.ai/ko120/Advantage_Actor_Critic/runs/ihqoe51b</a><br/>\n",
              "                Run data is saved locally in <code>/content/wandb/run-20210729_074432-ihqoe51b</code><br/><br/>\n",
              "            "
            ],
            "text/plain": [
              "<IPython.core.display.HTML object>"
            ]
          },
          "metadata": {
            "tags": []
          }
        },
        {
          "output_type": "stream",
          "text": [
            "episode 100 average reward 18.95273608413951, ended at 3.9\n",
            "episode 200 average reward 13.563961078059728, ended at 7.0\n",
            "episode 300 average reward 14.35580876012201, ended at 10.1\n",
            "episode 400 average reward 15.470731728077737, ended at 13.2\n",
            "episode 500 average reward 28.775874501145385, ended at 17.8\n",
            "episode 600 average reward 41.50824692612722, ended at 24.8\n",
            "episode 700 average reward 49.30720755225275, ended at 33.7\n",
            "episode 800 average reward 64.60403122813639, ended at 46.1\n",
            "episode 900 average reward 74.09417120221264, ended at 59.2\n",
            "episode 1000 average reward 100.94473634345835, ended at 78.8\n",
            "episode 1100 average reward 136.83270499770592, ended at 104.0\n",
            "episode 1200 average reward 108.11643254931207, ended at 125.4\n",
            "episode 1300 average reward 164.1977230752807, ended at 166.1\n",
            "episode 1400 average reward 60.918064092404315, ended at 178.1\n",
            "episode 1500 average reward 84.69299855267553, ended at 195.8\n",
            "episode 1600 average reward 88.43255447188135, ended at 213.6\n",
            "episode 1700 average reward 86.09847876347942, ended at 231.1\n",
            "episode 1800 average reward 85.67722466736681, ended at 247.7\n",
            "episode 1900 average reward 80.23369073576735, ended at 263.8\n",
            "episode 2000 average reward 96.36156734627077, ended at 281.1\n",
            "episode 2100 average reward 96.14761176052454, ended at 299.8\n",
            "episode 2200 average reward 105.09210874924852, ended at 319.0\n",
            "episode 2300 average reward 110.71982732507912, ended at 339.7\n",
            "episode 2400 average reward 182.33163345670198, ended at 372.2\n",
            "episode 2500 average reward 77.11733569797224, ended at 394.4\n",
            "episode 2600 average reward 75.87045451851131, ended at 408.7\n",
            "episode 2700 average reward 70.67537531328453, ended at 422.3\n",
            "episode 2800 average reward 62.75786707850425, ended at 434.8\n",
            "episode 2900 average reward 56.20706702651366, ended at 446.8\n",
            "episode 3000 average reward 56.89357514945912, ended at 458.3\n"
          ],
          "name": "stdout"
        },
        {
          "output_type": "display_data",
          "data": {
            "text/html": [
              "<br/>Waiting for W&B process to finish, PID 6883<br/>Program ended successfully."
            ],
            "text/plain": [
              "<IPython.core.display.HTML object>"
            ]
          },
          "metadata": {
            "tags": []
          }
        },
        {
          "output_type": "display_data",
          "data": {
            "application/vnd.jupyter.widget-view+json": {
              "model_id": "17256217a4ac42029278b9b555d5071b",
              "version_minor": 0,
              "version_major": 2
            },
            "text/plain": [
              "VBox(children=(Label(value=' 0.62MB of 0.62MB uploaded (0.00MB deduped)\\r'), FloatProgress(value=1.0, max=1.0)…"
            ]
          },
          "metadata": {
            "tags": []
          }
        },
        {
          "output_type": "display_data",
          "data": {
            "text/html": [
              "Find user logs for this run at: <code>/content/wandb/run-20210729_074432-ihqoe51b/logs/debug.log</code>"
            ],
            "text/plain": [
              "<IPython.core.display.HTML object>"
            ]
          },
          "metadata": {
            "tags": []
          }
        },
        {
          "output_type": "display_data",
          "data": {
            "text/html": [
              "Find internal logs for this run at: <code>/content/wandb/run-20210729_074432-ihqoe51b/logs/debug-internal.log</code>"
            ],
            "text/plain": [
              "<IPython.core.display.HTML object>"
            ]
          },
          "metadata": {
            "tags": []
          }
        },
        {
          "output_type": "display_data",
          "data": {
            "text/html": [
              "<h3>Run summary:</h3><br/><style>\n",
              "    table.wandb td:nth-child(1) { padding: 0 10px; text-align: right }\n",
              "    </style><table class=\"wandb\">\n",
              "<tr><td>episode</td><td>3000</td></tr><tr><td>running_score</td><td>56.89358</td></tr><tr><td>_runtime</td><td>461</td></tr><tr><td>_timestamp</td><td>1627545133</td></tr><tr><td>_step</td><td>2999</td></tr></table>"
            ],
            "text/plain": [
              "<IPython.core.display.HTML object>"
            ]
          },
          "metadata": {
            "tags": []
          }
        },
        {
          "output_type": "display_data",
          "data": {
            "text/html": [
              "<h3>Run history:</h3><br/><style>\n",
              "    table.wandb td:nth-child(1) { padding: 0 10px; text-align: right }\n",
              "    </style><table class=\"wandb\">\n",
              "<tr><td>episode</td><td>▁▁▁▂▂▂▂▂▂▃▃▃▃▃▄▄▄▄▄▄▅▅▅▅▅▅▆▆▆▆▆▇▇▇▇▇▇███</td></tr><tr><td>running_score</td><td>▁▁▁▁▁▁▁▂▂▃▃▃▅▅▇▅▇▇▃▅▅▅▄▅▅▄▄▅▅▆▅▇█▄▄▄▃▃▃▃</td></tr><tr><td>_runtime</td><td>▁▁▁▁▁▁▁▁▁▁▂▂▂▂▃▃▃▄▄▄▄▄▄▅▅▅▅▅▆▆▆▇▇▇▇▇████</td></tr><tr><td>_timestamp</td><td>▁▁▁▁▁▁▁▁▁▁▂▂▂▂▃▃▃▄▄▄▄▄▄▅▅▅▅▅▆▆▆▇▇▇▇▇████</td></tr><tr><td>_step</td><td>▁▁▁▂▂▂▂▂▂▃▃▃▃▃▄▄▄▄▄▄▅▅▅▅▅▅▆▆▆▆▆▇▇▇▇▇▇███</td></tr></table><br/>"
            ],
            "text/plain": [
              "<IPython.core.display.HTML object>"
            ]
          },
          "metadata": {
            "tags": []
          }
        },
        {
          "output_type": "display_data",
          "data": {
            "text/html": [
              "Synced 5 W&B file(s), 0 media file(s), 2 artifact file(s) and 9 other file(s)"
            ],
            "text/plain": [
              "<IPython.core.display.HTML object>"
            ]
          },
          "metadata": {
            "tags": []
          }
        },
        {
          "output_type": "display_data",
          "data": {
            "text/html": [
              "\n",
              "                    <br/>Synced <strong style=\"color:#cdcd00\">valiant-sweep-34</strong>: <a href=\"https://wandb.ai/ko120/Advantage_Actor_Critic/runs/ihqoe51b\" target=\"_blank\">https://wandb.ai/ko120/Advantage_Actor_Critic/runs/ihqoe51b</a><br/>\n",
              "                "
            ],
            "text/plain": [
              "<IPython.core.display.HTML object>"
            ]
          },
          "metadata": {
            "tags": []
          }
        },
        {
          "output_type": "stream",
          "text": [
            "\u001b[34m\u001b[1mwandb\u001b[0m: Agent Starting Run: bi8gi0ft with config:\n",
            "\u001b[34m\u001b[1mwandb\u001b[0m: \tactor_learning_rate: 0.0003\n",
            "\u001b[34m\u001b[1mwandb\u001b[0m: \tcritic_learning_rate: 0.0001\n",
            "\u001b[34m\u001b[1mwandb\u001b[0m: \tlearning: learn_mean\n",
            "\u001b[34m\u001b[1mwandb\u001b[0m: \tnum_neurons: 128\n",
            "\u001b[34m\u001b[1mwandb\u001b[0m: \toptimizer: RMSprop\n",
            "\u001b[34m\u001b[1mwandb\u001b[0m: \u001b[33mWARNING\u001b[0m Ignored wandb.init() arg project when running a sweep\n"
          ],
          "name": "stderr"
        },
        {
          "output_type": "display_data",
          "data": {
            "text/html": [
              "\n",
              "                Tracking run with wandb version 0.11.0<br/>\n",
              "                Syncing run <strong style=\"color:#cdcd00\">dauntless-sweep-35</strong> to <a href=\"https://wandb.ai\" target=\"_blank\">Weights & Biases</a> <a href=\"https://docs.wandb.com/integrations/jupyter.html\" target=\"_blank\">(Documentation)</a>.<br/>\n",
              "                Project page: <a href=\"https://wandb.ai/ko120/Advantage_Actor_Critic\" target=\"_blank\">https://wandb.ai/ko120/Advantage_Actor_Critic</a><br/>\n",
              "                Sweep page: <a href=\"https://wandb.ai/ko120/Advantage_Actor_Critic/sweeps/t9gia22t\" target=\"_blank\">https://wandb.ai/ko120/Advantage_Actor_Critic/sweeps/t9gia22t</a><br/>\n",
              "Run page: <a href=\"https://wandb.ai/ko120/Advantage_Actor_Critic/runs/bi8gi0ft\" target=\"_blank\">https://wandb.ai/ko120/Advantage_Actor_Critic/runs/bi8gi0ft</a><br/>\n",
              "                Run data is saved locally in <code>/content/wandb/run-20210729_075219-bi8gi0ft</code><br/><br/>\n",
              "            "
            ],
            "text/plain": [
              "<IPython.core.display.HTML object>"
            ]
          },
          "metadata": {
            "tags": []
          }
        },
        {
          "output_type": "stream",
          "text": [
            "episode 100 average reward 22.99010724848736, ended at 4.2\n",
            "episode 200 average reward 17.067555751023953, ended at 8.0\n",
            "episode 300 average reward 15.135846891769232, ended at 11.2\n",
            "episode 400 average reward 13.01665822110251, ended at 14.3\n",
            "episode 500 average reward 12.296602221245555, ended at 16.9\n",
            "episode 600 average reward 11.003937202816186, ended at 19.4\n",
            "episode 700 average reward 10.920786401399571, ended at 21.7\n",
            "episode 800 average reward 10.24314768444847, ended at 24.1\n",
            "episode 900 average reward 10.71223543161477, ended at 26.3\n",
            "episode 1000 average reward 9.868080276548492, ended at 28.5\n",
            "episode 1100 average reward 9.902513560296214, ended at 30.8\n",
            "episode 1200 average reward 9.620296954913321, ended at 33.1\n",
            "episode 1300 average reward 9.825903258223274, ended at 35.5\n",
            "episode 1400 average reward 9.507279991351572, ended at 37.8\n",
            "episode 1500 average reward 9.572354745731342, ended at 40.1\n",
            "episode 1600 average reward 9.444128447008316, ended at 42.4\n",
            "episode 1700 average reward 9.546730271713548, ended at 44.8\n",
            "episode 1800 average reward 9.537738196577605, ended at 47.1\n",
            "episode 1900 average reward 9.537800298450236, ended at 49.4\n",
            "episode 2000 average reward 9.366894289363948, ended at 51.8\n",
            "episode 2100 average reward 9.179405199265457, ended at 54.1\n",
            "episode 2200 average reward 9.53785685243586, ended at 56.4\n",
            "episode 2300 average reward 9.338497379814044, ended at 58.6\n",
            "episode 2400 average reward 9.567873000005184, ended at 60.8\n",
            "episode 2500 average reward 9.603393341679745, ended at 62.9\n",
            "episode 2600 average reward 9.56842357762216, ended at 65.1\n",
            "episode 2700 average reward 9.44684542099765, ended at 67.1\n",
            "episode 2800 average reward 9.581311067431123, ended at 69.3\n",
            "episode 2900 average reward 9.739129363790715, ended at 71.5\n",
            "episode 3000 average reward 10.690416844477872, ended at 73.8\n"
          ],
          "name": "stdout"
        },
        {
          "output_type": "display_data",
          "data": {
            "text/html": [
              "<br/>Waiting for W&B process to finish, PID 7022<br/>Program ended successfully."
            ],
            "text/plain": [
              "<IPython.core.display.HTML object>"
            ]
          },
          "metadata": {
            "tags": []
          }
        },
        {
          "output_type": "display_data",
          "data": {
            "application/vnd.jupyter.widget-view+json": {
              "model_id": "1cd5a39a0d7941a1b373041dfc746b46",
              "version_minor": 0,
              "version_major": 2
            },
            "text/plain": [
              "VBox(children=(Label(value=' 0.63MB of 0.63MB uploaded (0.00MB deduped)\\r'), FloatProgress(value=1.0, max=1.0)…"
            ]
          },
          "metadata": {
            "tags": []
          }
        },
        {
          "output_type": "display_data",
          "data": {
            "text/html": [
              "Find user logs for this run at: <code>/content/wandb/run-20210729_075219-bi8gi0ft/logs/debug.log</code>"
            ],
            "text/plain": [
              "<IPython.core.display.HTML object>"
            ]
          },
          "metadata": {
            "tags": []
          }
        },
        {
          "output_type": "display_data",
          "data": {
            "text/html": [
              "Find internal logs for this run at: <code>/content/wandb/run-20210729_075219-bi8gi0ft/logs/debug-internal.log</code>"
            ],
            "text/plain": [
              "<IPython.core.display.HTML object>"
            ]
          },
          "metadata": {
            "tags": []
          }
        },
        {
          "output_type": "display_data",
          "data": {
            "text/html": [
              "<h3>Run summary:</h3><br/><style>\n",
              "    table.wandb td:nth-child(1) { padding: 0 10px; text-align: right }\n",
              "    </style><table class=\"wandb\">\n",
              "<tr><td>episode</td><td>3000</td></tr><tr><td>running_score</td><td>10.69042</td></tr><tr><td>_runtime</td><td>76</td></tr><tr><td>_timestamp</td><td>1627545215</td></tr><tr><td>_step</td><td>2999</td></tr></table>"
            ],
            "text/plain": [
              "<IPython.core.display.HTML object>"
            ]
          },
          "metadata": {
            "tags": []
          }
        },
        {
          "output_type": "display_data",
          "data": {
            "text/html": [
              "<h3>Run history:</h3><br/><style>\n",
              "    table.wandb td:nth-child(1) { padding: 0 10px; text-align: right }\n",
              "    </style><table class=\"wandb\">\n",
              "<tr><td>episode</td><td>▁▁▁▂▂▂▂▂▂▃▃▃▃▃▄▄▄▄▄▄▅▅▅▅▅▅▆▆▆▆▆▇▇▇▇▇▇███</td></tr><tr><td>running_score</td><td>▆█▇▄▅▃▂▂▂▂▂▁▂▁▁▁▁▁▁▁▁▁▁▁▁▁▁▁▁▁▁▁▁▁▁▁▁▁▁▁</td></tr><tr><td>_runtime</td><td>▁▁▂▂▂▂▂▃▃▃▃▃▄▄▄▄▄▄▅▅▅▅▅▅▆▆▆▆▆▆▇▇▇▇▇▇████</td></tr><tr><td>_timestamp</td><td>▁▁▂▂▂▂▂▃▃▃▃▃▄▄▄▄▄▄▅▅▅▅▅▅▆▆▆▆▆▆▇▇▇▇▇▇████</td></tr><tr><td>_step</td><td>▁▁▁▂▂▂▂▂▂▃▃▃▃▃▄▄▄▄▄▄▅▅▅▅▅▅▆▆▆▆▆▇▇▇▇▇▇███</td></tr></table><br/>"
            ],
            "text/plain": [
              "<IPython.core.display.HTML object>"
            ]
          },
          "metadata": {
            "tags": []
          }
        },
        {
          "output_type": "display_data",
          "data": {
            "text/html": [
              "Synced 5 W&B file(s), 0 media file(s), 2 artifact file(s) and 9 other file(s)"
            ],
            "text/plain": [
              "<IPython.core.display.HTML object>"
            ]
          },
          "metadata": {
            "tags": []
          }
        },
        {
          "output_type": "display_data",
          "data": {
            "text/html": [
              "\n",
              "                    <br/>Synced <strong style=\"color:#cdcd00\">dauntless-sweep-35</strong>: <a href=\"https://wandb.ai/ko120/Advantage_Actor_Critic/runs/bi8gi0ft\" target=\"_blank\">https://wandb.ai/ko120/Advantage_Actor_Critic/runs/bi8gi0ft</a><br/>\n",
              "                "
            ],
            "text/plain": [
              "<IPython.core.display.HTML object>"
            ]
          },
          "metadata": {
            "tags": []
          }
        },
        {
          "output_type": "stream",
          "text": [
            "\u001b[34m\u001b[1mwandb\u001b[0m: Agent Starting Run: 3ujpbgz3 with config:\n",
            "\u001b[34m\u001b[1mwandb\u001b[0m: \tactor_learning_rate: 0.0003\n",
            "\u001b[34m\u001b[1mwandb\u001b[0m: \tcritic_learning_rate: 0.0001\n",
            "\u001b[34m\u001b[1mwandb\u001b[0m: \tlearning: learn_mean\n",
            "\u001b[34m\u001b[1mwandb\u001b[0m: \tnum_neurons: 128\n",
            "\u001b[34m\u001b[1mwandb\u001b[0m: \toptimizer: Adam\n",
            "\u001b[34m\u001b[1mwandb\u001b[0m: \u001b[33mWARNING\u001b[0m Ignored wandb.init() arg project when running a sweep\n"
          ],
          "name": "stderr"
        },
        {
          "output_type": "display_data",
          "data": {
            "text/html": [
              "\n",
              "                Tracking run with wandb version 0.11.0<br/>\n",
              "                Syncing run <strong style=\"color:#cdcd00\">confused-sweep-36</strong> to <a href=\"https://wandb.ai\" target=\"_blank\">Weights & Biases</a> <a href=\"https://docs.wandb.com/integrations/jupyter.html\" target=\"_blank\">(Documentation)</a>.<br/>\n",
              "                Project page: <a href=\"https://wandb.ai/ko120/Advantage_Actor_Critic\" target=\"_blank\">https://wandb.ai/ko120/Advantage_Actor_Critic</a><br/>\n",
              "                Sweep page: <a href=\"https://wandb.ai/ko120/Advantage_Actor_Critic/sweeps/t9gia22t\" target=\"_blank\">https://wandb.ai/ko120/Advantage_Actor_Critic/sweeps/t9gia22t</a><br/>\n",
              "Run page: <a href=\"https://wandb.ai/ko120/Advantage_Actor_Critic/runs/3ujpbgz3\" target=\"_blank\">https://wandb.ai/ko120/Advantage_Actor_Critic/runs/3ujpbgz3</a><br/>\n",
              "                Run data is saved locally in <code>/content/wandb/run-20210729_075341-3ujpbgz3</code><br/><br/>\n",
              "            "
            ],
            "text/plain": [
              "<IPython.core.display.HTML object>"
            ]
          },
          "metadata": {
            "tags": []
          }
        },
        {
          "output_type": "stream",
          "text": [
            "episode 100 average reward 19.803152515800818, ended at 4.0\n",
            "episode 200 average reward 18.22874208834332, ended at 7.8\n",
            "episode 300 average reward 16.174931796216047, ended at 11.2\n",
            "episode 400 average reward 14.956008052960971, ended at 14.5\n",
            "episode 500 average reward 12.720347807827855, ended at 17.3\n",
            "episode 600 average reward 10.828623329669943, ended at 20.0\n",
            "episode 700 average reward 10.66616877489783, ended at 22.6\n",
            "episode 800 average reward 10.284585399019582, ended at 25.2\n",
            "episode 900 average reward 11.058016420422405, ended at 27.6\n",
            "episode 1000 average reward 9.547851285341725, ended at 30.0\n",
            "episode 1100 average reward 9.693059220173698, ended at 32.5\n",
            "episode 1200 average reward 9.535493980197622, ended at 34.9\n",
            "episode 1300 average reward 9.655774661791938, ended at 37.3\n",
            "episode 1400 average reward 10.01979171235155, ended at 39.6\n",
            "episode 1500 average reward 9.652633081948414, ended at 42.0\n",
            "episode 1600 average reward 9.408352908871038, ended at 44.3\n",
            "episode 1700 average reward 9.613459054025709, ended at 46.5\n",
            "episode 1800 average reward 9.50604263574748, ended at 48.7\n",
            "episode 1900 average reward 9.350351926182752, ended at 50.9\n",
            "episode 2000 average reward 9.469963738486193, ended at 53.2\n",
            "episode 2100 average reward 9.309435469881398, ended at 55.4\n",
            "episode 2200 average reward 9.453346676066822, ended at 57.6\n",
            "episode 2300 average reward 9.276531773812605, ended at 59.8\n",
            "episode 2400 average reward 9.385684471489913, ended at 62.0\n",
            "episode 2500 average reward 9.554714799999118, ended at 64.2\n",
            "episode 2600 average reward 9.535057280810296, ended at 66.4\n",
            "episode 2700 average reward 9.293387718058591, ended at 68.6\n",
            "episode 2800 average reward 9.267672523771532, ended at 70.8\n",
            "episode 2900 average reward 9.428088764732866, ended at 73.0\n",
            "episode 3000 average reward 9.367575880163889, ended at 75.1\n"
          ],
          "name": "stdout"
        },
        {
          "output_type": "display_data",
          "data": {
            "text/html": [
              "<br/>Waiting for W&B process to finish, PID 7085<br/>Program ended successfully."
            ],
            "text/plain": [
              "<IPython.core.display.HTML object>"
            ]
          },
          "metadata": {
            "tags": []
          }
        },
        {
          "output_type": "display_data",
          "data": {
            "application/vnd.jupyter.widget-view+json": {
              "model_id": "5bc8562f12ab49b4b66984316e8c9e39",
              "version_minor": 0,
              "version_major": 2
            },
            "text/plain": [
              "VBox(children=(Label(value=' 0.64MB of 0.64MB uploaded (0.00MB deduped)\\r'), FloatProgress(value=1.0, max=1.0)…"
            ]
          },
          "metadata": {
            "tags": []
          }
        },
        {
          "output_type": "display_data",
          "data": {
            "text/html": [
              "Find user logs for this run at: <code>/content/wandb/run-20210729_075341-3ujpbgz3/logs/debug.log</code>"
            ],
            "text/plain": [
              "<IPython.core.display.HTML object>"
            ]
          },
          "metadata": {
            "tags": []
          }
        },
        {
          "output_type": "display_data",
          "data": {
            "text/html": [
              "Find internal logs for this run at: <code>/content/wandb/run-20210729_075341-3ujpbgz3/logs/debug-internal.log</code>"
            ],
            "text/plain": [
              "<IPython.core.display.HTML object>"
            ]
          },
          "metadata": {
            "tags": []
          }
        },
        {
          "output_type": "display_data",
          "data": {
            "text/html": [
              "<h3>Run summary:</h3><br/><style>\n",
              "    table.wandb td:nth-child(1) { padding: 0 10px; text-align: right }\n",
              "    </style><table class=\"wandb\">\n",
              "<tr><td>episode</td><td>3000</td></tr><tr><td>running_score</td><td>9.36758</td></tr><tr><td>_runtime</td><td>78</td></tr><tr><td>_timestamp</td><td>1627545299</td></tr><tr><td>_step</td><td>2999</td></tr></table>"
            ],
            "text/plain": [
              "<IPython.core.display.HTML object>"
            ]
          },
          "metadata": {
            "tags": []
          }
        },
        {
          "output_type": "display_data",
          "data": {
            "text/html": [
              "<h3>Run history:</h3><br/><style>\n",
              "    table.wandb td:nth-child(1) { padding: 0 10px; text-align: right }\n",
              "    </style><table class=\"wandb\">\n",
              "<tr><td>episode</td><td>▁▁▁▂▂▂▂▂▂▃▃▃▃▃▄▄▄▄▄▄▅▅▅▅▅▅▆▆▆▆▆▇▇▇▇▇▇███</td></tr><tr><td>running_score</td><td>██▇▆▅▅▃▃▂▂▂▁▂▁▁▂▁▁▁▁▁▁▁▁▁▁▁▁▁▁▁▁▁▁▁▁▁▁▁▁</td></tr><tr><td>_runtime</td><td>▁▁▁▂▂▂▂▃▃▃▃▃▄▄▄▄▄▄▅▅▅▅▅▅▆▆▆▆▆▆▇▇▇▇▇▇████</td></tr><tr><td>_timestamp</td><td>▁▁▁▂▂▂▂▃▃▃▃▃▄▄▄▄▄▄▅▅▅▅▅▅▆▆▆▆▆▆▇▇▇▇▇▇████</td></tr><tr><td>_step</td><td>▁▁▁▂▂▂▂▂▂▃▃▃▃▃▄▄▄▄▄▄▅▅▅▅▅▅▆▆▆▆▆▇▇▇▇▇▇███</td></tr></table><br/>"
            ],
            "text/plain": [
              "<IPython.core.display.HTML object>"
            ]
          },
          "metadata": {
            "tags": []
          }
        },
        {
          "output_type": "display_data",
          "data": {
            "text/html": [
              "Synced 5 W&B file(s), 0 media file(s), 2 artifact file(s) and 9 other file(s)"
            ],
            "text/plain": [
              "<IPython.core.display.HTML object>"
            ]
          },
          "metadata": {
            "tags": []
          }
        },
        {
          "output_type": "display_data",
          "data": {
            "text/html": [
              "\n",
              "                    <br/>Synced <strong style=\"color:#cdcd00\">confused-sweep-36</strong>: <a href=\"https://wandb.ai/ko120/Advantage_Actor_Critic/runs/3ujpbgz3\" target=\"_blank\">https://wandb.ai/ko120/Advantage_Actor_Critic/runs/3ujpbgz3</a><br/>\n",
              "                "
            ],
            "text/plain": [
              "<IPython.core.display.HTML object>"
            ]
          },
          "metadata": {
            "tags": []
          }
        },
        {
          "output_type": "stream",
          "text": [
            "\u001b[34m\u001b[1mwandb\u001b[0m: Agent Starting Run: 7nlluqtp with config:\n",
            "\u001b[34m\u001b[1mwandb\u001b[0m: \tactor_learning_rate: 0.0003\n",
            "\u001b[34m\u001b[1mwandb\u001b[0m: \tcritic_learning_rate: 0.0003\n",
            "\u001b[34m\u001b[1mwandb\u001b[0m: \tlearning: learn_mean\n",
            "\u001b[34m\u001b[1mwandb\u001b[0m: \tnum_neurons: 128\n",
            "\u001b[34m\u001b[1mwandb\u001b[0m: \toptimizer: RMSprop\n",
            "\u001b[34m\u001b[1mwandb\u001b[0m: \u001b[33mWARNING\u001b[0m Ignored wandb.init() arg project when running a sweep\n"
          ],
          "name": "stderr"
        },
        {
          "output_type": "display_data",
          "data": {
            "text/html": [
              "\n",
              "                Tracking run with wandb version 0.11.0<br/>\n",
              "                Syncing run <strong style=\"color:#cdcd00\">charmed-sweep-37</strong> to <a href=\"https://wandb.ai\" target=\"_blank\">Weights & Biases</a> <a href=\"https://docs.wandb.com/integrations/jupyter.html\" target=\"_blank\">(Documentation)</a>.<br/>\n",
              "                Project page: <a href=\"https://wandb.ai/ko120/Advantage_Actor_Critic\" target=\"_blank\">https://wandb.ai/ko120/Advantage_Actor_Critic</a><br/>\n",
              "                Sweep page: <a href=\"https://wandb.ai/ko120/Advantage_Actor_Critic/sweeps/t9gia22t\" target=\"_blank\">https://wandb.ai/ko120/Advantage_Actor_Critic/sweeps/t9gia22t</a><br/>\n",
              "Run page: <a href=\"https://wandb.ai/ko120/Advantage_Actor_Critic/runs/7nlluqtp\" target=\"_blank\">https://wandb.ai/ko120/Advantage_Actor_Critic/runs/7nlluqtp</a><br/>\n",
              "                Run data is saved locally in <code>/content/wandb/run-20210729_075505-7nlluqtp</code><br/><br/>\n",
              "            "
            ],
            "text/plain": [
              "<IPython.core.display.HTML object>"
            ]
          },
          "metadata": {
            "tags": []
          }
        },
        {
          "output_type": "stream",
          "text": [
            "episode 100 average reward 18.61222393883686, ended at 4.6\n",
            "episode 200 average reward 16.49157881094041, ended at 8.4\n",
            "episode 300 average reward 13.170479215740354, ended at 11.6\n",
            "episode 400 average reward 12.60636950280949, ended at 14.4\n",
            "episode 500 average reward 11.963504562816082, ended at 17.3\n",
            "episode 600 average reward 11.836166680338362, ended at 20.1\n",
            "episode 700 average reward 11.562129183550502, ended at 22.8\n",
            "episode 800 average reward 12.318984837548733, ended at 25.4\n",
            "episode 900 average reward 11.696582483905496, ended at 27.8\n",
            "episode 1000 average reward 10.97448916521732, ended at 30.2\n",
            "episode 1100 average reward 12.014514416717219, ended at 32.8\n",
            "episode 1200 average reward 13.216249463556032, ended at 35.5\n",
            "episode 1300 average reward 17.7437936010526, ended at 38.8\n",
            "episode 1400 average reward 26.282651140978356, ended at 43.7\n",
            "episode 1500 average reward 36.68320507726758, ended at 50.2\n",
            "episode 1600 average reward 42.660598164448956, ended at 58.0\n",
            "episode 1700 average reward 40.44968237292445, ended at 66.0\n",
            "episode 1800 average reward 39.679267136027434, ended at 75.7\n",
            "episode 1900 average reward 48.25913326776603, ended at 85.8\n",
            "episode 2000 average reward 55.57904268088571, ended at 96.6\n",
            "episode 2100 average reward 52.935608196457316, ended at 107.8\n",
            "episode 2200 average reward 53.558925567979884, ended at 119.3\n",
            "episode 2300 average reward 52.40901114802635, ended at 129.3\n",
            "episode 2400 average reward 55.03639926039711, ended at 140.6\n",
            "episode 2500 average reward 59.08102042962298, ended at 151.8\n",
            "episode 2600 average reward 61.33096394379684, ended at 163.4\n",
            "episode 2700 average reward 60.7513286736962, ended at 175.2\n",
            "episode 2800 average reward 59.81160069815673, ended at 187.8\n",
            "episode 2900 average reward 66.91699933075841, ended at 201.1\n",
            "episode 3000 average reward 72.44936201272415, ended at 215.2\n"
          ],
          "name": "stdout"
        },
        {
          "output_type": "display_data",
          "data": {
            "text/html": [
              "<br/>Waiting for W&B process to finish, PID 7150<br/>Program ended successfully."
            ],
            "text/plain": [
              "<IPython.core.display.HTML object>"
            ]
          },
          "metadata": {
            "tags": []
          }
        },
        {
          "output_type": "display_data",
          "data": {
            "application/vnd.jupyter.widget-view+json": {
              "model_id": "931b2030352f47f68c37a28def9e9dcc",
              "version_minor": 0,
              "version_major": 2
            },
            "text/plain": [
              "VBox(children=(Label(value=' 0.66MB of 0.66MB uploaded (0.00MB deduped)\\r'), FloatProgress(value=1.0, max=1.0)…"
            ]
          },
          "metadata": {
            "tags": []
          }
        },
        {
          "output_type": "display_data",
          "data": {
            "text/html": [
              "Find user logs for this run at: <code>/content/wandb/run-20210729_075505-7nlluqtp/logs/debug.log</code>"
            ],
            "text/plain": [
              "<IPython.core.display.HTML object>"
            ]
          },
          "metadata": {
            "tags": []
          }
        },
        {
          "output_type": "display_data",
          "data": {
            "text/html": [
              "Find internal logs for this run at: <code>/content/wandb/run-20210729_075505-7nlluqtp/logs/debug-internal.log</code>"
            ],
            "text/plain": [
              "<IPython.core.display.HTML object>"
            ]
          },
          "metadata": {
            "tags": []
          }
        },
        {
          "output_type": "display_data",
          "data": {
            "text/html": [
              "<h3>Run summary:</h3><br/><style>\n",
              "    table.wandb td:nth-child(1) { padding: 0 10px; text-align: right }\n",
              "    </style><table class=\"wandb\">\n",
              "<tr><td>episode</td><td>3000</td></tr><tr><td>running_score</td><td>72.44936</td></tr><tr><td>_runtime</td><td>218</td></tr><tr><td>_timestamp</td><td>1627545523</td></tr><tr><td>_step</td><td>2999</td></tr></table>"
            ],
            "text/plain": [
              "<IPython.core.display.HTML object>"
            ]
          },
          "metadata": {
            "tags": []
          }
        },
        {
          "output_type": "display_data",
          "data": {
            "text/html": [
              "<h3>Run history:</h3><br/><style>\n",
              "    table.wandb td:nth-child(1) { padding: 0 10px; text-align: right }\n",
              "    </style><table class=\"wandb\">\n",
              "<tr><td>episode</td><td>▁▁▁▂▂▂▂▂▂▃▃▃▃▃▄▄▄▄▄▄▅▅▅▅▅▅▆▆▆▆▆▇▇▇▇▇▇███</td></tr><tr><td>running_score</td><td>▂▂▂▁▁▁▁▁▁▁▁▁▁▁▁▁▁▂▃▃▄▅▄▅▅▅▆▆▆▆▅▇▆▆▇▆▇▇▇█</td></tr><tr><td>_runtime</td><td>▁▁▁▁▁▁▁▂▂▂▂▂▂▂▂▂▂▂▂▂▃▃▃▃▄▄▄▄▅▅▅▆▆▆▆▇▇▇██</td></tr><tr><td>_timestamp</td><td>▁▁▁▁▁▁▁▂▂▂▂▂▂▂▂▂▂▂▂▂▃▃▃▃▄▄▄▄▅▅▅▆▆▆▆▇▇▇██</td></tr><tr><td>_step</td><td>▁▁▁▂▂▂▂▂▂▃▃▃▃▃▄▄▄▄▄▄▅▅▅▅▅▅▆▆▆▆▆▇▇▇▇▇▇███</td></tr></table><br/>"
            ],
            "text/plain": [
              "<IPython.core.display.HTML object>"
            ]
          },
          "metadata": {
            "tags": []
          }
        },
        {
          "output_type": "display_data",
          "data": {
            "text/html": [
              "Synced 5 W&B file(s), 0 media file(s), 2 artifact file(s) and 9 other file(s)"
            ],
            "text/plain": [
              "<IPython.core.display.HTML object>"
            ]
          },
          "metadata": {
            "tags": []
          }
        },
        {
          "output_type": "display_data",
          "data": {
            "text/html": [
              "\n",
              "                    <br/>Synced <strong style=\"color:#cdcd00\">charmed-sweep-37</strong>: <a href=\"https://wandb.ai/ko120/Advantage_Actor_Critic/runs/7nlluqtp\" target=\"_blank\">https://wandb.ai/ko120/Advantage_Actor_Critic/runs/7nlluqtp</a><br/>\n",
              "                "
            ],
            "text/plain": [
              "<IPython.core.display.HTML object>"
            ]
          },
          "metadata": {
            "tags": []
          }
        },
        {
          "output_type": "stream",
          "text": [
            "\u001b[34m\u001b[1mwandb\u001b[0m: Agent Starting Run: pp2j1em2 with config:\n",
            "\u001b[34m\u001b[1mwandb\u001b[0m: \tactor_learning_rate: 0.0003\n",
            "\u001b[34m\u001b[1mwandb\u001b[0m: \tcritic_learning_rate: 0.0003\n",
            "\u001b[34m\u001b[1mwandb\u001b[0m: \tlearning: learn_mean\n",
            "\u001b[34m\u001b[1mwandb\u001b[0m: \tnum_neurons: 128\n",
            "\u001b[34m\u001b[1mwandb\u001b[0m: \toptimizer: Adam\n",
            "\u001b[34m\u001b[1mwandb\u001b[0m: \u001b[33mWARNING\u001b[0m Ignored wandb.init() arg project when running a sweep\n"
          ],
          "name": "stderr"
        },
        {
          "output_type": "display_data",
          "data": {
            "text/html": [
              "\n",
              "                Tracking run with wandb version 0.11.0<br/>\n",
              "                Syncing run <strong style=\"color:#cdcd00\">glorious-sweep-38</strong> to <a href=\"https://wandb.ai\" target=\"_blank\">Weights & Biases</a> <a href=\"https://docs.wandb.com/integrations/jupyter.html\" target=\"_blank\">(Documentation)</a>.<br/>\n",
              "                Project page: <a href=\"https://wandb.ai/ko120/Advantage_Actor_Critic\" target=\"_blank\">https://wandb.ai/ko120/Advantage_Actor_Critic</a><br/>\n",
              "                Sweep page: <a href=\"https://wandb.ai/ko120/Advantage_Actor_Critic/sweeps/t9gia22t\" target=\"_blank\">https://wandb.ai/ko120/Advantage_Actor_Critic/sweeps/t9gia22t</a><br/>\n",
              "Run page: <a href=\"https://wandb.ai/ko120/Advantage_Actor_Critic/runs/pp2j1em2\" target=\"_blank\">https://wandb.ai/ko120/Advantage_Actor_Critic/runs/pp2j1em2</a><br/>\n",
              "                Run data is saved locally in <code>/content/wandb/run-20210729_075849-pp2j1em2</code><br/><br/>\n",
              "            "
            ],
            "text/plain": [
              "<IPython.core.display.HTML object>"
            ]
          },
          "metadata": {
            "tags": []
          }
        },
        {
          "output_type": "stream",
          "text": [
            "episode 100 average reward 17.46010108705662, ended at 3.7\n",
            "episode 200 average reward 17.587768623396286, ended at 7.5\n",
            "episode 300 average reward 12.919732127895253, ended at 10.7\n",
            "episode 400 average reward 11.408130624264821, ended at 13.3\n",
            "episode 500 average reward 10.345520609149105, ended at 15.9\n",
            "episode 600 average reward 10.403592954070277, ended at 18.4\n",
            "episode 700 average reward 9.827044683498183, ended at 20.8\n",
            "episode 800 average reward 10.084932136207298, ended at 23.2\n",
            "episode 900 average reward 10.145940622825542, ended at 25.6\n",
            "episode 1000 average reward 9.60761531173061, ended at 27.9\n",
            "episode 1100 average reward 9.626373723369852, ended at 30.3\n",
            "episode 1200 average reward 9.930905280170599, ended at 32.8\n",
            "episode 1300 average reward 10.989640759685388, ended at 35.2\n",
            "episode 1400 average reward 15.015984121234911, ended at 38.3\n",
            "episode 1500 average reward 15.43077917440905, ended at 41.4\n",
            "episode 1600 average reward 25.300587969287363, ended at 45.9\n",
            "episode 1700 average reward 42.23140052999326, ended at 52.8\n",
            "episode 1800 average reward 53.3323963060647, ended at 62.0\n",
            "episode 1900 average reward 57.01602706700382, ended at 72.4\n",
            "episode 2000 average reward 56.133106200107456, ended at 84.3\n",
            "episode 2100 average reward 62.07588507569224, ended at 97.2\n",
            "episode 2200 average reward 69.39315076989735, ended at 110.4\n",
            "episode 2300 average reward 70.02790494133708, ended at 124.7\n",
            "episode 2400 average reward 63.92690553070127, ended at 138.3\n",
            "episode 2500 average reward 73.81283729313422, ended at 152.4\n",
            "episode 2600 average reward 95.52899396205825, ended at 169.8\n",
            "episode 2700 average reward 123.40126248305836, ended at 191.2\n",
            "episode 2800 average reward 102.14259290547278, ended at 210.7\n",
            "episode 2900 average reward 102.66962882154633, ended at 229.6\n",
            "episode 3000 average reward 105.78708242903532, ended at 249.3\n"
          ],
          "name": "stdout"
        },
        {
          "output_type": "display_data",
          "data": {
            "text/html": [
              "<br/>Waiting for W&B process to finish, PID 7241<br/>Program ended successfully."
            ],
            "text/plain": [
              "<IPython.core.display.HTML object>"
            ]
          },
          "metadata": {
            "tags": []
          }
        },
        {
          "output_type": "display_data",
          "data": {
            "application/vnd.jupyter.widget-view+json": {
              "model_id": "77ae27069ef1423e9f3ab9361203d7c2",
              "version_minor": 0,
              "version_major": 2
            },
            "text/plain": [
              "VBox(children=(Label(value=' 0.67MB of 0.67MB uploaded (0.00MB deduped)\\r'), FloatProgress(value=1.0, max=1.0)…"
            ]
          },
          "metadata": {
            "tags": []
          }
        },
        {
          "output_type": "display_data",
          "data": {
            "text/html": [
              "Find user logs for this run at: <code>/content/wandb/run-20210729_075849-pp2j1em2/logs/debug.log</code>"
            ],
            "text/plain": [
              "<IPython.core.display.HTML object>"
            ]
          },
          "metadata": {
            "tags": []
          }
        },
        {
          "output_type": "display_data",
          "data": {
            "text/html": [
              "Find internal logs for this run at: <code>/content/wandb/run-20210729_075849-pp2j1em2/logs/debug-internal.log</code>"
            ],
            "text/plain": [
              "<IPython.core.display.HTML object>"
            ]
          },
          "metadata": {
            "tags": []
          }
        },
        {
          "output_type": "display_data",
          "data": {
            "text/html": [
              "<h3>Run summary:</h3><br/><style>\n",
              "    table.wandb td:nth-child(1) { padding: 0 10px; text-align: right }\n",
              "    </style><table class=\"wandb\">\n",
              "<tr><td>episode</td><td>3000</td></tr><tr><td>running_score</td><td>105.78708</td></tr><tr><td>_runtime</td><td>251</td></tr><tr><td>_timestamp</td><td>1627545780</td></tr><tr><td>_step</td><td>2999</td></tr></table>"
            ],
            "text/plain": [
              "<IPython.core.display.HTML object>"
            ]
          },
          "metadata": {
            "tags": []
          }
        },
        {
          "output_type": "display_data",
          "data": {
            "text/html": [
              "<h3>Run history:</h3><br/><style>\n",
              "    table.wandb td:nth-child(1) { padding: 0 10px; text-align: right }\n",
              "    </style><table class=\"wandb\">\n",
              "<tr><td>episode</td><td>▁▁▁▂▂▂▂▂▂▃▃▃▃▃▄▄▄▄▄▄▅▅▅▅▅▅▆▆▆▆▆▇▇▇▇▇▇███</td></tr><tr><td>running_score</td><td>▂▂▂▁▁▁▁▁▁▁▁▁▁▁▁▁▁▁▁▁▂▂▃▄▄▄▄▅▄▅▅▅▅▅▇▆█▆██</td></tr><tr><td>_runtime</td><td>▁▁▁▁▁▁▁▁▁▂▂▂▂▂▂▂▂▂▂▂▂▂▂▃▃▃▃▄▄▄▄▅▅▅▆▆▇▇▇█</td></tr><tr><td>_timestamp</td><td>▁▁▁▁▁▁▁▁▁▂▂▂▂▂▂▂▂▂▂▂▂▂▂▃▃▃▃▄▄▄▄▅▅▅▆▆▇▇▇█</td></tr><tr><td>_step</td><td>▁▁▁▂▂▂▂▂▂▃▃▃▃▃▄▄▄▄▄▄▅▅▅▅▅▅▆▆▆▆▆▇▇▇▇▇▇███</td></tr></table><br/>"
            ],
            "text/plain": [
              "<IPython.core.display.HTML object>"
            ]
          },
          "metadata": {
            "tags": []
          }
        },
        {
          "output_type": "display_data",
          "data": {
            "text/html": [
              "Synced 5 W&B file(s), 0 media file(s), 2 artifact file(s) and 9 other file(s)"
            ],
            "text/plain": [
              "<IPython.core.display.HTML object>"
            ]
          },
          "metadata": {
            "tags": []
          }
        },
        {
          "output_type": "display_data",
          "data": {
            "text/html": [
              "\n",
              "                    <br/>Synced <strong style=\"color:#cdcd00\">glorious-sweep-38</strong>: <a href=\"https://wandb.ai/ko120/Advantage_Actor_Critic/runs/pp2j1em2\" target=\"_blank\">https://wandb.ai/ko120/Advantage_Actor_Critic/runs/pp2j1em2</a><br/>\n",
              "                "
            ],
            "text/plain": [
              "<IPython.core.display.HTML object>"
            ]
          },
          "metadata": {
            "tags": []
          }
        },
        {
          "output_type": "stream",
          "text": [
            "\u001b[34m\u001b[1mwandb\u001b[0m: Agent Starting Run: 8wmt2pha with config:\n",
            "\u001b[34m\u001b[1mwandb\u001b[0m: \tactor_learning_rate: 0.0003\n",
            "\u001b[34m\u001b[1mwandb\u001b[0m: \tcritic_learning_rate: 1e-05\n",
            "\u001b[34m\u001b[1mwandb\u001b[0m: \tlearning: learn_mean\n",
            "\u001b[34m\u001b[1mwandb\u001b[0m: \tnum_neurons: 128\n",
            "\u001b[34m\u001b[1mwandb\u001b[0m: \toptimizer: RMSprop\n",
            "\u001b[34m\u001b[1mwandb\u001b[0m: \u001b[33mWARNING\u001b[0m Ignored wandb.init() arg project when running a sweep\n"
          ],
          "name": "stderr"
        },
        {
          "output_type": "display_data",
          "data": {
            "text/html": [
              "\n",
              "                Tracking run with wandb version 0.11.0<br/>\n",
              "                Syncing run <strong style=\"color:#cdcd00\">treasured-sweep-39</strong> to <a href=\"https://wandb.ai\" target=\"_blank\">Weights & Biases</a> <a href=\"https://docs.wandb.com/integrations/jupyter.html\" target=\"_blank\">(Documentation)</a>.<br/>\n",
              "                Project page: <a href=\"https://wandb.ai/ko120/Advantage_Actor_Critic\" target=\"_blank\">https://wandb.ai/ko120/Advantage_Actor_Critic</a><br/>\n",
              "                Sweep page: <a href=\"https://wandb.ai/ko120/Advantage_Actor_Critic/sweeps/t9gia22t\" target=\"_blank\">https://wandb.ai/ko120/Advantage_Actor_Critic/sweeps/t9gia22t</a><br/>\n",
              "Run page: <a href=\"https://wandb.ai/ko120/Advantage_Actor_Critic/runs/8wmt2pha\" target=\"_blank\">https://wandb.ai/ko120/Advantage_Actor_Critic/runs/8wmt2pha</a><br/>\n",
              "                Run data is saved locally in <code>/content/wandb/run-20210729_080307-8wmt2pha</code><br/><br/>\n",
              "            "
            ],
            "text/plain": [
              "<IPython.core.display.HTML object>"
            ]
          },
          "metadata": {
            "tags": []
          }
        },
        {
          "output_type": "stream",
          "text": [
            "episode 100 average reward 19.759001599443287, ended at 4.2\n",
            "episode 200 average reward 18.83928257902684, ended at 7.8\n",
            "episode 300 average reward 16.132467913846806, ended at 11.3\n",
            "episode 400 average reward 14.726555554513839, ended at 14.5\n",
            "episode 500 average reward 14.218417715904918, ended at 17.5\n",
            "episode 600 average reward 12.853564084634133, ended at 20.5\n",
            "episode 700 average reward 13.044082524228317, ended at 23.3\n",
            "episode 800 average reward 12.347061717727035, ended at 26.1\n",
            "episode 900 average reward 12.054297879166956, ended at 28.7\n",
            "episode 1000 average reward 11.899863019934644, ended at 31.2\n",
            "episode 1100 average reward 11.465858593825807, ended at 33.9\n",
            "episode 1200 average reward 12.041276514082554, ended at 36.4\n",
            "episode 1300 average reward 10.789123052113045, ended at 38.8\n",
            "episode 1400 average reward 10.692240612252908, ended at 41.2\n",
            "episode 1500 average reward 10.73221304039556, ended at 43.6\n",
            "episode 1600 average reward 9.93334281222339, ended at 46.1\n",
            "episode 1700 average reward 10.493487414216387, ended at 48.6\n",
            "episode 1800 average reward 9.823711346245501, ended at 51.0\n",
            "episode 1900 average reward 9.691156659188344, ended at 53.4\n",
            "episode 2000 average reward 9.529881697283306, ended at 55.8\n",
            "episode 2100 average reward 9.445652186367862, ended at 58.2\n",
            "episode 2200 average reward 9.768607172118514, ended at 60.5\n",
            "episode 2300 average reward 9.61843433172957, ended at 62.8\n",
            "episode 2400 average reward 9.532120774326792, ended at 65.2\n",
            "episode 2500 average reward 9.745547386354282, ended at 67.5\n",
            "episode 2600 average reward 9.632677750779733, ended at 69.8\n",
            "episode 2700 average reward 9.346595645423683, ended at 72.1\n",
            "episode 2800 average reward 9.421744476240104, ended at 74.1\n",
            "episode 2900 average reward 9.605879744108114, ended at 76.3\n",
            "episode 3000 average reward 9.288780776127206, ended at 78.5\n"
          ],
          "name": "stdout"
        },
        {
          "output_type": "display_data",
          "data": {
            "text/html": [
              "<br/>Waiting for W&B process to finish, PID 7338<br/>Program ended successfully."
            ],
            "text/plain": [
              "<IPython.core.display.HTML object>"
            ]
          },
          "metadata": {
            "tags": []
          }
        },
        {
          "output_type": "display_data",
          "data": {
            "application/vnd.jupyter.widget-view+json": {
              "model_id": "430c55c0cf8a407ca31ae0fb87573ef3",
              "version_minor": 0,
              "version_major": 2
            },
            "text/plain": [
              "VBox(children=(Label(value=' 0.68MB of 0.68MB uploaded (0.00MB deduped)\\r'), FloatProgress(value=1.0, max=1.0)…"
            ]
          },
          "metadata": {
            "tags": []
          }
        },
        {
          "output_type": "display_data",
          "data": {
            "text/html": [
              "Find user logs for this run at: <code>/content/wandb/run-20210729_080307-8wmt2pha/logs/debug.log</code>"
            ],
            "text/plain": [
              "<IPython.core.display.HTML object>"
            ]
          },
          "metadata": {
            "tags": []
          }
        },
        {
          "output_type": "display_data",
          "data": {
            "text/html": [
              "Find internal logs for this run at: <code>/content/wandb/run-20210729_080307-8wmt2pha/logs/debug-internal.log</code>"
            ],
            "text/plain": [
              "<IPython.core.display.HTML object>"
            ]
          },
          "metadata": {
            "tags": []
          }
        },
        {
          "output_type": "display_data",
          "data": {
            "text/html": [
              "<h3>Run summary:</h3><br/><style>\n",
              "    table.wandb td:nth-child(1) { padding: 0 10px; text-align: right }\n",
              "    </style><table class=\"wandb\">\n",
              "<tr><td>episode</td><td>3000</td></tr><tr><td>running_score</td><td>9.28878</td></tr><tr><td>_runtime</td><td>80</td></tr><tr><td>_timestamp</td><td>1627545868</td></tr><tr><td>_step</td><td>2999</td></tr></table>"
            ],
            "text/plain": [
              "<IPython.core.display.HTML object>"
            ]
          },
          "metadata": {
            "tags": []
          }
        },
        {
          "output_type": "display_data",
          "data": {
            "text/html": [
              "<h3>Run history:</h3><br/><style>\n",
              "    table.wandb td:nth-child(1) { padding: 0 10px; text-align: right }\n",
              "    </style><table class=\"wandb\">\n",
              "<tr><td>episode</td><td>▁▁▁▂▂▂▂▂▂▃▃▃▃▃▄▄▄▄▄▄▅▅▅▅▅▅▆▆▆▆▆▇▇▇▇▇▇███</td></tr><tr><td>running_score</td><td>█▇▇▅▅▅▄▅▄▄▃▃▃▃▂▂▂▂▂▂▂▁▂▁▁▁▁▁▂▁▁▁▁▁▁▁▁▁▁▁</td></tr><tr><td>_runtime</td><td>▁▁▁▂▂▂▂▃▃▃▃▃▄▄▄▄▄▄▅▅▅▅▅▅▆▆▆▆▆▆▇▇▇▇▇▇▇███</td></tr><tr><td>_timestamp</td><td>▁▁▁▂▂▂▂▃▃▃▃▃▄▄▄▄▄▄▅▅▅▅▅▅▆▆▆▆▆▆▇▇▇▇▇▇▇███</td></tr><tr><td>_step</td><td>▁▁▁▂▂▂▂▂▂▃▃▃▃▃▄▄▄▄▄▄▅▅▅▅▅▅▆▆▆▆▆▇▇▇▇▇▇███</td></tr></table><br/>"
            ],
            "text/plain": [
              "<IPython.core.display.HTML object>"
            ]
          },
          "metadata": {
            "tags": []
          }
        },
        {
          "output_type": "display_data",
          "data": {
            "text/html": [
              "Synced 5 W&B file(s), 0 media file(s), 2 artifact file(s) and 9 other file(s)"
            ],
            "text/plain": [
              "<IPython.core.display.HTML object>"
            ]
          },
          "metadata": {
            "tags": []
          }
        },
        {
          "output_type": "display_data",
          "data": {
            "text/html": [
              "\n",
              "                    <br/>Synced <strong style=\"color:#cdcd00\">treasured-sweep-39</strong>: <a href=\"https://wandb.ai/ko120/Advantage_Actor_Critic/runs/8wmt2pha\" target=\"_blank\">https://wandb.ai/ko120/Advantage_Actor_Critic/runs/8wmt2pha</a><br/>\n",
              "                "
            ],
            "text/plain": [
              "<IPython.core.display.HTML object>"
            ]
          },
          "metadata": {
            "tags": []
          }
        },
        {
          "output_type": "stream",
          "text": [
            "\u001b[34m\u001b[1mwandb\u001b[0m: Agent Starting Run: 38fzboec with config:\n",
            "\u001b[34m\u001b[1mwandb\u001b[0m: \tactor_learning_rate: 0.0003\n",
            "\u001b[34m\u001b[1mwandb\u001b[0m: \tcritic_learning_rate: 1e-05\n",
            "\u001b[34m\u001b[1mwandb\u001b[0m: \tlearning: learn_mean\n",
            "\u001b[34m\u001b[1mwandb\u001b[0m: \tnum_neurons: 128\n",
            "\u001b[34m\u001b[1mwandb\u001b[0m: \toptimizer: Adam\n",
            "\u001b[34m\u001b[1mwandb\u001b[0m: \u001b[33mWARNING\u001b[0m Ignored wandb.init() arg project when running a sweep\n"
          ],
          "name": "stderr"
        },
        {
          "output_type": "display_data",
          "data": {
            "text/html": [
              "\n",
              "                Tracking run with wandb version 0.11.0<br/>\n",
              "                Syncing run <strong style=\"color:#cdcd00\">misty-sweep-40</strong> to <a href=\"https://wandb.ai\" target=\"_blank\">Weights & Biases</a> <a href=\"https://docs.wandb.com/integrations/jupyter.html\" target=\"_blank\">(Documentation)</a>.<br/>\n",
              "                Project page: <a href=\"https://wandb.ai/ko120/Advantage_Actor_Critic\" target=\"_blank\">https://wandb.ai/ko120/Advantage_Actor_Critic</a><br/>\n",
              "                Sweep page: <a href=\"https://wandb.ai/ko120/Advantage_Actor_Critic/sweeps/t9gia22t\" target=\"_blank\">https://wandb.ai/ko120/Advantage_Actor_Critic/sweeps/t9gia22t</a><br/>\n",
              "Run page: <a href=\"https://wandb.ai/ko120/Advantage_Actor_Critic/runs/38fzboec\" target=\"_blank\">https://wandb.ai/ko120/Advantage_Actor_Critic/runs/38fzboec</a><br/>\n",
              "                Run data is saved locally in <code>/content/wandb/run-20210729_080435-38fzboec</code><br/><br/>\n",
              "            "
            ],
            "text/plain": [
              "<IPython.core.display.HTML object>"
            ]
          },
          "metadata": {
            "tags": []
          }
        },
        {
          "output_type": "stream",
          "text": [
            "episode 100 average reward 19.970456137377624, ended at 4.0\n",
            "episode 200 average reward 18.33940439908967, ended at 7.9\n",
            "episode 300 average reward 22.616620419767592, ended at 12.0\n",
            "episode 400 average reward 16.488991002163345, ended at 15.4\n",
            "episode 500 average reward 17.356493558267, ended at 19.0\n",
            "episode 600 average reward 15.614025681023794, ended at 22.4\n",
            "episode 700 average reward 14.612790190690209, ended at 25.9\n",
            "episode 800 average reward 13.233270839315264, ended at 29.0\n",
            "episode 900 average reward 13.530500703577475, ended at 32.2\n",
            "episode 1000 average reward 11.92427597056068, ended at 35.0\n",
            "episode 1100 average reward 11.58511239037678, ended at 37.9\n",
            "episode 1200 average reward 10.821141690892485, ended at 40.6\n",
            "episode 1300 average reward 11.060097934012466, ended at 43.2\n",
            "episode 1400 average reward 10.809512220284766, ended at 45.8\n",
            "episode 1500 average reward 10.734346900440663, ended at 48.4\n",
            "episode 1600 average reward 9.997196776910089, ended at 50.7\n",
            "episode 1700 average reward 10.318506600851661, ended at 53.0\n",
            "episode 1800 average reward 10.014980421094087, ended at 55.3\n",
            "episode 1900 average reward 9.699330628327232, ended at 57.6\n",
            "episode 2000 average reward 9.780845401453213, ended at 59.9\n",
            "episode 2100 average reward 9.714671193662035, ended at 62.2\n",
            "episode 2200 average reward 9.927033538377957, ended at 64.4\n",
            "episode 2300 average reward 9.447281990777281, ended at 66.7\n",
            "episode 2400 average reward 9.51061516141057, ended at 68.8\n",
            "episode 2500 average reward 9.668339675834599, ended at 71.0\n",
            "episode 2600 average reward 9.781698768295456, ended at 73.3\n",
            "episode 2700 average reward 9.328135814801998, ended at 75.5\n",
            "episode 2800 average reward 9.403678646847544, ended at 77.7\n",
            "episode 2900 average reward 9.708628941807294, ended at 80.0\n",
            "episode 3000 average reward 9.435077003915646, ended at 82.2\n"
          ],
          "name": "stdout"
        },
        {
          "output_type": "display_data",
          "data": {
            "text/html": [
              "<br/>Waiting for W&B process to finish, PID 7403<br/>Program ended successfully."
            ],
            "text/plain": [
              "<IPython.core.display.HTML object>"
            ]
          },
          "metadata": {
            "tags": []
          }
        },
        {
          "output_type": "display_data",
          "data": {
            "application/vnd.jupyter.widget-view+json": {
              "model_id": "76b6b91ea35643f9b205430778d80d59",
              "version_minor": 0,
              "version_major": 2
            },
            "text/plain": [
              "VBox(children=(Label(value=' 0.70MB of 0.70MB uploaded (0.00MB deduped)\\r'), FloatProgress(value=1.0, max=1.0)…"
            ]
          },
          "metadata": {
            "tags": []
          }
        },
        {
          "output_type": "display_data",
          "data": {
            "text/html": [
              "Find user logs for this run at: <code>/content/wandb/run-20210729_080435-38fzboec/logs/debug.log</code>"
            ],
            "text/plain": [
              "<IPython.core.display.HTML object>"
            ]
          },
          "metadata": {
            "tags": []
          }
        },
        {
          "output_type": "display_data",
          "data": {
            "text/html": [
              "Find internal logs for this run at: <code>/content/wandb/run-20210729_080435-38fzboec/logs/debug-internal.log</code>"
            ],
            "text/plain": [
              "<IPython.core.display.HTML object>"
            ]
          },
          "metadata": {
            "tags": []
          }
        },
        {
          "output_type": "display_data",
          "data": {
            "text/html": [
              "<h3>Run summary:</h3><br/><style>\n",
              "    table.wandb td:nth-child(1) { padding: 0 10px; text-align: right }\n",
              "    </style><table class=\"wandb\">\n",
              "<tr><td>episode</td><td>3000</td></tr><tr><td>running_score</td><td>9.43508</td></tr><tr><td>_runtime</td><td>84</td></tr><tr><td>_timestamp</td><td>1627545959</td></tr><tr><td>_step</td><td>2999</td></tr></table>"
            ],
            "text/plain": [
              "<IPython.core.display.HTML object>"
            ]
          },
          "metadata": {
            "tags": []
          }
        },
        {
          "output_type": "display_data",
          "data": {
            "text/html": [
              "<h3>Run history:</h3><br/><style>\n",
              "    table.wandb td:nth-child(1) { padding: 0 10px; text-align: right }\n",
              "    </style><table class=\"wandb\">\n",
              "<tr><td>episode</td><td>▁▁▁▂▂▂▂▂▂▃▃▃▃▃▄▄▄▄▄▄▅▅▅▅▅▅▆▆▆▆▆▇▇▇▇▇▇███</td></tr><tr><td>running_score</td><td>██▇▇▇▆▆▅▅▄▄▄▃▃▃▃▂▂▂▂▂▁▂▂▁▁▁▁▁▁▁▁▁▁▁▁▁▁▁▁</td></tr><tr><td>_runtime</td><td>▁▁▁▂▂▂▂▃▃▃▃▃▄▄▄▄▄▅▅▅▅▅▅▆▆▆▆▆▆▇▇▇▇▇▇▇▇███</td></tr><tr><td>_timestamp</td><td>▁▁▁▂▂▂▂▃▃▃▃▃▄▄▄▄▄▅▅▅▅▅▅▆▆▆▆▆▆▇▇▇▇▇▇▇▇███</td></tr><tr><td>_step</td><td>▁▁▁▂▂▂▂▂▂▃▃▃▃▃▄▄▄▄▄▄▅▅▅▅▅▅▆▆▆▆▆▇▇▇▇▇▇███</td></tr></table><br/>"
            ],
            "text/plain": [
              "<IPython.core.display.HTML object>"
            ]
          },
          "metadata": {
            "tags": []
          }
        },
        {
          "output_type": "display_data",
          "data": {
            "text/html": [
              "Synced 5 W&B file(s), 0 media file(s), 2 artifact file(s) and 9 other file(s)"
            ],
            "text/plain": [
              "<IPython.core.display.HTML object>"
            ]
          },
          "metadata": {
            "tags": []
          }
        },
        {
          "output_type": "display_data",
          "data": {
            "text/html": [
              "\n",
              "                    <br/>Synced <strong style=\"color:#cdcd00\">misty-sweep-40</strong>: <a href=\"https://wandb.ai/ko120/Advantage_Actor_Critic/runs/38fzboec\" target=\"_blank\">https://wandb.ai/ko120/Advantage_Actor_Critic/runs/38fzboec</a><br/>\n",
              "                "
            ],
            "text/plain": [
              "<IPython.core.display.HTML object>"
            ]
          },
          "metadata": {
            "tags": []
          }
        },
        {
          "output_type": "stream",
          "text": [
            "\u001b[34m\u001b[1mwandb\u001b[0m: Agent Starting Run: s29aqwrx with config:\n",
            "\u001b[34m\u001b[1mwandb\u001b[0m: \tactor_learning_rate: 1e-05\n",
            "\u001b[34m\u001b[1mwandb\u001b[0m: \tcritic_learning_rate: 0.01\n",
            "\u001b[34m\u001b[1mwandb\u001b[0m: \tlearning: learn_mean\n",
            "\u001b[34m\u001b[1mwandb\u001b[0m: \tnum_neurons: 128\n",
            "\u001b[34m\u001b[1mwandb\u001b[0m: \toptimizer: RMSprop\n",
            "\u001b[34m\u001b[1mwandb\u001b[0m: \u001b[33mWARNING\u001b[0m Ignored wandb.init() arg project when running a sweep\n"
          ],
          "name": "stderr"
        },
        {
          "output_type": "display_data",
          "data": {
            "text/html": [
              "\n",
              "                Tracking run with wandb version 0.11.0<br/>\n",
              "                Syncing run <strong style=\"color:#cdcd00\">fragrant-sweep-41</strong> to <a href=\"https://wandb.ai\" target=\"_blank\">Weights & Biases</a> <a href=\"https://docs.wandb.com/integrations/jupyter.html\" target=\"_blank\">(Documentation)</a>.<br/>\n",
              "                Project page: <a href=\"https://wandb.ai/ko120/Advantage_Actor_Critic\" target=\"_blank\">https://wandb.ai/ko120/Advantage_Actor_Critic</a><br/>\n",
              "                Sweep page: <a href=\"https://wandb.ai/ko120/Advantage_Actor_Critic/sweeps/t9gia22t\" target=\"_blank\">https://wandb.ai/ko120/Advantage_Actor_Critic/sweeps/t9gia22t</a><br/>\n",
              "Run page: <a href=\"https://wandb.ai/ko120/Advantage_Actor_Critic/runs/s29aqwrx\" target=\"_blank\">https://wandb.ai/ko120/Advantage_Actor_Critic/runs/s29aqwrx</a><br/>\n",
              "                Run data is saved locally in <code>/content/wandb/run-20210729_080606-s29aqwrx</code><br/><br/>\n",
              "            "
            ],
            "text/plain": [
              "<IPython.core.display.HTML object>"
            ]
          },
          "metadata": {
            "tags": []
          }
        },
        {
          "output_type": "stream",
          "text": [
            "episode 100 average reward 21.95019387420569, ended at 4.3\n",
            "episode 200 average reward 20.360769003620472, ended at 8.8\n",
            "episode 300 average reward 21.43147391284045, ended at 13.6\n",
            "episode 400 average reward 21.90724306005727, ended at 18.5\n",
            "episode 500 average reward 23.505307930427406, ended at 23.4\n",
            "episode 600 average reward 22.317767693736823, ended at 28.2\n",
            "episode 700 average reward 22.925962920730793, ended at 32.9\n",
            "episode 800 average reward 21.84474155152528, ended at 37.9\n",
            "episode 900 average reward 24.820318909016905, ended at 43.3\n",
            "episode 1000 average reward 23.209764496203817, ended at 49.0\n",
            "episode 1100 average reward 23.84764262749921, ended at 54.5\n",
            "episode 1200 average reward 21.352399616728455, ended at 59.4\n",
            "episode 1300 average reward 24.225489225900862, ended at 64.6\n",
            "episode 1400 average reward 25.879485957846626, ended at 69.9\n",
            "episode 1500 average reward 24.70576475567905, ended at 75.0\n",
            "episode 1600 average reward 25.366599527345656, ended at 80.4\n",
            "episode 1700 average reward 26.491239061963565, ended at 85.3\n",
            "episode 1800 average reward 26.66794984218396, ended at 91.2\n",
            "episode 1900 average reward 26.126631240458835, ended at 96.7\n",
            "episode 2000 average reward 29.89640983145129, ended at 102.9\n",
            "episode 2100 average reward 28.345994046308203, ended at 108.9\n",
            "episode 2200 average reward 29.497006880205465, ended at 114.6\n",
            "episode 2300 average reward 28.198044140913368, ended at 120.7\n",
            "episode 2400 average reward 29.25539290335392, ended at 126.4\n",
            "episode 2500 average reward 28.69098408373632, ended at 132.4\n",
            "episode 2600 average reward 29.82859627402158, ended at 138.3\n",
            "episode 2700 average reward 30.154102613938367, ended at 144.3\n",
            "episode 2800 average reward 30.052067174616617, ended at 150.7\n",
            "episode 2900 average reward 29.00186757688782, ended at 156.8\n",
            "episode 3000 average reward 35.326851181261084, ended at 163.1\n"
          ],
          "name": "stdout"
        },
        {
          "output_type": "display_data",
          "data": {
            "text/html": [
              "<br/>Waiting for W&B process to finish, PID 7468<br/>Program ended successfully."
            ],
            "text/plain": [
              "<IPython.core.display.HTML object>"
            ]
          },
          "metadata": {
            "tags": []
          }
        },
        {
          "output_type": "display_data",
          "data": {
            "application/vnd.jupyter.widget-view+json": {
              "model_id": "494e1c1ce6634714acdcaa10495dedcf",
              "version_minor": 0,
              "version_major": 2
            },
            "text/plain": [
              "VBox(children=(Label(value=' 0.71MB of 0.71MB uploaded (0.00MB deduped)\\r'), FloatProgress(value=1.0, max=1.0)…"
            ]
          },
          "metadata": {
            "tags": []
          }
        },
        {
          "output_type": "display_data",
          "data": {
            "text/html": [
              "Find user logs for this run at: <code>/content/wandb/run-20210729_080606-s29aqwrx/logs/debug.log</code>"
            ],
            "text/plain": [
              "<IPython.core.display.HTML object>"
            ]
          },
          "metadata": {
            "tags": []
          }
        },
        {
          "output_type": "display_data",
          "data": {
            "text/html": [
              "Find internal logs for this run at: <code>/content/wandb/run-20210729_080606-s29aqwrx/logs/debug-internal.log</code>"
            ],
            "text/plain": [
              "<IPython.core.display.HTML object>"
            ]
          },
          "metadata": {
            "tags": []
          }
        },
        {
          "output_type": "display_data",
          "data": {
            "text/html": [
              "<h3>Run summary:</h3><br/><style>\n",
              "    table.wandb td:nth-child(1) { padding: 0 10px; text-align: right }\n",
              "    </style><table class=\"wandb\">\n",
              "<tr><td>episode</td><td>3000</td></tr><tr><td>running_score</td><td>35.32685</td></tr><tr><td>_runtime</td><td>165</td></tr><tr><td>_timestamp</td><td>1627546131</td></tr><tr><td>_step</td><td>2999</td></tr></table>"
            ],
            "text/plain": [
              "<IPython.core.display.HTML object>"
            ]
          },
          "metadata": {
            "tags": []
          }
        },
        {
          "output_type": "display_data",
          "data": {
            "text/html": [
              "<h3>Run history:</h3><br/><style>\n",
              "    table.wandb td:nth-child(1) { padding: 0 10px; text-align: right }\n",
              "    </style><table class=\"wandb\">\n",
              "<tr><td>episode</td><td>▁▁▁▂▂▂▂▂▂▃▃▃▃▃▄▄▄▄▄▄▅▅▅▅▅▅▆▆▆▆▆▇▇▇▇▇▇███</td></tr><tr><td>running_score</td><td>▁▂▁▂▁▃▁▁▂▂▄▃▃▄▄▄▃▄▄▄▄▄▃▅▅▅▇▅▅▆▅▇▇▆█▄█▅█▇</td></tr><tr><td>_runtime</td><td>▁▁▁▁▂▂▂▂▂▂▃▃▃▃▃▃▄▄▄▄▄▄▅▅▅▅▅▆▆▆▆▆▇▇▇▇▇███</td></tr><tr><td>_timestamp</td><td>▁▁▁▁▂▂▂▂▂▂▃▃▃▃▃▃▄▄▄▄▄▄▅▅▅▅▅▆▆▆▆▆▇▇▇▇▇███</td></tr><tr><td>_step</td><td>▁▁▁▂▂▂▂▂▂▃▃▃▃▃▄▄▄▄▄▄▅▅▅▅▅▅▆▆▆▆▆▇▇▇▇▇▇███</td></tr></table><br/>"
            ],
            "text/plain": [
              "<IPython.core.display.HTML object>"
            ]
          },
          "metadata": {
            "tags": []
          }
        },
        {
          "output_type": "display_data",
          "data": {
            "text/html": [
              "Synced 5 W&B file(s), 0 media file(s), 2 artifact file(s) and 9 other file(s)"
            ],
            "text/plain": [
              "<IPython.core.display.HTML object>"
            ]
          },
          "metadata": {
            "tags": []
          }
        },
        {
          "output_type": "display_data",
          "data": {
            "text/html": [
              "\n",
              "                    <br/>Synced <strong style=\"color:#cdcd00\">fragrant-sweep-41</strong>: <a href=\"https://wandb.ai/ko120/Advantage_Actor_Critic/runs/s29aqwrx\" target=\"_blank\">https://wandb.ai/ko120/Advantage_Actor_Critic/runs/s29aqwrx</a><br/>\n",
              "                "
            ],
            "text/plain": [
              "<IPython.core.display.HTML object>"
            ]
          },
          "metadata": {
            "tags": []
          }
        },
        {
          "output_type": "stream",
          "text": [
            "\u001b[34m\u001b[1mwandb\u001b[0m: Agent Starting Run: c77dn7uw with config:\n",
            "\u001b[34m\u001b[1mwandb\u001b[0m: \tactor_learning_rate: 1e-05\n",
            "\u001b[34m\u001b[1mwandb\u001b[0m: \tcritic_learning_rate: 0.01\n",
            "\u001b[34m\u001b[1mwandb\u001b[0m: \tlearning: learn_mean\n",
            "\u001b[34m\u001b[1mwandb\u001b[0m: \tnum_neurons: 128\n",
            "\u001b[34m\u001b[1mwandb\u001b[0m: \toptimizer: Adam\n",
            "\u001b[34m\u001b[1mwandb\u001b[0m: \u001b[33mWARNING\u001b[0m Ignored wandb.init() arg project when running a sweep\n"
          ],
          "name": "stderr"
        },
        {
          "output_type": "display_data",
          "data": {
            "text/html": [
              "\n",
              "                Tracking run with wandb version 0.11.0<br/>\n",
              "                Syncing run <strong style=\"color:#cdcd00\">amber-sweep-42</strong> to <a href=\"https://wandb.ai\" target=\"_blank\">Weights & Biases</a> <a href=\"https://docs.wandb.com/integrations/jupyter.html\" target=\"_blank\">(Documentation)</a>.<br/>\n",
              "                Project page: <a href=\"https://wandb.ai/ko120/Advantage_Actor_Critic\" target=\"_blank\">https://wandb.ai/ko120/Advantage_Actor_Critic</a><br/>\n",
              "                Sweep page: <a href=\"https://wandb.ai/ko120/Advantage_Actor_Critic/sweeps/t9gia22t\" target=\"_blank\">https://wandb.ai/ko120/Advantage_Actor_Critic/sweeps/t9gia22t</a><br/>\n",
              "Run page: <a href=\"https://wandb.ai/ko120/Advantage_Actor_Critic/runs/c77dn7uw\" target=\"_blank\">https://wandb.ai/ko120/Advantage_Actor_Critic/runs/c77dn7uw</a><br/>\n",
              "                Run data is saved locally in <code>/content/wandb/run-20210729_080857-c77dn7uw</code><br/><br/>\n",
              "            "
            ],
            "text/plain": [
              "<IPython.core.display.HTML object>"
            ]
          },
          "metadata": {
            "tags": []
          }
        },
        {
          "output_type": "stream",
          "text": [
            "episode 100 average reward 25.183558096789277, ended at 4.6\n",
            "episode 200 average reward 22.09731240420407, ended at 9.3\n",
            "episode 300 average reward 18.95188295862078, ended at 13.8\n",
            "episode 400 average reward 20.81537449814472, ended at 18.5\n",
            "episode 500 average reward 20.427939106069324, ended at 23.3\n",
            "episode 600 average reward 23.343444886091618, ended at 27.8\n",
            "episode 700 average reward 22.044628126027856, ended at 32.2\n",
            "episode 800 average reward 23.902509872048235, ended at 37.0\n",
            "episode 900 average reward 23.95846215918607, ended at 41.9\n",
            "episode 1000 average reward 22.534066073683455, ended at 47.0\n",
            "episode 1100 average reward 29.35736878676489, ended at 52.0\n",
            "episode 1200 average reward 21.763375164169535, ended at 57.1\n",
            "episode 1300 average reward 21.124084094605927, ended at 61.9\n",
            "episode 1400 average reward 26.188337386922143, ended at 67.7\n",
            "episode 1500 average reward 23.94721826700816, ended at 73.1\n",
            "episode 1600 average reward 23.949953705708555, ended at 78.6\n",
            "episode 1700 average reward 26.983331848835846, ended at 84.1\n",
            "episode 1800 average reward 27.266173033585204, ended at 89.6\n",
            "episode 1900 average reward 31.61057013315248, ended at 95.5\n",
            "episode 2000 average reward 28.275705622475606, ended at 101.1\n",
            "episode 2100 average reward 26.455273593542348, ended at 106.8\n",
            "episode 2200 average reward 31.29918224987871, ended at 112.5\n",
            "episode 2300 average reward 28.10879947539053, ended at 118.1\n",
            "episode 2400 average reward 25.19112285608898, ended at 123.5\n",
            "episode 2500 average reward 28.497889570963494, ended at 129.7\n",
            "episode 2600 average reward 34.476477683130355, ended at 137.0\n",
            "episode 2700 average reward 29.430146461782904, ended at 142.8\n",
            "episode 2800 average reward 29.948105476998293, ended at 149.5\n",
            "episode 2900 average reward 30.8877514331712, ended at 155.1\n",
            "episode 3000 average reward 29.969693671218305, ended at 161.0\n"
          ],
          "name": "stdout"
        },
        {
          "output_type": "display_data",
          "data": {
            "text/html": [
              "<br/>Waiting for W&B process to finish, PID 7549<br/>Program ended successfully."
            ],
            "text/plain": [
              "<IPython.core.display.HTML object>"
            ]
          },
          "metadata": {
            "tags": []
          }
        },
        {
          "output_type": "display_data",
          "data": {
            "application/vnd.jupyter.widget-view+json": {
              "model_id": "736696e0f97e4069a8b5ed1778003c60",
              "version_minor": 0,
              "version_major": 2
            },
            "text/plain": [
              "VBox(children=(Label(value=' 0.72MB of 0.72MB uploaded (0.00MB deduped)\\r'), FloatProgress(value=1.0, max=1.0)…"
            ]
          },
          "metadata": {
            "tags": []
          }
        },
        {
          "output_type": "display_data",
          "data": {
            "text/html": [
              "Find user logs for this run at: <code>/content/wandb/run-20210729_080857-c77dn7uw/logs/debug.log</code>"
            ],
            "text/plain": [
              "<IPython.core.display.HTML object>"
            ]
          },
          "metadata": {
            "tags": []
          }
        },
        {
          "output_type": "display_data",
          "data": {
            "text/html": [
              "Find internal logs for this run at: <code>/content/wandb/run-20210729_080857-c77dn7uw/logs/debug-internal.log</code>"
            ],
            "text/plain": [
              "<IPython.core.display.HTML object>"
            ]
          },
          "metadata": {
            "tags": []
          }
        },
        {
          "output_type": "display_data",
          "data": {
            "text/html": [
              "<h3>Run summary:</h3><br/><style>\n",
              "    table.wandb td:nth-child(1) { padding: 0 10px; text-align: right }\n",
              "    </style><table class=\"wandb\">\n",
              "<tr><td>episode</td><td>3000</td></tr><tr><td>running_score</td><td>29.96969</td></tr><tr><td>_runtime</td><td>164</td></tr><tr><td>_timestamp</td><td>1627546301</td></tr><tr><td>_step</td><td>2999</td></tr></table>"
            ],
            "text/plain": [
              "<IPython.core.display.HTML object>"
            ]
          },
          "metadata": {
            "tags": []
          }
        },
        {
          "output_type": "display_data",
          "data": {
            "text/html": [
              "<h3>Run history:</h3><br/><style>\n",
              "    table.wandb td:nth-child(1) { padding: 0 10px; text-align: right }\n",
              "    </style><table class=\"wandb\">\n",
              "<tr><td>episode</td><td>▁▁▁▂▂▂▂▂▂▃▃▃▃▃▄▄▄▄▄▄▅▅▅▅▅▅▆▆▆▆▆▇▇▇▇▇▇███</td></tr><tr><td>running_score</td><td>▁▄▂▃▁▃▃▂▂▃▃▃▅▃▄▃▁▃▅▅▃▃▄▆▆▅▇▅▄▆▄▅▆▅█▄▇▅▇▅</td></tr><tr><td>_runtime</td><td>▁▁▁▁▂▂▂▂▂▂▃▃▃▃▃▃▃▄▄▄▄▄▅▅▅▅▅▆▆▆▆▆▆▇▇▇▇███</td></tr><tr><td>_timestamp</td><td>▁▁▁▁▂▂▂▂▂▂▃▃▃▃▃▃▃▄▄▄▄▄▅▅▅▅▅▆▆▆▆▆▆▇▇▇▇███</td></tr><tr><td>_step</td><td>▁▁▁▂▂▂▂▂▂▃▃▃▃▃▄▄▄▄▄▄▅▅▅▅▅▅▆▆▆▆▆▇▇▇▇▇▇███</td></tr></table><br/>"
            ],
            "text/plain": [
              "<IPython.core.display.HTML object>"
            ]
          },
          "metadata": {
            "tags": []
          }
        },
        {
          "output_type": "display_data",
          "data": {
            "text/html": [
              "Synced 5 W&B file(s), 0 media file(s), 2 artifact file(s) and 9 other file(s)"
            ],
            "text/plain": [
              "<IPython.core.display.HTML object>"
            ]
          },
          "metadata": {
            "tags": []
          }
        },
        {
          "output_type": "display_data",
          "data": {
            "text/html": [
              "\n",
              "                    <br/>Synced <strong style=\"color:#cdcd00\">amber-sweep-42</strong>: <a href=\"https://wandb.ai/ko120/Advantage_Actor_Critic/runs/c77dn7uw\" target=\"_blank\">https://wandb.ai/ko120/Advantage_Actor_Critic/runs/c77dn7uw</a><br/>\n",
              "                "
            ],
            "text/plain": [
              "<IPython.core.display.HTML object>"
            ]
          },
          "metadata": {
            "tags": []
          }
        },
        {
          "output_type": "stream",
          "text": [
            "\u001b[34m\u001b[1mwandb\u001b[0m: Agent Starting Run: 3szcfqxz with config:\n",
            "\u001b[34m\u001b[1mwandb\u001b[0m: \tactor_learning_rate: 1e-05\n",
            "\u001b[34m\u001b[1mwandb\u001b[0m: \tcritic_learning_rate: 0.001\n",
            "\u001b[34m\u001b[1mwandb\u001b[0m: \tlearning: learn_mean\n",
            "\u001b[34m\u001b[1mwandb\u001b[0m: \tnum_neurons: 128\n",
            "\u001b[34m\u001b[1mwandb\u001b[0m: \toptimizer: RMSprop\n",
            "\u001b[34m\u001b[1mwandb\u001b[0m: \u001b[33mWARNING\u001b[0m Ignored wandb.init() arg project when running a sweep\n"
          ],
          "name": "stderr"
        },
        {
          "output_type": "display_data",
          "data": {
            "text/html": [
              "\n",
              "                Tracking run with wandb version 0.11.0<br/>\n",
              "                Syncing run <strong style=\"color:#cdcd00\">mild-sweep-43</strong> to <a href=\"https://wandb.ai\" target=\"_blank\">Weights & Biases</a> <a href=\"https://docs.wandb.com/integrations/jupyter.html\" target=\"_blank\">(Documentation)</a>.<br/>\n",
              "                Project page: <a href=\"https://wandb.ai/ko120/Advantage_Actor_Critic\" target=\"_blank\">https://wandb.ai/ko120/Advantage_Actor_Critic</a><br/>\n",
              "                Sweep page: <a href=\"https://wandb.ai/ko120/Advantage_Actor_Critic/sweeps/t9gia22t\" target=\"_blank\">https://wandb.ai/ko120/Advantage_Actor_Critic/sweeps/t9gia22t</a><br/>\n",
              "Run page: <a href=\"https://wandb.ai/ko120/Advantage_Actor_Critic/runs/3szcfqxz\" target=\"_blank\">https://wandb.ai/ko120/Advantage_Actor_Critic/runs/3szcfqxz</a><br/>\n",
              "                Run data is saved locally in <code>/content/wandb/run-20210729_081147-3szcfqxz</code><br/><br/>\n",
              "            "
            ],
            "text/plain": [
              "<IPython.core.display.HTML object>"
            ]
          },
          "metadata": {
            "tags": []
          }
        },
        {
          "output_type": "stream",
          "text": [
            "episode 100 average reward 22.367287454687165, ended at 4.3\n",
            "episode 200 average reward 21.09734712643457, ended at 8.7\n",
            "episode 300 average reward 21.086356247483565, ended at 13.0\n",
            "episode 400 average reward 19.07091953175093, ended at 17.0\n",
            "episode 500 average reward 21.446973883224867, ended at 21.3\n",
            "episode 600 average reward 22.44389009138466, ended at 25.9\n",
            "episode 700 average reward 22.740254820868813, ended at 31.1\n",
            "episode 800 average reward 22.213804577407526, ended at 35.8\n",
            "episode 900 average reward 22.39220400560287, ended at 40.5\n",
            "episode 1000 average reward 22.35563515144277, ended at 45.2\n",
            "episode 1100 average reward 21.601274206693393, ended at 49.8\n",
            "episode 1200 average reward 22.44597402414551, ended at 54.6\n",
            "episode 1300 average reward 23.214153078455215, ended at 59.5\n",
            "episode 1400 average reward 22.944035426503444, ended at 64.5\n",
            "episode 1500 average reward 24.02908698567394, ended at 69.8\n",
            "episode 1600 average reward 23.963746313035895, ended at 75.1\n",
            "episode 1700 average reward 23.9659088138343, ended at 80.2\n",
            "episode 1800 average reward 25.132072555919155, ended at 85.1\n",
            "episode 1900 average reward 29.940422350183184, ended at 90.6\n",
            "episode 2000 average reward 24.800128455284895, ended at 96.0\n",
            "episode 2100 average reward 24.80650780015279, ended at 101.1\n",
            "episode 2200 average reward 25.41551337378967, ended at 106.1\n",
            "episode 2300 average reward 26.095781666931952, ended at 111.7\n",
            "episode 2400 average reward 28.060432349112777, ended at 117.4\n",
            "episode 2500 average reward 29.385507952698177, ended at 123.6\n",
            "episode 2600 average reward 26.76049408346811, ended at 129.7\n",
            "episode 2700 average reward 27.93836002070657, ended at 135.6\n",
            "episode 2800 average reward 30.82898662191712, ended at 141.6\n",
            "episode 2900 average reward 30.096623573304832, ended at 147.7\n",
            "episode 3000 average reward 33.19377339497564, ended at 154.1\n"
          ],
          "name": "stdout"
        },
        {
          "output_type": "display_data",
          "data": {
            "text/html": [
              "<br/>Waiting for W&B process to finish, PID 7628<br/>Program ended successfully."
            ],
            "text/plain": [
              "<IPython.core.display.HTML object>"
            ]
          },
          "metadata": {
            "tags": []
          }
        },
        {
          "output_type": "display_data",
          "data": {
            "application/vnd.jupyter.widget-view+json": {
              "model_id": "02f64ca9fc2c4dfda0b2411f54f63742",
              "version_minor": 0,
              "version_major": 2
            },
            "text/plain": [
              "VBox(children=(Label(value=' 0.74MB of 0.74MB uploaded (0.00MB deduped)\\r'), FloatProgress(value=1.0, max=1.0)…"
            ]
          },
          "metadata": {
            "tags": []
          }
        },
        {
          "output_type": "display_data",
          "data": {
            "text/html": [
              "Find user logs for this run at: <code>/content/wandb/run-20210729_081147-3szcfqxz/logs/debug.log</code>"
            ],
            "text/plain": [
              "<IPython.core.display.HTML object>"
            ]
          },
          "metadata": {
            "tags": []
          }
        },
        {
          "output_type": "display_data",
          "data": {
            "text/html": [
              "Find internal logs for this run at: <code>/content/wandb/run-20210729_081147-3szcfqxz/logs/debug-internal.log</code>"
            ],
            "text/plain": [
              "<IPython.core.display.HTML object>"
            ]
          },
          "metadata": {
            "tags": []
          }
        },
        {
          "output_type": "display_data",
          "data": {
            "text/html": [
              "<h3>Run summary:</h3><br/><style>\n",
              "    table.wandb td:nth-child(1) { padding: 0 10px; text-align: right }\n",
              "    </style><table class=\"wandb\">\n",
              "<tr><td>episode</td><td>3000</td></tr><tr><td>running_score</td><td>33.19377</td></tr><tr><td>_runtime</td><td>156</td></tr><tr><td>_timestamp</td><td>1627546463</td></tr><tr><td>_step</td><td>2999</td></tr></table>"
            ],
            "text/plain": [
              "<IPython.core.display.HTML object>"
            ]
          },
          "metadata": {
            "tags": []
          }
        },
        {
          "output_type": "display_data",
          "data": {
            "text/html": [
              "<h3>Run history:</h3><br/><style>\n",
              "    table.wandb td:nth-child(1) { padding: 0 10px; text-align: right }\n",
              "    </style><table class=\"wandb\">\n",
              "<tr><td>episode</td><td>▁▁▁▂▂▂▂▂▂▃▃▃▃▃▄▄▄▄▄▄▅▅▅▅▅▅▆▆▆▆▆▇▇▇▇▇▇███</td></tr><tr><td>running_score</td><td>▂▄▃▃▁▁▂▂▄▃▂▂▂▃▄▄▃▄▃▃▄▄▃▅▅█▄▄▆▆▆▆█▇▆▆▅█▇█</td></tr><tr><td>_runtime</td><td>▁▁▁▁▂▂▂▂▂▂▃▃▃▃▃▃▄▄▄▄▄▄▅▅▅▅▅▅▆▆▆▆▆▇▇▇▇███</td></tr><tr><td>_timestamp</td><td>▁▁▁▁▂▂▂▂▂▂▃▃▃▃▃▃▄▄▄▄▄▄▅▅▅▅▅▅▆▆▆▆▆▇▇▇▇███</td></tr><tr><td>_step</td><td>▁▁▁▂▂▂▂▂▂▃▃▃▃▃▄▄▄▄▄▄▅▅▅▅▅▅▆▆▆▆▆▇▇▇▇▇▇███</td></tr></table><br/>"
            ],
            "text/plain": [
              "<IPython.core.display.HTML object>"
            ]
          },
          "metadata": {
            "tags": []
          }
        },
        {
          "output_type": "display_data",
          "data": {
            "text/html": [
              "Synced 5 W&B file(s), 0 media file(s), 2 artifact file(s) and 9 other file(s)"
            ],
            "text/plain": [
              "<IPython.core.display.HTML object>"
            ]
          },
          "metadata": {
            "tags": []
          }
        },
        {
          "output_type": "display_data",
          "data": {
            "text/html": [
              "\n",
              "                    <br/>Synced <strong style=\"color:#cdcd00\">mild-sweep-43</strong>: <a href=\"https://wandb.ai/ko120/Advantage_Actor_Critic/runs/3szcfqxz\" target=\"_blank\">https://wandb.ai/ko120/Advantage_Actor_Critic/runs/3szcfqxz</a><br/>\n",
              "                "
            ],
            "text/plain": [
              "<IPython.core.display.HTML object>"
            ]
          },
          "metadata": {
            "tags": []
          }
        },
        {
          "output_type": "stream",
          "text": [
            "\u001b[34m\u001b[1mwandb\u001b[0m: Agent Starting Run: p1vox139 with config:\n",
            "\u001b[34m\u001b[1mwandb\u001b[0m: \tactor_learning_rate: 1e-05\n",
            "\u001b[34m\u001b[1mwandb\u001b[0m: \tcritic_learning_rate: 0.001\n",
            "\u001b[34m\u001b[1mwandb\u001b[0m: \tlearning: learn_mean\n",
            "\u001b[34m\u001b[1mwandb\u001b[0m: \tnum_neurons: 128\n",
            "\u001b[34m\u001b[1mwandb\u001b[0m: \toptimizer: Adam\n",
            "\u001b[34m\u001b[1mwandb\u001b[0m: \u001b[33mWARNING\u001b[0m Ignored wandb.init() arg project when running a sweep\n"
          ],
          "name": "stderr"
        },
        {
          "output_type": "display_data",
          "data": {
            "text/html": [
              "\n",
              "                Tracking run with wandb version 0.11.0<br/>\n",
              "                Syncing run <strong style=\"color:#cdcd00\">icy-sweep-44</strong> to <a href=\"https://wandb.ai\" target=\"_blank\">Weights & Biases</a> <a href=\"https://docs.wandb.com/integrations/jupyter.html\" target=\"_blank\">(Documentation)</a>.<br/>\n",
              "                Project page: <a href=\"https://wandb.ai/ko120/Advantage_Actor_Critic\" target=\"_blank\">https://wandb.ai/ko120/Advantage_Actor_Critic</a><br/>\n",
              "                Sweep page: <a href=\"https://wandb.ai/ko120/Advantage_Actor_Critic/sweeps/t9gia22t\" target=\"_blank\">https://wandb.ai/ko120/Advantage_Actor_Critic/sweeps/t9gia22t</a><br/>\n",
              "Run page: <a href=\"https://wandb.ai/ko120/Advantage_Actor_Critic/runs/p1vox139\" target=\"_blank\">https://wandb.ai/ko120/Advantage_Actor_Critic/runs/p1vox139</a><br/>\n",
              "                Run data is saved locally in <code>/content/wandb/run-20210729_081430-p1vox139</code><br/><br/>\n",
              "            "
            ],
            "text/plain": [
              "<IPython.core.display.HTML object>"
            ]
          },
          "metadata": {
            "tags": []
          }
        },
        {
          "output_type": "stream",
          "text": [
            "episode 100 average reward 22.34919068439769, ended at 4.1\n",
            "episode 200 average reward 20.66534585328419, ended at 8.2\n",
            "episode 300 average reward 19.201035829160674, ended at 12.1\n",
            "episode 400 average reward 19.580921539726333, ended at 16.2\n",
            "episode 500 average reward 21.743766527948086, ended at 20.5\n",
            "episode 600 average reward 23.232366248234126, ended at 25.2\n",
            "episode 700 average reward 21.200700744424502, ended at 29.8\n",
            "episode 800 average reward 18.946109418940253, ended at 34.4\n",
            "episode 900 average reward 20.282878591200983, ended at 39.0\n",
            "episode 1000 average reward 22.960426895065453, ended at 44.0\n",
            "episode 1100 average reward 23.386347373260463, ended at 49.2\n",
            "episode 1200 average reward 22.642027309978037, ended at 53.9\n",
            "episode 1300 average reward 22.626267641308516, ended at 58.8\n",
            "episode 1400 average reward 27.662426646330214, ended at 64.3\n",
            "episode 1500 average reward 24.86848499096924, ended at 69.1\n",
            "episode 1600 average reward 27.05134640812649, ended at 74.2\n",
            "episode 1700 average reward 28.628119813601486, ended at 79.5\n",
            "episode 1800 average reward 26.541006490360243, ended at 84.9\n",
            "episode 1900 average reward 27.344345180990064, ended at 90.8\n",
            "episode 2000 average reward 27.73665568258811, ended at 96.2\n",
            "episode 2100 average reward 27.09160663640921, ended at 101.7\n",
            "episode 2200 average reward 27.512162599893035, ended at 107.7\n",
            "episode 2300 average reward 29.55027223887972, ended at 113.4\n",
            "episode 2400 average reward 26.95185927112316, ended at 119.0\n",
            "episode 2500 average reward 31.47662012391937, ended at 125.3\n",
            "episode 2600 average reward 31.172306697543842, ended at 130.9\n",
            "episode 2700 average reward 29.811869271503316, ended at 136.8\n",
            "episode 2800 average reward 35.6429085912697, ended at 143.0\n",
            "episode 2900 average reward 30.25146181087913, ended at 149.2\n",
            "episode 3000 average reward 34.27846388268513, ended at 155.4\n"
          ],
          "name": "stdout"
        },
        {
          "output_type": "display_data",
          "data": {
            "text/html": [
              "<br/>Waiting for W&B process to finish, PID 7709<br/>Program ended successfully."
            ],
            "text/plain": [
              "<IPython.core.display.HTML object>"
            ]
          },
          "metadata": {
            "tags": []
          }
        },
        {
          "output_type": "display_data",
          "data": {
            "application/vnd.jupyter.widget-view+json": {
              "model_id": "9c05277984ba43408e43f840012ae94a",
              "version_minor": 0,
              "version_major": 2
            },
            "text/plain": [
              "VBox(children=(Label(value=' 0.75MB of 0.75MB uploaded (0.00MB deduped)\\r'), FloatProgress(value=1.0, max=1.0)…"
            ]
          },
          "metadata": {
            "tags": []
          }
        },
        {
          "output_type": "display_data",
          "data": {
            "text/html": [
              "Find user logs for this run at: <code>/content/wandb/run-20210729_081430-p1vox139/logs/debug.log</code>"
            ],
            "text/plain": [
              "<IPython.core.display.HTML object>"
            ]
          },
          "metadata": {
            "tags": []
          }
        },
        {
          "output_type": "display_data",
          "data": {
            "text/html": [
              "Find internal logs for this run at: <code>/content/wandb/run-20210729_081430-p1vox139/logs/debug-internal.log</code>"
            ],
            "text/plain": [
              "<IPython.core.display.HTML object>"
            ]
          },
          "metadata": {
            "tags": []
          }
        },
        {
          "output_type": "display_data",
          "data": {
            "text/html": [
              "<h3>Run summary:</h3><br/><style>\n",
              "    table.wandb td:nth-child(1) { padding: 0 10px; text-align: right }\n",
              "    </style><table class=\"wandb\">\n",
              "<tr><td>episode</td><td>3000</td></tr><tr><td>running_score</td><td>34.27846</td></tr><tr><td>_runtime</td><td>157</td></tr><tr><td>_timestamp</td><td>1627546627</td></tr><tr><td>_step</td><td>2999</td></tr></table>"
            ],
            "text/plain": [
              "<IPython.core.display.HTML object>"
            ]
          },
          "metadata": {
            "tags": []
          }
        },
        {
          "output_type": "display_data",
          "data": {
            "text/html": [
              "<h3>Run history:</h3><br/><style>\n",
              "    table.wandb td:nth-child(1) { padding: 0 10px; text-align: right }\n",
              "    </style><table class=\"wandb\">\n",
              "<tr><td>episode</td><td>▁▁▁▂▂▂▂▂▂▃▃▃▃▃▄▄▄▄▄▄▅▅▅▅▅▅▆▆▆▆▆▇▇▇▇▇▇███</td></tr><tr><td>running_score</td><td>▁▃▁▂▁▁▂▃▂▃▂▁▂▃▃▂▂▄▅▃▅▅▄▄▆▅▃▄▇▅▄▅▇▆▅▇▇▆█▇</td></tr><tr><td>_runtime</td><td>▁▁▁▁▂▂▂▂▂▂▂▃▃▃▃▃▃▄▄▄▄▄▄▅▅▅▅▅▆▆▆▆▆▇▇▇▇███</td></tr><tr><td>_timestamp</td><td>▁▁▁▁▂▂▂▂▂▂▂▃▃▃▃▃▃▄▄▄▄▄▄▅▅▅▅▅▆▆▆▆▆▇▇▇▇███</td></tr><tr><td>_step</td><td>▁▁▁▂▂▂▂▂▂▃▃▃▃▃▄▄▄▄▄▄▅▅▅▅▅▅▆▆▆▆▆▇▇▇▇▇▇███</td></tr></table><br/>"
            ],
            "text/plain": [
              "<IPython.core.display.HTML object>"
            ]
          },
          "metadata": {
            "tags": []
          }
        },
        {
          "output_type": "display_data",
          "data": {
            "text/html": [
              "Synced 5 W&B file(s), 0 media file(s), 2 artifact file(s) and 9 other file(s)"
            ],
            "text/plain": [
              "<IPython.core.display.HTML object>"
            ]
          },
          "metadata": {
            "tags": []
          }
        },
        {
          "output_type": "display_data",
          "data": {
            "text/html": [
              "\n",
              "                    <br/>Synced <strong style=\"color:#cdcd00\">icy-sweep-44</strong>: <a href=\"https://wandb.ai/ko120/Advantage_Actor_Critic/runs/p1vox139\" target=\"_blank\">https://wandb.ai/ko120/Advantage_Actor_Critic/runs/p1vox139</a><br/>\n",
              "                "
            ],
            "text/plain": [
              "<IPython.core.display.HTML object>"
            ]
          },
          "metadata": {
            "tags": []
          }
        },
        {
          "output_type": "stream",
          "text": [
            "\u001b[34m\u001b[1mwandb\u001b[0m: Agent Starting Run: 9x2f3ws6 with config:\n",
            "\u001b[34m\u001b[1mwandb\u001b[0m: \tactor_learning_rate: 1e-05\n",
            "\u001b[34m\u001b[1mwandb\u001b[0m: \tcritic_learning_rate: 0.0001\n",
            "\u001b[34m\u001b[1mwandb\u001b[0m: \tlearning: learn_mean\n",
            "\u001b[34m\u001b[1mwandb\u001b[0m: \tnum_neurons: 128\n",
            "\u001b[34m\u001b[1mwandb\u001b[0m: \toptimizer: RMSprop\n",
            "\u001b[34m\u001b[1mwandb\u001b[0m: \u001b[33mWARNING\u001b[0m Ignored wandb.init() arg project when running a sweep\n"
          ],
          "name": "stderr"
        },
        {
          "output_type": "display_data",
          "data": {
            "text/html": [
              "\n",
              "                Tracking run with wandb version 0.11.0<br/>\n",
              "                Syncing run <strong style=\"color:#cdcd00\">charmed-sweep-45</strong> to <a href=\"https://wandb.ai\" target=\"_blank\">Weights & Biases</a> <a href=\"https://docs.wandb.com/integrations/jupyter.html\" target=\"_blank\">(Documentation)</a>.<br/>\n",
              "                Project page: <a href=\"https://wandb.ai/ko120/Advantage_Actor_Critic\" target=\"_blank\">https://wandb.ai/ko120/Advantage_Actor_Critic</a><br/>\n",
              "                Sweep page: <a href=\"https://wandb.ai/ko120/Advantage_Actor_Critic/sweeps/t9gia22t\" target=\"_blank\">https://wandb.ai/ko120/Advantage_Actor_Critic/sweeps/t9gia22t</a><br/>\n",
              "Run page: <a href=\"https://wandb.ai/ko120/Advantage_Actor_Critic/runs/9x2f3ws6\" target=\"_blank\">https://wandb.ai/ko120/Advantage_Actor_Critic/runs/9x2f3ws6</a><br/>\n",
              "                Run data is saved locally in <code>/content/wandb/run-20210729_081713-9x2f3ws6</code><br/><br/>\n",
              "            "
            ],
            "text/plain": [
              "<IPython.core.display.HTML object>"
            ]
          },
          "metadata": {
            "tags": []
          }
        },
        {
          "output_type": "stream",
          "text": [
            "episode 100 average reward 22.046357601977178, ended at 4.4\n",
            "episode 200 average reward 20.34109306467247, ended at 8.8\n",
            "episode 300 average reward 17.613885628342874, ended at 12.8\n",
            "episode 400 average reward 18.391765834486048, ended at 17.2\n",
            "episode 500 average reward 21.774673505933492, ended at 21.5\n",
            "episode 600 average reward 20.544394613751976, ended at 25.5\n",
            "episode 700 average reward 21.34239577781354, ended at 30.2\n",
            "episode 800 average reward 21.40511392381546, ended at 34.8\n",
            "episode 900 average reward 22.3672333698722, ended at 39.4\n",
            "episode 1000 average reward 18.64114830578389, ended at 43.6\n",
            "episode 1100 average reward 21.19319826550689, ended at 48.4\n",
            "episode 1200 average reward 19.907275718166744, ended at 52.8\n",
            "episode 1300 average reward 17.67215320766846, ended at 56.8\n",
            "episode 1400 average reward 20.44604116991339, ended at 60.8\n",
            "episode 1500 average reward 18.452076636764957, ended at 64.5\n",
            "episode 1600 average reward 18.965714992030545, ended at 68.4\n",
            "episode 1700 average reward 23.209571351946618, ended at 72.4\n",
            "episode 1800 average reward 19.134542503009733, ended at 76.2\n",
            "episode 1900 average reward 18.40596723866635, ended at 80.2\n",
            "episode 2000 average reward 18.766394904297968, ended at 84.1\n",
            "episode 2100 average reward 16.608148447130514, ended at 87.5\n",
            "episode 2200 average reward 18.823997219770114, ended at 91.0\n",
            "episode 2300 average reward 17.793602256188507, ended at 94.9\n",
            "episode 2400 average reward 18.672634585761628, ended at 99.0\n",
            "episode 2500 average reward 17.994065950346993, ended at 103.0\n",
            "episode 2600 average reward 15.824414731110377, ended at 106.8\n",
            "episode 2700 average reward 18.752348636635634, ended at 110.9\n",
            "episode 2800 average reward 18.625301276240112, ended at 114.8\n",
            "episode 2900 average reward 16.73325652073372, ended at 118.4\n",
            "episode 3000 average reward 16.382982306310407, ended at 121.9\n"
          ],
          "name": "stdout"
        },
        {
          "output_type": "display_data",
          "data": {
            "text/html": [
              "<br/>Waiting for W&B process to finish, PID 7788<br/>Program ended successfully."
            ],
            "text/plain": [
              "<IPython.core.display.HTML object>"
            ]
          },
          "metadata": {
            "tags": []
          }
        },
        {
          "output_type": "display_data",
          "data": {
            "application/vnd.jupyter.widget-view+json": {
              "model_id": "5d4b38c89b5248d8af6afabf00406c6e",
              "version_minor": 0,
              "version_major": 2
            },
            "text/plain": [
              "VBox(children=(Label(value=' 0.76MB of 0.76MB uploaded (0.00MB deduped)\\r'), FloatProgress(value=1.0, max=1.0)…"
            ]
          },
          "metadata": {
            "tags": []
          }
        },
        {
          "output_type": "display_data",
          "data": {
            "text/html": [
              "Find user logs for this run at: <code>/content/wandb/run-20210729_081713-9x2f3ws6/logs/debug.log</code>"
            ],
            "text/plain": [
              "<IPython.core.display.HTML object>"
            ]
          },
          "metadata": {
            "tags": []
          }
        },
        {
          "output_type": "display_data",
          "data": {
            "text/html": [
              "Find internal logs for this run at: <code>/content/wandb/run-20210729_081713-9x2f3ws6/logs/debug-internal.log</code>"
            ],
            "text/plain": [
              "<IPython.core.display.HTML object>"
            ]
          },
          "metadata": {
            "tags": []
          }
        },
        {
          "output_type": "display_data",
          "data": {
            "text/html": [
              "<h3>Run summary:</h3><br/><style>\n",
              "    table.wandb td:nth-child(1) { padding: 0 10px; text-align: right }\n",
              "    </style><table class=\"wandb\">\n",
              "<tr><td>episode</td><td>3000</td></tr><tr><td>running_score</td><td>16.38298</td></tr><tr><td>_runtime</td><td>124</td></tr><tr><td>_timestamp</td><td>1627546757</td></tr><tr><td>_step</td><td>2999</td></tr></table>"
            ],
            "text/plain": [
              "<IPython.core.display.HTML object>"
            ]
          },
          "metadata": {
            "tags": []
          }
        },
        {
          "output_type": "display_data",
          "data": {
            "text/html": [
              "<h3>Run history:</h3><br/><style>\n",
              "    table.wandb td:nth-child(1) { padding: 0 10px; text-align: right }\n",
              "    </style><table class=\"wandb\">\n",
              "<tr><td>episode</td><td>▁▁▁▂▂▂▂▂▂▃▃▃▃▃▄▄▄▄▄▄▅▅▅▅▅▅▆▆▆▆▆▇▇▇▇▇▇███</td></tr><tr><td>running_score</td><td>▅█▄▃▅▄▅▅▅▅▅▆▆▃▃▆▄▄▃▃▆▃▃▂▃▄▄▂▂▃▃▄▃▂▁▄▁▁▁▂</td></tr><tr><td>_runtime</td><td>▁▁▁▂▂▂▂▂▂▃▃▃▃▃▄▄▄▄▄▅▅▅▅▅▅▆▆▆▆▆▆▇▇▇▇▇▇███</td></tr><tr><td>_timestamp</td><td>▁▁▁▂▂▂▂▂▂▃▃▃▃▃▄▄▄▄▄▅▅▅▅▅▅▆▆▆▆▆▆▇▇▇▇▇▇███</td></tr><tr><td>_step</td><td>▁▁▁▂▂▂▂▂▂▃▃▃▃▃▄▄▄▄▄▄▅▅▅▅▅▅▆▆▆▆▆▇▇▇▇▇▇███</td></tr></table><br/>"
            ],
            "text/plain": [
              "<IPython.core.display.HTML object>"
            ]
          },
          "metadata": {
            "tags": []
          }
        },
        {
          "output_type": "display_data",
          "data": {
            "text/html": [
              "Synced 5 W&B file(s), 0 media file(s), 2 artifact file(s) and 9 other file(s)"
            ],
            "text/plain": [
              "<IPython.core.display.HTML object>"
            ]
          },
          "metadata": {
            "tags": []
          }
        },
        {
          "output_type": "display_data",
          "data": {
            "text/html": [
              "\n",
              "                    <br/>Synced <strong style=\"color:#cdcd00\">charmed-sweep-45</strong>: <a href=\"https://wandb.ai/ko120/Advantage_Actor_Critic/runs/9x2f3ws6\" target=\"_blank\">https://wandb.ai/ko120/Advantage_Actor_Critic/runs/9x2f3ws6</a><br/>\n",
              "                "
            ],
            "text/plain": [
              "<IPython.core.display.HTML object>"
            ]
          },
          "metadata": {
            "tags": []
          }
        },
        {
          "output_type": "stream",
          "text": [
            "\u001b[34m\u001b[1mwandb\u001b[0m: Agent Starting Run: m69xjxch with config:\n",
            "\u001b[34m\u001b[1mwandb\u001b[0m: \tactor_learning_rate: 1e-05\n",
            "\u001b[34m\u001b[1mwandb\u001b[0m: \tcritic_learning_rate: 0.0001\n",
            "\u001b[34m\u001b[1mwandb\u001b[0m: \tlearning: learn_mean\n",
            "\u001b[34m\u001b[1mwandb\u001b[0m: \tnum_neurons: 128\n",
            "\u001b[34m\u001b[1mwandb\u001b[0m: \toptimizer: Adam\n",
            "\u001b[34m\u001b[1mwandb\u001b[0m: \u001b[33mWARNING\u001b[0m Ignored wandb.init() arg project when running a sweep\n"
          ],
          "name": "stderr"
        },
        {
          "output_type": "display_data",
          "data": {
            "text/html": [
              "\n",
              "                Tracking run with wandb version 0.11.0<br/>\n",
              "                Syncing run <strong style=\"color:#cdcd00\">neat-sweep-46</strong> to <a href=\"https://wandb.ai\" target=\"_blank\">Weights & Biases</a> <a href=\"https://docs.wandb.com/integrations/jupyter.html\" target=\"_blank\">(Documentation)</a>.<br/>\n",
              "                Project page: <a href=\"https://wandb.ai/ko120/Advantage_Actor_Critic\" target=\"_blank\">https://wandb.ai/ko120/Advantage_Actor_Critic</a><br/>\n",
              "                Sweep page: <a href=\"https://wandb.ai/ko120/Advantage_Actor_Critic/sweeps/t9gia22t\" target=\"_blank\">https://wandb.ai/ko120/Advantage_Actor_Critic/sweeps/t9gia22t</a><br/>\n",
              "Run page: <a href=\"https://wandb.ai/ko120/Advantage_Actor_Critic/runs/m69xjxch\" target=\"_blank\">https://wandb.ai/ko120/Advantage_Actor_Critic/runs/m69xjxch</a><br/>\n",
              "                Run data is saved locally in <code>/content/wandb/run-20210729_081924-m69xjxch</code><br/><br/>\n",
              "            "
            ],
            "text/plain": [
              "<IPython.core.display.HTML object>"
            ]
          },
          "metadata": {
            "tags": []
          }
        },
        {
          "output_type": "stream",
          "text": [
            "episode 100 average reward 22.02826083168772, ended at 4.2\n",
            "episode 200 average reward 20.340985922215175, ended at 8.3\n",
            "episode 300 average reward 21.719834634750423, ended at 12.5\n",
            "episode 400 average reward 20.065872229540915, ended at 16.5\n",
            "episode 500 average reward 21.50009424181895, ended at 20.7\n",
            "episode 600 average reward 18.295354841900203, ended at 24.4\n",
            "episode 700 average reward 19.600092856942542, ended at 28.7\n",
            "episode 800 average reward 19.487349009472695, ended at 32.9\n",
            "episode 900 average reward 20.9919615167906, ended at 37.4\n",
            "episode 1000 average reward 22.34643359869227, ended at 42.0\n",
            "episode 1100 average reward 19.609552846420357, ended at 46.0\n",
            "episode 1200 average reward 17.327188149048837, ended at 50.1\n",
            "episode 1300 average reward 20.416218272218483, ended at 54.1\n",
            "episode 1400 average reward 17.687410218033353, ended at 57.7\n",
            "episode 1500 average reward 19.107702474631708, ended at 61.6\n",
            "episode 1600 average reward 17.847167299206316, ended at 65.5\n",
            "episode 1700 average reward 19.872820108816533, ended at 69.6\n",
            "episode 1800 average reward 17.909959841790954, ended at 73.4\n",
            "episode 1900 average reward 17.701902222014798, ended at 77.1\n",
            "episode 2000 average reward 16.32718940619307, ended at 80.9\n",
            "episode 2100 average reward 21.098631313517814, ended at 84.9\n",
            "episode 2200 average reward 19.517902209516897, ended at 88.9\n",
            "episode 2300 average reward 16.421417726443643, ended at 92.5\n",
            "episode 2400 average reward 17.334458231514983, ended at 96.5\n",
            "episode 2500 average reward 18.195074781902054, ended at 100.4\n",
            "episode 2600 average reward 18.359610120923445, ended at 104.6\n",
            "episode 2700 average reward 18.43647395812996, ended at 108.4\n",
            "episode 2800 average reward 17.43781553047674, ended at 112.2\n",
            "episode 2900 average reward 19.65267253682819, ended at 116.1\n",
            "episode 3000 average reward 17.625246703141865, ended at 119.8\n"
          ],
          "name": "stdout"
        },
        {
          "output_type": "display_data",
          "data": {
            "text/html": [
              "<br/>Waiting for W&B process to finish, PID 7861<br/>Program ended successfully."
            ],
            "text/plain": [
              "<IPython.core.display.HTML object>"
            ]
          },
          "metadata": {
            "tags": []
          }
        },
        {
          "output_type": "display_data",
          "data": {
            "application/vnd.jupyter.widget-view+json": {
              "model_id": "c4ef86052a2e4b2ba5be121f222a5e40",
              "version_minor": 0,
              "version_major": 2
            },
            "text/plain": [
              "VBox(children=(Label(value=' 0.78MB of 0.78MB uploaded (0.00MB deduped)\\r'), FloatProgress(value=1.0, max=1.0)…"
            ]
          },
          "metadata": {
            "tags": []
          }
        },
        {
          "output_type": "display_data",
          "data": {
            "text/html": [
              "Find user logs for this run at: <code>/content/wandb/run-20210729_081924-m69xjxch/logs/debug.log</code>"
            ],
            "text/plain": [
              "<IPython.core.display.HTML object>"
            ]
          },
          "metadata": {
            "tags": []
          }
        },
        {
          "output_type": "display_data",
          "data": {
            "text/html": [
              "Find internal logs for this run at: <code>/content/wandb/run-20210729_081924-m69xjxch/logs/debug-internal.log</code>"
            ],
            "text/plain": [
              "<IPython.core.display.HTML object>"
            ]
          },
          "metadata": {
            "tags": []
          }
        },
        {
          "output_type": "display_data",
          "data": {
            "text/html": [
              "<h3>Run summary:</h3><br/><style>\n",
              "    table.wandb td:nth-child(1) { padding: 0 10px; text-align: right }\n",
              "    </style><table class=\"wandb\">\n",
              "<tr><td>episode</td><td>3000</td></tr><tr><td>running_score</td><td>17.62525</td></tr><tr><td>_runtime</td><td>122</td></tr><tr><td>_timestamp</td><td>1627546886</td></tr><tr><td>_step</td><td>2999</td></tr></table>"
            ],
            "text/plain": [
              "<IPython.core.display.HTML object>"
            ]
          },
          "metadata": {
            "tags": []
          }
        },
        {
          "output_type": "display_data",
          "data": {
            "text/html": [
              "<h3>Run history:</h3><br/><style>\n",
              "    table.wandb td:nth-child(1) { padding: 0 10px; text-align: right }\n",
              "    </style><table class=\"wandb\">\n",
              "<tr><td>episode</td><td>▁▁▁▂▂▂▂▂▂▃▃▃▃▃▄▄▄▄▄▄▅▅▅▅▅▅▆▆▆▆▆▇▇▇▇▇▇███</td></tr><tr><td>running_score</td><td>▄█▅▃▄▄▅▆▄▅▅▆▅▅▅▅▃▄▂▅▄▃▅▂▂▂▂▁▂▃▂▄▂▄▂▂▂▂▄▁</td></tr><tr><td>_runtime</td><td>▁▁▁▂▂▂▂▂▂▃▃▃▃▃▄▄▄▄▄▄▅▅▅▅▅▆▆▆▆▆▆▇▇▇▇▇▇███</td></tr><tr><td>_timestamp</td><td>▁▁▁▂▂▂▂▂▂▃▃▃▃▃▄▄▄▄▄▄▅▅▅▅▅▆▆▆▆▆▆▇▇▇▇▇▇███</td></tr><tr><td>_step</td><td>▁▁▁▂▂▂▂▂▂▃▃▃▃▃▄▄▄▄▄▄▅▅▅▅▅▅▆▆▆▆▆▇▇▇▇▇▇███</td></tr></table><br/>"
            ],
            "text/plain": [
              "<IPython.core.display.HTML object>"
            ]
          },
          "metadata": {
            "tags": []
          }
        },
        {
          "output_type": "display_data",
          "data": {
            "text/html": [
              "Synced 5 W&B file(s), 0 media file(s), 2 artifact file(s) and 9 other file(s)"
            ],
            "text/plain": [
              "<IPython.core.display.HTML object>"
            ]
          },
          "metadata": {
            "tags": []
          }
        },
        {
          "output_type": "display_data",
          "data": {
            "text/html": [
              "\n",
              "                    <br/>Synced <strong style=\"color:#cdcd00\">neat-sweep-46</strong>: <a href=\"https://wandb.ai/ko120/Advantage_Actor_Critic/runs/m69xjxch\" target=\"_blank\">https://wandb.ai/ko120/Advantage_Actor_Critic/runs/m69xjxch</a><br/>\n",
              "                "
            ],
            "text/plain": [
              "<IPython.core.display.HTML object>"
            ]
          },
          "metadata": {
            "tags": []
          }
        },
        {
          "output_type": "stream",
          "text": [
            "\u001b[34m\u001b[1mwandb\u001b[0m: Agent Starting Run: g22k8qzu with config:\n",
            "\u001b[34m\u001b[1mwandb\u001b[0m: \tactor_learning_rate: 1e-05\n",
            "\u001b[34m\u001b[1mwandb\u001b[0m: \tcritic_learning_rate: 0.0003\n",
            "\u001b[34m\u001b[1mwandb\u001b[0m: \tlearning: learn_mean\n",
            "\u001b[34m\u001b[1mwandb\u001b[0m: \tnum_neurons: 128\n",
            "\u001b[34m\u001b[1mwandb\u001b[0m: \toptimizer: RMSprop\n",
            "\u001b[34m\u001b[1mwandb\u001b[0m: \u001b[33mWARNING\u001b[0m Ignored wandb.init() arg project when running a sweep\n"
          ],
          "name": "stderr"
        },
        {
          "output_type": "display_data",
          "data": {
            "text/html": [
              "\n",
              "                Tracking run with wandb version 0.11.0<br/>\n",
              "                Syncing run <strong style=\"color:#cdcd00\">vague-sweep-47</strong> to <a href=\"https://wandb.ai\" target=\"_blank\">Weights & Biases</a> <a href=\"https://docs.wandb.com/integrations/jupyter.html\" target=\"_blank\">(Documentation)</a>.<br/>\n",
              "                Project page: <a href=\"https://wandb.ai/ko120/Advantage_Actor_Critic\" target=\"_blank\">https://wandb.ai/ko120/Advantage_Actor_Critic</a><br/>\n",
              "                Sweep page: <a href=\"https://wandb.ai/ko120/Advantage_Actor_Critic/sweeps/t9gia22t\" target=\"_blank\">https://wandb.ai/ko120/Advantage_Actor_Critic/sweeps/t9gia22t</a><br/>\n",
              "Run page: <a href=\"https://wandb.ai/ko120/Advantage_Actor_Critic/runs/g22k8qzu\" target=\"_blank\">https://wandb.ai/ko120/Advantage_Actor_Critic/runs/g22k8qzu</a><br/>\n",
              "                Run data is saved locally in <code>/content/wandb/run-20210729_082133-g22k8qzu</code><br/><br/>\n",
              "            "
            ],
            "text/plain": [
              "<IPython.core.display.HTML object>"
            ]
          },
          "metadata": {
            "tags": []
          }
        },
        {
          "output_type": "stream",
          "text": [
            "episode 100 average reward 22.046357601977178, ended at 4.1\n",
            "episode 200 average reward 21.096146054420245, ended at 8.5\n",
            "episode 300 average reward 19.114755172397686, ended at 12.6\n",
            "episode 400 average reward 21.815992721096855, ended at 16.7\n",
            "episode 500 average reward 20.698677604941174, ended at 20.6\n",
            "episode 600 average reward 20.83618107725596, ended at 24.8\n",
            "episode 700 average reward 22.131113378835977, ended at 29.2\n",
            "episode 800 average reward 17.851778852710414, ended at 33.3\n",
            "episode 900 average reward 19.305963498893874, ended at 37.8\n",
            "episode 1000 average reward 20.39021359313006, ended at 41.8\n",
            "episode 1100 average reward 19.16599276324549, ended at 46.2\n",
            "episode 1200 average reward 19.328289651438464, ended at 50.6\n",
            "episode 1300 average reward 22.023279219369844, ended at 55.0\n",
            "episode 1400 average reward 16.745521295872507, ended at 58.8\n",
            "episode 1500 average reward 17.021901841566077, ended at 62.8\n",
            "episode 1600 average reward 18.17680695038146, ended at 66.5\n",
            "episode 1700 average reward 21.852684868537107, ended at 70.8\n",
            "episode 1800 average reward 18.69082026879313, ended at 74.7\n",
            "episode 1900 average reward 18.93542176577258, ended at 78.6\n",
            "episode 2000 average reward 19.434804877970418, ended at 82.6\n",
            "episode 2100 average reward 20.392750440740222, ended at 86.5\n",
            "episode 2200 average reward 22.697574912669594, ended at 90.7\n",
            "episode 2300 average reward 21.902683147805124, ended at 94.9\n",
            "episode 2400 average reward 19.13725046164468, ended at 99.4\n",
            "episode 2500 average reward 21.763042689235657, ended at 104.2\n",
            "episode 2600 average reward 20.445166660474655, ended at 108.7\n",
            "episode 2700 average reward 17.670718655347503, ended at 113.1\n",
            "episode 2800 average reward 24.901669939663027, ended at 118.1\n",
            "episode 2900 average reward 21.343227648288522, ended at 122.8\n",
            "episode 3000 average reward 20.583469692523625, ended at 127.0\n"
          ],
          "name": "stdout"
        },
        {
          "output_type": "display_data",
          "data": {
            "text/html": [
              "<br/>Waiting for W&B process to finish, PID 7932<br/>Program ended successfully."
            ],
            "text/plain": [
              "<IPython.core.display.HTML object>"
            ]
          },
          "metadata": {
            "tags": []
          }
        },
        {
          "output_type": "display_data",
          "data": {
            "application/vnd.jupyter.widget-view+json": {
              "model_id": "13c0ff3ed4204b62b11c9149998d3a37",
              "version_minor": 0,
              "version_major": 2
            },
            "text/plain": [
              "VBox(children=(Label(value=' 0.79MB of 0.79MB uploaded (0.00MB deduped)\\r'), FloatProgress(value=1.0, max=1.0)…"
            ]
          },
          "metadata": {
            "tags": []
          }
        },
        {
          "output_type": "display_data",
          "data": {
            "text/html": [
              "Find user logs for this run at: <code>/content/wandb/run-20210729_082133-g22k8qzu/logs/debug.log</code>"
            ],
            "text/plain": [
              "<IPython.core.display.HTML object>"
            ]
          },
          "metadata": {
            "tags": []
          }
        },
        {
          "output_type": "display_data",
          "data": {
            "text/html": [
              "Find internal logs for this run at: <code>/content/wandb/run-20210729_082133-g22k8qzu/logs/debug-internal.log</code>"
            ],
            "text/plain": [
              "<IPython.core.display.HTML object>"
            ]
          },
          "metadata": {
            "tags": []
          }
        },
        {
          "output_type": "display_data",
          "data": {
            "text/html": [
              "<h3>Run summary:</h3><br/><style>\n",
              "    table.wandb td:nth-child(1) { padding: 0 10px; text-align: right }\n",
              "    </style><table class=\"wandb\">\n",
              "<tr><td>episode</td><td>3000</td></tr><tr><td>running_score</td><td>20.58347</td></tr><tr><td>_runtime</td><td>129</td></tr><tr><td>_timestamp</td><td>1627547022</td></tr><tr><td>_step</td><td>2999</td></tr></table>"
            ],
            "text/plain": [
              "<IPython.core.display.HTML object>"
            ]
          },
          "metadata": {
            "tags": []
          }
        },
        {
          "output_type": "display_data",
          "data": {
            "text/html": [
              "<h3>Run history:</h3><br/><style>\n",
              "    table.wandb td:nth-child(1) { padding: 0 10px; text-align: right }\n",
              "    </style><table class=\"wandb\">\n",
              "<tr><td>episode</td><td>▁▁▁▂▂▂▂▂▂▃▃▃▃▃▄▄▄▄▄▄▅▅▅▅▅▅▆▆▆▆▆▇▇▇▇▇▇███</td></tr><tr><td>running_score</td><td>▄█▇▂▃▆▄▇▄▅▃▄▂▂▃▃▇▅▁▄▃▂▄▄▄▂▄▁▄▆▃▄▅▇▅▅▆█▆▅</td></tr><tr><td>_runtime</td><td>▁▁▁▂▂▂▂▂▂▃▃▃▃▃▄▄▄▄▄▄▅▅▅▅▅▅▆▆▆▆▆▆▇▇▇▇▇███</td></tr><tr><td>_timestamp</td><td>▁▁▁▂▂▂▂▂▂▃▃▃▃▃▄▄▄▄▄▄▅▅▅▅▅▅▆▆▆▆▆▆▇▇▇▇▇███</td></tr><tr><td>_step</td><td>▁▁▁▂▂▂▂▂▂▃▃▃▃▃▄▄▄▄▄▄▅▅▅▅▅▅▆▆▆▆▆▇▇▇▇▇▇███</td></tr></table><br/>"
            ],
            "text/plain": [
              "<IPython.core.display.HTML object>"
            ]
          },
          "metadata": {
            "tags": []
          }
        },
        {
          "output_type": "display_data",
          "data": {
            "text/html": [
              "Synced 5 W&B file(s), 0 media file(s), 2 artifact file(s) and 9 other file(s)"
            ],
            "text/plain": [
              "<IPython.core.display.HTML object>"
            ]
          },
          "metadata": {
            "tags": []
          }
        },
        {
          "output_type": "display_data",
          "data": {
            "text/html": [
              "\n",
              "                    <br/>Synced <strong style=\"color:#cdcd00\">vague-sweep-47</strong>: <a href=\"https://wandb.ai/ko120/Advantage_Actor_Critic/runs/g22k8qzu\" target=\"_blank\">https://wandb.ai/ko120/Advantage_Actor_Critic/runs/g22k8qzu</a><br/>\n",
              "                "
            ],
            "text/plain": [
              "<IPython.core.display.HTML object>"
            ]
          },
          "metadata": {
            "tags": []
          }
        },
        {
          "output_type": "stream",
          "text": [
            "\u001b[34m\u001b[1mwandb\u001b[0m: Agent Starting Run: r5jqnihy with config:\n",
            "\u001b[34m\u001b[1mwandb\u001b[0m: \tactor_learning_rate: 1e-05\n",
            "\u001b[34m\u001b[1mwandb\u001b[0m: \tcritic_learning_rate: 0.0003\n",
            "\u001b[34m\u001b[1mwandb\u001b[0m: \tlearning: learn_mean\n",
            "\u001b[34m\u001b[1mwandb\u001b[0m: \tnum_neurons: 128\n",
            "\u001b[34m\u001b[1mwandb\u001b[0m: \toptimizer: Adam\n",
            "\u001b[34m\u001b[1mwandb\u001b[0m: \u001b[33mWARNING\u001b[0m Ignored wandb.init() arg project when running a sweep\n"
          ],
          "name": "stderr"
        },
        {
          "output_type": "display_data",
          "data": {
            "text/html": [
              "\n",
              "                Tracking run with wandb version 0.11.0<br/>\n",
              "                Syncing run <strong style=\"color:#cdcd00\">splendid-sweep-48</strong> to <a href=\"https://wandb.ai\" target=\"_blank\">Weights & Biases</a> <a href=\"https://docs.wandb.com/integrations/jupyter.html\" target=\"_blank\">(Documentation)</a>.<br/>\n",
              "                Project page: <a href=\"https://wandb.ai/ko120/Advantage_Actor_Critic\" target=\"_blank\">https://wandb.ai/ko120/Advantage_Actor_Critic</a><br/>\n",
              "                Sweep page: <a href=\"https://wandb.ai/ko120/Advantage_Actor_Critic/sweeps/t9gia22t\" target=\"_blank\">https://wandb.ai/ko120/Advantage_Actor_Critic/sweeps/t9gia22t</a><br/>\n",
              "Run page: <a href=\"https://wandb.ai/ko120/Advantage_Actor_Critic/runs/r5jqnihy\" target=\"_blank\">https://wandb.ai/ko120/Advantage_Actor_Critic/runs/r5jqnihy</a><br/>\n",
              "                Run data is saved locally in <code>/content/wandb/run-20210729_082349-r5jqnihy</code><br/><br/>\n",
              "            "
            ],
            "text/plain": [
              "<IPython.core.display.HTML object>"
            ]
          },
          "metadata": {
            "tags": []
          }
        },
        {
          "output_type": "stream",
          "text": [
            "episode 100 average reward 22.02826083168772, ended at 4.4\n",
            "episode 200 average reward 17.959281385743154, ended at 8.5\n",
            "episode 300 average reward 17.81407912474177, ended at 12.8\n",
            "episode 400 average reward 23.446880628729517, ended at 17.5\n",
            "episode 500 average reward 20.627705354769446, ended at 21.6\n",
            "episode 600 average reward 20.02276792288111, ended at 25.8\n",
            "episode 700 average reward 23.760649850802995, ended at 30.0\n",
            "episode 800 average reward 20.014224269634294, ended at 34.1\n",
            "episode 900 average reward 18.6668061101292, ended at 38.1\n",
            "episode 1000 average reward 20.50299301581837, ended at 42.1\n",
            "episode 1100 average reward 19.685582547935162, ended at 46.5\n",
            "episode 1200 average reward 21.254632171597862, ended at 50.7\n",
            "episode 1300 average reward 22.032228743792924, ended at 54.9\n",
            "episode 1400 average reward 17.38187000679952, ended at 58.6\n",
            "episode 1500 average reward 19.38005535385276, ended at 63.2\n",
            "episode 1600 average reward 20.382840000660853, ended at 67.4\n",
            "episode 1700 average reward 18.629370005981972, ended at 71.7\n",
            "episode 1800 average reward 21.146881691791418, ended at 76.0\n",
            "episode 1900 average reward 19.76516061032527, ended at 80.3\n",
            "episode 2000 average reward 19.930554317791294, ended at 84.7\n",
            "episode 2100 average reward 22.371643249982768, ended at 89.2\n",
            "episode 2200 average reward 21.10649710660138, ended at 93.4\n",
            "episode 2300 average reward 21.94491517355307, ended at 98.1\n",
            "episode 2400 average reward 21.423700045462024, ended at 102.6\n",
            "episode 2500 average reward 22.115306520279955, ended at 106.9\n",
            "episode 2600 average reward 21.605900528920344, ended at 111.4\n",
            "episode 2700 average reward 23.340520014368607, ended at 116.3\n",
            "episode 2800 average reward 25.43491554623434, ended at 121.2\n",
            "episode 2900 average reward 28.635718927393402, ended at 126.8\n",
            "episode 3000 average reward 24.246852289167972, ended at 132.5\n"
          ],
          "name": "stdout"
        },
        {
          "output_type": "display_data",
          "data": {
            "text/html": [
              "<br/>Waiting for W&B process to finish, PID 8007<br/>Program ended successfully."
            ],
            "text/plain": [
              "<IPython.core.display.HTML object>"
            ]
          },
          "metadata": {
            "tags": []
          }
        },
        {
          "output_type": "display_data",
          "data": {
            "application/vnd.jupyter.widget-view+json": {
              "model_id": "f61e43f74d80420b977993371396aa47",
              "version_minor": 0,
              "version_major": 2
            },
            "text/plain": [
              "VBox(children=(Label(value=' 0.80MB of 0.80MB uploaded (0.00MB deduped)\\r'), FloatProgress(value=1.0, max=1.0)…"
            ]
          },
          "metadata": {
            "tags": []
          }
        },
        {
          "output_type": "display_data",
          "data": {
            "text/html": [
              "Find user logs for this run at: <code>/content/wandb/run-20210729_082349-r5jqnihy/logs/debug.log</code>"
            ],
            "text/plain": [
              "<IPython.core.display.HTML object>"
            ]
          },
          "metadata": {
            "tags": []
          }
        },
        {
          "output_type": "display_data",
          "data": {
            "text/html": [
              "Find internal logs for this run at: <code>/content/wandb/run-20210729_082349-r5jqnihy/logs/debug-internal.log</code>"
            ],
            "text/plain": [
              "<IPython.core.display.HTML object>"
            ]
          },
          "metadata": {
            "tags": []
          }
        },
        {
          "output_type": "display_data",
          "data": {
            "text/html": [
              "<h3>Run summary:</h3><br/><style>\n",
              "    table.wandb td:nth-child(1) { padding: 0 10px; text-align: right }\n",
              "    </style><table class=\"wandb\">\n",
              "<tr><td>episode</td><td>3000</td></tr><tr><td>running_score</td><td>24.24685</td></tr><tr><td>_runtime</td><td>135</td></tr><tr><td>_timestamp</td><td>1627547164</td></tr><tr><td>_step</td><td>2999</td></tr></table>"
            ],
            "text/plain": [
              "<IPython.core.display.HTML object>"
            ]
          },
          "metadata": {
            "tags": []
          }
        },
        {
          "output_type": "display_data",
          "data": {
            "text/html": [
              "<h3>Run history:</h3><br/><style>\n",
              "    table.wandb td:nth-child(1) { padding: 0 10px; text-align: right }\n",
              "    </style><table class=\"wandb\">\n",
              "<tr><td>episode</td><td>▁▁▁▂▂▂▂▂▂▃▃▃▃▃▄▄▄▄▄▄▅▅▅▅▅▅▆▆▆▆▆▇▇▇▇▇▇███</td></tr><tr><td>running_score</td><td>▃▆▃▃▄▅▂▄▃▅▄▄▂▄▄▄▄▅▁▄▃▄▄▃▄▂▃▄▅▅▆▅▄▄▄▆▅▆█▇</td></tr><tr><td>_runtime</td><td>▁▁▁▂▂▂▂▂▂▃▃▃▃▃▃▄▄▄▄▄▄▅▅▅▅▅▅▆▆▆▆▆▇▇▇▇▇███</td></tr><tr><td>_timestamp</td><td>▁▁▁▂▂▂▂▂▂▃▃▃▃▃▃▄▄▄▄▄▄▅▅▅▅▅▅▆▆▆▆▆▇▇▇▇▇███</td></tr><tr><td>_step</td><td>▁▁▁▂▂▂▂▂▂▃▃▃▃▃▄▄▄▄▄▄▅▅▅▅▅▅▆▆▆▆▆▇▇▇▇▇▇███</td></tr></table><br/>"
            ],
            "text/plain": [
              "<IPython.core.display.HTML object>"
            ]
          },
          "metadata": {
            "tags": []
          }
        },
        {
          "output_type": "display_data",
          "data": {
            "text/html": [
              "Synced 5 W&B file(s), 0 media file(s), 2 artifact file(s) and 9 other file(s)"
            ],
            "text/plain": [
              "<IPython.core.display.HTML object>"
            ]
          },
          "metadata": {
            "tags": []
          }
        },
        {
          "output_type": "display_data",
          "data": {
            "text/html": [
              "\n",
              "                    <br/>Synced <strong style=\"color:#cdcd00\">splendid-sweep-48</strong>: <a href=\"https://wandb.ai/ko120/Advantage_Actor_Critic/runs/r5jqnihy\" target=\"_blank\">https://wandb.ai/ko120/Advantage_Actor_Critic/runs/r5jqnihy</a><br/>\n",
              "                "
            ],
            "text/plain": [
              "<IPython.core.display.HTML object>"
            ]
          },
          "metadata": {
            "tags": []
          }
        },
        {
          "output_type": "stream",
          "text": [
            "\u001b[34m\u001b[1mwandb\u001b[0m: Agent Starting Run: 8v6pawzl with config:\n",
            "\u001b[34m\u001b[1mwandb\u001b[0m: \tactor_learning_rate: 1e-05\n",
            "\u001b[34m\u001b[1mwandb\u001b[0m: \tcritic_learning_rate: 1e-05\n",
            "\u001b[34m\u001b[1mwandb\u001b[0m: \tlearning: learn_mean\n",
            "\u001b[34m\u001b[1mwandb\u001b[0m: \tnum_neurons: 128\n",
            "\u001b[34m\u001b[1mwandb\u001b[0m: \toptimizer: RMSprop\n",
            "\u001b[34m\u001b[1mwandb\u001b[0m: \u001b[33mWARNING\u001b[0m Ignored wandb.init() arg project when running a sweep\n"
          ],
          "name": "stderr"
        },
        {
          "output_type": "display_data",
          "data": {
            "text/html": [
              "\n",
              "                Tracking run with wandb version 0.11.0<br/>\n",
              "                Syncing run <strong style=\"color:#cdcd00\">likely-sweep-49</strong> to <a href=\"https://wandb.ai\" target=\"_blank\">Weights & Biases</a> <a href=\"https://docs.wandb.com/integrations/jupyter.html\" target=\"_blank\">(Documentation)</a>.<br/>\n",
              "                Project page: <a href=\"https://wandb.ai/ko120/Advantage_Actor_Critic\" target=\"_blank\">https://wandb.ai/ko120/Advantage_Actor_Critic</a><br/>\n",
              "                Sweep page: <a href=\"https://wandb.ai/ko120/Advantage_Actor_Critic/sweeps/t9gia22t\" target=\"_blank\">https://wandb.ai/ko120/Advantage_Actor_Critic/sweeps/t9gia22t</a><br/>\n",
              "Run page: <a href=\"https://wandb.ai/ko120/Advantage_Actor_Critic/runs/8v6pawzl\" target=\"_blank\">https://wandb.ai/ko120/Advantage_Actor_Critic/runs/8v6pawzl</a><br/>\n",
              "                Run data is saved locally in <code>/content/wandb/run-20210729_082610-8v6pawzl</code><br/><br/>\n",
              "            "
            ],
            "text/plain": [
              "<IPython.core.display.HTML object>"
            ]
          },
          "metadata": {
            "tags": []
          }
        },
        {
          "output_type": "stream",
          "text": [
            "episode 100 average reward 22.365866017187162, ended at 4.5\n",
            "episode 200 average reward 21.29214542016999, ended at 9.0\n",
            "episode 300 average reward 19.184107257593134, ended at 13.2\n",
            "episode 400 average reward 19.54330828168993, ended at 17.3\n",
            "episode 500 average reward 21.402900380808727, ended at 21.6\n",
            "episode 600 average reward 25.108267448429167, ended at 26.0\n",
            "episode 700 average reward 20.05636490963607, ended at 30.3\n",
            "episode 800 average reward 25.810105069734036, ended at 34.8\n",
            "episode 900 average reward 19.475182686015263, ended at 39.1\n",
            "episode 1000 average reward 19.60798256949253, ended at 43.2\n",
            "episode 1100 average reward 18.637105006219656, ended at 47.2\n",
            "episode 1200 average reward 22.468107541407928, ended at 52.1\n",
            "episode 1300 average reward 19.51128814699193, ended at 56.6\n",
            "episode 1400 average reward 19.3995182506707, ended at 61.1\n",
            "episode 1500 average reward 20.664587201571667, ended at 65.7\n",
            "episode 1600 average reward 20.908232726075884, ended at 70.4\n",
            "episode 1700 average reward 23.00197958900121, ended at 75.2\n",
            "episode 1800 average reward 21.286495221878987, ended at 79.4\n",
            "episode 1900 average reward 20.384932936413655, ended at 83.9\n",
            "episode 2000 average reward 18.04502991724636, ended at 87.8\n",
            "episode 2100 average reward 20.76130927018069, ended at 92.5\n",
            "episode 2200 average reward 20.32987393409528, ended at 96.6\n",
            "episode 2300 average reward 19.638745619989933, ended at 100.8\n",
            "episode 2400 average reward 18.596786433265958, ended at 104.7\n",
            "episode 2500 average reward 20.383330708412494, ended at 108.8\n",
            "episode 2600 average reward 22.88870985834193, ended at 113.2\n",
            "episode 2700 average reward 18.936817445629934, ended at 117.4\n",
            "episode 2800 average reward 19.631680027791283, ended at 121.3\n",
            "episode 2900 average reward 20.009490358961944, ended at 125.6\n",
            "episode 3000 average reward 19.26563657765268, ended at 129.8\n"
          ],
          "name": "stdout"
        },
        {
          "output_type": "display_data",
          "data": {
            "text/html": [
              "<br/>Waiting for W&B process to finish, PID 8082<br/>Program ended successfully."
            ],
            "text/plain": [
              "<IPython.core.display.HTML object>"
            ]
          },
          "metadata": {
            "tags": []
          }
        },
        {
          "output_type": "display_data",
          "data": {
            "application/vnd.jupyter.widget-view+json": {
              "model_id": "98dfaada22744d1889f7e24bba6c5d42",
              "version_minor": 0,
              "version_major": 2
            },
            "text/plain": [
              "VBox(children=(Label(value=' 0.82MB of 0.82MB uploaded (0.00MB deduped)\\r'), FloatProgress(value=1.0, max=1.0)…"
            ]
          },
          "metadata": {
            "tags": []
          }
        },
        {
          "output_type": "display_data",
          "data": {
            "text/html": [
              "Find user logs for this run at: <code>/content/wandb/run-20210729_082610-8v6pawzl/logs/debug.log</code>"
            ],
            "text/plain": [
              "<IPython.core.display.HTML object>"
            ]
          },
          "metadata": {
            "tags": []
          }
        },
        {
          "output_type": "display_data",
          "data": {
            "text/html": [
              "Find internal logs for this run at: <code>/content/wandb/run-20210729_082610-8v6pawzl/logs/debug-internal.log</code>"
            ],
            "text/plain": [
              "<IPython.core.display.HTML object>"
            ]
          },
          "metadata": {
            "tags": []
          }
        },
        {
          "output_type": "display_data",
          "data": {
            "text/html": [
              "<h3>Run summary:</h3><br/><style>\n",
              "    table.wandb td:nth-child(1) { padding: 0 10px; text-align: right }\n",
              "    </style><table class=\"wandb\">\n",
              "<tr><td>episode</td><td>3000</td></tr><tr><td>running_score</td><td>19.26564</td></tr><tr><td>_runtime</td><td>133</td></tr><tr><td>_timestamp</td><td>1627547303</td></tr><tr><td>_step</td><td>2999</td></tr></table>"
            ],
            "text/plain": [
              "<IPython.core.display.HTML object>"
            ]
          },
          "metadata": {
            "tags": []
          }
        },
        {
          "output_type": "display_data",
          "data": {
            "text/html": [
              "<h3>Run history:</h3><br/><style>\n",
              "    table.wandb td:nth-child(1) { padding: 0 10px; text-align: right }\n",
              "    </style><table class=\"wandb\">\n",
              "<tr><td>episode</td><td>▁▁▁▂▂▂▂▂▂▃▃▃▃▃▄▄▄▄▄▄▅▅▅▅▅▅▆▆▆▆▆▇▇▇▇▇▇███</td></tr><tr><td>running_score</td><td>▃▇▃▄▄▁▆▄█▂▄▅▄▄▂▆▅▄▂▄▃▄▄▂▅▄▁▇▁▃▆▂▂▄▆▄▁▂▂▁</td></tr><tr><td>_runtime</td><td>▁▁▁▂▂▂▂▂▂▃▃▃▃▃▄▄▄▄▄▄▅▅▅▅▅▅▆▆▆▆▆▇▇▇▇▇▇███</td></tr><tr><td>_timestamp</td><td>▁▁▁▂▂▂▂▂▂▃▃▃▃▃▄▄▄▄▄▄▅▅▅▅▅▅▆▆▆▆▆▇▇▇▇▇▇███</td></tr><tr><td>_step</td><td>▁▁▁▂▂▂▂▂▂▃▃▃▃▃▄▄▄▄▄▄▅▅▅▅▅▅▆▆▆▆▆▇▇▇▇▇▇███</td></tr></table><br/>"
            ],
            "text/plain": [
              "<IPython.core.display.HTML object>"
            ]
          },
          "metadata": {
            "tags": []
          }
        },
        {
          "output_type": "display_data",
          "data": {
            "text/html": [
              "Synced 5 W&B file(s), 0 media file(s), 2 artifact file(s) and 9 other file(s)"
            ],
            "text/plain": [
              "<IPython.core.display.HTML object>"
            ]
          },
          "metadata": {
            "tags": []
          }
        },
        {
          "output_type": "display_data",
          "data": {
            "text/html": [
              "\n",
              "                    <br/>Synced <strong style=\"color:#cdcd00\">likely-sweep-49</strong>: <a href=\"https://wandb.ai/ko120/Advantage_Actor_Critic/runs/8v6pawzl\" target=\"_blank\">https://wandb.ai/ko120/Advantage_Actor_Critic/runs/8v6pawzl</a><br/>\n",
              "                "
            ],
            "text/plain": [
              "<IPython.core.display.HTML object>"
            ]
          },
          "metadata": {
            "tags": []
          }
        },
        {
          "output_type": "stream",
          "text": [
            "\u001b[34m\u001b[1mwandb\u001b[0m: Agent Starting Run: w48wnakr with config:\n",
            "\u001b[34m\u001b[1mwandb\u001b[0m: \tactor_learning_rate: 1e-05\n",
            "\u001b[34m\u001b[1mwandb\u001b[0m: \tcritic_learning_rate: 1e-05\n",
            "\u001b[34m\u001b[1mwandb\u001b[0m: \tlearning: learn_mean\n",
            "\u001b[34m\u001b[1mwandb\u001b[0m: \tnum_neurons: 128\n",
            "\u001b[34m\u001b[1mwandb\u001b[0m: \toptimizer: Adam\n",
            "\u001b[34m\u001b[1mwandb\u001b[0m: \u001b[33mWARNING\u001b[0m Ignored wandb.init() arg project when running a sweep\n"
          ],
          "name": "stderr"
        },
        {
          "output_type": "display_data",
          "data": {
            "text/html": [
              "\n",
              "                Tracking run with wandb version 0.11.0<br/>\n",
              "                Syncing run <strong style=\"color:#cdcd00\">playful-sweep-50</strong> to <a href=\"https://wandb.ai\" target=\"_blank\">Weights & Biases</a> <a href=\"https://docs.wandb.com/integrations/jupyter.html\" target=\"_blank\">(Documentation)</a>.<br/>\n",
              "                Project page: <a href=\"https://wandb.ai/ko120/Advantage_Actor_Critic\" target=\"_blank\">https://wandb.ai/ko120/Advantage_Actor_Critic</a><br/>\n",
              "                Sweep page: <a href=\"https://wandb.ai/ko120/Advantage_Actor_Critic/sweeps/t9gia22t\" target=\"_blank\">https://wandb.ai/ko120/Advantage_Actor_Critic/sweeps/t9gia22t</a><br/>\n",
              "Run page: <a href=\"https://wandb.ai/ko120/Advantage_Actor_Critic/runs/w48wnakr\" target=\"_blank\">https://wandb.ai/ko120/Advantage_Actor_Critic/runs/w48wnakr</a><br/>\n",
              "                Run data is saved locally in <code>/content/wandb/run-20210729_082829-w48wnakr</code><br/><br/>\n",
              "            "
            ],
            "text/plain": [
              "<IPython.core.display.HTML object>"
            ]
          },
          "metadata": {
            "tags": []
          }
        },
        {
          "output_type": "stream",
          "text": [
            "episode 100 average reward 22.02826083168772, ended at 4.4\n",
            "episode 200 average reward 23.915060653591283, ended at 8.9\n",
            "episode 300 average reward 19.529958212613973, ended at 13.4\n",
            "episode 400 average reward 20.012544668608147, ended at 17.8\n",
            "episode 500 average reward 22.766900354863303, ended at 22.7\n",
            "episode 600 average reward 23.949102055515915, ended at 27.4\n",
            "episode 700 average reward 23.98487926746266, ended at 32.2\n",
            "episode 800 average reward 22.257725139399007, ended at 36.6\n",
            "episode 900 average reward 21.183578631694704, ended at 40.6\n",
            "episode 1000 average reward 25.615198667384625, ended at 45.1\n",
            "episode 1100 average reward 21.52429362781972, ended at 49.3\n",
            "episode 1200 average reward 20.90847775076167, ended at 53.8\n",
            "episode 1300 average reward 21.881818278107996, ended at 58.2\n",
            "episode 1400 average reward 19.620668831303114, ended at 62.4\n",
            "episode 1500 average reward 19.61684378930741, ended at 66.6\n",
            "episode 1600 average reward 20.6829890430845, ended at 70.7\n",
            "episode 1700 average reward 20.352523140798482, ended at 75.5\n",
            "episode 1800 average reward 19.210271597138057, ended at 79.9\n",
            "episode 1900 average reward 19.472761269733116, ended at 84.8\n",
            "episode 2000 average reward 22.82329936606999, ended at 89.7\n",
            "episode 2100 average reward 22.994598786075787, ended at 94.4\n",
            "episode 2200 average reward 20.343009168867614, ended at 98.8\n",
            "episode 2300 average reward 20.68277617567047, ended at 102.9\n",
            "episode 2400 average reward 21.070247203887313, ended at 107.2\n",
            "episode 2500 average reward 16.653464577922854, ended at 111.3\n",
            "episode 2600 average reward 23.16046800288168, ended at 115.8\n",
            "episode 2700 average reward 18.643255180877034, ended at 119.7\n",
            "episode 2800 average reward 19.95468861237963, ended at 123.8\n",
            "episode 2900 average reward 18.66767238214992, ended at 127.8\n",
            "episode 3000 average reward 21.831074210528286, ended at 132.2\n"
          ],
          "name": "stdout"
        },
        {
          "output_type": "display_data",
          "data": {
            "text/html": [
              "<br/>Waiting for W&B process to finish, PID 8155<br/>Program ended successfully."
            ],
            "text/plain": [
              "<IPython.core.display.HTML object>"
            ]
          },
          "metadata": {
            "tags": []
          }
        },
        {
          "output_type": "display_data",
          "data": {
            "application/vnd.jupyter.widget-view+json": {
              "model_id": "95421f5e05124de3810aa5476ecca783",
              "version_minor": 0,
              "version_major": 2
            },
            "text/plain": [
              "VBox(children=(Label(value=' 0.83MB of 0.83MB uploaded (0.00MB deduped)\\r'), FloatProgress(value=1.0, max=1.0)…"
            ]
          },
          "metadata": {
            "tags": []
          }
        },
        {
          "output_type": "display_data",
          "data": {
            "text/html": [
              "Find user logs for this run at: <code>/content/wandb/run-20210729_082829-w48wnakr/logs/debug.log</code>"
            ],
            "text/plain": [
              "<IPython.core.display.HTML object>"
            ]
          },
          "metadata": {
            "tags": []
          }
        },
        {
          "output_type": "display_data",
          "data": {
            "text/html": [
              "Find internal logs for this run at: <code>/content/wandb/run-20210729_082829-w48wnakr/logs/debug-internal.log</code>"
            ],
            "text/plain": [
              "<IPython.core.display.HTML object>"
            ]
          },
          "metadata": {
            "tags": []
          }
        },
        {
          "output_type": "display_data",
          "data": {
            "text/html": [
              "<h3>Run summary:</h3><br/><style>\n",
              "    table.wandb td:nth-child(1) { padding: 0 10px; text-align: right }\n",
              "    </style><table class=\"wandb\">\n",
              "<tr><td>episode</td><td>3000</td></tr><tr><td>running_score</td><td>21.83107</td></tr><tr><td>_runtime</td><td>135</td></tr><tr><td>_timestamp</td><td>1627547444</td></tr><tr><td>_step</td><td>2999</td></tr></table>"
            ],
            "text/plain": [
              "<IPython.core.display.HTML object>"
            ]
          },
          "metadata": {
            "tags": []
          }
        },
        {
          "output_type": "display_data",
          "data": {
            "text/html": [
              "<h3>Run history:</h3><br/><style>\n",
              "    table.wandb td:nth-child(1) { padding: 0 10px; text-align: right }\n",
              "    </style><table class=\"wandb\">\n",
              "<tr><td>episode</td><td>▁▁▁▂▂▂▂▂▂▃▃▃▃▃▄▄▄▄▄▄▅▅▅▅▅▅▆▆▆▆▆▇▇▇▇▇▇███</td></tr><tr><td>running_score</td><td>▃▆▃▃▇▄▆▅▆▆▃▃▅█▄▅▅▄▂▅▂▄▅▂▅▃▇▅▃▃▃▄▄▁▆▃▃▄▂▆</td></tr><tr><td>_runtime</td><td>▁▁▁▂▂▂▂▂▂▃▃▃▃▃▄▄▄▄▄▄▅▅▅▅▅▅▆▆▆▆▆▇▇▇▇▇▇███</td></tr><tr><td>_timestamp</td><td>▁▁▁▂▂▂▂▂▂▃▃▃▃▃▄▄▄▄▄▄▅▅▅▅▅▅▆▆▆▆▆▇▇▇▇▇▇███</td></tr><tr><td>_step</td><td>▁▁▁▂▂▂▂▂▂▃▃▃▃▃▄▄▄▄▄▄▅▅▅▅▅▅▆▆▆▆▆▇▇▇▇▇▇███</td></tr></table><br/>"
            ],
            "text/plain": [
              "<IPython.core.display.HTML object>"
            ]
          },
          "metadata": {
            "tags": []
          }
        },
        {
          "output_type": "display_data",
          "data": {
            "text/html": [
              "Synced 5 W&B file(s), 0 media file(s), 2 artifact file(s) and 9 other file(s)"
            ],
            "text/plain": [
              "<IPython.core.display.HTML object>"
            ]
          },
          "metadata": {
            "tags": []
          }
        },
        {
          "output_type": "display_data",
          "data": {
            "text/html": [
              "\n",
              "                    <br/>Synced <strong style=\"color:#cdcd00\">playful-sweep-50</strong>: <a href=\"https://wandb.ai/ko120/Advantage_Actor_Critic/runs/w48wnakr\" target=\"_blank\">https://wandb.ai/ko120/Advantage_Actor_Critic/runs/w48wnakr</a><br/>\n",
              "                "
            ],
            "text/plain": [
              "<IPython.core.display.HTML object>"
            ]
          },
          "metadata": {
            "tags": []
          }
        },
        {
          "output_type": "stream",
          "text": [
            "\u001b[34m\u001b[1mwandb\u001b[0m: Sweep Agent: Waiting for job.\n",
            "\u001b[34m\u001b[1mwandb\u001b[0m: Sweep Agent: Exiting.\n"
          ],
          "name": "stderr"
        }
      ]
    },
    {
      "cell_type": "markdown",
      "metadata": {
        "id": "3Mj9FzFcfbfo"
      },
      "source": [
        "# You can see the result here!\n",
        "[Report Link](https://wandb.ai/ko120/Advantage_Actor_Critic/reports/TD-Actor-Critic-Learning-rate-tune---Vmlldzo4OTIwODg)"
      ]
    }
  ]
}