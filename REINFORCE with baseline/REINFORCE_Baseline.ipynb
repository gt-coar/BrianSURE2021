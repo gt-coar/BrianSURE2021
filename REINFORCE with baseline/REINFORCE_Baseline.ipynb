{
  "nbformat": 4,
  "nbformat_minor": 0,
  "metadata": {
    "accelerator": "GPU",
    "colab": {
      "name": "REINFORCE_Baseline.ipynb",
      "provenance": [],
      "collapsed_sections": []
    },
    "kernelspec": {
      "display_name": "Python 3",
      "name": "python3"
    },
    "language_info": {
      "name": "python"
    },
    "widgets": {
      "application/vnd.jupyter.widget-state+json": {
        "10d603f76109400fba50309928d65fd9": {
          "model_module": "@jupyter-widgets/controls",
          "model_name": "VBoxModel",
          "state": {
            "_dom_classes": [],
            "_model_module": "@jupyter-widgets/controls",
            "_model_module_version": "1.5.0",
            "_model_name": "VBoxModel",
            "_view_count": null,
            "_view_module": "@jupyter-widgets/controls",
            "_view_module_version": "1.5.0",
            "_view_name": "VBoxView",
            "box_style": "",
            "children": [
              "IPY_MODEL_44b140d6f60646578618936eaff56dc7",
              "IPY_MODEL_8c23523e8b7345b9b8a59c6f4d5c0369"
            ],
            "layout": "IPY_MODEL_2f9b6f5e3a634737ab6951f00d67d9e2"
          }
        },
        "44b140d6f60646578618936eaff56dc7": {
          "model_module": "@jupyter-widgets/controls",
          "model_name": "LabelModel",
          "state": {
            "_dom_classes": [],
            "_model_module": "@jupyter-widgets/controls",
            "_model_module_version": "1.5.0",
            "_model_name": "LabelModel",
            "_view_count": null,
            "_view_module": "@jupyter-widgets/controls",
            "_view_module_version": "1.5.0",
            "_view_name": "LabelView",
            "description": "",
            "description_tooltip": null,
            "layout": "IPY_MODEL_d5328214ac634f0e98be66e7c8f704b2",
            "placeholder": "​",
            "style": "IPY_MODEL_648eb308e4e4492a86c2d0be11558680",
            "value": " 0.04MB of 0.04MB uploaded (0.00MB deduped)\r"
          }
        },
        "8c23523e8b7345b9b8a59c6f4d5c0369": {
          "model_module": "@jupyter-widgets/controls",
          "model_name": "FloatProgressModel",
          "state": {
            "_dom_classes": [],
            "_model_module": "@jupyter-widgets/controls",
            "_model_module_version": "1.5.0",
            "_model_name": "FloatProgressModel",
            "_view_count": null,
            "_view_module": "@jupyter-widgets/controls",
            "_view_module_version": "1.5.0",
            "_view_name": "ProgressView",
            "bar_style": "",
            "description": "",
            "description_tooltip": null,
            "layout": "IPY_MODEL_4590f92377124226971cdabd4a1f2f32",
            "max": 1,
            "min": 0,
            "orientation": "horizontal",
            "style": "IPY_MODEL_d1fa9029a8ec4d36af45238c9ceca325",
            "value": 1
          }
        },
        "2f9b6f5e3a634737ab6951f00d67d9e2": {
          "model_module": "@jupyter-widgets/base",
          "model_name": "LayoutModel",
          "state": {
            "_model_module": "@jupyter-widgets/base",
            "_model_module_version": "1.2.0",
            "_model_name": "LayoutModel",
            "_view_count": null,
            "_view_module": "@jupyter-widgets/base",
            "_view_module_version": "1.2.0",
            "_view_name": "LayoutView",
            "align_content": null,
            "align_items": null,
            "align_self": null,
            "border": null,
            "bottom": null,
            "display": null,
            "flex": null,
            "flex_flow": null,
            "grid_area": null,
            "grid_auto_columns": null,
            "grid_auto_flow": null,
            "grid_auto_rows": null,
            "grid_column": null,
            "grid_gap": null,
            "grid_row": null,
            "grid_template_areas": null,
            "grid_template_columns": null,
            "grid_template_rows": null,
            "height": null,
            "justify_content": null,
            "justify_items": null,
            "left": null,
            "margin": null,
            "max_height": null,
            "max_width": null,
            "min_height": null,
            "min_width": null,
            "object_fit": null,
            "object_position": null,
            "order": null,
            "overflow": null,
            "overflow_x": null,
            "overflow_y": null,
            "padding": null,
            "right": null,
            "top": null,
            "visibility": null,
            "width": null
          }
        },
        "d5328214ac634f0e98be66e7c8f704b2": {
          "model_module": "@jupyter-widgets/base",
          "model_name": "LayoutModel",
          "state": {
            "_model_module": "@jupyter-widgets/base",
            "_model_module_version": "1.2.0",
            "_model_name": "LayoutModel",
            "_view_count": null,
            "_view_module": "@jupyter-widgets/base",
            "_view_module_version": "1.2.0",
            "_view_name": "LayoutView",
            "align_content": null,
            "align_items": null,
            "align_self": null,
            "border": null,
            "bottom": null,
            "display": null,
            "flex": null,
            "flex_flow": null,
            "grid_area": null,
            "grid_auto_columns": null,
            "grid_auto_flow": null,
            "grid_auto_rows": null,
            "grid_column": null,
            "grid_gap": null,
            "grid_row": null,
            "grid_template_areas": null,
            "grid_template_columns": null,
            "grid_template_rows": null,
            "height": null,
            "justify_content": null,
            "justify_items": null,
            "left": null,
            "margin": null,
            "max_height": null,
            "max_width": null,
            "min_height": null,
            "min_width": null,
            "object_fit": null,
            "object_position": null,
            "order": null,
            "overflow": null,
            "overflow_x": null,
            "overflow_y": null,
            "padding": null,
            "right": null,
            "top": null,
            "visibility": null,
            "width": null
          }
        },
        "648eb308e4e4492a86c2d0be11558680": {
          "model_module": "@jupyter-widgets/controls",
          "model_name": "DescriptionStyleModel",
          "state": {
            "_model_module": "@jupyter-widgets/controls",
            "_model_module_version": "1.5.0",
            "_model_name": "DescriptionStyleModel",
            "_view_count": null,
            "_view_module": "@jupyter-widgets/base",
            "_view_module_version": "1.2.0",
            "_view_name": "StyleView",
            "description_width": ""
          }
        },
        "4590f92377124226971cdabd4a1f2f32": {
          "model_module": "@jupyter-widgets/base",
          "model_name": "LayoutModel",
          "state": {
            "_model_module": "@jupyter-widgets/base",
            "_model_module_version": "1.2.0",
            "_model_name": "LayoutModel",
            "_view_count": null,
            "_view_module": "@jupyter-widgets/base",
            "_view_module_version": "1.2.0",
            "_view_name": "LayoutView",
            "align_content": null,
            "align_items": null,
            "align_self": null,
            "border": null,
            "bottom": null,
            "display": null,
            "flex": null,
            "flex_flow": null,
            "grid_area": null,
            "grid_auto_columns": null,
            "grid_auto_flow": null,
            "grid_auto_rows": null,
            "grid_column": null,
            "grid_gap": null,
            "grid_row": null,
            "grid_template_areas": null,
            "grid_template_columns": null,
            "grid_template_rows": null,
            "height": null,
            "justify_content": null,
            "justify_items": null,
            "left": null,
            "margin": null,
            "max_height": null,
            "max_width": null,
            "min_height": null,
            "min_width": null,
            "object_fit": null,
            "object_position": null,
            "order": null,
            "overflow": null,
            "overflow_x": null,
            "overflow_y": null,
            "padding": null,
            "right": null,
            "top": null,
            "visibility": null,
            "width": null
          }
        },
        "d1fa9029a8ec4d36af45238c9ceca325": {
          "model_module": "@jupyter-widgets/controls",
          "model_name": "ProgressStyleModel",
          "state": {
            "_model_module": "@jupyter-widgets/controls",
            "_model_module_version": "1.5.0",
            "_model_name": "ProgressStyleModel",
            "_view_count": null,
            "_view_module": "@jupyter-widgets/base",
            "_view_module_version": "1.2.0",
            "_view_name": "StyleView",
            "bar_color": null,
            "description_width": ""
          }
        },
        "bdba088c6e8e4badaa669dc4b498e5c2": {
          "model_module": "@jupyter-widgets/controls",
          "model_name": "VBoxModel",
          "state": {
            "_dom_classes": [],
            "_model_module": "@jupyter-widgets/controls",
            "_model_module_version": "1.5.0",
            "_model_name": "VBoxModel",
            "_view_count": null,
            "_view_module": "@jupyter-widgets/controls",
            "_view_module_version": "1.5.0",
            "_view_name": "VBoxView",
            "box_style": "",
            "children": [
              "IPY_MODEL_b0941a7ff01c42e38d252af52a05ddaa",
              "IPY_MODEL_bfe8f07e230940f8a99021cc3724723e"
            ],
            "layout": "IPY_MODEL_052a083a535c45c98453e9cf2b84a035"
          }
        },
        "b0941a7ff01c42e38d252af52a05ddaa": {
          "model_module": "@jupyter-widgets/controls",
          "model_name": "LabelModel",
          "state": {
            "_dom_classes": [],
            "_model_module": "@jupyter-widgets/controls",
            "_model_module_version": "1.5.0",
            "_model_name": "LabelModel",
            "_view_count": null,
            "_view_module": "@jupyter-widgets/controls",
            "_view_module_version": "1.5.0",
            "_view_name": "LabelView",
            "description": "",
            "description_tooltip": null,
            "layout": "IPY_MODEL_0d3a6dce7ab24ef68a333d58b3433ae2",
            "placeholder": "​",
            "style": "IPY_MODEL_ebcfc99e75fe40dba478924e3aa1de01",
            "value": " 0.04MB of 0.04MB uploaded (0.00MB deduped)\r"
          }
        },
        "bfe8f07e230940f8a99021cc3724723e": {
          "model_module": "@jupyter-widgets/controls",
          "model_name": "FloatProgressModel",
          "state": {
            "_dom_classes": [],
            "_model_module": "@jupyter-widgets/controls",
            "_model_module_version": "1.5.0",
            "_model_name": "FloatProgressModel",
            "_view_count": null,
            "_view_module": "@jupyter-widgets/controls",
            "_view_module_version": "1.5.0",
            "_view_name": "ProgressView",
            "bar_style": "",
            "description": "",
            "description_tooltip": null,
            "layout": "IPY_MODEL_76ce56cc227b4826af4b47c9802b7000",
            "max": 1,
            "min": 0,
            "orientation": "horizontal",
            "style": "IPY_MODEL_5f22e24d550f4ffdb398dec5e1502ebb",
            "value": 1
          }
        },
        "052a083a535c45c98453e9cf2b84a035": {
          "model_module": "@jupyter-widgets/base",
          "model_name": "LayoutModel",
          "state": {
            "_model_module": "@jupyter-widgets/base",
            "_model_module_version": "1.2.0",
            "_model_name": "LayoutModel",
            "_view_count": null,
            "_view_module": "@jupyter-widgets/base",
            "_view_module_version": "1.2.0",
            "_view_name": "LayoutView",
            "align_content": null,
            "align_items": null,
            "align_self": null,
            "border": null,
            "bottom": null,
            "display": null,
            "flex": null,
            "flex_flow": null,
            "grid_area": null,
            "grid_auto_columns": null,
            "grid_auto_flow": null,
            "grid_auto_rows": null,
            "grid_column": null,
            "grid_gap": null,
            "grid_row": null,
            "grid_template_areas": null,
            "grid_template_columns": null,
            "grid_template_rows": null,
            "height": null,
            "justify_content": null,
            "justify_items": null,
            "left": null,
            "margin": null,
            "max_height": null,
            "max_width": null,
            "min_height": null,
            "min_width": null,
            "object_fit": null,
            "object_position": null,
            "order": null,
            "overflow": null,
            "overflow_x": null,
            "overflow_y": null,
            "padding": null,
            "right": null,
            "top": null,
            "visibility": null,
            "width": null
          }
        },
        "0d3a6dce7ab24ef68a333d58b3433ae2": {
          "model_module": "@jupyter-widgets/base",
          "model_name": "LayoutModel",
          "state": {
            "_model_module": "@jupyter-widgets/base",
            "_model_module_version": "1.2.0",
            "_model_name": "LayoutModel",
            "_view_count": null,
            "_view_module": "@jupyter-widgets/base",
            "_view_module_version": "1.2.0",
            "_view_name": "LayoutView",
            "align_content": null,
            "align_items": null,
            "align_self": null,
            "border": null,
            "bottom": null,
            "display": null,
            "flex": null,
            "flex_flow": null,
            "grid_area": null,
            "grid_auto_columns": null,
            "grid_auto_flow": null,
            "grid_auto_rows": null,
            "grid_column": null,
            "grid_gap": null,
            "grid_row": null,
            "grid_template_areas": null,
            "grid_template_columns": null,
            "grid_template_rows": null,
            "height": null,
            "justify_content": null,
            "justify_items": null,
            "left": null,
            "margin": null,
            "max_height": null,
            "max_width": null,
            "min_height": null,
            "min_width": null,
            "object_fit": null,
            "object_position": null,
            "order": null,
            "overflow": null,
            "overflow_x": null,
            "overflow_y": null,
            "padding": null,
            "right": null,
            "top": null,
            "visibility": null,
            "width": null
          }
        },
        "ebcfc99e75fe40dba478924e3aa1de01": {
          "model_module": "@jupyter-widgets/controls",
          "model_name": "DescriptionStyleModel",
          "state": {
            "_model_module": "@jupyter-widgets/controls",
            "_model_module_version": "1.5.0",
            "_model_name": "DescriptionStyleModel",
            "_view_count": null,
            "_view_module": "@jupyter-widgets/base",
            "_view_module_version": "1.2.0",
            "_view_name": "StyleView",
            "description_width": ""
          }
        },
        "76ce56cc227b4826af4b47c9802b7000": {
          "model_module": "@jupyter-widgets/base",
          "model_name": "LayoutModel",
          "state": {
            "_model_module": "@jupyter-widgets/base",
            "_model_module_version": "1.2.0",
            "_model_name": "LayoutModel",
            "_view_count": null,
            "_view_module": "@jupyter-widgets/base",
            "_view_module_version": "1.2.0",
            "_view_name": "LayoutView",
            "align_content": null,
            "align_items": null,
            "align_self": null,
            "border": null,
            "bottom": null,
            "display": null,
            "flex": null,
            "flex_flow": null,
            "grid_area": null,
            "grid_auto_columns": null,
            "grid_auto_flow": null,
            "grid_auto_rows": null,
            "grid_column": null,
            "grid_gap": null,
            "grid_row": null,
            "grid_template_areas": null,
            "grid_template_columns": null,
            "grid_template_rows": null,
            "height": null,
            "justify_content": null,
            "justify_items": null,
            "left": null,
            "margin": null,
            "max_height": null,
            "max_width": null,
            "min_height": null,
            "min_width": null,
            "object_fit": null,
            "object_position": null,
            "order": null,
            "overflow": null,
            "overflow_x": null,
            "overflow_y": null,
            "padding": null,
            "right": null,
            "top": null,
            "visibility": null,
            "width": null
          }
        },
        "5f22e24d550f4ffdb398dec5e1502ebb": {
          "model_module": "@jupyter-widgets/controls",
          "model_name": "ProgressStyleModel",
          "state": {
            "_model_module": "@jupyter-widgets/controls",
            "_model_module_version": "1.5.0",
            "_model_name": "ProgressStyleModel",
            "_view_count": null,
            "_view_module": "@jupyter-widgets/base",
            "_view_module_version": "1.2.0",
            "_view_name": "StyleView",
            "bar_color": null,
            "description_width": ""
          }
        },
        "2327bee344694c638805f58727d25a1f": {
          "model_module": "@jupyter-widgets/controls",
          "model_name": "VBoxModel",
          "state": {
            "_dom_classes": [],
            "_model_module": "@jupyter-widgets/controls",
            "_model_module_version": "1.5.0",
            "_model_name": "VBoxModel",
            "_view_count": null,
            "_view_module": "@jupyter-widgets/controls",
            "_view_module_version": "1.5.0",
            "_view_name": "VBoxView",
            "box_style": "",
            "children": [
              "IPY_MODEL_101a7fbf109146c9b570f54c9ddcc46d",
              "IPY_MODEL_4138174235514b3291083c93a1cd0626"
            ],
            "layout": "IPY_MODEL_c468d333ac854084885899e5089fbd93"
          }
        },
        "101a7fbf109146c9b570f54c9ddcc46d": {
          "model_module": "@jupyter-widgets/controls",
          "model_name": "LabelModel",
          "state": {
            "_dom_classes": [],
            "_model_module": "@jupyter-widgets/controls",
            "_model_module_version": "1.5.0",
            "_model_name": "LabelModel",
            "_view_count": null,
            "_view_module": "@jupyter-widgets/controls",
            "_view_module_version": "1.5.0",
            "_view_name": "LabelView",
            "description": "",
            "description_tooltip": null,
            "layout": "IPY_MODEL_958d71eca9fb4d9cac29363981f04b98",
            "placeholder": "​",
            "style": "IPY_MODEL_77be1cdf250940a993b8533b2a2dce13",
            "value": " 0.04MB of 0.04MB uploaded (0.00MB deduped)\r"
          }
        },
        "4138174235514b3291083c93a1cd0626": {
          "model_module": "@jupyter-widgets/controls",
          "model_name": "FloatProgressModel",
          "state": {
            "_dom_classes": [],
            "_model_module": "@jupyter-widgets/controls",
            "_model_module_version": "1.5.0",
            "_model_name": "FloatProgressModel",
            "_view_count": null,
            "_view_module": "@jupyter-widgets/controls",
            "_view_module_version": "1.5.0",
            "_view_name": "ProgressView",
            "bar_style": "",
            "description": "",
            "description_tooltip": null,
            "layout": "IPY_MODEL_447222a125024129816c66ee59bb2a10",
            "max": 1,
            "min": 0,
            "orientation": "horizontal",
            "style": "IPY_MODEL_e4aa43f292834e9bb3955c383f9742f2",
            "value": 1
          }
        },
        "c468d333ac854084885899e5089fbd93": {
          "model_module": "@jupyter-widgets/base",
          "model_name": "LayoutModel",
          "state": {
            "_model_module": "@jupyter-widgets/base",
            "_model_module_version": "1.2.0",
            "_model_name": "LayoutModel",
            "_view_count": null,
            "_view_module": "@jupyter-widgets/base",
            "_view_module_version": "1.2.0",
            "_view_name": "LayoutView",
            "align_content": null,
            "align_items": null,
            "align_self": null,
            "border": null,
            "bottom": null,
            "display": null,
            "flex": null,
            "flex_flow": null,
            "grid_area": null,
            "grid_auto_columns": null,
            "grid_auto_flow": null,
            "grid_auto_rows": null,
            "grid_column": null,
            "grid_gap": null,
            "grid_row": null,
            "grid_template_areas": null,
            "grid_template_columns": null,
            "grid_template_rows": null,
            "height": null,
            "justify_content": null,
            "justify_items": null,
            "left": null,
            "margin": null,
            "max_height": null,
            "max_width": null,
            "min_height": null,
            "min_width": null,
            "object_fit": null,
            "object_position": null,
            "order": null,
            "overflow": null,
            "overflow_x": null,
            "overflow_y": null,
            "padding": null,
            "right": null,
            "top": null,
            "visibility": null,
            "width": null
          }
        },
        "958d71eca9fb4d9cac29363981f04b98": {
          "model_module": "@jupyter-widgets/base",
          "model_name": "LayoutModel",
          "state": {
            "_model_module": "@jupyter-widgets/base",
            "_model_module_version": "1.2.0",
            "_model_name": "LayoutModel",
            "_view_count": null,
            "_view_module": "@jupyter-widgets/base",
            "_view_module_version": "1.2.0",
            "_view_name": "LayoutView",
            "align_content": null,
            "align_items": null,
            "align_self": null,
            "border": null,
            "bottom": null,
            "display": null,
            "flex": null,
            "flex_flow": null,
            "grid_area": null,
            "grid_auto_columns": null,
            "grid_auto_flow": null,
            "grid_auto_rows": null,
            "grid_column": null,
            "grid_gap": null,
            "grid_row": null,
            "grid_template_areas": null,
            "grid_template_columns": null,
            "grid_template_rows": null,
            "height": null,
            "justify_content": null,
            "justify_items": null,
            "left": null,
            "margin": null,
            "max_height": null,
            "max_width": null,
            "min_height": null,
            "min_width": null,
            "object_fit": null,
            "object_position": null,
            "order": null,
            "overflow": null,
            "overflow_x": null,
            "overflow_y": null,
            "padding": null,
            "right": null,
            "top": null,
            "visibility": null,
            "width": null
          }
        },
        "77be1cdf250940a993b8533b2a2dce13": {
          "model_module": "@jupyter-widgets/controls",
          "model_name": "DescriptionStyleModel",
          "state": {
            "_model_module": "@jupyter-widgets/controls",
            "_model_module_version": "1.5.0",
            "_model_name": "DescriptionStyleModel",
            "_view_count": null,
            "_view_module": "@jupyter-widgets/base",
            "_view_module_version": "1.2.0",
            "_view_name": "StyleView",
            "description_width": ""
          }
        },
        "447222a125024129816c66ee59bb2a10": {
          "model_module": "@jupyter-widgets/base",
          "model_name": "LayoutModel",
          "state": {
            "_model_module": "@jupyter-widgets/base",
            "_model_module_version": "1.2.0",
            "_model_name": "LayoutModel",
            "_view_count": null,
            "_view_module": "@jupyter-widgets/base",
            "_view_module_version": "1.2.0",
            "_view_name": "LayoutView",
            "align_content": null,
            "align_items": null,
            "align_self": null,
            "border": null,
            "bottom": null,
            "display": null,
            "flex": null,
            "flex_flow": null,
            "grid_area": null,
            "grid_auto_columns": null,
            "grid_auto_flow": null,
            "grid_auto_rows": null,
            "grid_column": null,
            "grid_gap": null,
            "grid_row": null,
            "grid_template_areas": null,
            "grid_template_columns": null,
            "grid_template_rows": null,
            "height": null,
            "justify_content": null,
            "justify_items": null,
            "left": null,
            "margin": null,
            "max_height": null,
            "max_width": null,
            "min_height": null,
            "min_width": null,
            "object_fit": null,
            "object_position": null,
            "order": null,
            "overflow": null,
            "overflow_x": null,
            "overflow_y": null,
            "padding": null,
            "right": null,
            "top": null,
            "visibility": null,
            "width": null
          }
        },
        "e4aa43f292834e9bb3955c383f9742f2": {
          "model_module": "@jupyter-widgets/controls",
          "model_name": "ProgressStyleModel",
          "state": {
            "_model_module": "@jupyter-widgets/controls",
            "_model_module_version": "1.5.0",
            "_model_name": "ProgressStyleModel",
            "_view_count": null,
            "_view_module": "@jupyter-widgets/base",
            "_view_module_version": "1.2.0",
            "_view_name": "StyleView",
            "bar_color": null,
            "description_width": ""
          }
        },
        "86d4f3358b584fdea0164def6024525b": {
          "model_module": "@jupyter-widgets/controls",
          "model_name": "VBoxModel",
          "state": {
            "_dom_classes": [],
            "_model_module": "@jupyter-widgets/controls",
            "_model_module_version": "1.5.0",
            "_model_name": "VBoxModel",
            "_view_count": null,
            "_view_module": "@jupyter-widgets/controls",
            "_view_module_version": "1.5.0",
            "_view_name": "VBoxView",
            "box_style": "",
            "children": [
              "IPY_MODEL_4d7357dead674bb2be043c65f511dcf2",
              "IPY_MODEL_cc304678d184405ea7b6f8475bf28c2a"
            ],
            "layout": "IPY_MODEL_3fdab1a4ea704f27867ec3b39000272e"
          }
        },
        "4d7357dead674bb2be043c65f511dcf2": {
          "model_module": "@jupyter-widgets/controls",
          "model_name": "LabelModel",
          "state": {
            "_dom_classes": [],
            "_model_module": "@jupyter-widgets/controls",
            "_model_module_version": "1.5.0",
            "_model_name": "LabelModel",
            "_view_count": null,
            "_view_module": "@jupyter-widgets/controls",
            "_view_module_version": "1.5.0",
            "_view_name": "LabelView",
            "description": "",
            "description_tooltip": null,
            "layout": "IPY_MODEL_2f5ab16ce82049b089ebf65817de799a",
            "placeholder": "​",
            "style": "IPY_MODEL_cc234f6293e6457aa268cae8570c718e",
            "value": " 0.04MB of 0.04MB uploaded (0.00MB deduped)\r"
          }
        },
        "cc304678d184405ea7b6f8475bf28c2a": {
          "model_module": "@jupyter-widgets/controls",
          "model_name": "FloatProgressModel",
          "state": {
            "_dom_classes": [],
            "_model_module": "@jupyter-widgets/controls",
            "_model_module_version": "1.5.0",
            "_model_name": "FloatProgressModel",
            "_view_count": null,
            "_view_module": "@jupyter-widgets/controls",
            "_view_module_version": "1.5.0",
            "_view_name": "ProgressView",
            "bar_style": "",
            "description": "",
            "description_tooltip": null,
            "layout": "IPY_MODEL_d4e5dd4f2f4345558757450cb48d7bbe",
            "max": 1,
            "min": 0,
            "orientation": "horizontal",
            "style": "IPY_MODEL_c02befba7c2d4ac38176e5744f951403",
            "value": 1
          }
        },
        "3fdab1a4ea704f27867ec3b39000272e": {
          "model_module": "@jupyter-widgets/base",
          "model_name": "LayoutModel",
          "state": {
            "_model_module": "@jupyter-widgets/base",
            "_model_module_version": "1.2.0",
            "_model_name": "LayoutModel",
            "_view_count": null,
            "_view_module": "@jupyter-widgets/base",
            "_view_module_version": "1.2.0",
            "_view_name": "LayoutView",
            "align_content": null,
            "align_items": null,
            "align_self": null,
            "border": null,
            "bottom": null,
            "display": null,
            "flex": null,
            "flex_flow": null,
            "grid_area": null,
            "grid_auto_columns": null,
            "grid_auto_flow": null,
            "grid_auto_rows": null,
            "grid_column": null,
            "grid_gap": null,
            "grid_row": null,
            "grid_template_areas": null,
            "grid_template_columns": null,
            "grid_template_rows": null,
            "height": null,
            "justify_content": null,
            "justify_items": null,
            "left": null,
            "margin": null,
            "max_height": null,
            "max_width": null,
            "min_height": null,
            "min_width": null,
            "object_fit": null,
            "object_position": null,
            "order": null,
            "overflow": null,
            "overflow_x": null,
            "overflow_y": null,
            "padding": null,
            "right": null,
            "top": null,
            "visibility": null,
            "width": null
          }
        },
        "2f5ab16ce82049b089ebf65817de799a": {
          "model_module": "@jupyter-widgets/base",
          "model_name": "LayoutModel",
          "state": {
            "_model_module": "@jupyter-widgets/base",
            "_model_module_version": "1.2.0",
            "_model_name": "LayoutModel",
            "_view_count": null,
            "_view_module": "@jupyter-widgets/base",
            "_view_module_version": "1.2.0",
            "_view_name": "LayoutView",
            "align_content": null,
            "align_items": null,
            "align_self": null,
            "border": null,
            "bottom": null,
            "display": null,
            "flex": null,
            "flex_flow": null,
            "grid_area": null,
            "grid_auto_columns": null,
            "grid_auto_flow": null,
            "grid_auto_rows": null,
            "grid_column": null,
            "grid_gap": null,
            "grid_row": null,
            "grid_template_areas": null,
            "grid_template_columns": null,
            "grid_template_rows": null,
            "height": null,
            "justify_content": null,
            "justify_items": null,
            "left": null,
            "margin": null,
            "max_height": null,
            "max_width": null,
            "min_height": null,
            "min_width": null,
            "object_fit": null,
            "object_position": null,
            "order": null,
            "overflow": null,
            "overflow_x": null,
            "overflow_y": null,
            "padding": null,
            "right": null,
            "top": null,
            "visibility": null,
            "width": null
          }
        },
        "cc234f6293e6457aa268cae8570c718e": {
          "model_module": "@jupyter-widgets/controls",
          "model_name": "DescriptionStyleModel",
          "state": {
            "_model_module": "@jupyter-widgets/controls",
            "_model_module_version": "1.5.0",
            "_model_name": "DescriptionStyleModel",
            "_view_count": null,
            "_view_module": "@jupyter-widgets/base",
            "_view_module_version": "1.2.0",
            "_view_name": "StyleView",
            "description_width": ""
          }
        },
        "d4e5dd4f2f4345558757450cb48d7bbe": {
          "model_module": "@jupyter-widgets/base",
          "model_name": "LayoutModel",
          "state": {
            "_model_module": "@jupyter-widgets/base",
            "_model_module_version": "1.2.0",
            "_model_name": "LayoutModel",
            "_view_count": null,
            "_view_module": "@jupyter-widgets/base",
            "_view_module_version": "1.2.0",
            "_view_name": "LayoutView",
            "align_content": null,
            "align_items": null,
            "align_self": null,
            "border": null,
            "bottom": null,
            "display": null,
            "flex": null,
            "flex_flow": null,
            "grid_area": null,
            "grid_auto_columns": null,
            "grid_auto_flow": null,
            "grid_auto_rows": null,
            "grid_column": null,
            "grid_gap": null,
            "grid_row": null,
            "grid_template_areas": null,
            "grid_template_columns": null,
            "grid_template_rows": null,
            "height": null,
            "justify_content": null,
            "justify_items": null,
            "left": null,
            "margin": null,
            "max_height": null,
            "max_width": null,
            "min_height": null,
            "min_width": null,
            "object_fit": null,
            "object_position": null,
            "order": null,
            "overflow": null,
            "overflow_x": null,
            "overflow_y": null,
            "padding": null,
            "right": null,
            "top": null,
            "visibility": null,
            "width": null
          }
        },
        "c02befba7c2d4ac38176e5744f951403": {
          "model_module": "@jupyter-widgets/controls",
          "model_name": "ProgressStyleModel",
          "state": {
            "_model_module": "@jupyter-widgets/controls",
            "_model_module_version": "1.5.0",
            "_model_name": "ProgressStyleModel",
            "_view_count": null,
            "_view_module": "@jupyter-widgets/base",
            "_view_module_version": "1.2.0",
            "_view_name": "StyleView",
            "bar_color": null,
            "description_width": ""
          }
        },
        "6d0ec09448654d4780df23a0eb39a8a5": {
          "model_module": "@jupyter-widgets/controls",
          "model_name": "VBoxModel",
          "state": {
            "_dom_classes": [],
            "_model_module": "@jupyter-widgets/controls",
            "_model_module_version": "1.5.0",
            "_model_name": "VBoxModel",
            "_view_count": null,
            "_view_module": "@jupyter-widgets/controls",
            "_view_module_version": "1.5.0",
            "_view_name": "VBoxView",
            "box_style": "",
            "children": [
              "IPY_MODEL_af92a1be2b5e49549f956a3651ab386a",
              "IPY_MODEL_a5f4c9c19e244d8588c240ba108c8664"
            ],
            "layout": "IPY_MODEL_a7922ae1e68d40d4ade2cf781b2cb2e8"
          }
        },
        "af92a1be2b5e49549f956a3651ab386a": {
          "model_module": "@jupyter-widgets/controls",
          "model_name": "LabelModel",
          "state": {
            "_dom_classes": [],
            "_model_module": "@jupyter-widgets/controls",
            "_model_module_version": "1.5.0",
            "_model_name": "LabelModel",
            "_view_count": null,
            "_view_module": "@jupyter-widgets/controls",
            "_view_module_version": "1.5.0",
            "_view_name": "LabelView",
            "description": "",
            "description_tooltip": null,
            "layout": "IPY_MODEL_75da8b82d9f64fd1974a6f40c5484740",
            "placeholder": "​",
            "style": "IPY_MODEL_7e2014c46c6a4bcb84bd9085c3fdfa9c",
            "value": " 0.04MB of 0.04MB uploaded (0.00MB deduped)\r"
          }
        },
        "a5f4c9c19e244d8588c240ba108c8664": {
          "model_module": "@jupyter-widgets/controls",
          "model_name": "FloatProgressModel",
          "state": {
            "_dom_classes": [],
            "_model_module": "@jupyter-widgets/controls",
            "_model_module_version": "1.5.0",
            "_model_name": "FloatProgressModel",
            "_view_count": null,
            "_view_module": "@jupyter-widgets/controls",
            "_view_module_version": "1.5.0",
            "_view_name": "ProgressView",
            "bar_style": "",
            "description": "",
            "description_tooltip": null,
            "layout": "IPY_MODEL_39f1d01a72ad4fb49ec5df9da02e2172",
            "max": 1,
            "min": 0,
            "orientation": "horizontal",
            "style": "IPY_MODEL_21b26dbdfe13435ba4b02bb70de4a4f7",
            "value": 1
          }
        },
        "a7922ae1e68d40d4ade2cf781b2cb2e8": {
          "model_module": "@jupyter-widgets/base",
          "model_name": "LayoutModel",
          "state": {
            "_model_module": "@jupyter-widgets/base",
            "_model_module_version": "1.2.0",
            "_model_name": "LayoutModel",
            "_view_count": null,
            "_view_module": "@jupyter-widgets/base",
            "_view_module_version": "1.2.0",
            "_view_name": "LayoutView",
            "align_content": null,
            "align_items": null,
            "align_self": null,
            "border": null,
            "bottom": null,
            "display": null,
            "flex": null,
            "flex_flow": null,
            "grid_area": null,
            "grid_auto_columns": null,
            "grid_auto_flow": null,
            "grid_auto_rows": null,
            "grid_column": null,
            "grid_gap": null,
            "grid_row": null,
            "grid_template_areas": null,
            "grid_template_columns": null,
            "grid_template_rows": null,
            "height": null,
            "justify_content": null,
            "justify_items": null,
            "left": null,
            "margin": null,
            "max_height": null,
            "max_width": null,
            "min_height": null,
            "min_width": null,
            "object_fit": null,
            "object_position": null,
            "order": null,
            "overflow": null,
            "overflow_x": null,
            "overflow_y": null,
            "padding": null,
            "right": null,
            "top": null,
            "visibility": null,
            "width": null
          }
        },
        "75da8b82d9f64fd1974a6f40c5484740": {
          "model_module": "@jupyter-widgets/base",
          "model_name": "LayoutModel",
          "state": {
            "_model_module": "@jupyter-widgets/base",
            "_model_module_version": "1.2.0",
            "_model_name": "LayoutModel",
            "_view_count": null,
            "_view_module": "@jupyter-widgets/base",
            "_view_module_version": "1.2.0",
            "_view_name": "LayoutView",
            "align_content": null,
            "align_items": null,
            "align_self": null,
            "border": null,
            "bottom": null,
            "display": null,
            "flex": null,
            "flex_flow": null,
            "grid_area": null,
            "grid_auto_columns": null,
            "grid_auto_flow": null,
            "grid_auto_rows": null,
            "grid_column": null,
            "grid_gap": null,
            "grid_row": null,
            "grid_template_areas": null,
            "grid_template_columns": null,
            "grid_template_rows": null,
            "height": null,
            "justify_content": null,
            "justify_items": null,
            "left": null,
            "margin": null,
            "max_height": null,
            "max_width": null,
            "min_height": null,
            "min_width": null,
            "object_fit": null,
            "object_position": null,
            "order": null,
            "overflow": null,
            "overflow_x": null,
            "overflow_y": null,
            "padding": null,
            "right": null,
            "top": null,
            "visibility": null,
            "width": null
          }
        },
        "7e2014c46c6a4bcb84bd9085c3fdfa9c": {
          "model_module": "@jupyter-widgets/controls",
          "model_name": "DescriptionStyleModel",
          "state": {
            "_model_module": "@jupyter-widgets/controls",
            "_model_module_version": "1.5.0",
            "_model_name": "DescriptionStyleModel",
            "_view_count": null,
            "_view_module": "@jupyter-widgets/base",
            "_view_module_version": "1.2.0",
            "_view_name": "StyleView",
            "description_width": ""
          }
        },
        "39f1d01a72ad4fb49ec5df9da02e2172": {
          "model_module": "@jupyter-widgets/base",
          "model_name": "LayoutModel",
          "state": {
            "_model_module": "@jupyter-widgets/base",
            "_model_module_version": "1.2.0",
            "_model_name": "LayoutModel",
            "_view_count": null,
            "_view_module": "@jupyter-widgets/base",
            "_view_module_version": "1.2.0",
            "_view_name": "LayoutView",
            "align_content": null,
            "align_items": null,
            "align_self": null,
            "border": null,
            "bottom": null,
            "display": null,
            "flex": null,
            "flex_flow": null,
            "grid_area": null,
            "grid_auto_columns": null,
            "grid_auto_flow": null,
            "grid_auto_rows": null,
            "grid_column": null,
            "grid_gap": null,
            "grid_row": null,
            "grid_template_areas": null,
            "grid_template_columns": null,
            "grid_template_rows": null,
            "height": null,
            "justify_content": null,
            "justify_items": null,
            "left": null,
            "margin": null,
            "max_height": null,
            "max_width": null,
            "min_height": null,
            "min_width": null,
            "object_fit": null,
            "object_position": null,
            "order": null,
            "overflow": null,
            "overflow_x": null,
            "overflow_y": null,
            "padding": null,
            "right": null,
            "top": null,
            "visibility": null,
            "width": null
          }
        },
        "21b26dbdfe13435ba4b02bb70de4a4f7": {
          "model_module": "@jupyter-widgets/controls",
          "model_name": "ProgressStyleModel",
          "state": {
            "_model_module": "@jupyter-widgets/controls",
            "_model_module_version": "1.5.0",
            "_model_name": "ProgressStyleModel",
            "_view_count": null,
            "_view_module": "@jupyter-widgets/base",
            "_view_module_version": "1.2.0",
            "_view_name": "StyleView",
            "bar_color": null,
            "description_width": ""
          }
        },
        "468c3a12bdb744a79decdd1db7a666ae": {
          "model_module": "@jupyter-widgets/controls",
          "model_name": "VBoxModel",
          "state": {
            "_dom_classes": [],
            "_model_module": "@jupyter-widgets/controls",
            "_model_module_version": "1.5.0",
            "_model_name": "VBoxModel",
            "_view_count": null,
            "_view_module": "@jupyter-widgets/controls",
            "_view_module_version": "1.5.0",
            "_view_name": "VBoxView",
            "box_style": "",
            "children": [
              "IPY_MODEL_ffbea8aa10bc41fa83fe0ce56b5794b9",
              "IPY_MODEL_ab3836c903b7487c8ee2de2ede98b51f"
            ],
            "layout": "IPY_MODEL_c151a31b81b4485bb11ed68687f7be3e"
          }
        },
        "ffbea8aa10bc41fa83fe0ce56b5794b9": {
          "model_module": "@jupyter-widgets/controls",
          "model_name": "LabelModel",
          "state": {
            "_dom_classes": [],
            "_model_module": "@jupyter-widgets/controls",
            "_model_module_version": "1.5.0",
            "_model_name": "LabelModel",
            "_view_count": null,
            "_view_module": "@jupyter-widgets/controls",
            "_view_module_version": "1.5.0",
            "_view_name": "LabelView",
            "description": "",
            "description_tooltip": null,
            "layout": "IPY_MODEL_42dbf829f11e483fae5ae58d88e2cdcc",
            "placeholder": "​",
            "style": "IPY_MODEL_cdc2b09d17924b0d884d9908551f6592",
            "value": " 0.04MB of 0.04MB uploaded (0.00MB deduped)\r"
          }
        },
        "ab3836c903b7487c8ee2de2ede98b51f": {
          "model_module": "@jupyter-widgets/controls",
          "model_name": "FloatProgressModel",
          "state": {
            "_dom_classes": [],
            "_model_module": "@jupyter-widgets/controls",
            "_model_module_version": "1.5.0",
            "_model_name": "FloatProgressModel",
            "_view_count": null,
            "_view_module": "@jupyter-widgets/controls",
            "_view_module_version": "1.5.0",
            "_view_name": "ProgressView",
            "bar_style": "",
            "description": "",
            "description_tooltip": null,
            "layout": "IPY_MODEL_f72c17fc8d0548d086dc65d2bc9d72f3",
            "max": 1,
            "min": 0,
            "orientation": "horizontal",
            "style": "IPY_MODEL_0d7760ecc9854d75825bce2cbc1e89ba",
            "value": 1
          }
        },
        "c151a31b81b4485bb11ed68687f7be3e": {
          "model_module": "@jupyter-widgets/base",
          "model_name": "LayoutModel",
          "state": {
            "_model_module": "@jupyter-widgets/base",
            "_model_module_version": "1.2.0",
            "_model_name": "LayoutModel",
            "_view_count": null,
            "_view_module": "@jupyter-widgets/base",
            "_view_module_version": "1.2.0",
            "_view_name": "LayoutView",
            "align_content": null,
            "align_items": null,
            "align_self": null,
            "border": null,
            "bottom": null,
            "display": null,
            "flex": null,
            "flex_flow": null,
            "grid_area": null,
            "grid_auto_columns": null,
            "grid_auto_flow": null,
            "grid_auto_rows": null,
            "grid_column": null,
            "grid_gap": null,
            "grid_row": null,
            "grid_template_areas": null,
            "grid_template_columns": null,
            "grid_template_rows": null,
            "height": null,
            "justify_content": null,
            "justify_items": null,
            "left": null,
            "margin": null,
            "max_height": null,
            "max_width": null,
            "min_height": null,
            "min_width": null,
            "object_fit": null,
            "object_position": null,
            "order": null,
            "overflow": null,
            "overflow_x": null,
            "overflow_y": null,
            "padding": null,
            "right": null,
            "top": null,
            "visibility": null,
            "width": null
          }
        },
        "42dbf829f11e483fae5ae58d88e2cdcc": {
          "model_module": "@jupyter-widgets/base",
          "model_name": "LayoutModel",
          "state": {
            "_model_module": "@jupyter-widgets/base",
            "_model_module_version": "1.2.0",
            "_model_name": "LayoutModel",
            "_view_count": null,
            "_view_module": "@jupyter-widgets/base",
            "_view_module_version": "1.2.0",
            "_view_name": "LayoutView",
            "align_content": null,
            "align_items": null,
            "align_self": null,
            "border": null,
            "bottom": null,
            "display": null,
            "flex": null,
            "flex_flow": null,
            "grid_area": null,
            "grid_auto_columns": null,
            "grid_auto_flow": null,
            "grid_auto_rows": null,
            "grid_column": null,
            "grid_gap": null,
            "grid_row": null,
            "grid_template_areas": null,
            "grid_template_columns": null,
            "grid_template_rows": null,
            "height": null,
            "justify_content": null,
            "justify_items": null,
            "left": null,
            "margin": null,
            "max_height": null,
            "max_width": null,
            "min_height": null,
            "min_width": null,
            "object_fit": null,
            "object_position": null,
            "order": null,
            "overflow": null,
            "overflow_x": null,
            "overflow_y": null,
            "padding": null,
            "right": null,
            "top": null,
            "visibility": null,
            "width": null
          }
        },
        "cdc2b09d17924b0d884d9908551f6592": {
          "model_module": "@jupyter-widgets/controls",
          "model_name": "DescriptionStyleModel",
          "state": {
            "_model_module": "@jupyter-widgets/controls",
            "_model_module_version": "1.5.0",
            "_model_name": "DescriptionStyleModel",
            "_view_count": null,
            "_view_module": "@jupyter-widgets/base",
            "_view_module_version": "1.2.0",
            "_view_name": "StyleView",
            "description_width": ""
          }
        },
        "f72c17fc8d0548d086dc65d2bc9d72f3": {
          "model_module": "@jupyter-widgets/base",
          "model_name": "LayoutModel",
          "state": {
            "_model_module": "@jupyter-widgets/base",
            "_model_module_version": "1.2.0",
            "_model_name": "LayoutModel",
            "_view_count": null,
            "_view_module": "@jupyter-widgets/base",
            "_view_module_version": "1.2.0",
            "_view_name": "LayoutView",
            "align_content": null,
            "align_items": null,
            "align_self": null,
            "border": null,
            "bottom": null,
            "display": null,
            "flex": null,
            "flex_flow": null,
            "grid_area": null,
            "grid_auto_columns": null,
            "grid_auto_flow": null,
            "grid_auto_rows": null,
            "grid_column": null,
            "grid_gap": null,
            "grid_row": null,
            "grid_template_areas": null,
            "grid_template_columns": null,
            "grid_template_rows": null,
            "height": null,
            "justify_content": null,
            "justify_items": null,
            "left": null,
            "margin": null,
            "max_height": null,
            "max_width": null,
            "min_height": null,
            "min_width": null,
            "object_fit": null,
            "object_position": null,
            "order": null,
            "overflow": null,
            "overflow_x": null,
            "overflow_y": null,
            "padding": null,
            "right": null,
            "top": null,
            "visibility": null,
            "width": null
          }
        },
        "0d7760ecc9854d75825bce2cbc1e89ba": {
          "model_module": "@jupyter-widgets/controls",
          "model_name": "ProgressStyleModel",
          "state": {
            "_model_module": "@jupyter-widgets/controls",
            "_model_module_version": "1.5.0",
            "_model_name": "ProgressStyleModel",
            "_view_count": null,
            "_view_module": "@jupyter-widgets/base",
            "_view_module_version": "1.2.0",
            "_view_name": "StyleView",
            "bar_color": null,
            "description_width": ""
          }
        },
        "5fed97561ff14e6ebd843627184a2362": {
          "model_module": "@jupyter-widgets/controls",
          "model_name": "VBoxModel",
          "state": {
            "_dom_classes": [],
            "_model_module": "@jupyter-widgets/controls",
            "_model_module_version": "1.5.0",
            "_model_name": "VBoxModel",
            "_view_count": null,
            "_view_module": "@jupyter-widgets/controls",
            "_view_module_version": "1.5.0",
            "_view_name": "VBoxView",
            "box_style": "",
            "children": [
              "IPY_MODEL_f405f02f9d4a4aceb53278ff2b265592",
              "IPY_MODEL_597c834d2fc94adea112f8c4f9219fa7"
            ],
            "layout": "IPY_MODEL_bae8fc85f960459e925a58cbddbaa9b8"
          }
        },
        "f405f02f9d4a4aceb53278ff2b265592": {
          "model_module": "@jupyter-widgets/controls",
          "model_name": "LabelModel",
          "state": {
            "_dom_classes": [],
            "_model_module": "@jupyter-widgets/controls",
            "_model_module_version": "1.5.0",
            "_model_name": "LabelModel",
            "_view_count": null,
            "_view_module": "@jupyter-widgets/controls",
            "_view_module_version": "1.5.0",
            "_view_name": "LabelView",
            "description": "",
            "description_tooltip": null,
            "layout": "IPY_MODEL_e4b1e2fd406e418bb52852612cfc57c0",
            "placeholder": "​",
            "style": "IPY_MODEL_ecb6acf3662843248059e2cc43cd4790",
            "value": " 0.04MB of 0.04MB uploaded (0.00MB deduped)\r"
          }
        },
        "597c834d2fc94adea112f8c4f9219fa7": {
          "model_module": "@jupyter-widgets/controls",
          "model_name": "FloatProgressModel",
          "state": {
            "_dom_classes": [],
            "_model_module": "@jupyter-widgets/controls",
            "_model_module_version": "1.5.0",
            "_model_name": "FloatProgressModel",
            "_view_count": null,
            "_view_module": "@jupyter-widgets/controls",
            "_view_module_version": "1.5.0",
            "_view_name": "ProgressView",
            "bar_style": "",
            "description": "",
            "description_tooltip": null,
            "layout": "IPY_MODEL_5d423594274f47568fe2743ff3acb8bf",
            "max": 1,
            "min": 0,
            "orientation": "horizontal",
            "style": "IPY_MODEL_fd6991e156c94d59913333ffa9bbc558",
            "value": 1
          }
        },
        "bae8fc85f960459e925a58cbddbaa9b8": {
          "model_module": "@jupyter-widgets/base",
          "model_name": "LayoutModel",
          "state": {
            "_model_module": "@jupyter-widgets/base",
            "_model_module_version": "1.2.0",
            "_model_name": "LayoutModel",
            "_view_count": null,
            "_view_module": "@jupyter-widgets/base",
            "_view_module_version": "1.2.0",
            "_view_name": "LayoutView",
            "align_content": null,
            "align_items": null,
            "align_self": null,
            "border": null,
            "bottom": null,
            "display": null,
            "flex": null,
            "flex_flow": null,
            "grid_area": null,
            "grid_auto_columns": null,
            "grid_auto_flow": null,
            "grid_auto_rows": null,
            "grid_column": null,
            "grid_gap": null,
            "grid_row": null,
            "grid_template_areas": null,
            "grid_template_columns": null,
            "grid_template_rows": null,
            "height": null,
            "justify_content": null,
            "justify_items": null,
            "left": null,
            "margin": null,
            "max_height": null,
            "max_width": null,
            "min_height": null,
            "min_width": null,
            "object_fit": null,
            "object_position": null,
            "order": null,
            "overflow": null,
            "overflow_x": null,
            "overflow_y": null,
            "padding": null,
            "right": null,
            "top": null,
            "visibility": null,
            "width": null
          }
        },
        "e4b1e2fd406e418bb52852612cfc57c0": {
          "model_module": "@jupyter-widgets/base",
          "model_name": "LayoutModel",
          "state": {
            "_model_module": "@jupyter-widgets/base",
            "_model_module_version": "1.2.0",
            "_model_name": "LayoutModel",
            "_view_count": null,
            "_view_module": "@jupyter-widgets/base",
            "_view_module_version": "1.2.0",
            "_view_name": "LayoutView",
            "align_content": null,
            "align_items": null,
            "align_self": null,
            "border": null,
            "bottom": null,
            "display": null,
            "flex": null,
            "flex_flow": null,
            "grid_area": null,
            "grid_auto_columns": null,
            "grid_auto_flow": null,
            "grid_auto_rows": null,
            "grid_column": null,
            "grid_gap": null,
            "grid_row": null,
            "grid_template_areas": null,
            "grid_template_columns": null,
            "grid_template_rows": null,
            "height": null,
            "justify_content": null,
            "justify_items": null,
            "left": null,
            "margin": null,
            "max_height": null,
            "max_width": null,
            "min_height": null,
            "min_width": null,
            "object_fit": null,
            "object_position": null,
            "order": null,
            "overflow": null,
            "overflow_x": null,
            "overflow_y": null,
            "padding": null,
            "right": null,
            "top": null,
            "visibility": null,
            "width": null
          }
        },
        "ecb6acf3662843248059e2cc43cd4790": {
          "model_module": "@jupyter-widgets/controls",
          "model_name": "DescriptionStyleModel",
          "state": {
            "_model_module": "@jupyter-widgets/controls",
            "_model_module_version": "1.5.0",
            "_model_name": "DescriptionStyleModel",
            "_view_count": null,
            "_view_module": "@jupyter-widgets/base",
            "_view_module_version": "1.2.0",
            "_view_name": "StyleView",
            "description_width": ""
          }
        },
        "5d423594274f47568fe2743ff3acb8bf": {
          "model_module": "@jupyter-widgets/base",
          "model_name": "LayoutModel",
          "state": {
            "_model_module": "@jupyter-widgets/base",
            "_model_module_version": "1.2.0",
            "_model_name": "LayoutModel",
            "_view_count": null,
            "_view_module": "@jupyter-widgets/base",
            "_view_module_version": "1.2.0",
            "_view_name": "LayoutView",
            "align_content": null,
            "align_items": null,
            "align_self": null,
            "border": null,
            "bottom": null,
            "display": null,
            "flex": null,
            "flex_flow": null,
            "grid_area": null,
            "grid_auto_columns": null,
            "grid_auto_flow": null,
            "grid_auto_rows": null,
            "grid_column": null,
            "grid_gap": null,
            "grid_row": null,
            "grid_template_areas": null,
            "grid_template_columns": null,
            "grid_template_rows": null,
            "height": null,
            "justify_content": null,
            "justify_items": null,
            "left": null,
            "margin": null,
            "max_height": null,
            "max_width": null,
            "min_height": null,
            "min_width": null,
            "object_fit": null,
            "object_position": null,
            "order": null,
            "overflow": null,
            "overflow_x": null,
            "overflow_y": null,
            "padding": null,
            "right": null,
            "top": null,
            "visibility": null,
            "width": null
          }
        },
        "fd6991e156c94d59913333ffa9bbc558": {
          "model_module": "@jupyter-widgets/controls",
          "model_name": "ProgressStyleModel",
          "state": {
            "_model_module": "@jupyter-widgets/controls",
            "_model_module_version": "1.5.0",
            "_model_name": "ProgressStyleModel",
            "_view_count": null,
            "_view_module": "@jupyter-widgets/base",
            "_view_module_version": "1.2.0",
            "_view_name": "StyleView",
            "bar_color": null,
            "description_width": ""
          }
        },
        "4f3ea21990544948884c9f52295db8c0": {
          "model_module": "@jupyter-widgets/controls",
          "model_name": "VBoxModel",
          "state": {
            "_dom_classes": [],
            "_model_module": "@jupyter-widgets/controls",
            "_model_module_version": "1.5.0",
            "_model_name": "VBoxModel",
            "_view_count": null,
            "_view_module": "@jupyter-widgets/controls",
            "_view_module_version": "1.5.0",
            "_view_name": "VBoxView",
            "box_style": "",
            "children": [
              "IPY_MODEL_0d5c7ed2129d4283bb15e1748b02b37a",
              "IPY_MODEL_f6e97e17987a45ff9255652fd9cc44db"
            ],
            "layout": "IPY_MODEL_9ddd8c33b2cb42988aa6779da834d01d"
          }
        },
        "0d5c7ed2129d4283bb15e1748b02b37a": {
          "model_module": "@jupyter-widgets/controls",
          "model_name": "LabelModel",
          "state": {
            "_dom_classes": [],
            "_model_module": "@jupyter-widgets/controls",
            "_model_module_version": "1.5.0",
            "_model_name": "LabelModel",
            "_view_count": null,
            "_view_module": "@jupyter-widgets/controls",
            "_view_module_version": "1.5.0",
            "_view_name": "LabelView",
            "description": "",
            "description_tooltip": null,
            "layout": "IPY_MODEL_baf2fb0aac63474dbf915b75f9d92832",
            "placeholder": "​",
            "style": "IPY_MODEL_d56e5d5e0b1a4171994d80a59d7970ba",
            "value": " 0.04MB of 0.04MB uploaded (0.00MB deduped)\r"
          }
        },
        "f6e97e17987a45ff9255652fd9cc44db": {
          "model_module": "@jupyter-widgets/controls",
          "model_name": "FloatProgressModel",
          "state": {
            "_dom_classes": [],
            "_model_module": "@jupyter-widgets/controls",
            "_model_module_version": "1.5.0",
            "_model_name": "FloatProgressModel",
            "_view_count": null,
            "_view_module": "@jupyter-widgets/controls",
            "_view_module_version": "1.5.0",
            "_view_name": "ProgressView",
            "bar_style": "",
            "description": "",
            "description_tooltip": null,
            "layout": "IPY_MODEL_d31f77efea894758a2ba821f6c2d563f",
            "max": 1,
            "min": 0,
            "orientation": "horizontal",
            "style": "IPY_MODEL_fafb0ff6bae04b37aba8cd15c29a149f",
            "value": 1
          }
        },
        "9ddd8c33b2cb42988aa6779da834d01d": {
          "model_module": "@jupyter-widgets/base",
          "model_name": "LayoutModel",
          "state": {
            "_model_module": "@jupyter-widgets/base",
            "_model_module_version": "1.2.0",
            "_model_name": "LayoutModel",
            "_view_count": null,
            "_view_module": "@jupyter-widgets/base",
            "_view_module_version": "1.2.0",
            "_view_name": "LayoutView",
            "align_content": null,
            "align_items": null,
            "align_self": null,
            "border": null,
            "bottom": null,
            "display": null,
            "flex": null,
            "flex_flow": null,
            "grid_area": null,
            "grid_auto_columns": null,
            "grid_auto_flow": null,
            "grid_auto_rows": null,
            "grid_column": null,
            "grid_gap": null,
            "grid_row": null,
            "grid_template_areas": null,
            "grid_template_columns": null,
            "grid_template_rows": null,
            "height": null,
            "justify_content": null,
            "justify_items": null,
            "left": null,
            "margin": null,
            "max_height": null,
            "max_width": null,
            "min_height": null,
            "min_width": null,
            "object_fit": null,
            "object_position": null,
            "order": null,
            "overflow": null,
            "overflow_x": null,
            "overflow_y": null,
            "padding": null,
            "right": null,
            "top": null,
            "visibility": null,
            "width": null
          }
        },
        "baf2fb0aac63474dbf915b75f9d92832": {
          "model_module": "@jupyter-widgets/base",
          "model_name": "LayoutModel",
          "state": {
            "_model_module": "@jupyter-widgets/base",
            "_model_module_version": "1.2.0",
            "_model_name": "LayoutModel",
            "_view_count": null,
            "_view_module": "@jupyter-widgets/base",
            "_view_module_version": "1.2.0",
            "_view_name": "LayoutView",
            "align_content": null,
            "align_items": null,
            "align_self": null,
            "border": null,
            "bottom": null,
            "display": null,
            "flex": null,
            "flex_flow": null,
            "grid_area": null,
            "grid_auto_columns": null,
            "grid_auto_flow": null,
            "grid_auto_rows": null,
            "grid_column": null,
            "grid_gap": null,
            "grid_row": null,
            "grid_template_areas": null,
            "grid_template_columns": null,
            "grid_template_rows": null,
            "height": null,
            "justify_content": null,
            "justify_items": null,
            "left": null,
            "margin": null,
            "max_height": null,
            "max_width": null,
            "min_height": null,
            "min_width": null,
            "object_fit": null,
            "object_position": null,
            "order": null,
            "overflow": null,
            "overflow_x": null,
            "overflow_y": null,
            "padding": null,
            "right": null,
            "top": null,
            "visibility": null,
            "width": null
          }
        },
        "d56e5d5e0b1a4171994d80a59d7970ba": {
          "model_module": "@jupyter-widgets/controls",
          "model_name": "DescriptionStyleModel",
          "state": {
            "_model_module": "@jupyter-widgets/controls",
            "_model_module_version": "1.5.0",
            "_model_name": "DescriptionStyleModel",
            "_view_count": null,
            "_view_module": "@jupyter-widgets/base",
            "_view_module_version": "1.2.0",
            "_view_name": "StyleView",
            "description_width": ""
          }
        },
        "d31f77efea894758a2ba821f6c2d563f": {
          "model_module": "@jupyter-widgets/base",
          "model_name": "LayoutModel",
          "state": {
            "_model_module": "@jupyter-widgets/base",
            "_model_module_version": "1.2.0",
            "_model_name": "LayoutModel",
            "_view_count": null,
            "_view_module": "@jupyter-widgets/base",
            "_view_module_version": "1.2.0",
            "_view_name": "LayoutView",
            "align_content": null,
            "align_items": null,
            "align_self": null,
            "border": null,
            "bottom": null,
            "display": null,
            "flex": null,
            "flex_flow": null,
            "grid_area": null,
            "grid_auto_columns": null,
            "grid_auto_flow": null,
            "grid_auto_rows": null,
            "grid_column": null,
            "grid_gap": null,
            "grid_row": null,
            "grid_template_areas": null,
            "grid_template_columns": null,
            "grid_template_rows": null,
            "height": null,
            "justify_content": null,
            "justify_items": null,
            "left": null,
            "margin": null,
            "max_height": null,
            "max_width": null,
            "min_height": null,
            "min_width": null,
            "object_fit": null,
            "object_position": null,
            "order": null,
            "overflow": null,
            "overflow_x": null,
            "overflow_y": null,
            "padding": null,
            "right": null,
            "top": null,
            "visibility": null,
            "width": null
          }
        },
        "fafb0ff6bae04b37aba8cd15c29a149f": {
          "model_module": "@jupyter-widgets/controls",
          "model_name": "ProgressStyleModel",
          "state": {
            "_model_module": "@jupyter-widgets/controls",
            "_model_module_version": "1.5.0",
            "_model_name": "ProgressStyleModel",
            "_view_count": null,
            "_view_module": "@jupyter-widgets/base",
            "_view_module_version": "1.2.0",
            "_view_name": "StyleView",
            "bar_color": null,
            "description_width": ""
          }
        },
        "1924a8a7ded24c6ba0e67b11ebbbd910": {
          "model_module": "@jupyter-widgets/controls",
          "model_name": "VBoxModel",
          "state": {
            "_dom_classes": [],
            "_model_module": "@jupyter-widgets/controls",
            "_model_module_version": "1.5.0",
            "_model_name": "VBoxModel",
            "_view_count": null,
            "_view_module": "@jupyter-widgets/controls",
            "_view_module_version": "1.5.0",
            "_view_name": "VBoxView",
            "box_style": "",
            "children": [
              "IPY_MODEL_42778c7877444f89a7f9be7348cf3443",
              "IPY_MODEL_f533cd4748064ee5a25f494fc6d2adf2"
            ],
            "layout": "IPY_MODEL_6758325144594d9ea823d600960f8d99"
          }
        },
        "42778c7877444f89a7f9be7348cf3443": {
          "model_module": "@jupyter-widgets/controls",
          "model_name": "LabelModel",
          "state": {
            "_dom_classes": [],
            "_model_module": "@jupyter-widgets/controls",
            "_model_module_version": "1.5.0",
            "_model_name": "LabelModel",
            "_view_count": null,
            "_view_module": "@jupyter-widgets/controls",
            "_view_module_version": "1.5.0",
            "_view_name": "LabelView",
            "description": "",
            "description_tooltip": null,
            "layout": "IPY_MODEL_4049ebc5cbc443bab424ec0d4a86c808",
            "placeholder": "​",
            "style": "IPY_MODEL_101b3d1df1d74c77a55701457f39956c",
            "value": " 0.04MB of 0.04MB uploaded (0.00MB deduped)\r"
          }
        },
        "f533cd4748064ee5a25f494fc6d2adf2": {
          "model_module": "@jupyter-widgets/controls",
          "model_name": "FloatProgressModel",
          "state": {
            "_dom_classes": [],
            "_model_module": "@jupyter-widgets/controls",
            "_model_module_version": "1.5.0",
            "_model_name": "FloatProgressModel",
            "_view_count": null,
            "_view_module": "@jupyter-widgets/controls",
            "_view_module_version": "1.5.0",
            "_view_name": "ProgressView",
            "bar_style": "",
            "description": "",
            "description_tooltip": null,
            "layout": "IPY_MODEL_623ab499c91447bba58c2303953eca31",
            "max": 1,
            "min": 0,
            "orientation": "horizontal",
            "style": "IPY_MODEL_90b363d7287f4c3bacc8170434195ae2",
            "value": 1
          }
        },
        "6758325144594d9ea823d600960f8d99": {
          "model_module": "@jupyter-widgets/base",
          "model_name": "LayoutModel",
          "state": {
            "_model_module": "@jupyter-widgets/base",
            "_model_module_version": "1.2.0",
            "_model_name": "LayoutModel",
            "_view_count": null,
            "_view_module": "@jupyter-widgets/base",
            "_view_module_version": "1.2.0",
            "_view_name": "LayoutView",
            "align_content": null,
            "align_items": null,
            "align_self": null,
            "border": null,
            "bottom": null,
            "display": null,
            "flex": null,
            "flex_flow": null,
            "grid_area": null,
            "grid_auto_columns": null,
            "grid_auto_flow": null,
            "grid_auto_rows": null,
            "grid_column": null,
            "grid_gap": null,
            "grid_row": null,
            "grid_template_areas": null,
            "grid_template_columns": null,
            "grid_template_rows": null,
            "height": null,
            "justify_content": null,
            "justify_items": null,
            "left": null,
            "margin": null,
            "max_height": null,
            "max_width": null,
            "min_height": null,
            "min_width": null,
            "object_fit": null,
            "object_position": null,
            "order": null,
            "overflow": null,
            "overflow_x": null,
            "overflow_y": null,
            "padding": null,
            "right": null,
            "top": null,
            "visibility": null,
            "width": null
          }
        },
        "4049ebc5cbc443bab424ec0d4a86c808": {
          "model_module": "@jupyter-widgets/base",
          "model_name": "LayoutModel",
          "state": {
            "_model_module": "@jupyter-widgets/base",
            "_model_module_version": "1.2.0",
            "_model_name": "LayoutModel",
            "_view_count": null,
            "_view_module": "@jupyter-widgets/base",
            "_view_module_version": "1.2.0",
            "_view_name": "LayoutView",
            "align_content": null,
            "align_items": null,
            "align_self": null,
            "border": null,
            "bottom": null,
            "display": null,
            "flex": null,
            "flex_flow": null,
            "grid_area": null,
            "grid_auto_columns": null,
            "grid_auto_flow": null,
            "grid_auto_rows": null,
            "grid_column": null,
            "grid_gap": null,
            "grid_row": null,
            "grid_template_areas": null,
            "grid_template_columns": null,
            "grid_template_rows": null,
            "height": null,
            "justify_content": null,
            "justify_items": null,
            "left": null,
            "margin": null,
            "max_height": null,
            "max_width": null,
            "min_height": null,
            "min_width": null,
            "object_fit": null,
            "object_position": null,
            "order": null,
            "overflow": null,
            "overflow_x": null,
            "overflow_y": null,
            "padding": null,
            "right": null,
            "top": null,
            "visibility": null,
            "width": null
          }
        },
        "101b3d1df1d74c77a55701457f39956c": {
          "model_module": "@jupyter-widgets/controls",
          "model_name": "DescriptionStyleModel",
          "state": {
            "_model_module": "@jupyter-widgets/controls",
            "_model_module_version": "1.5.0",
            "_model_name": "DescriptionStyleModel",
            "_view_count": null,
            "_view_module": "@jupyter-widgets/base",
            "_view_module_version": "1.2.0",
            "_view_name": "StyleView",
            "description_width": ""
          }
        },
        "623ab499c91447bba58c2303953eca31": {
          "model_module": "@jupyter-widgets/base",
          "model_name": "LayoutModel",
          "state": {
            "_model_module": "@jupyter-widgets/base",
            "_model_module_version": "1.2.0",
            "_model_name": "LayoutModel",
            "_view_count": null,
            "_view_module": "@jupyter-widgets/base",
            "_view_module_version": "1.2.0",
            "_view_name": "LayoutView",
            "align_content": null,
            "align_items": null,
            "align_self": null,
            "border": null,
            "bottom": null,
            "display": null,
            "flex": null,
            "flex_flow": null,
            "grid_area": null,
            "grid_auto_columns": null,
            "grid_auto_flow": null,
            "grid_auto_rows": null,
            "grid_column": null,
            "grid_gap": null,
            "grid_row": null,
            "grid_template_areas": null,
            "grid_template_columns": null,
            "grid_template_rows": null,
            "height": null,
            "justify_content": null,
            "justify_items": null,
            "left": null,
            "margin": null,
            "max_height": null,
            "max_width": null,
            "min_height": null,
            "min_width": null,
            "object_fit": null,
            "object_position": null,
            "order": null,
            "overflow": null,
            "overflow_x": null,
            "overflow_y": null,
            "padding": null,
            "right": null,
            "top": null,
            "visibility": null,
            "width": null
          }
        },
        "90b363d7287f4c3bacc8170434195ae2": {
          "model_module": "@jupyter-widgets/controls",
          "model_name": "ProgressStyleModel",
          "state": {
            "_model_module": "@jupyter-widgets/controls",
            "_model_module_version": "1.5.0",
            "_model_name": "ProgressStyleModel",
            "_view_count": null,
            "_view_module": "@jupyter-widgets/base",
            "_view_module_version": "1.2.0",
            "_view_name": "StyleView",
            "bar_color": null,
            "description_width": ""
          }
        },
        "3bff61cabea043649736c4d5c130d347": {
          "model_module": "@jupyter-widgets/controls",
          "model_name": "VBoxModel",
          "state": {
            "_dom_classes": [],
            "_model_module": "@jupyter-widgets/controls",
            "_model_module_version": "1.5.0",
            "_model_name": "VBoxModel",
            "_view_count": null,
            "_view_module": "@jupyter-widgets/controls",
            "_view_module_version": "1.5.0",
            "_view_name": "VBoxView",
            "box_style": "",
            "children": [
              "IPY_MODEL_33742d6c9e3145ac9d6b5527442bb7d2",
              "IPY_MODEL_58568724f29d455baf967662db571b86"
            ],
            "layout": "IPY_MODEL_f1f19fff4e4241ddbbcfa0764d99d0ca"
          }
        },
        "33742d6c9e3145ac9d6b5527442bb7d2": {
          "model_module": "@jupyter-widgets/controls",
          "model_name": "LabelModel",
          "state": {
            "_dom_classes": [],
            "_model_module": "@jupyter-widgets/controls",
            "_model_module_version": "1.5.0",
            "_model_name": "LabelModel",
            "_view_count": null,
            "_view_module": "@jupyter-widgets/controls",
            "_view_module_version": "1.5.0",
            "_view_name": "LabelView",
            "description": "",
            "description_tooltip": null,
            "layout": "IPY_MODEL_72dc7054feda4f0bba14e78a6d3b9dd8",
            "placeholder": "​",
            "style": "IPY_MODEL_ec904e5b91cb46319361aea82c5bfbc5",
            "value": " 0.04MB of 0.04MB uploaded (0.00MB deduped)\r"
          }
        },
        "58568724f29d455baf967662db571b86": {
          "model_module": "@jupyter-widgets/controls",
          "model_name": "FloatProgressModel",
          "state": {
            "_dom_classes": [],
            "_model_module": "@jupyter-widgets/controls",
            "_model_module_version": "1.5.0",
            "_model_name": "FloatProgressModel",
            "_view_count": null,
            "_view_module": "@jupyter-widgets/controls",
            "_view_module_version": "1.5.0",
            "_view_name": "ProgressView",
            "bar_style": "",
            "description": "",
            "description_tooltip": null,
            "layout": "IPY_MODEL_320e4c79135a458a9d6d2dfe5bc169c2",
            "max": 1,
            "min": 0,
            "orientation": "horizontal",
            "style": "IPY_MODEL_5c992d1b2d6e48cbb83c9f28100413c8",
            "value": 1
          }
        },
        "f1f19fff4e4241ddbbcfa0764d99d0ca": {
          "model_module": "@jupyter-widgets/base",
          "model_name": "LayoutModel",
          "state": {
            "_model_module": "@jupyter-widgets/base",
            "_model_module_version": "1.2.0",
            "_model_name": "LayoutModel",
            "_view_count": null,
            "_view_module": "@jupyter-widgets/base",
            "_view_module_version": "1.2.0",
            "_view_name": "LayoutView",
            "align_content": null,
            "align_items": null,
            "align_self": null,
            "border": null,
            "bottom": null,
            "display": null,
            "flex": null,
            "flex_flow": null,
            "grid_area": null,
            "grid_auto_columns": null,
            "grid_auto_flow": null,
            "grid_auto_rows": null,
            "grid_column": null,
            "grid_gap": null,
            "grid_row": null,
            "grid_template_areas": null,
            "grid_template_columns": null,
            "grid_template_rows": null,
            "height": null,
            "justify_content": null,
            "justify_items": null,
            "left": null,
            "margin": null,
            "max_height": null,
            "max_width": null,
            "min_height": null,
            "min_width": null,
            "object_fit": null,
            "object_position": null,
            "order": null,
            "overflow": null,
            "overflow_x": null,
            "overflow_y": null,
            "padding": null,
            "right": null,
            "top": null,
            "visibility": null,
            "width": null
          }
        },
        "72dc7054feda4f0bba14e78a6d3b9dd8": {
          "model_module": "@jupyter-widgets/base",
          "model_name": "LayoutModel",
          "state": {
            "_model_module": "@jupyter-widgets/base",
            "_model_module_version": "1.2.0",
            "_model_name": "LayoutModel",
            "_view_count": null,
            "_view_module": "@jupyter-widgets/base",
            "_view_module_version": "1.2.0",
            "_view_name": "LayoutView",
            "align_content": null,
            "align_items": null,
            "align_self": null,
            "border": null,
            "bottom": null,
            "display": null,
            "flex": null,
            "flex_flow": null,
            "grid_area": null,
            "grid_auto_columns": null,
            "grid_auto_flow": null,
            "grid_auto_rows": null,
            "grid_column": null,
            "grid_gap": null,
            "grid_row": null,
            "grid_template_areas": null,
            "grid_template_columns": null,
            "grid_template_rows": null,
            "height": null,
            "justify_content": null,
            "justify_items": null,
            "left": null,
            "margin": null,
            "max_height": null,
            "max_width": null,
            "min_height": null,
            "min_width": null,
            "object_fit": null,
            "object_position": null,
            "order": null,
            "overflow": null,
            "overflow_x": null,
            "overflow_y": null,
            "padding": null,
            "right": null,
            "top": null,
            "visibility": null,
            "width": null
          }
        },
        "ec904e5b91cb46319361aea82c5bfbc5": {
          "model_module": "@jupyter-widgets/controls",
          "model_name": "DescriptionStyleModel",
          "state": {
            "_model_module": "@jupyter-widgets/controls",
            "_model_module_version": "1.5.0",
            "_model_name": "DescriptionStyleModel",
            "_view_count": null,
            "_view_module": "@jupyter-widgets/base",
            "_view_module_version": "1.2.0",
            "_view_name": "StyleView",
            "description_width": ""
          }
        },
        "320e4c79135a458a9d6d2dfe5bc169c2": {
          "model_module": "@jupyter-widgets/base",
          "model_name": "LayoutModel",
          "state": {
            "_model_module": "@jupyter-widgets/base",
            "_model_module_version": "1.2.0",
            "_model_name": "LayoutModel",
            "_view_count": null,
            "_view_module": "@jupyter-widgets/base",
            "_view_module_version": "1.2.0",
            "_view_name": "LayoutView",
            "align_content": null,
            "align_items": null,
            "align_self": null,
            "border": null,
            "bottom": null,
            "display": null,
            "flex": null,
            "flex_flow": null,
            "grid_area": null,
            "grid_auto_columns": null,
            "grid_auto_flow": null,
            "grid_auto_rows": null,
            "grid_column": null,
            "grid_gap": null,
            "grid_row": null,
            "grid_template_areas": null,
            "grid_template_columns": null,
            "grid_template_rows": null,
            "height": null,
            "justify_content": null,
            "justify_items": null,
            "left": null,
            "margin": null,
            "max_height": null,
            "max_width": null,
            "min_height": null,
            "min_width": null,
            "object_fit": null,
            "object_position": null,
            "order": null,
            "overflow": null,
            "overflow_x": null,
            "overflow_y": null,
            "padding": null,
            "right": null,
            "top": null,
            "visibility": null,
            "width": null
          }
        },
        "5c992d1b2d6e48cbb83c9f28100413c8": {
          "model_module": "@jupyter-widgets/controls",
          "model_name": "ProgressStyleModel",
          "state": {
            "_model_module": "@jupyter-widgets/controls",
            "_model_module_version": "1.5.0",
            "_model_name": "ProgressStyleModel",
            "_view_count": null,
            "_view_module": "@jupyter-widgets/base",
            "_view_module_version": "1.2.0",
            "_view_name": "StyleView",
            "bar_color": null,
            "description_width": ""
          }
        },
        "c9db102486354acda5d74617d678738b": {
          "model_module": "@jupyter-widgets/controls",
          "model_name": "VBoxModel",
          "state": {
            "_dom_classes": [],
            "_model_module": "@jupyter-widgets/controls",
            "_model_module_version": "1.5.0",
            "_model_name": "VBoxModel",
            "_view_count": null,
            "_view_module": "@jupyter-widgets/controls",
            "_view_module_version": "1.5.0",
            "_view_name": "VBoxView",
            "box_style": "",
            "children": [
              "IPY_MODEL_959014d1dd8b423fb473be5a23b56ec4",
              "IPY_MODEL_7801d63713ac49d0938ced6834211b5f"
            ],
            "layout": "IPY_MODEL_20ac33314ead429cab30194345fb5bfd"
          }
        },
        "959014d1dd8b423fb473be5a23b56ec4": {
          "model_module": "@jupyter-widgets/controls",
          "model_name": "LabelModel",
          "state": {
            "_dom_classes": [],
            "_model_module": "@jupyter-widgets/controls",
            "_model_module_version": "1.5.0",
            "_model_name": "LabelModel",
            "_view_count": null,
            "_view_module": "@jupyter-widgets/controls",
            "_view_module_version": "1.5.0",
            "_view_name": "LabelView",
            "description": "",
            "description_tooltip": null,
            "layout": "IPY_MODEL_f2251fde1a2d4b06a881676803dd5c40",
            "placeholder": "​",
            "style": "IPY_MODEL_66ef803560c24c88bf0fb4954ffa7f97",
            "value": " 0.04MB of 0.04MB uploaded (0.00MB deduped)\r"
          }
        },
        "7801d63713ac49d0938ced6834211b5f": {
          "model_module": "@jupyter-widgets/controls",
          "model_name": "FloatProgressModel",
          "state": {
            "_dom_classes": [],
            "_model_module": "@jupyter-widgets/controls",
            "_model_module_version": "1.5.0",
            "_model_name": "FloatProgressModel",
            "_view_count": null,
            "_view_module": "@jupyter-widgets/controls",
            "_view_module_version": "1.5.0",
            "_view_name": "ProgressView",
            "bar_style": "",
            "description": "",
            "description_tooltip": null,
            "layout": "IPY_MODEL_ab47fc43002644f7a16587914cf5c0ab",
            "max": 1,
            "min": 0,
            "orientation": "horizontal",
            "style": "IPY_MODEL_a94e824f68114b46ade85c1ec7841b76",
            "value": 1
          }
        },
        "20ac33314ead429cab30194345fb5bfd": {
          "model_module": "@jupyter-widgets/base",
          "model_name": "LayoutModel",
          "state": {
            "_model_module": "@jupyter-widgets/base",
            "_model_module_version": "1.2.0",
            "_model_name": "LayoutModel",
            "_view_count": null,
            "_view_module": "@jupyter-widgets/base",
            "_view_module_version": "1.2.0",
            "_view_name": "LayoutView",
            "align_content": null,
            "align_items": null,
            "align_self": null,
            "border": null,
            "bottom": null,
            "display": null,
            "flex": null,
            "flex_flow": null,
            "grid_area": null,
            "grid_auto_columns": null,
            "grid_auto_flow": null,
            "grid_auto_rows": null,
            "grid_column": null,
            "grid_gap": null,
            "grid_row": null,
            "grid_template_areas": null,
            "grid_template_columns": null,
            "grid_template_rows": null,
            "height": null,
            "justify_content": null,
            "justify_items": null,
            "left": null,
            "margin": null,
            "max_height": null,
            "max_width": null,
            "min_height": null,
            "min_width": null,
            "object_fit": null,
            "object_position": null,
            "order": null,
            "overflow": null,
            "overflow_x": null,
            "overflow_y": null,
            "padding": null,
            "right": null,
            "top": null,
            "visibility": null,
            "width": null
          }
        },
        "f2251fde1a2d4b06a881676803dd5c40": {
          "model_module": "@jupyter-widgets/base",
          "model_name": "LayoutModel",
          "state": {
            "_model_module": "@jupyter-widgets/base",
            "_model_module_version": "1.2.0",
            "_model_name": "LayoutModel",
            "_view_count": null,
            "_view_module": "@jupyter-widgets/base",
            "_view_module_version": "1.2.0",
            "_view_name": "LayoutView",
            "align_content": null,
            "align_items": null,
            "align_self": null,
            "border": null,
            "bottom": null,
            "display": null,
            "flex": null,
            "flex_flow": null,
            "grid_area": null,
            "grid_auto_columns": null,
            "grid_auto_flow": null,
            "grid_auto_rows": null,
            "grid_column": null,
            "grid_gap": null,
            "grid_row": null,
            "grid_template_areas": null,
            "grid_template_columns": null,
            "grid_template_rows": null,
            "height": null,
            "justify_content": null,
            "justify_items": null,
            "left": null,
            "margin": null,
            "max_height": null,
            "max_width": null,
            "min_height": null,
            "min_width": null,
            "object_fit": null,
            "object_position": null,
            "order": null,
            "overflow": null,
            "overflow_x": null,
            "overflow_y": null,
            "padding": null,
            "right": null,
            "top": null,
            "visibility": null,
            "width": null
          }
        },
        "66ef803560c24c88bf0fb4954ffa7f97": {
          "model_module": "@jupyter-widgets/controls",
          "model_name": "DescriptionStyleModel",
          "state": {
            "_model_module": "@jupyter-widgets/controls",
            "_model_module_version": "1.5.0",
            "_model_name": "DescriptionStyleModel",
            "_view_count": null,
            "_view_module": "@jupyter-widgets/base",
            "_view_module_version": "1.2.0",
            "_view_name": "StyleView",
            "description_width": ""
          }
        },
        "ab47fc43002644f7a16587914cf5c0ab": {
          "model_module": "@jupyter-widgets/base",
          "model_name": "LayoutModel",
          "state": {
            "_model_module": "@jupyter-widgets/base",
            "_model_module_version": "1.2.0",
            "_model_name": "LayoutModel",
            "_view_count": null,
            "_view_module": "@jupyter-widgets/base",
            "_view_module_version": "1.2.0",
            "_view_name": "LayoutView",
            "align_content": null,
            "align_items": null,
            "align_self": null,
            "border": null,
            "bottom": null,
            "display": null,
            "flex": null,
            "flex_flow": null,
            "grid_area": null,
            "grid_auto_columns": null,
            "grid_auto_flow": null,
            "grid_auto_rows": null,
            "grid_column": null,
            "grid_gap": null,
            "grid_row": null,
            "grid_template_areas": null,
            "grid_template_columns": null,
            "grid_template_rows": null,
            "height": null,
            "justify_content": null,
            "justify_items": null,
            "left": null,
            "margin": null,
            "max_height": null,
            "max_width": null,
            "min_height": null,
            "min_width": null,
            "object_fit": null,
            "object_position": null,
            "order": null,
            "overflow": null,
            "overflow_x": null,
            "overflow_y": null,
            "padding": null,
            "right": null,
            "top": null,
            "visibility": null,
            "width": null
          }
        },
        "a94e824f68114b46ade85c1ec7841b76": {
          "model_module": "@jupyter-widgets/controls",
          "model_name": "ProgressStyleModel",
          "state": {
            "_model_module": "@jupyter-widgets/controls",
            "_model_module_version": "1.5.0",
            "_model_name": "ProgressStyleModel",
            "_view_count": null,
            "_view_module": "@jupyter-widgets/base",
            "_view_module_version": "1.2.0",
            "_view_name": "StyleView",
            "bar_color": null,
            "description_width": ""
          }
        },
        "96b5fbae76644281b0d155139ec743b6": {
          "model_module": "@jupyter-widgets/controls",
          "model_name": "VBoxModel",
          "state": {
            "_dom_classes": [],
            "_model_module": "@jupyter-widgets/controls",
            "_model_module_version": "1.5.0",
            "_model_name": "VBoxModel",
            "_view_count": null,
            "_view_module": "@jupyter-widgets/controls",
            "_view_module_version": "1.5.0",
            "_view_name": "VBoxView",
            "box_style": "",
            "children": [
              "IPY_MODEL_c57911b7844147ecbfe1789583d14296",
              "IPY_MODEL_472d3849d55b4e8c8f7f7c3c13873b3a"
            ],
            "layout": "IPY_MODEL_fc4a46ba7e4c432d91b39a61513d746d"
          }
        },
        "c57911b7844147ecbfe1789583d14296": {
          "model_module": "@jupyter-widgets/controls",
          "model_name": "LabelModel",
          "state": {
            "_dom_classes": [],
            "_model_module": "@jupyter-widgets/controls",
            "_model_module_version": "1.5.0",
            "_model_name": "LabelModel",
            "_view_count": null,
            "_view_module": "@jupyter-widgets/controls",
            "_view_module_version": "1.5.0",
            "_view_name": "LabelView",
            "description": "",
            "description_tooltip": null,
            "layout": "IPY_MODEL_c0b06de3c625443fac02c4d66b4cc848",
            "placeholder": "​",
            "style": "IPY_MODEL_e6be39d171e949b397a846b556312b4c",
            "value": " 0.04MB of 0.04MB uploaded (0.00MB deduped)\r"
          }
        },
        "472d3849d55b4e8c8f7f7c3c13873b3a": {
          "model_module": "@jupyter-widgets/controls",
          "model_name": "FloatProgressModel",
          "state": {
            "_dom_classes": [],
            "_model_module": "@jupyter-widgets/controls",
            "_model_module_version": "1.5.0",
            "_model_name": "FloatProgressModel",
            "_view_count": null,
            "_view_module": "@jupyter-widgets/controls",
            "_view_module_version": "1.5.0",
            "_view_name": "ProgressView",
            "bar_style": "",
            "description": "",
            "description_tooltip": null,
            "layout": "IPY_MODEL_535c38e95d2340c28e88ef9138186e54",
            "max": 1,
            "min": 0,
            "orientation": "horizontal",
            "style": "IPY_MODEL_204be9a0fc844de6beea1d8a327b8365",
            "value": 1
          }
        },
        "fc4a46ba7e4c432d91b39a61513d746d": {
          "model_module": "@jupyter-widgets/base",
          "model_name": "LayoutModel",
          "state": {
            "_model_module": "@jupyter-widgets/base",
            "_model_module_version": "1.2.0",
            "_model_name": "LayoutModel",
            "_view_count": null,
            "_view_module": "@jupyter-widgets/base",
            "_view_module_version": "1.2.0",
            "_view_name": "LayoutView",
            "align_content": null,
            "align_items": null,
            "align_self": null,
            "border": null,
            "bottom": null,
            "display": null,
            "flex": null,
            "flex_flow": null,
            "grid_area": null,
            "grid_auto_columns": null,
            "grid_auto_flow": null,
            "grid_auto_rows": null,
            "grid_column": null,
            "grid_gap": null,
            "grid_row": null,
            "grid_template_areas": null,
            "grid_template_columns": null,
            "grid_template_rows": null,
            "height": null,
            "justify_content": null,
            "justify_items": null,
            "left": null,
            "margin": null,
            "max_height": null,
            "max_width": null,
            "min_height": null,
            "min_width": null,
            "object_fit": null,
            "object_position": null,
            "order": null,
            "overflow": null,
            "overflow_x": null,
            "overflow_y": null,
            "padding": null,
            "right": null,
            "top": null,
            "visibility": null,
            "width": null
          }
        },
        "c0b06de3c625443fac02c4d66b4cc848": {
          "model_module": "@jupyter-widgets/base",
          "model_name": "LayoutModel",
          "state": {
            "_model_module": "@jupyter-widgets/base",
            "_model_module_version": "1.2.0",
            "_model_name": "LayoutModel",
            "_view_count": null,
            "_view_module": "@jupyter-widgets/base",
            "_view_module_version": "1.2.0",
            "_view_name": "LayoutView",
            "align_content": null,
            "align_items": null,
            "align_self": null,
            "border": null,
            "bottom": null,
            "display": null,
            "flex": null,
            "flex_flow": null,
            "grid_area": null,
            "grid_auto_columns": null,
            "grid_auto_flow": null,
            "grid_auto_rows": null,
            "grid_column": null,
            "grid_gap": null,
            "grid_row": null,
            "grid_template_areas": null,
            "grid_template_columns": null,
            "grid_template_rows": null,
            "height": null,
            "justify_content": null,
            "justify_items": null,
            "left": null,
            "margin": null,
            "max_height": null,
            "max_width": null,
            "min_height": null,
            "min_width": null,
            "object_fit": null,
            "object_position": null,
            "order": null,
            "overflow": null,
            "overflow_x": null,
            "overflow_y": null,
            "padding": null,
            "right": null,
            "top": null,
            "visibility": null,
            "width": null
          }
        },
        "e6be39d171e949b397a846b556312b4c": {
          "model_module": "@jupyter-widgets/controls",
          "model_name": "DescriptionStyleModel",
          "state": {
            "_model_module": "@jupyter-widgets/controls",
            "_model_module_version": "1.5.0",
            "_model_name": "DescriptionStyleModel",
            "_view_count": null,
            "_view_module": "@jupyter-widgets/base",
            "_view_module_version": "1.2.0",
            "_view_name": "StyleView",
            "description_width": ""
          }
        },
        "535c38e95d2340c28e88ef9138186e54": {
          "model_module": "@jupyter-widgets/base",
          "model_name": "LayoutModel",
          "state": {
            "_model_module": "@jupyter-widgets/base",
            "_model_module_version": "1.2.0",
            "_model_name": "LayoutModel",
            "_view_count": null,
            "_view_module": "@jupyter-widgets/base",
            "_view_module_version": "1.2.0",
            "_view_name": "LayoutView",
            "align_content": null,
            "align_items": null,
            "align_self": null,
            "border": null,
            "bottom": null,
            "display": null,
            "flex": null,
            "flex_flow": null,
            "grid_area": null,
            "grid_auto_columns": null,
            "grid_auto_flow": null,
            "grid_auto_rows": null,
            "grid_column": null,
            "grid_gap": null,
            "grid_row": null,
            "grid_template_areas": null,
            "grid_template_columns": null,
            "grid_template_rows": null,
            "height": null,
            "justify_content": null,
            "justify_items": null,
            "left": null,
            "margin": null,
            "max_height": null,
            "max_width": null,
            "min_height": null,
            "min_width": null,
            "object_fit": null,
            "object_position": null,
            "order": null,
            "overflow": null,
            "overflow_x": null,
            "overflow_y": null,
            "padding": null,
            "right": null,
            "top": null,
            "visibility": null,
            "width": null
          }
        },
        "204be9a0fc844de6beea1d8a327b8365": {
          "model_module": "@jupyter-widgets/controls",
          "model_name": "ProgressStyleModel",
          "state": {
            "_model_module": "@jupyter-widgets/controls",
            "_model_module_version": "1.5.0",
            "_model_name": "ProgressStyleModel",
            "_view_count": null,
            "_view_module": "@jupyter-widgets/base",
            "_view_module_version": "1.2.0",
            "_view_name": "StyleView",
            "bar_color": null,
            "description_width": ""
          }
        },
        "438f4e1ed1554df1bc2f9c7cb01898f5": {
          "model_module": "@jupyter-widgets/controls",
          "model_name": "VBoxModel",
          "state": {
            "_dom_classes": [],
            "_model_module": "@jupyter-widgets/controls",
            "_model_module_version": "1.5.0",
            "_model_name": "VBoxModel",
            "_view_count": null,
            "_view_module": "@jupyter-widgets/controls",
            "_view_module_version": "1.5.0",
            "_view_name": "VBoxView",
            "box_style": "",
            "children": [
              "IPY_MODEL_bccf5272d41f42d3ac443cacf3b78281",
              "IPY_MODEL_85a27dc981f44b57914e40852e2ae73a"
            ],
            "layout": "IPY_MODEL_8410afc9bc004788a19a63a1c692e2fe"
          }
        },
        "bccf5272d41f42d3ac443cacf3b78281": {
          "model_module": "@jupyter-widgets/controls",
          "model_name": "LabelModel",
          "state": {
            "_dom_classes": [],
            "_model_module": "@jupyter-widgets/controls",
            "_model_module_version": "1.5.0",
            "_model_name": "LabelModel",
            "_view_count": null,
            "_view_module": "@jupyter-widgets/controls",
            "_view_module_version": "1.5.0",
            "_view_name": "LabelView",
            "description": "",
            "description_tooltip": null,
            "layout": "IPY_MODEL_ecf32d1e6bdd4c9ca9ea670ecca08a2d",
            "placeholder": "​",
            "style": "IPY_MODEL_6614f12ba2ab4ca390b0a8b938bed4e5",
            "value": " 0.04MB of 0.04MB uploaded (0.00MB deduped)\r"
          }
        },
        "85a27dc981f44b57914e40852e2ae73a": {
          "model_module": "@jupyter-widgets/controls",
          "model_name": "FloatProgressModel",
          "state": {
            "_dom_classes": [],
            "_model_module": "@jupyter-widgets/controls",
            "_model_module_version": "1.5.0",
            "_model_name": "FloatProgressModel",
            "_view_count": null,
            "_view_module": "@jupyter-widgets/controls",
            "_view_module_version": "1.5.0",
            "_view_name": "ProgressView",
            "bar_style": "",
            "description": "",
            "description_tooltip": null,
            "layout": "IPY_MODEL_f934eb49980b40eca1141ce15ca3cb96",
            "max": 1,
            "min": 0,
            "orientation": "horizontal",
            "style": "IPY_MODEL_46b1786c1d4a438c9a58ce72203fcc03",
            "value": 1
          }
        },
        "8410afc9bc004788a19a63a1c692e2fe": {
          "model_module": "@jupyter-widgets/base",
          "model_name": "LayoutModel",
          "state": {
            "_model_module": "@jupyter-widgets/base",
            "_model_module_version": "1.2.0",
            "_model_name": "LayoutModel",
            "_view_count": null,
            "_view_module": "@jupyter-widgets/base",
            "_view_module_version": "1.2.0",
            "_view_name": "LayoutView",
            "align_content": null,
            "align_items": null,
            "align_self": null,
            "border": null,
            "bottom": null,
            "display": null,
            "flex": null,
            "flex_flow": null,
            "grid_area": null,
            "grid_auto_columns": null,
            "grid_auto_flow": null,
            "grid_auto_rows": null,
            "grid_column": null,
            "grid_gap": null,
            "grid_row": null,
            "grid_template_areas": null,
            "grid_template_columns": null,
            "grid_template_rows": null,
            "height": null,
            "justify_content": null,
            "justify_items": null,
            "left": null,
            "margin": null,
            "max_height": null,
            "max_width": null,
            "min_height": null,
            "min_width": null,
            "object_fit": null,
            "object_position": null,
            "order": null,
            "overflow": null,
            "overflow_x": null,
            "overflow_y": null,
            "padding": null,
            "right": null,
            "top": null,
            "visibility": null,
            "width": null
          }
        },
        "ecf32d1e6bdd4c9ca9ea670ecca08a2d": {
          "model_module": "@jupyter-widgets/base",
          "model_name": "LayoutModel",
          "state": {
            "_model_module": "@jupyter-widgets/base",
            "_model_module_version": "1.2.0",
            "_model_name": "LayoutModel",
            "_view_count": null,
            "_view_module": "@jupyter-widgets/base",
            "_view_module_version": "1.2.0",
            "_view_name": "LayoutView",
            "align_content": null,
            "align_items": null,
            "align_self": null,
            "border": null,
            "bottom": null,
            "display": null,
            "flex": null,
            "flex_flow": null,
            "grid_area": null,
            "grid_auto_columns": null,
            "grid_auto_flow": null,
            "grid_auto_rows": null,
            "grid_column": null,
            "grid_gap": null,
            "grid_row": null,
            "grid_template_areas": null,
            "grid_template_columns": null,
            "grid_template_rows": null,
            "height": null,
            "justify_content": null,
            "justify_items": null,
            "left": null,
            "margin": null,
            "max_height": null,
            "max_width": null,
            "min_height": null,
            "min_width": null,
            "object_fit": null,
            "object_position": null,
            "order": null,
            "overflow": null,
            "overflow_x": null,
            "overflow_y": null,
            "padding": null,
            "right": null,
            "top": null,
            "visibility": null,
            "width": null
          }
        },
        "6614f12ba2ab4ca390b0a8b938bed4e5": {
          "model_module": "@jupyter-widgets/controls",
          "model_name": "DescriptionStyleModel",
          "state": {
            "_model_module": "@jupyter-widgets/controls",
            "_model_module_version": "1.5.0",
            "_model_name": "DescriptionStyleModel",
            "_view_count": null,
            "_view_module": "@jupyter-widgets/base",
            "_view_module_version": "1.2.0",
            "_view_name": "StyleView",
            "description_width": ""
          }
        },
        "f934eb49980b40eca1141ce15ca3cb96": {
          "model_module": "@jupyter-widgets/base",
          "model_name": "LayoutModel",
          "state": {
            "_model_module": "@jupyter-widgets/base",
            "_model_module_version": "1.2.0",
            "_model_name": "LayoutModel",
            "_view_count": null,
            "_view_module": "@jupyter-widgets/base",
            "_view_module_version": "1.2.0",
            "_view_name": "LayoutView",
            "align_content": null,
            "align_items": null,
            "align_self": null,
            "border": null,
            "bottom": null,
            "display": null,
            "flex": null,
            "flex_flow": null,
            "grid_area": null,
            "grid_auto_columns": null,
            "grid_auto_flow": null,
            "grid_auto_rows": null,
            "grid_column": null,
            "grid_gap": null,
            "grid_row": null,
            "grid_template_areas": null,
            "grid_template_columns": null,
            "grid_template_rows": null,
            "height": null,
            "justify_content": null,
            "justify_items": null,
            "left": null,
            "margin": null,
            "max_height": null,
            "max_width": null,
            "min_height": null,
            "min_width": null,
            "object_fit": null,
            "object_position": null,
            "order": null,
            "overflow": null,
            "overflow_x": null,
            "overflow_y": null,
            "padding": null,
            "right": null,
            "top": null,
            "visibility": null,
            "width": null
          }
        },
        "46b1786c1d4a438c9a58ce72203fcc03": {
          "model_module": "@jupyter-widgets/controls",
          "model_name": "ProgressStyleModel",
          "state": {
            "_model_module": "@jupyter-widgets/controls",
            "_model_module_version": "1.5.0",
            "_model_name": "ProgressStyleModel",
            "_view_count": null,
            "_view_module": "@jupyter-widgets/base",
            "_view_module_version": "1.2.0",
            "_view_name": "StyleView",
            "bar_color": null,
            "description_width": ""
          }
        },
        "4acd7d4727d8415691a8ebf0a8518b7e": {
          "model_module": "@jupyter-widgets/controls",
          "model_name": "VBoxModel",
          "state": {
            "_dom_classes": [],
            "_model_module": "@jupyter-widgets/controls",
            "_model_module_version": "1.5.0",
            "_model_name": "VBoxModel",
            "_view_count": null,
            "_view_module": "@jupyter-widgets/controls",
            "_view_module_version": "1.5.0",
            "_view_name": "VBoxView",
            "box_style": "",
            "children": [
              "IPY_MODEL_3fc5e623d56f4a80a9c26e4eeddd20ea",
              "IPY_MODEL_d1d7d39c815845c1a7a37d46bc0e170f"
            ],
            "layout": "IPY_MODEL_2d9ea9913e49473cac4bfe1ab80d0d15"
          }
        },
        "3fc5e623d56f4a80a9c26e4eeddd20ea": {
          "model_module": "@jupyter-widgets/controls",
          "model_name": "LabelModel",
          "state": {
            "_dom_classes": [],
            "_model_module": "@jupyter-widgets/controls",
            "_model_module_version": "1.5.0",
            "_model_name": "LabelModel",
            "_view_count": null,
            "_view_module": "@jupyter-widgets/controls",
            "_view_module_version": "1.5.0",
            "_view_name": "LabelView",
            "description": "",
            "description_tooltip": null,
            "layout": "IPY_MODEL_32c39cc916e24eaf9607379addaf0b47",
            "placeholder": "​",
            "style": "IPY_MODEL_eb0690fa5e654502b65a2ba52cbbc713",
            "value": " 0.04MB of 0.04MB uploaded (0.00MB deduped)\r"
          }
        },
        "d1d7d39c815845c1a7a37d46bc0e170f": {
          "model_module": "@jupyter-widgets/controls",
          "model_name": "FloatProgressModel",
          "state": {
            "_dom_classes": [],
            "_model_module": "@jupyter-widgets/controls",
            "_model_module_version": "1.5.0",
            "_model_name": "FloatProgressModel",
            "_view_count": null,
            "_view_module": "@jupyter-widgets/controls",
            "_view_module_version": "1.5.0",
            "_view_name": "ProgressView",
            "bar_style": "",
            "description": "",
            "description_tooltip": null,
            "layout": "IPY_MODEL_4e79ce970c1049d7840ac2a1284c3dc8",
            "max": 1,
            "min": 0,
            "orientation": "horizontal",
            "style": "IPY_MODEL_c5e84f7876b2447580f126bf005baa08",
            "value": 1
          }
        },
        "2d9ea9913e49473cac4bfe1ab80d0d15": {
          "model_module": "@jupyter-widgets/base",
          "model_name": "LayoutModel",
          "state": {
            "_model_module": "@jupyter-widgets/base",
            "_model_module_version": "1.2.0",
            "_model_name": "LayoutModel",
            "_view_count": null,
            "_view_module": "@jupyter-widgets/base",
            "_view_module_version": "1.2.0",
            "_view_name": "LayoutView",
            "align_content": null,
            "align_items": null,
            "align_self": null,
            "border": null,
            "bottom": null,
            "display": null,
            "flex": null,
            "flex_flow": null,
            "grid_area": null,
            "grid_auto_columns": null,
            "grid_auto_flow": null,
            "grid_auto_rows": null,
            "grid_column": null,
            "grid_gap": null,
            "grid_row": null,
            "grid_template_areas": null,
            "grid_template_columns": null,
            "grid_template_rows": null,
            "height": null,
            "justify_content": null,
            "justify_items": null,
            "left": null,
            "margin": null,
            "max_height": null,
            "max_width": null,
            "min_height": null,
            "min_width": null,
            "object_fit": null,
            "object_position": null,
            "order": null,
            "overflow": null,
            "overflow_x": null,
            "overflow_y": null,
            "padding": null,
            "right": null,
            "top": null,
            "visibility": null,
            "width": null
          }
        },
        "32c39cc916e24eaf9607379addaf0b47": {
          "model_module": "@jupyter-widgets/base",
          "model_name": "LayoutModel",
          "state": {
            "_model_module": "@jupyter-widgets/base",
            "_model_module_version": "1.2.0",
            "_model_name": "LayoutModel",
            "_view_count": null,
            "_view_module": "@jupyter-widgets/base",
            "_view_module_version": "1.2.0",
            "_view_name": "LayoutView",
            "align_content": null,
            "align_items": null,
            "align_self": null,
            "border": null,
            "bottom": null,
            "display": null,
            "flex": null,
            "flex_flow": null,
            "grid_area": null,
            "grid_auto_columns": null,
            "grid_auto_flow": null,
            "grid_auto_rows": null,
            "grid_column": null,
            "grid_gap": null,
            "grid_row": null,
            "grid_template_areas": null,
            "grid_template_columns": null,
            "grid_template_rows": null,
            "height": null,
            "justify_content": null,
            "justify_items": null,
            "left": null,
            "margin": null,
            "max_height": null,
            "max_width": null,
            "min_height": null,
            "min_width": null,
            "object_fit": null,
            "object_position": null,
            "order": null,
            "overflow": null,
            "overflow_x": null,
            "overflow_y": null,
            "padding": null,
            "right": null,
            "top": null,
            "visibility": null,
            "width": null
          }
        },
        "eb0690fa5e654502b65a2ba52cbbc713": {
          "model_module": "@jupyter-widgets/controls",
          "model_name": "DescriptionStyleModel",
          "state": {
            "_model_module": "@jupyter-widgets/controls",
            "_model_module_version": "1.5.0",
            "_model_name": "DescriptionStyleModel",
            "_view_count": null,
            "_view_module": "@jupyter-widgets/base",
            "_view_module_version": "1.2.0",
            "_view_name": "StyleView",
            "description_width": ""
          }
        },
        "4e79ce970c1049d7840ac2a1284c3dc8": {
          "model_module": "@jupyter-widgets/base",
          "model_name": "LayoutModel",
          "state": {
            "_model_module": "@jupyter-widgets/base",
            "_model_module_version": "1.2.0",
            "_model_name": "LayoutModel",
            "_view_count": null,
            "_view_module": "@jupyter-widgets/base",
            "_view_module_version": "1.2.0",
            "_view_name": "LayoutView",
            "align_content": null,
            "align_items": null,
            "align_self": null,
            "border": null,
            "bottom": null,
            "display": null,
            "flex": null,
            "flex_flow": null,
            "grid_area": null,
            "grid_auto_columns": null,
            "grid_auto_flow": null,
            "grid_auto_rows": null,
            "grid_column": null,
            "grid_gap": null,
            "grid_row": null,
            "grid_template_areas": null,
            "grid_template_columns": null,
            "grid_template_rows": null,
            "height": null,
            "justify_content": null,
            "justify_items": null,
            "left": null,
            "margin": null,
            "max_height": null,
            "max_width": null,
            "min_height": null,
            "min_width": null,
            "object_fit": null,
            "object_position": null,
            "order": null,
            "overflow": null,
            "overflow_x": null,
            "overflow_y": null,
            "padding": null,
            "right": null,
            "top": null,
            "visibility": null,
            "width": null
          }
        },
        "c5e84f7876b2447580f126bf005baa08": {
          "model_module": "@jupyter-widgets/controls",
          "model_name": "ProgressStyleModel",
          "state": {
            "_model_module": "@jupyter-widgets/controls",
            "_model_module_version": "1.5.0",
            "_model_name": "ProgressStyleModel",
            "_view_count": null,
            "_view_module": "@jupyter-widgets/base",
            "_view_module_version": "1.2.0",
            "_view_name": "StyleView",
            "bar_color": null,
            "description_width": ""
          }
        },
        "f9ebab42d6244fbfafdbf6ab68e3f6be": {
          "model_module": "@jupyter-widgets/controls",
          "model_name": "VBoxModel",
          "state": {
            "_dom_classes": [],
            "_model_module": "@jupyter-widgets/controls",
            "_model_module_version": "1.5.0",
            "_model_name": "VBoxModel",
            "_view_count": null,
            "_view_module": "@jupyter-widgets/controls",
            "_view_module_version": "1.5.0",
            "_view_name": "VBoxView",
            "box_style": "",
            "children": [
              "IPY_MODEL_9120584ca4a24b05a43f287067db8780",
              "IPY_MODEL_43f7bd7da8c94acaa7ebe524464c2d94"
            ],
            "layout": "IPY_MODEL_7cb4c7127f514f4b95c942443e63bc85"
          }
        },
        "9120584ca4a24b05a43f287067db8780": {
          "model_module": "@jupyter-widgets/controls",
          "model_name": "LabelModel",
          "state": {
            "_dom_classes": [],
            "_model_module": "@jupyter-widgets/controls",
            "_model_module_version": "1.5.0",
            "_model_name": "LabelModel",
            "_view_count": null,
            "_view_module": "@jupyter-widgets/controls",
            "_view_module_version": "1.5.0",
            "_view_name": "LabelView",
            "description": "",
            "description_tooltip": null,
            "layout": "IPY_MODEL_ba9d21fcfbe44aebb44ae59164517c30",
            "placeholder": "​",
            "style": "IPY_MODEL_93d329fffaaf40d3b1d6373107f418c5",
            "value": " 0.04MB of 0.04MB uploaded (0.00MB deduped)\r"
          }
        },
        "43f7bd7da8c94acaa7ebe524464c2d94": {
          "model_module": "@jupyter-widgets/controls",
          "model_name": "FloatProgressModel",
          "state": {
            "_dom_classes": [],
            "_model_module": "@jupyter-widgets/controls",
            "_model_module_version": "1.5.0",
            "_model_name": "FloatProgressModel",
            "_view_count": null,
            "_view_module": "@jupyter-widgets/controls",
            "_view_module_version": "1.5.0",
            "_view_name": "ProgressView",
            "bar_style": "",
            "description": "",
            "description_tooltip": null,
            "layout": "IPY_MODEL_bd38e1e0330f4e1da3f88b6a102ba729",
            "max": 1,
            "min": 0,
            "orientation": "horizontal",
            "style": "IPY_MODEL_f1b36525450845f4a0952a4ffdaefd81",
            "value": 1
          }
        },
        "7cb4c7127f514f4b95c942443e63bc85": {
          "model_module": "@jupyter-widgets/base",
          "model_name": "LayoutModel",
          "state": {
            "_model_module": "@jupyter-widgets/base",
            "_model_module_version": "1.2.0",
            "_model_name": "LayoutModel",
            "_view_count": null,
            "_view_module": "@jupyter-widgets/base",
            "_view_module_version": "1.2.0",
            "_view_name": "LayoutView",
            "align_content": null,
            "align_items": null,
            "align_self": null,
            "border": null,
            "bottom": null,
            "display": null,
            "flex": null,
            "flex_flow": null,
            "grid_area": null,
            "grid_auto_columns": null,
            "grid_auto_flow": null,
            "grid_auto_rows": null,
            "grid_column": null,
            "grid_gap": null,
            "grid_row": null,
            "grid_template_areas": null,
            "grid_template_columns": null,
            "grid_template_rows": null,
            "height": null,
            "justify_content": null,
            "justify_items": null,
            "left": null,
            "margin": null,
            "max_height": null,
            "max_width": null,
            "min_height": null,
            "min_width": null,
            "object_fit": null,
            "object_position": null,
            "order": null,
            "overflow": null,
            "overflow_x": null,
            "overflow_y": null,
            "padding": null,
            "right": null,
            "top": null,
            "visibility": null,
            "width": null
          }
        },
        "ba9d21fcfbe44aebb44ae59164517c30": {
          "model_module": "@jupyter-widgets/base",
          "model_name": "LayoutModel",
          "state": {
            "_model_module": "@jupyter-widgets/base",
            "_model_module_version": "1.2.0",
            "_model_name": "LayoutModel",
            "_view_count": null,
            "_view_module": "@jupyter-widgets/base",
            "_view_module_version": "1.2.0",
            "_view_name": "LayoutView",
            "align_content": null,
            "align_items": null,
            "align_self": null,
            "border": null,
            "bottom": null,
            "display": null,
            "flex": null,
            "flex_flow": null,
            "grid_area": null,
            "grid_auto_columns": null,
            "grid_auto_flow": null,
            "grid_auto_rows": null,
            "grid_column": null,
            "grid_gap": null,
            "grid_row": null,
            "grid_template_areas": null,
            "grid_template_columns": null,
            "grid_template_rows": null,
            "height": null,
            "justify_content": null,
            "justify_items": null,
            "left": null,
            "margin": null,
            "max_height": null,
            "max_width": null,
            "min_height": null,
            "min_width": null,
            "object_fit": null,
            "object_position": null,
            "order": null,
            "overflow": null,
            "overflow_x": null,
            "overflow_y": null,
            "padding": null,
            "right": null,
            "top": null,
            "visibility": null,
            "width": null
          }
        },
        "93d329fffaaf40d3b1d6373107f418c5": {
          "model_module": "@jupyter-widgets/controls",
          "model_name": "DescriptionStyleModel",
          "state": {
            "_model_module": "@jupyter-widgets/controls",
            "_model_module_version": "1.5.0",
            "_model_name": "DescriptionStyleModel",
            "_view_count": null,
            "_view_module": "@jupyter-widgets/base",
            "_view_module_version": "1.2.0",
            "_view_name": "StyleView",
            "description_width": ""
          }
        },
        "bd38e1e0330f4e1da3f88b6a102ba729": {
          "model_module": "@jupyter-widgets/base",
          "model_name": "LayoutModel",
          "state": {
            "_model_module": "@jupyter-widgets/base",
            "_model_module_version": "1.2.0",
            "_model_name": "LayoutModel",
            "_view_count": null,
            "_view_module": "@jupyter-widgets/base",
            "_view_module_version": "1.2.0",
            "_view_name": "LayoutView",
            "align_content": null,
            "align_items": null,
            "align_self": null,
            "border": null,
            "bottom": null,
            "display": null,
            "flex": null,
            "flex_flow": null,
            "grid_area": null,
            "grid_auto_columns": null,
            "grid_auto_flow": null,
            "grid_auto_rows": null,
            "grid_column": null,
            "grid_gap": null,
            "grid_row": null,
            "grid_template_areas": null,
            "grid_template_columns": null,
            "grid_template_rows": null,
            "height": null,
            "justify_content": null,
            "justify_items": null,
            "left": null,
            "margin": null,
            "max_height": null,
            "max_width": null,
            "min_height": null,
            "min_width": null,
            "object_fit": null,
            "object_position": null,
            "order": null,
            "overflow": null,
            "overflow_x": null,
            "overflow_y": null,
            "padding": null,
            "right": null,
            "top": null,
            "visibility": null,
            "width": null
          }
        },
        "f1b36525450845f4a0952a4ffdaefd81": {
          "model_module": "@jupyter-widgets/controls",
          "model_name": "ProgressStyleModel",
          "state": {
            "_model_module": "@jupyter-widgets/controls",
            "_model_module_version": "1.5.0",
            "_model_name": "ProgressStyleModel",
            "_view_count": null,
            "_view_module": "@jupyter-widgets/base",
            "_view_module_version": "1.2.0",
            "_view_name": "StyleView",
            "bar_color": null,
            "description_width": ""
          }
        }
      }
    }
  },
  "cells": [
    {
      "cell_type": "markdown",
      "metadata": {
        "id": "AxsdYOtlchzc"
      },
      "source": [
        "# Enable GPU"
      ]
    },
    {
      "cell_type": "code",
      "metadata": {
        "id": "8ykkKPog6QG6"
      },
      "source": [
        "import torch\n",
        "device = torch.device('cuda:0' if torch.cuda.is_available else 'cpu')"
      ],
      "execution_count": 1,
      "outputs": []
    },
    {
      "cell_type": "markdown",
      "metadata": {
        "id": "obx2tUVVco5a"
      },
      "source": [
        "# Actor Critic Share Network"
      ]
    },
    {
      "cell_type": "code",
      "metadata": {
        "id": "PGfFj5m6HUsW"
      },
      "source": [
        "import torch\n",
        "import torch.nn as nn\n",
        "import torch.nn.functional as F\n",
        "import torch.optim as optim\n",
        "\n",
        "class ActorCritic_Net(nn.Module):\n",
        "  def __init__(self, input_dims, output_dims, fc1_dims = 128):\n",
        "    super(ActorCritic_Net , self).__init__()\n",
        "    self.fc1 = nn.Linear(input_dims,fc1_dims)\n",
        "    self.actor = nn.Linear(fc1_dims, output_dims)\n",
        "    self.critic = nn.Linear(fc1_dims,1)\n",
        "\n",
        "  def forward(self, state):\n",
        "    x = F.relu(self.fc1(state))\n",
        "    pi = F.softmax(self.actor(x), dim = 1)\n",
        "    value = self.critic(x)\n",
        "    return (pi, value)\n",
        "\n"
      ],
      "execution_count": 2,
      "outputs": []
    },
    {
      "cell_type": "markdown",
      "metadata": {
        "id": "WESaGvzgcroP"
      },
      "source": [
        "# REINFORCE with Baseline Agent"
      ]
    },
    {
      "cell_type": "code",
      "metadata": {
        "id": "Ct-q7avTJhWi"
      },
      "source": [
        "import torch\n",
        "import torch.nn as nn\n",
        "import torch.nn.functional as F\n",
        "import torch.optim as optim\n",
        "from torch.distributions import Categorical \n",
        "import numpy as np\n",
        "\n",
        "class ActorCritic(nn.Module):\n",
        "  def __init__(self, input_dims, output_dims, fc1_dims = 128, gamma = 0.99, lr = 1e-3):\n",
        "    super(ActorCritic, self).__init__()\n",
        "    self.ac_net = ActorCritic_Net(input_dims= input_dims, output_dims= output_dims, fc1_dims = fc1_dims)\n",
        "    self.optimizer = optim.RMSprop(params= self.ac_net.parameters(), lr = lr)\n",
        "    self.gamma = gamma\n",
        "\n",
        "    self.log_probs = []\n",
        "    self.values = []\n",
        "  \n",
        "  def get_action(self, state):\n",
        "    pi, v = self.ac_net(state)\n",
        "  \n",
        "    distribution = Categorical(probs = pi)\n",
        "    action = distribution.sample()\n",
        "    self.log_probs.append(distribution.log_prob(action))\n",
        "    self.values.append(v)\n",
        "\n",
        "    return action\n",
        "\n",
        "\n",
        "  def learn_mean(self, rewards ,states, actions, return_norm = True):\n",
        "    \n",
        "  \n",
        "    returns = []\n",
        "    actor_losses = []\n",
        "    critic_losses = []\n",
        "\n",
        "    # Calculate returns\n",
        "    G = 0\n",
        "    for reward in rewards[::-1]:\n",
        "      G = reward + self.gamma * G\n",
        "      returns.insert(0, G)\n",
        "    returns = torch.tensor(returns).to(device)\n",
        "\n",
        "\n",
        "    if return_norm:\n",
        "      eps = np.finfo(np.float32).eps.item()\n",
        "      returns = (returns - returns.mean()) / (returns.std() + eps)\n",
        "    \n",
        "    # Resize the vectors\n",
        "  \n",
        "    self.values = torch.cat(self.values).squeeze() # concatinating plus squeeze since input dim is 2d\n",
        "    self.log_probs = torch.cat(self.log_probs) # only concatinating since input dim is 1d\n",
        "\n",
        "    # Compute actor and critic losses\n",
        "    \n",
        "    for G, log_prob, v in zip(returns, self.log_probs, self.values):\n",
        "      \n",
        "      G = G.detach() \n",
        "      advantage = G - v.item() # detach the grad computation to avoid computing gradient\n",
        "      actor_losses.append(-log_prob * advantage)\n",
        "      critic_losses.append(F.smooth_l1_loss(v, G))\n",
        "    self.optimizer.zero_grad()\n",
        "    loss = (torch.stack(actor_losses).sum()).mean() + (torch.stack(critic_losses).sum()).mean()\n",
        "    loss.backward()\n",
        "    self.optimizer.step()\n",
        "\n",
        "    # clear out the memory\n",
        "    self.values = []\n",
        "    self.log_probs = []\n",
        "\n",
        "  def learn_forward(self, rewards, states, actions, return_norm = True):\n",
        "    \n",
        "  \n",
        "    returns = []\n",
        "    states = torch.cat(states, dim = 0).to(device)\n",
        "    actions = torch.tensor(actions).to(device)  \n",
        "    rewards = torch.tensor(rewards).to(device).flip(dims= [0])\n",
        "\n",
        "    # Calculate returns\n",
        "    G = 0\n",
        "    for reward in rewards:\n",
        "      G = reward + self.gamma * G\n",
        "      returns.insert(0, G)\n",
        "    returns = torch.tensor(returns).to(device)\n",
        "\n",
        "    if return_norm:\n",
        "      eps = np.finfo(np.float32).eps.item()\n",
        "      returns = (returns - returns.mean()) / (returns.std() + eps)\n",
        "    \n",
        "\n",
        "    # Compute actor and critic losses\n",
        "\n",
        "    for G, state, action in zip(returns, states, actions):\n",
        "      G = G.detach() \n",
        "      state = state.unsqueeze(0)\n",
        "      pi, v = self.ac_net(state)\n",
        "      dist = Categorical(probs = pi)\n",
        "      log_prob = dist.log_prob(action)\n",
        "      advantage = G - v.item() # detach the grad computation to avoid computing gradient\n",
        "      actor_loss = -log_prob * advantage\n",
        "      critic_loss = F.smooth_l1_loss(v, torch.tensor([G]).unsqueeze(0).to(device))\n",
        "      self.optimizer.zero_grad()\n",
        "      loss = actor_loss + critic_loss\n",
        "      loss.backward()\n",
        "      self.optimizer.step()\n",
        "\n",
        "    # clear out the memory\n",
        "    self.values = []\n",
        "    self.log_probs = []\n",
        "\n",
        "  def learn_backward(self, rewards, states, actions, return_norm = True):\n",
        "    \n",
        "    returns = []\n",
        "    states = torch.cat(states, dim = 0).to(device).flip(dims = [0])\n",
        "    actions = torch.tensor(actions).to(device).flip(dims = [0])\n",
        "    rewards = torch.tensor(rewards).to(device).flip(dims= [0])\n",
        "\n",
        "    # Calculate returns\n",
        "    G = 0\n",
        "    for reward in rewards:\n",
        "      G = reward + self.gamma * G\n",
        "      returns.insert(0, G)\n",
        "    returns = torch.tensor(returns).to(device)\n",
        "    returns = returns.flip(dims = [0]) # Flip it again to traverse backward\n",
        "\n",
        "    if return_norm:\n",
        "      eps = np.finfo(np.float32).eps.item()\n",
        "      returns = (returns - returns.mean()) / (returns.std() + eps)\n",
        "    \n",
        "\n",
        "    # Compute actor and critic losses\n",
        "\n",
        "    for G, state, action in zip(returns, states, actions):\n",
        "      G = G.detach() \n",
        "      state = state.unsqueeze(0)\n",
        "      pi, v = self.ac_net(state)\n",
        "      dist = Categorical(probs = pi)\n",
        "      log_prob = dist.log_prob(action)\n",
        "      advantage = G - v.item() # detach the grad computation to avoid computing gradient\n",
        "      actor_loss = -log_prob * advantage\n",
        "      critic_loss = F.smooth_l1_loss(v, torch.tensor([G]).unsqueeze(0).to(device)).unsqueeze(0)\n",
        "      self.optimizer.zero_grad()\n",
        "      assert actor_loss.size() == critic_loss.size()\n",
        "      loss = actor_loss + critic_loss\n",
        "      loss.backward()\n",
        "      self.optimizer.step()\n",
        "\n",
        "    # clear out the memory\n",
        "    self.values = []\n",
        "    self.log_probs = []\n"
      ],
      "execution_count": 3,
      "outputs": []
    },
    {
      "cell_type": "markdown",
      "metadata": {
        "id": "tKW3_a-IYW5o"
      },
      "source": [
        "# Without Wandb"
      ]
    },
    {
      "cell_type": "code",
      "metadata": {
        "id": "HSwd53TfL_np"
      },
      "source": [
        "import gym\n",
        "import torch\n",
        "import time\n",
        "\n",
        "def train():\n",
        "\n",
        "  start = time.time()\n",
        "\n",
        "  env = gym.make('CartPole-v1')\n",
        "  env.seed(543)\n",
        "  torch.manual_seed(543)\n",
        "\n",
        "  state_dim = env.observation_space.shape[0]\n",
        "  action_dim = env.action_space.n\n",
        "\n",
        "  device = torch.device('cuda:0' if torch.cuda.is_available else 'cpu')\n",
        "  agent = ActorCritic(input_dims = state_dim,  output_dims = action_dim, lr = 0.001).to(device)\n",
        "  num_ep = 3000\n",
        "  print_interval = 100\n",
        "  running_score = 10\n",
        "\n",
        "  for ep in range(num_ep):\n",
        "    state = env.reset()\n",
        "    score = 0\n",
        "    done = False\n",
        "    rewards = []\n",
        "    states = []\n",
        "    actions = []\n",
        "\n",
        "    while not done:\n",
        "      state = torch.tensor([state]).float().to(device)\n",
        "      action = agent.get_action(state)\n",
        "      next_state, reward, done, _ = env.step(action.item())\n",
        "      \n",
        "      # saving episode\n",
        "      rewards.append(reward)\n",
        "      states.append(state)\n",
        "      actions.append(action.item())\n",
        "      # update score and state\n",
        "      score += reward\n",
        "      state = next_state\n",
        "\n",
        "      if done:\n",
        "        break\n",
        "\n",
        "  \n",
        "    # calculating score and running score\n",
        "    running_score = 0.05 * score + (1 - 0.05) * running_score\n",
        "\n",
        "    # train the agent\n",
        "    agent.learn_backward(rewards, states, actions, return_norm = True)\n",
        "\n",
        "    if ep % print_interval == 0:\n",
        "      print('episode {} average reward {}, ended at {:.01f}'.format(ep, running_score, time.time() - start))\n",
        "  "
      ],
      "execution_count": 6,
      "outputs": []
    },
    {
      "cell_type": "code",
      "metadata": {
        "id": "So6zlGK4JFJM"
      },
      "source": [
        "train()"
      ],
      "execution_count": null,
      "outputs": []
    },
    {
      "cell_type": "markdown",
      "metadata": {
        "id": "7-YfHGWmcpZV"
      },
      "source": [
        "# With Wandb"
      ]
    },
    {
      "cell_type": "code",
      "metadata": {
        "id": "jPZePlNPcrJM"
      },
      "source": [
        "!pip install wandb\n",
        "!wandb login"
      ],
      "execution_count": null,
      "outputs": []
    },
    {
      "cell_type": "code",
      "metadata": {
        "colab": {
          "base_uri": "https://localhost:8080/"
        },
        "id": "i17q83om2wrJ",
        "outputId": "cb5fa00e-1ab1-4d65-beac-51ef065e3826"
      },
      "source": [
        "import wandb\n",
        "sweep_config = dict()\n",
        "sweep_config['method'] = 'grid'\n",
        "sweep_config['metric'] = {'name': 'running_score', 'goal': 'maximize'}\n",
        "sweep_config['parameters'] = {'learning': {'values': ['learn_mean','learn_forward','learn_backward']}, 'learning_rate': {'values' : [0.01, 0.001, 0.0001,0.0003,0.00001]}\n",
        "                              , 'norm_return': {'value': True}, 'num_neurons': {'value': 128}}\n",
        "\n",
        "sweep_id = wandb.sweep(sweep_config, project = 'REINFORCE_Baseline')"
      ],
      "execution_count": null,
      "outputs": [
        {
          "output_type": "stream",
          "text": [
            "Create sweep with ID: uticyas7\n",
            "Sweep URL: https://wandb.ai/ko120/REINFORCE_Baseline/sweeps/uticyas7\n"
          ],
          "name": "stdout"
        }
      ]
    },
    {
      "cell_type": "code",
      "metadata": {
        "id": "JQF1Tdkecuv5"
      },
      "source": [
        "import gym \n",
        "import torch\n",
        "import time\n",
        "import wandb\n",
        "\n",
        "def train():\n",
        "  wandb.init(config = {'env':'CartPole-v1','algorithm:': 'REINFORCE_Baseline','architecture': 'shared','num_laeyrs':'2'}, project = 'REINFORCE_Baseline',group = 'Cart_REINFORCE_Baseline_with_128_neurons_RMSProp')\n",
        "  config = wandb.config\n",
        "\n",
        "  start = time.time()\n",
        "\n",
        "  env = gym.make('CartPole-v1')\n",
        "  env.seed(543)\n",
        "  torch.manual_seed(543)\n",
        "\n",
        "  state_dim = env.observation_space.shape[0]\n",
        "  action_dim = env.action_space.n\n",
        "\n",
        "  device = torch.device('cuda:0' if torch.cuda.is_available else 'cpu')\n",
        "  agent = ActorCritic(input_dims = state_dim,  output_dims = action_dim, lr = config.learning_rate, fc1_dims= config.num_neurons).to(device)\n",
        "  num_ep = 3000\n",
        "  print_interval = 100\n",
        "  save_interval = 1000\n",
        "  running_score = 10\n",
        "\n",
        "  wandb.watch(agent)\n",
        "  for ep in range(1,num_ep+1):\n",
        "    state = env.reset()\n",
        "    score = 0\n",
        "    done = False\n",
        "    rewards = []\n",
        "    states = []\n",
        "    actions = []\n",
        "    while not done:\n",
        "      state = torch.tensor([state]).float().to(device)\n",
        "      action = agent.get_action(state)\n",
        "      next_state, reward, done, _ = env.step(action.item())\n",
        "      \n",
        "      # saving episode\n",
        "      rewards.append(reward)\n",
        "      states.append(state)\n",
        "      actions.append(action.item())\n",
        "\n",
        "      # update score and state\n",
        "      score += reward\n",
        "      state = next_state\n",
        "\n",
        "      if done:\n",
        "        break\n",
        "  \n",
        "    # calculating score and running score\n",
        "    running_score = 0.05 * score + (1 - 0.05) * running_score\n",
        "    wandb.log({'episode': ep, 'running_score': running_score})\n",
        "\n",
        "    # train the agent\n",
        "  \n",
        "    if config.learning == 'learn_mean':\n",
        "      agent.learn_mean(rewards,states, actions, return_norm = True)\n",
        "    elif config.learning == 'learn_forward':\n",
        "      agent.learn_forward(rewards, states, actions, return_norm = True)\n",
        "    elif config.learning == 'learn_backward':\n",
        "      agent.learn_backward(rewards, states, actions, return_norm = True)\n",
        "\n",
        "    if ep % print_interval == 0:\n",
        "      print('episode {} average reward {}, ended at {:.01f}'.format(ep, running_score, time.time() - start))    \n",
        "    \n",
        "    if ep % save_interval == 0:\n",
        "      save_name = 'agent_' + str(ep) + '.pt'\n",
        "      torch.save(agent.state_dict(),save_name)\n",
        "      wandb.save(save_name)\n",
        "\n",
        "    if ep == num_ep:\n",
        "      dummy_input = torch.rand(1,4).to(device)\n",
        "      torch.onnx.export(agent.ac_net,dummy_input,'final_model.onnx')\n",
        "      wandb.save('final_model.onnx')\n",
        "    "
      ],
      "execution_count": null,
      "outputs": []
    },
    {
      "cell_type": "code",
      "metadata": {
        "colab": {
          "base_uri": "https://localhost:8080/",
          "height": 1000,
          "referenced_widgets": [
            "10d603f76109400fba50309928d65fd9",
            "44b140d6f60646578618936eaff56dc7",
            "8c23523e8b7345b9b8a59c6f4d5c0369",
            "2f9b6f5e3a634737ab6951f00d67d9e2",
            "d5328214ac634f0e98be66e7c8f704b2",
            "648eb308e4e4492a86c2d0be11558680",
            "4590f92377124226971cdabd4a1f2f32",
            "d1fa9029a8ec4d36af45238c9ceca325",
            "bdba088c6e8e4badaa669dc4b498e5c2",
            "b0941a7ff01c42e38d252af52a05ddaa",
            "bfe8f07e230940f8a99021cc3724723e",
            "052a083a535c45c98453e9cf2b84a035",
            "0d3a6dce7ab24ef68a333d58b3433ae2",
            "ebcfc99e75fe40dba478924e3aa1de01",
            "76ce56cc227b4826af4b47c9802b7000",
            "5f22e24d550f4ffdb398dec5e1502ebb",
            "2327bee344694c638805f58727d25a1f",
            "101a7fbf109146c9b570f54c9ddcc46d",
            "4138174235514b3291083c93a1cd0626",
            "c468d333ac854084885899e5089fbd93",
            "958d71eca9fb4d9cac29363981f04b98",
            "77be1cdf250940a993b8533b2a2dce13",
            "447222a125024129816c66ee59bb2a10",
            "e4aa43f292834e9bb3955c383f9742f2",
            "86d4f3358b584fdea0164def6024525b",
            "4d7357dead674bb2be043c65f511dcf2",
            "cc304678d184405ea7b6f8475bf28c2a",
            "3fdab1a4ea704f27867ec3b39000272e",
            "2f5ab16ce82049b089ebf65817de799a",
            "cc234f6293e6457aa268cae8570c718e",
            "d4e5dd4f2f4345558757450cb48d7bbe",
            "c02befba7c2d4ac38176e5744f951403",
            "6d0ec09448654d4780df23a0eb39a8a5",
            "af92a1be2b5e49549f956a3651ab386a",
            "a5f4c9c19e244d8588c240ba108c8664",
            "a7922ae1e68d40d4ade2cf781b2cb2e8",
            "75da8b82d9f64fd1974a6f40c5484740",
            "7e2014c46c6a4bcb84bd9085c3fdfa9c",
            "39f1d01a72ad4fb49ec5df9da02e2172",
            "21b26dbdfe13435ba4b02bb70de4a4f7",
            "468c3a12bdb744a79decdd1db7a666ae",
            "ffbea8aa10bc41fa83fe0ce56b5794b9",
            "ab3836c903b7487c8ee2de2ede98b51f",
            "c151a31b81b4485bb11ed68687f7be3e",
            "42dbf829f11e483fae5ae58d88e2cdcc",
            "cdc2b09d17924b0d884d9908551f6592",
            "f72c17fc8d0548d086dc65d2bc9d72f3",
            "0d7760ecc9854d75825bce2cbc1e89ba",
            "5fed97561ff14e6ebd843627184a2362",
            "f405f02f9d4a4aceb53278ff2b265592",
            "597c834d2fc94adea112f8c4f9219fa7",
            "bae8fc85f960459e925a58cbddbaa9b8",
            "e4b1e2fd406e418bb52852612cfc57c0",
            "ecb6acf3662843248059e2cc43cd4790",
            "5d423594274f47568fe2743ff3acb8bf",
            "fd6991e156c94d59913333ffa9bbc558",
            "4f3ea21990544948884c9f52295db8c0",
            "0d5c7ed2129d4283bb15e1748b02b37a",
            "f6e97e17987a45ff9255652fd9cc44db",
            "9ddd8c33b2cb42988aa6779da834d01d",
            "baf2fb0aac63474dbf915b75f9d92832",
            "d56e5d5e0b1a4171994d80a59d7970ba",
            "d31f77efea894758a2ba821f6c2d563f",
            "fafb0ff6bae04b37aba8cd15c29a149f",
            "1924a8a7ded24c6ba0e67b11ebbbd910",
            "42778c7877444f89a7f9be7348cf3443",
            "f533cd4748064ee5a25f494fc6d2adf2",
            "6758325144594d9ea823d600960f8d99",
            "4049ebc5cbc443bab424ec0d4a86c808",
            "101b3d1df1d74c77a55701457f39956c",
            "623ab499c91447bba58c2303953eca31",
            "90b363d7287f4c3bacc8170434195ae2",
            "3bff61cabea043649736c4d5c130d347",
            "33742d6c9e3145ac9d6b5527442bb7d2",
            "58568724f29d455baf967662db571b86",
            "f1f19fff4e4241ddbbcfa0764d99d0ca",
            "72dc7054feda4f0bba14e78a6d3b9dd8",
            "ec904e5b91cb46319361aea82c5bfbc5",
            "320e4c79135a458a9d6d2dfe5bc169c2",
            "5c992d1b2d6e48cbb83c9f28100413c8",
            "c9db102486354acda5d74617d678738b",
            "959014d1dd8b423fb473be5a23b56ec4",
            "7801d63713ac49d0938ced6834211b5f",
            "20ac33314ead429cab30194345fb5bfd",
            "f2251fde1a2d4b06a881676803dd5c40",
            "66ef803560c24c88bf0fb4954ffa7f97",
            "ab47fc43002644f7a16587914cf5c0ab",
            "a94e824f68114b46ade85c1ec7841b76",
            "96b5fbae76644281b0d155139ec743b6",
            "c57911b7844147ecbfe1789583d14296",
            "472d3849d55b4e8c8f7f7c3c13873b3a",
            "fc4a46ba7e4c432d91b39a61513d746d",
            "c0b06de3c625443fac02c4d66b4cc848",
            "e6be39d171e949b397a846b556312b4c",
            "535c38e95d2340c28e88ef9138186e54",
            "204be9a0fc844de6beea1d8a327b8365",
            "438f4e1ed1554df1bc2f9c7cb01898f5",
            "bccf5272d41f42d3ac443cacf3b78281",
            "85a27dc981f44b57914e40852e2ae73a",
            "8410afc9bc004788a19a63a1c692e2fe",
            "ecf32d1e6bdd4c9ca9ea670ecca08a2d",
            "6614f12ba2ab4ca390b0a8b938bed4e5",
            "f934eb49980b40eca1141ce15ca3cb96",
            "46b1786c1d4a438c9a58ce72203fcc03",
            "4acd7d4727d8415691a8ebf0a8518b7e",
            "3fc5e623d56f4a80a9c26e4eeddd20ea",
            "d1d7d39c815845c1a7a37d46bc0e170f",
            "2d9ea9913e49473cac4bfe1ab80d0d15",
            "32c39cc916e24eaf9607379addaf0b47",
            "eb0690fa5e654502b65a2ba52cbbc713",
            "4e79ce970c1049d7840ac2a1284c3dc8",
            "c5e84f7876b2447580f126bf005baa08",
            "f9ebab42d6244fbfafdbf6ab68e3f6be",
            "9120584ca4a24b05a43f287067db8780",
            "43f7bd7da8c94acaa7ebe524464c2d94",
            "7cb4c7127f514f4b95c942443e63bc85",
            "ba9d21fcfbe44aebb44ae59164517c30",
            "93d329fffaaf40d3b1d6373107f418c5",
            "bd38e1e0330f4e1da3f88b6a102ba729",
            "f1b36525450845f4a0952a4ffdaefd81"
          ]
        },
        "id": "SYhJFKiBd8Hc",
        "outputId": "c7cd2330-8fb0-4190-c3d8-502d6343208a"
      },
      "source": [
        "wandb.agent(sweep_id, train)"
      ],
      "execution_count": null,
      "outputs": [
        {
          "output_type": "stream",
          "text": [
            "\u001b[34m\u001b[1mwandb\u001b[0m: Agent Starting Run: sa12jwhb with config:\n",
            "\u001b[34m\u001b[1mwandb\u001b[0m: \tlearning: learn_mean\n",
            "\u001b[34m\u001b[1mwandb\u001b[0m: \tlearning_rate: 0.01\n",
            "\u001b[34m\u001b[1mwandb\u001b[0m: \tnorm_return: True\n",
            "\u001b[34m\u001b[1mwandb\u001b[0m: \tnum_neurons: 128\n",
            "\u001b[34m\u001b[1mwandb\u001b[0m: \u001b[33mWARNING\u001b[0m Ignored wandb.init() arg project when running a sweep\n"
          ],
          "name": "stderr"
        },
        {
          "output_type": "display_data",
          "data": {
            "text/html": [
              "\n",
              "                Tracking run with wandb version 0.11.0<br/>\n",
              "                Syncing run <strong style=\"color:#cdcd00\">magic-sweep-1</strong> to <a href=\"https://wandb.ai\" target=\"_blank\">Weights & Biases</a> <a href=\"https://docs.wandb.com/integrations/jupyter.html\" target=\"_blank\">(Documentation)</a>.<br/>\n",
              "                Project page: <a href=\"https://wandb.ai/ko120/REINFORCE_Baseline\" target=\"_blank\">https://wandb.ai/ko120/REINFORCE_Baseline</a><br/>\n",
              "                Sweep page: <a href=\"https://wandb.ai/ko120/REINFORCE_Baseline/sweeps/uticyas7\" target=\"_blank\">https://wandb.ai/ko120/REINFORCE_Baseline/sweeps/uticyas7</a><br/>\n",
              "Run page: <a href=\"https://wandb.ai/ko120/REINFORCE_Baseline/runs/sa12jwhb\" target=\"_blank\">https://wandb.ai/ko120/REINFORCE_Baseline/runs/sa12jwhb</a><br/>\n",
              "                Run data is saved locally in <code>/content/wandb/run-20210723_224354-sa12jwhb</code><br/><br/>\n",
              "            "
            ],
            "text/plain": [
              "<IPython.core.display.HTML object>"
            ]
          },
          "metadata": {
            "tags": []
          }
        },
        {
          "output_type": "stream",
          "text": [
            "episode 100 average reward 59.97391039064079, ended at 7.0\n",
            "episode 200 average reward 61.89096405838821, ended at 22.4\n",
            "episode 300 average reward 287.4959541386293, ended at 67.4\n",
            "episode 400 average reward 441.40501878301546, ended at 126.3\n",
            "episode 500 average reward 386.12215299398105, ended at 191.9\n",
            "episode 600 average reward 497.46071711913794, ended at 285.3\n",
            "episode 700 average reward 469.79866650347964, ended at 366.6\n",
            "episode 800 average reward 471.2086979303794, ended at 445.6\n",
            "episode 900 average reward 499.82954025480495, ended at 542.2\n",
            "episode 1000 average reward 439.45723819070673, ended at 630.4\n",
            "episode 1100 average reward 499.64155480962796, ended at 728.4\n",
            "episode 1200 average reward 499.99787781477613, ended at 825.4\n",
            "episode 1300 average reward 497.060488231461, ended at 920.0\n",
            "episode 1400 average reward 478.8244108332537, ended at 1013.6\n",
            "episode 1500 average reward 461.9305351492036, ended at 1108.4\n",
            "episode 1600 average reward 446.1696586564902, ended at 1178.4\n",
            "episode 1700 average reward 248.64175704190956, ended at 1250.9\n",
            "episode 1800 average reward 488.8120110645894, ended at 1330.4\n",
            "episode 1900 average reward 475.8218506766376, ended at 1422.7\n",
            "episode 2000 average reward 428.5937065381214, ended at 1481.2\n",
            "episode 2100 average reward 499.5772369530428, ended at 1577.8\n",
            "episode 2200 average reward 483.47584898784476, ended at 1672.4\n",
            "episode 2300 average reward 384.90953222647494, ended at 1752.0\n",
            "episode 2400 average reward 481.8252445245811, ended at 1842.7\n",
            "episode 2500 average reward 222.91704974785088, ended at 1901.2\n",
            "episode 2600 average reward 346.80446753935684, ended at 1958.2\n",
            "episode 2700 average reward 316.94594998681185, ended at 2016.3\n",
            "episode 2800 average reward 383.16691934716886, ended at 2081.4\n",
            "episode 2900 average reward 486.92258853227105, ended at 2176.4\n",
            "episode 3000 average reward 499.92257480327856, ended at 2276.5\n"
          ],
          "name": "stdout"
        },
        {
          "output_type": "display_data",
          "data": {
            "text/html": [
              "<br/>Waiting for W&B process to finish, PID 1736<br/>Program ended successfully."
            ],
            "text/plain": [
              "<IPython.core.display.HTML object>"
            ]
          },
          "metadata": {
            "tags": []
          }
        },
        {
          "output_type": "display_data",
          "data": {
            "application/vnd.jupyter.widget-view+json": {
              "model_id": "10d603f76109400fba50309928d65fd9",
              "version_major": 2,
              "version_minor": 0
            },
            "text/plain": [
              "VBox(children=(Label(value=' 0.02MB of 0.02MB uploaded (0.00MB deduped)\\r'), FloatProgress(value=1.0, max=1.0)…"
            ]
          },
          "metadata": {
            "tags": []
          }
        },
        {
          "output_type": "display_data",
          "data": {
            "text/html": [
              "Find user logs for this run at: <code>/content/wandb/run-20210723_224354-sa12jwhb/logs/debug.log</code>"
            ],
            "text/plain": [
              "<IPython.core.display.HTML object>"
            ]
          },
          "metadata": {
            "tags": []
          }
        },
        {
          "output_type": "display_data",
          "data": {
            "text/html": [
              "Find internal logs for this run at: <code>/content/wandb/run-20210723_224354-sa12jwhb/logs/debug-internal.log</code>"
            ],
            "text/plain": [
              "<IPython.core.display.HTML object>"
            ]
          },
          "metadata": {
            "tags": []
          }
        },
        {
          "output_type": "display_data",
          "data": {
            "text/html": [
              "<h3>Run summary:</h3><br/><style>\n",
              "    table.wandb td:nth-child(1) { padding: 0 10px; text-align: right }\n",
              "    </style><table class=\"wandb\">\n",
              "<tr><td>episode</td><td>3000</td></tr><tr><td>running_score</td><td>499.92257</td></tr><tr><td>_runtime</td><td>2279</td></tr><tr><td>_timestamp</td><td>1627082513</td></tr><tr><td>_step</td><td>3000</td></tr></table>"
            ],
            "text/plain": [
              "<IPython.core.display.HTML object>"
            ]
          },
          "metadata": {
            "tags": []
          }
        },
        {
          "output_type": "display_data",
          "data": {
            "text/html": [
              "<h3>Run history:</h3><br/><style>\n",
              "    table.wandb td:nth-child(1) { padding: 0 10px; text-align: right }\n",
              "    </style><table class=\"wandb\">\n",
              "<tr><td>episode</td><td>▁▁▁▂▂▂▂▂▂▃▃▃▃▃▄▄▄▄▄▄▅▅▅▅▅▅▆▆▆▆▆▇▇▇▇▇▇███</td></tr><tr><td>running_score</td><td>▁▂▂▃▃▆▄▇██▆██▇██████▅▇▇▇██▆███▆▇▇▄▆▅▅▇▇█</td></tr><tr><td>_runtime</td><td>▁▁▁▁▁▁▂▂▂▂▂▂▃▃▃▃▄▄▄▄▅▅▅▅▅▅▆▆▆▆▆▇▇▇▇▇▇███</td></tr><tr><td>_timestamp</td><td>▁▁▁▁▁▁▂▂▂▂▂▂▃▃▃▃▄▄▄▄▅▅▅▅▅▅▆▆▆▆▆▇▇▇▇▇▇███</td></tr><tr><td>_step</td><td>▁▁▁▂▂▂▂▂▂▃▃▃▃▃▄▄▄▄▄▄▅▅▅▅▅▅▆▆▆▆▆▇▇▇▇▇▇███</td></tr></table><br/>"
            ],
            "text/plain": [
              "<IPython.core.display.HTML object>"
            ]
          },
          "metadata": {
            "tags": []
          }
        },
        {
          "output_type": "display_data",
          "data": {
            "text/html": [
              "Synced 5 W&B file(s), 0 media file(s), 0 artifact file(s) and 4 other file(s)"
            ],
            "text/plain": [
              "<IPython.core.display.HTML object>"
            ]
          },
          "metadata": {
            "tags": []
          }
        },
        {
          "output_type": "display_data",
          "data": {
            "text/html": [
              "\n",
              "                    <br/>Synced <strong style=\"color:#cdcd00\">magic-sweep-1</strong>: <a href=\"https://wandb.ai/ko120/REINFORCE_Baseline/runs/sa12jwhb\" target=\"_blank\">https://wandb.ai/ko120/REINFORCE_Baseline/runs/sa12jwhb</a><br/>\n",
              "                "
            ],
            "text/plain": [
              "<IPython.core.display.HTML object>"
            ]
          },
          "metadata": {
            "tags": []
          }
        },
        {
          "output_type": "stream",
          "text": [
            "\u001b[34m\u001b[1mwandb\u001b[0m: Agent Starting Run: 8ef9mlqk with config:\n",
            "\u001b[34m\u001b[1mwandb\u001b[0m: \tlearning: learn_mean\n",
            "\u001b[34m\u001b[1mwandb\u001b[0m: \tlearning_rate: 0.001\n",
            "\u001b[34m\u001b[1mwandb\u001b[0m: \tnorm_return: True\n",
            "\u001b[34m\u001b[1mwandb\u001b[0m: \tnum_neurons: 128\n",
            "\u001b[34m\u001b[1mwandb\u001b[0m: \u001b[33mWARNING\u001b[0m Ignored wandb.init() arg project when running a sweep\n"
          ],
          "name": "stderr"
        },
        {
          "output_type": "display_data",
          "data": {
            "text/html": [
              "\n",
              "                Tracking run with wandb version 0.11.0<br/>\n",
              "                Syncing run <strong style=\"color:#cdcd00\">easy-sweep-2</strong> to <a href=\"https://wandb.ai\" target=\"_blank\">Weights & Biases</a> <a href=\"https://docs.wandb.com/integrations/jupyter.html\" target=\"_blank\">(Documentation)</a>.<br/>\n",
              "                Project page: <a href=\"https://wandb.ai/ko120/REINFORCE_Baseline\" target=\"_blank\">https://wandb.ai/ko120/REINFORCE_Baseline</a><br/>\n",
              "                Sweep page: <a href=\"https://wandb.ai/ko120/REINFORCE_Baseline/sweeps/uticyas7\" target=\"_blank\">https://wandb.ai/ko120/REINFORCE_Baseline/sweeps/uticyas7</a><br/>\n",
              "Run page: <a href=\"https://wandb.ai/ko120/REINFORCE_Baseline/runs/8ef9mlqk\" target=\"_blank\">https://wandb.ai/ko120/REINFORCE_Baseline/runs/8ef9mlqk</a><br/>\n",
              "                Run data is saved locally in <code>/content/wandb/run-20210723_232158-8ef9mlqk</code><br/><br/>\n",
              "            "
            ],
            "text/plain": [
              "<IPython.core.display.HTML object>"
            ]
          },
          "metadata": {
            "tags": []
          }
        },
        {
          "output_type": "stream",
          "text": [
            "episode 100 average reward 31.519144179477014, ended at 5.3\n",
            "episode 200 average reward 41.387473371873995, ended at 12.9\n",
            "episode 300 average reward 138.09489831881822, ended at 31.1\n",
            "episode 400 average reward 183.8797629143809, ended at 64.6\n",
            "episode 500 average reward 204.38286168727623, ended at 111.6\n",
            "episode 600 average reward 363.24235984622266, ended at 177.5\n",
            "episode 700 average reward 362.02785569962225, ended at 256.5\n",
            "episode 800 average reward 430.3839872608341, ended at 339.0\n",
            "episode 900 average reward 442.4633884185407, ended at 424.0\n",
            "episode 1000 average reward 470.67591662449246, ended at 517.9\n",
            "episode 1100 average reward 476.44191623301117, ended at 610.8\n",
            "episode 1200 average reward 470.7739156753023, ended at 703.8\n",
            "episode 1300 average reward 473.826222249592, ended at 799.2\n",
            "episode 1400 average reward 461.8787267570851, ended at 894.2\n",
            "episode 1500 average reward 488.13461487827004, ended at 989.6\n",
            "episode 1600 average reward 499.8881726470901, ended at 1088.1\n",
            "episode 1700 average reward 498.31849144386524, ended at 1185.5\n",
            "episode 1800 average reward 499.80804158296013, ended at 1282.9\n",
            "episode 1900 average reward 484.65702712961826, ended at 1379.2\n",
            "episode 2000 average reward 497.06903588321035, ended at 1475.6\n",
            "episode 2100 average reward 495.7267439592531, ended at 1573.5\n",
            "episode 2200 average reward 499.9747000627443, ended at 1675.4\n",
            "episode 2300 average reward 497.03598536777224, ended at 1774.9\n",
            "episode 2400 average reward 493.6348700838042, ended at 1874.6\n",
            "episode 2500 average reward 496.74486122273925, ended at 1970.1\n",
            "episode 2600 average reward 489.5534771614486, ended at 2069.5\n",
            "episode 2700 average reward 488.09740849299783, ended at 2166.0\n",
            "episode 2800 average reward 485.8139824014994, ended at 2264.7\n",
            "episode 2900 average reward 466.7552873185359, ended at 2361.2\n",
            "episode 3000 average reward 489.24659705429315, ended at 2458.6\n"
          ],
          "name": "stdout"
        },
        {
          "output_type": "display_data",
          "data": {
            "text/html": [
              "<br/>Waiting for W&B process to finish, PID 2223<br/>Program ended successfully."
            ],
            "text/plain": [
              "<IPython.core.display.HTML object>"
            ]
          },
          "metadata": {
            "tags": []
          }
        },
        {
          "output_type": "display_data",
          "data": {
            "application/vnd.jupyter.widget-view+json": {
              "model_id": "bdba088c6e8e4badaa669dc4b498e5c2",
              "version_major": 2,
              "version_minor": 0
            },
            "text/plain": [
              "VBox(children=(Label(value=' 0.02MB of 0.02MB uploaded (0.00MB deduped)\\r'), FloatProgress(value=1.0, max=1.0)…"
            ]
          },
          "metadata": {
            "tags": []
          }
        },
        {
          "output_type": "display_data",
          "data": {
            "text/html": [
              "Find user logs for this run at: <code>/content/wandb/run-20210723_232158-8ef9mlqk/logs/debug.log</code>"
            ],
            "text/plain": [
              "<IPython.core.display.HTML object>"
            ]
          },
          "metadata": {
            "tags": []
          }
        },
        {
          "output_type": "display_data",
          "data": {
            "text/html": [
              "Find internal logs for this run at: <code>/content/wandb/run-20210723_232158-8ef9mlqk/logs/debug-internal.log</code>"
            ],
            "text/plain": [
              "<IPython.core.display.HTML object>"
            ]
          },
          "metadata": {
            "tags": []
          }
        },
        {
          "output_type": "display_data",
          "data": {
            "text/html": [
              "<h3>Run summary:</h3><br/><style>\n",
              "    table.wandb td:nth-child(1) { padding: 0 10px; text-align: right }\n",
              "    </style><table class=\"wandb\">\n",
              "<tr><td>episode</td><td>3000</td></tr><tr><td>running_score</td><td>489.2466</td></tr><tr><td>_runtime</td><td>2461</td></tr><tr><td>_timestamp</td><td>1627084979</td></tr><tr><td>_step</td><td>3000</td></tr></table>"
            ],
            "text/plain": [
              "<IPython.core.display.HTML object>"
            ]
          },
          "metadata": {
            "tags": []
          }
        },
        {
          "output_type": "display_data",
          "data": {
            "text/html": [
              "<h3>Run history:</h3><br/><style>\n",
              "    table.wandb td:nth-child(1) { padding: 0 10px; text-align: right }\n",
              "    </style><table class=\"wandb\">\n",
              "<tr><td>episode</td><td>▁▁▁▂▂▂▂▂▂▃▃▃▃▃▄▄▄▄▄▄▅▅▅▅▅▅▆▆▆▆▆▇▇▇▇▇▇███</td></tr><tr><td>running_score</td><td>▁▁▁▂▃▃▅▅▆▆▇▇███▇███▇████████████▇███████</td></tr><tr><td>_runtime</td><td>▁▁▁▁▁▁▁▁▂▂▂▂▂▂▃▃▃▃▄▄▄▄▄▅▅▅▅▅▆▆▆▆▆▇▇▇▇███</td></tr><tr><td>_timestamp</td><td>▁▁▁▁▁▁▁▁▂▂▂▂▂▂▃▃▃▃▄▄▄▄▄▅▅▅▅▅▆▆▆▆▆▇▇▇▇███</td></tr><tr><td>_step</td><td>▁▁▁▂▂▂▂▂▂▃▃▃▃▃▄▄▄▄▄▄▅▅▅▅▅▅▆▆▆▆▆▇▇▇▇▇▇███</td></tr></table><br/>"
            ],
            "text/plain": [
              "<IPython.core.display.HTML object>"
            ]
          },
          "metadata": {
            "tags": []
          }
        },
        {
          "output_type": "display_data",
          "data": {
            "text/html": [
              "Synced 5 W&B file(s), 0 media file(s), 0 artifact file(s) and 4 other file(s)"
            ],
            "text/plain": [
              "<IPython.core.display.HTML object>"
            ]
          },
          "metadata": {
            "tags": []
          }
        },
        {
          "output_type": "display_data",
          "data": {
            "text/html": [
              "\n",
              "                    <br/>Synced <strong style=\"color:#cdcd00\">easy-sweep-2</strong>: <a href=\"https://wandb.ai/ko120/REINFORCE_Baseline/runs/8ef9mlqk\" target=\"_blank\">https://wandb.ai/ko120/REINFORCE_Baseline/runs/8ef9mlqk</a><br/>\n",
              "                "
            ],
            "text/plain": [
              "<IPython.core.display.HTML object>"
            ]
          },
          "metadata": {
            "tags": []
          }
        },
        {
          "output_type": "stream",
          "text": [
            "\u001b[34m\u001b[1mwandb\u001b[0m: Agent Starting Run: eh4f5h03 with config:\n",
            "\u001b[34m\u001b[1mwandb\u001b[0m: \tlearning: learn_mean\n",
            "\u001b[34m\u001b[1mwandb\u001b[0m: \tlearning_rate: 0.0001\n",
            "\u001b[34m\u001b[1mwandb\u001b[0m: \tnorm_return: True\n",
            "\u001b[34m\u001b[1mwandb\u001b[0m: \tnum_neurons: 128\n",
            "\u001b[34m\u001b[1mwandb\u001b[0m: \u001b[33mWARNING\u001b[0m Ignored wandb.init() arg project when running a sweep\n"
          ],
          "name": "stderr"
        },
        {
          "output_type": "display_data",
          "data": {
            "text/html": [
              "\n",
              "                Tracking run with wandb version 0.11.0<br/>\n",
              "                Syncing run <strong style=\"color:#cdcd00\">dulcet-sweep-3</strong> to <a href=\"https://wandb.ai\" target=\"_blank\">Weights & Biases</a> <a href=\"https://docs.wandb.com/integrations/jupyter.html\" target=\"_blank\">(Documentation)</a>.<br/>\n",
              "                Project page: <a href=\"https://wandb.ai/ko120/REINFORCE_Baseline\" target=\"_blank\">https://wandb.ai/ko120/REINFORCE_Baseline</a><br/>\n",
              "                Sweep page: <a href=\"https://wandb.ai/ko120/REINFORCE_Baseline/sweeps/uticyas7\" target=\"_blank\">https://wandb.ai/ko120/REINFORCE_Baseline/sweeps/uticyas7</a><br/>\n",
              "Run page: <a href=\"https://wandb.ai/ko120/REINFORCE_Baseline/runs/eh4f5h03\" target=\"_blank\">https://wandb.ai/ko120/REINFORCE_Baseline/runs/eh4f5h03</a><br/>\n",
              "                Run data is saved locally in <code>/content/wandb/run-20210724_000304-eh4f5h03</code><br/><br/>\n",
              "            "
            ],
            "text/plain": [
              "<IPython.core.display.HTML object>"
            ]
          },
          "metadata": {
            "tags": []
          }
        },
        {
          "output_type": "stream",
          "text": [
            "episode 100 average reward 21.4211520777414, ended at 4.4\n",
            "episode 200 average reward 23.071729395498682, ended at 9.1\n",
            "episode 300 average reward 20.02667682818426, ended at 13.5\n",
            "episode 400 average reward 21.247921870312226, ended at 18.5\n",
            "episode 500 average reward 28.11395757883904, ended at 23.6\n",
            "episode 600 average reward 24.306529486222182, ended at 29.0\n",
            "episode 700 average reward 27.43574973897528, ended at 35.4\n",
            "episode 800 average reward 30.64988388961609, ended at 41.6\n",
            "episode 900 average reward 30.53708003144177, ended at 47.7\n",
            "episode 1000 average reward 34.47774825112114, ended at 54.0\n",
            "episode 1100 average reward 34.0013994461929, ended at 61.1\n",
            "episode 1200 average reward 41.44641815106113, ended at 68.4\n",
            "episode 1300 average reward 33.43475656672272, ended at 76.4\n",
            "episode 1400 average reward 36.363921395374, ended at 85.0\n",
            "episode 1500 average reward 40.207903922367386, ended at 93.8\n",
            "episode 1600 average reward 52.57258686539141, ended at 104.2\n",
            "episode 1700 average reward 47.05711699211436, ended at 113.4\n",
            "episode 1800 average reward 59.991172310401396, ended at 124.6\n",
            "episode 1900 average reward 52.13968745771277, ended at 135.9\n",
            "episode 2000 average reward 63.22785654386823, ended at 148.2\n",
            "episode 2100 average reward 68.79934013750001, ended at 161.8\n",
            "episode 2200 average reward 77.6508452559096, ended at 176.5\n",
            "episode 2300 average reward 80.67298838744594, ended at 190.6\n",
            "episode 2400 average reward 91.77789052771884, ended at 209.8\n",
            "episode 2500 average reward 113.06778495353548, ended at 229.2\n",
            "episode 2600 average reward 119.50186668536004, ended at 252.4\n",
            "episode 2700 average reward 114.67718089446292, ended at 275.0\n",
            "episode 2800 average reward 135.18388275146262, ended at 300.4\n",
            "episode 2900 average reward 135.3664824000871, ended at 327.4\n",
            "episode 3000 average reward 148.83802881845986, ended at 357.6\n"
          ],
          "name": "stdout"
        },
        {
          "output_type": "display_data",
          "data": {
            "text/html": [
              "<br/>Waiting for W&B process to finish, PID 2744<br/>Program ended successfully."
            ],
            "text/plain": [
              "<IPython.core.display.HTML object>"
            ]
          },
          "metadata": {
            "tags": []
          }
        },
        {
          "output_type": "display_data",
          "data": {
            "application/vnd.jupyter.widget-view+json": {
              "model_id": "2327bee344694c638805f58727d25a1f",
              "version_major": 2,
              "version_minor": 0
            },
            "text/plain": [
              "VBox(children=(Label(value=' 0.02MB of 0.02MB uploaded (0.00MB deduped)\\r'), FloatProgress(value=1.0, max=1.0)…"
            ]
          },
          "metadata": {
            "tags": []
          }
        },
        {
          "output_type": "display_data",
          "data": {
            "text/html": [
              "Find user logs for this run at: <code>/content/wandb/run-20210724_000304-eh4f5h03/logs/debug.log</code>"
            ],
            "text/plain": [
              "<IPython.core.display.HTML object>"
            ]
          },
          "metadata": {
            "tags": []
          }
        },
        {
          "output_type": "display_data",
          "data": {
            "text/html": [
              "Find internal logs for this run at: <code>/content/wandb/run-20210724_000304-eh4f5h03/logs/debug-internal.log</code>"
            ],
            "text/plain": [
              "<IPython.core.display.HTML object>"
            ]
          },
          "metadata": {
            "tags": []
          }
        },
        {
          "output_type": "display_data",
          "data": {
            "text/html": [
              "<h3>Run summary:</h3><br/><style>\n",
              "    table.wandb td:nth-child(1) { padding: 0 10px; text-align: right }\n",
              "    </style><table class=\"wandb\">\n",
              "<tr><td>episode</td><td>3000</td></tr><tr><td>running_score</td><td>148.83803</td></tr><tr><td>_runtime</td><td>360</td></tr><tr><td>_timestamp</td><td>1627085344</td></tr><tr><td>_step</td><td>3000</td></tr></table>"
            ],
            "text/plain": [
              "<IPython.core.display.HTML object>"
            ]
          },
          "metadata": {
            "tags": []
          }
        },
        {
          "output_type": "display_data",
          "data": {
            "text/html": [
              "<h3>Run history:</h3><br/><style>\n",
              "    table.wandb td:nth-child(1) { padding: 0 10px; text-align: right }\n",
              "    </style><table class=\"wandb\">\n",
              "<tr><td>episode</td><td>▁▁▁▂▂▂▂▂▂▃▃▃▃▃▄▄▄▄▄▄▅▅▅▅▅▅▆▆▆▆▆▇▇▇▇▇▇███</td></tr><tr><td>running_score</td><td>▁▁▁▁▁▁▁▁▁▁▁▁▁▂▂▂▂▂▂▂▂▃▂▃▃▃▃▃▃▄▄▅▅▅▅▅▆▇▆█</td></tr><tr><td>_runtime</td><td>▁▁▁▁▁▁▁▂▂▂▂▂▂▂▂▂▂▃▃▃▃▃▃▃▄▄▄▄▄▅▅▅▅▆▆▆▇▇▇█</td></tr><tr><td>_timestamp</td><td>▁▁▁▁▁▁▁▂▂▂▂▂▂▂▂▂▂▃▃▃▃▃▃▃▄▄▄▄▄▅▅▅▅▆▆▆▇▇▇█</td></tr><tr><td>_step</td><td>▁▁▁▂▂▂▂▂▂▃▃▃▃▃▄▄▄▄▄▄▅▅▅▅▅▅▆▆▆▆▆▇▇▇▇▇▇███</td></tr></table><br/>"
            ],
            "text/plain": [
              "<IPython.core.display.HTML object>"
            ]
          },
          "metadata": {
            "tags": []
          }
        },
        {
          "output_type": "display_data",
          "data": {
            "text/html": [
              "Synced 5 W&B file(s), 0 media file(s), 0 artifact file(s) and 4 other file(s)"
            ],
            "text/plain": [
              "<IPython.core.display.HTML object>"
            ]
          },
          "metadata": {
            "tags": []
          }
        },
        {
          "output_type": "display_data",
          "data": {
            "text/html": [
              "\n",
              "                    <br/>Synced <strong style=\"color:#cdcd00\">dulcet-sweep-3</strong>: <a href=\"https://wandb.ai/ko120/REINFORCE_Baseline/runs/eh4f5h03\" target=\"_blank\">https://wandb.ai/ko120/REINFORCE_Baseline/runs/eh4f5h03</a><br/>\n",
              "                "
            ],
            "text/plain": [
              "<IPython.core.display.HTML object>"
            ]
          },
          "metadata": {
            "tags": []
          }
        },
        {
          "output_type": "stream",
          "text": [
            "\u001b[34m\u001b[1mwandb\u001b[0m: Agent Starting Run: 5lc066ja with config:\n",
            "\u001b[34m\u001b[1mwandb\u001b[0m: \tlearning: learn_mean\n",
            "\u001b[34m\u001b[1mwandb\u001b[0m: \tlearning_rate: 0.0003\n",
            "\u001b[34m\u001b[1mwandb\u001b[0m: \tnorm_return: True\n",
            "\u001b[34m\u001b[1mwandb\u001b[0m: \tnum_neurons: 128\n",
            "\u001b[34m\u001b[1mwandb\u001b[0m: \u001b[33mWARNING\u001b[0m Ignored wandb.init() arg project when running a sweep\n"
          ],
          "name": "stderr"
        },
        {
          "output_type": "display_data",
          "data": {
            "text/html": [
              "\n",
              "                Tracking run with wandb version 0.11.0<br/>\n",
              "                Syncing run <strong style=\"color:#cdcd00\">colorful-sweep-4</strong> to <a href=\"https://wandb.ai\" target=\"_blank\">Weights & Biases</a> <a href=\"https://docs.wandb.com/integrations/jupyter.html\" target=\"_blank\">(Documentation)</a>.<br/>\n",
              "                Project page: <a href=\"https://wandb.ai/ko120/REINFORCE_Baseline\" target=\"_blank\">https://wandb.ai/ko120/REINFORCE_Baseline</a><br/>\n",
              "                Sweep page: <a href=\"https://wandb.ai/ko120/REINFORCE_Baseline/sweeps/uticyas7\" target=\"_blank\">https://wandb.ai/ko120/REINFORCE_Baseline/sweeps/uticyas7</a><br/>\n",
              "Run page: <a href=\"https://wandb.ai/ko120/REINFORCE_Baseline/runs/5lc066ja\" target=\"_blank\">https://wandb.ai/ko120/REINFORCE_Baseline/runs/5lc066ja</a><br/>\n",
              "                Run data is saved locally in <code>/content/wandb/run-20210724_000909-5lc066ja</code><br/><br/>\n",
              "            "
            ],
            "text/plain": [
              "<IPython.core.display.HTML object>"
            ]
          },
          "metadata": {
            "tags": []
          }
        },
        {
          "output_type": "stream",
          "text": [
            "episode 100 average reward 20.96766757682591, ended at 4.3\n",
            "episode 200 average reward 23.1388445999379, ended at 9.2\n",
            "episode 300 average reward 29.336993212585007, ended at 14.9\n",
            "episode 400 average reward 34.628083497620736, ended at 21.7\n",
            "episode 500 average reward 38.729865619112076, ended at 29.9\n",
            "episode 600 average reward 56.78739823325429, ended at 40.5\n",
            "episode 700 average reward 82.82363964505736, ended at 54.7\n",
            "episode 800 average reward 104.79172477889163, ended at 73.0\n",
            "episode 900 average reward 118.00949060481128, ended at 94.6\n",
            "episode 1000 average reward 162.69424566672916, ended at 123.0\n",
            "episode 1100 average reward 165.47174778068782, ended at 154.1\n",
            "episode 1200 average reward 201.01081811202377, ended at 192.4\n",
            "episode 1300 average reward 227.1594204743566, ended at 235.5\n",
            "episode 1400 average reward 274.1980165428583, ended at 284.3\n",
            "episode 1500 average reward 262.2286793411837, ended at 337.4\n",
            "episode 1600 average reward 309.43684679842215, ended at 398.2\n",
            "episode 1700 average reward 321.88226063847543, ended at 464.0\n",
            "episode 1800 average reward 349.1481631962341, ended at 529.5\n",
            "episode 1900 average reward 354.0028825318975, ended at 600.8\n",
            "episode 2000 average reward 319.5702102277074, ended at 667.7\n",
            "episode 2100 average reward 370.0208937702828, ended at 739.0\n",
            "episode 2200 average reward 377.43621119015023, ended at 820.2\n",
            "episode 2300 average reward 389.7456847315005, ended at 900.7\n",
            "episode 2400 average reward 417.2137495920993, ended at 986.1\n",
            "episode 2500 average reward 451.44013764026494, ended at 1072.3\n",
            "episode 2600 average reward 473.9515774661957, ended at 1163.5\n",
            "episode 2700 average reward 459.2226290751484, ended at 1253.8\n",
            "episode 2800 average reward 439.61092549777544, ended at 1343.8\n",
            "episode 2900 average reward 480.24947588233215, ended at 1436.4\n",
            "episode 3000 average reward 460.62958816487594, ended at 1530.8\n"
          ],
          "name": "stdout"
        },
        {
          "output_type": "display_data",
          "data": {
            "text/html": [
              "<br/>Waiting for W&B process to finish, PID 2853<br/>Program ended successfully."
            ],
            "text/plain": [
              "<IPython.core.display.HTML object>"
            ]
          },
          "metadata": {
            "tags": []
          }
        },
        {
          "output_type": "display_data",
          "data": {
            "application/vnd.jupyter.widget-view+json": {
              "model_id": "86d4f3358b584fdea0164def6024525b",
              "version_major": 2,
              "version_minor": 0
            },
            "text/plain": [
              "VBox(children=(Label(value=' 0.02MB of 0.02MB uploaded (0.00MB deduped)\\r'), FloatProgress(value=1.0, max=1.0)…"
            ]
          },
          "metadata": {
            "tags": []
          }
        },
        {
          "output_type": "display_data",
          "data": {
            "text/html": [
              "Find user logs for this run at: <code>/content/wandb/run-20210724_000909-5lc066ja/logs/debug.log</code>"
            ],
            "text/plain": [
              "<IPython.core.display.HTML object>"
            ]
          },
          "metadata": {
            "tags": []
          }
        },
        {
          "output_type": "display_data",
          "data": {
            "text/html": [
              "Find internal logs for this run at: <code>/content/wandb/run-20210724_000909-5lc066ja/logs/debug-internal.log</code>"
            ],
            "text/plain": [
              "<IPython.core.display.HTML object>"
            ]
          },
          "metadata": {
            "tags": []
          }
        },
        {
          "output_type": "display_data",
          "data": {
            "text/html": [
              "<h3>Run summary:</h3><br/><style>\n",
              "    table.wandb td:nth-child(1) { padding: 0 10px; text-align: right }\n",
              "    </style><table class=\"wandb\">\n",
              "<tr><td>episode</td><td>3000</td></tr><tr><td>running_score</td><td>460.62959</td></tr><tr><td>_runtime</td><td>1534</td></tr><tr><td>_timestamp</td><td>1627086883</td></tr><tr><td>_step</td><td>3000</td></tr></table>"
            ],
            "text/plain": [
              "<IPython.core.display.HTML object>"
            ]
          },
          "metadata": {
            "tags": []
          }
        },
        {
          "output_type": "display_data",
          "data": {
            "text/html": [
              "<h3>Run history:</h3><br/><style>\n",
              "    table.wandb td:nth-child(1) { padding: 0 10px; text-align: right }\n",
              "    </style><table class=\"wandb\">\n",
              "<tr><td>episode</td><td>▁▁▁▂▂▂▂▂▂▃▃▃▃▃▄▄▄▄▄▄▅▅▅▅▅▅▆▆▆▆▆▇▇▇▇▇▇███</td></tr><tr><td>running_score</td><td>▁▁▁▁▁▁▁▁▂▂▂▂▃▃▃▄▄▄▄▄▅▅▆▆▆▆▆▆▇▇▇▇▇███████</td></tr><tr><td>_runtime</td><td>▁▁▁▁▁▁▁▁▁▁▁▁▁▂▂▂▂▂▂▂▃▃▃▃▄▄▄▄▅▅▅▅▆▆▆▇▇▇██</td></tr><tr><td>_timestamp</td><td>▁▁▁▁▁▁▁▁▁▁▁▁▁▂▂▂▂▂▂▂▃▃▃▃▄▄▄▄▅▅▅▅▆▆▆▇▇▇██</td></tr><tr><td>_step</td><td>▁▁▁▂▂▂▂▂▂▃▃▃▃▃▄▄▄▄▄▄▅▅▅▅▅▅▆▆▆▆▆▇▇▇▇▇▇███</td></tr></table><br/>"
            ],
            "text/plain": [
              "<IPython.core.display.HTML object>"
            ]
          },
          "metadata": {
            "tags": []
          }
        },
        {
          "output_type": "display_data",
          "data": {
            "text/html": [
              "Synced 5 W&B file(s), 0 media file(s), 0 artifact file(s) and 4 other file(s)"
            ],
            "text/plain": [
              "<IPython.core.display.HTML object>"
            ]
          },
          "metadata": {
            "tags": []
          }
        },
        {
          "output_type": "display_data",
          "data": {
            "text/html": [
              "\n",
              "                    <br/>Synced <strong style=\"color:#cdcd00\">colorful-sweep-4</strong>: <a href=\"https://wandb.ai/ko120/REINFORCE_Baseline/runs/5lc066ja\" target=\"_blank\">https://wandb.ai/ko120/REINFORCE_Baseline/runs/5lc066ja</a><br/>\n",
              "                "
            ],
            "text/plain": [
              "<IPython.core.display.HTML object>"
            ]
          },
          "metadata": {
            "tags": []
          }
        },
        {
          "output_type": "stream",
          "text": [
            "\u001b[34m\u001b[1mwandb\u001b[0m: Agent Starting Run: cfltlxcl with config:\n",
            "\u001b[34m\u001b[1mwandb\u001b[0m: \tlearning: learn_mean\n",
            "\u001b[34m\u001b[1mwandb\u001b[0m: \tlearning_rate: 1e-05\n",
            "\u001b[34m\u001b[1mwandb\u001b[0m: \tnorm_return: True\n",
            "\u001b[34m\u001b[1mwandb\u001b[0m: \tnum_neurons: 128\n",
            "\u001b[34m\u001b[1mwandb\u001b[0m: \u001b[33mWARNING\u001b[0m Ignored wandb.init() arg project when running a sweep\n"
          ],
          "name": "stderr"
        },
        {
          "output_type": "display_data",
          "data": {
            "text/html": [
              "\n",
              "                Tracking run with wandb version 0.11.0<br/>\n",
              "                Syncing run <strong style=\"color:#cdcd00\">expert-sweep-5</strong> to <a href=\"https://wandb.ai\" target=\"_blank\">Weights & Biases</a> <a href=\"https://docs.wandb.com/integrations/jupyter.html\" target=\"_blank\">(Documentation)</a>.<br/>\n",
              "                Project page: <a href=\"https://wandb.ai/ko120/REINFORCE_Baseline\" target=\"_blank\">https://wandb.ai/ko120/REINFORCE_Baseline</a><br/>\n",
              "                Sweep page: <a href=\"https://wandb.ai/ko120/REINFORCE_Baseline/sweeps/uticyas7\" target=\"_blank\">https://wandb.ai/ko120/REINFORCE_Baseline/sweeps/uticyas7</a><br/>\n",
              "Run page: <a href=\"https://wandb.ai/ko120/REINFORCE_Baseline/runs/cfltlxcl\" target=\"_blank\">https://wandb.ai/ko120/REINFORCE_Baseline/runs/cfltlxcl</a><br/>\n",
              "                Run data is saved locally in <code>/content/wandb/run-20210724_003449-cfltlxcl</code><br/><br/>\n",
              "            "
            ],
            "text/plain": [
              "<IPython.core.display.HTML object>"
            ]
          },
          "metadata": {
            "tags": []
          }
        },
        {
          "output_type": "stream",
          "text": [
            "episode 100 average reward 22.027825238688308, ended at 4.6\n",
            "episode 200 average reward 22.64946639315034, ended at 9.3\n",
            "episode 300 average reward 21.18971667659817, ended at 13.8\n",
            "episode 400 average reward 22.647629465188764, ended at 18.6\n",
            "episode 500 average reward 20.57378298956933, ended at 23.2\n",
            "episode 600 average reward 23.42052464126032, ended at 28.0\n",
            "episode 700 average reward 22.15058574050925, ended at 32.9\n",
            "episode 800 average reward 20.84625504656594, ended at 37.5\n",
            "episode 900 average reward 25.57870862333955, ended at 42.1\n",
            "episode 1000 average reward 19.580020290253547, ended at 46.4\n",
            "episode 1100 average reward 23.080865958592746, ended at 51.4\n",
            "episode 1200 average reward 23.114500178101558, ended at 55.9\n",
            "episode 1300 average reward 23.04314900865914, ended at 60.6\n",
            "episode 1400 average reward 20.2330402046395, ended at 65.7\n",
            "episode 1500 average reward 23.92803951138116, ended at 70.7\n",
            "episode 1600 average reward 25.694352723690372, ended at 75.6\n",
            "episode 1700 average reward 24.22976632127476, ended at 80.6\n",
            "episode 1800 average reward 22.302232320801906, ended at 85.6\n",
            "episode 1900 average reward 22.214624133369522, ended at 90.5\n",
            "episode 2000 average reward 22.046406273833874, ended at 95.4\n",
            "episode 2100 average reward 23.530478361110205, ended at 100.5\n",
            "episode 2200 average reward 29.312377226525932, ended at 105.8\n",
            "episode 2300 average reward 23.245885812944202, ended at 110.7\n",
            "episode 2400 average reward 23.537902576570822, ended at 115.6\n",
            "episode 2500 average reward 21.96648104809161, ended at 120.8\n",
            "episode 2600 average reward 24.389174627269114, ended at 125.9\n",
            "episode 2700 average reward 26.08530348643157, ended at 131.5\n",
            "episode 2800 average reward 20.817564964141535, ended at 136.6\n",
            "episode 2900 average reward 23.31117682459092, ended at 141.9\n",
            "episode 3000 average reward 24.201172076987643, ended at 147.3\n"
          ],
          "name": "stdout"
        },
        {
          "output_type": "display_data",
          "data": {
            "text/html": [
              "<br/>Waiting for W&B process to finish, PID 3194<br/>Program ended successfully."
            ],
            "text/plain": [
              "<IPython.core.display.HTML object>"
            ]
          },
          "metadata": {
            "tags": []
          }
        },
        {
          "output_type": "display_data",
          "data": {
            "application/vnd.jupyter.widget-view+json": {
              "model_id": "6d0ec09448654d4780df23a0eb39a8a5",
              "version_major": 2,
              "version_minor": 0
            },
            "text/plain": [
              "VBox(children=(Label(value=' 0.02MB of 0.02MB uploaded (0.00MB deduped)\\r'), FloatProgress(value=1.0, max=1.0)…"
            ]
          },
          "metadata": {
            "tags": []
          }
        },
        {
          "output_type": "display_data",
          "data": {
            "text/html": [
              "Find user logs for this run at: <code>/content/wandb/run-20210724_003449-cfltlxcl/logs/debug.log</code>"
            ],
            "text/plain": [
              "<IPython.core.display.HTML object>"
            ]
          },
          "metadata": {
            "tags": []
          }
        },
        {
          "output_type": "display_data",
          "data": {
            "text/html": [
              "Find internal logs for this run at: <code>/content/wandb/run-20210724_003449-cfltlxcl/logs/debug-internal.log</code>"
            ],
            "text/plain": [
              "<IPython.core.display.HTML object>"
            ]
          },
          "metadata": {
            "tags": []
          }
        },
        {
          "output_type": "display_data",
          "data": {
            "text/html": [
              "<h3>Run summary:</h3><br/><style>\n",
              "    table.wandb td:nth-child(1) { padding: 0 10px; text-align: right }\n",
              "    </style><table class=\"wandb\">\n",
              "<tr><td>episode</td><td>3000</td></tr><tr><td>running_score</td><td>24.20117</td></tr><tr><td>_runtime</td><td>150</td></tr><tr><td>_timestamp</td><td>1627087039</td></tr><tr><td>_step</td><td>3000</td></tr></table>"
            ],
            "text/plain": [
              "<IPython.core.display.HTML object>"
            ]
          },
          "metadata": {
            "tags": []
          }
        },
        {
          "output_type": "display_data",
          "data": {
            "text/html": [
              "<h3>Run history:</h3><br/><style>\n",
              "    table.wandb td:nth-child(1) { padding: 0 10px; text-align: right }\n",
              "    </style><table class=\"wandb\">\n",
              "<tr><td>episode</td><td>▁▁▁▂▂▂▂▂▂▃▃▃▃▃▄▄▄▄▄▄▅▅▅▅▅▅▆▆▆▆▆▇▇▇▇▇▇███</td></tr><tr><td>running_score</td><td>▁▅▃▃▁▆▁▄▄▃▃▁▁▁▅▁▄█▃▂▂▇▇▃▂▄▄▁▅▇▃▂▆▅▄▆█▃▇▆</td></tr><tr><td>_runtime</td><td>▁▁▁▁▂▂▂▂▂▃▃▃▃▃▃▄▄▄▄▄▄▅▅▅▅▅▆▆▆▆▆▆▇▇▇▇▇███</td></tr><tr><td>_timestamp</td><td>▁▁▁▁▂▂▂▂▂▃▃▃▃▃▃▄▄▄▄▄▄▅▅▅▅▅▆▆▆▆▆▆▇▇▇▇▇███</td></tr><tr><td>_step</td><td>▁▁▁▂▂▂▂▂▂▃▃▃▃▃▄▄▄▄▄▄▅▅▅▅▅▅▆▆▆▆▆▇▇▇▇▇▇███</td></tr></table><br/>"
            ],
            "text/plain": [
              "<IPython.core.display.HTML object>"
            ]
          },
          "metadata": {
            "tags": []
          }
        },
        {
          "output_type": "display_data",
          "data": {
            "text/html": [
              "Synced 5 W&B file(s), 0 media file(s), 0 artifact file(s) and 4 other file(s)"
            ],
            "text/plain": [
              "<IPython.core.display.HTML object>"
            ]
          },
          "metadata": {
            "tags": []
          }
        },
        {
          "output_type": "display_data",
          "data": {
            "text/html": [
              "\n",
              "                    <br/>Synced <strong style=\"color:#cdcd00\">expert-sweep-5</strong>: <a href=\"https://wandb.ai/ko120/REINFORCE_Baseline/runs/cfltlxcl\" target=\"_blank\">https://wandb.ai/ko120/REINFORCE_Baseline/runs/cfltlxcl</a><br/>\n",
              "                "
            ],
            "text/plain": [
              "<IPython.core.display.HTML object>"
            ]
          },
          "metadata": {
            "tags": []
          }
        },
        {
          "output_type": "stream",
          "text": [
            "\u001b[34m\u001b[1mwandb\u001b[0m: Agent Starting Run: siigpi3e with config:\n",
            "\u001b[34m\u001b[1mwandb\u001b[0m: \tlearning: learn_forward\n",
            "\u001b[34m\u001b[1mwandb\u001b[0m: \tlearning_rate: 0.01\n",
            "\u001b[34m\u001b[1mwandb\u001b[0m: \tnorm_return: True\n",
            "\u001b[34m\u001b[1mwandb\u001b[0m: \tnum_neurons: 128\n",
            "\u001b[34m\u001b[1mwandb\u001b[0m: \u001b[33mWARNING\u001b[0m Ignored wandb.init() arg project when running a sweep\n"
          ],
          "name": "stderr"
        },
        {
          "output_type": "display_data",
          "data": {
            "text/html": [
              "\n",
              "                Tracking run with wandb version 0.11.0<br/>\n",
              "                Syncing run <strong style=\"color:#cdcd00\">eager-sweep-6</strong> to <a href=\"https://wandb.ai\" target=\"_blank\">Weights & Biases</a> <a href=\"https://docs.wandb.com/integrations/jupyter.html\" target=\"_blank\">(Documentation)</a>.<br/>\n",
              "                Project page: <a href=\"https://wandb.ai/ko120/REINFORCE_Baseline\" target=\"_blank\">https://wandb.ai/ko120/REINFORCE_Baseline</a><br/>\n",
              "                Sweep page: <a href=\"https://wandb.ai/ko120/REINFORCE_Baseline/sweeps/uticyas7\" target=\"_blank\">https://wandb.ai/ko120/REINFORCE_Baseline/sweeps/uticyas7</a><br/>\n",
              "Run page: <a href=\"https://wandb.ai/ko120/REINFORCE_Baseline/runs/siigpi3e\" target=\"_blank\">https://wandb.ai/ko120/REINFORCE_Baseline/runs/siigpi3e</a><br/>\n",
              "                Run data is saved locally in <code>/content/wandb/run-20210724_003724-siigpi3e</code><br/><br/>\n",
              "            "
            ],
            "text/plain": [
              "<IPython.core.display.HTML object>"
            ]
          },
          "metadata": {
            "tags": []
          }
        },
        {
          "output_type": "stream",
          "text": [
            "episode 100 average reward 13.59333063629175, ended at 5.5\n",
            "episode 200 average reward 9.53359835301858, ended at 10.1\n",
            "episode 300 average reward 9.3460622863823, ended at 14.6\n",
            "episode 400 average reward 15.597774181925795, ended at 20.7\n",
            "episode 500 average reward 9.387551523120251, ended at 25.2\n",
            "episode 600 average reward 9.4542381413555, ended at 29.6\n",
            "episode 700 average reward 9.529072458741247, ended at 34.0\n",
            "episode 800 average reward 9.260127642592426, ended at 38.4\n",
            "episode 900 average reward 9.110495418450512, ended at 42.7\n",
            "episode 1000 average reward 9.621299086301303, ended at 47.2\n",
            "episode 1100 average reward 34.9437003045367, ended at 57.9\n",
            "episode 1200 average reward 11.084086694296932, ended at 70.2\n",
            "episode 1300 average reward 9.496458294454849, ended at 74.6\n",
            "episode 1400 average reward 9.437274516010456, ended at 79.0\n",
            "episode 1500 average reward 9.555995637486298, ended at 83.5\n",
            "episode 1600 average reward 9.372828599171484, ended at 87.9\n",
            "episode 1700 average reward 9.426870873185946, ended at 92.4\n",
            "episode 1800 average reward 9.504937934970647, ended at 96.8\n",
            "episode 1900 average reward 9.297689564538206, ended at 101.2\n",
            "episode 2000 average reward 9.31162741969441, ended at 105.7\n",
            "episode 2100 average reward 9.091337826320018, ended at 110.2\n",
            "episode 2200 average reward 9.441037111571731, ended at 114.5\n",
            "episode 2300 average reward 9.265297265098313, ended at 118.9\n",
            "episode 2400 average reward 9.380244602654518, ended at 123.3\n",
            "episode 2500 average reward 9.509662489625184, ended at 127.9\n",
            "episode 2600 average reward 9.503563990141046, ended at 132.4\n",
            "episode 2700 average reward 9.244433763199389, ended at 136.8\n",
            "episode 2800 average reward 9.267382690451338, ended at 141.1\n",
            "episode 2900 average reward 9.407343508227266, ended at 145.4\n",
            "episode 3000 average reward 9.236864808594463, ended at 149.8\n"
          ],
          "name": "stdout"
        },
        {
          "output_type": "display_data",
          "data": {
            "text/html": [
              "<br/>Waiting for W&B process to finish, PID 3263<br/>Program ended successfully."
            ],
            "text/plain": [
              "<IPython.core.display.HTML object>"
            ]
          },
          "metadata": {
            "tags": []
          }
        },
        {
          "output_type": "display_data",
          "data": {
            "application/vnd.jupyter.widget-view+json": {
              "model_id": "468c3a12bdb744a79decdd1db7a666ae",
              "version_major": 2,
              "version_minor": 0
            },
            "text/plain": [
              "VBox(children=(Label(value=' 0.02MB of 0.02MB uploaded (0.00MB deduped)\\r'), FloatProgress(value=1.0, max=1.0)…"
            ]
          },
          "metadata": {
            "tags": []
          }
        },
        {
          "output_type": "display_data",
          "data": {
            "text/html": [
              "Find user logs for this run at: <code>/content/wandb/run-20210724_003724-siigpi3e/logs/debug.log</code>"
            ],
            "text/plain": [
              "<IPython.core.display.HTML object>"
            ]
          },
          "metadata": {
            "tags": []
          }
        },
        {
          "output_type": "display_data",
          "data": {
            "text/html": [
              "Find internal logs for this run at: <code>/content/wandb/run-20210724_003724-siigpi3e/logs/debug-internal.log</code>"
            ],
            "text/plain": [
              "<IPython.core.display.HTML object>"
            ]
          },
          "metadata": {
            "tags": []
          }
        },
        {
          "output_type": "display_data",
          "data": {
            "text/html": [
              "<h3>Run summary:</h3><br/><style>\n",
              "    table.wandb td:nth-child(1) { padding: 0 10px; text-align: right }\n",
              "    </style><table class=\"wandb\">\n",
              "<tr><td>episode</td><td>3000</td></tr><tr><td>running_score</td><td>9.23686</td></tr><tr><td>_runtime</td><td>153</td></tr><tr><td>_timestamp</td><td>1627087197</td></tr><tr><td>_step</td><td>2999</td></tr></table>"
            ],
            "text/plain": [
              "<IPython.core.display.HTML object>"
            ]
          },
          "metadata": {
            "tags": []
          }
        },
        {
          "output_type": "display_data",
          "data": {
            "text/html": [
              "<h3>Run history:</h3><br/><style>\n",
              "    table.wandb td:nth-child(1) { padding: 0 10px; text-align: right }\n",
              "    </style><table class=\"wandb\">\n",
              "<tr><td>episode</td><td>▁▁▁▂▂▂▂▂▂▃▃▃▃▃▄▄▄▄▄▄▅▅▅▅▅▅▆▆▆▆▆▇▇▇▇▇▇███</td></tr><tr><td>running_score</td><td>▁▃▁▁▁▅▁▁▁▁▁▁▁▁▇█▁▁▁▁▁▁▁▁▁▁▁▁▁▁▁▁▁▁▁▁▁▁▁▁</td></tr><tr><td>_runtime</td><td>▁▁▁▂▂▂▂▂▂▃▃▃▃▃▄▄▄▅▅▅▅▅▅▅▆▆▆▆▆▆▇▇▇▇▇▇▇███</td></tr><tr><td>_timestamp</td><td>▁▁▁▂▂▂▂▂▂▃▃▃▃▃▄▄▄▅▅▅▅▅▅▅▆▆▆▆▆▆▇▇▇▇▇▇▇███</td></tr><tr><td>_step</td><td>▁▁▁▂▂▂▂▂▂▃▃▃▃▃▄▄▄▄▄▄▅▅▅▅▅▅▆▆▆▆▆▇▇▇▇▇▇███</td></tr></table><br/>"
            ],
            "text/plain": [
              "<IPython.core.display.HTML object>"
            ]
          },
          "metadata": {
            "tags": []
          }
        },
        {
          "output_type": "display_data",
          "data": {
            "text/html": [
              "Synced 5 W&B file(s), 0 media file(s), 0 artifact file(s) and 4 other file(s)"
            ],
            "text/plain": [
              "<IPython.core.display.HTML object>"
            ]
          },
          "metadata": {
            "tags": []
          }
        },
        {
          "output_type": "display_data",
          "data": {
            "text/html": [
              "\n",
              "                    <br/>Synced <strong style=\"color:#cdcd00\">eager-sweep-6</strong>: <a href=\"https://wandb.ai/ko120/REINFORCE_Baseline/runs/siigpi3e\" target=\"_blank\">https://wandb.ai/ko120/REINFORCE_Baseline/runs/siigpi3e</a><br/>\n",
              "                "
            ],
            "text/plain": [
              "<IPython.core.display.HTML object>"
            ]
          },
          "metadata": {
            "tags": []
          }
        },
        {
          "output_type": "stream",
          "text": [
            "\u001b[34m\u001b[1mwandb\u001b[0m: Agent Starting Run: vdsh8f7m with config:\n",
            "\u001b[34m\u001b[1mwandb\u001b[0m: \tlearning: learn_forward\n",
            "\u001b[34m\u001b[1mwandb\u001b[0m: \tlearning_rate: 0.001\n",
            "\u001b[34m\u001b[1mwandb\u001b[0m: \tnorm_return: True\n",
            "\u001b[34m\u001b[1mwandb\u001b[0m: \tnum_neurons: 128\n",
            "\u001b[34m\u001b[1mwandb\u001b[0m: \u001b[33mWARNING\u001b[0m Ignored wandb.init() arg project when running a sweep\n"
          ],
          "name": "stderr"
        },
        {
          "output_type": "display_data",
          "data": {
            "text/html": [
              "\n",
              "                Tracking run with wandb version 0.11.0<br/>\n",
              "                Syncing run <strong style=\"color:#cdcd00\">brisk-sweep-7</strong> to <a href=\"https://wandb.ai\" target=\"_blank\">Weights & Biases</a> <a href=\"https://docs.wandb.com/integrations/jupyter.html\" target=\"_blank\">(Documentation)</a>.<br/>\n",
              "                Project page: <a href=\"https://wandb.ai/ko120/REINFORCE_Baseline\" target=\"_blank\">https://wandb.ai/ko120/REINFORCE_Baseline</a><br/>\n",
              "                Sweep page: <a href=\"https://wandb.ai/ko120/REINFORCE_Baseline/sweeps/uticyas7\" target=\"_blank\">https://wandb.ai/ko120/REINFORCE_Baseline/sweeps/uticyas7</a><br/>\n",
              "Run page: <a href=\"https://wandb.ai/ko120/REINFORCE_Baseline/runs/vdsh8f7m\" target=\"_blank\">https://wandb.ai/ko120/REINFORCE_Baseline/runs/vdsh8f7m</a><br/>\n",
              "                Run data is saved locally in <code>/content/wandb/run-20210724_004003-vdsh8f7m</code><br/><br/>\n",
              "            "
            ],
            "text/plain": [
              "<IPython.core.display.HTML object>"
            ]
          },
          "metadata": {
            "tags": []
          }
        },
        {
          "output_type": "stream",
          "text": [
            "episode 100 average reward 89.95264449204595, ended at 28.6\n",
            "episode 200 average reward 114.16127914268749, ended at 71.9\n",
            "episode 300 average reward 137.5960305564844, ended at 135.5\n",
            "episode 400 average reward 96.74224311657204, ended at 188.0\n",
            "episode 500 average reward 69.58382446125881, ended at 219.9\n",
            "episode 600 average reward 70.58838928356104, ended at 253.4\n",
            "episode 700 average reward 105.29869427577376, ended at 289.5\n",
            "episode 800 average reward 116.79302069802849, ended at 347.9\n",
            "episode 900 average reward 85.53590328035072, ended at 383.4\n",
            "episode 1000 average reward 96.32042508867126, ended at 426.7\n",
            "episode 1100 average reward 161.67201513466821, ended at 487.2\n",
            "episode 1200 average reward 115.00154862125424, ended at 566.0\n",
            "episode 1300 average reward 93.99162727702215, ended at 612.6\n",
            "episode 1400 average reward 90.54545132081655, ended at 650.1\n",
            "episode 1500 average reward 198.0906842770164, ended at 706.8\n",
            "episode 1600 average reward 34.8412017286297, ended at 774.8\n",
            "episode 1700 average reward 9.577657120493273, ended at 779.3\n",
            "episode 1800 average reward 9.508451119945347, ended at 783.7\n",
            "episode 1900 average reward 9.297710364452506, ended at 788.1\n",
            "episode 2000 average reward 9.311627542840915, ended at 792.7\n",
            "episode 2100 average reward 9.09133782704911, ended at 797.2\n",
            "episode 2200 average reward 9.441037111576048, ended at 801.7\n",
            "episode 2300 average reward 9.265297265098335, ended at 806.0\n",
            "episode 2400 average reward 9.38024460265452, ended at 810.5\n",
            "episode 2500 average reward 9.508417775594229, ended at 815.0\n",
            "episode 2600 average reward 9.503556620775255, ended at 819.5\n",
            "episode 2700 average reward 9.244433719568844, ended at 823.9\n",
            "episode 2800 average reward 9.26738269019302, ended at 828.2\n",
            "episode 2900 average reward 9.40734350822574, ended at 832.6\n",
            "episode 3000 average reward 9.224312017473308, ended at 837.0\n"
          ],
          "name": "stdout"
        },
        {
          "output_type": "display_data",
          "data": {
            "text/html": [
              "<br/>Waiting for W&B process to finish, PID 3332<br/>Program ended successfully."
            ],
            "text/plain": [
              "<IPython.core.display.HTML object>"
            ]
          },
          "metadata": {
            "tags": []
          }
        },
        {
          "output_type": "display_data",
          "data": {
            "application/vnd.jupyter.widget-view+json": {
              "model_id": "5fed97561ff14e6ebd843627184a2362",
              "version_major": 2,
              "version_minor": 0
            },
            "text/plain": [
              "VBox(children=(Label(value=' 0.02MB of 0.02MB uploaded (0.00MB deduped)\\r'), FloatProgress(value=1.0, max=1.0)…"
            ]
          },
          "metadata": {
            "tags": []
          }
        },
        {
          "output_type": "display_data",
          "data": {
            "text/html": [
              "Find user logs for this run at: <code>/content/wandb/run-20210724_004003-vdsh8f7m/logs/debug.log</code>"
            ],
            "text/plain": [
              "<IPython.core.display.HTML object>"
            ]
          },
          "metadata": {
            "tags": []
          }
        },
        {
          "output_type": "display_data",
          "data": {
            "text/html": [
              "Find internal logs for this run at: <code>/content/wandb/run-20210724_004003-vdsh8f7m/logs/debug-internal.log</code>"
            ],
            "text/plain": [
              "<IPython.core.display.HTML object>"
            ]
          },
          "metadata": {
            "tags": []
          }
        },
        {
          "output_type": "display_data",
          "data": {
            "text/html": [
              "<h3>Run summary:</h3><br/><style>\n",
              "    table.wandb td:nth-child(1) { padding: 0 10px; text-align: right }\n",
              "    </style><table class=\"wandb\">\n",
              "<tr><td>episode</td><td>3000</td></tr><tr><td>running_score</td><td>9.22431</td></tr><tr><td>_runtime</td><td>840</td></tr><tr><td>_timestamp</td><td>1627088043</td></tr><tr><td>_step</td><td>2999</td></tr></table>"
            ],
            "text/plain": [
              "<IPython.core.display.HTML object>"
            ]
          },
          "metadata": {
            "tags": []
          }
        },
        {
          "output_type": "display_data",
          "data": {
            "text/html": [
              "<h3>Run history:</h3><br/><style>\n",
              "    table.wandb td:nth-child(1) { padding: 0 10px; text-align: right }\n",
              "    </style><table class=\"wandb\">\n",
              "<tr><td>episode</td><td>▁▁▁▂▂▂▂▂▂▃▃▃▃▃▄▄▄▄▄▄▅▅▅▅▅▅▆▆▆▆▆▇▇▇▇▇▇███</td></tr><tr><td>running_score</td><td>▁▃▃▅▄▄▃▃▃▄▄▃▃▄▄█▄▃▃▄█▂▁▁▁▁▁▁▁▁▁▁▁▁▁▁▁▁▁▁</td></tr><tr><td>_runtime</td><td>▁▁▁▂▂▂▃▃▃▃▄▄▄▅▅▅▆▆▆▇▇▇██████████████████</td></tr><tr><td>_timestamp</td><td>▁▁▁▂▂▂▃▃▃▃▄▄▄▅▅▅▆▆▆▇▇▇██████████████████</td></tr><tr><td>_step</td><td>▁▁▁▂▂▂▂▂▂▃▃▃▃▃▄▄▄▄▄▄▅▅▅▅▅▅▆▆▆▆▆▇▇▇▇▇▇███</td></tr></table><br/>"
            ],
            "text/plain": [
              "<IPython.core.display.HTML object>"
            ]
          },
          "metadata": {
            "tags": []
          }
        },
        {
          "output_type": "display_data",
          "data": {
            "text/html": [
              "Synced 5 W&B file(s), 0 media file(s), 0 artifact file(s) and 4 other file(s)"
            ],
            "text/plain": [
              "<IPython.core.display.HTML object>"
            ]
          },
          "metadata": {
            "tags": []
          }
        },
        {
          "output_type": "display_data",
          "data": {
            "text/html": [
              "\n",
              "                    <br/>Synced <strong style=\"color:#cdcd00\">brisk-sweep-7</strong>: <a href=\"https://wandb.ai/ko120/REINFORCE_Baseline/runs/vdsh8f7m\" target=\"_blank\">https://wandb.ai/ko120/REINFORCE_Baseline/runs/vdsh8f7m</a><br/>\n",
              "                "
            ],
            "text/plain": [
              "<IPython.core.display.HTML object>"
            ]
          },
          "metadata": {
            "tags": []
          }
        },
        {
          "output_type": "stream",
          "text": [
            "\u001b[34m\u001b[1mwandb\u001b[0m: Agent Starting Run: 8t3wogcx with config:\n",
            "\u001b[34m\u001b[1mwandb\u001b[0m: \tlearning: learn_forward\n",
            "\u001b[34m\u001b[1mwandb\u001b[0m: \tlearning_rate: 0.0001\n",
            "\u001b[34m\u001b[1mwandb\u001b[0m: \tnorm_return: True\n",
            "\u001b[34m\u001b[1mwandb\u001b[0m: \tnum_neurons: 128\n",
            "\u001b[34m\u001b[1mwandb\u001b[0m: \u001b[33mWARNING\u001b[0m Ignored wandb.init() arg project when running a sweep\n"
          ],
          "name": "stderr"
        },
        {
          "output_type": "display_data",
          "data": {
            "text/html": [
              "\n",
              "                Tracking run with wandb version 0.11.0<br/>\n",
              "                Syncing run <strong style=\"color:#cdcd00\">valiant-sweep-8</strong> to <a href=\"https://wandb.ai\" target=\"_blank\">Weights & Biases</a> <a href=\"https://docs.wandb.com/integrations/jupyter.html\" target=\"_blank\">(Documentation)</a>.<br/>\n",
              "                Project page: <a href=\"https://wandb.ai/ko120/REINFORCE_Baseline\" target=\"_blank\">https://wandb.ai/ko120/REINFORCE_Baseline</a><br/>\n",
              "                Sweep page: <a href=\"https://wandb.ai/ko120/REINFORCE_Baseline/sweeps/uticyas7\" target=\"_blank\">https://wandb.ai/ko120/REINFORCE_Baseline/sweeps/uticyas7</a><br/>\n",
              "Run page: <a href=\"https://wandb.ai/ko120/REINFORCE_Baseline/runs/8t3wogcx\" target=\"_blank\">https://wandb.ai/ko120/REINFORCE_Baseline/runs/8t3wogcx</a><br/>\n",
              "                Run data is saved locally in <code>/content/wandb/run-20210724_005409-8t3wogcx</code><br/><br/>\n",
              "            "
            ],
            "text/plain": [
              "<IPython.core.display.HTML object>"
            ]
          },
          "metadata": {
            "tags": []
          }
        },
        {
          "output_type": "stream",
          "text": [
            "episode 100 average reward 26.313140397647206, ended at 11.1\n",
            "episode 200 average reward 40.05454106487343, ended at 26.6\n",
            "episode 300 average reward 71.7082154957238, ended at 53.5\n",
            "episode 400 average reward 213.2475562602905, ended at 121.7\n",
            "episode 500 average reward 278.24326323582613, ended at 233.2\n",
            "episode 600 average reward 396.215113729367, ended at 400.1\n",
            "episode 700 average reward 368.89962670365986, ended at 571.8\n",
            "episode 800 average reward 390.0720576159393, ended at 766.3\n",
            "episode 900 average reward 380.9278297112747, ended at 936.2\n",
            "episode 1000 average reward 445.7876459569513, ended at 1137.6\n",
            "episode 1100 average reward 486.0946327426862, ended at 1339.1\n",
            "episode 1200 average reward 495.5375071291634, ended at 1552.8\n",
            "episode 1300 average reward 431.4817126293418, ended at 1762.6\n",
            "episode 1400 average reward 450.601634089287, ended at 1969.5\n",
            "episode 1500 average reward 471.54140163813486, ended at 2181.4\n",
            "episode 1600 average reward 303.63590558646723, ended at 2372.2\n",
            "episode 1700 average reward 209.82608003276096, ended at 2502.7\n",
            "episode 1800 average reward 496.22904237234394, ended at 2708.0\n",
            "episode 1900 average reward 481.21710535120775, ended at 2919.1\n",
            "episode 2000 average reward 496.833705209824, ended at 3133.2\n",
            "episode 2100 average reward 481.12755746004433, ended at 3351.2\n",
            "episode 2200 average reward 447.612693095551, ended at 3560.0\n",
            "episode 2300 average reward 472.1259294514721, ended at 3774.2\n",
            "episode 2400 average reward 470.85791695397313, ended at 3982.6\n",
            "episode 2500 average reward 450.1546032605726, ended at 4190.1\n",
            "episode 2600 average reward 480.4718697082413, ended at 4405.3\n",
            "episode 2700 average reward 438.2121383021577, ended at 4616.8\n",
            "episode 2800 average reward 411.3932120840942, ended at 4792.1\n",
            "episode 2900 average reward 415.68948443441906, ended at 4989.9\n",
            "episode 3000 average reward 419.24320597700694, ended at 5145.6\n"
          ],
          "name": "stdout"
        },
        {
          "output_type": "display_data",
          "data": {
            "text/html": [
              "<br/>Waiting for W&B process to finish, PID 3537<br/>Program ended successfully."
            ],
            "text/plain": [
              "<IPython.core.display.HTML object>"
            ]
          },
          "metadata": {
            "tags": []
          }
        },
        {
          "output_type": "display_data",
          "data": {
            "application/vnd.jupyter.widget-view+json": {
              "model_id": "4f3ea21990544948884c9f52295db8c0",
              "version_major": 2,
              "version_minor": 0
            },
            "text/plain": [
              "VBox(children=(Label(value=' 0.02MB of 0.02MB uploaded (0.00MB deduped)\\r'), FloatProgress(value=1.0, max=1.0)…"
            ]
          },
          "metadata": {
            "tags": []
          }
        },
        {
          "output_type": "display_data",
          "data": {
            "text/html": [
              "Find user logs for this run at: <code>/content/wandb/run-20210724_005409-8t3wogcx/logs/debug.log</code>"
            ],
            "text/plain": [
              "<IPython.core.display.HTML object>"
            ]
          },
          "metadata": {
            "tags": []
          }
        },
        {
          "output_type": "display_data",
          "data": {
            "text/html": [
              "Find internal logs for this run at: <code>/content/wandb/run-20210724_005409-8t3wogcx/logs/debug-internal.log</code>"
            ],
            "text/plain": [
              "<IPython.core.display.HTML object>"
            ]
          },
          "metadata": {
            "tags": []
          }
        },
        {
          "output_type": "display_data",
          "data": {
            "text/html": [
              "<h3>Run summary:</h3><br/><style>\n",
              "    table.wandb td:nth-child(1) { padding: 0 10px; text-align: right }\n",
              "    </style><table class=\"wandb\">\n",
              "<tr><td>episode</td><td>3000</td></tr><tr><td>running_score</td><td>419.24321</td></tr><tr><td>_runtime</td><td>5148</td></tr><tr><td>_timestamp</td><td>1627093197</td></tr><tr><td>_step</td><td>3000</td></tr></table>"
            ],
            "text/plain": [
              "<IPython.core.display.HTML object>"
            ]
          },
          "metadata": {
            "tags": []
          }
        },
        {
          "output_type": "display_data",
          "data": {
            "text/html": [
              "<h3>Run history:</h3><br/><style>\n",
              "    table.wandb td:nth-child(1) { padding: 0 10px; text-align: right }\n",
              "    </style><table class=\"wandb\">\n",
              "<tr><td>episode</td><td>▁▁▁▂▂▂▂▂▂▃▃▃▃▃▄▄▄▄▄▄▅▅▅▅▅▅▆▆▆▆▆▇▇▇▇▇▇███</td></tr><tr><td>running_score</td><td>▁▁▁▁▂▃▄▆▆▆█▆▆▇███▇███▅▅██▇███▇█▇█▇██▇▇█▇</td></tr><tr><td>_runtime</td><td>▁▁▁▁▁▁▁▁▂▂▂▂▂▃▃▃▃▃▄▄▄▄▄▅▅▅▅▅▆▆▆▆▇▇▇▇▇███</td></tr><tr><td>_timestamp</td><td>▁▁▁▁▁▁▁▁▂▂▂▂▂▃▃▃▃▃▄▄▄▄▄▅▅▅▅▅▆▆▆▆▇▇▇▇▇███</td></tr><tr><td>_step</td><td>▁▁▁▂▂▂▂▂▂▃▃▃▃▃▄▄▄▄▄▄▅▅▅▅▅▅▆▆▆▆▆▇▇▇▇▇▇███</td></tr></table><br/>"
            ],
            "text/plain": [
              "<IPython.core.display.HTML object>"
            ]
          },
          "metadata": {
            "tags": []
          }
        },
        {
          "output_type": "display_data",
          "data": {
            "text/html": [
              "Synced 5 W&B file(s), 0 media file(s), 0 artifact file(s) and 4 other file(s)"
            ],
            "text/plain": [
              "<IPython.core.display.HTML object>"
            ]
          },
          "metadata": {
            "tags": []
          }
        },
        {
          "output_type": "display_data",
          "data": {
            "text/html": [
              "\n",
              "                    <br/>Synced <strong style=\"color:#cdcd00\">valiant-sweep-8</strong>: <a href=\"https://wandb.ai/ko120/REINFORCE_Baseline/runs/8t3wogcx\" target=\"_blank\">https://wandb.ai/ko120/REINFORCE_Baseline/runs/8t3wogcx</a><br/>\n",
              "                "
            ],
            "text/plain": [
              "<IPython.core.display.HTML object>"
            ]
          },
          "metadata": {
            "tags": []
          }
        },
        {
          "output_type": "stream",
          "text": [
            "\u001b[34m\u001b[1mwandb\u001b[0m: Agent Starting Run: c8swi82z with config:\n",
            "\u001b[34m\u001b[1mwandb\u001b[0m: \tlearning: learn_forward\n",
            "\u001b[34m\u001b[1mwandb\u001b[0m: \tlearning_rate: 0.0003\n",
            "\u001b[34m\u001b[1mwandb\u001b[0m: \tnorm_return: True\n",
            "\u001b[34m\u001b[1mwandb\u001b[0m: \tnum_neurons: 128\n",
            "\u001b[34m\u001b[1mwandb\u001b[0m: \u001b[33mWARNING\u001b[0m Ignored wandb.init() arg project when running a sweep\n"
          ],
          "name": "stderr"
        },
        {
          "output_type": "display_data",
          "data": {
            "text/html": [
              "\n",
              "                Tracking run with wandb version 0.11.0<br/>\n",
              "                Syncing run <strong style=\"color:#cdcd00\">exalted-sweep-9</strong> to <a href=\"https://wandb.ai\" target=\"_blank\">Weights & Biases</a> <a href=\"https://docs.wandb.com/integrations/jupyter.html\" target=\"_blank\">(Documentation)</a>.<br/>\n",
              "                Project page: <a href=\"https://wandb.ai/ko120/REINFORCE_Baseline\" target=\"_blank\">https://wandb.ai/ko120/REINFORCE_Baseline</a><br/>\n",
              "                Sweep page: <a href=\"https://wandb.ai/ko120/REINFORCE_Baseline/sweeps/uticyas7\" target=\"_blank\">https://wandb.ai/ko120/REINFORCE_Baseline/sweeps/uticyas7</a><br/>\n",
              "Run page: <a href=\"https://wandb.ai/ko120/REINFORCE_Baseline/runs/c8swi82z\" target=\"_blank\">https://wandb.ai/ko120/REINFORCE_Baseline/runs/c8swi82z</a><br/>\n",
              "                Run data is saved locally in <code>/content/wandb/run-20210724_022003-c8swi82z</code><br/><br/>\n",
              "            "
            ],
            "text/plain": [
              "<IPython.core.display.HTML object>"
            ]
          },
          "metadata": {
            "tags": []
          }
        },
        {
          "output_type": "stream",
          "text": [
            "episode 100 average reward 35.870598534108616, ended at 12.9\n",
            "episode 200 average reward 124.89828735294802, ended at 58.3\n",
            "episode 300 average reward 234.14957790004846, ended at 155.8\n",
            "episode 400 average reward 384.05290892954844, ended at 314.1\n",
            "episode 500 average reward 336.8202701637642, ended at 478.2\n",
            "episode 600 average reward 402.46684891127444, ended at 675.6\n",
            "episode 700 average reward 120.6395373947515, ended at 714.7\n",
            "episode 800 average reward 172.4346541816798, ended at 799.3\n",
            "episode 900 average reward 158.52798776416867, ended at 867.6\n",
            "episode 1000 average reward 294.86940064804514, ended at 990.7\n",
            "episode 1100 average reward 484.2275383095235, ended at 1194.8\n",
            "episode 1200 average reward 474.40267047420065, ended at 1411.2\n",
            "episode 1300 average reward 470.18271675562545, ended at 1601.6\n",
            "episode 1400 average reward 360.0337132172557, ended at 1769.5\n",
            "episode 1500 average reward 401.0711856646495, ended at 1938.6\n",
            "episode 1600 average reward 460.405579963313, ended at 2115.4\n",
            "episode 1700 average reward 388.43504439553885, ended at 2318.2\n",
            "episode 1800 average reward 485.8999384785542, ended at 2506.9\n",
            "episode 1900 average reward 236.25660646527794, ended at 2655.1\n",
            "episode 2000 average reward 298.39265313391263, ended at 2784.8\n",
            "episode 2100 average reward 467.59806409989363, ended at 2954.3\n",
            "episode 2200 average reward 310.29138132255633, ended at 3113.9\n",
            "episode 2300 average reward 448.11127478170954, ended at 3275.6\n",
            "episode 2400 average reward 495.6388309853454, ended at 3482.3\n",
            "episode 2500 average reward 499.9466337938547, ended at 3696.9\n",
            "episode 2600 average reward 477.9689550927162, ended at 3903.7\n",
            "episode 2700 average reward 416.17244923254424, ended at 4082.6\n",
            "episode 2800 average reward 379.34170461043476, ended at 4253.8\n",
            "episode 2900 average reward 187.60542209773462, ended at 4388.6\n",
            "episode 3000 average reward 198.78305960298349, ended at 4457.7\n"
          ],
          "name": "stdout"
        },
        {
          "output_type": "display_data",
          "data": {
            "text/html": [
              "<br/>Waiting for W&B process to finish, PID 4584<br/>Program ended successfully."
            ],
            "text/plain": [
              "<IPython.core.display.HTML object>"
            ]
          },
          "metadata": {
            "tags": []
          }
        },
        {
          "output_type": "display_data",
          "data": {
            "application/vnd.jupyter.widget-view+json": {
              "model_id": "1924a8a7ded24c6ba0e67b11ebbbd910",
              "version_major": 2,
              "version_minor": 0
            },
            "text/plain": [
              "VBox(children=(Label(value=' 0.02MB of 0.02MB uploaded (0.00MB deduped)\\r'), FloatProgress(value=1.0, max=1.0)…"
            ]
          },
          "metadata": {
            "tags": []
          }
        },
        {
          "output_type": "display_data",
          "data": {
            "text/html": [
              "Find user logs for this run at: <code>/content/wandb/run-20210724_022003-c8swi82z/logs/debug.log</code>"
            ],
            "text/plain": [
              "<IPython.core.display.HTML object>"
            ]
          },
          "metadata": {
            "tags": []
          }
        },
        {
          "output_type": "display_data",
          "data": {
            "text/html": [
              "Find internal logs for this run at: <code>/content/wandb/run-20210724_022003-c8swi82z/logs/debug-internal.log</code>"
            ],
            "text/plain": [
              "<IPython.core.display.HTML object>"
            ]
          },
          "metadata": {
            "tags": []
          }
        },
        {
          "output_type": "display_data",
          "data": {
            "text/html": [
              "<h3>Run summary:</h3><br/><style>\n",
              "    table.wandb td:nth-child(1) { padding: 0 10px; text-align: right }\n",
              "    </style><table class=\"wandb\">\n",
              "<tr><td>episode</td><td>3000</td></tr><tr><td>running_score</td><td>198.78306</td></tr><tr><td>_runtime</td><td>4461</td></tr><tr><td>_timestamp</td><td>1627097664</td></tr><tr><td>_step</td><td>3000</td></tr></table>"
            ],
            "text/plain": [
              "<IPython.core.display.HTML object>"
            ]
          },
          "metadata": {
            "tags": []
          }
        },
        {
          "output_type": "display_data",
          "data": {
            "text/html": [
              "<h3>Run history:</h3><br/><style>\n",
              "    table.wandb td:nth-child(1) { padding: 0 10px; text-align: right }\n",
              "    </style><table class=\"wandb\">\n",
              "<tr><td>episode</td><td>▁▁▁▂▂▂▂▂▂▃▃▃▃▃▄▄▄▄▄▄▅▅▅▅▅▅▆▆▆▆▆▇▇▇▇▇▇███</td></tr><tr><td>running_score</td><td>▁▁▂▃▄▆▅▇▆▃▃▃▄▅██▇█▆▇▆▇█▇▇▄▅▅▇▅▆████▆▇▆▅▂</td></tr><tr><td>_runtime</td><td>▁▁▁▁▁▁▂▂▂▂▂▂▂▃▃▃▃▄▄▄▄▄▅▅▅▅▅▆▆▆▆▆▇▇▇▇████</td></tr><tr><td>_timestamp</td><td>▁▁▁▁▁▁▂▂▂▂▂▂▂▃▃▃▃▄▄▄▄▄▅▅▅▅▅▆▆▆▆▆▇▇▇▇████</td></tr><tr><td>_step</td><td>▁▁▁▂▂▂▂▂▂▃▃▃▃▃▄▄▄▄▄▄▅▅▅▅▅▅▆▆▆▆▆▇▇▇▇▇▇███</td></tr></table><br/>"
            ],
            "text/plain": [
              "<IPython.core.display.HTML object>"
            ]
          },
          "metadata": {
            "tags": []
          }
        },
        {
          "output_type": "display_data",
          "data": {
            "text/html": [
              "Synced 5 W&B file(s), 0 media file(s), 0 artifact file(s) and 4 other file(s)"
            ],
            "text/plain": [
              "<IPython.core.display.HTML object>"
            ]
          },
          "metadata": {
            "tags": []
          }
        },
        {
          "output_type": "display_data",
          "data": {
            "text/html": [
              "\n",
              "                    <br/>Synced <strong style=\"color:#cdcd00\">exalted-sweep-9</strong>: <a href=\"https://wandb.ai/ko120/REINFORCE_Baseline/runs/c8swi82z\" target=\"_blank\">https://wandb.ai/ko120/REINFORCE_Baseline/runs/c8swi82z</a><br/>\n",
              "                "
            ],
            "text/plain": [
              "<IPython.core.display.HTML object>"
            ]
          },
          "metadata": {
            "tags": []
          }
        },
        {
          "output_type": "stream",
          "text": [
            "\u001b[34m\u001b[1mwandb\u001b[0m: Agent Starting Run: lm25e6xm with config:\n",
            "\u001b[34m\u001b[1mwandb\u001b[0m: \tlearning: learn_forward\n",
            "\u001b[34m\u001b[1mwandb\u001b[0m: \tlearning_rate: 1e-05\n",
            "\u001b[34m\u001b[1mwandb\u001b[0m: \tnorm_return: True\n",
            "\u001b[34m\u001b[1mwandb\u001b[0m: \tnum_neurons: 128\n",
            "\u001b[34m\u001b[1mwandb\u001b[0m: \u001b[33mWARNING\u001b[0m Ignored wandb.init() arg project when running a sweep\n"
          ],
          "name": "stderr"
        },
        {
          "output_type": "display_data",
          "data": {
            "text/html": [
              "\n",
              "                Tracking run with wandb version 0.11.0<br/>\n",
              "                Syncing run <strong style=\"color:#cdcd00\">ancient-sweep-10</strong> to <a href=\"https://wandb.ai\" target=\"_blank\">Weights & Biases</a> <a href=\"https://docs.wandb.com/integrations/jupyter.html\" target=\"_blank\">(Documentation)</a>.<br/>\n",
              "                Project page: <a href=\"https://wandb.ai/ko120/REINFORCE_Baseline\" target=\"_blank\">https://wandb.ai/ko120/REINFORCE_Baseline</a><br/>\n",
              "                Sweep page: <a href=\"https://wandb.ai/ko120/REINFORCE_Baseline/sweeps/uticyas7\" target=\"_blank\">https://wandb.ai/ko120/REINFORCE_Baseline/sweeps/uticyas7</a><br/>\n",
              "Run page: <a href=\"https://wandb.ai/ko120/REINFORCE_Baseline/runs/lm25e6xm\" target=\"_blank\">https://wandb.ai/ko120/REINFORCE_Baseline/runs/lm25e6xm</a><br/>\n",
              "                Run data is saved locally in <code>/content/wandb/run-20210724_033430-lm25e6xm</code><br/><br/>\n",
              "            "
            ],
            "text/plain": [
              "<IPython.core.display.HTML object>"
            ]
          },
          "metadata": {
            "tags": []
          }
        },
        {
          "output_type": "stream",
          "text": [
            "episode 100 average reward 22.755056258088082, ended at 9.5\n",
            "episode 200 average reward 22.290075668268017, ended at 19.1\n",
            "episode 300 average reward 20.467349903036883, ended at 28.6\n",
            "episode 400 average reward 23.77027599759585, ended at 38.4\n",
            "episode 500 average reward 24.582901600300282, ended at 48.6\n",
            "episode 600 average reward 24.174880418218535, ended at 59.3\n",
            "episode 700 average reward 20.34162753597591, ended at 70.0\n",
            "episode 800 average reward 23.219263106799815, ended at 81.2\n",
            "episode 900 average reward 25.00570940786282, ended at 92.6\n",
            "episode 1000 average reward 26.463142905824547, ended at 105.3\n",
            "episode 1100 average reward 33.32105035740504, ended at 119.3\n",
            "episode 1200 average reward 27.663532473552323, ended at 131.7\n",
            "episode 1300 average reward 27.847474265425127, ended at 144.7\n",
            "episode 1400 average reward 31.60818244389899, ended at 159.4\n",
            "episode 1500 average reward 32.83929558865753, ended at 173.7\n",
            "episode 1600 average reward 36.827648653394355, ended at 189.5\n",
            "episode 1700 average reward 33.392939862009605, ended at 205.9\n",
            "episode 1800 average reward 40.7921593699971, ended at 222.6\n",
            "episode 1900 average reward 36.76358924854509, ended at 238.8\n",
            "episode 2000 average reward 44.65930544983849, ended at 257.7\n",
            "episode 2100 average reward 40.121384815557455, ended at 278.2\n",
            "episode 2200 average reward 46.33134420563867, ended at 299.2\n",
            "episode 2300 average reward 44.65203796416628, ended at 317.8\n",
            "episode 2400 average reward 58.50796744818221, ended at 340.3\n",
            "episode 2500 average reward 49.64133285984791, ended at 363.6\n",
            "episode 2600 average reward 57.34941825487244, ended at 386.6\n",
            "episode 2700 average reward 65.75562722351599, ended at 411.6\n",
            "episode 2800 average reward 64.93065608583522, ended at 440.7\n",
            "episode 2900 average reward 66.30509689956507, ended at 469.5\n",
            "episode 3000 average reward 84.06580614307947, ended at 502.5\n"
          ],
          "name": "stdout"
        },
        {
          "output_type": "display_data",
          "data": {
            "text/html": [
              "<br/>Waiting for W&B process to finish, PID 5497<br/>Program ended successfully."
            ],
            "text/plain": [
              "<IPython.core.display.HTML object>"
            ]
          },
          "metadata": {
            "tags": []
          }
        },
        {
          "output_type": "display_data",
          "data": {
            "application/vnd.jupyter.widget-view+json": {
              "model_id": "3bff61cabea043649736c4d5c130d347",
              "version_major": 2,
              "version_minor": 0
            },
            "text/plain": [
              "VBox(children=(Label(value=' 0.02MB of 0.02MB uploaded (0.00MB deduped)\\r'), FloatProgress(value=1.0, max=1.0)…"
            ]
          },
          "metadata": {
            "tags": []
          }
        },
        {
          "output_type": "display_data",
          "data": {
            "text/html": [
              "Find user logs for this run at: <code>/content/wandb/run-20210724_033430-lm25e6xm/logs/debug.log</code>"
            ],
            "text/plain": [
              "<IPython.core.display.HTML object>"
            ]
          },
          "metadata": {
            "tags": []
          }
        },
        {
          "output_type": "display_data",
          "data": {
            "text/html": [
              "Find internal logs for this run at: <code>/content/wandb/run-20210724_033430-lm25e6xm/logs/debug-internal.log</code>"
            ],
            "text/plain": [
              "<IPython.core.display.HTML object>"
            ]
          },
          "metadata": {
            "tags": []
          }
        },
        {
          "output_type": "display_data",
          "data": {
            "text/html": [
              "<h3>Run summary:</h3><br/><style>\n",
              "    table.wandb td:nth-child(1) { padding: 0 10px; text-align: right }\n",
              "    </style><table class=\"wandb\">\n",
              "<tr><td>episode</td><td>3000</td></tr><tr><td>running_score</td><td>84.06581</td></tr><tr><td>_runtime</td><td>504</td></tr><tr><td>_timestamp</td><td>1627098174</td></tr><tr><td>_step</td><td>2999</td></tr></table>"
            ],
            "text/plain": [
              "<IPython.core.display.HTML object>"
            ]
          },
          "metadata": {
            "tags": []
          }
        },
        {
          "output_type": "display_data",
          "data": {
            "text/html": [
              "<h3>Run history:</h3><br/><style>\n",
              "    table.wandb td:nth-child(1) { padding: 0 10px; text-align: right }\n",
              "    </style><table class=\"wandb\">\n",
              "<tr><td>episode</td><td>▁▁▁▂▂▂▂▂▂▃▃▃▃▃▄▄▄▄▄▄▅▅▅▅▅▅▆▆▆▆▆▇▇▇▇▇▇███</td></tr><tr><td>running_score</td><td>▁▁▁▁▁▁▁▂▂▁▂▂▂▂▃▂▃▃▂▃▃▃▃▄▅▃▄▄▅▄▄▅▆▅▅▅███▇</td></tr><tr><td>_runtime</td><td>▁▁▁▁▁▁▂▂▂▂▂▂▂▂▃▃▃▃▃▃▄▄▄▄▄▄▅▅▅▅▅▆▆▆▆▇▇▇██</td></tr><tr><td>_timestamp</td><td>▁▁▁▁▁▁▂▂▂▂▂▂▂▂▃▃▃▃▃▃▄▄▄▄▄▄▅▅▅▅▅▆▆▆▆▇▇▇██</td></tr><tr><td>_step</td><td>▁▁▁▂▂▂▂▂▂▃▃▃▃▃▄▄▄▄▄▄▅▅▅▅▅▅▆▆▆▆▆▇▇▇▇▇▇███</td></tr></table><br/>"
            ],
            "text/plain": [
              "<IPython.core.display.HTML object>"
            ]
          },
          "metadata": {
            "tags": []
          }
        },
        {
          "output_type": "display_data",
          "data": {
            "text/html": [
              "Synced 5 W&B file(s), 0 media file(s), 0 artifact file(s) and 4 other file(s)"
            ],
            "text/plain": [
              "<IPython.core.display.HTML object>"
            ]
          },
          "metadata": {
            "tags": []
          }
        },
        {
          "output_type": "display_data",
          "data": {
            "text/html": [
              "\n",
              "                    <br/>Synced <strong style=\"color:#cdcd00\">ancient-sweep-10</strong>: <a href=\"https://wandb.ai/ko120/REINFORCE_Baseline/runs/lm25e6xm\" target=\"_blank\">https://wandb.ai/ko120/REINFORCE_Baseline/runs/lm25e6xm</a><br/>\n",
              "                "
            ],
            "text/plain": [
              "<IPython.core.display.HTML object>"
            ]
          },
          "metadata": {
            "tags": []
          }
        },
        {
          "output_type": "stream",
          "text": [
            "\u001b[34m\u001b[1mwandb\u001b[0m: Agent Starting Run: bqp8zx41 with config:\n",
            "\u001b[34m\u001b[1mwandb\u001b[0m: \tlearning: learn_backward\n",
            "\u001b[34m\u001b[1mwandb\u001b[0m: \tlearning_rate: 0.01\n",
            "\u001b[34m\u001b[1mwandb\u001b[0m: \tnorm_return: True\n",
            "\u001b[34m\u001b[1mwandb\u001b[0m: \tnum_neurons: 128\n",
            "\u001b[34m\u001b[1mwandb\u001b[0m: \u001b[33mWARNING\u001b[0m Ignored wandb.init() arg project when running a sweep\n"
          ],
          "name": "stderr"
        },
        {
          "output_type": "display_data",
          "data": {
            "text/html": [
              "\n",
              "                Tracking run with wandb version 0.11.0<br/>\n",
              "                Syncing run <strong style=\"color:#cdcd00\">swept-sweep-11</strong> to <a href=\"https://wandb.ai\" target=\"_blank\">Weights & Biases</a> <a href=\"https://docs.wandb.com/integrations/jupyter.html\" target=\"_blank\">(Documentation)</a>.<br/>\n",
              "                Project page: <a href=\"https://wandb.ai/ko120/REINFORCE_Baseline\" target=\"_blank\">https://wandb.ai/ko120/REINFORCE_Baseline</a><br/>\n",
              "                Sweep page: <a href=\"https://wandb.ai/ko120/REINFORCE_Baseline/sweeps/uticyas7\" target=\"_blank\">https://wandb.ai/ko120/REINFORCE_Baseline/sweeps/uticyas7</a><br/>\n",
              "Run page: <a href=\"https://wandb.ai/ko120/REINFORCE_Baseline/runs/bqp8zx41\" target=\"_blank\">https://wandb.ai/ko120/REINFORCE_Baseline/runs/bqp8zx41</a><br/>\n",
              "                Run data is saved locally in <code>/content/wandb/run-20210724_034300-bqp8zx41</code><br/><br/>\n",
              "            "
            ],
            "text/plain": [
              "<IPython.core.display.HTML object>"
            ]
          },
          "metadata": {
            "tags": []
          }
        },
        {
          "output_type": "stream",
          "text": [
            "episode 100 average reward 19.196979562646145, ended at 13.4\n",
            "episode 200 average reward 9.337644835745538, ended at 17.9\n",
            "episode 300 average reward 9.463881135388034, ended at 22.5\n",
            "episode 400 average reward 9.267472723913471, ended at 27.0\n",
            "episode 500 average reward 9.350072788364566, ended at 31.6\n",
            "episode 600 average reward 9.419099382606548, ended at 36.1\n",
            "episode 700 average reward 104.2876550345088, ended at 51.4\n",
            "episode 800 average reward 9.820702387152165, ended at 55.7\n",
            "episode 900 average reward 10.340543799883376, ended at 61.6\n",
            "episode 1000 average reward 9.17516866270855, ended at 66.0\n",
            "episode 1100 average reward 9.39652111114433, ended at 70.4\n",
            "episode 1200 average reward 9.19356470958293, ended at 74.9\n",
            "episode 1300 average reward 9.485265403802662, ended at 79.3\n",
            "episode 1400 average reward 36.07689849686818, ended at 98.5\n",
            "episode 1500 average reward 53.41821912236184, ended at 124.1\n",
            "episode 1600 average reward 46.00663477564272, ended at 148.1\n",
            "episode 1700 average reward 58.25534685628207, ended at 172.0\n",
            "episode 1800 average reward 10.044066235959063, ended at 182.2\n",
            "episode 1900 average reward 9.334044355981732, ended at 186.7\n",
            "episode 2000 average reward 9.380023783905356, ended at 191.2\n",
            "episode 2100 average reward 9.604065257342393, ended at 195.8\n",
            "episode 2200 average reward 9.29142885218284, ended at 200.3\n",
            "episode 2300 average reward 61.980237867764956, ended at 227.2\n",
            "episode 2400 average reward 12.062446764790932, ended at 239.4\n",
            "episode 2500 average reward 10.076148390129779, ended at 246.7\n",
            "episode 2600 average reward 9.624575890725625, ended at 251.5\n",
            "episode 2700 average reward 9.520455987014573, ended at 256.1\n",
            "episode 2800 average reward 11.384036402527162, ended at 262.7\n",
            "episode 2900 average reward 9.549711913477333, ended at 267.2\n",
            "episode 3000 average reward 9.351636040412531, ended at 271.6\n"
          ],
          "name": "stdout"
        },
        {
          "output_type": "display_data",
          "data": {
            "text/html": [
              "<br/>Waiting for W&B process to finish, PID 5636<br/>Program ended successfully."
            ],
            "text/plain": [
              "<IPython.core.display.HTML object>"
            ]
          },
          "metadata": {
            "tags": []
          }
        },
        {
          "output_type": "display_data",
          "data": {
            "application/vnd.jupyter.widget-view+json": {
              "model_id": "c9db102486354acda5d74617d678738b",
              "version_major": 2,
              "version_minor": 0
            },
            "text/plain": [
              "VBox(children=(Label(value=' 0.02MB of 0.02MB uploaded (0.00MB deduped)\\r'), FloatProgress(value=1.0, max=1.0)…"
            ]
          },
          "metadata": {
            "tags": []
          }
        },
        {
          "output_type": "display_data",
          "data": {
            "text/html": [
              "Find user logs for this run at: <code>/content/wandb/run-20210724_034300-bqp8zx41/logs/debug.log</code>"
            ],
            "text/plain": [
              "<IPython.core.display.HTML object>"
            ]
          },
          "metadata": {
            "tags": []
          }
        },
        {
          "output_type": "display_data",
          "data": {
            "text/html": [
              "Find internal logs for this run at: <code>/content/wandb/run-20210724_034300-bqp8zx41/logs/debug-internal.log</code>"
            ],
            "text/plain": [
              "<IPython.core.display.HTML object>"
            ]
          },
          "metadata": {
            "tags": []
          }
        },
        {
          "output_type": "display_data",
          "data": {
            "text/html": [
              "<h3>Run summary:</h3><br/><style>\n",
              "    table.wandb td:nth-child(1) { padding: 0 10px; text-align: right }\n",
              "    </style><table class=\"wandb\">\n",
              "<tr><td>episode</td><td>3000</td></tr><tr><td>running_score</td><td>9.35164</td></tr><tr><td>_runtime</td><td>274</td></tr><tr><td>_timestamp</td><td>1627098454</td></tr><tr><td>_step</td><td>2999</td></tr></table>"
            ],
            "text/plain": [
              "<IPython.core.display.HTML object>"
            ]
          },
          "metadata": {
            "tags": []
          }
        },
        {
          "output_type": "display_data",
          "data": {
            "text/html": [
              "<h3>Run history:</h3><br/><style>\n",
              "    table.wandb td:nth-child(1) { padding: 0 10px; text-align: right }\n",
              "    </style><table class=\"wandb\">\n",
              "<tr><td>episode</td><td>▁▁▁▂▂▂▂▂▂▃▃▃▃▃▄▄▄▄▄▄▅▅▅▅▅▅▆▆▆▆▆▇▇▇▇▇▇███</td></tr><tr><td>running_score</td><td>▂▂▁▁▁▁▁▁▁█▁▁▁▁▁▁▁▁▅▄▆▄▅▂▁▁▁▁▁▁█▂▂▁▁▁▁▁▁▁</td></tr><tr><td>_runtime</td><td>▁▁▁▁▂▂▂▂▂▂▂▂▃▃▃▃▃▃▃▄▄▅▅▆▆▆▆▆▆▆▇▇▇▇██████</td></tr><tr><td>_timestamp</td><td>▁▁▁▁▂▂▂▂▂▂▂▂▃▃▃▃▃▃▃▄▄▅▅▆▆▆▆▆▆▆▇▇▇▇██████</td></tr><tr><td>_step</td><td>▁▁▁▂▂▂▂▂▂▃▃▃▃▃▄▄▄▄▄▄▅▅▅▅▅▅▆▆▆▆▆▇▇▇▇▇▇███</td></tr></table><br/>"
            ],
            "text/plain": [
              "<IPython.core.display.HTML object>"
            ]
          },
          "metadata": {
            "tags": []
          }
        },
        {
          "output_type": "display_data",
          "data": {
            "text/html": [
              "Synced 5 W&B file(s), 0 media file(s), 0 artifact file(s) and 4 other file(s)"
            ],
            "text/plain": [
              "<IPython.core.display.HTML object>"
            ]
          },
          "metadata": {
            "tags": []
          }
        },
        {
          "output_type": "display_data",
          "data": {
            "text/html": [
              "\n",
              "                    <br/>Synced <strong style=\"color:#cdcd00\">swept-sweep-11</strong>: <a href=\"https://wandb.ai/ko120/REINFORCE_Baseline/runs/bqp8zx41\" target=\"_blank\">https://wandb.ai/ko120/REINFORCE_Baseline/runs/bqp8zx41</a><br/>\n",
              "                "
            ],
            "text/plain": [
              "<IPython.core.display.HTML object>"
            ]
          },
          "metadata": {
            "tags": []
          }
        },
        {
          "output_type": "stream",
          "text": [
            "\u001b[34m\u001b[1mwandb\u001b[0m: Agent Starting Run: rqxnri1k with config:\n",
            "\u001b[34m\u001b[1mwandb\u001b[0m: \tlearning: learn_backward\n",
            "\u001b[34m\u001b[1mwandb\u001b[0m: \tlearning_rate: 0.001\n",
            "\u001b[34m\u001b[1mwandb\u001b[0m: \tnorm_return: True\n",
            "\u001b[34m\u001b[1mwandb\u001b[0m: \tnum_neurons: 128\n",
            "\u001b[34m\u001b[1mwandb\u001b[0m: \u001b[33mWARNING\u001b[0m Ignored wandb.init() arg project when running a sweep\n"
          ],
          "name": "stderr"
        },
        {
          "output_type": "display_data",
          "data": {
            "text/html": [
              "\n",
              "                Tracking run with wandb version 0.11.0<br/>\n",
              "                Syncing run <strong style=\"color:#cdcd00\">misunderstood-sweep-12</strong> to <a href=\"https://wandb.ai\" target=\"_blank\">Weights & Biases</a> <a href=\"https://docs.wandb.com/integrations/jupyter.html\" target=\"_blank\">(Documentation)</a>.<br/>\n",
              "                Project page: <a href=\"https://wandb.ai/ko120/REINFORCE_Baseline\" target=\"_blank\">https://wandb.ai/ko120/REINFORCE_Baseline</a><br/>\n",
              "                Sweep page: <a href=\"https://wandb.ai/ko120/REINFORCE_Baseline/sweeps/uticyas7\" target=\"_blank\">https://wandb.ai/ko120/REINFORCE_Baseline/sweeps/uticyas7</a><br/>\n",
              "Run page: <a href=\"https://wandb.ai/ko120/REINFORCE_Baseline/runs/rqxnri1k\" target=\"_blank\">https://wandb.ai/ko120/REINFORCE_Baseline/runs/rqxnri1k</a><br/>\n",
              "                Run data is saved locally in <code>/content/wandb/run-20210724_034740-rqxnri1k</code><br/><br/>\n",
              "            "
            ],
            "text/plain": [
              "<IPython.core.display.HTML object>"
            ]
          },
          "metadata": {
            "tags": []
          }
        },
        {
          "output_type": "stream",
          "text": [
            "episode 100 average reward 163.9298319715372, ended at 50.1\n",
            "episode 200 average reward 339.6923098700983, ended at 183.7\n",
            "episode 300 average reward 85.9202855896491, ended at 259.0\n",
            "episode 400 average reward 142.5477230992821, ended at 359.4\n",
            "episode 500 average reward 127.17007386264035, ended at 416.4\n",
            "episode 600 average reward 287.4886190783078, ended at 536.9\n",
            "episode 700 average reward 157.7739697281776, ended at 648.6\n",
            "episode 800 average reward 232.35122190541327, ended at 738.1\n",
            "episode 900 average reward 426.25109595704896, ended at 926.3\n",
            "episode 1000 average reward 337.9217904849235, ended at 1127.2\n",
            "episode 1100 average reward 474.09810144849433, ended at 1322.9\n",
            "episode 1200 average reward 470.78134851223393, ended at 1511.0\n",
            "episode 1300 average reward 294.94477801344635, ended at 1708.7\n",
            "episode 1400 average reward 194.75920404450915, ended at 1804.7\n",
            "episode 1500 average reward 321.9992585837499, ended at 1941.0\n",
            "episode 1600 average reward 409.4277922283893, ended at 2101.7\n",
            "episode 1700 average reward 356.78789322019776, ended at 2301.4\n",
            "episode 1800 average reward 444.19193369531024, ended at 2492.2\n",
            "episode 1900 average reward 427.44060611077987, ended at 2676.7\n",
            "episode 2000 average reward 355.86048961449177, ended at 2844.3\n",
            "episode 2100 average reward 442.3962935613614, ended at 3049.4\n",
            "episode 2200 average reward 267.18767193327045, ended at 3209.0\n",
            "episode 2300 average reward 475.63510069277964, ended at 3368.0\n",
            "episode 2400 average reward 474.0353776557674, ended at 3589.9\n",
            "episode 2500 average reward 486.2126997441204, ended at 3810.8\n",
            "episode 2600 average reward 383.44765270888666, ended at 4013.1\n",
            "episode 2700 average reward 491.67725074368303, ended at 4230.2\n",
            "episode 2800 average reward 474.64217473568704, ended at 4438.3\n",
            "episode 2900 average reward 481.0899409810546, ended at 4649.1\n",
            "episode 3000 average reward 484.2416543933738, ended at 4858.8\n"
          ],
          "name": "stdout"
        },
        {
          "output_type": "display_data",
          "data": {
            "text/html": [
              "<br/>Waiting for W&B process to finish, PID 5729<br/>Program ended successfully."
            ],
            "text/plain": [
              "<IPython.core.display.HTML object>"
            ]
          },
          "metadata": {
            "tags": []
          }
        },
        {
          "output_type": "display_data",
          "data": {
            "application/vnd.jupyter.widget-view+json": {
              "model_id": "96b5fbae76644281b0d155139ec743b6",
              "version_major": 2,
              "version_minor": 0
            },
            "text/plain": [
              "VBox(children=(Label(value=' 0.02MB of 0.02MB uploaded (0.00MB deduped)\\r'), FloatProgress(value=1.0, max=1.0)…"
            ]
          },
          "metadata": {
            "tags": []
          }
        },
        {
          "output_type": "display_data",
          "data": {
            "text/html": [
              "Find user logs for this run at: <code>/content/wandb/run-20210724_034740-rqxnri1k/logs/debug.log</code>"
            ],
            "text/plain": [
              "<IPython.core.display.HTML object>"
            ]
          },
          "metadata": {
            "tags": []
          }
        },
        {
          "output_type": "display_data",
          "data": {
            "text/html": [
              "Find internal logs for this run at: <code>/content/wandb/run-20210724_034740-rqxnri1k/logs/debug-internal.log</code>"
            ],
            "text/plain": [
              "<IPython.core.display.HTML object>"
            ]
          },
          "metadata": {
            "tags": []
          }
        },
        {
          "output_type": "display_data",
          "data": {
            "text/html": [
              "<h3>Run summary:</h3><br/><style>\n",
              "    table.wandb td:nth-child(1) { padding: 0 10px; text-align: right }\n",
              "    </style><table class=\"wandb\">\n",
              "<tr><td>episode</td><td>3000</td></tr><tr><td>running_score</td><td>484.24165</td></tr><tr><td>_runtime</td><td>4861</td></tr><tr><td>_timestamp</td><td>1627103321</td></tr><tr><td>_step</td><td>3000</td></tr></table>"
            ],
            "text/plain": [
              "<IPython.core.display.HTML object>"
            ]
          },
          "metadata": {
            "tags": []
          }
        },
        {
          "output_type": "display_data",
          "data": {
            "text/html": [
              "<h3>Run history:</h3><br/><style>\n",
              "    table.wandb td:nth-child(1) { padding: 0 10px; text-align: right }\n",
              "    </style><table class=\"wandb\">\n",
              "<tr><td>episode</td><td>▁▁▁▂▂▂▂▂▂▃▃▃▃▃▄▄▄▄▄▄▅▅▅▅▅▅▆▆▆▆▆▇▇▇▇▇▇███</td></tr><tr><td>running_score</td><td>▁▃▅▄▅▃▂▄▅▃▃▆█▇▇▇█▅▄▄▅▇█▆▇▇▆█▆▄▇███▇▇█▇█▇</td></tr><tr><td>_runtime</td><td>▁▁▁▁▁▂▂▂▂▂▂▂▂▃▃▃▃▄▄▄▄▄▄▅▅▅▅▅▆▆▆▆▆▇▇▇▇███</td></tr><tr><td>_timestamp</td><td>▁▁▁▁▁▂▂▂▂▂▂▂▂▃▃▃▃▄▄▄▄▄▄▅▅▅▅▅▆▆▆▆▆▇▇▇▇███</td></tr><tr><td>_step</td><td>▁▁▁▂▂▂▂▂▂▃▃▃▃▃▄▄▄▄▄▄▅▅▅▅▅▅▆▆▆▆▆▇▇▇▇▇▇███</td></tr></table><br/>"
            ],
            "text/plain": [
              "<IPython.core.display.HTML object>"
            ]
          },
          "metadata": {
            "tags": []
          }
        },
        {
          "output_type": "display_data",
          "data": {
            "text/html": [
              "Synced 5 W&B file(s), 0 media file(s), 0 artifact file(s) and 4 other file(s)"
            ],
            "text/plain": [
              "<IPython.core.display.HTML object>"
            ]
          },
          "metadata": {
            "tags": []
          }
        },
        {
          "output_type": "display_data",
          "data": {
            "text/html": [
              "\n",
              "                    <br/>Synced <strong style=\"color:#cdcd00\">misunderstood-sweep-12</strong>: <a href=\"https://wandb.ai/ko120/REINFORCE_Baseline/runs/rqxnri1k\" target=\"_blank\">https://wandb.ai/ko120/REINFORCE_Baseline/runs/rqxnri1k</a><br/>\n",
              "                "
            ],
            "text/plain": [
              "<IPython.core.display.HTML object>"
            ]
          },
          "metadata": {
            "tags": []
          }
        },
        {
          "output_type": "stream",
          "text": [
            "\u001b[34m\u001b[1mwandb\u001b[0m: Agent Starting Run: fpx5mc1h with config:\n",
            "\u001b[34m\u001b[1mwandb\u001b[0m: \tlearning: learn_backward\n",
            "\u001b[34m\u001b[1mwandb\u001b[0m: \tlearning_rate: 0.0001\n",
            "\u001b[34m\u001b[1mwandb\u001b[0m: \tnorm_return: True\n",
            "\u001b[34m\u001b[1mwandb\u001b[0m: \tnum_neurons: 128\n",
            "\u001b[34m\u001b[1mwandb\u001b[0m: \u001b[33mWARNING\u001b[0m Ignored wandb.init() arg project when running a sweep\n"
          ],
          "name": "stderr"
        },
        {
          "output_type": "display_data",
          "data": {
            "text/html": [
              "\n",
              "                Tracking run with wandb version 0.11.0<br/>\n",
              "                Syncing run <strong style=\"color:#cdcd00\">fiery-sweep-13</strong> to <a href=\"https://wandb.ai\" target=\"_blank\">Weights & Biases</a> <a href=\"https://docs.wandb.com/integrations/jupyter.html\" target=\"_blank\">(Documentation)</a>.<br/>\n",
              "                Project page: <a href=\"https://wandb.ai/ko120/REINFORCE_Baseline\" target=\"_blank\">https://wandb.ai/ko120/REINFORCE_Baseline</a><br/>\n",
              "                Sweep page: <a href=\"https://wandb.ai/ko120/REINFORCE_Baseline/sweeps/uticyas7\" target=\"_blank\">https://wandb.ai/ko120/REINFORCE_Baseline/sweeps/uticyas7</a><br/>\n",
              "Run page: <a href=\"https://wandb.ai/ko120/REINFORCE_Baseline/runs/fpx5mc1h\" target=\"_blank\">https://wandb.ai/ko120/REINFORCE_Baseline/runs/fpx5mc1h</a><br/>\n",
              "                Run data is saved locally in <code>/content/wandb/run-20210724_050847-fpx5mc1h</code><br/><br/>\n",
              "            "
            ],
            "text/plain": [
              "<IPython.core.display.HTML object>"
            ]
          },
          "metadata": {
            "tags": []
          }
        },
        {
          "output_type": "stream",
          "text": [
            "episode 100 average reward 24.689141419694522, ended at 10.3\n",
            "episode 200 average reward 34.90406674145161, ended at 24.3\n",
            "episode 300 average reward 56.62398348096365, ended at 45.4\n",
            "episode 400 average reward 144.38492501072247, ended at 98.6\n",
            "episode 500 average reward 247.51447438217667, ended at 209.3\n",
            "episode 600 average reward 447.0566194718332, ended at 376.8\n",
            "episode 700 average reward 468.0126120562754, ended at 581.0\n",
            "episode 800 average reward 488.6458957611719, ended at 789.6\n",
            "episode 900 average reward 481.94793260694524, ended at 1008.4\n",
            "episode 1000 average reward 482.3242167624411, ended at 1227.6\n",
            "episode 1100 average reward 480.40484197362144, ended at 1446.6\n",
            "episode 1200 average reward 495.10992796658417, ended at 1667.3\n",
            "episode 1300 average reward 487.1112474720673, ended at 1887.4\n",
            "episode 1400 average reward 486.0135953877326, ended at 2107.1\n",
            "episode 1500 average reward 489.7851471714744, ended at 2329.9\n",
            "episode 1600 average reward 456.5824013274805, ended at 2544.9\n",
            "episode 1700 average reward 482.32422845032886, ended at 2762.9\n",
            "episode 1800 average reward 494.2776347207607, ended at 2987.2\n",
            "episode 1900 average reward 494.1969641194305, ended at 3208.3\n",
            "episode 2000 average reward 480.80849217075445, ended at 3414.9\n",
            "episode 2100 average reward 487.581102001317, ended at 3633.0\n",
            "episode 2200 average reward 476.6814434017872, ended at 3851.0\n",
            "episode 2300 average reward 456.3358138423154, ended at 4064.3\n",
            "episode 2400 average reward 452.1880487783394, ended at 4273.1\n",
            "episode 2500 average reward 491.32342500047486, ended at 4488.4\n",
            "episode 2600 average reward 484.9335516696221, ended at 4706.7\n",
            "episode 2700 average reward 486.18424772075645, ended at 4916.2\n",
            "episode 2800 average reward 457.02267690396917, ended at 5121.7\n",
            "episode 2900 average reward 432.9028400512971, ended at 5329.1\n",
            "episode 3000 average reward 488.89432545643376, ended at 5553.7\n"
          ],
          "name": "stdout"
        },
        {
          "output_type": "display_data",
          "data": {
            "text/html": [
              "<br/>Waiting for W&B process to finish, PID 6722<br/>Program ended successfully."
            ],
            "text/plain": [
              "<IPython.core.display.HTML object>"
            ]
          },
          "metadata": {
            "tags": []
          }
        },
        {
          "output_type": "display_data",
          "data": {
            "application/vnd.jupyter.widget-view+json": {
              "model_id": "438f4e1ed1554df1bc2f9c7cb01898f5",
              "version_major": 2,
              "version_minor": 0
            },
            "text/plain": [
              "VBox(children=(Label(value=' 0.02MB of 0.02MB uploaded (0.00MB deduped)\\r'), FloatProgress(value=1.0, max=1.0)…"
            ]
          },
          "metadata": {
            "tags": []
          }
        },
        {
          "output_type": "display_data",
          "data": {
            "text/html": [
              "Find user logs for this run at: <code>/content/wandb/run-20210724_050847-fpx5mc1h/logs/debug.log</code>"
            ],
            "text/plain": [
              "<IPython.core.display.HTML object>"
            ]
          },
          "metadata": {
            "tags": []
          }
        },
        {
          "output_type": "display_data",
          "data": {
            "text/html": [
              "Find internal logs for this run at: <code>/content/wandb/run-20210724_050847-fpx5mc1h/logs/debug-internal.log</code>"
            ],
            "text/plain": [
              "<IPython.core.display.HTML object>"
            ]
          },
          "metadata": {
            "tags": []
          }
        },
        {
          "output_type": "display_data",
          "data": {
            "text/html": [
              "<h3>Run summary:</h3><br/><style>\n",
              "    table.wandb td:nth-child(1) { padding: 0 10px; text-align: right }\n",
              "    </style><table class=\"wandb\">\n",
              "<tr><td>episode</td><td>3000</td></tr><tr><td>running_score</td><td>488.89433</td></tr><tr><td>_runtime</td><td>5555</td></tr><tr><td>_timestamp</td><td>1627108882</td></tr><tr><td>_step</td><td>2999</td></tr></table>"
            ],
            "text/plain": [
              "<IPython.core.display.HTML object>"
            ]
          },
          "metadata": {
            "tags": []
          }
        },
        {
          "output_type": "display_data",
          "data": {
            "text/html": [
              "<h3>Run history:</h3><br/><style>\n",
              "    table.wandb td:nth-child(1) { padding: 0 10px; text-align: right }\n",
              "    </style><table class=\"wandb\">\n",
              "<tr><td>episode</td><td>▁▁▁▂▂▂▂▂▂▃▃▃▃▃▄▄▄▄▄▄▅▅▅▅▅▅▆▆▆▆▆▇▇▇▇▇▇███</td></tr><tr><td>running_score</td><td>▁▁▁▁▂▃▄▅▇█▇██████████▇▇███▇███▇▇▇█████▇█</td></tr><tr><td>_runtime</td><td>▁▁▁▁▁▁▁▁▁▂▂▂▂▃▃▃▃▃▄▄▄▄▄▅▅▅▅▅▆▆▆▆▇▇▇▇▇███</td></tr><tr><td>_timestamp</td><td>▁▁▁▁▁▁▁▁▁▂▂▂▂▃▃▃▃▃▄▄▄▄▄▅▅▅▅▅▆▆▆▆▇▇▇▇▇███</td></tr><tr><td>_step</td><td>▁▁▁▂▂▂▂▂▂▃▃▃▃▃▄▄▄▄▄▄▅▅▅▅▅▅▆▆▆▆▆▇▇▇▇▇▇███</td></tr></table><br/>"
            ],
            "text/plain": [
              "<IPython.core.display.HTML object>"
            ]
          },
          "metadata": {
            "tags": []
          }
        },
        {
          "output_type": "display_data",
          "data": {
            "text/html": [
              "Synced 5 W&B file(s), 0 media file(s), 0 artifact file(s) and 4 other file(s)"
            ],
            "text/plain": [
              "<IPython.core.display.HTML object>"
            ]
          },
          "metadata": {
            "tags": []
          }
        },
        {
          "output_type": "display_data",
          "data": {
            "text/html": [
              "\n",
              "                    <br/>Synced <strong style=\"color:#cdcd00\">fiery-sweep-13</strong>: <a href=\"https://wandb.ai/ko120/REINFORCE_Baseline/runs/fpx5mc1h\" target=\"_blank\">https://wandb.ai/ko120/REINFORCE_Baseline/runs/fpx5mc1h</a><br/>\n",
              "                "
            ],
            "text/plain": [
              "<IPython.core.display.HTML object>"
            ]
          },
          "metadata": {
            "tags": []
          }
        },
        {
          "output_type": "stream",
          "text": [
            "\u001b[34m\u001b[1mwandb\u001b[0m: Agent Starting Run: 3h3ipum3 with config:\n",
            "\u001b[34m\u001b[1mwandb\u001b[0m: \tlearning: learn_backward\n",
            "\u001b[34m\u001b[1mwandb\u001b[0m: \tlearning_rate: 0.0003\n",
            "\u001b[34m\u001b[1mwandb\u001b[0m: \tnorm_return: True\n",
            "\u001b[34m\u001b[1mwandb\u001b[0m: \tnum_neurons: 128\n",
            "\u001b[34m\u001b[1mwandb\u001b[0m: \u001b[33mWARNING\u001b[0m Ignored wandb.init() arg project when running a sweep\n"
          ],
          "name": "stderr"
        },
        {
          "output_type": "display_data",
          "data": {
            "text/html": [
              "\n",
              "                Tracking run with wandb version 0.11.0<br/>\n",
              "                Syncing run <strong style=\"color:#cdcd00\">exalted-sweep-14</strong> to <a href=\"https://wandb.ai\" target=\"_blank\">Weights & Biases</a> <a href=\"https://docs.wandb.com/integrations/jupyter.html\" target=\"_blank\">(Documentation)</a>.<br/>\n",
              "                Project page: <a href=\"https://wandb.ai/ko120/REINFORCE_Baseline\" target=\"_blank\">https://wandb.ai/ko120/REINFORCE_Baseline</a><br/>\n",
              "                Sweep page: <a href=\"https://wandb.ai/ko120/REINFORCE_Baseline/sweeps/uticyas7\" target=\"_blank\">https://wandb.ai/ko120/REINFORCE_Baseline/sweeps/uticyas7</a><br/>\n",
              "Run page: <a href=\"https://wandb.ai/ko120/REINFORCE_Baseline/runs/3h3ipum3\" target=\"_blank\">https://wandb.ai/ko120/REINFORCE_Baseline/runs/3h3ipum3</a><br/>\n",
              "                Run data is saved locally in <code>/content/wandb/run-20210724_064129-3h3ipum3</code><br/><br/>\n",
              "            "
            ],
            "text/plain": [
              "<IPython.core.display.HTML object>"
            ]
          },
          "metadata": {
            "tags": []
          }
        },
        {
          "output_type": "stream",
          "text": [
            "episode 100 average reward 42.671742125498355, ended at 15.9\n",
            "episode 200 average reward 139.61590714070144, ended at 61.6\n",
            "episode 300 average reward 428.12800250025714, ended at 221.8\n",
            "episode 400 average reward 344.768381417998, ended at 410.7\n",
            "episode 500 average reward 466.9988913003535, ended at 607.6\n",
            "episode 600 average reward 263.1214076511686, ended at 767.1\n",
            "episode 700 average reward 480.88463844804613, ended at 981.5\n",
            "episode 800 average reward 484.18586212928983, ended at 1200.0\n",
            "episode 900 average reward 487.82916104439124, ended at 1419.0\n",
            "episode 1000 average reward 481.1407991871439, ended at 1631.7\n",
            "episode 1100 average reward 477.10430386965714, ended at 1844.5\n",
            "episode 1200 average reward 483.6666163809662, ended at 2048.7\n",
            "episode 1300 average reward 479.0354244846262, ended at 2254.6\n",
            "episode 1400 average reward 468.7960131024215, ended at 2455.0\n",
            "episode 1500 average reward 490.50380613900467, ended at 2672.5\n",
            "episode 1600 average reward 460.71357383483013, ended at 2886.3\n",
            "episode 1700 average reward 498.65074557944575, ended at 3105.8\n",
            "episode 1800 average reward 456.71053479121866, ended at 3318.7\n",
            "episode 1900 average reward 495.4517439490031, ended at 3531.8\n",
            "episode 2000 average reward 498.2496947856488, ended at 3748.1\n",
            "episode 2100 average reward 499.9896372668334, ended at 3969.2\n",
            "episode 2200 average reward 452.89368965329214, ended at 4178.7\n",
            "episode 2300 average reward 445.7512123887164, ended at 4382.0\n",
            "episode 2400 average reward 488.44686447880486, ended at 4600.1\n",
            "episode 2500 average reward 485.4862574454422, ended at 4810.5\n",
            "episode 2600 average reward 458.36814642828807, ended at 5024.4\n",
            "episode 2700 average reward 457.6795069967756, ended at 5225.0\n",
            "episode 2800 average reward 471.08561304501814, ended at 5430.0\n",
            "episode 2900 average reward 454.0465777854367, ended at 5645.6\n",
            "episode 3000 average reward 497.5898834347618, ended at 5869.6\n"
          ],
          "name": "stdout"
        },
        {
          "output_type": "display_data",
          "data": {
            "text/html": [
              "<br/>Waiting for W&B process to finish, PID 7849<br/>Program ended successfully."
            ],
            "text/plain": [
              "<IPython.core.display.HTML object>"
            ]
          },
          "metadata": {
            "tags": []
          }
        },
        {
          "output_type": "display_data",
          "data": {
            "application/vnd.jupyter.widget-view+json": {
              "model_id": "4acd7d4727d8415691a8ebf0a8518b7e",
              "version_major": 2,
              "version_minor": 0
            },
            "text/plain": [
              "VBox(children=(Label(value=' 0.02MB of 0.02MB uploaded (0.00MB deduped)\\r'), FloatProgress(value=1.0, max=1.0)…"
            ]
          },
          "metadata": {
            "tags": []
          }
        },
        {
          "output_type": "display_data",
          "data": {
            "text/html": [
              "Find user logs for this run at: <code>/content/wandb/run-20210724_064129-3h3ipum3/logs/debug.log</code>"
            ],
            "text/plain": [
              "<IPython.core.display.HTML object>"
            ]
          },
          "metadata": {
            "tags": []
          }
        },
        {
          "output_type": "display_data",
          "data": {
            "text/html": [
              "Find internal logs for this run at: <code>/content/wandb/run-20210724_064129-3h3ipum3/logs/debug-internal.log</code>"
            ],
            "text/plain": [
              "<IPython.core.display.HTML object>"
            ]
          },
          "metadata": {
            "tags": []
          }
        },
        {
          "output_type": "display_data",
          "data": {
            "text/html": [
              "<h3>Run summary:</h3><br/><style>\n",
              "    table.wandb td:nth-child(1) { padding: 0 10px; text-align: right }\n",
              "    </style><table class=\"wandb\">\n",
              "<tr><td>episode</td><td>3000</td></tr><tr><td>running_score</td><td>497.58988</td></tr><tr><td>_runtime</td><td>5873</td></tr><tr><td>_timestamp</td><td>1627114762</td></tr><tr><td>_step</td><td>3000</td></tr></table>"
            ],
            "text/plain": [
              "<IPython.core.display.HTML object>"
            ]
          },
          "metadata": {
            "tags": []
          }
        },
        {
          "output_type": "display_data",
          "data": {
            "text/html": [
              "<h3>Run history:</h3><br/><style>\n",
              "    table.wandb td:nth-child(1) { padding: 0 10px; text-align: right }\n",
              "    </style><table class=\"wandb\">\n",
              "<tr><td>episode</td><td>▁▁▁▂▂▂▂▂▂▃▃▃▃▃▄▄▄▄▄▄▅▅▅▅▅▅▆▆▆▆▆▇▇▇▇▇▇███</td></tr><tr><td>running_score</td><td>▁▁▂▆▇▇▇▇▆██████▇██▇██▇████████▇███▇█▇███</td></tr><tr><td>_runtime</td><td>▁▁▁▁▁▁▂▂▂▂▂▃▃▃▃▃▄▄▄▄▄▄▅▅▅▅▅▆▆▆▆▆▇▇▇▇▇███</td></tr><tr><td>_timestamp</td><td>▁▁▁▁▁▁▂▂▂▂▂▃▃▃▃▃▄▄▄▄▄▄▅▅▅▅▅▆▆▆▆▆▇▇▇▇▇███</td></tr><tr><td>_step</td><td>▁▁▁▂▂▂▂▂▂▃▃▃▃▃▄▄▄▄▄▄▅▅▅▅▅▅▆▆▆▆▆▇▇▇▇▇▇███</td></tr></table><br/>"
            ],
            "text/plain": [
              "<IPython.core.display.HTML object>"
            ]
          },
          "metadata": {
            "tags": []
          }
        },
        {
          "output_type": "display_data",
          "data": {
            "text/html": [
              "Synced 5 W&B file(s), 0 media file(s), 0 artifact file(s) and 4 other file(s)"
            ],
            "text/plain": [
              "<IPython.core.display.HTML object>"
            ]
          },
          "metadata": {
            "tags": []
          }
        },
        {
          "output_type": "display_data",
          "data": {
            "text/html": [
              "\n",
              "                    <br/>Synced <strong style=\"color:#cdcd00\">exalted-sweep-14</strong>: <a href=\"https://wandb.ai/ko120/REINFORCE_Baseline/runs/3h3ipum3\" target=\"_blank\">https://wandb.ai/ko120/REINFORCE_Baseline/runs/3h3ipum3</a><br/>\n",
              "                "
            ],
            "text/plain": [
              "<IPython.core.display.HTML object>"
            ]
          },
          "metadata": {
            "tags": []
          }
        },
        {
          "output_type": "stream",
          "text": [
            "\u001b[34m\u001b[1mwandb\u001b[0m: Agent Starting Run: 7urrzckl with config:\n",
            "\u001b[34m\u001b[1mwandb\u001b[0m: \tlearning: learn_backward\n",
            "\u001b[34m\u001b[1mwandb\u001b[0m: \tlearning_rate: 1e-05\n",
            "\u001b[34m\u001b[1mwandb\u001b[0m: \tnorm_return: True\n",
            "\u001b[34m\u001b[1mwandb\u001b[0m: \tnum_neurons: 128\n",
            "\u001b[34m\u001b[1mwandb\u001b[0m: \u001b[33mWARNING\u001b[0m Ignored wandb.init() arg project when running a sweep\n"
          ],
          "name": "stderr"
        },
        {
          "output_type": "display_data",
          "data": {
            "text/html": [
              "\n",
              "                Tracking run with wandb version 0.11.0<br/>\n",
              "                Syncing run <strong style=\"color:#cdcd00\">bright-sweep-15</strong> to <a href=\"https://wandb.ai\" target=\"_blank\">Weights & Biases</a> <a href=\"https://docs.wandb.com/integrations/jupyter.html\" target=\"_blank\">(Documentation)</a>.<br/>\n",
              "                Project page: <a href=\"https://wandb.ai/ko120/REINFORCE_Baseline\" target=\"_blank\">https://wandb.ai/ko120/REINFORCE_Baseline</a><br/>\n",
              "                Sweep page: <a href=\"https://wandb.ai/ko120/REINFORCE_Baseline/sweeps/uticyas7\" target=\"_blank\">https://wandb.ai/ko120/REINFORCE_Baseline/sweeps/uticyas7</a><br/>\n",
              "Run page: <a href=\"https://wandb.ai/ko120/REINFORCE_Baseline/runs/7urrzckl\" target=\"_blank\">https://wandb.ai/ko120/REINFORCE_Baseline/runs/7urrzckl</a><br/>\n",
              "                Run data is saved locally in <code>/content/wandb/run-20210724_081927-7urrzckl</code><br/><br/>\n",
              "            "
            ],
            "text/plain": [
              "<IPython.core.display.HTML object>"
            ]
          },
          "metadata": {
            "tags": []
          }
        },
        {
          "output_type": "stream",
          "text": [
            "episode 100 average reward 22.755056258088082, ended at 9.8\n",
            "episode 200 average reward 22.290075668268017, ended at 20.0\n",
            "episode 300 average reward 18.065510604768143, ended at 29.8\n",
            "episode 400 average reward 23.844039612709008, ended at 41.1\n",
            "episode 500 average reward 27.368024955917125, ended at 53.9\n",
            "episode 600 average reward 29.092309375654686, ended at 66.6\n",
            "episode 700 average reward 24.627655672379724, ended at 79.3\n",
            "episode 800 average reward 25.093283083045897, ended at 91.5\n",
            "episode 900 average reward 27.507672337342314, ended at 104.5\n",
            "episode 1000 average reward 27.85420258490636, ended at 117.2\n",
            "episode 1100 average reward 28.44699977824292, ended at 131.2\n",
            "episode 1200 average reward 25.674642547149496, ended at 143.6\n",
            "episode 1300 average reward 39.10251351900882, ended at 159.6\n",
            "episode 1400 average reward 28.777853219849504, ended at 174.1\n",
            "episode 1500 average reward 32.71761911911992, ended at 189.7\n",
            "episode 1600 average reward 34.41307239995592, ended at 205.9\n",
            "episode 1700 average reward 32.03871129693288, ended at 221.3\n",
            "episode 1800 average reward 36.52225784994255, ended at 239.1\n",
            "episode 1900 average reward 45.338635273406645, ended at 257.1\n",
            "episode 2000 average reward 33.864198091035576, ended at 275.2\n",
            "episode 2100 average reward 45.58374762371866, ended at 293.9\n",
            "episode 2200 average reward 45.96471863137417, ended at 313.7\n",
            "episode 2300 average reward 52.53112567941047, ended at 336.0\n",
            "episode 2400 average reward 41.038664319596705, ended at 357.0\n",
            "episode 2500 average reward 50.964194898844625, ended at 380.8\n",
            "episode 2600 average reward 56.85170322619208, ended at 405.8\n",
            "episode 2700 average reward 61.924396726549766, ended at 430.3\n",
            "episode 2800 average reward 62.07632077613315, ended at 459.4\n",
            "episode 2900 average reward 56.568074716503084, ended at 488.8\n",
            "episode 3000 average reward 68.95100238880818, ended at 519.0\n"
          ],
          "name": "stdout"
        },
        {
          "output_type": "display_data",
          "data": {
            "text/html": [
              "<br/>Waiting for W&B process to finish, PID 9038<br/>Program ended successfully."
            ],
            "text/plain": [
              "<IPython.core.display.HTML object>"
            ]
          },
          "metadata": {
            "tags": []
          }
        },
        {
          "output_type": "display_data",
          "data": {
            "application/vnd.jupyter.widget-view+json": {
              "model_id": "f9ebab42d6244fbfafdbf6ab68e3f6be",
              "version_major": 2,
              "version_minor": 0
            },
            "text/plain": [
              "VBox(children=(Label(value=' 0.02MB of 0.02MB uploaded (0.00MB deduped)\\r'), FloatProgress(value=1.0, max=1.0)…"
            ]
          },
          "metadata": {
            "tags": []
          }
        },
        {
          "output_type": "display_data",
          "data": {
            "text/html": [
              "Find user logs for this run at: <code>/content/wandb/run-20210724_081927-7urrzckl/logs/debug.log</code>"
            ],
            "text/plain": [
              "<IPython.core.display.HTML object>"
            ]
          },
          "metadata": {
            "tags": []
          }
        },
        {
          "output_type": "display_data",
          "data": {
            "text/html": [
              "Find internal logs for this run at: <code>/content/wandb/run-20210724_081927-7urrzckl/logs/debug-internal.log</code>"
            ],
            "text/plain": [
              "<IPython.core.display.HTML object>"
            ]
          },
          "metadata": {
            "tags": []
          }
        },
        {
          "output_type": "display_data",
          "data": {
            "text/html": [
              "<h3>Run summary:</h3><br/><style>\n",
              "    table.wandb td:nth-child(1) { padding: 0 10px; text-align: right }\n",
              "    </style><table class=\"wandb\">\n",
              "<tr><td>episode</td><td>3000</td></tr><tr><td>running_score</td><td>68.951</td></tr><tr><td>_runtime</td><td>522</td></tr><tr><td>_timestamp</td><td>1627115289</td></tr><tr><td>_step</td><td>2999</td></tr></table>"
            ],
            "text/plain": [
              "<IPython.core.display.HTML object>"
            ]
          },
          "metadata": {
            "tags": []
          }
        },
        {
          "output_type": "display_data",
          "data": {
            "text/html": [
              "<h3>Run history:</h3><br/><style>\n",
              "    table.wandb td:nth-child(1) { padding: 0 10px; text-align: right }\n",
              "    </style><table class=\"wandb\">\n",
              "<tr><td>episode</td><td>▁▁▁▂▂▂▂▂▂▃▃▃▃▃▄▄▄▄▄▄▅▅▅▅▅▅▆▆▆▆▆▇▇▇▇▇▇███</td></tr><tr><td>running_score</td><td>▁▁▁▁▂▁▂▂▂▂▂▂▂▂▃▂▂▃▃▂▃▃▃▄▃▅▄▃▄▄▅▅▅▆▄▅█▇▇█</td></tr><tr><td>_runtime</td><td>▁▁▁▁▁▁▂▂▂▂▂▂▂▃▃▃▃▃▃▃▄▄▄▄▄▄▅▅▅▅▅▆▆▆▇▇▇▇██</td></tr><tr><td>_timestamp</td><td>▁▁▁▁▁▁▂▂▂▂▂▂▂▃▃▃▃▃▃▃▄▄▄▄▄▄▅▅▅▅▅▆▆▆▇▇▇▇██</td></tr><tr><td>_step</td><td>▁▁▁▂▂▂▂▂▂▃▃▃▃▃▄▄▄▄▄▄▅▅▅▅▅▅▆▆▆▆▆▇▇▇▇▇▇███</td></tr></table><br/>"
            ],
            "text/plain": [
              "<IPython.core.display.HTML object>"
            ]
          },
          "metadata": {
            "tags": []
          }
        },
        {
          "output_type": "display_data",
          "data": {
            "text/html": [
              "Synced 5 W&B file(s), 0 media file(s), 0 artifact file(s) and 4 other file(s)"
            ],
            "text/plain": [
              "<IPython.core.display.HTML object>"
            ]
          },
          "metadata": {
            "tags": []
          }
        },
        {
          "output_type": "display_data",
          "data": {
            "text/html": [
              "\n",
              "                    <br/>Synced <strong style=\"color:#cdcd00\">bright-sweep-15</strong>: <a href=\"https://wandb.ai/ko120/REINFORCE_Baseline/runs/7urrzckl\" target=\"_blank\">https://wandb.ai/ko120/REINFORCE_Baseline/runs/7urrzckl</a><br/>\n",
              "                "
            ],
            "text/plain": [
              "<IPython.core.display.HTML object>"
            ]
          },
          "metadata": {
            "tags": []
          }
        },
        {
          "output_type": "stream",
          "text": [
            "\u001b[34m\u001b[1mwandb\u001b[0m: Sweep Agent: Waiting for job.\n",
            "\u001b[34m\u001b[1mwandb\u001b[0m: Sweep Agent: Exiting.\n"
          ],
          "name": "stderr"
        }
      ]
    },
    {
      "cell_type": "markdown",
      "metadata": {
        "id": "Cp_j3nWpd1W6"
      },
      "source": [
        "# You can see the result here!\n",
        "[Report Link](https://wandb.ai/ko120/REINFORCE_Baseline/reports/REINFORCE-with-Baseline-forward-and-backward--Vmlldzo4NzM4ODE)"
      ]
    }
  ]
}